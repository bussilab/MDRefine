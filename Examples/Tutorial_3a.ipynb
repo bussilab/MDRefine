{
 "cells": [
  {
   "cell_type": "markdown",
   "metadata": {},
   "source": [
    "# Nested cross-validation"
   ]
  },
  {
   "cell_type": "markdown",
   "metadata": {},
   "source": [
    "Take a subset of observables and frames as a test set and \"train\" the model on the remaining set (namely, determine the optimal hyperparameters, as described in the previous notebooks, and then minimize the loss function at the optimal hyperparameters) - external splitting. Then, compute the $\\chi^2$ on the test set at the optimal solution found by `MDRefinement` on the (external) training set.\n",
    "\n",
    "We remind you to have a look at our paper https://arxiv.org/pdf/2411.07798 and at the documentation https://www.bussilab.org/doc-MDRefine/MDRefine/index.html.\n",
    "\n",
    "Required assistance may be opened at https://github.com/bussilab/MDRefine/issues."
   ]
  },
  {
   "cell_type": "code",
   "execution_count": 1,
   "metadata": {},
   "outputs": [],
   "source": [
    "import sys, time, datetime\n",
    "import numpy as np\n",
    "# import pandas\n",
    "# import matplotlib.pyplot as plt\n",
    "import jax.numpy as jnp\n",
    "import pandas"
   ]
  },
  {
   "cell_type": "code",
   "execution_count": 2,
   "metadata": {},
   "outputs": [
    {
     "name": "stdout",
     "output_type": "stream",
     "text": [
      "I will use the MDRefine version installed at ../MDRefine/__init__.py\n"
     ]
    }
   ],
   "source": [
    "# import from parent directory\n",
    "import sys\n",
    "sys.path.insert(0, '../')\n",
    "\n",
    "import MDRefine\n",
    "\n",
    "print(\"I will use the MDRefine version installed at\", MDRefine.__file__)\n",
    "\n",
    "from MDRefine import load_data, split_dataset, MDRefinement, compute_chi2_test"
   ]
  },
  {
   "cell_type": "markdown",
   "metadata": {},
   "source": [
    "## Python cells to do nested cross-validation"
   ]
  },
  {
   "cell_type": "markdown",
   "metadata": {},
   "source": [
    "### Load data"
   ]
  },
  {
   "cell_type": "code",
   "execution_count": 3,
   "metadata": {},
   "outputs": [],
   "source": [
    "%%bash\n",
    "\n",
    "if [ ! -d \"DATA\" ]; then\n",
    "    curl -O https://zenodo.org/records/14956459/files/DATA.zip\n",
    "\n",
    "    unzip DATA.zip\n",
    "    rm -r DATA.zip\n",
    "fi"
   ]
  },
  {
   "cell_type": "code",
   "execution_count": 4,
   "metadata": {},
   "outputs": [],
   "source": [
    "# %% input values\n",
    "\n",
    "stride = 10\n",
    "\n",
    "# inverse starting hyperparameters, determining the refinement\n",
    "# 0 for no refinement (infinite hyperpars), 1 otherwise (for example)\n",
    "inv_starting_alpha = 1\n",
    "inv_starting_beta = 1\n",
    "inv_starting_gamma = 0\n",
    "\n",
    "test_seed = 1  # -1 for no test set"
   ]
  },
  {
   "cell_type": "code",
   "execution_count": 5,
   "metadata": {},
   "outputs": [],
   "source": [
    "system_names = ['AAAA', 'CAAU']  # , 'CCCC', 'GACC', 'UUUU', 'UCAAUC']\n",
    "random_states = [1,2]  # [1,2,3,4,5]"
   ]
  },
  {
   "cell_type": "code",
   "execution_count": 6,
   "metadata": {},
   "outputs": [
    {
     "name": "stderr",
     "output_type": "stream",
     "text": [
      "WARNING:absl:No GPU/TPU found, falling back to CPU. (Set TF_CPP_MIN_LOG_LEVEL=0 and rerun for more info.)\n"
     ]
    },
    {
     "name": "stdout",
     "output_type": "stream",
     "text": [
      "loading data from directory...\n",
      "loading  AAAA\n",
      "loading  CAAU\n",
      "done\n",
      "(1017,)\n"
     ]
    }
   ],
   "source": [
    "results_folder_name = '6_Result'\n",
    "id_code = datetime.datetime.now().strftime('%Y_%m_%d_%H_%M_%S')\n",
    "# the folder with output results is: results_folder_name + '_' + id_code\n",
    "\n",
    "# %%\n",
    "def forward_model_fun(fm_coeffs, forward_qs, selected_obs = None):\n",
    "\n",
    "    # 1. compute the cosine (which is the quantity you need in the forward model;\n",
    "    # you could do this just once before loading data)\n",
    "    forward_qs_cos = {}\n",
    "\n",
    "    for type_name in forward_qs.keys():\n",
    "        forward_qs_cos[type_name] = np.cos(forward_qs[type_name])\n",
    "\n",
    "    # if you have selected_obs, compute only the corresponding observables\n",
    "    if selected_obs is not None:\n",
    "        for type_name in forward_qs.keys():\n",
    "            forward_qs_cos[type_name] = forward_qs_cos[type_name][:,selected_obs[type_name+'_3J']]\n",
    "\n",
    "    # 2. compute observables (forward_qs_out) through forward model\n",
    "    forward_qs_out = {\n",
    "        'backbone1_gamma_3J': fm_coeffs[0]*forward_qs_cos['backbone1_gamma']**2 + fm_coeffs[1]*forward_qs_cos['backbone1_gamma'] + fm_coeffs[2],\n",
    "        'backbone2_beta_epsilon_3J': fm_coeffs[3]*forward_qs_cos['backbone2_beta_epsilon']**2 + fm_coeffs[4]*forward_qs_cos['backbone2_beta_epsilon'] + fm_coeffs[5],\n",
    "        'sugar_3J': fm_coeffs[6]*forward_qs_cos['sugar']**2 + fm_coeffs[7]*forward_qs_cos['sugar'] + fm_coeffs[8]}\n",
    "\n",
    "    return forward_qs_out\n",
    "\n",
    "'''\n",
    "system_name/ff_terms.npy have columns:\n",
    "sinalpha[0],sinalpha[1],sinalpha[2],sinzeta[0],sinzeta[1],sinzeta[2],cosalpha[0],cosalpha[1],cosalpha[2],coszeta[0],coszeta[1],coszeta[2]\n",
    "(n. of angles up to n. of residues -1, namely 3 for tetramers and 5 for hexamers)\n",
    "'''\n",
    "def ff_correction_tetramers(pars, f):\n",
    "    # sin alpha, cos alpha, sin zeta, cos zeta:\n",
    "    # out = jnp.matmul(pars, (f[:,[0,6,3,9]]+f[:,[1,7,4,10]]+f[:,[2,8,5,11]]).T)\n",
    "\n",
    "    # sin alpha, cos alpha\n",
    "    out = jnp.matmul(pars, (f[:,[0,6]]+f[:,[1,7]]+f[:,[2,8]]).T)\n",
    "    \n",
    "    return out\n",
    "\n",
    "def ff_correction_hexamers(pars, f):\n",
    "    out = jnp.matmul(pars, (f[:,[0,10]]+f[:,[1,11]]+f[:,[2,12]]+f[:,[3,13]]+f[:,[4,14]]).T)\n",
    "    return out\n",
    "\n",
    "infos = {}\n",
    "\n",
    "infos['global'] = {\n",
    "    'path_directory': 'DATA',\n",
    "    'system_names': system_names,\n",
    "    'g_exp': ['backbone1_gamma_3J', 'backbone2_beta_epsilon_3J', 'sugar_3J', 'NOEs', ('uNOEs','<')],\n",
    "    'obs' : ['NOEs', 'uNOEs'],\n",
    "    'forward_qs':  ['backbone1_gamma', 'backbone2_beta_epsilon', 'sugar'],\n",
    "    'temperature': 1,  # namely, energies are in unit of k_B T (default value)\n",
    "    'forward_coeffs': 'original_fm_coeffs',\n",
    "    'forward_model': forward_model_fun,\n",
    "    'ff_correction': ff_correction_tetramers,\n",
    "    'names_ff_pars': ['sin alpha', 'cos alpha']}  # , 'sin zeta', 'cos zeta']}\n",
    "\n",
    "infos['UCAAUC'] = {'ff_correction': ff_correction_hexamers}\n",
    "\n",
    "# %%\n",
    "def forward_model_regularization(coeffs,coeffs_0):\n",
    "    regularization = (\n",
    "    3/8*(coeffs[0]-coeffs_0['A_gamma'])**2+1/2*(coeffs[1]-coeffs_0['B_gamma'])**2+(coeffs[2]-coeffs_0['C_gamma'])**2+(coeffs[0]-coeffs_0['A_gamma'])*(coeffs[2]-coeffs_0['C_gamma'])+\n",
    "    3/8*(coeffs[3]-coeffs_0['A_beta'])**2+1/2*(coeffs[4]-coeffs_0['B_beta'])**2+(coeffs[5]-coeffs_0['C_beta'])**2+(coeffs[3]-coeffs_0['A_beta'])*(coeffs[5]-coeffs_0['C_beta'])+\n",
    "    3/8*(coeffs[6]-coeffs_0['A_sugar'])**2+1/2*(coeffs[7]-coeffs_0['B_sugar'])**2+(coeffs[8]-coeffs_0['C_sugar'])**2+(coeffs[6]-coeffs_0['A_sugar'])*(coeffs[8]-coeffs_0['C_sugar']))\n",
    "\n",
    "    return regularization\n",
    "\n",
    "regularization = {'force_field_reg': 'KL divergence', 'forward_model_reg': forward_model_regularization}\n",
    "\n",
    "#%% 2. split dataset into training (used by MDRefinement and/or minimizer) and test\n",
    "\n",
    "time1 = time.time()\n",
    "\n",
    "data = load_data(infos, stride=stride)\n",
    "\n",
    "print(data.mol['AAAA'].weights.shape)"
   ]
  },
  {
   "cell_type": "markdown",
   "metadata": {},
   "source": [
    "split the dataset into training and test set (external splitting)"
   ]
  },
  {
   "cell_type": "code",
   "execution_count": 7,
   "metadata": {},
   "outputs": [
    {
     "name": "stdout",
     "output_type": "stream",
     "text": [
      "Input random_state employed both for observables and frames\n"
     ]
    }
   ],
   "source": [
    "if not(test_seed == -1): \n",
    "    data_training, data_test, test_obs, test_frames = split_dataset(data, frames_fraction=0.1, obs_fraction=0.1, random_state=test_seed)\n",
    "else:\n",
    "    data_training = data\n",
    "\n",
    "# print('test obs: ', test_obs)\n",
    "\n",
    "# mini = hyper_minimizer(data_training, regularization=regularization, starting_alpha=1e-1, starting_gamma=1e-1, random_states=[1], which_set='training')\n",
    "\n",
    "def inverse(inv_hyperpar):\n",
    "    if inv_hyperpar == 0:\n",
    "        hyperpar = np.inf\n",
    "    else:\n",
    "        hyperpar = 1/inv_hyperpar\n",
    "    return hyperpar\n",
    "\n",
    "starting_alpha = inverse(inv_starting_alpha)\n",
    "starting_beta = inverse(inv_starting_beta)\n",
    "starting_gamma = inverse(inv_starting_gamma)"
   ]
  },
  {
   "cell_type": "markdown",
   "metadata": {},
   "source": [
    "apply `MDRefinement` on the (external) training set"
   ]
  },
  {
   "cell_type": "code",
   "execution_count": 8,
   "metadata": {},
   "outputs": [
    {
     "name": "stdout",
     "output_type": "stream",
     "text": [
      "References for MDRefine package:\n",
      "I. Gilardoni, V. Piomponi, T. Fröhlking, and G. Bussi, “MDRefine: a Python package for refining Molecular Dynamics trajectories with experimental data”, arxiv (2024)\n",
      "\n",
      "References for Ensemble Refinement:\n",
      "J. W. Pitera and J. D. Chodera, “On the use of experimental observations to bias simulated ensembles”, J. Chem. Theory Comp. 8, 3445–3451 (2012).\n",
      "\n",
      "G. Hummer and J. Köfinger, “Bayesian ensemble refinement by replica simulations and reweighting”, J. Chem. Phys. 143, 243150 (2015).\n",
      "\n",
      "A. Cesari, A. Gil-Ley, and G. Bussi, “Combining simulations and solution experiments as a paradigm for RNA force field refinement”, J. Chem. Theory Comp. 12, 6192–6200 (2016).\n",
      "\n",
      "A. Cesari, S. Reißer, and G. Bussi, “Using the maximum entropy principle to combine simulations and solution experiments”, Computation 6, 15 (2018).\n",
      "\n",
      "J. Köfinger, L. S. Stelzl, K. Reuter, C. Allande, K. Reichel, and G. Hummer, “Efficient ensemble refinement by reweighting”, J. Chem. Theory Comput. 15, 3390–3401 (2019)\n",
      "\n",
      "\n",
      "\n",
      "References for Force-Field Fitting:\n",
      "A. B. Norgaard, J. Ferkinghoff-Borg, and K. Lindorff-Larsen, “Experimental parameterization of an energy function for the simulation of unfolded proteins”, Biophys. J. 94, 182–192 (2008)\n",
      "\n",
      "T. Fröhlking, M. Bernetti, N. Calonaci, and G. Bussi, “Toward empirical force fields that match experimental observables”, J. Chem. Phys. 152, 230902 (2020).\n",
      "\n",
      "J. Köfinger and G. Hummer, “Empirical optimization of molecular simulation force fields by Bayesian inference”, Eur. Phys. J. B 94, 245 (2021).\n",
      "\n",
      "X. Wang, J. Li, L. Yang, F. Chen, Y. Wang, J. Chang, J. Chen, W. Feng, L. Zhang, and K. Yu, “Dmff: an open-source automatic differentiable platform for molecular force field development and molecular dynamics simulation”, Journal of Chemical Theory and Computation 19, 5897–5909 (2023).\n",
      "\n",
      "P. Fuchs, S. Thaler, S. Röcken, and J. Zavadlav, “chemtrain: Learning deep potential models via automatic differentiation and statistical physics”, Computer Physics Communications, 109512 (2025)\n",
      "\n",
      "\n",
      "\n",
      "References for Ensemble Refinement + Force-Field Fitting:\n",
      "I. Gilardoni, T. Fröhlking, and G. Bussi, “Boosting ensemble refinement with transferable force-field corrections: Synergistic optimization for molecular simulations”, J. Phys. Chem. Lett. 15, 1204–1210 (2024).\n",
      "\n",
      "\n",
      "\n",
      "--------------------------------------------------------------------------\n",
      "\n",
      "search for optimal hyperparameters ...\n",
      "Input random_state employed both for observables and frames\n",
      "Input random_state employed both for observables and frames\n",
      "\n",
      "log10 hyperpars:  [('alpha', 0.0), ('beta', 0.0)]\n",
      "av. chi2:  467464.7705382965\n",
      "av. gradient:  [-547362.00412566  -25619.91118761]\n",
      "\n",
      "log10 hyperpars:  [('alpha', 0.9989063884931055), ('beta', 0.04675496794631619)]\n",
      "av. chi2:  12634.748895403052\n",
      "av. gradient:  [-101260.78147425    5812.24573388]\n",
      "\n",
      "log10 hyperpars:  [('alpha', 1.2263266076107495), ('beta', 0.02848871755776945)]\n",
      "av. chi2:  3020.5871003351012\n",
      "av. gradient:  [-13479.30380182    368.91151863]\n",
      "\n",
      "log10 hyperpars:  [('alpha', 1.261225715378903), ('beta', 0.026888667909666115)]\n",
      "av. chi2:  2607.996376950933\n",
      "av. gradient:  [-10375.23780747    212.19500583]\n",
      "\n",
      "log10 hyperpars:  [('alpha', 1.3778877205049451), ('beta', 0.024977561302264674)]\n",
      "av. chi2:  1782.3918885787334\n",
      "av. gradient:  [-4801.35682008   -21.73375036]\n",
      "\n",
      "log10 hyperpars:  [('alpha', 1.4784958406455329), ('beta', 0.027898577072594678)]\n",
      "av. chi2:  1409.6903027637873\n",
      "av. gradient:  [-2807.07295873   -74.26400078]\n",
      "\n",
      "log10 hyperpars:  [('alpha', 1.620517085514952), ('beta', 0.03930946537689603)]\n",
      "av. chi2:  1115.671286622085\n",
      "av. gradient:  [-1502.05715136   -86.59984159]\n",
      "\n",
      "log10 hyperpars:  [('alpha', 1.7849647882513455), ('beta', 0.06319465809611458)]\n",
      "av. chi2:  940.2889534489309\n",
      "av. gradient:  [-659.5502707  -107.01055866]\n",
      "\n",
      "log10 hyperpars:  [('alpha', 1.917768205919998), ('beta', 0.10583394835199603)]\n",
      "av. chi2:  882.0706597522951\n",
      "av. gradient:  [-163.84397494 -147.74494213]\n",
      "\n",
      "log10 hyperpars:  [('alpha', 1.9794810648238315), ('beta', 0.16800926964763765)]\n",
      "av. chi2:  872.2220470206237\n",
      "av. gradient:  [  79.8249063  -194.80117951]\n",
      "\n",
      "optimal hyperparameters: alpha: 95.38521541199019 beta: 1.472343928030626 \n",
      "\n",
      "refinement with optimal hyperparameters...\n",
      "\n",
      "done\n"
     ]
    }
   ],
   "source": [
    "Result = MDRefinement(data_training, regularization=regularization, stride=stride, starting_alpha=starting_alpha,\n",
    "    starting_beta=starting_beta, starting_gamma=starting_gamma, random_states=random_states, which_set='validation',\n",
    "    results_folder_name=results_folder_name, id_code=id_code, n_parallel_jobs=4)"
   ]
  },
  {
   "cell_type": "code",
   "execution_count": 9,
   "metadata": {},
   "outputs": [],
   "source": [
    "if not (test_seed == -1):\n",
    "    if np.isinf(starting_beta): pars_ff = None\n",
    "    else: pars_ff = Result.pars[:2]\n",
    "\n",
    "    if np.isinf(starting_gamma): pars_fm = None\n",
    "    else: pars_fm = Result.pars[-9:]\n",
    "\n",
    "    if hasattr(Result, 'min_lambdas'): lambdas = Result.min_lambdas\n",
    "    else: lambdas = None"
   ]
  },
  {
   "cell_type": "code",
   "execution_count": 10,
   "metadata": {},
   "outputs": [
    {
     "name": "stdout",
     "output_type": "stream",
     "text": [
      "all the hyperparameters are infinite\n"
     ]
    }
   ],
   "source": [
    "if not (test_seed == -1):\n",
    "    ref_test_chi2 = compute_chi2_test(data_test, regularization)\n",
    "    test_chi2 = compute_chi2_test(data_test, regularization, pars_ff, pars_fm, lambdas)"
   ]
  },
  {
   "cell_type": "code",
   "execution_count": 11,
   "metadata": {},
   "outputs": [],
   "source": [
    "if pars_ff is None:\n",
    "    log10_beta = np.inf\n",
    "    pars = []\n",
    "else:\n",
    "    log10_beta = 0\n",
    "    pars = pars_ff\n",
    "\n",
    "if pars_fm is None: log10_gamma = np.inf\n",
    "else:\n",
    "    log10_gamma = 0\n",
    "    pars = np.concatenate((pars, pars_fm))"
   ]
  },
  {
   "cell_type": "code",
   "execution_count": 12,
   "metadata": {},
   "outputs": [],
   "source": [
    "dtime = time.time() - time1\n",
    "\n",
    "with open(results_folder_name + '_' + id_code + '/out.txt', 'w') as f:\n",
    "    print('time required: ', dtime, file=f)\n",
    "    if not (test_seed == -1):\n",
    "        print('reference test chi2: ', ref_test_chi2, file=f)\n",
    "        print('test chi2: ', test_chi2, file=f)\n",
    "    \n",
    "    if (test_seed == -1): print('whole set', file=f)\n",
    "    else: print(test_seed, file=f)\n",
    "    \n",
    "    print(vars(Result), file=f)\n",
    "\n",
    "if not (test_seed == -1):\n",
    "    with open(results_folder_name + '_' + id_code + '/test_obs.txt', 'w') as f:\n",
    "        print(test_obs, file=f)"
   ]
  },
  {
   "cell_type": "code",
   "execution_count": 13,
   "metadata": {},
   "outputs": [],
   "source": [
    "dict_chi2 = {}\n",
    "\n",
    "dict_chi2['time'] = dtime\n",
    "dict_chi2['test seed'] = test_seed\n",
    "\n",
    "if not (test_seed == -1):\n",
    "    dict_chi2['ref. test chi2'] = ref_test_chi2\n",
    "    dict_chi2['test chi2'] = test_chi2"
   ]
  },
  {
   "cell_type": "code",
   "execution_count": 14,
   "metadata": {},
   "outputs": [
    {
     "name": "stdout",
     "output_type": "stream",
     "text": [
      "random state:  496\n",
      "Input random_state employed both for observables and frames\n",
      "all the hyperparameters are infinite\n"
     ]
    }
   ],
   "source": [
    "data_train_inn, data_valid, _, _ = split_dataset(data_training)\n",
    "# reduced chi2 for reference ensemble at random data_valid\n",
    "dict_chi2['ref. validation chi2'] = compute_chi2_test(data_valid, regularization)\n",
    "\n",
    "df = pandas.read_csv('6_Result_%s/hyper_search' % id_code, index_col=0)\n",
    "n_valid_obs = 0.2*data_training.properties.tot_n_experiments(data_training)\n",
    "\n",
    "dict_chi2['validation chi2'] = df['av_chi2'].iloc[-1]/n_valid_obs"
   ]
  },
  {
   "cell_type": "code",
   "execution_count": 15,
   "metadata": {},
   "outputs": [
    {
     "data": {
      "text/plain": [
       "{'time': 5326.4278218746185,\n",
       " 'test seed': 1,\n",
       " 'ref. test chi2': DeviceArray(1118.5914999, dtype=float64),\n",
       " 'test chi2': DeviceArray(3.55906368, dtype=float64),\n",
       " 'ref. validation chi2': DeviceArray(599.19331001, dtype=float64),\n",
       " 'validation chi2': 6.451346501631832}"
      ]
     },
     "execution_count": 15,
     "metadata": {},
     "output_type": "execute_result"
    }
   ],
   "source": [
    "dict_chi2"
   ]
  },
  {
   "cell_type": "markdown",
   "metadata": {},
   "source": [
    "### plot results"
   ]
  },
  {
   "cell_type": "code",
   "execution_count": 16,
   "metadata": {},
   "outputs": [],
   "source": [
    "import matplotlib.pyplot as plt"
   ]
  },
  {
   "cell_type": "markdown",
   "metadata": {},
   "source": [
    "#### only alpha, beta are finite"
   ]
  },
  {
   "cell_type": "code",
   "execution_count": 17,
   "metadata": {},
   "outputs": [
    {
     "data": {
      "image/png": "[encoded data removed]",
      "text/plain": [
       "<Figure size 432x288 with 1 Axes>"
      ]
     },
     "metadata": {
      "needs_background": "light"
     },
     "output_type": "display_data"
    }
   ],
   "source": [
    "phi = np.linspace(-np.pi, np.pi, 100)\n",
    "\n",
    "ff = pars_ff[0]*np.sin(phi) + pars_ff[1]*np.cos(phi)\n",
    "\n",
    "plt.plot(phi, ff)\n",
    "plt.grid()"
   ]
  },
  {
   "cell_type": "markdown",
   "metadata": {},
   "source": [
    "#### alpha, beta, gamma finite"
   ]
  },
  {
   "cell_type": "code",
   "execution_count": 18,
   "metadata": {},
   "outputs": [],
   "source": [
    "pars_ff = [0.47, -0.69]"
   ]
  },
  {
   "cell_type": "code",
   "execution_count": 19,
   "metadata": {},
   "outputs": [
    {
     "data": {
      "image/png": "[encoded data removed]",
      "text/plain": [
       "<Figure size 432x288 with 1 Axes>"
      ]
     },
     "metadata": {
      "needs_background": "light"
     },
     "output_type": "display_data"
    }
   ],
   "source": [
    "phi = np.linspace(-np.pi, np.pi, 100)\n",
    "\n",
    "ff = pars_ff[0]*np.sin(phi) + pars_ff[1]*np.cos(phi)\n",
    "\n",
    "plt.plot(phi, ff)\n",
    "plt.grid()"
   ]
  },
  {
   "cell_type": "code",
   "execution_count": 20,
   "metadata": {},
   "outputs": [],
   "source": [
    "def karplus_eqs(abc_vec, label):\n",
    "    a = abc_vec[0]\n",
    "    b = abc_vec[1]\n",
    "    c = abc_vec[2]\n",
    "    \n",
    "    phi = np.linspace(-np.pi, np.pi, 100)\n",
    "    jcoupl = a*np.cos(phi)**2 + b*np.cos(phi) + c\n",
    "    plt.plot(phi, jcoupl, label=label)\n",
    "    return jcoupl"
   ]
  },
  {
   "cell_type": "code",
   "execution_count": 21,
   "metadata": {},
   "outputs": [],
   "source": [
    "pars_fm = [10.004597324896954,-1.8485215697269826,-0.09784818743664454,17.661008908704908,-5.620509738472044,0.3666656352130098,8.313714052123622,-1.747608179308823,0.07022860454362531]\n"
   ]
  },
  {
   "cell_type": "code",
   "execution_count": 22,
   "metadata": {},
   "outputs": [],
   "source": [
    "pars_fm = [10.11932004706091,-1.8353743442277473,-0.15889622628224842,18.46473060154171,-5.407652128177933,-0.0010797721325949815,8.302189107903807,-1.8122958419840105,-0.027826707440357056]"
   ]
  },
  {
   "cell_type": "code",
   "execution_count": 23,
   "metadata": {},
   "outputs": [
    {
     "data": {
      "image/png": "[encoded data removed]",
      "text/plain": [
       "<Figure size 432x288 with 1 Axes>"
      ]
     },
     "metadata": {
      "needs_background": "light"
     },
     "output_type": "display_data"
    },
    {
     "data": {
      "image/png": "[encoded data removed]",
      "text/plain": [
       "<Figure size 432x288 with 1 Axes>"
      ]
     },
     "metadata": {
      "needs_background": "light"
     },
     "output_type": "display_data"
    },
    {
     "data": {
      "image/png": "[encoded data removed]",
      "text/plain": [
       "<Figure size 432x288 with 1 Axes>"
      ]
     },
     "metadata": {
      "needs_background": "light"
     },
     "output_type": "display_data"
    }
   ],
   "source": [
    "out = karplus_eqs(pars_fm[:3], '0')\n",
    "out = karplus_eqs([9.7, -1.8, 0.0], 'ref')\n",
    "plt.title('gamma')\n",
    "plt.grid()\n",
    "plt.legend()\n",
    "\n",
    "plt.figure()\n",
    "out = karplus_eqs(pars_fm[3:6], '0')\n",
    "out = karplus_eqs([15.3, -6.1, 1.6], 'ref')\n",
    "plt.title('beta')\n",
    "plt.grid()\n",
    "plt.legend()\n",
    "\n",
    "plt.figure()\n",
    "out = karplus_eqs(pars_fm[6:], '0')\n",
    "out = karplus_eqs([9.67, -2.03, 0.], 'ref')\n",
    "plt.title('sugar')\n",
    "plt.legend()\n",
    "plt.grid()"
   ]
  },
  {
   "cell_type": "markdown",
   "metadata": {},
   "source": [
    "## Analysis of the results\n",
    "from computations on cluster"
   ]
  },
  {
   "cell_type": "code",
   "execution_count": 24,
   "metadata": {},
   "outputs": [],
   "source": [
    "import os\n",
    "import matplotlib\n",
    "import matplotlib.pyplot as plt"
   ]
  },
  {
   "cell_type": "code",
   "execution_count": 25,
   "metadata": {},
   "outputs": [
    {
     "data": {
      "text/html": [
       "<div>\n",
       "<style scoped>\n",
       "    .dataframe tbody tr th:only-of-type {\n",
       "        vertical-align: middle;\n",
       "    }\n",
       "\n",
       "    .dataframe tbody tr th {\n",
       "        vertical-align: top;\n",
       "    }\n",
       "\n",
       "    .dataframe thead th {\n",
       "        text-align: right;\n",
       "    }\n",
       "</style>\n",
       "<table border=\"1\" class=\"dataframe\">\n",
       "  <thead>\n",
       "    <tr style=\"text-align: right;\">\n",
       "      <th></th>\n",
       "      <th>starting_alpha</th>\n",
       "      <th>starting_beta</th>\n",
       "      <th>starting_gamma</th>\n",
       "      <th>random_states</th>\n",
       "      <th>which_set</th>\n",
       "      <th>gtol</th>\n",
       "      <th>ftol</th>\n",
       "      <th>loss</th>\n",
       "      <th>A_gamma</th>\n",
       "      <th>B_gamma</th>\n",
       "      <th>...</th>\n",
       "      <th>stride</th>\n",
       "      <th>sin alpha</th>\n",
       "      <th>cos alpha</th>\n",
       "      <th>reg_ff_AAAA</th>\n",
       "      <th>reg_ff_CAAU</th>\n",
       "      <th>reg_ff_CCCC</th>\n",
       "      <th>reg_ff_GACC</th>\n",
       "      <th>reg_ff_UUUU</th>\n",
       "      <th>reg_ff_UCAAUC</th>\n",
       "      <th>optimal beta</th>\n",
       "    </tr>\n",
       "  </thead>\n",
       "  <tbody>\n",
       "    <tr>\n",
       "      <th>2025_03_26_00_37_48</th>\n",
       "      <td>1.0</td>\n",
       "      <td>inf</td>\n",
       "      <td>1.0</td>\n",
       "      <td>[1, 2, 3, 4, 5]</td>\n",
       "      <td>validation</td>\n",
       "      <td>0.5</td>\n",
       "      <td>0.05</td>\n",
       "      <td>194.709834</td>\n",
       "      <td>10.468450</td>\n",
       "      <td>-1.844714</td>\n",
       "      <td>...</td>\n",
       "      <td>10</td>\n",
       "      <td>NaN</td>\n",
       "      <td>NaN</td>\n",
       "      <td>NaN</td>\n",
       "      <td>NaN</td>\n",
       "      <td>NaN</td>\n",
       "      <td>NaN</td>\n",
       "      <td>NaN</td>\n",
       "      <td>NaN</td>\n",
       "      <td>NaN</td>\n",
       "    </tr>\n",
       "    <tr>\n",
       "      <th>2025_03_26_03_45_28</th>\n",
       "      <td>1.0</td>\n",
       "      <td>1.0</td>\n",
       "      <td>1.0</td>\n",
       "      <td>[1, 2, 3, 4, 5]</td>\n",
       "      <td>validation</td>\n",
       "      <td>0.5</td>\n",
       "      <td>0.05</td>\n",
       "      <td>245.593013</td>\n",
       "      <td>10.301094</td>\n",
       "      <td>-1.745642</td>\n",
       "      <td>...</td>\n",
       "      <td>10</td>\n",
       "      <td>0.608594</td>\n",
       "      <td>-1.140812</td>\n",
       "      <td>0.434984</td>\n",
       "      <td>0.700132</td>\n",
       "      <td>0.615394</td>\n",
       "      <td>0.32307</td>\n",
       "      <td>0.460612</td>\n",
       "      <td>1.121175</td>\n",
       "      <td>1.886105</td>\n",
       "    </tr>\n",
       "  </tbody>\n",
       "</table>\n",
       "<p>2 rows × 57 columns</p>\n",
       "</div>"
      ],
      "text/plain": [
       "                     starting_alpha  starting_beta  starting_gamma  \\\n",
       "2025_03_26_00_37_48             1.0            inf             1.0   \n",
       "2025_03_26_03_45_28             1.0            1.0             1.0   \n",
       "\n",
       "                       random_states   which_set  gtol  ftol        loss  \\\n",
       "2025_03_26_00_37_48  [1, 2, 3, 4, 5]  validation   0.5  0.05  194.709834   \n",
       "2025_03_26_03_45_28  [1, 2, 3, 4, 5]  validation   0.5  0.05  245.593013   \n",
       "\n",
       "                       A_gamma   B_gamma  ...  stride  sin alpha  cos alpha  \\\n",
       "2025_03_26_00_37_48  10.468450 -1.844714  ...      10        NaN        NaN   \n",
       "2025_03_26_03_45_28  10.301094 -1.745642  ...      10   0.608594  -1.140812   \n",
       "\n",
       "                     reg_ff_AAAA  reg_ff_CAAU  reg_ff_CCCC  reg_ff_GACC  \\\n",
       "2025_03_26_00_37_48          NaN          NaN          NaN          NaN   \n",
       "2025_03_26_03_45_28     0.434984     0.700132     0.615394      0.32307   \n",
       "\n",
       "                     reg_ff_UUUU  reg_ff_UCAAUC  optimal beta  \n",
       "2025_03_26_00_37_48          NaN            NaN           NaN  \n",
       "2025_03_26_03_45_28     0.460612       1.121175      1.886105  \n",
       "\n",
       "[2 rows x 57 columns]"
      ]
     },
     "execution_count": 25,
     "metadata": {},
     "output_type": "execute_result"
    }
   ],
   "source": [
    "path = 'Results/'\n",
    "dir_list = os.listdir(path)\n",
    "dir_list = [s for s in dir_list if s.startswith('6_Result')]\n",
    "\n",
    "temp = []\n",
    "\n",
    "for s in dir_list:\n",
    "    df = pandas.read_csv(path + s + '/input', index_col=0)\n",
    "    df2 = pandas.read_csv(path + s + '/result', index_col=0)\n",
    "    if 'time' in df2.columns: del df2['time']\n",
    "\n",
    "    path_chi2 = path + s + '/chi2s'\n",
    "    if os.path.exists(path_chi2): df3 = pandas.read_csv(path_chi2, index_col=0)\n",
    "    else: df3 = pandas.DataFrame({'temp': [np.nan]})\n",
    "    df3.index = df2.index\n",
    "\n",
    "    df = pandas.concat([df, df2, df3], axis=1)\n",
    "    df['stride'] = 10**np.int(6 - np.round(np.log10(np.load(path + s + '/weights_new_AAAA.npy').shape[0])))\n",
    "    temp.append(df)\n",
    "\n",
    "df_result_nested = pandas.concat(temp, axis=0, ignore_index=False)\n",
    "try: del df_result_nested['temp']\n",
    "except: None\n",
    "\n",
    "df_result_nested"
   ]
  },
  {
   "cell_type": "code",
   "execution_count": 26,
   "metadata": {},
   "outputs": [
    {
     "data": {
      "text/html": [
       "<div>\n",
       "<style scoped>\n",
       "    .dataframe tbody tr th:only-of-type {\n",
       "        vertical-align: middle;\n",
       "    }\n",
       "\n",
       "    .dataframe tbody tr th {\n",
       "        vertical-align: top;\n",
       "    }\n",
       "\n",
       "    .dataframe thead th {\n",
       "        text-align: right;\n",
       "    }\n",
       "</style>\n",
       "<table border=\"1\" class=\"dataframe\">\n",
       "  <thead>\n",
       "    <tr style=\"text-align: right;\">\n",
       "      <th></th>\n",
       "      <th>optimal alpha</th>\n",
       "      <th>optimal beta</th>\n",
       "      <th>optimal gamma</th>\n",
       "      <th>stride</th>\n",
       "      <th>gtol</th>\n",
       "      <th>ftol</th>\n",
       "      <th>sin alpha</th>\n",
       "      <th>cos alpha</th>\n",
       "      <th>A_gamma</th>\n",
       "      <th>B_gamma</th>\n",
       "      <th>...</th>\n",
       "      <th>A_beta</th>\n",
       "      <th>B_beta</th>\n",
       "      <th>C_beta</th>\n",
       "      <th>A_sugar</th>\n",
       "      <th>B_sugar</th>\n",
       "      <th>C_sugar</th>\n",
       "      <th>ref. test chi2</th>\n",
       "      <th>test chi2</th>\n",
       "      <th>ref. validation chi2</th>\n",
       "      <th>validation chi2</th>\n",
       "    </tr>\n",
       "  </thead>\n",
       "  <tbody>\n",
       "    <tr>\n",
       "      <th>E+FM ref</th>\n",
       "      <td>14.774292</td>\n",
       "      <td>NaN</td>\n",
       "      <td>0.521908</td>\n",
       "      <td>10</td>\n",
       "      <td>0.5</td>\n",
       "      <td>0.05</td>\n",
       "      <td>NaN</td>\n",
       "      <td>NaN</td>\n",
       "      <td>10.468450</td>\n",
       "      <td>-1.844714</td>\n",
       "      <td>...</td>\n",
       "      <td>19.589466</td>\n",
       "      <td>-5.120117</td>\n",
       "      <td>-0.540211</td>\n",
       "      <td>8.420553</td>\n",
       "      <td>-1.869369</td>\n",
       "      <td>-0.117869</td>\n",
       "      <td>537.43525</td>\n",
       "      <td>1.620779</td>\n",
       "      <td>245.267645</td>\n",
       "      <td>0.884798</td>\n",
       "    </tr>\n",
       "    <tr>\n",
       "      <th>E+FM+FF ref</th>\n",
       "      <td>37.236967</td>\n",
       "      <td>1.886105</td>\n",
       "      <td>0.350607</td>\n",
       "      <td>10</td>\n",
       "      <td>0.5</td>\n",
       "      <td>0.05</td>\n",
       "      <td>0.608594</td>\n",
       "      <td>-1.140812</td>\n",
       "      <td>10.301094</td>\n",
       "      <td>-1.745642</td>\n",
       "      <td>...</td>\n",
       "      <td>18.567138</td>\n",
       "      <td>-5.224371</td>\n",
       "      <td>-0.168163</td>\n",
       "      <td>7.430933</td>\n",
       "      <td>-1.724907</td>\n",
       "      <td>0.421051</td>\n",
       "      <td>537.43525</td>\n",
       "      <td>2.129081</td>\n",
       "      <td>147.789435</td>\n",
       "      <td>1.335130</td>\n",
       "    </tr>\n",
       "  </tbody>\n",
       "</table>\n",
       "<p>2 rows × 21 columns</p>\n",
       "</div>"
      ],
      "text/plain": [
       "             optimal alpha  optimal beta  optimal gamma  stride  gtol  ftol  \\\n",
       "E+FM ref         14.774292           NaN       0.521908      10   0.5  0.05   \n",
       "E+FM+FF ref      37.236967      1.886105       0.350607      10   0.5  0.05   \n",
       "\n",
       "             sin alpha  cos alpha    A_gamma   B_gamma  ...     A_beta  \\\n",
       "E+FM ref           NaN        NaN  10.468450 -1.844714  ...  19.589466   \n",
       "E+FM+FF ref   0.608594  -1.140812  10.301094 -1.745642  ...  18.567138   \n",
       "\n",
       "               B_beta    C_beta   A_sugar   B_sugar   C_sugar  ref. test chi2  \\\n",
       "E+FM ref    -5.120117 -0.540211  8.420553 -1.869369 -0.117869       537.43525   \n",
       "E+FM+FF ref -5.224371 -0.168163  7.430933 -1.724907  0.421051       537.43525   \n",
       "\n",
       "             test chi2  ref. validation chi2  validation chi2  \n",
       "E+FM ref      1.620779            245.267645         0.884798  \n",
       "E+FM+FF ref   2.129081            147.789435         1.335130  \n",
       "\n",
       "[2 rows x 21 columns]"
      ]
     },
     "execution_count": 26,
     "metadata": {},
     "output_type": "execute_result"
    }
   ],
   "source": [
    "df_result_nested = df_result_nested.loc[df_result_nested['random_states'] == '[1, 2, 3, 4, 5]']\n",
    "df_result_nested = df_result_nested.loc[df_result_nested['which_set'] == 'validation']\n",
    "\n",
    "cols = ['optimal alpha', 'optimal beta', 'optimal gamma', 'stride', 'gtol', 'ftol', 'sin alpha', 'cos alpha', 'A_gamma', 'B_gamma', 'C_gamma',\n",
    "    'A_beta', 'B_beta', 'C_beta', 'A_sugar', 'B_sugar', 'C_sugar', 'ref. test chi2', 'test chi2',\n",
    "    'ref. validation chi2', 'validation chi2']\n",
    "\n",
    "df_result_nested = df_result_nested[cols]\n",
    "df_result_nested = df_result_nested.loc[~np.isnan(df_result_nested['ref. validation chi2'])]\n",
    "df_result_nested = df_result_nested.loc[df_result_nested['stride'] == 10]\n",
    "\n",
    "df_result_nested[['optimal alpha', 'optimal beta', 'optimal gamma', 'ref. test chi2', 'test chi2']]\n",
    "\n",
    "# df_result_nested = df_result_nested.loc[['2025_03_26_00_37_48', '2025_03_26_03_45_28']]\n",
    "df_result_nested.index = ['E+FM ref', 'E+FM+FF ref']\n",
    "\n",
    "df_result_nested"
   ]
  },
  {
   "cell_type": "markdown",
   "metadata": {},
   "source": [
    "- if someone among `optimal_alpha`, `optimal_beta`, `optimal_gamma` is `NaN`, it means no refinement in that direction\n",
    "- if `ref. test chi2` is `NaN` (but `ref. validation chi2` is not), it means there is not the (external) test set"
   ]
  },
  {
   "cell_type": "code",
   "execution_count": 27,
   "metadata": {},
   "outputs": [
    {
     "data": {
      "text/html": [
       "<div>\n",
       "<style scoped>\n",
       "    .dataframe tbody tr th:only-of-type {\n",
       "        vertical-align: middle;\n",
       "    }\n",
       "\n",
       "    .dataframe tbody tr th {\n",
       "        vertical-align: top;\n",
       "    }\n",
       "\n",
       "    .dataframe thead th {\n",
       "        text-align: right;\n",
       "    }\n",
       "</style>\n",
       "<table border=\"1\" class=\"dataframe\">\n",
       "  <thead>\n",
       "    <tr style=\"text-align: right;\">\n",
       "      <th></th>\n",
       "      <th>loss</th>\n",
       "      <th>sin alpha</th>\n",
       "      <th>cos alpha</th>\n",
       "      <th>A_gamma</th>\n",
       "      <th>B_gamma</th>\n",
       "      <th>C_gamma</th>\n",
       "      <th>A_beta</th>\n",
       "      <th>B_beta</th>\n",
       "      <th>C_beta</th>\n",
       "      <th>A_sugar</th>\n",
       "      <th>...</th>\n",
       "      <th>chi2_AAAA</th>\n",
       "      <th>chi2_CAAU</th>\n",
       "      <th>chi2_CCCC</th>\n",
       "      <th>chi2_GACC</th>\n",
       "      <th>chi2_UUUU</th>\n",
       "      <th>chi2_UCAAUC</th>\n",
       "      <th>optimal alpha</th>\n",
       "      <th>optimal beta</th>\n",
       "      <th>optimal gamma</th>\n",
       "      <th>hyper_mini success</th>\n",
       "    </tr>\n",
       "  </thead>\n",
       "  <tbody>\n",
       "    <tr>\n",
       "      <th>E+FM+FF ref</th>\n",
       "      <td>1765.300623</td>\n",
       "      <td>0.584072</td>\n",
       "      <td>-0.791454</td>\n",
       "      <td>9.915804</td>\n",
       "      <td>-1.757341</td>\n",
       "      <td>-0.116239</td>\n",
       "      <td>18.128530</td>\n",
       "      <td>-5.288647</td>\n",
       "      <td>0.07166</td>\n",
       "      <td>6.986191</td>\n",
       "      <td>...</td>\n",
       "      <td>120.535372</td>\n",
       "      <td>98.730666</td>\n",
       "      <td>56.247744</td>\n",
       "      <td>31.282016</td>\n",
       "      <td>178.522105</td>\n",
       "      <td>805.854758</td>\n",
       "      <td>959.856495</td>\n",
       "      <td>167.935942</td>\n",
       "      <td>0.421759</td>\n",
       "      <td>True</td>\n",
       "    </tr>\n",
       "    <tr>\n",
       "      <th>E+FM ref</th>\n",
       "      <td>381.026229</td>\n",
       "      <td>NaN</td>\n",
       "      <td>NaN</td>\n",
       "      <td>9.950988</td>\n",
       "      <td>-1.858315</td>\n",
       "      <td>-0.107576</td>\n",
       "      <td>18.907471</td>\n",
       "      <td>-5.230515</td>\n",
       "      <td>-0.21221</td>\n",
       "      <td>8.335141</td>\n",
       "      <td>...</td>\n",
       "      <td>43.166862</td>\n",
       "      <td>29.767058</td>\n",
       "      <td>18.449176</td>\n",
       "      <td>19.622261</td>\n",
       "      <td>24.415580</td>\n",
       "      <td>214.539056</td>\n",
       "      <td>46.308959</td>\n",
       "      <td>NaN</td>\n",
       "      <td>0.958824</td>\n",
       "      <td>True</td>\n",
       "    </tr>\n",
       "  </tbody>\n",
       "</table>\n",
       "<p>2 rows × 44 columns</p>\n",
       "</div>"
      ],
      "text/plain": [
       "                    loss  sin alpha  cos alpha   A_gamma   B_gamma   C_gamma  \\\n",
       "E+FM+FF ref  1765.300623   0.584072  -0.791454  9.915804 -1.757341 -0.116239   \n",
       "E+FM ref      381.026229        NaN        NaN  9.950988 -1.858315 -0.107576   \n",
       "\n",
       "                A_beta    B_beta   C_beta   A_sugar  ...   chi2_AAAA  \\\n",
       "E+FM+FF ref  18.128530 -5.288647  0.07166  6.986191  ...  120.535372   \n",
       "E+FM ref     18.907471 -5.230515 -0.21221  8.335141  ...   43.166862   \n",
       "\n",
       "             chi2_CAAU  chi2_CCCC  chi2_GACC   chi2_UUUU  chi2_UCAAUC  \\\n",
       "E+FM+FF ref  98.730666  56.247744  31.282016  178.522105   805.854758   \n",
       "E+FM ref     29.767058  18.449176  19.622261   24.415580   214.539056   \n",
       "\n",
       "             optimal alpha  optimal beta  optimal gamma  hyper_mini success  \n",
       "E+FM+FF ref     959.856495    167.935942       0.421759                True  \n",
       "E+FM ref         46.308959           NaN       0.958824                True  \n",
       "\n",
       "[2 rows x 44 columns]"
      ]
     },
     "execution_count": 27,
     "metadata": {},
     "output_type": "execute_result"
    }
   ],
   "source": [
    "# minimization on the whole dataset\n",
    "\n",
    "path = 'Results'\n",
    "my_str = '2_Result_last_'\n",
    "\n",
    "my_list = ['2024_10_01_13_36_53_483051', '2024_10_03_12_35_46_920644']\n",
    "\n",
    "# ER+FFR and ER+FFR+FMR\n",
    "df_result = pandas.concat([\n",
    "    pandas.read_csv(path + '/' + my_str + my_list[1] + '/' + 'result', index_col=0),  # ER+FMR+FFR\n",
    "    pandas.read_csv(path + '/' + my_str + my_list[0] + '/' + 'result', index_col=0)  # ER+FMR\n",
    "    ])\n",
    "\n",
    "df_result.index = ['E+FM+FF ref', 'E+FM ref']\n",
    "df_result"
   ]
  },
  {
   "cell_type": "code",
   "execution_count": 28,
   "metadata": {},
   "outputs": [
    {
     "name": "stdout",
     "output_type": "stream",
     "text": [
      "full dataset:  sin alpha    0.584072\n",
      "cos alpha   -0.791454\n",
      "Name: E+FM+FF ref, dtype: object\n",
      "\n",
      "reduced dataset:  sin alpha    0.608594\n",
      "cos alpha   -1.140812\n",
      "Name: E+FM+FF ref, dtype: float64\n"
     ]
    },
    {
     "data": {
      "image/png": "[encoded data removed]",
      "text/plain": [
       "<Figure size 432x288 with 1 Axes>"
      ]
     },
     "metadata": {
      "needs_background": "light"
     },
     "output_type": "display_data"
    }
   ],
   "source": [
    "font = {'weight' : 'bold', 'size' : 15}\n",
    "\n",
    "matplotlib.rc('font', **font)\n",
    "matplotlib.rcParams['lines.linewidth'] = 2\n",
    "matplotlib.rcParams['lines.markersize'] = 10\n",
    "\n",
    "phi = np.linspace(-np.pi, np.pi, 100)\n",
    "\n",
    "pars_ff = df_result.loc['E+FM+FF ref'][['sin alpha', 'cos alpha']]\n",
    "print('full dataset: ', pars_ff)\n",
    "ff = pars_ff[0]*np.sin(phi) + pars_ff[1]*np.cos(phi)\n",
    "plt.plot(phi, ff, label='full dataset')\n",
    "\n",
    "pars_ff = df_result_nested.loc['E+FM+FF ref'][['sin alpha', 'cos alpha']]\n",
    "print('\\nreduced dataset: ', pars_ff)\n",
    "ff = pars_ff[0]*np.sin(phi) + pars_ff[1]*np.cos(phi)\n",
    "plt.plot(phi, ff, label='reduced dataset')\n",
    "\n",
    "plt.title('force-field correction')\n",
    "plt.xlabel(r'$\\alpha$')\n",
    "plt.ylabel('$\\Delta V (k_B T)$')\n",
    "plt.legend()\n",
    "plt.xlim([-np.pi, np.pi])\n",
    "plt.xticks([-np.pi, -np.pi/2, 0, np.pi/2, np.pi], [r'$-\\pi$', r'$-\\pi/2$', '0', '$\\pi/2$', '$\\pi$'])\n",
    "plt.grid()\n",
    "\n",
    "# plt.savefig('../../Figures/train_ff_correction.pdf', format='pdf', bbox_inches='tight')"
   ]
  },
  {
   "cell_type": "code",
   "execution_count": 29,
   "metadata": {},
   "outputs": [],
   "source": [
    "def karplus_eqs(abc_vec, label = None):\n",
    "    a = abc_vec[0]\n",
    "    b = abc_vec[1]\n",
    "    c = abc_vec[2]\n",
    "    \n",
    "    phi = np.linspace(-np.pi, np.pi, 100)\n",
    "    jcoupl = a*np.cos(phi)**2 + b*np.cos(phi) + c\n",
    "    if label is None: plt.plot(phi, jcoupl)\n",
    "    else: plt.plot(phi, jcoupl, label=label)\n",
    "    \n",
    "    return phi, jcoupl"
   ]
  },
  {
   "cell_type": "code",
   "execution_count": 30,
   "metadata": {},
   "outputs": [
    {
     "data": {
      "image/png": "[encoded data removed]",
      "text/plain": [
       "<Figure size 1080x288 with 3 Axes>"
      ]
     },
     "metadata": {
      "needs_background": "light"
     },
     "output_type": "display_data"
    }
   ],
   "source": [
    "orig_karplus = {'A_gamma': 9.7, 'B_gamma': -1.8, 'C_gamma': 0.0, 'A_beta': 15.3, 'B_beta': -6.1, 'C_beta': 1.6, 'A_sugar': 9.67, 'B_sugar': -2.03, 'C_sugar': 0.}\n",
    "\n",
    "font = {'weight' : 'bold', 'size' : 17}\n",
    "\n",
    "matplotlib.rc('font', **font)\n",
    "matplotlib.rcParams['lines.linewidth'] = 3\n",
    "# matplotlib.rcParams['lines.markersize'] = 10\n",
    "\n",
    "fig, axs = plt.subplots(nrows=1, ncols=3)\n",
    "fig.set_figheight(4)\n",
    "fig.set_figwidth(15)\n",
    "\n",
    "compute_karplus = lambda fm_coeffs, angles, s: fm_coeffs['A_' + s]*np.cos(angles)**2 + fm_coeffs['B_' + s]*np.cos(angles) + fm_coeffs['C_' + s]*np.ones(len(angles))\n",
    "\n",
    "# plt.suptitle(r'Refinement of Karplus equations $\\alpha=%.2f,\\beta=%.2f,\\gamma=%.2f$' % (opt_alpha, opt_beta, opt_gamma))\n",
    "\n",
    "angles = np.linspace(-np.pi, np.pi, 100)\n",
    "titles = [r'$\\beta,\\epsilon$', r'$\\gamma$', 'sugar']\n",
    "\n",
    "for i,s in enumerate(['beta', 'gamma', 'sugar']):\n",
    "\n",
    "    karplus = {}\n",
    "\n",
    "    karplus = compute_karplus(orig_karplus, angles, s)\n",
    "    axs[i].plot(angles, karplus, '-', label='original')\n",
    "\n",
    "    # whole dataset\n",
    "    \n",
    "    # karplus = compute_karplus(df_result.loc['E+FM ref'], angles, s)\n",
    "    # axs[i].plot(angles, karplus, '-', label='whole, E+FM')\n",
    "\n",
    "    # karplus = compute_karplus(df_result.loc['E+FM+FF ref'], angles, s)\n",
    "    # axs[i].plot(angles, karplus, '-', label='whole, E+FM+FF')\n",
    "\n",
    "    # reduced dataset\n",
    "\n",
    "    karplus = compute_karplus(df_result_nested.loc['E+FM ref'], angles, s)\n",
    "    axs[i].plot(angles, karplus, '-', label='E+FM')\n",
    "\n",
    "    karplus = compute_karplus(df_result_nested.loc['E+FM+FF ref'], angles, s)\n",
    "    axs[i].plot(angles, karplus, '-', label='E+FM+FF')\n",
    "    \n",
    "    axs[i].grid()\n",
    "    axs[i].set_xlabel(titles[i] + ' angles (rad)')\n",
    "    # axs[0].set_ylim(top=27)\n",
    "    # axs[i].set_title(titles[i])\n",
    "    axs[i].set_xlim([-np.pi, np.pi])\n",
    "    axs[i].set_xticks([-np.pi, -np.pi/2, 0, np.pi/2, np.pi])\n",
    "    axs[i].set_xticklabels([r'$-\\pi$', r'$-\\pi/2$', '0', '$\\pi/2$', '$\\pi$'])\n",
    "\n",
    "axs[0].legend(fontsize=12)\n",
    "axs[0].set_ylabel('$^3J$ coupling (Hz)')\n",
    "\n",
    "# plt.savefig('../../Figures/train_Karplus_refinement.pdf', format='pdf', bbox_inches='tight')\n",
    "plt.show()"
   ]
  },
  {
   "cell_type": "code",
   "execution_count": 31,
   "metadata": {},
   "outputs": [
    {
     "data": {
      "text/html": [
       "<div>\n",
       "<style scoped>\n",
       "    .dataframe tbody tr th:only-of-type {\n",
       "        vertical-align: middle;\n",
       "    }\n",
       "\n",
       "    .dataframe tbody tr th {\n",
       "        vertical-align: top;\n",
       "    }\n",
       "\n",
       "    .dataframe thead th {\n",
       "        text-align: right;\n",
       "    }\n",
       "</style>\n",
       "<table border=\"1\" class=\"dataframe\">\n",
       "  <thead>\n",
       "    <tr style=\"text-align: right;\">\n",
       "      <th></th>\n",
       "      <th>ref. test chi2</th>\n",
       "      <th>test chi2</th>\n",
       "      <th>ref. validation chi2</th>\n",
       "      <th>validation chi2</th>\n",
       "    </tr>\n",
       "  </thead>\n",
       "  <tbody>\n",
       "    <tr>\n",
       "      <th>E+FM ref</th>\n",
       "      <td>537.43525</td>\n",
       "      <td>1.620779</td>\n",
       "      <td>245.267645</td>\n",
       "      <td>0.884798</td>\n",
       "    </tr>\n",
       "    <tr>\n",
       "      <th>E+FM+FF ref</th>\n",
       "      <td>537.43525</td>\n",
       "      <td>2.129081</td>\n",
       "      <td>147.789435</td>\n",
       "      <td>1.335130</td>\n",
       "    </tr>\n",
       "  </tbody>\n",
       "</table>\n",
       "</div>"
      ],
      "text/plain": [
       "             ref. test chi2  test chi2  ref. validation chi2  validation chi2\n",
       "E+FM ref          537.43525   1.620779            245.267645         0.884798\n",
       "E+FM+FF ref       537.43525   2.129081            147.789435         1.335130"
      ]
     },
     "execution_count": 31,
     "metadata": {},
     "output_type": "execute_result"
    }
   ],
   "source": [
    "df_result_nested[['ref. test chi2', 'test chi2', 'ref. validation chi2', 'validation chi2']]\n"
   ]
  }
 ],
 "metadata": {
  "kernelspec": {
   "display_name": "Python 3.6.8 64-bit",
   "language": "python",
   "name": "python3"
  },
  "language_info": {
   "codemirror_mode": {
    "name": "ipython",
    "version": 3
   },
   "file_extension": ".py",
   "mimetype": "text/x-python",
   "name": "python",
   "nbconvert_exporter": "python",
   "pygments_lexer": "ipython3",
   "version": "3.6.8"
  },
  "orig_nbformat": 4,
  "vscode": {
   "interpreter": {
    "hash": "916dbcbb3f70747c44a77c7bcd40155683ae19c65e1c03b4aa3499c5328201f1"
   }
  }
 },
 "nbformat": 4,
 "nbformat_minor": 2
}
