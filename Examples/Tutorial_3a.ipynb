{
 "cells": [
  {
   "cell_type": "markdown",
   "metadata": {},
   "source": [
    "# Tutorial for `MDRefine` - 3a"
   ]
  },
  {
   "cell_type": "markdown",
   "metadata": {},
   "source": [
    "Compare the performances of the refinement with/without force-field fitting.\n",
    "\n",
    "Take a subset of observables as a test set and do cross-validation on the remaining set. Then, compute the $\\chi^2$ on the test observables at the optimal solution found by `MDRefinement` on the cross-validation dataset (training + validation).\n",
    "\n",
    "We remind that `MDRefinement` finds the optimal hyperparameters in cross-validation and then minimize the loss function on the whole (cross-validation) dataset.\n",
    "\n",
    "We remind you to have a look at our paper https://arxiv.org/pdf/2411.07798 and at the documentation https://www.bussilab.org/doc-MDRefine/MDRefine/index.html.\n",
    "\n",
    "Required assistance may be opened at https://github.com/bussilab/MDRefine/issues."
   ]
  },
  {
   "cell_type": "code",
   "execution_count": null,
   "metadata": {},
   "outputs": [],
   "source": [
    "# install matplotlib and other dependencies\n",
    "!pip install -r requirements.txt"
   ]
  },
  {
   "cell_type": "code",
   "execution_count": 1,
   "metadata": {},
   "outputs": [],
   "source": [
    "import pandas\n",
    "import os\n",
    "import numpy as np\n",
    "import jax.numpy as jnp\n",
    "import matplotlib\n",
    "import matplotlib.pyplot as plt"
   ]
  },
  {
   "cell_type": "code",
   "execution_count": 2,
   "metadata": {},
   "outputs": [
    {
     "name": "stdout",
     "output_type": "stream",
     "text": [
      "I will use the MDRefine version installed at ../MDRefine/__init__.py\n"
     ]
    }
   ],
   "source": [
    "# import from parent directory\n",
    "import sys\n",
    "sys.path.insert(0, '../')\n",
    "\n",
    "import MDRefine\n",
    "\n",
    "print(\"I will use the MDRefine version installed at\", MDRefine.__file__)"
   ]
  },
  {
   "cell_type": "code",
   "execution_count": 3,
   "metadata": {},
   "outputs": [],
   "source": [
    "from MDRefine import load_data, split_dataset, minimizer, hyper_minimizer, MDRefinement, compute_chi2\n"
   ]
  },
  {
   "cell_type": "markdown",
   "metadata": {},
   "source": [
    "## Usage of `MDRefinement`"
   ]
  },
  {
   "cell_type": "markdown",
   "metadata": {},
   "source": [
    "Let's see an application of `MDRefinement`, which includes automatic optimization of the hyperparameters, for the refinement of RNA oligomers. This function `MDRefinement` includes both `load_data`, the cross validation procedure (with automatic minimization of the $\\chi^2$ on left-out observables / frames) and `minimizer`."
   ]
  },
  {
   "cell_type": "code",
   "execution_count": 4,
   "metadata": {},
   "outputs": [],
   "source": [
    "%%bash\n",
    "\n",
    "if [ ! -d \"DATA\" ]; then\n",
    "    curl -O https://zenodo.org/records/14956459/files/DATA.zip\n",
    "\n",
    "    unzip DATA.zip\n",
    "    rm -r DATA.zip\n",
    "fi"
   ]
  },
  {
   "cell_type": "markdown",
   "metadata": {},
   "source": [
    "### Load data"
   ]
  },
  {
   "cell_type": "code",
   "execution_count": 5,
   "metadata": {},
   "outputs": [],
   "source": [
    "def forward_model_fun(fm_coeffs, forward_qs, selected_obs = None):\n",
    "\n",
    "    # 1. compute the cosine (which is the quantity you need in the forward model;\n",
    "    # you could do this just once before loading data)\n",
    "    forward_qs_cos = {}\n",
    "\n",
    "    for type_name in forward_qs.keys():\n",
    "        forward_qs_cos[type_name] = np.cos(forward_qs[type_name])\n",
    "\n",
    "    # if you have selected_obs, compute only the corresponding observables\n",
    "    if selected_obs is not None:\n",
    "        for type_name in forward_qs.keys():\n",
    "            forward_qs_cos[type_name] = forward_qs_cos[type_name][:,selected_obs[type_name+'_3J']]\n",
    "\n",
    "    # 2. compute observables (forward_qs_out) through forward model\n",
    "    forward_qs_out = {\n",
    "        'backbone1_gamma_3J': fm_coeffs[0]*forward_qs_cos['backbone1_gamma']**2 + fm_coeffs[1]*forward_qs_cos['backbone1_gamma'] + fm_coeffs[2],\n",
    "        'backbone2_beta_epsilon_3J': fm_coeffs[3]*forward_qs_cos['backbone2_beta_epsilon']**2 + fm_coeffs[4]*forward_qs_cos['backbone2_beta_epsilon'] + fm_coeffs[5],\n",
    "        'sugar_3J': fm_coeffs[6]*forward_qs_cos['sugar']**2 + fm_coeffs[7]*forward_qs_cos['sugar'] + fm_coeffs[8]}\n",
    "\n",
    "    return forward_qs_out\n",
    "\n",
    "'''\n",
    "system_name/ff_terms.npy have columns:\n",
    "sinalpha[0],sinalpha[1],sinalpha[2],sinzeta[0],sinzeta[1],sinzeta[2],cosalpha[0],cosalpha[1],cosalpha[2],coszeta[0],coszeta[1],coszeta[2]\n",
    "(n. of angles up to n. of residues -1, namely 3 for tetramers and 5 for hexamers)\n",
    "'''\n",
    "def ff_correction_tetramers(pars, f):\n",
    "    # sin alpha, cos alpha, sin zeta, cos zeta:\n",
    "    # out = jnp.matmul(pars, (f[:,[0,6,3,9]]+f[:,[1,7,4,10]]+f[:,[2,8,5,11]]).T)\n",
    "\n",
    "    # sin alpha, cos alpha\n",
    "    out = jnp.matmul(pars, (f[:,[0,6]]+f[:,[1,7]]+f[:,[2,8]]).T)\n",
    "    \n",
    "    return out\n",
    "\n",
    "def ff_correction_hexamers(pars, f):\n",
    "    out = jnp.matmul(pars, (f[:,[0,10]]+f[:,[1,11]]+f[:,[2,12]]+f[:,[3,13]]+f[:,[4,14]]).T)\n",
    "    return out\n",
    "\n",
    "infos = {}\n",
    "\n",
    "infos['global'] = {\n",
    "    'path_directory': 'DATA',\n",
    "    'system_names': ['AAAA', 'CAAU'],#, 'CCCC', 'GACC', 'UUUU', 'UCAAUC'],\n",
    "    'g_exp': ['backbone1_gamma_3J', 'backbone2_beta_epsilon_3J', 'sugar_3J', 'NOEs', ('uNOEs','<')],\n",
    "    'obs' : ['NOEs', 'uNOEs'],\n",
    "    'forward_qs':  ['backbone1_gamma', 'backbone2_beta_epsilon', 'sugar'],\n",
    "    'temperature': 1,  # namely, energies are in unit of k_B T (default value)\n",
    "    'forward_coeffs': 'original_fm_coeffs',\n",
    "    'forward_model': forward_model_fun,\n",
    "    'ff_correction': ff_correction_tetramers,\n",
    "    'names_ff_pars': ['sin alpha', 'cos alpha']}  # , 'sin zeta', 'cos zeta']}\n",
    "\n",
    "infos['UCAAUC'] = {'ff_correction': ff_correction_hexamers}\n",
    "\n",
    "# %%\n",
    "def forward_model_regularization(coeffs,coeffs_0):\n",
    "    regularization = (\n",
    "    3/8*(coeffs[0]-coeffs_0['A_gamma'])**2+1/2*(coeffs[1]-coeffs_0['B_gamma'])**2+(coeffs[2]-coeffs_0['C_gamma'])**2+(coeffs[0]-coeffs_0['A_gamma'])*(coeffs[2]-coeffs_0['C_gamma'])+\n",
    "    3/8*(coeffs[3]-coeffs_0['A_beta'])**2+1/2*(coeffs[4]-coeffs_0['B_beta'])**2+(coeffs[5]-coeffs_0['C_beta'])**2+(coeffs[3]-coeffs_0['A_beta'])*(coeffs[5]-coeffs_0['C_beta'])+\n",
    "    3/8*(coeffs[6]-coeffs_0['A_sugar'])**2+1/2*(coeffs[7]-coeffs_0['B_sugar'])**2+(coeffs[8]-coeffs_0['C_sugar'])**2+(coeffs[6]-coeffs_0['A_sugar'])*(coeffs[8]-coeffs_0['C_sugar']))\n",
    "\n",
    "    return regularization\n",
    "\n",
    "regularization = {'force_field_reg': 'KL divergence', 'forward_model_reg': forward_model_regularization}\n"
   ]
  },
  {
   "cell_type": "code",
   "execution_count": 6,
   "metadata": {},
   "outputs": [
    {
     "name": "stderr",
     "output_type": "stream",
     "text": [
      "WARNING:absl:No GPU/TPU found, falling back to CPU. (Set TF_CPP_MIN_LOG_LEVEL=0 and rerun for more info.)\n"
     ]
    },
    {
     "name": "stdout",
     "output_type": "stream",
     "text": [
      "loading data from directory...\n",
      "loading  AAAA\n",
      "loading  CAAU\n",
      "done\n"
     ]
    }
   ],
   "source": [
    "data = load_data(infos, stride=1)"
   ]
  },
  {
   "cell_type": "markdown",
   "metadata": {},
   "source": [
    "#### ..."
   ]
  },
  {
   "cell_type": "markdown",
   "metadata": {},
   "source": [
    "Just to show an example of how `MDRefinement` works, you can take 2 molecular systems (AAAA and CAAU, for instance) and avoid loading the unobserved NOEs, which are computationally expensive."
   ]
  },
  {
   "cell_type": "code",
   "execution_count": 5,
   "metadata": {},
   "outputs": [],
   "source": [
    "infos = {'global': {\n",
    "    'path_directory': 'DATA',\n",
    "    'system_names': ['AAAA', 'CAAU', 'CCCC', 'GACC', 'UUUU', 'UCAAUC'],\n",
    "    'g_exp': ['backbone1_gamma_3J', 'backbone2_beta_epsilon_3J', 'sugar_3J', 'NOEs', ('uNOEs', '<')],\n",
    "    'forward_qs': ['backbone1_gamma', 'backbone2_beta_epsilon','sugar'],\n",
    "    'obs': ['NOEs', 'uNOEs'],\n",
    "    'forward_coeffs': 'original_fm_coeffs'}}\n",
    "\n",
    "stride = 1  # corresponding to stride = 100 on the full set of frames"
   ]
  },
  {
   "cell_type": "markdown",
   "metadata": {},
   "source": [
    "- define the forward model (include also the possibility for selected_obs, namely, to compute only selected observables in cross validation)"
   ]
  },
  {
   "cell_type": "code",
   "execution_count": 6,
   "metadata": {},
   "outputs": [],
   "source": [
    "def forward_model_fun(fm_coeffs, forward_qs, selected_obs=None):\n",
    "\n",
    "    # 1. compute the cosine (which is the quantity you need in the forward model;\n",
    "    # you could do this just once before loading data)\n",
    "    forward_qs_cos = {}\n",
    "\n",
    "    for type_name in forward_qs.keys():\n",
    "        forward_qs_cos[type_name] = jnp.cos(forward_qs[type_name])\n",
    "\n",
    "    # if you have selected_obs, compute only the corresponding observables\n",
    "    if selected_obs is not None:\n",
    "        for type_name in forward_qs.keys():\n",
    "            forward_qs_cos[type_name] = forward_qs_cos[type_name][:, selected_obs[type_name + '_3J']]\n",
    "\n",
    "    # 2. compute observables (forward_qs_out) through forward model\n",
    "    forward_qs_out = {\n",
    "        'backbone1_gamma_3J': fm_coeffs[0]*forward_qs_cos['backbone1_gamma']**2 + fm_coeffs[1]*forward_qs_cos['backbone1_gamma'] + fm_coeffs[2],\n",
    "        'backbone2_beta_epsilon_3J': fm_coeffs[3]*forward_qs_cos['backbone2_beta_epsilon']**2 + fm_coeffs[4]*forward_qs_cos['backbone2_beta_epsilon'] + fm_coeffs[5],\n",
    "        'sugar_3J': fm_coeffs[6]*forward_qs_cos['sugar']**2 + fm_coeffs[7]*forward_qs_cos['sugar'] + fm_coeffs[8] }\n",
    "\n",
    "    return forward_qs_out"
   ]
  },
  {
   "cell_type": "code",
   "execution_count": 7,
   "metadata": {},
   "outputs": [],
   "source": [
    "infos['global']['forward_model'] = forward_model_fun"
   ]
  },
  {
   "cell_type": "markdown",
   "metadata": {},
   "source": [
    "- choose among force-field correction on $\\alpha,\\zeta$ or only on $\\alpha$ dihedral angles, for example let's take the second"
   ]
  },
  {
   "cell_type": "code",
   "execution_count": 8,
   "metadata": {},
   "outputs": [],
   "source": [
    "infos['global']['names_ff_pars'] = ['sin alpha', 'cos alpha']\n",
    "\n",
    "def ff_correction(pars, f):\n",
    "    out = jnp.matmul(pars, (f[:, [0, 6]] + f[:, [1, 7]] + f[:, [2, 8]]).T)\n",
    "    return out\n",
    "\n",
    "def ff_correction_hexamers(pars, f):\n",
    "    out = jnp.matmul(pars, (f[:, [0, 10]] + f[:, [1, 11]] + f[:, [2, 12]] + f[:, [3, 13]] + f[:, [4, 14]]).T)\n",
    "    return out\n",
    "\n",
    "infos['global']['ff_correction'] = ff_correction\n",
    "infos['UCAAUC'] = {'ff_correction': ff_correction_hexamers}"
   ]
  },
  {
   "cell_type": "markdown",
   "metadata": {},
   "source": [
    "- load the data"
   ]
  },
  {
   "cell_type": "code",
   "execution_count": 9,
   "metadata": {},
   "outputs": [
    {
     "name": "stderr",
     "output_type": "stream",
     "text": [
      "WARNING:absl:No GPU/TPU found, falling back to CPU. (Set TF_CPP_MIN_LOG_LEVEL=0 and rerun for more info.)\n"
     ]
    },
    {
     "name": "stdout",
     "output_type": "stream",
     "text": [
      "loading data from directory...\n",
      "loading  AAAA\n",
      "loading  CAAU\n",
      "loading  CCCC\n",
      "loading  GACC\n",
      "loading  UUUU\n",
      "loading  UCAAUC\n",
      "done\n"
     ]
    }
   ],
   "source": [
    "data = load_data(infos, stride=stride)"
   ]
  },
  {
   "cell_type": "markdown",
   "metadata": {},
   "source": [
    "- define also the regularizations of the forward model (user-defined) and the force-field correction (Kullback-Leibler divergence)"
   ]
  },
  {
   "cell_type": "code",
   "execution_count": 10,
   "metadata": {},
   "outputs": [],
   "source": [
    "def forward_model_regularization(coeffs, coeffs_0):\n",
    "    regularization = (\n",
    "    3/8*(coeffs[0]-coeffs_0['A_gamma'])**2+1/2*(coeffs[1]-coeffs_0['B_gamma'])**2+(coeffs[2]-coeffs_0['C_gamma'])**2+(coeffs[0]-coeffs_0['A_gamma'])*(coeffs[2]-coeffs_0['C_gamma'])+\n",
    "    3/8*(coeffs[3]-coeffs_0['A_beta'])**2+1/2*(coeffs[4]-coeffs_0['B_beta'])**2+(coeffs[5]-coeffs_0['C_beta'])**2+(coeffs[3]-coeffs_0['A_beta'])*(coeffs[5]-coeffs_0['C_beta'])+\n",
    "    3/8*(coeffs[6]-coeffs_0['A_sugar'])**2+1/2*(coeffs[7]-coeffs_0['B_sugar'])**2+(coeffs[8]-coeffs_0['C_sugar'])**2+(coeffs[6]-coeffs_0['A_sugar'])*(coeffs[8]-coeffs_0['C_sugar']))\n",
    "\n",
    "    return regularization"
   ]
  },
  {
   "cell_type": "code",
   "execution_count": 11,
   "metadata": {},
   "outputs": [],
   "source": [
    "regularization = {'force_field_reg': 'KL divergence', 'forward_model_reg': forward_model_regularization}"
   ]
  },
  {
   "cell_type": "markdown",
   "metadata": {},
   "source": [
    "### Nested cross-validation"
   ]
  },
  {
   "cell_type": "code",
   "execution_count": 7,
   "metadata": {},
   "outputs": [
    {
     "name": "stdout",
     "output_type": "stream",
     "text": [
      "Input random_state employed both for observables and frames\n"
     ]
    }
   ],
   "source": [
    "data_cv, data_test, test_obs, test_frames = split_dataset(data, frames_fraction=0.1, obs_fraction=0.1, random_state=1)"
   ]
  },
  {
   "cell_type": "code",
   "execution_count": 8,
   "metadata": {},
   "outputs": [
    {
     "name": "stdout",
     "output_type": "stream",
     "text": [
      "References for MDRefine package:\n",
      "I. Gilardoni, V. Piomponi, T. Fröhlking, and G. Bussi, “MDRefine: a Python package for refining Molecular Dynamics trajectories with experimental data”, arxiv (2024)\n",
      "\n",
      "References for Ensemble Refinement:\n",
      "J. W. Pitera and J. D. Chodera, “On the use of experimental observations to bias simulated ensembles”, J. Chem. Theory Comp. 8, 3445–3451 (2012).\n",
      "\n",
      "G. Hummer and J. Köfinger, “Bayesian ensemble refinement by replica simulations and reweighting”, J. Chem. Phys. 143, 243150 (2015).\n",
      "\n",
      "A. Cesari, A. Gil-Ley, and G. Bussi, “Combining simulations and solution experiments as a paradigm for RNA force field refinement”, J. Chem. Theory Comp. 12, 6192–6200 (2016).\n",
      "\n",
      "A. Cesari, S. Reißer, and G. Bussi, “Using the maximum entropy principle to combine simulations and solution experiments”, Computation 6, 15 (2018).\n",
      "\n",
      "J. Köfinger, L. S. Stelzl, K. Reuter, C. Allande, K. Reichel, and G. Hummer, “Efficient ensemble refinement by reweighting”, J. Chem. Theory Comput. 15, 3390–3401 (2019)\n",
      "\n",
      "\n",
      "\n",
      "References for Force-Field Fitting:\n",
      "A. B. Norgaard, J. Ferkinghoff-Borg, and K. Lindorff-Larsen, “Experimental parameterization of an energy function for the simulation of unfolded proteins”, Biophys. J. 94, 182–192 (2008)\n",
      "\n",
      "T. Fröhlking, M. Bernetti, N. Calonaci, and G. Bussi, “Toward empirical force fields that match experimental observables”, J. Chem. Phys. 152, 230902 (2020).\n",
      "\n",
      "J. Köfinger and G. Hummer, “Empirical optimization of molecular simulation force fields by Bayesian inference”, Eur. Phys. J. B 94, 245 (2021).\n",
      "\n",
      "X. Wang, J. Li, L. Yang, F. Chen, Y. Wang, J. Chang, J. Chen, W. Feng, L. Zhang, and K. Yu, “Dmff: an open-source automatic differentiable platform for molecular force field development and molecular dynamics simulation”, Journal of Chemical Theory and Computation 19, 5897–5909 (2023).\n",
      "\n",
      "P. Fuchs, S. Thaler, S. Röcken, and J. Zavadlav, “chemtrain: Learning deep potential models via automatic differentiation and statistical physics”, Computer Physics Communications, 109512 (2025)\n",
      "\n",
      "\n",
      "\n",
      "References for Ensemble Refinement + Force-Field Fitting:\n",
      "I. Gilardoni, T. Fröhlking, and G. Bussi, “Boosting ensemble refinement with transferable force-field corrections: Synergistic optimization for molecular simulations”, J. Phys. Chem. Lett. 15, 1204–1210 (2024).\n",
      "\n",
      "\n",
      "\n",
      "References for Ensemble + Forward-Model Refinement:\n",
      "T. Fröhlking, M. Bernetti, and G. Bussi, “Simultaneous refinement of molecular dynamics ensembles and forward models using experimental data”, J. Chem. Phys. 158 (2023).\n",
      "\n",
      "\n",
      "\n",
      "--------------------------------------------------------------------------\n",
      "\n",
      "search for optimal hyperparameters ...\n",
      "Input random_state employed both for observables and frames\n",
      "\n",
      "log10 hyperpars:  [('alpha', 0.0), ('beta', 0.0), ('gamma', 0.0)]\n"
     ]
    },
    {
     "ename": "TypeError",
     "evalue": "sum requires ndarray or scalar arguments, got <class 'list'> at position 0.",
     "output_type": "error",
     "traceback": [
      "\u001b[0;31m---------------------------------------------------------------------------\u001b[0m",
      "\u001b[0;31mTypeError\u001b[0m                                 Traceback (most recent call last)",
      "\u001b[0;32m<ipython-input-8-9180ac0c0bf0>\u001b[0m in \u001b[0;36m<module>\u001b[0;34m\u001b[0m\n\u001b[1;32m      1\u001b[0m Result = MDRefinement(data_cv, regularization=regularization, stride=1, starting_alpha=1,\n\u001b[1;32m      2\u001b[0m         \u001b[0mstarting_beta\u001b[0m\u001b[0;34m=\u001b[0m\u001b[0;36m1\u001b[0m\u001b[0;34m,\u001b[0m \u001b[0mstarting_gamma\u001b[0m\u001b[0;34m=\u001b[0m\u001b[0;36m1\u001b[0m\u001b[0;34m,\u001b[0m \u001b[0mrandom_states\u001b[0m\u001b[0;34m=\u001b[0m\u001b[0;36m1\u001b[0m\u001b[0;34m,\u001b[0m \u001b[0mwhich_set\u001b[0m\u001b[0;34m=\u001b[0m\u001b[0;34m'validation'\u001b[0m\u001b[0;34m,\u001b[0m\u001b[0;34m\u001b[0m\u001b[0;34m\u001b[0m\u001b[0m\n\u001b[0;32m----> 3\u001b[0;31m         results_folder_name='my_results')\n\u001b[0m",
      "\u001b[0;32m~/3_alphabetagamma/MDRefine/MDRefine/MDRefinement.py\u001b[0m in \u001b[0;36mMDRefinement\u001b[0;34m(data, regularization, stride, starting_alpha, starting_beta, starting_gamma, random_states, which_set, gtol, ftol, results_folder_name, n_parallel_jobs, id_code)\u001b[0m\n\u001b[1;32m     96\u001b[0m     mini = hyper_minimizer(\n\u001b[1;32m     97\u001b[0m         \u001b[0mdata\u001b[0m\u001b[0;34m,\u001b[0m \u001b[0mstarting_alpha\u001b[0m\u001b[0;34m,\u001b[0m \u001b[0mstarting_beta\u001b[0m\u001b[0;34m,\u001b[0m \u001b[0mstarting_gamma\u001b[0m\u001b[0;34m,\u001b[0m \u001b[0mregularization\u001b[0m\u001b[0;34m,\u001b[0m\u001b[0;34m\u001b[0m\u001b[0;34m\u001b[0m\u001b[0m\n\u001b[0;32m---> 98\u001b[0;31m         random_states, which_set, gtol, ftol, n_parallel_jobs=n_parallel_jobs, if_print_biblio=False)\n\u001b[0m\u001b[1;32m     99\u001b[0m \u001b[0;34m\u001b[0m\u001b[0m\n\u001b[1;32m    100\u001b[0m     \u001b[0moptimal_log10_hyperpars\u001b[0m \u001b[0;34m=\u001b[0m \u001b[0mmini\u001b[0m\u001b[0;34m.\u001b[0m\u001b[0mx\u001b[0m\u001b[0;34m\u001b[0m\u001b[0;34m\u001b[0m\u001b[0m\n",
      "\u001b[0;32m~/3_alphabetagamma/MDRefine/MDRefine/hyperminimizer.py\u001b[0m in \u001b[0;36mhyper_minimizer\u001b[0;34m(data, starting_alpha, starting_beta, starting_gamma, regularization, random_states, which_set, gtol, ftol, starting_pars, n_parallel_jobs, if_print_biblio)\u001b[0m\n\u001b[1;32m    827\u001b[0m         \u001b[0moptions\u001b[0m \u001b[0;34m=\u001b[0m \u001b[0;34m{\u001b[0m\u001b[0;34m'gtol'\u001b[0m\u001b[0;34m:\u001b[0m \u001b[0mgtol\u001b[0m\u001b[0;34m,\u001b[0m \u001b[0;34m'maxiter'\u001b[0m\u001b[0;34m:\u001b[0m \u001b[0;36m20\u001b[0m\u001b[0;34m,\u001b[0m \u001b[0;34m'ftol'\u001b[0m\u001b[0;34m:\u001b[0m \u001b[0mftol\u001b[0m\u001b[0;34m}\u001b[0m\u001b[0;34m\u001b[0m\u001b[0;34m\u001b[0m\u001b[0m\n\u001b[1;32m    828\u001b[0m \u001b[0;34m\u001b[0m\u001b[0m\n\u001b[0;32m--> 829\u001b[0;31m     \u001b[0mhyper_mini\u001b[0m \u001b[0;34m=\u001b[0m \u001b[0mminimize\u001b[0m\u001b[0;34m(\u001b[0m\u001b[0mhyper_function\u001b[0m\u001b[0;34m,\u001b[0m \u001b[0mlog10_hyperpars0\u001b[0m\u001b[0;34m,\u001b[0m \u001b[0margs\u001b[0m\u001b[0;34m=\u001b[0m\u001b[0margs\u001b[0m\u001b[0;34m,\u001b[0m \u001b[0mmethod\u001b[0m\u001b[0;34m=\u001b[0m\u001b[0mmethod\u001b[0m\u001b[0;34m,\u001b[0m \u001b[0mjac\u001b[0m\u001b[0;34m=\u001b[0m\u001b[0;32mTrue\u001b[0m\u001b[0;34m,\u001b[0m \u001b[0moptions\u001b[0m\u001b[0;34m=\u001b[0m\u001b[0moptions\u001b[0m\u001b[0;34m)\u001b[0m\u001b[0;34m\u001b[0m\u001b[0;34m\u001b[0m\u001b[0m\n\u001b[0m\u001b[1;32m    830\u001b[0m \u001b[0;34m\u001b[0m\u001b[0m\n\u001b[1;32m    831\u001b[0m     \u001b[0mhyper_intermediate\u001b[0m\u001b[0;34m.\u001b[0m\u001b[0mav_chi2\u001b[0m \u001b[0;34m=\u001b[0m \u001b[0mnp\u001b[0m\u001b[0;34m.\u001b[0m\u001b[0marray\u001b[0m\u001b[0;34m(\u001b[0m\u001b[0mhyper_intermediate\u001b[0m\u001b[0;34m.\u001b[0m\u001b[0mav_chi2\u001b[0m\u001b[0;34m)\u001b[0m\u001b[0;34m\u001b[0m\u001b[0;34m\u001b[0m\u001b[0m\n",
      "\u001b[0;32m~/.local/lib/python3.6/site-packages/scipy/optimize/_minimize.py\u001b[0m in \u001b[0;36mminimize\u001b[0;34m(fun, x0, args, method, jac, hess, hessp, bounds, constraints, tol, callback, options)\u001b[0m\n\u001b[1;32m    616\u001b[0m     \u001b[0;32melif\u001b[0m \u001b[0mmeth\u001b[0m \u001b[0;34m==\u001b[0m \u001b[0;34m'l-bfgs-b'\u001b[0m\u001b[0;34m:\u001b[0m\u001b[0;34m\u001b[0m\u001b[0;34m\u001b[0m\u001b[0m\n\u001b[1;32m    617\u001b[0m         return _minimize_lbfgsb(fun, x0, args, jac, bounds,\n\u001b[0;32m--> 618\u001b[0;31m                                 callback=callback, **options)\n\u001b[0m\u001b[1;32m    619\u001b[0m     \u001b[0;32melif\u001b[0m \u001b[0mmeth\u001b[0m \u001b[0;34m==\u001b[0m \u001b[0;34m'tnc'\u001b[0m\u001b[0;34m:\u001b[0m\u001b[0;34m\u001b[0m\u001b[0;34m\u001b[0m\u001b[0m\n\u001b[1;32m    620\u001b[0m         return _minimize_tnc(fun, x0, args, jac, bounds, callback=callback,\n",
      "\u001b[0;32m~/.local/lib/python3.6/site-packages/scipy/optimize/lbfgsb.py\u001b[0m in \u001b[0;36m_minimize_lbfgsb\u001b[0;34m(fun, x0, args, jac, bounds, disp, maxcor, ftol, gtol, eps, maxfun, maxiter, iprint, callback, maxls, finite_diff_rel_step, **unknown_options)\u001b[0m\n\u001b[1;32m    306\u001b[0m     sf = _prepare_scalar_function(fun, x0, jac=jac, args=args, epsilon=eps,\n\u001b[1;32m    307\u001b[0m                                   \u001b[0mbounds\u001b[0m\u001b[0;34m=\u001b[0m\u001b[0mnew_bounds\u001b[0m\u001b[0;34m,\u001b[0m\u001b[0;34m\u001b[0m\u001b[0;34m\u001b[0m\u001b[0m\n\u001b[0;32m--> 308\u001b[0;31m                                   finite_diff_rel_step=finite_diff_rel_step)\n\u001b[0m\u001b[1;32m    309\u001b[0m \u001b[0;34m\u001b[0m\u001b[0m\n\u001b[1;32m    310\u001b[0m     \u001b[0mfunc_and_grad\u001b[0m \u001b[0;34m=\u001b[0m \u001b[0msf\u001b[0m\u001b[0;34m.\u001b[0m\u001b[0mfun_and_grad\u001b[0m\u001b[0;34m\u001b[0m\u001b[0;34m\u001b[0m\u001b[0m\n",
      "\u001b[0;32m~/.local/lib/python3.6/site-packages/scipy/optimize/optimize.py\u001b[0m in \u001b[0;36m_prepare_scalar_function\u001b[0;34m(fun, x0, jac, args, bounds, epsilon, finite_diff_rel_step, hess)\u001b[0m\n\u001b[1;32m    260\u001b[0m     \u001b[0;31m# calculation reduces overall function evaluations.\u001b[0m\u001b[0;34m\u001b[0m\u001b[0;34m\u001b[0m\u001b[0;34m\u001b[0m\u001b[0m\n\u001b[1;32m    261\u001b[0m     sf = ScalarFunction(fun, x0, args, grad, hess,\n\u001b[0;32m--> 262\u001b[0;31m                         finite_diff_rel_step, bounds, epsilon=epsilon)\n\u001b[0m\u001b[1;32m    263\u001b[0m \u001b[0;34m\u001b[0m\u001b[0m\n\u001b[1;32m    264\u001b[0m     \u001b[0;32mreturn\u001b[0m \u001b[0msf\u001b[0m\u001b[0;34m\u001b[0m\u001b[0;34m\u001b[0m\u001b[0m\n",
      "\u001b[0;32m~/.local/lib/python3.6/site-packages/scipy/optimize/_differentiable_functions.py\u001b[0m in \u001b[0;36m__init__\u001b[0;34m(self, fun, x0, args, grad, hess, finite_diff_rel_step, finite_diff_bounds, epsilon)\u001b[0m\n\u001b[1;32m     74\u001b[0m \u001b[0;34m\u001b[0m\u001b[0m\n\u001b[1;32m     75\u001b[0m         \u001b[0mself\u001b[0m\u001b[0;34m.\u001b[0m\u001b[0m_update_fun_impl\u001b[0m \u001b[0;34m=\u001b[0m \u001b[0mupdate_fun\u001b[0m\u001b[0;34m\u001b[0m\u001b[0;34m\u001b[0m\u001b[0m\n\u001b[0;32m---> 76\u001b[0;31m         \u001b[0mself\u001b[0m\u001b[0;34m.\u001b[0m\u001b[0m_update_fun\u001b[0m\u001b[0;34m(\u001b[0m\u001b[0;34m)\u001b[0m\u001b[0;34m\u001b[0m\u001b[0;34m\u001b[0m\u001b[0m\n\u001b[0m\u001b[1;32m     77\u001b[0m \u001b[0;34m\u001b[0m\u001b[0m\n\u001b[1;32m     78\u001b[0m         \u001b[0;31m# Gradient evaluation\u001b[0m\u001b[0;34m\u001b[0m\u001b[0;34m\u001b[0m\u001b[0;34m\u001b[0m\u001b[0m\n",
      "\u001b[0;32m~/.local/lib/python3.6/site-packages/scipy/optimize/_differentiable_functions.py\u001b[0m in \u001b[0;36m_update_fun\u001b[0;34m(self)\u001b[0m\n\u001b[1;32m    164\u001b[0m     \u001b[0;32mdef\u001b[0m \u001b[0m_update_fun\u001b[0m\u001b[0;34m(\u001b[0m\u001b[0mself\u001b[0m\u001b[0;34m)\u001b[0m\u001b[0;34m:\u001b[0m\u001b[0;34m\u001b[0m\u001b[0;34m\u001b[0m\u001b[0m\n\u001b[1;32m    165\u001b[0m         \u001b[0;32mif\u001b[0m \u001b[0;32mnot\u001b[0m \u001b[0mself\u001b[0m\u001b[0;34m.\u001b[0m\u001b[0mf_updated\u001b[0m\u001b[0;34m:\u001b[0m\u001b[0;34m\u001b[0m\u001b[0;34m\u001b[0m\u001b[0m\n\u001b[0;32m--> 166\u001b[0;31m             \u001b[0mself\u001b[0m\u001b[0;34m.\u001b[0m\u001b[0m_update_fun_impl\u001b[0m\u001b[0;34m(\u001b[0m\u001b[0;34m)\u001b[0m\u001b[0;34m\u001b[0m\u001b[0;34m\u001b[0m\u001b[0m\n\u001b[0m\u001b[1;32m    167\u001b[0m             \u001b[0mself\u001b[0m\u001b[0;34m.\u001b[0m\u001b[0mf_updated\u001b[0m \u001b[0;34m=\u001b[0m \u001b[0;32mTrue\u001b[0m\u001b[0;34m\u001b[0m\u001b[0;34m\u001b[0m\u001b[0m\n\u001b[1;32m    168\u001b[0m \u001b[0;34m\u001b[0m\u001b[0m\n",
      "\u001b[0;32m~/.local/lib/python3.6/site-packages/scipy/optimize/_differentiable_functions.py\u001b[0m in \u001b[0;36mupdate_fun\u001b[0;34m()\u001b[0m\n\u001b[1;32m     71\u001b[0m \u001b[0;34m\u001b[0m\u001b[0m\n\u001b[1;32m     72\u001b[0m         \u001b[0;32mdef\u001b[0m \u001b[0mupdate_fun\u001b[0m\u001b[0;34m(\u001b[0m\u001b[0;34m)\u001b[0m\u001b[0;34m:\u001b[0m\u001b[0;34m\u001b[0m\u001b[0;34m\u001b[0m\u001b[0m\n\u001b[0;32m---> 73\u001b[0;31m             \u001b[0mself\u001b[0m\u001b[0;34m.\u001b[0m\u001b[0mf\u001b[0m \u001b[0;34m=\u001b[0m \u001b[0mfun_wrapped\u001b[0m\u001b[0;34m(\u001b[0m\u001b[0mself\u001b[0m\u001b[0;34m.\u001b[0m\u001b[0mx\u001b[0m\u001b[0;34m)\u001b[0m\u001b[0;34m\u001b[0m\u001b[0;34m\u001b[0m\u001b[0m\n\u001b[0m\u001b[1;32m     74\u001b[0m \u001b[0;34m\u001b[0m\u001b[0m\n\u001b[1;32m     75\u001b[0m         \u001b[0mself\u001b[0m\u001b[0;34m.\u001b[0m\u001b[0m_update_fun_impl\u001b[0m \u001b[0;34m=\u001b[0m \u001b[0mupdate_fun\u001b[0m\u001b[0;34m\u001b[0m\u001b[0;34m\u001b[0m\u001b[0m\n",
      "\u001b[0;32m~/.local/lib/python3.6/site-packages/scipy/optimize/_differentiable_functions.py\u001b[0m in \u001b[0;36mfun_wrapped\u001b[0;34m(x)\u001b[0m\n\u001b[1;32m     68\u001b[0m         \u001b[0;32mdef\u001b[0m \u001b[0mfun_wrapped\u001b[0m\u001b[0;34m(\u001b[0m\u001b[0mx\u001b[0m\u001b[0;34m)\u001b[0m\u001b[0;34m:\u001b[0m\u001b[0;34m\u001b[0m\u001b[0;34m\u001b[0m\u001b[0m\n\u001b[1;32m     69\u001b[0m             \u001b[0mself\u001b[0m\u001b[0;34m.\u001b[0m\u001b[0mnfev\u001b[0m \u001b[0;34m+=\u001b[0m \u001b[0;36m1\u001b[0m\u001b[0;34m\u001b[0m\u001b[0;34m\u001b[0m\u001b[0m\n\u001b[0;32m---> 70\u001b[0;31m             \u001b[0;32mreturn\u001b[0m \u001b[0mfun\u001b[0m\u001b[0;34m(\u001b[0m\u001b[0mx\u001b[0m\u001b[0;34m,\u001b[0m \u001b[0;34m*\u001b[0m\u001b[0margs\u001b[0m\u001b[0;34m)\u001b[0m\u001b[0;34m\u001b[0m\u001b[0;34m\u001b[0m\u001b[0m\n\u001b[0m\u001b[1;32m     71\u001b[0m \u001b[0;34m\u001b[0m\u001b[0m\n\u001b[1;32m     72\u001b[0m         \u001b[0;32mdef\u001b[0m \u001b[0mupdate_fun\u001b[0m\u001b[0;34m(\u001b[0m\u001b[0;34m)\u001b[0m\u001b[0;34m:\u001b[0m\u001b[0;34m\u001b[0m\u001b[0;34m\u001b[0m\u001b[0m\n",
      "\u001b[0;32m~/.local/lib/python3.6/site-packages/scipy/optimize/optimize.py\u001b[0m in \u001b[0;36m__call__\u001b[0;34m(self, x, *args)\u001b[0m\n\u001b[1;32m     72\u001b[0m     \u001b[0;32mdef\u001b[0m \u001b[0m__call__\u001b[0m\u001b[0;34m(\u001b[0m\u001b[0mself\u001b[0m\u001b[0;34m,\u001b[0m \u001b[0mx\u001b[0m\u001b[0;34m,\u001b[0m \u001b[0;34m*\u001b[0m\u001b[0margs\u001b[0m\u001b[0;34m)\u001b[0m\u001b[0;34m:\u001b[0m\u001b[0;34m\u001b[0m\u001b[0;34m\u001b[0m\u001b[0m\n\u001b[1;32m     73\u001b[0m         \u001b[0;34m\"\"\" returns the the function value \"\"\"\u001b[0m\u001b[0;34m\u001b[0m\u001b[0;34m\u001b[0m\u001b[0m\n\u001b[0;32m---> 74\u001b[0;31m         \u001b[0mself\u001b[0m\u001b[0;34m.\u001b[0m\u001b[0m_compute_if_needed\u001b[0m\u001b[0;34m(\u001b[0m\u001b[0mx\u001b[0m\u001b[0;34m,\u001b[0m \u001b[0;34m*\u001b[0m\u001b[0margs\u001b[0m\u001b[0;34m)\u001b[0m\u001b[0;34m\u001b[0m\u001b[0;34m\u001b[0m\u001b[0m\n\u001b[0m\u001b[1;32m     75\u001b[0m         \u001b[0;32mreturn\u001b[0m \u001b[0mself\u001b[0m\u001b[0;34m.\u001b[0m\u001b[0m_value\u001b[0m\u001b[0;34m\u001b[0m\u001b[0;34m\u001b[0m\u001b[0m\n\u001b[1;32m     76\u001b[0m \u001b[0;34m\u001b[0m\u001b[0m\n",
      "\u001b[0;32m~/.local/lib/python3.6/site-packages/scipy/optimize/optimize.py\u001b[0m in \u001b[0;36m_compute_if_needed\u001b[0;34m(self, x, *args)\u001b[0m\n\u001b[1;32m     66\u001b[0m         \u001b[0;32mif\u001b[0m \u001b[0;32mnot\u001b[0m \u001b[0mnp\u001b[0m\u001b[0;34m.\u001b[0m\u001b[0mall\u001b[0m\u001b[0;34m(\u001b[0m\u001b[0mx\u001b[0m \u001b[0;34m==\u001b[0m \u001b[0mself\u001b[0m\u001b[0;34m.\u001b[0m\u001b[0mx\u001b[0m\u001b[0;34m)\u001b[0m \u001b[0;32mor\u001b[0m \u001b[0mself\u001b[0m\u001b[0;34m.\u001b[0m\u001b[0m_value\u001b[0m \u001b[0;32mis\u001b[0m \u001b[0;32mNone\u001b[0m \u001b[0;32mor\u001b[0m \u001b[0mself\u001b[0m\u001b[0;34m.\u001b[0m\u001b[0mjac\u001b[0m \u001b[0;32mis\u001b[0m \u001b[0;32mNone\u001b[0m\u001b[0;34m:\u001b[0m\u001b[0;34m\u001b[0m\u001b[0;34m\u001b[0m\u001b[0m\n\u001b[1;32m     67\u001b[0m             \u001b[0mself\u001b[0m\u001b[0;34m.\u001b[0m\u001b[0mx\u001b[0m \u001b[0;34m=\u001b[0m \u001b[0mnp\u001b[0m\u001b[0;34m.\u001b[0m\u001b[0masarray\u001b[0m\u001b[0;34m(\u001b[0m\u001b[0mx\u001b[0m\u001b[0;34m)\u001b[0m\u001b[0;34m.\u001b[0m\u001b[0mcopy\u001b[0m\u001b[0;34m(\u001b[0m\u001b[0;34m)\u001b[0m\u001b[0;34m\u001b[0m\u001b[0;34m\u001b[0m\u001b[0m\n\u001b[0;32m---> 68\u001b[0;31m             \u001b[0mfg\u001b[0m \u001b[0;34m=\u001b[0m \u001b[0mself\u001b[0m\u001b[0;34m.\u001b[0m\u001b[0mfun\u001b[0m\u001b[0;34m(\u001b[0m\u001b[0mx\u001b[0m\u001b[0;34m,\u001b[0m \u001b[0;34m*\u001b[0m\u001b[0margs\u001b[0m\u001b[0;34m)\u001b[0m\u001b[0;34m\u001b[0m\u001b[0;34m\u001b[0m\u001b[0m\n\u001b[0m\u001b[1;32m     69\u001b[0m             \u001b[0mself\u001b[0m\u001b[0;34m.\u001b[0m\u001b[0mjac\u001b[0m \u001b[0;34m=\u001b[0m \u001b[0mfg\u001b[0m\u001b[0;34m[\u001b[0m\u001b[0;36m1\u001b[0m\u001b[0;34m]\u001b[0m\u001b[0;34m\u001b[0m\u001b[0;34m\u001b[0m\u001b[0m\n\u001b[1;32m     70\u001b[0m             \u001b[0mself\u001b[0m\u001b[0;34m.\u001b[0m\u001b[0m_value\u001b[0m \u001b[0;34m=\u001b[0m \u001b[0mfg\u001b[0m\u001b[0;34m[\u001b[0m\u001b[0;36m0\u001b[0m\u001b[0;34m]\u001b[0m\u001b[0;34m\u001b[0m\u001b[0;34m\u001b[0m\u001b[0m\n",
      "\u001b[0;32m~/3_alphabetagamma/MDRefine/MDRefine/hyperminimizer.py\u001b[0m in \u001b[0;36mhyper_function\u001b[0;34m(log10_hyperpars, map_hyperpars, data, regularization, valid_obs, valid_frames, which_set, derivatives_funs, starting_pars, n_parallel_jobs)\u001b[0m\n\u001b[1;32m    657\u001b[0m     output = Parallel(n_jobs=n_parallel_jobs)(delayed(mini_and_chi2_and_grad)(\n\u001b[1;32m    658\u001b[0m         \u001b[0mdata\u001b[0m\u001b[0;34m,\u001b[0m \u001b[0mvalid_frames\u001b[0m\u001b[0;34m[\u001b[0m\u001b[0mseed\u001b[0m\u001b[0;34m]\u001b[0m\u001b[0;34m,\u001b[0m \u001b[0mvalid_obs\u001b[0m\u001b[0;34m[\u001b[0m\u001b[0mseed\u001b[0m\u001b[0;34m]\u001b[0m\u001b[0;34m,\u001b[0m \u001b[0mregularization\u001b[0m\u001b[0;34m,\u001b[0m \u001b[0malpha\u001b[0m\u001b[0;34m,\u001b[0m \u001b[0mbeta\u001b[0m\u001b[0;34m,\u001b[0m \u001b[0mgamma\u001b[0m\u001b[0;34m,\u001b[0m \u001b[0mstarting_pars\u001b[0m\u001b[0;34m,\u001b[0m\u001b[0;34m\u001b[0m\u001b[0;34m\u001b[0m\u001b[0m\n\u001b[0;32m--> 659\u001b[0;31m         which_set, derivatives_funs) for seed in random_states)\n\u001b[0m\u001b[1;32m    660\u001b[0m \u001b[0;34m\u001b[0m\u001b[0m\n\u001b[1;32m    661\u001b[0m     \u001b[0mResults\u001b[0m \u001b[0;34m=\u001b[0m \u001b[0;34m[\u001b[0m\u001b[0moutput\u001b[0m\u001b[0;34m[\u001b[0m\u001b[0mi\u001b[0m\u001b[0;34m]\u001b[0m\u001b[0;34m[\u001b[0m\u001b[0;36m0\u001b[0m\u001b[0;34m]\u001b[0m \u001b[0;32mfor\u001b[0m \u001b[0mi\u001b[0m \u001b[0;32min\u001b[0m \u001b[0mrange\u001b[0m\u001b[0;34m(\u001b[0m\u001b[0mlen\u001b[0m\u001b[0;34m(\u001b[0m\u001b[0mrandom_states\u001b[0m\u001b[0;34m)\u001b[0m\u001b[0;34m)\u001b[0m\u001b[0;34m]\u001b[0m\u001b[0;34m\u001b[0m\u001b[0;34m\u001b[0m\u001b[0m\n",
      "\u001b[0;32m~/.local/lib/python3.6/site-packages/joblib/parallel.py\u001b[0m in \u001b[0;36m__call__\u001b[0;34m(self, iterable)\u001b[0m\n\u001b[1;32m   1041\u001b[0m             \u001b[0;31m# remaining jobs.\u001b[0m\u001b[0;34m\u001b[0m\u001b[0;34m\u001b[0m\u001b[0;34m\u001b[0m\u001b[0m\n\u001b[1;32m   1042\u001b[0m             \u001b[0mself\u001b[0m\u001b[0;34m.\u001b[0m\u001b[0m_iterating\u001b[0m \u001b[0;34m=\u001b[0m \u001b[0;32mFalse\u001b[0m\u001b[0;34m\u001b[0m\u001b[0;34m\u001b[0m\u001b[0m\n\u001b[0;32m-> 1043\u001b[0;31m             \u001b[0;32mif\u001b[0m \u001b[0mself\u001b[0m\u001b[0;34m.\u001b[0m\u001b[0mdispatch_one_batch\u001b[0m\u001b[0;34m(\u001b[0m\u001b[0miterator\u001b[0m\u001b[0;34m)\u001b[0m\u001b[0;34m:\u001b[0m\u001b[0;34m\u001b[0m\u001b[0;34m\u001b[0m\u001b[0m\n\u001b[0m\u001b[1;32m   1044\u001b[0m                 \u001b[0mself\u001b[0m\u001b[0;34m.\u001b[0m\u001b[0m_iterating\u001b[0m \u001b[0;34m=\u001b[0m \u001b[0mself\u001b[0m\u001b[0;34m.\u001b[0m\u001b[0m_original_iterator\u001b[0m \u001b[0;32mis\u001b[0m \u001b[0;32mnot\u001b[0m \u001b[0;32mNone\u001b[0m\u001b[0;34m\u001b[0m\u001b[0;34m\u001b[0m\u001b[0m\n\u001b[1;32m   1045\u001b[0m \u001b[0;34m\u001b[0m\u001b[0m\n",
      "\u001b[0;32m~/.local/lib/python3.6/site-packages/joblib/parallel.py\u001b[0m in \u001b[0;36mdispatch_one_batch\u001b[0;34m(self, iterator)\u001b[0m\n\u001b[1;32m    859\u001b[0m                 \u001b[0;32mreturn\u001b[0m \u001b[0;32mFalse\u001b[0m\u001b[0;34m\u001b[0m\u001b[0;34m\u001b[0m\u001b[0m\n\u001b[1;32m    860\u001b[0m             \u001b[0;32melse\u001b[0m\u001b[0;34m:\u001b[0m\u001b[0;34m\u001b[0m\u001b[0;34m\u001b[0m\u001b[0m\n\u001b[0;32m--> 861\u001b[0;31m                 \u001b[0mself\u001b[0m\u001b[0;34m.\u001b[0m\u001b[0m_dispatch\u001b[0m\u001b[0;34m(\u001b[0m\u001b[0mtasks\u001b[0m\u001b[0;34m)\u001b[0m\u001b[0;34m\u001b[0m\u001b[0;34m\u001b[0m\u001b[0m\n\u001b[0m\u001b[1;32m    862\u001b[0m                 \u001b[0;32mreturn\u001b[0m \u001b[0;32mTrue\u001b[0m\u001b[0;34m\u001b[0m\u001b[0;34m\u001b[0m\u001b[0m\n\u001b[1;32m    863\u001b[0m \u001b[0;34m\u001b[0m\u001b[0m\n",
      "\u001b[0;32m~/.local/lib/python3.6/site-packages/joblib/parallel.py\u001b[0m in \u001b[0;36m_dispatch\u001b[0;34m(self, batch)\u001b[0m\n\u001b[1;32m    777\u001b[0m         \u001b[0;32mwith\u001b[0m \u001b[0mself\u001b[0m\u001b[0;34m.\u001b[0m\u001b[0m_lock\u001b[0m\u001b[0;34m:\u001b[0m\u001b[0;34m\u001b[0m\u001b[0;34m\u001b[0m\u001b[0m\n\u001b[1;32m    778\u001b[0m             \u001b[0mjob_idx\u001b[0m \u001b[0;34m=\u001b[0m \u001b[0mlen\u001b[0m\u001b[0;34m(\u001b[0m\u001b[0mself\u001b[0m\u001b[0;34m.\u001b[0m\u001b[0m_jobs\u001b[0m\u001b[0;34m)\u001b[0m\u001b[0;34m\u001b[0m\u001b[0;34m\u001b[0m\u001b[0m\n\u001b[0;32m--> 779\u001b[0;31m             \u001b[0mjob\u001b[0m \u001b[0;34m=\u001b[0m \u001b[0mself\u001b[0m\u001b[0;34m.\u001b[0m\u001b[0m_backend\u001b[0m\u001b[0;34m.\u001b[0m\u001b[0mapply_async\u001b[0m\u001b[0;34m(\u001b[0m\u001b[0mbatch\u001b[0m\u001b[0;34m,\u001b[0m \u001b[0mcallback\u001b[0m\u001b[0;34m=\u001b[0m\u001b[0mcb\u001b[0m\u001b[0;34m)\u001b[0m\u001b[0;34m\u001b[0m\u001b[0;34m\u001b[0m\u001b[0m\n\u001b[0m\u001b[1;32m    780\u001b[0m             \u001b[0;31m# A job can complete so quickly than its callback is\u001b[0m\u001b[0;34m\u001b[0m\u001b[0;34m\u001b[0m\u001b[0;34m\u001b[0m\u001b[0m\n\u001b[1;32m    781\u001b[0m             \u001b[0;31m# called before we get here, causing self._jobs to\u001b[0m\u001b[0;34m\u001b[0m\u001b[0;34m\u001b[0m\u001b[0;34m\u001b[0m\u001b[0m\n",
      "\u001b[0;32m~/.local/lib/python3.6/site-packages/joblib/_parallel_backends.py\u001b[0m in \u001b[0;36mapply_async\u001b[0;34m(self, func, callback)\u001b[0m\n\u001b[1;32m    206\u001b[0m     \u001b[0;32mdef\u001b[0m \u001b[0mapply_async\u001b[0m\u001b[0;34m(\u001b[0m\u001b[0mself\u001b[0m\u001b[0;34m,\u001b[0m \u001b[0mfunc\u001b[0m\u001b[0;34m,\u001b[0m \u001b[0mcallback\u001b[0m\u001b[0;34m=\u001b[0m\u001b[0;32mNone\u001b[0m\u001b[0;34m)\u001b[0m\u001b[0;34m:\u001b[0m\u001b[0;34m\u001b[0m\u001b[0;34m\u001b[0m\u001b[0m\n\u001b[1;32m    207\u001b[0m         \u001b[0;34m\"\"\"Schedule a func to be run\"\"\"\u001b[0m\u001b[0;34m\u001b[0m\u001b[0;34m\u001b[0m\u001b[0m\n\u001b[0;32m--> 208\u001b[0;31m         \u001b[0mresult\u001b[0m \u001b[0;34m=\u001b[0m \u001b[0mImmediateResult\u001b[0m\u001b[0;34m(\u001b[0m\u001b[0mfunc\u001b[0m\u001b[0;34m)\u001b[0m\u001b[0;34m\u001b[0m\u001b[0;34m\u001b[0m\u001b[0m\n\u001b[0m\u001b[1;32m    209\u001b[0m         \u001b[0;32mif\u001b[0m \u001b[0mcallback\u001b[0m\u001b[0;34m:\u001b[0m\u001b[0;34m\u001b[0m\u001b[0;34m\u001b[0m\u001b[0m\n\u001b[1;32m    210\u001b[0m             \u001b[0mcallback\u001b[0m\u001b[0;34m(\u001b[0m\u001b[0mresult\u001b[0m\u001b[0;34m)\u001b[0m\u001b[0;34m\u001b[0m\u001b[0;34m\u001b[0m\u001b[0m\n",
      "\u001b[0;32m~/.local/lib/python3.6/site-packages/joblib/_parallel_backends.py\u001b[0m in \u001b[0;36m__init__\u001b[0;34m(self, batch)\u001b[0m\n\u001b[1;32m    570\u001b[0m         \u001b[0;31m# Don't delay the application, to avoid keeping the input\u001b[0m\u001b[0;34m\u001b[0m\u001b[0;34m\u001b[0m\u001b[0;34m\u001b[0m\u001b[0m\n\u001b[1;32m    571\u001b[0m         \u001b[0;31m# arguments in memory\u001b[0m\u001b[0;34m\u001b[0m\u001b[0;34m\u001b[0m\u001b[0;34m\u001b[0m\u001b[0m\n\u001b[0;32m--> 572\u001b[0;31m         \u001b[0mself\u001b[0m\u001b[0;34m.\u001b[0m\u001b[0mresults\u001b[0m \u001b[0;34m=\u001b[0m \u001b[0mbatch\u001b[0m\u001b[0;34m(\u001b[0m\u001b[0;34m)\u001b[0m\u001b[0;34m\u001b[0m\u001b[0;34m\u001b[0m\u001b[0m\n\u001b[0m\u001b[1;32m    573\u001b[0m \u001b[0;34m\u001b[0m\u001b[0m\n\u001b[1;32m    574\u001b[0m     \u001b[0;32mdef\u001b[0m \u001b[0mget\u001b[0m\u001b[0;34m(\u001b[0m\u001b[0mself\u001b[0m\u001b[0;34m)\u001b[0m\u001b[0;34m:\u001b[0m\u001b[0;34m\u001b[0m\u001b[0;34m\u001b[0m\u001b[0m\n",
      "\u001b[0;32m~/.local/lib/python3.6/site-packages/joblib/parallel.py\u001b[0m in \u001b[0;36m__call__\u001b[0;34m(self)\u001b[0m\n\u001b[1;32m    261\u001b[0m         \u001b[0;32mwith\u001b[0m \u001b[0mparallel_backend\u001b[0m\u001b[0;34m(\u001b[0m\u001b[0mself\u001b[0m\u001b[0;34m.\u001b[0m\u001b[0m_backend\u001b[0m\u001b[0;34m,\u001b[0m \u001b[0mn_jobs\u001b[0m\u001b[0;34m=\u001b[0m\u001b[0mself\u001b[0m\u001b[0;34m.\u001b[0m\u001b[0m_n_jobs\u001b[0m\u001b[0;34m)\u001b[0m\u001b[0;34m:\u001b[0m\u001b[0;34m\u001b[0m\u001b[0;34m\u001b[0m\u001b[0m\n\u001b[1;32m    262\u001b[0m             return [func(*args, **kwargs)\n\u001b[0;32m--> 263\u001b[0;31m                     for func, args, kwargs in self.items]\n\u001b[0m\u001b[1;32m    264\u001b[0m \u001b[0;34m\u001b[0m\u001b[0m\n\u001b[1;32m    265\u001b[0m     \u001b[0;32mdef\u001b[0m \u001b[0m__reduce__\u001b[0m\u001b[0;34m(\u001b[0m\u001b[0mself\u001b[0m\u001b[0;34m)\u001b[0m\u001b[0;34m:\u001b[0m\u001b[0;34m\u001b[0m\u001b[0;34m\u001b[0m\u001b[0m\n",
      "\u001b[0;32m~/.local/lib/python3.6/site-packages/joblib/parallel.py\u001b[0m in \u001b[0;36m<listcomp>\u001b[0;34m(.0)\u001b[0m\n\u001b[1;32m    261\u001b[0m         \u001b[0;32mwith\u001b[0m \u001b[0mparallel_backend\u001b[0m\u001b[0;34m(\u001b[0m\u001b[0mself\u001b[0m\u001b[0;34m.\u001b[0m\u001b[0m_backend\u001b[0m\u001b[0;34m,\u001b[0m \u001b[0mn_jobs\u001b[0m\u001b[0;34m=\u001b[0m\u001b[0mself\u001b[0m\u001b[0;34m.\u001b[0m\u001b[0m_n_jobs\u001b[0m\u001b[0;34m)\u001b[0m\u001b[0;34m:\u001b[0m\u001b[0;34m\u001b[0m\u001b[0;34m\u001b[0m\u001b[0m\n\u001b[1;32m    262\u001b[0m             return [func(*args, **kwargs)\n\u001b[0;32m--> 263\u001b[0;31m                     for func, args, kwargs in self.items]\n\u001b[0m\u001b[1;32m    264\u001b[0m \u001b[0;34m\u001b[0m\u001b[0m\n\u001b[1;32m    265\u001b[0m     \u001b[0;32mdef\u001b[0m \u001b[0m__reduce__\u001b[0m\u001b[0;34m(\u001b[0m\u001b[0mself\u001b[0m\u001b[0;34m)\u001b[0m\u001b[0;34m:\u001b[0m\u001b[0;34m\u001b[0m\u001b[0;34m\u001b[0m\u001b[0m\n",
      "\u001b[0;32m~/3_alphabetagamma/MDRefine/MDRefine/hyperminimizer.py\u001b[0m in \u001b[0;36mmini_and_chi2_and_grad\u001b[0;34m(data, valid_frames, valid_obs, regularization, alpha, beta, gamma, starting_pars, which_set, derivatives_funs)\u001b[0m\n\u001b[1;32m    545\u001b[0m     chi2, gradient = compute_hypergradient(\n\u001b[1;32m    546\u001b[0m         \u001b[0mpars_ff_fm\u001b[0m\u001b[0;34m,\u001b[0m \u001b[0mlambdas\u001b[0m\u001b[0;34m,\u001b[0m \u001b[0mnp\u001b[0m\u001b[0;34m.\u001b[0m\u001b[0mlog10\u001b[0m\u001b[0;34m(\u001b[0m\u001b[0malpha\u001b[0m\u001b[0;34m)\u001b[0m\u001b[0;34m,\u001b[0m \u001b[0mnp\u001b[0m\u001b[0;34m.\u001b[0m\u001b[0mlog10\u001b[0m\u001b[0;34m(\u001b[0m\u001b[0mbeta\u001b[0m\u001b[0;34m)\u001b[0m\u001b[0;34m,\u001b[0m \u001b[0mnp\u001b[0m\u001b[0;34m.\u001b[0m\u001b[0mlog10\u001b[0m\u001b[0;34m(\u001b[0m\u001b[0mgamma\u001b[0m\u001b[0;34m)\u001b[0m\u001b[0;34m,\u001b[0m \u001b[0mdata_train\u001b[0m\u001b[0;34m,\u001b[0m \u001b[0mregularization\u001b[0m\u001b[0;34m,\u001b[0m\u001b[0;34m\u001b[0m\u001b[0;34m\u001b[0m\u001b[0m\n\u001b[0;32m--> 547\u001b[0;31m         which_set, data_valid, derivatives_funs)\n\u001b[0m\u001b[1;32m    548\u001b[0m \u001b[0;34m\u001b[0m\u001b[0m\n\u001b[1;32m    549\u001b[0m     \u001b[0;32mreturn\u001b[0m \u001b[0mmini\u001b[0m\u001b[0;34m,\u001b[0m \u001b[0mchi2\u001b[0m\u001b[0;34m,\u001b[0m \u001b[0mgradient\u001b[0m\u001b[0;34m\u001b[0m\u001b[0;34m\u001b[0m\u001b[0m\n",
      "\u001b[0;32m~/3_alphabetagamma/MDRefine/MDRefine/hyperminimizer.py\u001b[0m in \u001b[0;36mcompute_hypergradient\u001b[0;34m(pars_ff_fm, lambdas, log10_alpha, log10_beta, log10_gamma, data_train, regularization, which_set, data_valid, derivatives_funs)\u001b[0m\n\u001b[1;32m    483\u001b[0m         \u001b[0mn_obs\u001b[0m \u001b[0;34m=\u001b[0m \u001b[0mnp\u001b[0m\u001b[0;34m.\u001b[0m\u001b[0msum\u001b[0m\u001b[0;34m(\u001b[0m\u001b[0;34m[\u001b[0m\u001b[0mnp\u001b[0m\u001b[0;34m.\u001b[0m\u001b[0msum\u001b[0m\u001b[0;34m(\u001b[0m\u001b[0mlist\u001b[0m\u001b[0;34m(\u001b[0m\u001b[0mdata_valid\u001b[0m\u001b[0;34m.\u001b[0m\u001b[0mmol\u001b[0m\u001b[0;34m[\u001b[0m\u001b[0ms\u001b[0m\u001b[0;34m]\u001b[0m\u001b[0;34m.\u001b[0m\u001b[0mn_experiments\u001b[0m\u001b[0;34m.\u001b[0m\u001b[0mvalues\u001b[0m\u001b[0;34m(\u001b[0m\u001b[0;34m)\u001b[0m\u001b[0;34m)\u001b[0m\u001b[0;34m)\u001b[0m \u001b[0;32mfor\u001b[0m \u001b[0ms\u001b[0m \u001b[0;32min\u001b[0m \u001b[0mdata_valid\u001b[0m\u001b[0;34m.\u001b[0m\u001b[0mmol\u001b[0m\u001b[0;34m.\u001b[0m\u001b[0mkeys\u001b[0m\u001b[0;34m(\u001b[0m\u001b[0;34m)\u001b[0m\u001b[0;34m]\u001b[0m\u001b[0;34m)\u001b[0m\u001b[0;34m\u001b[0m\u001b[0;34m\u001b[0m\u001b[0m\n\u001b[1;32m    484\u001b[0m     \u001b[0;32melse\u001b[0m\u001b[0;34m:\u001b[0m\u001b[0;34m\u001b[0m\u001b[0;34m\u001b[0m\u001b[0m\n\u001b[0;32m--> 485\u001b[0;31m         \u001b[0mn_obs\u001b[0m \u001b[0;34m=\u001b[0m \u001b[0mnp\u001b[0m\u001b[0;34m.\u001b[0m\u001b[0msum\u001b[0m\u001b[0;34m(\u001b[0m\u001b[0;34m[\u001b[0m\u001b[0mnp\u001b[0m\u001b[0;34m.\u001b[0m\u001b[0msum\u001b[0m\u001b[0;34m(\u001b[0m\u001b[0mlist\u001b[0m\u001b[0;34m(\u001b[0m\u001b[0mdata_valid\u001b[0m\u001b[0;34m.\u001b[0m\u001b[0mmol\u001b[0m\u001b[0;34m[\u001b[0m\u001b[0ms\u001b[0m\u001b[0;34m]\u001b[0m\u001b[0;34m.\u001b[0m\u001b[0mn_experiments_new\u001b[0m\u001b[0;34m.\u001b[0m\u001b[0mvalues\u001b[0m\u001b[0;34m(\u001b[0m\u001b[0;34m)\u001b[0m\u001b[0;34m)\u001b[0m\u001b[0;34m)\u001b[0m \u001b[0;32mfor\u001b[0m \u001b[0ms\u001b[0m \u001b[0;32min\u001b[0m \u001b[0mdata_valid\u001b[0m\u001b[0;34m.\u001b[0m\u001b[0mmol\u001b[0m\u001b[0;34m.\u001b[0m\u001b[0mkeys\u001b[0m\u001b[0;34m(\u001b[0m\u001b[0;34m)\u001b[0m\u001b[0;34m]\u001b[0m\u001b[0;34m)\u001b[0m\u001b[0;34m\u001b[0m\u001b[0;34m\u001b[0m\u001b[0m\n\u001b[0m\u001b[1;32m    486\u001b[0m \u001b[0;34m\u001b[0m\u001b[0m\n\u001b[1;32m    487\u001b[0m     \u001b[0mchi2\u001b[0m \u001b[0;34m=\u001b[0m \u001b[0mchi2\u001b[0m\u001b[0;34m/\u001b[0m\u001b[0mn_obs\u001b[0m\u001b[0;34m\u001b[0m\u001b[0;34m\u001b[0m\u001b[0m\n",
      "\u001b[0;32m~/3_alphabetagamma/MDRefine/MDRefine/hyperminimizer.py\u001b[0m in \u001b[0;36m<listcomp>\u001b[0;34m(.0)\u001b[0m\n\u001b[1;32m    483\u001b[0m         \u001b[0mn_obs\u001b[0m \u001b[0;34m=\u001b[0m \u001b[0mnp\u001b[0m\u001b[0;34m.\u001b[0m\u001b[0msum\u001b[0m\u001b[0;34m(\u001b[0m\u001b[0;34m[\u001b[0m\u001b[0mnp\u001b[0m\u001b[0;34m.\u001b[0m\u001b[0msum\u001b[0m\u001b[0;34m(\u001b[0m\u001b[0mlist\u001b[0m\u001b[0;34m(\u001b[0m\u001b[0mdata_valid\u001b[0m\u001b[0;34m.\u001b[0m\u001b[0mmol\u001b[0m\u001b[0;34m[\u001b[0m\u001b[0ms\u001b[0m\u001b[0;34m]\u001b[0m\u001b[0;34m.\u001b[0m\u001b[0mn_experiments\u001b[0m\u001b[0;34m.\u001b[0m\u001b[0mvalues\u001b[0m\u001b[0;34m(\u001b[0m\u001b[0;34m)\u001b[0m\u001b[0;34m)\u001b[0m\u001b[0;34m)\u001b[0m \u001b[0;32mfor\u001b[0m \u001b[0ms\u001b[0m \u001b[0;32min\u001b[0m \u001b[0mdata_valid\u001b[0m\u001b[0;34m.\u001b[0m\u001b[0mmol\u001b[0m\u001b[0;34m.\u001b[0m\u001b[0mkeys\u001b[0m\u001b[0;34m(\u001b[0m\u001b[0;34m)\u001b[0m\u001b[0;34m]\u001b[0m\u001b[0;34m)\u001b[0m\u001b[0;34m\u001b[0m\u001b[0;34m\u001b[0m\u001b[0m\n\u001b[1;32m    484\u001b[0m     \u001b[0;32melse\u001b[0m\u001b[0;34m:\u001b[0m\u001b[0;34m\u001b[0m\u001b[0;34m\u001b[0m\u001b[0m\n\u001b[0;32m--> 485\u001b[0;31m         \u001b[0mn_obs\u001b[0m \u001b[0;34m=\u001b[0m \u001b[0mnp\u001b[0m\u001b[0;34m.\u001b[0m\u001b[0msum\u001b[0m\u001b[0;34m(\u001b[0m\u001b[0;34m[\u001b[0m\u001b[0mnp\u001b[0m\u001b[0;34m.\u001b[0m\u001b[0msum\u001b[0m\u001b[0;34m(\u001b[0m\u001b[0mlist\u001b[0m\u001b[0;34m(\u001b[0m\u001b[0mdata_valid\u001b[0m\u001b[0;34m.\u001b[0m\u001b[0mmol\u001b[0m\u001b[0;34m[\u001b[0m\u001b[0ms\u001b[0m\u001b[0;34m]\u001b[0m\u001b[0;34m.\u001b[0m\u001b[0mn_experiments_new\u001b[0m\u001b[0;34m.\u001b[0m\u001b[0mvalues\u001b[0m\u001b[0;34m(\u001b[0m\u001b[0;34m)\u001b[0m\u001b[0;34m)\u001b[0m\u001b[0;34m)\u001b[0m \u001b[0;32mfor\u001b[0m \u001b[0ms\u001b[0m \u001b[0;32min\u001b[0m \u001b[0mdata_valid\u001b[0m\u001b[0;34m.\u001b[0m\u001b[0mmol\u001b[0m\u001b[0;34m.\u001b[0m\u001b[0mkeys\u001b[0m\u001b[0;34m(\u001b[0m\u001b[0;34m)\u001b[0m\u001b[0;34m]\u001b[0m\u001b[0;34m)\u001b[0m\u001b[0;34m\u001b[0m\u001b[0;34m\u001b[0m\u001b[0m\n\u001b[0m\u001b[1;32m    486\u001b[0m \u001b[0;34m\u001b[0m\u001b[0m\n\u001b[1;32m    487\u001b[0m     \u001b[0mchi2\u001b[0m \u001b[0;34m=\u001b[0m \u001b[0mchi2\u001b[0m\u001b[0;34m/\u001b[0m\u001b[0mn_obs\u001b[0m\u001b[0;34m\u001b[0m\u001b[0;34m\u001b[0m\u001b[0m\n",
      "\u001b[0;32m~/.local/lib/python3.6/site-packages/jax/_src/numpy/lax_numpy.py\u001b[0m in \u001b[0;36msum\u001b[0;34m(a, axis, dtype, out, keepdims, initial, where)\u001b[0m\n\u001b[1;32m   2108\u001b[0m                     \u001b[0mbool_op\u001b[0m\u001b[0;34m=\u001b[0m\u001b[0mlax\u001b[0m\u001b[0;34m.\u001b[0m\u001b[0mbitwise_or\u001b[0m\u001b[0;34m,\u001b[0m \u001b[0mupcast_f16_for_computation\u001b[0m\u001b[0;34m=\u001b[0m\u001b[0;32mTrue\u001b[0m\u001b[0;34m,\u001b[0m\u001b[0;34m\u001b[0m\u001b[0;34m\u001b[0m\u001b[0m\n\u001b[1;32m   2109\u001b[0m                     \u001b[0maxis\u001b[0m\u001b[0;34m=\u001b[0m\u001b[0maxis\u001b[0m\u001b[0;34m,\u001b[0m \u001b[0mdtype\u001b[0m\u001b[0;34m=\u001b[0m\u001b[0mdtype\u001b[0m\u001b[0;34m,\u001b[0m \u001b[0mout\u001b[0m\u001b[0;34m=\u001b[0m\u001b[0mout\u001b[0m\u001b[0;34m,\u001b[0m \u001b[0mkeepdims\u001b[0m\u001b[0;34m=\u001b[0m\u001b[0mkeepdims\u001b[0m\u001b[0;34m,\u001b[0m\u001b[0;34m\u001b[0m\u001b[0;34m\u001b[0m\u001b[0m\n\u001b[0;32m-> 2110\u001b[0;31m                     initial=initial, where_=where, parallel_reduce=lax.psum)\n\u001b[0m\u001b[1;32m   2111\u001b[0m \u001b[0;34m\u001b[0m\u001b[0m\n\u001b[1;32m   2112\u001b[0m \u001b[0;34m@\u001b[0m\u001b[0m_wraps\u001b[0m\u001b[0;34m(\u001b[0m\u001b[0mnp\u001b[0m\u001b[0;34m.\u001b[0m\u001b[0mprod\u001b[0m\u001b[0;34m,\u001b[0m \u001b[0mskip_params\u001b[0m\u001b[0;34m=\u001b[0m\u001b[0;34m[\u001b[0m\u001b[0;34m'out'\u001b[0m\u001b[0;34m]\u001b[0m\u001b[0;34m)\u001b[0m\u001b[0;34m\u001b[0m\u001b[0;34m\u001b[0m\u001b[0m\n",
      "\u001b[0;32m~/.local/lib/python3.6/site-packages/jax/_src/numpy/lax_numpy.py\u001b[0m in \u001b[0;36m_reduction\u001b[0;34m(a, name, np_fun, op, init_val, has_identity, preproc, bool_op, upcast_f16_for_computation, axis, dtype, out, keepdims, initial, where_, parallel_reduce)\u001b[0m\n\u001b[1;32m   2030\u001b[0m   \u001b[0;32mif\u001b[0m \u001b[0mout\u001b[0m \u001b[0;32mis\u001b[0m \u001b[0;32mnot\u001b[0m \u001b[0;32mNone\u001b[0m\u001b[0;34m:\u001b[0m\u001b[0;34m\u001b[0m\u001b[0;34m\u001b[0m\u001b[0m\n\u001b[1;32m   2031\u001b[0m     \u001b[0;32mraise\u001b[0m \u001b[0mNotImplementedError\u001b[0m\u001b[0;34m(\u001b[0m\u001b[0;34mf\"The 'out' argument to jnp.{name} is not supported.\"\u001b[0m\u001b[0;34m)\u001b[0m\u001b[0;34m\u001b[0m\u001b[0;34m\u001b[0m\u001b[0m\n\u001b[0;32m-> 2032\u001b[0;31m   \u001b[0m_check_arraylike\u001b[0m\u001b[0;34m(\u001b[0m\u001b[0mname\u001b[0m\u001b[0;34m,\u001b[0m \u001b[0ma\u001b[0m\u001b[0;34m)\u001b[0m\u001b[0;34m\u001b[0m\u001b[0;34m\u001b[0m\u001b[0m\n\u001b[0m\u001b[1;32m   2033\u001b[0m   \u001b[0mlax\u001b[0m\u001b[0;34m.\u001b[0m\u001b[0m_check_user_dtype_supported\u001b[0m\u001b[0;34m(\u001b[0m\u001b[0mdtype\u001b[0m\u001b[0;34m,\u001b[0m \u001b[0mname\u001b[0m\u001b[0;34m)\u001b[0m\u001b[0;34m\u001b[0m\u001b[0;34m\u001b[0m\u001b[0m\n\u001b[1;32m   2034\u001b[0m   \u001b[0maxis\u001b[0m \u001b[0;34m=\u001b[0m \u001b[0mcore\u001b[0m\u001b[0;34m.\u001b[0m\u001b[0mconcrete_or_error\u001b[0m\u001b[0;34m(\u001b[0m\u001b[0;32mNone\u001b[0m\u001b[0;34m,\u001b[0m \u001b[0maxis\u001b[0m\u001b[0;34m,\u001b[0m \u001b[0;34mf\"axis argument to jnp.{name}().\"\u001b[0m\u001b[0;34m)\u001b[0m\u001b[0;34m\u001b[0m\u001b[0;34m\u001b[0m\u001b[0m\n",
      "\u001b[0;32m~/.local/lib/python3.6/site-packages/jax/_src/numpy/lax_numpy.py\u001b[0m in \u001b[0;36m_check_arraylike\u001b[0;34m(fun_name, *args)\u001b[0m\n\u001b[1;32m    306\u001b[0m                     if not _arraylike(arg))\n\u001b[1;32m    307\u001b[0m     \u001b[0mmsg\u001b[0m \u001b[0;34m=\u001b[0m \u001b[0;34m\"{} requires ndarray or scalar arguments, got {} at position {}.\"\u001b[0m\u001b[0;34m\u001b[0m\u001b[0;34m\u001b[0m\u001b[0m\n\u001b[0;32m--> 308\u001b[0;31m     \u001b[0;32mraise\u001b[0m \u001b[0mTypeError\u001b[0m\u001b[0;34m(\u001b[0m\u001b[0mmsg\u001b[0m\u001b[0;34m.\u001b[0m\u001b[0mformat\u001b[0m\u001b[0;34m(\u001b[0m\u001b[0mfun_name\u001b[0m\u001b[0;34m,\u001b[0m \u001b[0mtype\u001b[0m\u001b[0;34m(\u001b[0m\u001b[0marg\u001b[0m\u001b[0;34m)\u001b[0m\u001b[0;34m,\u001b[0m \u001b[0mpos\u001b[0m\u001b[0;34m)\u001b[0m\u001b[0;34m)\u001b[0m\u001b[0;34m\u001b[0m\u001b[0;34m\u001b[0m\u001b[0m\n\u001b[0m\u001b[1;32m    309\u001b[0m \u001b[0;34m\u001b[0m\u001b[0m\n\u001b[1;32m    310\u001b[0m \u001b[0;32mdef\u001b[0m \u001b[0m_check_no_float0s\u001b[0m\u001b[0;34m(\u001b[0m\u001b[0mfun_name\u001b[0m\u001b[0;34m,\u001b[0m \u001b[0;34m*\u001b[0m\u001b[0margs\u001b[0m\u001b[0;34m)\u001b[0m\u001b[0;34m:\u001b[0m\u001b[0;34m\u001b[0m\u001b[0;34m\u001b[0m\u001b[0m\n",
      "\u001b[0;31mTypeError\u001b[0m: sum requires ndarray or scalar arguments, got <class 'list'> at position 0."
     ]
    }
   ],
   "source": [
    "Result = MDRefinement(data_cv, regularization=regularization, stride=1, starting_alpha=1,\n",
    "        starting_beta=1, starting_gamma=1, random_states=1, which_set='validation',\n",
    "        results_folder_name='my_results')"
   ]
  },
  {
   "cell_type": "code",
   "execution_count": 63,
   "metadata": {},
   "outputs": [],
   "source": [
    "from MDRefine import compute_hypergradient"
   ]
  },
  {
   "cell_type": "code",
   "execution_count": null,
   "metadata": {},
   "outputs": [
    {
     "data": {
      "text/plain": [
       "dict_keys(['loss', 'pars', 'mini', 'min_lambdas', 'minis', 'intermediates', 'time', 'weights_P', 'logZ_P', 'reg_ff', 'reg_fm', 'D_KL_alpha', 'abs_difference', 'av_g', 'chi2', 'logZ_new', 'weights_new', 'optimal_hyperpars', 'hyper_minimization'])"
      ]
     },
     "metadata": {},
     "output_type": "display_data"
    }
   ],
   "source": [
    "vars(result2).keys()"
   ]
  },
  {
   "cell_type": "code",
   "execution_count": 73,
   "metadata": {},
   "outputs": [
    {
     "ename": "NameError",
     "evalue": "name 'data_valid' is not defined",
     "output_type": "error",
     "traceback": [
      "\u001b[0;31m---------------------------------------------------------------------------\u001b[0m",
      "\u001b[0;31mNameError\u001b[0m                                 Traceback (most recent call last)",
      "\u001b[0;32m<ipython-input-73-b3dc0fb92532>\u001b[0m in \u001b[0;36m<module>\u001b[0;34m\u001b[0m\n\u001b[0;32m----> 1\u001b[0;31m \u001b[0mn_obs_valid\u001b[0m \u001b[0;34m=\u001b[0m \u001b[0mnp\u001b[0m\u001b[0;34m.\u001b[0m\u001b[0msum\u001b[0m\u001b[0;34m(\u001b[0m\u001b[0;34m[\u001b[0m\u001b[0mnp\u001b[0m\u001b[0;34m.\u001b[0m\u001b[0msum\u001b[0m\u001b[0;34m(\u001b[0m\u001b[0mlist\u001b[0m\u001b[0;34m(\u001b[0m\u001b[0mdata_valid\u001b[0m\u001b[0;34m.\u001b[0m\u001b[0mmol\u001b[0m\u001b[0;34m[\u001b[0m\u001b[0ms\u001b[0m\u001b[0;34m]\u001b[0m\u001b[0;34m.\u001b[0m\u001b[0mn_experiments_new\u001b[0m\u001b[0;34m.\u001b[0m\u001b[0mvalues\u001b[0m\u001b[0;34m(\u001b[0m\u001b[0;34m)\u001b[0m\u001b[0;34m)\u001b[0m\u001b[0;34m)\u001b[0m \u001b[0;32mfor\u001b[0m \u001b[0ms\u001b[0m \u001b[0;32min\u001b[0m \u001b[0mdata_valid\u001b[0m\u001b[0;34m.\u001b[0m\u001b[0mmol\u001b[0m\u001b[0;34m.\u001b[0m\u001b[0mkeys\u001b[0m\u001b[0;34m(\u001b[0m\u001b[0;34m)\u001b[0m\u001b[0;34m]\u001b[0m\u001b[0;34m)\u001b[0m\u001b[0;34m\u001b[0m\u001b[0;34m\u001b[0m\u001b[0m\n\u001b[0m\u001b[1;32m      2\u001b[0m \u001b[0;34m\u001b[0m\u001b[0m\n\u001b[1;32m      3\u001b[0m \u001b[0mn_obs_valid\u001b[0m \u001b[0;34m=\u001b[0m \u001b[0mnp\u001b[0m\u001b[0;34m.\u001b[0m\u001b[0msum\u001b[0m\u001b[0;34m(\u001b[0m\u001b[0;34m[\u001b[0m\u001b[0mnp\u001b[0m\u001b[0;34m.\u001b[0m\u001b[0msum\u001b[0m\u001b[0;34m(\u001b[0m\u001b[0mlist\u001b[0m\u001b[0;34m(\u001b[0m\u001b[0mdata_valid\u001b[0m\u001b[0;34m.\u001b[0m\u001b[0mmol\u001b[0m\u001b[0;34m[\u001b[0m\u001b[0ms\u001b[0m\u001b[0;34m]\u001b[0m\u001b[0;34m.\u001b[0m\u001b[0mn_experiments\u001b[0m\u001b[0;34m.\u001b[0m\u001b[0mvalues\u001b[0m\u001b[0;34m(\u001b[0m\u001b[0;34m)\u001b[0m\u001b[0;34m)\u001b[0m\u001b[0;34m)\u001b[0m \u001b[0;32mfor\u001b[0m \u001b[0ms\u001b[0m \u001b[0;32min\u001b[0m \u001b[0mdata_valid\u001b[0m\u001b[0;34m.\u001b[0m\u001b[0mmol\u001b[0m\u001b[0;34m.\u001b[0m\u001b[0mkeys\u001b[0m\u001b[0;34m(\u001b[0m\u001b[0;34m)\u001b[0m\u001b[0;34m]\u001b[0m\u001b[0;34m)\u001b[0m\u001b[0;34m\u001b[0m\u001b[0;34m\u001b[0m\u001b[0m\n",
      "\u001b[0;31mNameError\u001b[0m: name 'data_valid' is not defined"
     ]
    }
   ],
   "source": [
    "n_obs_valid = np.sum([np.sum(list(data_valid.mol[s].n_experiments_new.values())) for s in data_valid.mol.keys()])\n",
    "\n",
    "n_obs_valid = np.sum([np.sum(list(data_valid.mol[s].n_experiments.values())) for s in data_valid.mol.keys()])\n"
   ]
  },
  {
   "cell_type": "code",
   "execution_count": 71,
   "metadata": {},
   "outputs": [],
   "source": [
    "if not np.isinf(beta): \n",
    "    pars_ff = Result.pars[:2]\n",
    "    pars_fm = Result.pars[2:]\n",
    "else:\n",
    "    pars_ff = []\n",
    "    pars_fm = Result.pars\n",
    "\n",
    "if hasattr(Result, 'min_lambdas'): lambdas = Result.min_lambdas"
   ]
  },
  {
   "cell_type": "code",
   "execution_count": 72,
   "metadata": {},
   "outputs": [
    {
     "data": {
      "text/plain": [
       "DeviceArray(1.26683292, dtype=float64)"
      ]
     },
     "execution_count": 72,
     "metadata": {},
     "output_type": "execute_result"
    }
   ],
   "source": [
    "test_chi2 = compute_chi2_test(data_test, regularization, pars_ff=Result.pars[:2], pars_fm=Result.pars[2:], lambdas=lambdas, which_set='validation')\n",
    "\n",
    "test_chi2"
   ]
  },
  {
   "cell_type": "code",
   "execution_count": 68,
   "metadata": {},
   "outputs": [
    {
     "data": {
      "text/plain": [
       "DeviceArray(104.16993516, dtype=float64)"
      ]
     },
     "execution_count": 68,
     "metadata": {},
     "output_type": "execute_result"
    }
   ],
   "source": [
    "chi2 = compute_chi2_test(data_test, regularization, pars_fm=Result.pars[2:], lambdas=lambdas, which_set='validation')\n",
    "\n",
    "chi2"
   ]
  },
  {
   "cell_type": "code",
   "execution_count": 69,
   "metadata": {},
   "outputs": [
    {
     "data": {
      "text/plain": [
       "DeviceArray(3.14670487, dtype=float64)"
      ]
     },
     "execution_count": 69,
     "metadata": {},
     "output_type": "execute_result"
    }
   ],
   "source": [
    "chi2 = compute_chi2_test(data_test, regularization, pars_ff=Result.pars[2:], lambdas=lambdas, which_set='validation')\n",
    "\n",
    "chi2"
   ]
  },
  {
   "cell_type": "code",
   "execution_count": 70,
   "metadata": {},
   "outputs": [
    {
     "name": "stdout",
     "output_type": "stream",
     "text": [
      "all the hyperparameters are infinite\n"
     ]
    },
    {
     "data": {
      "text/plain": [
       "DeviceArray(1149.15526868, dtype=float64)"
      ]
     },
     "execution_count": 70,
     "metadata": {},
     "output_type": "execute_result"
    }
   ],
   "source": [
    "compute_chi2_test(data_test, regularization)"
   ]
  },
  {
   "cell_type": "markdown",
   "metadata": {},
   "source": [
    "### Split the dataset by keeping aside a subset of observables"
   ]
  },
  {
   "cell_type": "code",
   "execution_count": 7,
   "metadata": {},
   "outputs": [
    {
     "name": "stdout",
     "output_type": "stream",
     "text": [
      "Input random_state employed both for observables and frames\n"
     ]
    }
   ],
   "source": [
    "data_cv, data_test, test_obs, test_frames = split_dataset(data, frames_fraction=0.1, random_state=1, obs_fraction=0.1)\n"
   ]
  },
  {
   "cell_type": "code",
   "execution_count": 8,
   "metadata": {},
   "outputs": [
    {
     "name": "stdout",
     "output_type": "stream",
     "text": [
      "Input random_state employed both for observables and frames\n"
     ]
    }
   ],
   "source": [
    "data_training, data_valid, valid_obs, valid_frames = split_dataset(data_cv, frames_fraction=0.2, random_state=1, obs_fraction=0.2)"
   ]
  },
  {
   "cell_type": "code",
   "execution_count": 101,
   "metadata": {},
   "outputs": [
    {
     "data": {
      "text/plain": [
       "dict_keys(['logZ', 'weights', 'n_frames', 'ff_correction', 'f', 'gexp_new', 'n_experiments_new', 'names_new', 'g_new', 'g', 'forward_qs', 'forward_model', 'ref', 'ref_all', 'selected_obs', 'selected_obs_new', 'gexp', 'n_experiments', 'temperature'])"
      ]
     },
     "execution_count": 101,
     "metadata": {},
     "output_type": "execute_result"
    }
   ],
   "source": [
    "vars(data_valid.mol['AAAA']).keys()"
   ]
  },
  {
   "cell_type": "code",
   "execution_count": 13,
   "metadata": {},
   "outputs": [
    {
     "name": "stdout",
     "output_type": "stream",
     "text": [
      "Input random_state employed both for observables and frames\n"
     ]
    },
    {
     "data": {
      "text/plain": [
       "1717"
      ]
     },
     "execution_count": 13,
     "metadata": {},
     "output_type": "execute_result"
    }
   ],
   "source": [
    "data_train, data_valid, valid_obs, valid_frames = split_dataset(data_cv, random_state=1)\n",
    "\n",
    "n_obs_valid =  data_valid.properties.tot_n_experiments(data_valid)\n",
    "n_obs_valid"
   ]
  },
  {
   "cell_type": "markdown",
   "metadata": {},
   "source": [
    "- this splitting is the same done on the cluster when running `MDRefinement`"
   ]
  },
  {
   "cell_type": "code",
   "execution_count": 15,
   "metadata": {},
   "outputs": [
    {
     "data": {
      "text/plain": [
       "{'AAAA': {'backbone1_gamma_3J': DeviceArray([], dtype=int64),\n",
       "  'backbone2_beta_epsilon_3J': DeviceArray([], dtype=int64),\n",
       "  'sugar_3J': DeviceArray([1, 6], dtype=int64),\n",
       "  'NOEs': DeviceArray([14, 23], dtype=int64),\n",
       "  'uNOEs': DeviceArray([  1,  17,  36,  44,  65,  66,  79,  97, 105, 110, 117, 134,\n",
       "               137, 169, 176, 182, 193, 199, 201, 205, 207, 211, 212, 222,\n",
       "               231, 236, 238], dtype=int64)},\n",
       " 'CAAU': {'backbone1_gamma_3J': DeviceArray([], dtype=int64),\n",
       "  'backbone2_beta_epsilon_3J': DeviceArray([3, 7], dtype=int64),\n",
       "  'sugar_3J': DeviceArray([2], dtype=int64),\n",
       "  'NOEs': DeviceArray([ 5, 20, 28], dtype=int64),\n",
       "  'uNOEs': DeviceArray([  7,   9,  14,  24,  29,  43,  65,  87,  88, 101, 129, 132,\n",
       "               136, 138, 139, 142, 150, 161, 164, 167, 170, 191, 213, 215,\n",
       "               224, 259, 273, 282, 296, 313, 315, 319, 341, 351, 363, 367,\n",
       "               373, 374], dtype=int64)},\n",
       " 'CCCC': {'backbone1_gamma_3J': DeviceArray([], dtype=int64),\n",
       "  'backbone2_beta_epsilon_3J': DeviceArray([7], dtype=int64),\n",
       "  'sugar_3J': DeviceArray([3, 4, 9], dtype=int64),\n",
       "  'NOEs': DeviceArray([15], dtype=int64),\n",
       "  'uNOEs': DeviceArray([ 11,  37,  42,  44,  53,  57,  85,  91,  93, 106, 111, 114,\n",
       "               120, 130, 132, 140, 145, 161, 191, 217, 220, 232, 238, 243,\n",
       "               244], dtype=int64)},\n",
       " 'GACC': {'backbone1_gamma_3J': DeviceArray([2, 5], dtype=int64),\n",
       "  'backbone2_beta_epsilon_3J': DeviceArray([7], dtype=int64),\n",
       "  'sugar_3J': DeviceArray([], dtype=int64),\n",
       "  'NOEs': DeviceArray([], dtype=int64),\n",
       "  'uNOEs': DeviceArray([  8,  26,  40,  43,  45,  48,  56,  67,  83,  87,  98, 107,\n",
       "               117, 137, 146, 156, 178, 180, 181, 183, 186, 189, 212, 213,\n",
       "               217, 241, 251, 260, 282, 283], dtype=int64)},\n",
       " 'UUUU': {'backbone1_gamma_3J': DeviceArray([], dtype=int64),\n",
       "  'backbone2_beta_epsilon_3J': DeviceArray([3], dtype=int64),\n",
       "  'sugar_3J': DeviceArray([2, 4, 9], dtype=int64),\n",
       "  'NOEs': DeviceArray([], dtype=int64),\n",
       "  'uNOEs': DeviceArray([ 15,  35,  37,  40,  52,  68,  71,  87, 127, 160, 167, 179,\n",
       "               182, 191, 194, 198, 200, 217, 223, 240, 241, 244, 252, 260,\n",
       "               261, 267, 269, 280], dtype=int64)},\n",
       " 'UCAAUC': {'backbone1_gamma_3J': DeviceArray([1, 8], dtype=int64),\n",
       "  'backbone2_beta_epsilon_3J': DeviceArray([ 1, 13], dtype=int64),\n",
       "  'sugar_3J': DeviceArray([0], dtype=int64),\n",
       "  'NOEs': DeviceArray([15, 26, 31, 32, 44, 48, 52], dtype=int64),\n",
       "  'uNOEs': DeviceArray([  2,   7,  21,  27,  53,  70,  72,  75,  92, 120, 123, 135,\n",
       "               145, 155, 162, 193, 210, 214, 241, 263, 270, 291, 293, 294,\n",
       "               312, 316, 317, 318, 328, 354, 360, 366, 388, 391, 394, 399,\n",
       "               408, 415, 440, 442, 443, 450, 496, 498, 499, 505, 513, 521,\n",
       "               534, 541, 547, 554, 559, 563, 574, 580], dtype=int64)}}"
      ]
     },
     "execution_count": 15,
     "metadata": {},
     "output_type": "execute_result"
    }
   ],
   "source": [
    "test_obs"
   ]
  },
  {
   "cell_type": "code",
   "execution_count": 14,
   "metadata": {},
   "outputs": [
    {
     "name": "stdout",
     "output_type": "stream",
     "text": [
      "238 2146\n"
     ]
    }
   ],
   "source": [
    "n_obs_test = data_test.properties.tot_n_experiments(data_test)\n",
    "n_obs_cv = data_cv.properties.tot_n_experiments(data_cv)\n",
    "\n",
    "print(n_obs_test, n_obs_cv)"
   ]
  },
  {
   "cell_type": "code",
   "execution_count": 114,
   "metadata": {},
   "outputs": [
    {
     "name": "stdout",
     "output_type": "stream",
     "text": [
      "1717 429\n"
     ]
    }
   ],
   "source": [
    "n_obs_train = data_training.properties.tot_n_experiments(data_training)\n",
    "n_obs_valid = np.sum([np.sum(list(data_valid.mol[s].n_experiments_new.values())) for s in data_valid.mol.keys()])\n",
    "\n",
    "print(n_obs_train, n_obs_valid)"
   ]
  },
  {
   "cell_type": "code",
   "execution_count": null,
   "metadata": {},
   "outputs": [],
   "source": []
  },
  {
   "cell_type": "code",
   "execution_count": 15,
   "metadata": {},
   "outputs": [
    {
     "name": "stdout",
     "output_type": "stream",
     "text": [
      "normalized chi2 on the reference ensembles:\n",
      "on cross-validation set:  71.2302284101466\n",
      "on test set:  2.966190636557579\n"
     ]
    }
   ],
   "source": [
    "chi2_cv = {}\n",
    "chi2_test = {}\n",
    "\n",
    "# chi2 on the reference ensemble\n",
    "chi2_test['ref'] = 0\n",
    "chi2_cv['ref'] = 0\n",
    "\n",
    "for s in data_cv.properties.system_names:\n",
    "    chi2_test['ref'] += compute_chi2(data_test.mol[s].ref, data_test.mol[s].weights, data_test.mol[s].g, data_test.mol[s].gexp)[-1]\n",
    "    chi2_cv['ref'] += compute_chi2(data_cv.mol[s].ref, data_cv.mol[s].weights, data_cv.mol[s].g, data_cv.mol[s].gexp)[-1]\n",
    "\n",
    "chi2_test['ref'] = chi2_test['ref']/n_obs_test\n",
    "chi2_cv['ref'] = chi2_cv['ref']/n_obs_cv\n",
    "\n",
    "print('normalized chi2 on the reference ensembles:')\n",
    "print('on cross-validation set: ', chi2_cv['ref'])\n",
    "print('on test set: ', chi2_test['ref'])"
   ]
  },
  {
   "cell_type": "markdown",
   "metadata": {},
   "source": [
    "### Ensemble + forward-model refinement"
   ]
  },
  {
   "cell_type": "code",
   "execution_count": 19,
   "metadata": {},
   "outputs": [],
   "source": [
    "starting_alpha = 1\n",
    "starting_gamma = 1\n",
    "\n",
    "which_set = 'validation'\n",
    "random_states = 2"
   ]
  },
  {
   "cell_type": "code",
   "execution_count": 20,
   "metadata": {},
   "outputs": [],
   "source": [
    "starting_beta = np.inf"
   ]
  },
  {
   "cell_type": "code",
   "execution_count": 17,
   "metadata": {},
   "outputs": [
    {
     "name": "stdout",
     "output_type": "stream",
     "text": [
      "References for MDRefine package:\n",
      "I. Gilardoni, V. Piomponi, T. Fröhlking, and G. Bussi, “MDRefine: a Python package for refining Molecular Dynamics trajectories with experimental data”, arxiv (2024)\n",
      "\n",
      "References for Ensemble Refinement:\n",
      "J. W. Pitera and J. D. Chodera, “On the use of experimental observations to bias simulated ensembles”, J. Chem. Theory Comp. 8, 3445–3451 (2012).\n",
      "\n",
      "G. Hummer and J. Köfinger, “Bayesian ensemble refinement by replica simulations and reweighting”, J. Chem. Phys. 143, 243150 (2015).\n",
      "\n",
      "A. Cesari, A. Gil-Ley, and G. Bussi, “Combining simulations and solution experiments as a paradigm for RNA force field refinement”, J. Chem. Theory Comp. 12, 6192–6200 (2016).\n",
      "\n",
      "A. Cesari, S. Reißer, and G. Bussi, “Using the maximum entropy principle to combine simulations and solution experiments”, Computation 6, 15 (2018).\n",
      "\n",
      "J. Köfinger, L. S. Stelzl, K. Reuter, C. Allande, K. Reichel, and G. Hummer, “Efficient ensemble refinement by reweighting”, J. Chem. Theory Comput. 15, 3390–3401 (2019)\n",
      "\n",
      "\n",
      "\n",
      "References for Ensemble + Forward-Model Refinement:\n",
      "T. Fröhlking, M. Bernetti, and G. Bussi, “Simultaneous refinement of molecular dynamics ensembles and forward models using experimental data”, J. Chem. Phys. 158 (2023).\n",
      "\n",
      "\n",
      "\n",
      "--------------------------------------------------------------------------\n",
      "\n",
      "search for optimal hyperparameters ...\n",
      "Input random_state employed both for observables and frames\n",
      "Input random_state employed both for observables and frames\n",
      "\n",
      "log10 hyperpars:  [('alpha', 0.0), ('gamma', 0.0)]\n",
      "av. chi2:  468.2351516740207\n",
      "av. gradient:  [-345.07489495  -33.72217055]\n",
      "\n",
      "log10 hyperpars:  [('alpha', 0.9952589208151039), ('gamma', 0.0972608890456722)]\n",
      "av. chi2:  89.38832280545094\n",
      "av. gradient:  [-216.19614       4.21348269]\n",
      "\n",
      "log10 hyperpars:  [('alpha', 2.7543324990982994), ('gamma', -0.2176376745711327)]\n",
      "av. chi2:  163.43491471084045\n",
      "av. gradient:  [44.05207405  2.24501267]\n",
      "\n",
      "log10 hyperpars:  [('alpha', 1.4542133215756075), ('gamma', 0.015101686980830045)]\n",
      "av. chi2:  87.49555606519591\n",
      "av. gradient:  [54.46786349  3.38727784]\n",
      "\n",
      "optimal hyperparameters: alpha: 28.458586245671963 gamma: 1.0353845662722618\n",
      "\n",
      "refinement with optimal hyperparameters...\n",
      "\n",
      "done\n"
     ]
    }
   ],
   "source": [
    "result = MDRefinement(data_cv, stride=stride, regularization=regularization, starting_alpha=starting_alpha, starting_beta=starting_beta,\n",
    "    starting_gamma=starting_gamma, random_states=random_states, which_set=which_set, results_folder_name='results_performances')  # , gtol=0.1, ftol=0.001)"
   ]
  },
  {
   "cell_type": "markdown",
   "metadata": {},
   "source": [
    "### Include refinement of the force field"
   ]
  },
  {
   "cell_type": "code",
   "execution_count": 18,
   "metadata": {},
   "outputs": [],
   "source": [
    "starting_beta = 1"
   ]
  },
  {
   "cell_type": "code",
   "execution_count": 19,
   "metadata": {},
   "outputs": [
    {
     "name": "stdout",
     "output_type": "stream",
     "text": [
      "References for MDRefine package:\n",
      "I. Gilardoni, V. Piomponi, T. Fröhlking, and G. Bussi, “MDRefine: a Python package for refining Molecular Dynamics trajectories with experimental data”, arxiv (2024)\n",
      "\n",
      "References for Ensemble Refinement:\n",
      "J. W. Pitera and J. D. Chodera, “On the use of experimental observations to bias simulated ensembles”, J. Chem. Theory Comp. 8, 3445–3451 (2012).\n",
      "\n",
      "G. Hummer and J. Köfinger, “Bayesian ensemble refinement by replica simulations and reweighting”, J. Chem. Phys. 143, 243150 (2015).\n",
      "\n",
      "A. Cesari, A. Gil-Ley, and G. Bussi, “Combining simulations and solution experiments as a paradigm for RNA force field refinement”, J. Chem. Theory Comp. 12, 6192–6200 (2016).\n",
      "\n",
      "A. Cesari, S. Reißer, and G. Bussi, “Using the maximum entropy principle to combine simulations and solution experiments”, Computation 6, 15 (2018).\n",
      "\n",
      "J. Köfinger, L. S. Stelzl, K. Reuter, C. Allande, K. Reichel, and G. Hummer, “Efficient ensemble refinement by reweighting”, J. Chem. Theory Comput. 15, 3390–3401 (2019)\n",
      "\n",
      "\n",
      "\n",
      "References for Force-Field Fitting:\n",
      "A. B. Norgaard, J. Ferkinghoff-Borg, and K. Lindorff-Larsen, “Experimental parameterization of an energy function for the simulation of unfolded proteins”, Biophys. J. 94, 182–192 (2008)\n",
      "\n",
      "T. Fröhlking, M. Bernetti, N. Calonaci, and G. Bussi, “Toward empirical force fields that match experimental observables”, J. Chem. Phys. 152, 230902 (2020).\n",
      "\n",
      "J. Köfinger and G. Hummer, “Empirical optimization of molecular simulation force fields by Bayesian inference”, Eur. Phys. J. B 94, 245 (2021).\n",
      "\n",
      "X. Wang, J. Li, L. Yang, F. Chen, Y. Wang, J. Chang, J. Chen, W. Feng, L. Zhang, and K. Yu, “Dmff: an open-source automatic differentiable platform for molecular force field development and molecular dynamics simulation”, Journal of Chemical Theory and Computation 19, 5897–5909 (2023).\n",
      "\n",
      "P. Fuchs, S. Thaler, S. Röcken, and J. Zavadlav, “chemtrain: Learning deep potential models via automatic differentiation and statistical physics”, Computer Physics Communications, 109512 (2025)\n",
      "\n",
      "\n",
      "\n",
      "References for Ensemble Refinement + Force-Field Fitting:\n",
      "I. Gilardoni, T. Fröhlking, and G. Bussi, “Boosting ensemble refinement with transferable force-field corrections: Synergistic optimization for molecular simulations”, J. Phys. Chem. Lett. 15, 1204–1210 (2024).\n",
      "\n",
      "\n",
      "\n",
      "References for Ensemble + Forward-Model Refinement:\n",
      "T. Fröhlking, M. Bernetti, and G. Bussi, “Simultaneous refinement of molecular dynamics ensembles and forward models using experimental data”, J. Chem. Phys. 158 (2023).\n",
      "\n",
      "\n",
      "\n",
      "--------------------------------------------------------------------------\n",
      "\n",
      "search for optimal hyperparameters ...\n",
      "Input random_state employed both for observables and frames\n",
      "Input random_state employed both for observables and frames\n",
      "\n",
      "log10 hyperpars:  [('alpha', 0.0), ('beta', 0.0), ('gamma', 0.0)]\n",
      "av. chi2:  480.6002643806398\n",
      "av. gradient:  [-361.3283981   -17.61169527  -50.33536923]\n",
      "\n",
      "log10 hyperpars:  [('alpha', 0.98928374329576), ('beta', 0.0482191931743788), ('gamma', 0.13781358663187274)]\n",
      "av. chi2:  86.03606595196615\n",
      "av. gradient:  [-169.34453337    2.06665955    5.77421346]\n",
      "\n",
      "log10 hyperpars:  [('alpha', 1.9026612608589346), ('beta', -0.0005833201731430607), ('gamma', -0.00046968100745867214)]\n",
      "av. chi2:  105.19539529770299\n",
      "av. gradient:  [44.27601585 -0.19969116  3.58677519]\n",
      "\n",
      "log10 hyperpars:  [('alpha', 1.2631396003760165), ('beta', 0.033586849085033656), ('gamma', 0.09635243606593678)]\n",
      "av. chi2:  77.35924593142272\n",
      "av. gradient:  [32.05848755 -0.84522178  4.90437179]\n",
      "\n",
      "log10 hyperpars:  [('alpha', 1.2205249982643314), ('beta', 0.03600654221618973), ('gamma', 0.09483009432565642)]\n",
      "av. chi2:  76.14714552172899\n",
      "av. gradient:  [23.76771907 -0.83178154  5.06289614]\n",
      "\n",
      "optimal hyperparameters: alpha: 16.61594317431135 beta: 1.086441989666221 gamma: 1.244027825163328\n",
      "\n",
      "refinement with optimal hyperparameters...\n",
      "\n",
      "done\n"
     ]
    }
   ],
   "source": [
    "result2 = MDRefinement(data_cv, stride=stride, regularization=regularization, starting_alpha=starting_alpha, starting_beta=starting_beta,\n",
    "    starting_gamma=starting_gamma, random_states=random_states, which_set=which_set, results_folder_name='results_performances')  # , gtol=0.1, ftol=0.001)"
   ]
  },
  {
   "cell_type": "markdown",
   "metadata": {},
   "source": [
    "### Evaluate the performances on the test set"
   ]
  },
  {
   "cell_type": "code",
   "execution_count": 9,
   "metadata": {},
   "outputs": [
    {
     "data": {
      "text/plain": [
       "['Results/6_Result_2025_03_19_19_14_28_686415',\n",
       " 'Results/6_Result_2025_03_19_23_37_03_738079',\n",
       " 'Results/6_Result_2025_03_20_02_49_37_753851']"
      ]
     },
     "execution_count": 9,
     "metadata": {},
     "output_type": "execute_result"
    }
   ],
   "source": [
    "path = 'Results/'\n",
    "dir_list = os.listdir(path)\n",
    "\n",
    "my_str = '6_'  # 'results_performances'\n",
    "my_list = [path + s for s in dir_list if s.startswith(my_str)]\n",
    "\n",
    "my_list"
   ]
  },
  {
   "cell_type": "code",
   "execution_count": 24,
   "metadata": {},
   "outputs": [
    {
     "data": {
      "text/html": [
       "<div>\n",
       "<style scoped>\n",
       "    .dataframe tbody tr th:only-of-type {\n",
       "        vertical-align: middle;\n",
       "    }\n",
       "\n",
       "    .dataframe tbody tr th {\n",
       "        vertical-align: top;\n",
       "    }\n",
       "\n",
       "    .dataframe thead th {\n",
       "        text-align: right;\n",
       "    }\n",
       "</style>\n",
       "<table border=\"1\" class=\"dataframe\">\n",
       "  <thead>\n",
       "    <tr style=\"text-align: right;\">\n",
       "      <th></th>\n",
       "      <th>starting_alpha</th>\n",
       "      <th>starting_beta</th>\n",
       "      <th>starting_gamma</th>\n",
       "      <th>random_states</th>\n",
       "      <th>which_set</th>\n",
       "      <th>gtol</th>\n",
       "      <th>ftol</th>\n",
       "      <th>n. frames AAAA</th>\n",
       "      <th>if_test</th>\n",
       "    </tr>\n",
       "  </thead>\n",
       "  <tbody>\n",
       "    <tr>\n",
       "      <th>0</th>\n",
       "      <td>1</td>\n",
       "      <td>inf</td>\n",
       "      <td>1</td>\n",
       "      <td>5</td>\n",
       "      <td>validation</td>\n",
       "      <td>0.5</td>\n",
       "      <td>0.00001</td>\n",
       "      <td>9153</td>\n",
       "      <td>True</td>\n",
       "    </tr>\n",
       "    <tr>\n",
       "      <th>1</th>\n",
       "      <td>1</td>\n",
       "      <td>inf</td>\n",
       "      <td>1</td>\n",
       "      <td>5</td>\n",
       "      <td>validation</td>\n",
       "      <td>0.5</td>\n",
       "      <td>0.00001</td>\n",
       "      <td>10170</td>\n",
       "      <td>False</td>\n",
       "    </tr>\n",
       "    <tr>\n",
       "      <th>2</th>\n",
       "      <td>1</td>\n",
       "      <td>1.0</td>\n",
       "      <td>1</td>\n",
       "      <td>5</td>\n",
       "      <td>validation</td>\n",
       "      <td>0.5</td>\n",
       "      <td>0.00001</td>\n",
       "      <td>10170</td>\n",
       "      <td>False</td>\n",
       "    </tr>\n",
       "  </tbody>\n",
       "</table>\n",
       "</div>"
      ],
      "text/plain": [
       "   starting_alpha  starting_beta  starting_gamma  random_states   which_set  \\\n",
       "0               1            inf               1              5  validation   \n",
       "1               1            inf               1              5  validation   \n",
       "2               1            1.0               1              5  validation   \n",
       "\n",
       "   gtol     ftol  n. frames AAAA  if_test  \n",
       "0   0.5  0.00001            9153     True  \n",
       "1   0.5  0.00001           10170    False  \n",
       "2   0.5  0.00001           10170    False  "
      ]
     },
     "execution_count": 24,
     "metadata": {},
     "output_type": "execute_result"
    }
   ],
   "source": [
    "temp = []\n",
    "\n",
    "for i in range(len(my_list)):\n",
    "    df = pandas.read_csv(my_list[i] + '/input', index_col=0)\n",
    "    df['n. frames AAAA'] = np.load(my_list[i] + '/weights_new_%s.npy' % 'AAAA').shape\n",
    "    df['if_test'] = not(df.iloc[-1]['n. frames AAAA'] == 10170)\n",
    "    temp.append(df)\n",
    "\n",
    "sims = pandas.concat(temp, axis=0, ignore_index=True)\n",
    "sims"
   ]
  },
  {
   "cell_type": "code",
   "execution_count": 11,
   "metadata": {},
   "outputs": [
    {
     "data": {
      "text/html": [
       "<div>\n",
       "<style scoped>\n",
       "    .dataframe tbody tr th:only-of-type {\n",
       "        vertical-align: middle;\n",
       "    }\n",
       "\n",
       "    .dataframe tbody tr th {\n",
       "        vertical-align: top;\n",
       "    }\n",
       "\n",
       "    .dataframe thead th {\n",
       "        text-align: right;\n",
       "    }\n",
       "</style>\n",
       "<table border=\"1\" class=\"dataframe\">\n",
       "  <thead>\n",
       "    <tr style=\"text-align: right;\">\n",
       "      <th></th>\n",
       "      <th>av_chi2</th>\n",
       "      <th>av_gradient logalpha</th>\n",
       "      <th>log10_hyperpars alpha</th>\n",
       "      <th>av_gradient loggamma</th>\n",
       "      <th>log10_hyperpars gamma</th>\n",
       "    </tr>\n",
       "  </thead>\n",
       "  <tbody>\n",
       "    <tr>\n",
       "      <th>0</th>\n",
       "      <td>158535.156907</td>\n",
       "      <td>-301832.068761</td>\n",
       "      <td>0.000000</td>\n",
       "      <td>-72495.050082</td>\n",
       "      <td>0.000000</td>\n",
       "    </tr>\n",
       "    <tr>\n",
       "      <th>1</th>\n",
       "      <td>9390.784594</td>\n",
       "      <td>-68982.512934</td>\n",
       "      <td>0.972347</td>\n",
       "      <td>3082.058394</td>\n",
       "      <td>0.233542</td>\n",
       "    </tr>\n",
       "    <tr>\n",
       "      <th>2</th>\n",
       "      <td>1920.918746</td>\n",
       "      <td>-6514.463072</td>\n",
       "      <td>1.267354</td>\n",
       "      <td>20.304316</td>\n",
       "      <td>0.202616</td>\n",
       "    </tr>\n",
       "    <tr>\n",
       "      <th>3</th>\n",
       "      <td>1727.119667</td>\n",
       "      <td>-5966.691376</td>\n",
       "      <td>1.298037</td>\n",
       "      <td>-12.858360</td>\n",
       "      <td>0.200733</td>\n",
       "    </tr>\n",
       "    <tr>\n",
       "      <th>4</th>\n",
       "      <td>1190.717066</td>\n",
       "      <td>-3167.312065</td>\n",
       "      <td>1.420767</td>\n",
       "      <td>-16.126597</td>\n",
       "      <td>0.193202</td>\n",
       "    </tr>\n",
       "    <tr>\n",
       "      <th>5</th>\n",
       "      <td>849.556980</td>\n",
       "      <td>-1696.894147</td>\n",
       "      <td>1.565817</td>\n",
       "      <td>-3.838168</td>\n",
       "      <td>0.186286</td>\n",
       "    </tr>\n",
       "    <tr>\n",
       "      <th>6</th>\n",
       "      <td>658.085122</td>\n",
       "      <td>-634.953701</td>\n",
       "      <td>1.733263</td>\n",
       "      <td>0.651128</td>\n",
       "      <td>0.177434</td>\n",
       "    </tr>\n",
       "    <tr>\n",
       "      <th>7</th>\n",
       "      <td>601.845159</td>\n",
       "      <td>-401.643270</td>\n",
       "      <td>1.833411</td>\n",
       "      <td>5.381636</td>\n",
       "      <td>0.171694</td>\n",
       "    </tr>\n",
       "    <tr>\n",
       "      <th>8</th>\n",
       "      <td>568.175651</td>\n",
       "      <td>-10.442307</td>\n",
       "      <td>2.006250</td>\n",
       "      <td>5.687524</td>\n",
       "      <td>0.156875</td>\n",
       "    </tr>\n",
       "    <tr>\n",
       "      <th>9</th>\n",
       "      <td>568.072330</td>\n",
       "      <td>0.358046</td>\n",
       "      <td>2.011081</td>\n",
       "      <td>5.651335</td>\n",
       "      <td>0.154331</td>\n",
       "    </tr>\n",
       "    <tr>\n",
       "      <th>10</th>\n",
       "      <td>568.051665</td>\n",
       "      <td>2.523380</td>\n",
       "      <td>2.012241</td>\n",
       "      <td>5.597487</td>\n",
       "      <td>0.151097</td>\n",
       "    </tr>\n",
       "    <tr>\n",
       "      <th>11</th>\n",
       "      <td>567.914944</td>\n",
       "      <td>15.790782</td>\n",
       "      <td>2.018442</td>\n",
       "      <td>5.088245</td>\n",
       "      <td>0.118672</td>\n",
       "    </tr>\n",
       "    <tr>\n",
       "      <th>12</th>\n",
       "      <td>567.848272</td>\n",
       "      <td>22.345365</td>\n",
       "      <td>2.021717</td>\n",
       "      <td>4.442034</td>\n",
       "      <td>0.072281</td>\n",
       "    </tr>\n",
       "    <tr>\n",
       "      <th>13</th>\n",
       "      <td>567.275430</td>\n",
       "      <td>29.779349</td>\n",
       "      <td>2.025314</td>\n",
       "      <td>2.691687</td>\n",
       "      <td>-0.096875</td>\n",
       "    </tr>\n",
       "    <tr>\n",
       "      <th>14</th>\n",
       "      <td>566.580782</td>\n",
       "      <td>21.770735</td>\n",
       "      <td>2.021263</td>\n",
       "      <td>1.627189</td>\n",
       "      <td>-0.313004</td>\n",
       "    </tr>\n",
       "    <tr>\n",
       "      <th>15</th>\n",
       "      <td>565.999242</td>\n",
       "      <td>2.702172</td>\n",
       "      <td>2.012279</td>\n",
       "      <td>1.606959</td>\n",
       "      <td>-0.658652</td>\n",
       "    </tr>\n",
       "    <tr>\n",
       "      <th>16</th>\n",
       "      <td>554.175289</td>\n",
       "      <td>-52.956973</td>\n",
       "      <td>1.983827</td>\n",
       "      <td>8.374885</td>\n",
       "      <td>-2.496150</td>\n",
       "    </tr>\n",
       "    <tr>\n",
       "      <th>17</th>\n",
       "      <td>570.181253</td>\n",
       "      <td>-339.578495</td>\n",
       "      <td>1.870017</td>\n",
       "      <td>-0.000002</td>\n",
       "      <td>-9.846141</td>\n",
       "    </tr>\n",
       "    <tr>\n",
       "      <th>18</th>\n",
       "      <td>552.222094</td>\n",
       "      <td>-116.431022</td>\n",
       "      <td>1.952254</td>\n",
       "      <td>0.023428</td>\n",
       "      <td>-4.535144</td>\n",
       "    </tr>\n",
       "    <tr>\n",
       "      <th>19</th>\n",
       "      <td>550.880560</td>\n",
       "      <td>-71.528145</td>\n",
       "      <td>1.968064</td>\n",
       "      <td>0.956303</td>\n",
       "      <td>-3.514123</td>\n",
       "    </tr>\n",
       "    <tr>\n",
       "      <th>20</th>\n",
       "      <td>550.157099</td>\n",
       "      <td>-53.173192</td>\n",
       "      <td>1.976414</td>\n",
       "      <td>0.446165</td>\n",
       "      <td>-3.802903</td>\n",
       "    </tr>\n",
       "    <tr>\n",
       "      <th>21</th>\n",
       "      <td>550.151285</td>\n",
       "      <td>34.915454</td>\n",
       "      <td>2.021418</td>\n",
       "      <td>1.703027</td>\n",
       "      <td>-3.306551</td>\n",
       "    </tr>\n",
       "    <tr>\n",
       "      <th>22</th>\n",
       "      <td>549.517357</td>\n",
       "      <td>-17.732472</td>\n",
       "      <td>1.997714</td>\n",
       "      <td>0.888247</td>\n",
       "      <td>-3.567984</td>\n",
       "    </tr>\n",
       "    <tr>\n",
       "      <th>23</th>\n",
       "      <td>549.297915</td>\n",
       "      <td>14.902617</td>\n",
       "      <td>2.012285</td>\n",
       "      <td>0.131916</td>\n",
       "      <td>-4.353770</td>\n",
       "    </tr>\n",
       "    <tr>\n",
       "      <th>24</th>\n",
       "      <td>549.296203</td>\n",
       "      <td>-0.498857</td>\n",
       "      <td>2.005692</td>\n",
       "      <td>0.092117</td>\n",
       "      <td>-4.488197</td>\n",
       "    </tr>\n",
       "  </tbody>\n",
       "</table>\n",
       "</div>"
      ],
      "text/plain": [
       "          av_chi2  av_gradient logalpha  log10_hyperpars alpha  \\\n",
       "0   158535.156907        -301832.068761               0.000000   \n",
       "1     9390.784594         -68982.512934               0.972347   \n",
       "2     1920.918746          -6514.463072               1.267354   \n",
       "3     1727.119667          -5966.691376               1.298037   \n",
       "4     1190.717066          -3167.312065               1.420767   \n",
       "5      849.556980          -1696.894147               1.565817   \n",
       "6      658.085122           -634.953701               1.733263   \n",
       "7      601.845159           -401.643270               1.833411   \n",
       "8      568.175651            -10.442307               2.006250   \n",
       "9      568.072330              0.358046               2.011081   \n",
       "10     568.051665              2.523380               2.012241   \n",
       "11     567.914944             15.790782               2.018442   \n",
       "12     567.848272             22.345365               2.021717   \n",
       "13     567.275430             29.779349               2.025314   \n",
       "14     566.580782             21.770735               2.021263   \n",
       "15     565.999242              2.702172               2.012279   \n",
       "16     554.175289            -52.956973               1.983827   \n",
       "17     570.181253           -339.578495               1.870017   \n",
       "18     552.222094           -116.431022               1.952254   \n",
       "19     550.880560            -71.528145               1.968064   \n",
       "20     550.157099            -53.173192               1.976414   \n",
       "21     550.151285             34.915454               2.021418   \n",
       "22     549.517357            -17.732472               1.997714   \n",
       "23     549.297915             14.902617               2.012285   \n",
       "24     549.296203             -0.498857               2.005692   \n",
       "\n",
       "    av_gradient loggamma  log10_hyperpars gamma  \n",
       "0          -72495.050082               0.000000  \n",
       "1            3082.058394               0.233542  \n",
       "2              20.304316               0.202616  \n",
       "3             -12.858360               0.200733  \n",
       "4             -16.126597               0.193202  \n",
       "5              -3.838168               0.186286  \n",
       "6               0.651128               0.177434  \n",
       "7               5.381636               0.171694  \n",
       "8               5.687524               0.156875  \n",
       "9               5.651335               0.154331  \n",
       "10              5.597487               0.151097  \n",
       "11              5.088245               0.118672  \n",
       "12              4.442034               0.072281  \n",
       "13              2.691687              -0.096875  \n",
       "14              1.627189              -0.313004  \n",
       "15              1.606959              -0.658652  \n",
       "16              8.374885              -2.496150  \n",
       "17             -0.000002              -9.846141  \n",
       "18              0.023428              -4.535144  \n",
       "19              0.956303              -3.514123  \n",
       "20              0.446165              -3.802903  \n",
       "21              1.703027              -3.306551  \n",
       "22              0.888247              -3.567984  \n",
       "23              0.131916              -4.353770  \n",
       "24              0.092117              -4.488197  "
      ]
     },
     "execution_count": 11,
     "metadata": {},
     "output_type": "execute_result"
    }
   ],
   "source": [
    "dfs_hyper = {}\n",
    "\n",
    "for i, s in enumerate(my_list):\n",
    "    dfs_hyper[i] = pandas.read_csv(s + '/hyper_search', index_col=0)\n",
    "\n",
    "dfs_hyper[0]"
   ]
  },
  {
   "cell_type": "code",
   "execution_count": 26,
   "metadata": {},
   "outputs": [
    {
     "data": {
      "text/html": [
       "<div>\n",
       "<style scoped>\n",
       "    .dataframe tbody tr th:only-of-type {\n",
       "        vertical-align: middle;\n",
       "    }\n",
       "\n",
       "    .dataframe tbody tr th {\n",
       "        vertical-align: top;\n",
       "    }\n",
       "\n",
       "    .dataframe thead th {\n",
       "        text-align: right;\n",
       "    }\n",
       "</style>\n",
       "<table border=\"1\" class=\"dataframe\">\n",
       "  <thead>\n",
       "    <tr style=\"text-align: right;\">\n",
       "      <th></th>\n",
       "      <th>av_chi2</th>\n",
       "      <th>av_gradient logalpha</th>\n",
       "      <th>log10_hyperpars alpha</th>\n",
       "      <th>av_gradient logbeta</th>\n",
       "      <th>log10_hyperpars beta</th>\n",
       "      <th>av_gradient loggamma</th>\n",
       "      <th>log10_hyperpars gamma</th>\n",
       "    </tr>\n",
       "  </thead>\n",
       "  <tbody>\n",
       "    <tr>\n",
       "      <th>0</th>\n",
       "      <td>9.532298e+05</td>\n",
       "      <td>-52449.854298</td>\n",
       "      <td>0.000000</td>\n",
       "      <td>1.377405e+03</td>\n",
       "      <td>0.000000</td>\n",
       "      <td>1232.891972</td>\n",
       "      <td>0.000000</td>\n",
       "    </tr>\n",
       "    <tr>\n",
       "      <th>1</th>\n",
       "      <td>8.746734e+03</td>\n",
       "      <td>-14651.250345</td>\n",
       "      <td>0.999379</td>\n",
       "      <td>-5.383760e+03</td>\n",
       "      <td>-0.026245</td>\n",
       "      <td>-236.611809</td>\n",
       "      <td>-0.023492</td>\n",
       "    </tr>\n",
       "    <tr>\n",
       "      <th>2</th>\n",
       "      <td>1.190098e+04</td>\n",
       "      <td>15096.884220</td>\n",
       "      <td>1.417995</td>\n",
       "      <td>-7.448043e+03</td>\n",
       "      <td>0.167790</td>\n",
       "      <td>473.252556</td>\n",
       "      <td>-0.012681</td>\n",
       "    </tr>\n",
       "    <tr>\n",
       "      <th>3</th>\n",
       "      <td>8.125005e+03</td>\n",
       "      <td>4836.316407</td>\n",
       "      <td>1.092982</td>\n",
       "      <td>-5.518629e+03</td>\n",
       "      <td>0.017141</td>\n",
       "      <td>107.844328</td>\n",
       "      <td>-0.021074</td>\n",
       "    </tr>\n",
       "    <tr>\n",
       "      <th>4</th>\n",
       "      <td>7.789592e+03</td>\n",
       "      <td>3118.789891</td>\n",
       "      <td>1.082345</td>\n",
       "      <td>-5.825800e+03</td>\n",
       "      <td>0.068864</td>\n",
       "      <td>75.161162</td>\n",
       "      <td>-0.018874</td>\n",
       "    </tr>\n",
       "    <tr>\n",
       "      <th>5</th>\n",
       "      <td>6.495822e+03</td>\n",
       "      <td>-4803.527083</td>\n",
       "      <td>1.039794</td>\n",
       "      <td>-6.803157e+03</td>\n",
       "      <td>0.275755</td>\n",
       "      <td>-52.602504</td>\n",
       "      <td>-0.010073</td>\n",
       "    </tr>\n",
       "    <tr>\n",
       "      <th>6</th>\n",
       "      <td>1.067892e+06</td>\n",
       "      <td>-436494.153507</td>\n",
       "      <td>-0.392828</td>\n",
       "      <td>-2.346490e-07</td>\n",
       "      <td>9.804272</td>\n",
       "      <td>-1974.265770</td>\n",
       "      <td>0.402081</td>\n",
       "    </tr>\n",
       "    <tr>\n",
       "      <th>7</th>\n",
       "      <td>5.888441e+03</td>\n",
       "      <td>-7706.323128</td>\n",
       "      <td>1.024126</td>\n",
       "      <td>-6.946290e+03</td>\n",
       "      <td>0.379962</td>\n",
       "      <td>-102.218713</td>\n",
       "      <td>-0.005566</td>\n",
       "    </tr>\n",
       "    <tr>\n",
       "      <th>8</th>\n",
       "      <td>2.712151e+04</td>\n",
       "      <td>-192540.353162</td>\n",
       "      <td>0.712449</td>\n",
       "      <td>-3.072337e+02</td>\n",
       "      <td>2.452963</td>\n",
       "      <td>-282.521741</td>\n",
       "      <td>0.084101</td>\n",
       "    </tr>\n",
       "    <tr>\n",
       "      <th>9</th>\n",
       "      <td>4.560457e+03</td>\n",
       "      <td>-23734.101100</td>\n",
       "      <td>0.964623</td>\n",
       "      <td>-3.920421e+03</td>\n",
       "      <td>0.775723</td>\n",
       "      <td>-314.613020</td>\n",
       "      <td>0.011553</td>\n",
       "    </tr>\n",
       "    <tr>\n",
       "      <th>10</th>\n",
       "      <td>3.744304e+03</td>\n",
       "      <td>-20968.820857</td>\n",
       "      <td>0.978331</td>\n",
       "      <td>-2.550582e+03</td>\n",
       "      <td>0.929682</td>\n",
       "      <td>-281.038843</td>\n",
       "      <td>0.017486</td>\n",
       "    </tr>\n",
       "    <tr>\n",
       "      <th>11</th>\n",
       "      <td>1.954203e+03</td>\n",
       "      <td>-7100.466343</td>\n",
       "      <td>1.073507</td>\n",
       "      <td>-1.341814e+03</td>\n",
       "      <td>1.235012</td>\n",
       "      <td>-85.686736</td>\n",
       "      <td>0.027691</td>\n",
       "    </tr>\n",
       "    <tr>\n",
       "      <th>12</th>\n",
       "      <td>1.391725e+03</td>\n",
       "      <td>-4245.512781</td>\n",
       "      <td>1.128936</td>\n",
       "      <td>-6.835027e+02</td>\n",
       "      <td>1.496323</td>\n",
       "      <td>-40.322790</td>\n",
       "      <td>0.036863</td>\n",
       "    </tr>\n",
       "    <tr>\n",
       "      <th>13</th>\n",
       "      <td>1.021044e+03</td>\n",
       "      <td>-2327.053280</td>\n",
       "      <td>1.201419</td>\n",
       "      <td>-2.938496e+02</td>\n",
       "      <td>1.810639</td>\n",
       "      <td>-11.499161</td>\n",
       "      <td>0.046730</td>\n",
       "    </tr>\n",
       "    <tr>\n",
       "      <th>14</th>\n",
       "      <td>8.191653e+02</td>\n",
       "      <td>-1506.362642</td>\n",
       "      <td>1.275582</td>\n",
       "      <td>-1.465843e+02</td>\n",
       "      <td>2.115124</td>\n",
       "      <td>4.898111</td>\n",
       "      <td>0.054547</td>\n",
       "    </tr>\n",
       "    <tr>\n",
       "      <th>15</th>\n",
       "      <td>6.493371e+02</td>\n",
       "      <td>-936.328004</td>\n",
       "      <td>1.386482</td>\n",
       "      <td>-5.483663e+01</td>\n",
       "      <td>2.557833</td>\n",
       "      <td>11.217745</td>\n",
       "      <td>0.060639</td>\n",
       "    </tr>\n",
       "    <tr>\n",
       "      <th>16</th>\n",
       "      <td>5.259990e+02</td>\n",
       "      <td>-586.663217</td>\n",
       "      <td>1.524251</td>\n",
       "      <td>-1.677996e+01</td>\n",
       "      <td>3.097496</td>\n",
       "      <td>10.268188</td>\n",
       "      <td>0.060801</td>\n",
       "    </tr>\n",
       "    <tr>\n",
       "      <th>17</th>\n",
       "      <td>4.578993e+02</td>\n",
       "      <td>-160.154081</td>\n",
       "      <td>1.704902</td>\n",
       "      <td>-2.577915e+00</td>\n",
       "      <td>3.799215</td>\n",
       "      <td>7.849832</td>\n",
       "      <td>0.054698</td>\n",
       "    </tr>\n",
       "    <tr>\n",
       "      <th>18</th>\n",
       "      <td>4.495511e+02</td>\n",
       "      <td>-86.816179</td>\n",
       "      <td>1.768815</td>\n",
       "      <td>-1.437519e+00</td>\n",
       "      <td>4.046784</td>\n",
       "      <td>7.014098</td>\n",
       "      <td>0.049104</td>\n",
       "    </tr>\n",
       "    <tr>\n",
       "      <th>19</th>\n",
       "      <td>4.443330e+02</td>\n",
       "      <td>-35.682933</td>\n",
       "      <td>1.845129</td>\n",
       "      <td>-7.521364e-01</td>\n",
       "      <td>4.342158</td>\n",
       "      <td>6.469415</td>\n",
       "      <td>0.036845</td>\n",
       "    </tr>\n",
       "    <tr>\n",
       "      <th>20</th>\n",
       "      <td>4.441467e+02</td>\n",
       "      <td>32.031962</td>\n",
       "      <td>1.901112</td>\n",
       "      <td>-3.988445e-01</td>\n",
       "      <td>4.563798</td>\n",
       "      <td>5.838814</td>\n",
       "      <td>0.018336</td>\n",
       "    </tr>\n",
       "    <tr>\n",
       "      <th>21</th>\n",
       "      <td>4.435278e+02</td>\n",
       "      <td>10.065166</td>\n",
       "      <td>1.878003</td>\n",
       "      <td>-5.044026e-01</td>\n",
       "      <td>4.477164</td>\n",
       "      <td>5.939111</td>\n",
       "      <td>0.020539</td>\n",
       "    </tr>\n",
       "    <tr>\n",
       "      <th>22</th>\n",
       "      <td>4.434544e+02</td>\n",
       "      <td>-0.200366</td>\n",
       "      <td>1.870067</td>\n",
       "      <td>-5.388267e-01</td>\n",
       "      <td>4.457469</td>\n",
       "      <td>5.919616</td>\n",
       "      <td>0.014437</td>\n",
       "    </tr>\n",
       "    <tr>\n",
       "      <th>23</th>\n",
       "      <td>4.435056e+02</td>\n",
       "      <td>-3.037874</td>\n",
       "      <td>1.867731</td>\n",
       "      <td>-5.312125e-01</td>\n",
       "      <td>4.466029</td>\n",
       "      <td>5.759664</td>\n",
       "      <td>0.002407</td>\n",
       "    </tr>\n",
       "    <tr>\n",
       "      <th>24</th>\n",
       "      <td>4.436763e+02</td>\n",
       "      <td>-0.268957</td>\n",
       "      <td>1.869799</td>\n",
       "      <td>-5.374078e-01</td>\n",
       "      <td>4.458449</td>\n",
       "      <td>5.898899</td>\n",
       "      <td>0.013060</td>\n",
       "    </tr>\n",
       "    <tr>\n",
       "      <th>25</th>\n",
       "      <td>4.434427e+02</td>\n",
       "      <td>0.238733</td>\n",
       "      <td>1.870065</td>\n",
       "      <td>-5.382418e-01</td>\n",
       "      <td>4.457475</td>\n",
       "      <td>5.914497</td>\n",
       "      <td>0.014429</td>\n",
       "    </tr>\n",
       "    <tr>\n",
       "      <th>26</th>\n",
       "      <td>4.435340e+02</td>\n",
       "      <td>-0.014806</td>\n",
       "      <td>1.870063</td>\n",
       "      <td>-5.387369e-01</td>\n",
       "      <td>4.457481</td>\n",
       "      <td>5.920895</td>\n",
       "      <td>0.014420</td>\n",
       "    </tr>\n",
       "    <tr>\n",
       "      <th>27</th>\n",
       "      <td>4.434827e+02</td>\n",
       "      <td>0.112218</td>\n",
       "      <td>1.870065</td>\n",
       "      <td>-5.378793e-01</td>\n",
       "      <td>4.457475</td>\n",
       "      <td>5.918023</td>\n",
       "      <td>0.014429</td>\n",
       "    </tr>\n",
       "    <tr>\n",
       "      <th>28</th>\n",
       "      <td>4.434427e+02</td>\n",
       "      <td>0.238733</td>\n",
       "      <td>1.870065</td>\n",
       "      <td>-5.382418e-01</td>\n",
       "      <td>4.457475</td>\n",
       "      <td>5.914497</td>\n",
       "      <td>0.014429</td>\n",
       "    </tr>\n",
       "    <tr>\n",
       "      <th>29</th>\n",
       "      <td>4.435312e+02</td>\n",
       "      <td>-3.647979</td>\n",
       "      <td>1.867395</td>\n",
       "      <td>-5.331684e-01</td>\n",
       "      <td>4.465213</td>\n",
       "      <td>5.755355</td>\n",
       "      <td>0.002151</td>\n",
       "    </tr>\n",
       "    <tr>\n",
       "      <th>30</th>\n",
       "      <td>4.435545e+02</td>\n",
       "      <td>-0.221821</td>\n",
       "      <td>1.869832</td>\n",
       "      <td>-5.382036e-01</td>\n",
       "      <td>4.458150</td>\n",
       "      <td>5.901670</td>\n",
       "      <td>0.013357</td>\n",
       "    </tr>\n",
       "    <tr>\n",
       "      <th>31</th>\n",
       "      <td>4.435412e+02</td>\n",
       "      <td>0.218037</td>\n",
       "      <td>1.870063</td>\n",
       "      <td>-5.377142e-01</td>\n",
       "      <td>4.457481</td>\n",
       "      <td>5.923426</td>\n",
       "      <td>0.014418</td>\n",
       "    </tr>\n",
       "    <tr>\n",
       "      <th>32</th>\n",
       "      <td>4.434676e+02</td>\n",
       "      <td>-0.285274</td>\n",
       "      <td>1.870065</td>\n",
       "      <td>-5.386493e-01</td>\n",
       "      <td>4.457475</td>\n",
       "      <td>5.920080</td>\n",
       "      <td>0.014429</td>\n",
       "    </tr>\n",
       "    <tr>\n",
       "      <th>33</th>\n",
       "      <td>4.434427e+02</td>\n",
       "      <td>0.238733</td>\n",
       "      <td>1.870065</td>\n",
       "      <td>-5.382418e-01</td>\n",
       "      <td>4.457475</td>\n",
       "      <td>5.914497</td>\n",
       "      <td>0.014429</td>\n",
       "    </tr>\n",
       "    <tr>\n",
       "      <th>34</th>\n",
       "      <td>4.434854e+02</td>\n",
       "      <td>0.488111</td>\n",
       "      <td>1.870065</td>\n",
       "      <td>-5.377589e-01</td>\n",
       "      <td>4.457475</td>\n",
       "      <td>5.913049</td>\n",
       "      <td>0.014429</td>\n",
       "    </tr>\n",
       "    <tr>\n",
       "      <th>35</th>\n",
       "      <td>4.434427e+02</td>\n",
       "      <td>0.238733</td>\n",
       "      <td>1.870065</td>\n",
       "      <td>-5.382418e-01</td>\n",
       "      <td>4.457475</td>\n",
       "      <td>5.914497</td>\n",
       "      <td>0.014429</td>\n",
       "    </tr>\n",
       "    <tr>\n",
       "      <th>36</th>\n",
       "      <td>4.434854e+02</td>\n",
       "      <td>0.488111</td>\n",
       "      <td>1.870065</td>\n",
       "      <td>-5.377589e-01</td>\n",
       "      <td>4.457475</td>\n",
       "      <td>5.913049</td>\n",
       "      <td>0.014429</td>\n",
       "    </tr>\n",
       "    <tr>\n",
       "      <th>37</th>\n",
       "      <td>4.434427e+02</td>\n",
       "      <td>0.238733</td>\n",
       "      <td>1.870065</td>\n",
       "      <td>-5.382418e-01</td>\n",
       "      <td>4.457475</td>\n",
       "      <td>5.914497</td>\n",
       "      <td>0.014429</td>\n",
       "    </tr>\n",
       "    <tr>\n",
       "      <th>38</th>\n",
       "      <td>4.434427e+02</td>\n",
       "      <td>0.238733</td>\n",
       "      <td>1.870065</td>\n",
       "      <td>-5.382418e-01</td>\n",
       "      <td>4.457475</td>\n",
       "      <td>5.914497</td>\n",
       "      <td>0.014429</td>\n",
       "    </tr>\n",
       "  </tbody>\n",
       "</table>\n",
       "</div>"
      ],
      "text/plain": [
       "         av_chi2  av_gradient logalpha  log10_hyperpars alpha  \\\n",
       "0   9.532298e+05         -52449.854298               0.000000   \n",
       "1   8.746734e+03         -14651.250345               0.999379   \n",
       "2   1.190098e+04          15096.884220               1.417995   \n",
       "3   8.125005e+03           4836.316407               1.092982   \n",
       "4   7.789592e+03           3118.789891               1.082345   \n",
       "5   6.495822e+03          -4803.527083               1.039794   \n",
       "6   1.067892e+06        -436494.153507              -0.392828   \n",
       "7   5.888441e+03          -7706.323128               1.024126   \n",
       "8   2.712151e+04        -192540.353162               0.712449   \n",
       "9   4.560457e+03         -23734.101100               0.964623   \n",
       "10  3.744304e+03         -20968.820857               0.978331   \n",
       "11  1.954203e+03          -7100.466343               1.073507   \n",
       "12  1.391725e+03          -4245.512781               1.128936   \n",
       "13  1.021044e+03          -2327.053280               1.201419   \n",
       "14  8.191653e+02          -1506.362642               1.275582   \n",
       "15  6.493371e+02           -936.328004               1.386482   \n",
       "16  5.259990e+02           -586.663217               1.524251   \n",
       "17  4.578993e+02           -160.154081               1.704902   \n",
       "18  4.495511e+02            -86.816179               1.768815   \n",
       "19  4.443330e+02            -35.682933               1.845129   \n",
       "20  4.441467e+02             32.031962               1.901112   \n",
       "21  4.435278e+02             10.065166               1.878003   \n",
       "22  4.434544e+02             -0.200366               1.870067   \n",
       "23  4.435056e+02             -3.037874               1.867731   \n",
       "24  4.436763e+02             -0.268957               1.869799   \n",
       "25  4.434427e+02              0.238733               1.870065   \n",
       "26  4.435340e+02             -0.014806               1.870063   \n",
       "27  4.434827e+02              0.112218               1.870065   \n",
       "28  4.434427e+02              0.238733               1.870065   \n",
       "29  4.435312e+02             -3.647979               1.867395   \n",
       "30  4.435545e+02             -0.221821               1.869832   \n",
       "31  4.435412e+02              0.218037               1.870063   \n",
       "32  4.434676e+02             -0.285274               1.870065   \n",
       "33  4.434427e+02              0.238733               1.870065   \n",
       "34  4.434854e+02              0.488111               1.870065   \n",
       "35  4.434427e+02              0.238733               1.870065   \n",
       "36  4.434854e+02              0.488111               1.870065   \n",
       "37  4.434427e+02              0.238733               1.870065   \n",
       "38  4.434427e+02              0.238733               1.870065   \n",
       "\n",
       "    av_gradient logbeta  log10_hyperpars beta  av_gradient loggamma  \\\n",
       "0          1.377405e+03              0.000000           1232.891972   \n",
       "1         -5.383760e+03             -0.026245           -236.611809   \n",
       "2         -7.448043e+03              0.167790            473.252556   \n",
       "3         -5.518629e+03              0.017141            107.844328   \n",
       "4         -5.825800e+03              0.068864             75.161162   \n",
       "5         -6.803157e+03              0.275755            -52.602504   \n",
       "6         -2.346490e-07              9.804272          -1974.265770   \n",
       "7         -6.946290e+03              0.379962           -102.218713   \n",
       "8         -3.072337e+02              2.452963           -282.521741   \n",
       "9         -3.920421e+03              0.775723           -314.613020   \n",
       "10        -2.550582e+03              0.929682           -281.038843   \n",
       "11        -1.341814e+03              1.235012            -85.686736   \n",
       "12        -6.835027e+02              1.496323            -40.322790   \n",
       "13        -2.938496e+02              1.810639            -11.499161   \n",
       "14        -1.465843e+02              2.115124              4.898111   \n",
       "15        -5.483663e+01              2.557833             11.217745   \n",
       "16        -1.677996e+01              3.097496             10.268188   \n",
       "17        -2.577915e+00              3.799215              7.849832   \n",
       "18        -1.437519e+00              4.046784              7.014098   \n",
       "19        -7.521364e-01              4.342158              6.469415   \n",
       "20        -3.988445e-01              4.563798              5.838814   \n",
       "21        -5.044026e-01              4.477164              5.939111   \n",
       "22        -5.388267e-01              4.457469              5.919616   \n",
       "23        -5.312125e-01              4.466029              5.759664   \n",
       "24        -5.374078e-01              4.458449              5.898899   \n",
       "25        -5.382418e-01              4.457475              5.914497   \n",
       "26        -5.387369e-01              4.457481              5.920895   \n",
       "27        -5.378793e-01              4.457475              5.918023   \n",
       "28        -5.382418e-01              4.457475              5.914497   \n",
       "29        -5.331684e-01              4.465213              5.755355   \n",
       "30        -5.382036e-01              4.458150              5.901670   \n",
       "31        -5.377142e-01              4.457481              5.923426   \n",
       "32        -5.386493e-01              4.457475              5.920080   \n",
       "33        -5.382418e-01              4.457475              5.914497   \n",
       "34        -5.377589e-01              4.457475              5.913049   \n",
       "35        -5.382418e-01              4.457475              5.914497   \n",
       "36        -5.377589e-01              4.457475              5.913049   \n",
       "37        -5.382418e-01              4.457475              5.914497   \n",
       "38        -5.382418e-01              4.457475              5.914497   \n",
       "\n",
       "    log10_hyperpars gamma  \n",
       "0                0.000000  \n",
       "1               -0.023492  \n",
       "2               -0.012681  \n",
       "3               -0.021074  \n",
       "4               -0.018874  \n",
       "5               -0.010073  \n",
       "6                0.402081  \n",
       "7               -0.005566  \n",
       "8                0.084101  \n",
       "9                0.011553  \n",
       "10               0.017486  \n",
       "11               0.027691  \n",
       "12               0.036863  \n",
       "13               0.046730  \n",
       "14               0.054547  \n",
       "15               0.060639  \n",
       "16               0.060801  \n",
       "17               0.054698  \n",
       "18               0.049104  \n",
       "19               0.036845  \n",
       "20               0.018336  \n",
       "21               0.020539  \n",
       "22               0.014437  \n",
       "23               0.002407  \n",
       "24               0.013060  \n",
       "25               0.014429  \n",
       "26               0.014420  \n",
       "27               0.014429  \n",
       "28               0.014429  \n",
       "29               0.002151  \n",
       "30               0.013357  \n",
       "31               0.014418  \n",
       "32               0.014429  \n",
       "33               0.014429  \n",
       "34               0.014429  \n",
       "35               0.014429  \n",
       "36               0.014429  \n",
       "37               0.014429  \n",
       "38               0.014429  "
      ]
     },
     "execution_count": 26,
     "metadata": {},
     "output_type": "execute_result"
    }
   ],
   "source": [
    "dfs_hyper[2]"
   ]
  },
  {
   "cell_type": "raw",
   "metadata": {},
   "source": [
    "fff: alpha 46.31, gamma 0.96\n",
    "\n",
    "no fff: alpha 959.9, beta 167.9, gamma 0.42"
   ]
  },
  {
   "cell_type": "code",
   "execution_count": 13,
   "metadata": {},
   "outputs": [
    {
     "name": "stdout",
     "output_type": "stream",
     "text": [
      "log10_hyperpars alpha    101.319244\n",
      "log10_hyperpars gamma      0.000032\n",
      "Name: 24, dtype: float64\n",
      "log10_hyperpars alpha    60.176629\n",
      "log10_hyperpars gamma     0.000044\n",
      "Name: 46, dtype: float64\n"
     ]
    }
   ],
   "source": [
    "print(10**dfs_hyper[0].iloc[-1][['log10_hyperpars alpha', 'log10_hyperpars gamma']])\n",
    "\n",
    "print(10**dfs_hyper[1].iloc[-1][['log10_hyperpars alpha', 'log10_hyperpars gamma']])"
   ]
  },
  {
   "cell_type": "code",
   "execution_count": 14,
   "metadata": {},
   "outputs": [
    {
     "data": {
      "text/html": [
       "<div>\n",
       "<style scoped>\n",
       "    .dataframe tbody tr th:only-of-type {\n",
       "        vertical-align: middle;\n",
       "    }\n",
       "\n",
       "    .dataframe tbody tr th {\n",
       "        vertical-align: top;\n",
       "    }\n",
       "\n",
       "    .dataframe thead th {\n",
       "        text-align: right;\n",
       "    }\n",
       "</style>\n",
       "<table border=\"1\" class=\"dataframe\">\n",
       "  <thead>\n",
       "    <tr style=\"text-align: right;\">\n",
       "      <th></th>\n",
       "      <th>loss</th>\n",
       "      <th>A_gamma</th>\n",
       "      <th>B_gamma</th>\n",
       "      <th>C_gamma</th>\n",
       "      <th>A_beta</th>\n",
       "      <th>B_beta</th>\n",
       "      <th>C_beta</th>\n",
       "      <th>A_sugar</th>\n",
       "      <th>B_sugar</th>\n",
       "      <th>C_sugar</th>\n",
       "      <th>...</th>\n",
       "      <th>hyper_mini success</th>\n",
       "      <th>sin alpha</th>\n",
       "      <th>cos alpha</th>\n",
       "      <th>reg_ff_AAAA</th>\n",
       "      <th>reg_ff_CAAU</th>\n",
       "      <th>reg_ff_CCCC</th>\n",
       "      <th>reg_ff_GACC</th>\n",
       "      <th>reg_ff_UUUU</th>\n",
       "      <th>reg_ff_UCAAUC</th>\n",
       "      <th>optimal beta</th>\n",
       "    </tr>\n",
       "  </thead>\n",
       "  <tbody>\n",
       "    <tr>\n",
       "      <th>0</th>\n",
       "      <td>578.536644</td>\n",
       "      <td>32.688282</td>\n",
       "      <td>3.692210</td>\n",
       "      <td>-9.593102</td>\n",
       "      <td>11.018172</td>\n",
       "      <td>4.474214</td>\n",
       "      <td>-2.701179</td>\n",
       "      <td>7.998612</td>\n",
       "      <td>-1.710257</td>\n",
       "      <td>0.139468</td>\n",
       "      <td>...</td>\n",
       "      <td>True</td>\n",
       "      <td>NaN</td>\n",
       "      <td>NaN</td>\n",
       "      <td>NaN</td>\n",
       "      <td>NaN</td>\n",
       "      <td>NaN</td>\n",
       "      <td>NaN</td>\n",
       "      <td>NaN</td>\n",
       "      <td>NaN</td>\n",
       "      <td>NaN</td>\n",
       "    </tr>\n",
       "    <tr>\n",
       "      <th>1</th>\n",
       "      <td>434.583141</td>\n",
       "      <td>48.112366</td>\n",
       "      <td>10.422917</td>\n",
       "      <td>-17.472427</td>\n",
       "      <td>10.580528</td>\n",
       "      <td>6.004643</td>\n",
       "      <td>-3.376302</td>\n",
       "      <td>8.083011</td>\n",
       "      <td>-1.793698</td>\n",
       "      <td>0.014704</td>\n",
       "      <td>...</td>\n",
       "      <td>False</td>\n",
       "      <td>NaN</td>\n",
       "      <td>NaN</td>\n",
       "      <td>NaN</td>\n",
       "      <td>NaN</td>\n",
       "      <td>NaN</td>\n",
       "      <td>NaN</td>\n",
       "      <td>NaN</td>\n",
       "      <td>NaN</td>\n",
       "      <td>NaN</td>\n",
       "    </tr>\n",
       "    <tr>\n",
       "      <th>2</th>\n",
       "      <td>495.307660</td>\n",
       "      <td>10.006356</td>\n",
       "      <td>-1.829263</td>\n",
       "      <td>-0.138776</td>\n",
       "      <td>18.791568</td>\n",
       "      <td>-5.248107</td>\n",
       "      <td>-0.150578</td>\n",
       "      <td>8.236067</td>\n",
       "      <td>-1.795095</td>\n",
       "      <td>-0.010759</td>\n",
       "      <td>...</td>\n",
       "      <td>True</td>\n",
       "      <td>0.000713</td>\n",
       "      <td>-0.000575</td>\n",
       "      <td>6.681477e-07</td>\n",
       "      <td>5.703234e-07</td>\n",
       "      <td>8.606628e-07</td>\n",
       "      <td>6.127292e-07</td>\n",
       "      <td>7.679068e-07</td>\n",
       "      <td>3.423137e-07</td>\n",
       "      <td>28673.103827</td>\n",
       "    </tr>\n",
       "  </tbody>\n",
       "</table>\n",
       "<p>3 rows × 44 columns</p>\n",
       "</div>"
      ],
      "text/plain": [
       "         loss    A_gamma    B_gamma    C_gamma     A_beta    B_beta    C_beta  \\\n",
       "0  578.536644  32.688282   3.692210  -9.593102  11.018172  4.474214 -2.701179   \n",
       "1  434.583141  48.112366  10.422917 -17.472427  10.580528  6.004643 -3.376302   \n",
       "2  495.307660  10.006356  -1.829263  -0.138776  18.791568 -5.248107 -0.150578   \n",
       "\n",
       "    A_sugar   B_sugar   C_sugar  ...  hyper_mini success  sin alpha  \\\n",
       "0  7.998612 -1.710257  0.139468  ...                True        NaN   \n",
       "1  8.083011 -1.793698  0.014704  ...               False        NaN   \n",
       "2  8.236067 -1.795095 -0.010759  ...                True   0.000713   \n",
       "\n",
       "   cos alpha   reg_ff_AAAA   reg_ff_CAAU   reg_ff_CCCC   reg_ff_GACC  \\\n",
       "0        NaN           NaN           NaN           NaN           NaN   \n",
       "1        NaN           NaN           NaN           NaN           NaN   \n",
       "2  -0.000575  6.681477e-07  5.703234e-07  8.606628e-07  6.127292e-07   \n",
       "\n",
       "    reg_ff_UUUU  reg_ff_UCAAUC  optimal beta  \n",
       "0           NaN            NaN           NaN  \n",
       "1           NaN            NaN           NaN  \n",
       "2  7.679068e-07   3.423137e-07  28673.103827  \n",
       "\n",
       "[3 rows x 44 columns]"
      ]
     },
     "execution_count": 14,
     "metadata": {},
     "output_type": "execute_result"
    }
   ],
   "source": [
    "temp = []\n",
    "\n",
    "for i in range(len(my_list)):\n",
    "    df = pandas.read_csv(my_list[i] + '/result', index_col=0)\n",
    "    temp.append(df)\n",
    "\n",
    "results = pandas.concat(temp, axis=0, ignore_index=True)\n",
    "results"
   ]
  },
  {
   "cell_type": "code",
   "execution_count": 15,
   "metadata": {},
   "outputs": [],
   "source": [
    "def karplus_eqs(abc_vec, label):\n",
    "    a = abc_vec[0]\n",
    "    b = abc_vec[1]\n",
    "    c = abc_vec[2]\n",
    "    \n",
    "    phi = np.linspace(-np.pi, np.pi, 100)\n",
    "    jcoupl = a*np.cos(phi)**2 + b*np.cos(phi) + c\n",
    "    plt.plot(phi, jcoupl, label=label)\n",
    "    return jcoupl\n",
    "\n",
    "def ff_correction(sincos_vec, label):\n",
    "    if not np.isnan(sincos_vec[0]):\n",
    "        phi = np.linspace(-np.pi, np.pi, 100)\n",
    "        ff = sincos_vec[0]*np.sin(phi) + sincos_vec[1]*np.cos(phi)\n",
    "        plt.plot(phi, ff, label=label)\n",
    "        return ff"
   ]
  },
  {
   "cell_type": "code",
   "execution_count": 16,
   "metadata": {},
   "outputs": [
    {
     "data": {
      "text/plain": [
       "<matplotlib.legend.Legend at 0x7ff1c81dcac8>"
      ]
     },
     "execution_count": 16,
     "metadata": {},
     "output_type": "execute_result"
    },
    {
     "data": {
      "image/png": "[encoded data removed]",
      "text/plain": [
       "<Figure size 432x288 with 1 Axes>"
      ]
     },
     "metadata": {
      "needs_background": "light"
     },
     "output_type": "display_data"
    },
    {
     "data": {
      "image/png": "[encoded data removed]",
      "text/plain": [
       "<Figure size 432x288 with 1 Axes>"
      ]
     },
     "metadata": {
      "needs_background": "light"
     },
     "output_type": "display_data"
    },
    {
     "data": {
      "image/png": "[encoded data removed]",
      "text/plain": [
       "<Figure size 432x288 with 1 Axes>"
      ]
     },
     "metadata": {
      "needs_background": "light"
     },
     "output_type": "display_data"
    }
   ],
   "source": [
    "for i in range(len(results)):\n",
    "    out = karplus_eqs(results.iloc[i][['A_gamma', 'B_gamma', 'C_gamma']], i)\n",
    "plt.legend()\n",
    "\n",
    "plt.figure()\n",
    "for i in range(len(results)):\n",
    "    out = karplus_eqs(results.iloc[i][['A_beta', 'B_beta', 'C_beta']], i)\n",
    "plt.legend()\n",
    "\n",
    "plt.figure()\n",
    "for i in range(len(results)):\n",
    "    out = karplus_eqs(results.iloc[i][['A_sugar', 'B_sugar', 'C_sugar']], i)\n",
    "plt.legend()"
   ]
  },
  {
   "cell_type": "code",
   "execution_count": 17,
   "metadata": {},
   "outputs": [
    {
     "data": {
      "text/plain": [
       "<matplotlib.legend.Legend at 0x7ff1c80b0d68>"
      ]
     },
     "execution_count": 17,
     "metadata": {},
     "output_type": "execute_result"
    },
    {
     "data": {
      "image/png": "[encoded data removed]",
      "text/plain": [
       "<Figure size 432x288 with 1 Axes>"
      ]
     },
     "metadata": {
      "needs_background": "light"
     },
     "output_type": "display_data"
    }
   ],
   "source": [
    "for i in range(len(results)):\n",
    "    out = ff_correction(results.iloc[i][['sin alpha', 'cos alpha']], i)\n",
    "plt.legend()"
   ]
  },
  {
   "cell_type": "code",
   "execution_count": 18,
   "metadata": {},
   "outputs": [
    {
     "name": "stdout",
     "output_type": "stream",
     "text": [
      "normalized chi2 on the cross-validation dataset:\n"
     ]
    },
    {
     "ename": "KeyError",
     "evalue": "0",
     "output_type": "error",
     "traceback": [
      "\u001b[0;31m---------------------------------------------------------------------------\u001b[0m",
      "\u001b[0;31mKeyError\u001b[0m                                  Traceback (most recent call last)",
      "\u001b[0;32m~/.local/lib/python3.6/site-packages/pandas/core/indexes/base.py\u001b[0m in \u001b[0;36mget_loc\u001b[0;34m(self, key, method, tolerance)\u001b[0m\n\u001b[1;32m   2897\u001b[0m             \u001b[0;32mtry\u001b[0m\u001b[0;34m:\u001b[0m\u001b[0;34m\u001b[0m\u001b[0;34m\u001b[0m\u001b[0m\n\u001b[0;32m-> 2898\u001b[0;31m                 \u001b[0;32mreturn\u001b[0m \u001b[0mself\u001b[0m\u001b[0;34m.\u001b[0m\u001b[0m_engine\u001b[0m\u001b[0;34m.\u001b[0m\u001b[0mget_loc\u001b[0m\u001b[0;34m(\u001b[0m\u001b[0mcasted_key\u001b[0m\u001b[0;34m)\u001b[0m\u001b[0;34m\u001b[0m\u001b[0;34m\u001b[0m\u001b[0m\n\u001b[0m\u001b[1;32m   2899\u001b[0m             \u001b[0;32mexcept\u001b[0m \u001b[0mKeyError\u001b[0m \u001b[0;32mas\u001b[0m \u001b[0merr\u001b[0m\u001b[0;34m:\u001b[0m\u001b[0;34m\u001b[0m\u001b[0;34m\u001b[0m\u001b[0m\n",
      "\u001b[0;32mpandas/_libs/index.pyx\u001b[0m in \u001b[0;36mpandas._libs.index.IndexEngine.get_loc\u001b[0;34m()\u001b[0m\n",
      "\u001b[0;32mpandas/_libs/index.pyx\u001b[0m in \u001b[0;36mpandas._libs.index.IndexEngine.get_loc\u001b[0;34m()\u001b[0m\n",
      "\u001b[0;32mpandas/_libs/hashtable_class_helper.pxi\u001b[0m in \u001b[0;36mpandas._libs.hashtable.PyObjectHashTable.get_item\u001b[0;34m()\u001b[0m\n",
      "\u001b[0;32mpandas/_libs/hashtable_class_helper.pxi\u001b[0m in \u001b[0;36mpandas._libs.hashtable.PyObjectHashTable.get_item\u001b[0;34m()\u001b[0m\n",
      "\u001b[0;31mKeyError\u001b[0m: 0",
      "\nThe above exception was the direct cause of the following exception:\n",
      "\u001b[0;31mKeyError\u001b[0m                                  Traceback (most recent call last)",
      "\u001b[0;32m<ipython-input-18-9265bbe8cf8a>\u001b[0m in \u001b[0;36m<module>\u001b[0;34m\u001b[0m\n\u001b[1;32m      4\u001b[0m \u001b[0;34m\u001b[0m\u001b[0m\n\u001b[1;32m      5\u001b[0m \u001b[0mi\u001b[0m \u001b[0;34m=\u001b[0m \u001b[0;36m0\u001b[0m\u001b[0;34m\u001b[0m\u001b[0;34m\u001b[0m\u001b[0m\n\u001b[0;32m----> 6\u001b[0;31m \u001b[0mchi2_cv\u001b[0m\u001b[0;34m[\u001b[0m\u001b[0;34m'no fff'\u001b[0m\u001b[0;34m]\u001b[0m \u001b[0;34m=\u001b[0m \u001b[0mnp\u001b[0m\u001b[0;34m.\u001b[0m\u001b[0msum\u001b[0m\u001b[0;34m(\u001b[0m\u001b[0mresults\u001b[0m\u001b[0;34m[\u001b[0m\u001b[0mi\u001b[0m\u001b[0;34m]\u001b[0m\u001b[0;34m[\u001b[0m\u001b[0;34m[\u001b[0m\u001b[0ms\u001b[0m \u001b[0;32mfor\u001b[0m \u001b[0ms\u001b[0m \u001b[0;32min\u001b[0m \u001b[0mlist\u001b[0m\u001b[0;34m(\u001b[0m\u001b[0mresults\u001b[0m\u001b[0;34m[\u001b[0m\u001b[0mi\u001b[0m\u001b[0;34m]\u001b[0m\u001b[0;34m.\u001b[0m\u001b[0mcolumns\u001b[0m\u001b[0;34m)\u001b[0m \u001b[0;32mif\u001b[0m \u001b[0ms\u001b[0m\u001b[0;34m.\u001b[0m\u001b[0mstartswith\u001b[0m\u001b[0;34m(\u001b[0m\u001b[0;34m'chi2'\u001b[0m\u001b[0;34m)\u001b[0m\u001b[0;34m]\u001b[0m\u001b[0;34m]\u001b[0m\u001b[0;34m.\u001b[0m\u001b[0mvalues\u001b[0m\u001b[0;34m)\u001b[0m\u001b[0;34m/\u001b[0m\u001b[0mn_obs_cv\u001b[0m\u001b[0;34m\u001b[0m\u001b[0;34m\u001b[0m\u001b[0m\n\u001b[0m\u001b[1;32m      7\u001b[0m \u001b[0mprint\u001b[0m\u001b[0;34m(\u001b[0m\u001b[0;34m'without force-field fitting: '\u001b[0m\u001b[0;34m,\u001b[0m \u001b[0mchi2_cv\u001b[0m\u001b[0;34m[\u001b[0m\u001b[0;34m'no fff'\u001b[0m\u001b[0;34m]\u001b[0m\u001b[0;34m)\u001b[0m\u001b[0;34m\u001b[0m\u001b[0;34m\u001b[0m\u001b[0m\n\u001b[1;32m      8\u001b[0m \u001b[0;34m\u001b[0m\u001b[0m\n",
      "\u001b[0;32m~/.local/lib/python3.6/site-packages/pandas/core/frame.py\u001b[0m in \u001b[0;36m__getitem__\u001b[0;34m(self, key)\u001b[0m\n\u001b[1;32m   2904\u001b[0m             \u001b[0;32mif\u001b[0m \u001b[0mself\u001b[0m\u001b[0;34m.\u001b[0m\u001b[0mcolumns\u001b[0m\u001b[0;34m.\u001b[0m\u001b[0mnlevels\u001b[0m \u001b[0;34m>\u001b[0m \u001b[0;36m1\u001b[0m\u001b[0;34m:\u001b[0m\u001b[0;34m\u001b[0m\u001b[0;34m\u001b[0m\u001b[0m\n\u001b[1;32m   2905\u001b[0m                 \u001b[0;32mreturn\u001b[0m \u001b[0mself\u001b[0m\u001b[0;34m.\u001b[0m\u001b[0m_getitem_multilevel\u001b[0m\u001b[0;34m(\u001b[0m\u001b[0mkey\u001b[0m\u001b[0;34m)\u001b[0m\u001b[0;34m\u001b[0m\u001b[0;34m\u001b[0m\u001b[0m\n\u001b[0;32m-> 2906\u001b[0;31m             \u001b[0mindexer\u001b[0m \u001b[0;34m=\u001b[0m \u001b[0mself\u001b[0m\u001b[0;34m.\u001b[0m\u001b[0mcolumns\u001b[0m\u001b[0;34m.\u001b[0m\u001b[0mget_loc\u001b[0m\u001b[0;34m(\u001b[0m\u001b[0mkey\u001b[0m\u001b[0;34m)\u001b[0m\u001b[0;34m\u001b[0m\u001b[0;34m\u001b[0m\u001b[0m\n\u001b[0m\u001b[1;32m   2907\u001b[0m             \u001b[0;32mif\u001b[0m \u001b[0mis_integer\u001b[0m\u001b[0;34m(\u001b[0m\u001b[0mindexer\u001b[0m\u001b[0;34m)\u001b[0m\u001b[0;34m:\u001b[0m\u001b[0;34m\u001b[0m\u001b[0;34m\u001b[0m\u001b[0m\n\u001b[1;32m   2908\u001b[0m                 \u001b[0mindexer\u001b[0m \u001b[0;34m=\u001b[0m \u001b[0;34m[\u001b[0m\u001b[0mindexer\u001b[0m\u001b[0;34m]\u001b[0m\u001b[0;34m\u001b[0m\u001b[0;34m\u001b[0m\u001b[0m\n",
      "\u001b[0;32m~/.local/lib/python3.6/site-packages/pandas/core/indexes/base.py\u001b[0m in \u001b[0;36mget_loc\u001b[0;34m(self, key, method, tolerance)\u001b[0m\n\u001b[1;32m   2898\u001b[0m                 \u001b[0;32mreturn\u001b[0m \u001b[0mself\u001b[0m\u001b[0;34m.\u001b[0m\u001b[0m_engine\u001b[0m\u001b[0;34m.\u001b[0m\u001b[0mget_loc\u001b[0m\u001b[0;34m(\u001b[0m\u001b[0mcasted_key\u001b[0m\u001b[0;34m)\u001b[0m\u001b[0;34m\u001b[0m\u001b[0;34m\u001b[0m\u001b[0m\n\u001b[1;32m   2899\u001b[0m             \u001b[0;32mexcept\u001b[0m \u001b[0mKeyError\u001b[0m \u001b[0;32mas\u001b[0m \u001b[0merr\u001b[0m\u001b[0;34m:\u001b[0m\u001b[0;34m\u001b[0m\u001b[0;34m\u001b[0m\u001b[0m\n\u001b[0;32m-> 2900\u001b[0;31m                 \u001b[0;32mraise\u001b[0m \u001b[0mKeyError\u001b[0m\u001b[0;34m(\u001b[0m\u001b[0mkey\u001b[0m\u001b[0;34m)\u001b[0m \u001b[0;32mfrom\u001b[0m \u001b[0merr\u001b[0m\u001b[0;34m\u001b[0m\u001b[0;34m\u001b[0m\u001b[0m\n\u001b[0m\u001b[1;32m   2901\u001b[0m \u001b[0;34m\u001b[0m\u001b[0m\n\u001b[1;32m   2902\u001b[0m         \u001b[0;32mif\u001b[0m \u001b[0mtolerance\u001b[0m \u001b[0;32mis\u001b[0m \u001b[0;32mnot\u001b[0m \u001b[0;32mNone\u001b[0m\u001b[0;34m:\u001b[0m\u001b[0;34m\u001b[0m\u001b[0;34m\u001b[0m\u001b[0m\n",
      "\u001b[0;31mKeyError\u001b[0m: 0"
     ]
    }
   ],
   "source": [
    "# chi2 in cross validation\n",
    "\n",
    "print('normalized chi2 on the cross-validation dataset:')\n",
    "\n",
    "i = 0\n",
    "chi2_cv['no fff'] = np.sum(results[i][[s for s in list(results[i].columns) if s.startswith('chi2')]].values)/n_obs_cv\n",
    "print('without force-field fitting: ', chi2_cv['no fff'])\n",
    "\n",
    "i = 1\n",
    "chi2_cv['with fff'] = np.sum(results[i][[s for s in list(results[i].columns) if s.startswith('chi2')]].values)/n_obs_cv\n",
    "print('with force-field fitting: ', chi2_cv['with fff'])\n"
   ]
  },
  {
   "cell_type": "code",
   "execution_count": 30,
   "metadata": {},
   "outputs": [
    {
     "data": {
      "image/png": "[encoded data removed]",
      "text/plain": [
       "<Figure size 432x288 with 1 Axes>"
      ]
     },
     "metadata": {
      "needs_background": "light"
     },
     "output_type": "display_data"
    }
   ],
   "source": [
    "alpha = np.linspace(-np.pi, np.pi, 100)\n",
    "\n",
    "ff = float(results[1]['sin alpha'])*np.sin(alpha) + float(results[1]['cos alpha'])*np.cos(alpha)\n",
    "\n",
    "plt.plot(alpha, ff)\n",
    "plt.grid()\n"
   ]
  },
  {
   "cell_type": "code",
   "execution_count": 65,
   "metadata": {},
   "outputs": [
    {
     "data": {
      "text/plain": [
       "75"
      ]
     },
     "execution_count": 65,
     "metadata": {},
     "output_type": "execute_result"
    }
   ],
   "source": [
    "n_obs_test = np.sum([np.sum(list(data_test.mol[s].n_experiments_new.values())) for s in data_test.mol.keys()])\n",
    "\n",
    "n_obs_test"
   ]
  },
  {
   "cell_type": "code",
   "execution_count": 25,
   "metadata": {},
   "outputs": [
    {
     "name": "stdout",
     "output_type": "stream",
     "text": [
      "Input random_state employed both for observables and frames\n",
      "429 478\n"
     ]
    },
    {
     "data": {
      "text/plain": [
       "[1.280410729456635, 0.8927058187131457, 0.9277043732576493]"
      ]
     },
     "execution_count": 25,
     "metadata": {},
     "output_type": "execute_result"
    }
   ],
   "source": [
    "# n. obs. in validation when there is a test set\n",
    "n_obs_valid = np.sum([np.sum(list(data_valid.mol[s].n_experiments_new.values())) for s in data_valid.mol.keys()])\n",
    "# n. obs. in validation in the absence of the (external) test set\n",
    "data1_training, data1_valid, valid_obs, valid_frames = split_dataset(data, frames_fraction=0.2, random_state=1, obs_fraction=0.2)\n",
    "n_obs_valid_only = np.sum([np.sum(list(data1_valid.mol[s].n_experiments_new.values())) for s in data1_valid.mol.keys()])\n",
    "\n",
    "\n",
    "print(n_obs_valid, n_obs_valid_only)\n",
    "\n",
    "chi2_valid = []\n",
    "\n",
    "for i in range(len(dfs_hyper)):\n",
    "    if sims.iloc[i]['if_test'] == True:\n",
    "        chi2_valid.append(dfs_hyper[i]['av_chi2'].iloc[-1] / n_obs_valid)\n",
    "    else:\n",
    "        chi2_valid.append(dfs_hyper[i]['av_chi2'].iloc[-1] / n_obs_valid_only)\n",
    "\n",
    "chi2_valid"
   ]
  },
  {
   "cell_type": "code",
   "execution_count": 31,
   "metadata": {},
   "outputs": [
    {
     "ename": "ValueError",
     "evalue": "Size of label 'i' for operand 1 (101700) does not match previous terms (10170).",
     "output_type": "error",
     "traceback": [
      "\u001b[0;31m---------------------------------------------------------------------------\u001b[0m",
      "\u001b[0;31mValueError\u001b[0m                                Traceback (most recent call last)",
      "\u001b[0;32m<ipython-input-31-afcbaa1fe44a>\u001b[0m in \u001b[0;36m<module>\u001b[0;34m\u001b[0m\n\u001b[1;32m     23\u001b[0m         \u001b[0;32mfor\u001b[0m \u001b[0mk\u001b[0m \u001b[0;32min\u001b[0m \u001b[0mks\u001b[0m\u001b[0;34m:\u001b[0m \u001b[0;32mdel\u001b[0m \u001b[0mdata_test\u001b[0m\u001b[0;34m.\u001b[0m\u001b[0mmol\u001b[0m\u001b[0;34m[\u001b[0m\u001b[0mname_mol\u001b[0m\u001b[0;34m]\u001b[0m\u001b[0;34m.\u001b[0m\u001b[0mgexp\u001b[0m\u001b[0;34m[\u001b[0m\u001b[0mk\u001b[0m\u001b[0;34m]\u001b[0m\u001b[0;34m\u001b[0m\u001b[0;34m\u001b[0m\u001b[0m\n\u001b[1;32m     24\u001b[0m \u001b[0;34m\u001b[0m\u001b[0m\n\u001b[0;32m---> 25\u001b[0;31m         \u001b[0mchi2\u001b[0m \u001b[0;34m+=\u001b[0m \u001b[0mcompute_chi2\u001b[0m\u001b[0;34m(\u001b[0m\u001b[0mdata_test\u001b[0m\u001b[0;34m.\u001b[0m\u001b[0mmol\u001b[0m\u001b[0;34m[\u001b[0m\u001b[0mname_mol\u001b[0m\u001b[0;34m]\u001b[0m\u001b[0;34m.\u001b[0m\u001b[0mref\u001b[0m\u001b[0;34m,\u001b[0m \u001b[0mw\u001b[0m\u001b[0;34m,\u001b[0m \u001b[0mg\u001b[0m\u001b[0;34m,\u001b[0m \u001b[0mdata_test\u001b[0m\u001b[0;34m.\u001b[0m\u001b[0mmol\u001b[0m\u001b[0;34m[\u001b[0m\u001b[0mname_mol\u001b[0m\u001b[0;34m]\u001b[0m\u001b[0;34m.\u001b[0m\u001b[0mgexp\u001b[0m\u001b[0;34m)\u001b[0m\u001b[0;34m[\u001b[0m\u001b[0;34m-\u001b[0m\u001b[0;36m1\u001b[0m\u001b[0;34m]\u001b[0m\u001b[0;34m\u001b[0m\u001b[0;34m\u001b[0m\u001b[0m\n\u001b[0m\u001b[1;32m     26\u001b[0m \u001b[0;34m\u001b[0m\u001b[0m\n\u001b[1;32m     27\u001b[0m     \u001b[0mchi2_test\u001b[0m\u001b[0;34m[\u001b[0m\u001b[0mmy_s\u001b[0m\u001b[0;34m]\u001b[0m \u001b[0;34m=\u001b[0m \u001b[0mchi2\u001b[0m\u001b[0;34m/\u001b[0m\u001b[0mn_obs_test\u001b[0m\u001b[0;34m\u001b[0m\u001b[0;34m\u001b[0m\u001b[0m\n",
      "\u001b[0;32m~/3_alphabetagamma/MDRefine/MDRefine/loss_and_minimizer.py\u001b[0m in \u001b[0;36mcompute_chi2\u001b[0;34m(ref, weights, g, gexp, if_separate)\u001b[0m\n\u001b[1;32m    314\u001b[0m \u001b[0;34m\u001b[0m\u001b[0m\n\u001b[1;32m    315\u001b[0m         \u001b[0;32melif\u001b[0m \u001b[0mref\u001b[0m\u001b[0;34m[\u001b[0m\u001b[0mname_type\u001b[0m\u001b[0;34m]\u001b[0m \u001b[0;34m==\u001b[0m \u001b[0;34m'='\u001b[0m\u001b[0;34m:\u001b[0m\u001b[0;34m\u001b[0m\u001b[0;34m\u001b[0m\u001b[0m\n\u001b[0;32m--> 316\u001b[0;31m             \u001b[0mav_g\u001b[0m\u001b[0;34m[\u001b[0m\u001b[0mname_type\u001b[0m\u001b[0;34m]\u001b[0m \u001b[0;34m=\u001b[0m \u001b[0mnp\u001b[0m\u001b[0;34m.\u001b[0m\u001b[0meinsum\u001b[0m\u001b[0;34m(\u001b[0m\u001b[0;34m'i,ij'\u001b[0m\u001b[0;34m,\u001b[0m \u001b[0mweights\u001b[0m\u001b[0;34m,\u001b[0m \u001b[0mg\u001b[0m\u001b[0;34m[\u001b[0m\u001b[0mname_type\u001b[0m\u001b[0;34m]\u001b[0m\u001b[0;34m)\u001b[0m\u001b[0;34m\u001b[0m\u001b[0;34m\u001b[0m\u001b[0m\n\u001b[0m\u001b[1;32m    317\u001b[0m             \u001b[0mrel_diffs\u001b[0m\u001b[0;34m[\u001b[0m\u001b[0mname_type\u001b[0m\u001b[0;34m]\u001b[0m \u001b[0;34m=\u001b[0m \u001b[0;34m(\u001b[0m\u001b[0mav_g\u001b[0m\u001b[0;34m[\u001b[0m\u001b[0mname_type\u001b[0m\u001b[0;34m]\u001b[0m\u001b[0;34m-\u001b[0m\u001b[0mgexp\u001b[0m\u001b[0;34m[\u001b[0m\u001b[0mname_type\u001b[0m\u001b[0;34m]\u001b[0m\u001b[0;34m[\u001b[0m\u001b[0;34m:\u001b[0m\u001b[0;34m,\u001b[0m \u001b[0;36m0\u001b[0m\u001b[0;34m]\u001b[0m\u001b[0;34m)\u001b[0m\u001b[0;34m/\u001b[0m\u001b[0mgexp\u001b[0m\u001b[0;34m[\u001b[0m\u001b[0mname_type\u001b[0m\u001b[0;34m]\u001b[0m\u001b[0;34m[\u001b[0m\u001b[0;34m:\u001b[0m\u001b[0;34m,\u001b[0m \u001b[0;36m1\u001b[0m\u001b[0;34m]\u001b[0m\u001b[0;34m\u001b[0m\u001b[0;34m\u001b[0m\u001b[0m\n\u001b[1;32m    318\u001b[0m \u001b[0;34m\u001b[0m\u001b[0m\n",
      "\u001b[0;32m~/.local/lib/python3.6/site-packages/jax/_src/numpy/lax_numpy.py\u001b[0m in \u001b[0;36meinsum\u001b[0;34m(out, optimize, precision, _use_xeinsum, *operands)\u001b[0m\n\u001b[1;32m   4289\u001b[0m     \u001b[0meinsum_contract_path_fn\u001b[0m \u001b[0;34m=\u001b[0m \u001b[0m_polymorphic_einsum_contract_path_handlers\u001b[0m\u001b[0;34m[\u001b[0m\u001b[0mnext\u001b[0m\u001b[0;34m(\u001b[0m\u001b[0miter\u001b[0m\u001b[0;34m(\u001b[0m\u001b[0mnon_constant_dim_types\u001b[0m\u001b[0;34m)\u001b[0m\u001b[0;34m)\u001b[0m\u001b[0;34m]\u001b[0m\u001b[0;34m\u001b[0m\u001b[0;34m\u001b[0m\u001b[0m\n\u001b[1;32m   4290\u001b[0m   operands, contractions = einsum_contract_path_fn(\n\u001b[0;32m-> 4291\u001b[0;31m         *operands, einsum_call=True, use_blas=True, optimize=optimize)\n\u001b[0m\u001b[1;32m   4292\u001b[0m \u001b[0;34m\u001b[0m\u001b[0m\n\u001b[1;32m   4293\u001b[0m   \u001b[0mcontractions\u001b[0m \u001b[0;34m=\u001b[0m \u001b[0mtuple\u001b[0m\u001b[0;34m(\u001b[0m\u001b[0;34m(\u001b[0m\u001b[0ma\u001b[0m\u001b[0;34m,\u001b[0m \u001b[0mfrozenset\u001b[0m\u001b[0;34m(\u001b[0m\u001b[0mb\u001b[0m\u001b[0;34m)\u001b[0m\u001b[0;34m,\u001b[0m \u001b[0mc\u001b[0m\u001b[0;34m)\u001b[0m \u001b[0;32mfor\u001b[0m \u001b[0ma\u001b[0m\u001b[0;34m,\u001b[0m \u001b[0mb\u001b[0m\u001b[0;34m,\u001b[0m \u001b[0mc\u001b[0m\u001b[0;34m,\u001b[0m \u001b[0;34m*\u001b[0m\u001b[0m_\u001b[0m \u001b[0;32min\u001b[0m \u001b[0mcontractions\u001b[0m\u001b[0;34m)\u001b[0m\u001b[0;34m\u001b[0m\u001b[0;34m\u001b[0m\u001b[0m\n",
      "\u001b[0;32m~/.local/lib/python3.6/site-packages/opt_einsum/contract.py\u001b[0m in \u001b[0;36mcontract_path\u001b[0;34m(*operands, **kwargs)\u001b[0m\n\u001b[1;32m    237\u001b[0m                 \u001b[0;32melif\u001b[0m \u001b[0mdim\u001b[0m \u001b[0;32mnot\u001b[0m \u001b[0;32min\u001b[0m \u001b[0;34m(\u001b[0m\u001b[0;36m1\u001b[0m\u001b[0;34m,\u001b[0m \u001b[0msize_dict\u001b[0m\u001b[0;34m[\u001b[0m\u001b[0mchar\u001b[0m\u001b[0;34m]\u001b[0m\u001b[0;34m)\u001b[0m\u001b[0;34m:\u001b[0m\u001b[0;34m\u001b[0m\u001b[0;34m\u001b[0m\u001b[0m\n\u001b[1;32m    238\u001b[0m                     raise ValueError(\"Size of label '{}' for operand {} ({}) does not match previous \"\n\u001b[0;32m--> 239\u001b[0;31m                                      \"terms ({}).\".format(char, tnum, size_dict[char], dim))\n\u001b[0m\u001b[1;32m    240\u001b[0m             \u001b[0;32melse\u001b[0m\u001b[0;34m:\u001b[0m\u001b[0;34m\u001b[0m\u001b[0;34m\u001b[0m\u001b[0m\n\u001b[1;32m    241\u001b[0m                 \u001b[0msize_dict\u001b[0m\u001b[0;34m[\u001b[0m\u001b[0mchar\u001b[0m\u001b[0;34m]\u001b[0m \u001b[0;34m=\u001b[0m \u001b[0mdim\u001b[0m\u001b[0;34m\u001b[0m\u001b[0;34m\u001b[0m\u001b[0m\n",
      "\u001b[0;31mValueError\u001b[0m: Size of label 'i' for operand 1 (101700) does not match previous terms (10170)."
     ]
    }
   ],
   "source": [
    "my_strs = ['no fff', 'with fff']\n",
    "\n",
    "for i, my_s in enumerate(my_strs):\n",
    "\n",
    "    coeffs = results[i][fm_coeff_names].values[0]\n",
    "\n",
    "    # input: coeffs, data_test, (path, my_list, i -> w), test_obs, n_test_obs\n",
    "    chi2 = 0\n",
    "\n",
    "    for name_mol in data_test.properties.system_names:\n",
    "\n",
    "        # w = data.mol[name_mol].weights\n",
    "        w = np.load(my_list[i] + '/weights_new_%s.npy' % name_mol)\n",
    "\n",
    "        # g = data_test.mol[name_mol].forward_model(coeffs, data_test.mol[name_mol].forward_qs, test_obs[name_mol])\n",
    "        g = forward_model_fun(coeffs, data_test.mol[name_mol].forward_qs, test_obs[name_mol])\n",
    "        g['NOEs'] = data_test.mol[name_mol].g['NOEs']  # since no forward model correction\n",
    "        g['uNOEs'] = data_test.mol[name_mol].g['uNOEs']\n",
    "\n",
    "        # g = data_test.mol[name_mol].g\n",
    "\n",
    "        ks = [k for k in data_test.mol[name_mol].gexp.keys() if data_test.mol[name_mol].gexp[k].shape[0] == 0]\n",
    "        for k in ks: del data_test.mol[name_mol].gexp[k]\n",
    "\n",
    "        chi2 += compute_chi2(data_test.mol[name_mol].ref, w, g, data_test.mol[name_mol].gexp)[-1]\n",
    "\n",
    "    chi2_test[my_s] = chi2/n_obs_test\n",
    "\n",
    "print('normalized chi2 on the test set:')\n",
    "print('without force-field fitting: ', chi2_test['no fff'])\n",
    "print('with force-field fitting: ', chi2_test['with fff'])"
   ]
  },
  {
   "cell_type": "code",
   "execution_count": 27,
   "metadata": {},
   "outputs": [
    {
     "name": "stdout",
     "output_type": "stream",
     "text": [
      "{'ref': DeviceArray(71.23022841, dtype=float64), 'no fff': 0.15607912252496478, 'with fff': 0.1544798787643205} {'ref': DeviceArray(2.96619064, dtype=float64), 'no fff': DeviceArray(1.69218325, dtype=float64), 'with fff': DeviceArray(1.58684754, dtype=float64)}\n"
     ]
    }
   ],
   "source": [
    "print(chi2_cv, chi2_test)"
   ]
  },
  {
   "cell_type": "code",
   "execution_count": 28,
   "metadata": {},
   "outputs": [
    {
     "data": {
      "text/plain": [
       "<matplotlib.legend.Legend at 0x7f5b685b5390>"
      ]
     },
     "execution_count": 28,
     "metadata": {},
     "output_type": "execute_result"
    },
    {
     "data": {
      "image/png": "[encoded data removed]",
      "text/plain": [
       "<Figure size 576x432 with 1 Axes>"
      ]
     },
     "metadata": {
      "needs_background": "light"
     },
     "output_type": "display_data"
    }
   ],
   "source": [
    "font = {'weight' : 'bold', 'size' : 16}\n",
    "\n",
    "# plt.rcdefaults()\n",
    "matplotlib.rc('font', **font)\n",
    "matplotlib.rcParams['lines.linewidth'] = 2\n",
    "matplotlib.rcParams['lines.markersize'] = 10\n",
    "\n",
    "plt.figure(figsize=(8, 6))\n",
    "plt.plot(dfs_hyper[0]['av_chi2'], '.-', label='Ens + FM Ref')\n",
    "plt.plot(dfs_hyper[1]['av_chi2'], '.-', label='Ens + FF + FM Ref')\n",
    "\n",
    "plt.yscale('log')\n",
    "plt.grid()\n",
    "plt.xlabel('n. of function evaluations')\n",
    "plt.ylabel(r'$\\chi^2$ valid.')\n",
    "plt.title('automatic search of hyperparameters')\n",
    "plt.legend()\n",
    "\n",
    "# plt.savefig('../../Figures/hyper_search.pdf', format='pdf', bbox_inches='tight')"
   ]
  },
  {
   "cell_type": "code",
   "execution_count": 45,
   "metadata": {},
   "outputs": [
    {
     "data": {
      "text/plain": [
       "<matplotlib.legend.Legend at 0x7fda647c2278>"
      ]
     },
     "execution_count": 45,
     "metadata": {},
     "output_type": "execute_result"
    },
    {
     "data": {
      "image/png": "[encoded data removed]",
      "text/plain": [
       "<Figure size 576x432 with 1 Axes>"
      ]
     },
     "metadata": {
      "needs_background": "light"
     },
     "output_type": "display_data"
    }
   ],
   "source": [
    "font = {'weight' : 'bold', 'size' : 16}\n",
    "\n",
    "# plt.rcdefaults()\n",
    "matplotlib.rc('font', **font)\n",
    "matplotlib.rcParams['lines.linewidth'] = 2.5\n",
    "matplotlib.rcParams['lines.markersize'] = 15\n",
    "\n",
    "plt.figure(figsize=(8, 6))\n",
    "plt.plot(dfs_hyper[0]['av_chi2']/n_obs_valid, '.-', label='Ens + FM valid.', linewidth=1.5)\n",
    "plt.plot(dfs_hyper[1]['av_chi2']/n_obs_valid, '.-', label='Ens + FF + FM valid.', linewidth=1.5)\n",
    "\n",
    "xlims = plt.xlim()\n",
    "\n",
    "plt.plot(xlims, chi2_test['no fff']*np.ones(2), '--', color='tab:blue', label='Ens + FM test')\n",
    "plt.plot(xlims, chi2_test['with fff']*np.ones(2), '--', color='tab:orange', label='Ens + FM + FF test')\n",
    "\n",
    "plt.xlim(xlims)\n",
    "# plt.yscale('log')\n",
    "plt.ylim([0, 5])\n",
    "plt.grid()\n",
    "plt.xlabel('n. of function evaluations')\n",
    "plt.ylabel(r'$\\chi^2 \\, / \\, N_{obs}$')\n",
    "plt.title('automatic search of hyperparameters')\n",
    "plt.legend(loc='upper right')\n",
    "\n",
    "# plt.savefig('../../Figures/performance.pdf', format='pdf', bbox_inches='tight')"
   ]
  },
  {
   "cell_type": "code",
   "execution_count": 30,
   "metadata": {},
   "outputs": [],
   "source": [
    "def plot_DataFrame(df, labels=None, xticks_name=None):\n",
    "\n",
    "        barWidth = 1/(len(df.columns) + 1)\n",
    "\n",
    "        plt.subplots(figsize=(12, 8)) \n",
    "\n",
    "        brs = []\n",
    "        brs.append(np.arange(len(df.iloc[:, 0])))\n",
    "\n",
    "        if labels == None: labels = df.columns\n",
    "        if xticks_name == None: xticks_name = list(df.index)\n",
    "        \n",
    "        plt.bar(brs[-1], df.iloc[:, 0], label=labels[0], width=barWidth)  # edgecolor ='grey', color ='tab:blue')\n",
    "\n",
    "        for i in range(1, len(df.columns)):\n",
    "                brs.append([x + barWidth for x in brs[-1]])\n",
    "                plt.bar(brs[-1], df.iloc[:, i], label=labels[i], width=barWidth)  # edgecolor ='grey', color ='tab:blue')\n",
    "\n",
    "        plt.xticks([r + barWidth*(len(df.columns) - 1)/2 for r in range(len(df.iloc[:, 0]))], xticks_name)\n",
    "        # plt.xticks([r + barWidth for r in range(len(df.iloc[:, 0]))], list(df.index))\n",
    "        # plt.xlabel(list(df.index))\n",
    "        \n",
    "        # plt.xlabel('Branch', fontweight ='bold', fontsize = 15) \n",
    "        # plt.ylabel('Students passed', fontweight ='bold', fontsize = 15) \n",
    "        # plt.xticks([r + barWidth for r in range(len(df['Aduri'].iloc[:-1]))], names_charges)\n",
    "\n",
    "        plt.legend()\n",
    "        plt.gca().xaxis.grid(True)\n",
    "        # plt.grid()\n",
    "        # plt.show()\n",
    "\n",
    "        return"
   ]
  },
  {
   "cell_type": "code",
   "execution_count": 42,
   "metadata": {},
   "outputs": [
    {
     "name": "stdout",
     "output_type": "stream",
     "text": [
      "                        original               E + FM          E + FM + FF\n",
      "training obs.   71.2302284101466             0.163042              0.16273\n",
      "test obs.      2.966190636557579  0.07729438769725157  0.07686032098801326\n"
     ]
    },
    {
     "data": {
      "text/plain": [
       "<Figure size 288x288 with 0 Axes>"
      ]
     },
     "metadata": {},
     "output_type": "display_data"
    },
    {
     "data": {
      "image/png": "[encoded data removed]",
      "text/plain": [
       "<Figure size 864x576 with 1 Axes>"
      ]
     },
     "metadata": {
      "needs_background": "light"
     },
     "output_type": "display_data"
    }
   ],
   "source": [
    "font = {'weight' : 'bold', 'size' : 24}\n",
    "matplotlib.rc('font', **font)\n",
    "\n",
    "my_dict = {'training obs.': chi2_cv, 'test obs.': chi2_test}\n",
    "df = pandas.DataFrame(my_dict).transpose()\n",
    "df.columns = ['original', 'E + FM', 'E + FM + FF']\n",
    "\n",
    "print(df)\n",
    "\n",
    "plt.figure(figsize=(4, 4))\n",
    "plot_DataFrame(df)\n",
    "plt.ylabel(r'$\\chi^2 / N_{obs}$')\n",
    "plt.legend()\n",
    "plt.grid()\n",
    "# plt.ylim([0, 5])\n",
    "plt.yscale('log')\n",
    "\n",
    "# plt.savefig('../../Figures/performance.pdf', format='pdf', bbox_inches='tight')"
   ]
  }
 ],
 "metadata": {
  "kernelspec": {
   "display_name": "Python 3.6.8 64-bit",
   "language": "python",
   "name": "python3"
  },
  "language_info": {
   "codemirror_mode": {
    "name": "ipython",
    "version": 3
   },
   "file_extension": ".py",
   "mimetype": "text/x-python",
   "name": "python",
   "nbconvert_exporter": "python",
   "pygments_lexer": "ipython3",
   "version": "3.6.8"
  },
  "orig_nbformat": 4,
  "vscode": {
   "interpreter": {
    "hash": "916dbcbb3f70747c44a77c7bcd40155683ae19c65e1c03b4aa3499c5328201f1"
   }
  }
 },
 "nbformat": 4,
 "nbformat_minor": 2
}
