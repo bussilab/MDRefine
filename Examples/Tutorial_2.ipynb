{
 "cells": [
  {
   "cell_type": "markdown",
   "metadata": {},
   "source": [
    "# Tutorial for `MDRefine` - 2"
   ]
  },
  {
   "cell_type": "markdown",
   "metadata": {},
   "source": [
    "In these notebooks we are going to perform several different refinements of MD-generated trajectories by employing the package `MDRefine`. In this way, we believe the usage of `MDRefine` will become clear and easy to emulate for your own case of interest.\n",
    "\n",
    "We remind you to have a look at our paper https://arxiv.org/pdf/2411.07798 and at the documentation https://www.bussilab.org/doc-MDRefine/MDRefine/index.html.\n",
    "\n",
    "Required assistance may be opened at https://github.com/bussilab/MDRefine/issues."
   ]
  },
  {
   "cell_type": "code",
   "execution_count": null,
   "metadata": {},
   "outputs": [],
   "source": [
    "# install matplotlib and other dependencies\n",
    "!pip install -r requirements.txt"
   ]
  },
  {
   "cell_type": "code",
   "execution_count": 1,
   "metadata": {},
   "outputs": [],
   "source": [
    "import numpy as np\n",
    "import jax.numpy as jnp\n",
    "import pandas\n",
    "import matplotlib.pyplot as plt\n",
    "from IPython.display import clear_output"
   ]
  },
  {
   "cell_type": "code",
   "execution_count": 2,
   "metadata": {},
   "outputs": [
    {
     "name": "stdout",
     "output_type": "stream",
     "text": [
      "I will use the MDRefine version installed at ../MDRefine/__init__.py\n"
     ]
    }
   ],
   "source": [
    "# import from parent directory\n",
    "import sys\n",
    "sys.path.insert(0, '../')\n",
    "\n",
    "import MDRefine\n",
    "\n",
    "print(\"I will use the MDRefine version installed at\", MDRefine.__file__)"
   ]
  },
  {
   "cell_type": "code",
   "execution_count": 3,
   "metadata": {},
   "outputs": [],
   "source": [
    "from MDRefine import load_data, minimizer, split_dataset, hyper_minimizer, MDRefinement, unwrap_dict\n"
   ]
  },
  {
   "cell_type": "markdown",
   "metadata": {},
   "source": [
    "## 4. Ensemble + forward-model refinement"
   ]
  },
  {
   "cell_type": "markdown",
   "metadata": {},
   "source": [
    "Simultaneous refinement of structural ensembles and forward models (Karplus equations) for RNA oligomers.\n",
    "\n",
    "In this section, we are going to reproduce part of the results presented in *T. Fröhlking et al., \"Simultaneous refinement of molecular dynamics ensembles and forward models using experimental data\", J. Chem. Phys. 158, 214120 (2023)* https://pubs.aip.org/aip/jcp/article/158/21/214120/2894410."
   ]
  },
  {
   "cell_type": "code",
   "execution_count": 4,
   "metadata": {},
   "outputs": [],
   "source": [
    "%%bash\n",
    "\n",
    "if [ ! -d \"DATA\" ]; then\n",
    "    curl -O https://zenodo.org/records/14956459/files/DATA.zip\n",
    "\n",
    "    unzip DATA.zip\n",
    "    rm -r DATA.zip\n",
    "fi"
   ]
  },
  {
   "cell_type": "markdown",
   "metadata": {},
   "source": [
    "### a. Load data"
   ]
  },
  {
   "cell_type": "code",
   "execution_count": 5,
   "metadata": {},
   "outputs": [],
   "source": [
    "infos = {}\n",
    "\n",
    "# Define global properties, valid for all the systems:\n",
    "infos['global'] = {}\n",
    "infos['global']['path_directory'] = 'DATA'\n",
    "infos['global']['system_names'] = ['AAAA', 'CAAU', 'CCCC', 'GACC', 'UUUU', 'UCAAUC']\n",
    "\n",
    "# Then, define properties which are specific of each system, like experimental data and observables\n",
    "# If some properties are the same for all the systems, you can store them just once in infos['global']\n",
    "infos['global']['g_exp'] = ['backbone1_gamma_3J', 'backbone2_beta_epsilon_3J', 'sugar_3J', 'NOEs']  # , ('uNOEs', '<')]\n",
    "infos['global']['forward_qs'] = ['backbone1_gamma', 'backbone2_beta_epsilon','sugar']\n",
    "infos['global']['obs'] = ['NOEs']  # , 'uNOEs']\n",
    "infos['global']['forward_coeffs'] = 'original_fm_coeffs'\n",
    "\n",
    "# Select the stride for the frames\n",
    "stride = 10  # 00"
   ]
  },
  {
   "cell_type": "code",
   "execution_count": 6,
   "metadata": {},
   "outputs": [],
   "source": [
    "def forward_model_fun(fm_coeffs, forward_qs, selected_obs = None):\n",
    "\n",
    "    # 1. compute the cosine (which is the quantity you need in the forward model;\n",
    "    # you could do this just once before loading data)\n",
    "    forward_qs_cos = {}\n",
    "\n",
    "    for type_name in forward_qs.keys():\n",
    "        forward_qs_cos[type_name] = jnp.cos(forward_qs[type_name])\n",
    "\n",
    "    # if you have selected_obs, compute only the corresponding observables\n",
    "    if selected_obs is not None:\n",
    "        for type_name in forward_qs.keys():\n",
    "            forward_qs_cos[type_name] = forward_qs_cos[type_name][:,selected_obs[type_name+'_3J']]\n",
    "\n",
    "    # 2. compute observables (forward_qs_out) through forward model\n",
    "    forward_qs_out = {\n",
    "        'backbone1_gamma_3J': fm_coeffs[0]*forward_qs_cos['backbone1_gamma']**2 + fm_coeffs[1]*forward_qs_cos['backbone1_gamma'] + fm_coeffs[2],#}\n",
    "        'backbone2_beta_epsilon_3J': fm_coeffs[3]*forward_qs_cos['backbone2_beta_epsilon']**2 + fm_coeffs[4]*forward_qs_cos['backbone2_beta_epsilon'] + fm_coeffs[5],\n",
    "        'sugar_3J': fm_coeffs[6]*forward_qs_cos['sugar']**2 + fm_coeffs[7]*forward_qs_cos['sugar'] + fm_coeffs[8]}\n",
    "\n",
    "    return forward_qs_out"
   ]
  },
  {
   "cell_type": "code",
   "execution_count": 7,
   "metadata": {},
   "outputs": [],
   "source": [
    "infos['global']['forward_model'] = forward_model_fun"
   ]
  },
  {
   "cell_type": "code",
   "execution_count": 8,
   "metadata": {},
   "outputs": [
    {
     "name": "stdout",
     "output_type": "stream",
     "text": [
      "loading data from directory...\n",
      "loading  AAAA\n"
     ]
    },
    {
     "name": "stderr",
     "output_type": "stream",
     "text": [
      "WARNING:absl:No GPU/TPU found, falling back to CPU. (Set TF_CPP_MIN_LOG_LEVEL=0 and rerun for more info.)\n"
     ]
    },
    {
     "name": "stdout",
     "output_type": "stream",
     "text": [
      "loading  CAAU\n",
      "loading  CCCC\n",
      "loading  GACC\n",
      "loading  UUUU\n",
      "loading  UCAAUC\n",
      "done\n"
     ]
    }
   ],
   "source": [
    "data = load_data(infos, stride=stride)"
   ]
  },
  {
   "cell_type": "markdown",
   "metadata": {},
   "source": [
    "Define the regularization:\n",
    "\n",
    "\\begin{equation}\n",
    "\\begin{split}\n",
    "R(A,B,C) & = \\frac{1}{2\\pi}\\int_0^{2\\pi} d\\gamma\\,(^3J(\\gamma)-^3J_0(\\gamma))^2 \\\\\n",
    "& = \\frac{1}{2\\pi} \\int_0^{2\\pi} d\\gamma \\, [(A-A_0)\\cos^2\\gamma+(B-B_0)\\cos\\gamma+(C-C_0)]^2 \\\\\n",
    "& = \\frac{3}{8}(A-A_0)^2 + \\frac{1}{2}(B-B_0)^2 + (C-C_0)^2 + (A-A_0)(C-C_0)\n",
    "\\end{split}\n",
    "\\end{equation}\n",
    "\n",
    "which is 1/2 of the regularization proposed in *Simultaneous refinement of molecular dynamics ensembles\n",
    "and forward models using experimental data* by Thorben Frohlking et al."
   ]
  },
  {
   "cell_type": "code",
   "execution_count": 9,
   "metadata": {},
   "outputs": [],
   "source": [
    "def forward_model_regularization(coeffs,coeffs_0):\n",
    "    regularization = (\n",
    "    3/8*(coeffs[0]-coeffs_0['A_gamma'])**2+1/2*(coeffs[1]-coeffs_0['B_gamma'])**2+(coeffs[2]-coeffs_0['C_gamma'])**2+(coeffs[0]-coeffs_0['A_gamma'])*(coeffs[2]-coeffs_0['C_gamma'])+\n",
    "    3/8*(coeffs[3]-coeffs_0['A_beta'])**2+1/2*(coeffs[4]-coeffs_0['B_beta'])**2+(coeffs[5]-coeffs_0['C_beta'])**2+(coeffs[3]-coeffs_0['A_beta'])*(coeffs[5]-coeffs_0['C_beta'])+\n",
    "    3/8*(coeffs[6]-coeffs_0['A_sugar'])**2+1/2*(coeffs[7]-coeffs_0['B_sugar'])**2+(coeffs[8]-coeffs_0['C_sugar'])**2+(coeffs[6]-coeffs_0['A_sugar'])*(coeffs[8]-coeffs_0['C_sugar']))\n",
    "\n",
    "    return regularization"
   ]
  },
  {
   "cell_type": "code",
   "execution_count": 10,
   "metadata": {},
   "outputs": [],
   "source": [
    "regularization = {'force_field_reg': 'KL divergence', 'forward_model_reg': forward_model_regularization}"
   ]
  },
  {
   "cell_type": "markdown",
   "metadata": {},
   "source": [
    "### b. Minimize"
   ]
  },
  {
   "cell_type": "markdown",
   "metadata": {},
   "source": [
    "Let's use the `minimizer` function with the optimal hyperparameters $\\alpha, \\gamma$ determined in the above-mentioned paper, by Thorben Frohlking et al."
   ]
  },
  {
   "cell_type": "code",
   "execution_count": 11,
   "metadata": {},
   "outputs": [],
   "source": [
    "opt_alpha = 174.33288\n",
    "opt_gamma = 3.43332*2"
   ]
  },
  {
   "cell_type": "code",
   "execution_count": 12,
   "metadata": {},
   "outputs": [
    {
     "name": "stdout",
     "output_type": "stream",
     "text": [
      "References for MDRefine package:\n",
      "I. Gilardoni, V. Piomponi, T. Fröhlking, and G. Bussi, “MDRefine: a Python package for refining Molecular Dynamics trajectories with experimental data”, arxiv (2024)\n",
      "\n",
      "References for Ensemble Refinement:\n",
      "J. W. Pitera and J. D. Chodera, “On the use of experimental observations to bias simulated ensembles”, J. Chem. Theory Comp. 8, 3445–3451 (2012).\n",
      "\n",
      "G. Hummer and J. Köfinger, “Bayesian ensemble refinement by replica simulations and reweighting”, J. Chem. Phys. 143, 243150 (2015).\n",
      "\n",
      "A. Cesari, A. Gil-Ley, and G. Bussi, “Combining simulations and solution experiments as a paradigm for RNA force field refinement”, J. Chem. Theory Comp. 12, 6192–6200 (2016).\n",
      "\n",
      "A. Cesari, S. Reißer, and G. Bussi, “Using the maximum entropy principle to combine simulations and solution experiments”, Computation 6, 15 (2018).\n",
      "\n",
      "J. Köfinger, L. S. Stelzl, K. Reuter, C. Allande, K. Reichel, and G. Hummer, “Efficient ensemble refinement by reweighting”, J. Chem. Theory Comput. 15, 3390–3401 (2019)\n",
      "\n",
      "\n",
      "\n",
      "References for Ensemble + Forward-Model Refinement:\n",
      "T. Fröhlking, M. Bernetti, and G. Bussi, “Simultaneous refinement of molecular dynamics ensembles and forward models using experimental data”, J. Chem. Phys. 158 (2023).\n",
      "\n",
      "\n",
      "\n",
      "--------------------------------------------------------------------------\n"
     ]
    }
   ],
   "source": [
    "Result = minimizer(data, regularization=regularization, alpha=opt_alpha, gamma=opt_gamma)"
   ]
  },
  {
   "cell_type": "markdown",
   "metadata": {},
   "source": [
    "You may save the results in a folder `folder_name` with `save_txt` function of `MDRefine` package."
   ]
  },
  {
   "cell_type": "code",
   "execution_count": 13,
   "metadata": {},
   "outputs": [],
   "source": [
    "from MDRefine import save_txt"
   ]
  },
  {
   "cell_type": "code",
   "execution_count": 14,
   "metadata": {},
   "outputs": [],
   "source": [
    "input_values = {'stride': stride, 'alpha': opt_alpha, 'beta': np.inf, 'gamma': opt_gamma}\n",
    "\n",
    "coeff_names = data.properties.forward_coeffs_0.index\n",
    "\n",
    "# input parameters: `input_values` dictionary, `Result` class instance, `coeff_names`, `folder_name`\n",
    "save_txt(input_values, Result, coeff_names, folder_name='my_result_Karplus')"
   ]
  },
  {
   "cell_type": "markdown",
   "metadata": {},
   "source": [
    "Let's analyse the results of `minimizer`"
   ]
  },
  {
   "cell_type": "code",
   "execution_count": 15,
   "metadata": {},
   "outputs": [
    {
     "name": "stdout",
     "output_type": "stream",
     "text": [
      "dict_keys(['loss', 'pars', 'mini', 'min_lambdas', 'minis', 'intermediates', 'time', 'reg_fm', 'D_KL_alpha', 'abs_difference', 'av_g', 'chi2', 'logZ_new', 'weights_new'])\n",
      "loss:  263.2999358620523\n",
      "forward-model coefficients:  [ 9.76315833 -1.82439626 -0.05544103 16.80182399 -5.64933471  0.94026419\n",
      "  8.65777611 -1.80901063 -0.0357319 ]\n",
      "KL divergence:  {'AAAA': DeviceArray(0.03837672, dtype=float64), 'CAAU': DeviceArray(0.03221742, dtype=float64), 'CCCC': DeviceArray(0.00936817, dtype=float64), 'GACC': DeviceArray(0.0035901, dtype=float64), 'UUUU': DeviceArray(0.01323911, dtype=float64), 'UCAAUC': DeviceArray(0.04206142, dtype=float64)}\n"
     ]
    }
   ],
   "source": [
    "print(vars(Result).keys())\n",
    "\n",
    "print('loss: ', Result.loss)\n",
    "print('forward-model coefficients: ', Result.pars)\n",
    "print('KL divergence: ', Result.D_KL_alpha)"
   ]
  },
  {
   "cell_type": "code",
   "execution_count": 16,
   "metadata": {},
   "outputs": [
    {
     "name": "stdout",
     "output_type": "stream",
     "text": [
      "1/2 chi^2:  233.33047935280018\n",
      "gamma*R:  5.762829438251873\n",
      "alpha*D_{KL, tot}:  24.20663216795417\n",
      "loss:  263.2999409590062\n"
     ]
    }
   ],
   "source": [
    "tot_chi2 = np.sum([item2 for item in Result.chi2.values() for item2 in item.values()])\n",
    "print('1/2 chi^2: ', 1/2*tot_chi2)\n",
    "\n",
    "print('gamma*R: ', opt_gamma*Result.reg_fm)\n",
    "print('alpha*D_{KL, tot}: ', opt_alpha*np.sum([l for l in Result.D_KL_alpha.values()]))\n",
    "\n",
    "print('loss: ', opt_gamma*Result.reg_fm + opt_alpha*np.sum([l for l in Result.D_KL_alpha.values()]) + 1/2*tot_chi2)\n"
   ]
  },
  {
   "cell_type": "markdown",
   "metadata": {},
   "source": [
    "You can also look at `intermediates` attribute, namely, the intermediate steps of the minimization (function evaluation)"
   ]
  },
  {
   "cell_type": "code",
   "execution_count": 17,
   "metadata": {},
   "outputs": [
    {
     "name": "stdout",
     "output_type": "stream",
     "text": [
      "dict_keys(['loss', 'pars', 'lambdas', 'minis'])\n"
     ]
    },
    {
     "data": {
      "image/png": "[encoded data removed]",
      "text/plain": [
       "<Figure size 432x288 with 1 Axes>"
      ]
     },
     "metadata": {
      "needs_background": "light"
     },
     "output_type": "display_data"
    },
    {
     "data": {
      "image/png": "[encoded data removed]",
      "text/plain": [
       "<Figure size 432x288 with 1 Axes>"
      ]
     },
     "metadata": {
      "needs_background": "light"
     },
     "output_type": "display_data"
    }
   ],
   "source": [
    "print(vars(Result.intermediates).keys())\n",
    "\n",
    "plt.plot(Result.intermediates.loss, '.--')\n",
    "plt.title('loss')\n",
    "plt.xlabel('n. fun. evaluations')\n",
    "plt.grid()\n",
    "\n",
    "plt.figure()\n",
    "\n",
    "inter_pars = Result.intermediates.pars\n",
    "\n",
    "for i in range(inter_pars.shape[1]):\n",
    "    plt.plot(Result.intermediates.pars[:,i], '.--')\n",
    "\n",
    "plt.title('coefficients')\n",
    "plt.xlabel('n. fun. evaluations')\n",
    "plt.grid()"
   ]
  },
  {
   "cell_type": "markdown",
   "metadata": {},
   "source": [
    "### c. Search for optimal hyperparameters"
   ]
  },
  {
   "cell_type": "markdown",
   "metadata": {},
   "source": [
    "Let's use `hyper_minimizer` to search for the optimal hyperparameters $\\alpha, \\gamma$ in cross validation"
   ]
  },
  {
   "cell_type": "code",
   "execution_count": 18,
   "metadata": {},
   "outputs": [
    {
     "name": "stdout",
     "output_type": "stream",
     "text": [
      "References for MDRefine package:\n",
      "I. Gilardoni, V. Piomponi, T. Fröhlking, and G. Bussi, “MDRefine: a Python package for refining Molecular Dynamics trajectories with experimental data”, arxiv (2024)\n",
      "\n",
      "References for Ensemble Refinement:\n",
      "J. W. Pitera and J. D. Chodera, “On the use of experimental observations to bias simulated ensembles”, J. Chem. Theory Comp. 8, 3445–3451 (2012).\n",
      "\n",
      "G. Hummer and J. Köfinger, “Bayesian ensemble refinement by replica simulations and reweighting”, J. Chem. Phys. 143, 243150 (2015).\n",
      "\n",
      "A. Cesari, A. Gil-Ley, and G. Bussi, “Combining simulations and solution experiments as a paradigm for RNA force field refinement”, J. Chem. Theory Comp. 12, 6192–6200 (2016).\n",
      "\n",
      "A. Cesari, S. Reißer, and G. Bussi, “Using the maximum entropy principle to combine simulations and solution experiments”, Computation 6, 15 (2018).\n",
      "\n",
      "J. Köfinger, L. S. Stelzl, K. Reuter, C. Allande, K. Reichel, and G. Hummer, “Efficient ensemble refinement by reweighting”, J. Chem. Theory Comput. 15, 3390–3401 (2019)\n",
      "\n",
      "\n",
      "\n",
      "References for Ensemble + Forward-Model Refinement:\n",
      "T. Fröhlking, M. Bernetti, and G. Bussi, “Simultaneous refinement of molecular dynamics ensembles and forward models using experimental data”, J. Chem. Phys. 158 (2023).\n",
      "\n",
      "\n",
      "\n",
      "--------------------------------------------------------------------------\n",
      "Input random_state employed both for valid_obs and valid_frames\n",
      "\n",
      "log10 hyperpars:  [('alpha', 2.0), ('gamma', 2.0)]\n",
      "av. chi2:  425.5164819128837\n",
      "av. gradient:  [186.8740295   11.49392498]\n",
      "\n",
      "log10 hyperpars:  [('alpha', 1.0018861609225858), ('gamma', 1.9386097382140666)]\n",
      "av. chi2:  1423.7950077341889\n",
      "av. gradient:  [-10854.34395107    104.60871776]\n",
      "\n",
      "log10 hyperpars:  [('alpha', 1.667385730172215), ('gamma', 1.979542136078046)]\n",
      "av. chi2:  361.4892821824469\n",
      "av. gradient:  [181.65612448  10.67395862]\n",
      "\n",
      "log10 hyperpars:  [('alpha', 1.2281560144674595), ('gamma', 1.9525267534878197)]\n",
      "av. chi2:  409.17263624803024\n",
      "av. gradient:  [-1111.7068944     21.48324483]\n",
      "\n",
      "log10 hyperpars:  [('alpha', 1.4778883659168902), ('gamma', 1.967886859551541)]\n",
      "av. chi2:  334.3121733149069\n",
      "av. gradient:  [74.82616963 10.91138774]\n",
      "\n",
      "log10 hyperpars:  [('alpha', 1.1264604021112674), ('gamma', 1.8970564009564248)]\n",
      "av. chi2:  614.3123544377213\n",
      "av. gradient:  [-3310.86020836    45.94424557]\n",
      "\n",
      "log10 hyperpars:  [('alpha', 1.407941333165373), ('gamma', 1.9537890047493607)]\n",
      "av. chi2:  332.5079639689523\n",
      "av. gradient:  [-39.72382327  11.91984907]\n"
     ]
    }
   ],
   "source": [
    "hyper_search = hyper_minimizer(data, regularization=regularization, starting_alpha=100, starting_gamma=100, random_states=[0])\n"
   ]
  },
  {
   "cell_type": "markdown",
   "metadata": {},
   "source": [
    "## 5. Fully combined refinement"
   ]
  },
  {
   "cell_type": "markdown",
   "metadata": {},
   "source": [
    "Now, let's include the fitting of a force-field correction term to the previous refinement.\n",
    "\n",
    "In this way, we are able to combine all the three different refinements (structural ensembles, force-field corrections and forward models) in a single framework. The results so obtained will be compared to those presented in the two papers \n",
    "\n",
    "*T. Fröhlking et al., \"Simultaneous refinement of molecular dynamics ensembles and forward models using experimental data\", J. Chem. Phys. 158, 214120 (2023)* https://pubs.aip.org/aip/jcp/article/158/21/214120/2894410\n",
    "\n",
    "*I. Gilardoni et al., \"Boosting ensemble refinement with transferable force-field corrections: synergistic optimization for molecular simulations\", J. Phys. Chem. Letters 15.5 (2024)* https://pubs.acs.org/doi/full/10.1021/acs.jpclett.3c03423,\n",
    "\n",
    "where ensemble refinement combined with the correction either of the force-field or the forward model is performed."
   ]
  },
  {
   "cell_type": "markdown",
   "metadata": {},
   "source": [
    "### a. Load data"
   ]
  },
  {
   "cell_type": "markdown",
   "metadata": {},
   "source": [
    "take just two molecular systems and exclude the unobserved NOEs to run the script faster"
   ]
  },
  {
   "cell_type": "code",
   "execution_count": 19,
   "metadata": {},
   "outputs": [],
   "source": [
    "infos = {}\n",
    "\n",
    "# Define global properties, valid for all the systems:\n",
    "infos['global'] = {}\n",
    "infos['global']['path_directory'] = 'DATA'\n",
    "infos['global']['system_names'] = ['AAAA','CAAU']  # , 'CCCC', 'GACC', 'UUUU', 'UCAAUC']\n",
    "\n",
    "# Then, define properties which are specific of each system, like experimental data and observables\n",
    "# If some properties are the same for all the systems, you can store them just once in infos['global']\n",
    "infos['global']['g_exp'] = ['backbone1_gamma_3J', 'backbone2_beta_epsilon_3J', 'sugar_3J', 'NOEs']  # , ('uNOEs', '<')]\n",
    "infos['global']['forward_qs'] = ['backbone1_gamma', 'backbone2_beta_epsilon','sugar']\n",
    "infos['global']['obs'] = ['NOEs']  # , 'uNOEs']\n",
    "infos['global']['forward_coeffs'] = 'original_fm_coeffs'\n",
    "\n",
    "# Select the stride for the frames\n",
    "stride = 10"
   ]
  },
  {
   "cell_type": "code",
   "execution_count": 20,
   "metadata": {},
   "outputs": [],
   "source": [
    "def forward_model_fun(fm_coeffs, forward_qs, selected_obs = None):\n",
    "\n",
    "    # 1. compute the cosine (which is the quantity you need in the forward model;\n",
    "    # you could do this just once before loading data)\n",
    "    forward_qs_cos = {}\n",
    "\n",
    "    for type_name in forward_qs.keys():\n",
    "        forward_qs_cos[type_name] = jnp.cos(forward_qs[type_name])\n",
    "\n",
    "    # if you have selected_obs, compute only the corresponding observables\n",
    "    if selected_obs is not None:\n",
    "        for type_name in forward_qs.keys():\n",
    "            forward_qs_cos[type_name] = forward_qs_cos[type_name][:,selected_obs[type_name+'_3J']]\n",
    "\n",
    "    # 2. compute observables (forward_qs_out) through forward model\n",
    "    forward_qs_out = {\n",
    "        'backbone1_gamma_3J': fm_coeffs[0]*forward_qs_cos['backbone1_gamma']**2 + fm_coeffs[1]*forward_qs_cos['backbone1_gamma'] + fm_coeffs[2],\n",
    "        'backbone2_beta_epsilon_3J': fm_coeffs[3]*forward_qs_cos['backbone2_beta_epsilon']**2 + fm_coeffs[4]*forward_qs_cos['backbone2_beta_epsilon'] + fm_coeffs[5],\n",
    "        'sugar_3J': fm_coeffs[6]*forward_qs_cos['sugar']**2 + fm_coeffs[7]*forward_qs_cos['sugar'] + fm_coeffs[8] }\n",
    "\n",
    "    return forward_qs_out"
   ]
  },
  {
   "cell_type": "code",
   "execution_count": 21,
   "metadata": {},
   "outputs": [],
   "source": [
    "infos['global']['forward_model'] = forward_model_fun"
   ]
  },
  {
   "cell_type": "code",
   "execution_count": 22,
   "metadata": {},
   "outputs": [],
   "source": [
    "infos['global']['names_ff_pars'] = ['sin alpha', 'cos alpha', 'sin zeta', 'cos zeta']\n",
    "\n",
    "def ff_correction(pars, f):\n",
    "    out = jnp.matmul(pars, (f[:,[0,6,3,9]]+f[:,[1,7,4,10]]+f[:,[2,8,5,11]]).T)\n",
    "    return out\n",
    "\n",
    "def ff_correction_hexamers(pars, f):\n",
    "    out = jnp.matmul(pars, (f[:,[0,10,5,15]]+f[:,[1,11,6,16]]+f[:,[2,12,7,17]]+f[:,[3,13,8,18]]+f[:,[4,14,9,19]]).T)\n",
    "    return out\n",
    "\n",
    "infos['global']['ff_correction'] = ff_correction\n",
    "infos['UCAAUC'] = {'ff_correction': ff_correction_hexamers}"
   ]
  },
  {
   "cell_type": "code",
   "execution_count": 23,
   "metadata": {},
   "outputs": [],
   "source": [
    "infos['global']['names_ff_pars'] = ['sin alpha', 'cos alpha']\n",
    "\n",
    "def ff_correction(pars, f):\n",
    "    out = jnp.matmul(pars, (f[:, [0, 6]] + f[:, [1, 7]] + f[:, [2, 8]]).T)\n",
    "    return out\n",
    "\n",
    "def ff_correction_hexamers(pars, f):\n",
    "    out = jnp.matmul(pars, (f[:, [0, 10]] + f[:, [1, 11]] + f[:, [2, 12]] + f[:, [3, 13]] + f[:, [4, 14]]).T)\n",
    "    return out\n",
    "\n",
    "infos['global']['ff_correction'] = ff_correction\n",
    "# infos['UCAAUC'] = {'ff_correction': ff_correction_hexamers}"
   ]
  },
  {
   "cell_type": "code",
   "execution_count": 24,
   "metadata": {},
   "outputs": [
    {
     "name": "stdout",
     "output_type": "stream",
     "text": [
      "loading data from directory...\n",
      "loading  AAAA\n",
      "loading  CAAU\n",
      "done\n"
     ]
    }
   ],
   "source": [
    "data = load_data(infos, stride=stride)"
   ]
  },
  {
   "cell_type": "markdown",
   "metadata": {},
   "source": [
    "Define the regularizations for the forward-model and the force-field corrections."
   ]
  },
  {
   "cell_type": "code",
   "execution_count": 25,
   "metadata": {},
   "outputs": [],
   "source": [
    "def forward_model_regularization(coeffs,coeffs_0):\n",
    "    regularization = (\n",
    "    3/8*(coeffs[0]-coeffs_0['A_gamma'])**2 + 1/2*(coeffs[1]-coeffs_0['B_gamma'])**2 + (coeffs[2]-coeffs_0['C_gamma'])**2 + (coeffs[0]-coeffs_0['A_gamma'])*(coeffs[2]-coeffs_0['C_gamma'])+\n",
    "    3/8*(coeffs[3]-coeffs_0['A_beta'])**2 + 1/2*(coeffs[4]-coeffs_0['B_beta'])**2 + (coeffs[5]-coeffs_0['C_beta'])**2 + (coeffs[3]-coeffs_0['A_beta'])*(coeffs[5]-coeffs_0['C_beta'])+\n",
    "    3/8*(coeffs[6]-coeffs_0['A_sugar'])**2 + 1/2*(coeffs[7]-coeffs_0['B_sugar'])**2 + (coeffs[8]-coeffs_0['C_sugar'])**2 + (coeffs[6]-coeffs_0['A_sugar'])*(coeffs[8]-coeffs_0['C_sugar']))\n",
    "\n",
    "    return regularization"
   ]
  },
  {
   "cell_type": "code",
   "execution_count": 26,
   "metadata": {},
   "outputs": [],
   "source": [
    "regularization = {'force_field_reg': 'KL divergence', 'forward_model_reg': forward_model_regularization}"
   ]
  },
  {
   "cell_type": "markdown",
   "metadata": {},
   "source": [
    "### b. Minimize"
   ]
  },
  {
   "cell_type": "markdown",
   "metadata": {},
   "source": [
    "Let's minimize the loss function with `minimizer` and optimal hyperparameters determined by calculations performed on the cluster and reported in our final paper https://arxiv.org/pdf/2411.07798."
   ]
  },
  {
   "cell_type": "code",
   "execution_count": 27,
   "metadata": {},
   "outputs": [],
   "source": [
    "alpha = 959.86\n",
    "beta = 167.94\n",
    "gamma = 0.42"
   ]
  },
  {
   "cell_type": "code",
   "execution_count": 28,
   "metadata": {},
   "outputs": [
    {
     "name": "stdout",
     "output_type": "stream",
     "text": [
      "References for MDRefine package:\n",
      "I. Gilardoni, V. Piomponi, T. Fröhlking, and G. Bussi, “MDRefine: a Python package for refining Molecular Dynamics trajectories with experimental data”, arxiv (2024)\n",
      "\n",
      "References for Ensemble Refinement:\n",
      "J. W. Pitera and J. D. Chodera, “On the use of experimental observations to bias simulated ensembles”, J. Chem. Theory Comp. 8, 3445–3451 (2012).\n",
      "\n",
      "G. Hummer and J. Köfinger, “Bayesian ensemble refinement by replica simulations and reweighting”, J. Chem. Phys. 143, 243150 (2015).\n",
      "\n",
      "A. Cesari, A. Gil-Ley, and G. Bussi, “Combining simulations and solution experiments as a paradigm for RNA force field refinement”, J. Chem. Theory Comp. 12, 6192–6200 (2016).\n",
      "\n",
      "A. Cesari, S. Reißer, and G. Bussi, “Using the maximum entropy principle to combine simulations and solution experiments”, Computation 6, 15 (2018).\n",
      "\n",
      "J. Köfinger, L. S. Stelzl, K. Reuter, C. Allande, K. Reichel, and G. Hummer, “Efficient ensemble refinement by reweighting”, J. Chem. Theory Comput. 15, 3390–3401 (2019)\n",
      "\n",
      "\n",
      "\n",
      "References for Force-Field Fitting:\n",
      "A. B. Norgaard, J. Ferkinghoff-Borg, and K. Lindorff-Larsen, “Experimental parameterization of an energy function for the simulation of unfolded proteins”, Biophys. J. 94, 182–192 (2008)\n",
      "\n",
      "T. Fröhlking, M. Bernetti, N. Calonaci, and G. Bussi, “Toward empirical force fields that match experimental observables”, J. Chem. Phys. 152, 230902 (2020).\n",
      "\n",
      "J. Köfinger and G. Hummer, “Empirical optimization of molecular simulation force fields by Bayesian inference”, Eur. Phys. J. B 94, 245 (2021).\n",
      "\n",
      "X. Wang, J. Li, L. Yang, F. Chen, Y. Wang, J. Chang, J. Chen, W. Feng, L. Zhang, and K. Yu, “Dmff: an open-source automatic differentiable platform for molecular force field development and molecular dynamics simulation”, Journal of Chemical Theory and Computation 19, 5897–5909 (2023).\n",
      "\n",
      "P. Fuchs, S. Thaler, S. Röcken, and J. Zavadlav, “chemtrain: Learning deep potential models via automatic differentiation and statistical physics”, Computer Physics Communications, 109512 (2025)\n",
      "\n",
      "\n",
      "\n",
      "References for Ensemble Refinement + Force-Field Fitting:\n",
      "I. Gilardoni, T. Fröhlking, and G. Bussi, “Boosting ensemble refinement with transferable force-field corrections: Synergistic optimization for molecular simulations”, J. Phys. Chem. Lett. 15, 1204–1210 (2024).\n",
      "\n",
      "\n",
      "\n",
      "References for Ensemble + Forward-Model Refinement:\n",
      "T. Fröhlking, M. Bernetti, and G. Bussi, “Simultaneous refinement of molecular dynamics ensembles and forward models using experimental data”, J. Chem. Phys. 158 (2023).\n",
      "\n",
      "\n",
      "\n",
      "--------------------------------------------------------------------------\n"
     ]
    }
   ],
   "source": [
    "Result = minimizer(data, regularization=regularization, alpha=alpha, beta=beta, gamma=gamma)"
   ]
  },
  {
   "cell_type": "code",
   "execution_count": 29,
   "metadata": {},
   "outputs": [
    {
     "data": {
      "text/plain": [
       "dict_keys(['loss', 'pars', 'mini', 'min_lambdas', 'minis', 'intermediates', 'time', 'weights_P', 'logZ_P', 'reg_ff', 'reg_fm', 'D_KL_alpha', 'abs_difference', 'av_g', 'chi2', 'logZ_new', 'weights_new'])"
      ]
     },
     "execution_count": 29,
     "metadata": {},
     "output_type": "execute_result"
    }
   ],
   "source": [
    "vars(Result).keys()"
   ]
  },
  {
   "cell_type": "code",
   "execution_count": 30,
   "metadata": {},
   "outputs": [
    {
     "data": {
      "text/plain": [
       "array([ 3.36471872e-02, -2.78242382e-02,  9.99017990e+00, -1.87785192e+00,\n",
       "       -1.93457562e-01,  1.88330832e+01, -5.13054254e+00, -1.67130664e-02,\n",
       "        8.77027573e+00, -1.35361426e+00, -5.26772457e-01])"
      ]
     },
     "execution_count": 30,
     "metadata": {},
     "output_type": "execute_result"
    }
   ],
   "source": [
    "Result.pars"
   ]
  },
  {
   "cell_type": "code",
   "execution_count": 31,
   "metadata": {},
   "outputs": [
    {
     "data": {
      "text/plain": [
       "      fun: 87.38464599982478\n",
       " hess_inv: array([[ 1.19434789e-03, -1.41244001e-05, -7.94284227e-04,\n",
       "        -2.22775861e-04,  5.81216020e-04,  3.30030222e-03,\n",
       "        -1.00702430e-04, -1.46952058e-03, -2.98056939e-03,\n",
       "        -7.82624624e-05,  1.77122860e-03],\n",
       "       [-1.41244001e-05,  7.15076585e-03, -9.25153349e-04,\n",
       "        -3.72559731e-04,  4.57911826e-04,  9.74207181e-03,\n",
       "        -1.68924187e-03, -4.10480608e-03, -1.16903233e-02,\n",
       "        -1.17862924e-03,  6.38223538e-03],\n",
       "       [-7.94284227e-04, -9.25153349e-04,  6.67307419e+00,\n",
       "         1.02572580e+00, -2.60209794e+00,  4.81018941e-01,\n",
       "        -5.71290003e-02, -2.02602816e-01, -4.47836797e-01,\n",
       "        -3.79425680e-02,  2.88842681e-01],\n",
       "       [-2.22775861e-04, -3.72559731e-04,  1.02572580e+00,\n",
       "         1.09032539e+00, -7.84211642e-01, -7.01044892e-02,\n",
       "        -3.99182164e-02,  6.79393398e-02,  1.48244624e-01,\n",
       "         1.20904294e-03, -8.79875426e-02],\n",
       "       [ 5.81216020e-04,  4.57911826e-04, -2.60209794e+00,\n",
       "        -7.84211642e-01,  1.29389484e+00, -5.51491922e-02,\n",
       "         5.27214032e-02, -1.82200643e-02, -8.80502721e-02,\n",
       "        -4.60437176e-03,  4.43883871e-02],\n",
       "       [ 3.30030222e-03,  9.74207181e-03,  4.81018941e-01,\n",
       "        -7.01044892e-02, -5.51491922e-02,  3.90480374e+00,\n",
       "         1.18505593e-02, -1.80187248e+00, -2.00355140e+00,\n",
       "        -8.43637932e-02,  1.20951909e+00],\n",
       "       [-1.00702430e-04, -1.68924187e-03, -5.71290003e-02,\n",
       "        -3.99182164e-02,  5.27214032e-02,  1.18505593e-02,\n",
       "         1.00110725e+00, -5.89368228e-01, -8.88057612e-01,\n",
       "        -2.72120256e-02,  5.27346237e-01],\n",
       "       [-1.46952058e-03, -4.10480608e-03, -2.02602816e-01,\n",
       "         6.79393398e-02, -1.82200643e-02, -1.80187248e+00,\n",
       "        -5.89368228e-01,  1.32201477e+00,  1.70006392e+00,\n",
       "         6.85232454e-02, -1.02812366e+00],\n",
       "       [-2.98056939e-03, -1.16903233e-02, -4.47836797e-01,\n",
       "         1.48244624e-01, -8.80502721e-02, -2.00355140e+00,\n",
       "        -8.88057612e-01,  1.70006392e+00,  4.46387239e+00,\n",
       "         1.85328348e-01, -2.63326562e+00],\n",
       "       [-7.82624624e-05, -1.17862924e-03, -3.79425680e-02,\n",
       "         1.20904294e-03, -4.60437176e-03, -8.43637932e-02,\n",
       "        -2.72120256e-02,  6.85232454e-02,  1.85328348e-01,\n",
       "         1.97610149e-01, -9.52427087e-02],\n",
       "       [ 1.77122860e-03,  6.38223538e-03,  2.88842681e-01,\n",
       "        -8.79875426e-02,  4.43883871e-02,  1.20951909e+00,\n",
       "         5.27346237e-01, -1.02812366e+00, -2.63326562e+00,\n",
       "        -9.52427087e-02,  1.63898746e+00]])\n",
       "      jac: array([ 0.00120732, -0.00023059, -0.00022985, -0.00039792, -0.00100149,\n",
       "        0.00039688,  0.00104559,  0.00221767,  0.0015365 ,  0.0008844 ,\n",
       "       -0.00110543])\n",
       "  message: 'Desired error not necessarily achieved due to precision loss.'\n",
       "     nfev: 85\n",
       "      nit: 17\n",
       "     njev: 83\n",
       "   status: 2\n",
       "  success: False\n",
       "        x: array([ 3.36471872e-02, -2.78242382e-02,  9.99017990e+00, -1.87785192e+00,\n",
       "       -1.93457562e-01,  1.88330832e+01, -5.13054254e+00, -1.67130664e-02,\n",
       "        8.77027573e+00, -1.35361426e+00, -5.26772457e-01])"
      ]
     },
     "execution_count": 31,
     "metadata": {},
     "output_type": "execute_result"
    }
   ],
   "source": [
    "Result.mini"
   ]
  },
  {
   "cell_type": "code",
   "execution_count": 32,
   "metadata": {},
   "outputs": [
    {
     "data": {
      "text/plain": [
       "dict_keys(['loss', 'pars', 'lambdas', 'minis'])"
      ]
     },
     "execution_count": 32,
     "metadata": {},
     "output_type": "execute_result"
    }
   ],
   "source": [
    "vars(Result.intermediates).keys()"
   ]
  },
  {
   "cell_type": "code",
   "execution_count": 33,
   "metadata": {},
   "outputs": [
    {
     "data": {
      "image/png": "[encoded data removed]",
      "text/plain": [
       "<Figure size 432x288 with 1 Axes>"
      ]
     },
     "metadata": {
      "needs_background": "light"
     },
     "output_type": "display_data"
    },
    {
     "data": {
      "image/png": "[encoded data removed]",
      "text/plain": [
       "<Figure size 432x288 with 1 Axes>"
      ]
     },
     "metadata": {
      "needs_background": "light"
     },
     "output_type": "display_data"
    },
    {
     "data": {
      "image/png": "[encoded data removed]",
      "text/plain": [
       "<Figure size 432x288 with 1 Axes>"
      ]
     },
     "metadata": {
      "needs_background": "light"
     },
     "output_type": "display_data"
    }
   ],
   "source": [
    "inter_loss = Result.intermediates.loss\n",
    "plt.plot(inter_loss, '.--')\n",
    "plt.grid()\n",
    "\n",
    "plt.figure()\n",
    "\n",
    "inter_lambdas = np.array(Result.intermediates.lambdas)\n",
    "plt.plot(inter_lambdas[:,0], '.--')\n",
    "\n",
    "plt.figure()\n",
    "plt.plot(Result.intermediates.pars, '.--')\n",
    "plt.show()"
   ]
  },
  {
   "cell_type": "markdown",
   "metadata": {},
   "source": [
    "### c. Determine optimal hyper-parameters through cross validation"
   ]
  },
  {
   "cell_type": "markdown",
   "metadata": {},
   "source": [
    "Scan over the hyperparameters: now we are in a 3-dimensional space, so the calculations are cumbersome.\n",
    "\n",
    "Let's split the data set into training and validation set just once (with `split_dataset`) and then minimize the loss function with `minimizer` with several values of the hyperparameters (scan in logarithmic scale)."
   ]
  },
  {
   "cell_type": "code",
   "execution_count": 34,
   "metadata": {},
   "outputs": [
    {
     "name": "stdout",
     "output_type": "stream",
     "text": [
      "Input random_state employed both for valid_obs and valid_frames\n"
     ]
    }
   ],
   "source": [
    "data_train, data_valid, valid_obs, valid_frames = split_dataset(data, random_state=1)"
   ]
  },
  {
   "cell_type": "code",
   "execution_count": 35,
   "metadata": {},
   "outputs": [],
   "source": [
    "delta = 2.0\n",
    "\n",
    "log10_alphas = np.arange(-2, 2 + delta, delta)\n",
    "log10_betas = np.array([-2.0, 0.0, 2.0])\n",
    "log10_gammas = log10_alphas\n",
    "\n",
    "Results = {}\n",
    "\n",
    "for log10_alpha in log10_alphas:\n",
    "    Results[log10_alpha] = {}\n",
    "\n",
    "    for log10_beta in log10_betas:\n",
    "        Results[log10_alpha][log10_beta] = {}\n",
    "    \n",
    "        for log10_gamma in log10_gammas:\n",
    "            print(log10_alpha, log10_beta, log10_gamma)\n",
    "    \n",
    "            Results[log10_alpha][log10_beta][log10_gamma] = minimizer(data_train, regularization=regularization, alpha=10**log10_alpha, beta=10**log10_beta, gamma=10**log10_gamma, data_valid=data_valid)\n",
    "\n",
    "            clear_output()"
   ]
  },
  {
   "cell_type": "code",
   "execution_count": 36,
   "metadata": {},
   "outputs": [
    {
     "data": {
      "image/png": "[encoded data removed]",
      "text/plain": [
       "<Figure size 432x288 with 1 Axes>"
      ]
     },
     "metadata": {
      "needs_background": "light"
     },
     "output_type": "display_data"
    },
    {
     "data": {
      "image/png": "[encoded data removed]",
      "text/plain": [
       "<Figure size 432x288 with 1 Axes>"
      ]
     },
     "metadata": {
      "needs_background": "light"
     },
     "output_type": "display_data"
    },
    {
     "data": {
      "image/png": "[encoded data removed]",
      "text/plain": [
       "<Figure size 432x288 with 1 Axes>"
      ]
     },
     "metadata": {
      "needs_background": "light"
     },
     "output_type": "display_data"
    }
   ],
   "source": [
    "for log10_beta in log10_betas:\n",
    "\n",
    "    plt.figure()\n",
    "\n",
    "    for log10_gamma in log10_gammas:\n",
    "        loss = np.array([Results[log10_alpha][log10_beta][log10_gamma].loss for log10_alpha in log10_alphas])\n",
    "        plt.plot(log10_alphas, loss, '.--', label=log10_gamma)\n",
    "\n",
    "    plt.legend()\n",
    "    plt.grid()"
   ]
  },
  {
   "cell_type": "code",
   "execution_count": 37,
   "metadata": {},
   "outputs": [
    {
     "data": {
      "image/png": "[encoded data removed]",
      "text/plain": [
       "<Figure size 432x288 with 1 Axes>"
      ]
     },
     "metadata": {
      "needs_background": "light"
     },
     "output_type": "display_data"
    }
   ],
   "source": [
    "colors = ['tab:blue','tab:orange','tab:green','tab:red','tab:purple','tab:brown','tab:pink', 'tab:gray','tab:olive','tab:cyan']\n",
    "markers = ['.','v','s','*','D','o','^','<','>','p','P','+','X','d']\n",
    "\n",
    "for i,log10_beta in enumerate(log10_betas):\n",
    "\n",
    "    # plt.figure()\n",
    "\n",
    "    for j,log10_gamma in enumerate(log10_gammas):\n",
    "        chi2 = np.array([np.sum(unwrap_dict(Results[log10_alpha][log10_beta][log10_gamma].chi2)) for log10_alpha in log10_alphas])\n",
    "        chi2_valid = np.array([np.sum(unwrap_dict(Results[log10_alpha][log10_beta][log10_gamma].chi2_valid)) for log10_alpha in log10_alphas])\n",
    "        chi2_new_obs = np.array([np.sum(unwrap_dict(Results[log10_alpha][log10_beta][log10_gamma].chi2_new_obs)) for log10_alpha in log10_alphas])\n",
    "\n",
    "        loss = np.array([Results[log10_alpha][log10_beta][log10_gamma].loss for log10_alpha in log10_alphas])\n",
    "        \n",
    "        # plt.plot(log10_alphas, loss, markers[i] + '--', color = colors[j], label = log10_gamma)\n",
    "        # plt.plot(log10_alphas, chi2, markers[i] + '--', color = colors[j], label = log10_gamma)\n",
    "        plt.plot(log10_alphas, chi2_valid, markers[i] + '--', color = colors[j], label = log10_gamma)\n",
    "        # plt.plot(log10_alphas, chi2_new_obs, markers[i] + '--', color = colors[j], label = log10_gamma)\n",
    "\n",
    "    # plt.legend()\n",
    "    plt.grid()"
   ]
  },
  {
   "cell_type": "markdown",
   "metadata": {},
   "source": [
    "### d. automatic optimization of hyper parameters"
   ]
  },
  {
   "cell_type": "code",
   "execution_count": 38,
   "metadata": {},
   "outputs": [
    {
     "name": "stdout",
     "output_type": "stream",
     "text": [
      "References for MDRefine package:\n",
      "I. Gilardoni, V. Piomponi, T. Fröhlking, and G. Bussi, “MDRefine: a Python package for refining Molecular Dynamics trajectories with experimental data”, arxiv (2024)\n",
      "\n",
      "References for Ensemble Refinement:\n",
      "J. W. Pitera and J. D. Chodera, “On the use of experimental observations to bias simulated ensembles”, J. Chem. Theory Comp. 8, 3445–3451 (2012).\n",
      "\n",
      "G. Hummer and J. Köfinger, “Bayesian ensemble refinement by replica simulations and reweighting”, J. Chem. Phys. 143, 243150 (2015).\n",
      "\n",
      "A. Cesari, A. Gil-Ley, and G. Bussi, “Combining simulations and solution experiments as a paradigm for RNA force field refinement”, J. Chem. Theory Comp. 12, 6192–6200 (2016).\n",
      "\n",
      "A. Cesari, S. Reißer, and G. Bussi, “Using the maximum entropy principle to combine simulations and solution experiments”, Computation 6, 15 (2018).\n",
      "\n",
      "J. Köfinger, L. S. Stelzl, K. Reuter, C. Allande, K. Reichel, and G. Hummer, “Efficient ensemble refinement by reweighting”, J. Chem. Theory Comput. 15, 3390–3401 (2019)\n",
      "\n",
      "\n",
      "\n",
      "References for Force-Field Fitting:\n",
      "A. B. Norgaard, J. Ferkinghoff-Borg, and K. Lindorff-Larsen, “Experimental parameterization of an energy function for the simulation of unfolded proteins”, Biophys. J. 94, 182–192 (2008)\n",
      "\n",
      "T. Fröhlking, M. Bernetti, N. Calonaci, and G. Bussi, “Toward empirical force fields that match experimental observables”, J. Chem. Phys. 152, 230902 (2020).\n",
      "\n",
      "J. Köfinger and G. Hummer, “Empirical optimization of molecular simulation force fields by Bayesian inference”, Eur. Phys. J. B 94, 245 (2021).\n",
      "\n",
      "X. Wang, J. Li, L. Yang, F. Chen, Y. Wang, J. Chang, J. Chen, W. Feng, L. Zhang, and K. Yu, “Dmff: an open-source automatic differentiable platform for molecular force field development and molecular dynamics simulation”, Journal of Chemical Theory and Computation 19, 5897–5909 (2023).\n",
      "\n",
      "P. Fuchs, S. Thaler, S. Röcken, and J. Zavadlav, “chemtrain: Learning deep potential models via automatic differentiation and statistical physics”, Computer Physics Communications, 109512 (2025)\n",
      "\n",
      "\n",
      "\n",
      "References for Ensemble Refinement + Force-Field Fitting:\n",
      "I. Gilardoni, T. Fröhlking, and G. Bussi, “Boosting ensemble refinement with transferable force-field corrections: Synergistic optimization for molecular simulations”, J. Phys. Chem. Lett. 15, 1204–1210 (2024).\n",
      "\n",
      "\n",
      "\n",
      "References for Ensemble + Forward-Model Refinement:\n",
      "T. Fröhlking, M. Bernetti, and G. Bussi, “Simultaneous refinement of molecular dynamics ensembles and forward models using experimental data”, J. Chem. Phys. 158 (2023).\n",
      "\n",
      "\n",
      "\n",
      "--------------------------------------------------------------------------\n",
      "Input random_state employed both for valid_obs and valid_frames\n",
      "Input random_state employed both for valid_obs and valid_frames\n",
      "\n",
      "log10 hyperpars:  [('alpha', 1.2999999999999998), ('beta', -2.1999999999999997), ('gamma', -3.5)]\n",
      "av. chi2:  53.22321383632656\n",
      "av. gradient:  [ 7.91389810e+00  8.90222368e-03 -6.26233436e-03]\n",
      "\n",
      "log10 hyperpars:  [('alpha', 0.3000009457660898), ('beta', -2.201124883736788), ('gamma', -3.4992086923074055)]\n",
      "av. chi2:  1408.1610140505952\n",
      "av. gradient:  [-3804.68342525    21.88750074  -694.00052644]\n",
      "\n",
      "log10 hyperpars:  [('alpha', 1.2919126765582447), ('beta', -2.2000090973072175), ('gamma', -3.4999936004326955)]\n",
      "av. chi2:  53.12291702777617\n",
      "av. gradient:  [5.03074973 0.01035317 0.00604959]\n"
     ]
    }
   ],
   "source": [
    "hyper_out = hyper_minimizer(data, regularization=regularization, starting_alpha=10**1.3, starting_beta=10**-2.2, starting_gamma=10**-3.5, random_states=2)\n"
   ]
  },
  {
   "cell_type": "code",
   "execution_count": 39,
   "metadata": {},
   "outputs": [
    {
     "name": "stdout",
     "output_type": "stream",
     "text": [
      "References for MDRefine package:\n",
      "I. Gilardoni, V. Piomponi, T. Fröhlking, and G. Bussi, “MDRefine: a Python package for refining Molecular Dynamics trajectories with experimental data”, arxiv (2024)\n",
      "\n",
      "References for Ensemble Refinement:\n",
      "J. W. Pitera and J. D. Chodera, “On the use of experimental observations to bias simulated ensembles”, J. Chem. Theory Comp. 8, 3445–3451 (2012).\n",
      "\n",
      "G. Hummer and J. Köfinger, “Bayesian ensemble refinement by replica simulations and reweighting”, J. Chem. Phys. 143, 243150 (2015).\n",
      "\n",
      "A. Cesari, A. Gil-Ley, and G. Bussi, “Combining simulations and solution experiments as a paradigm for RNA force field refinement”, J. Chem. Theory Comp. 12, 6192–6200 (2016).\n",
      "\n",
      "A. Cesari, S. Reißer, and G. Bussi, “Using the maximum entropy principle to combine simulations and solution experiments”, Computation 6, 15 (2018).\n",
      "\n",
      "J. Köfinger, L. S. Stelzl, K. Reuter, C. Allande, K. Reichel, and G. Hummer, “Efficient ensemble refinement by reweighting”, J. Chem. Theory Comput. 15, 3390–3401 (2019)\n",
      "\n",
      "\n",
      "\n",
      "References for Force-Field Fitting:\n",
      "A. B. Norgaard, J. Ferkinghoff-Borg, and K. Lindorff-Larsen, “Experimental parameterization of an energy function for the simulation of unfolded proteins”, Biophys. J. 94, 182–192 (2008)\n",
      "\n",
      "T. Fröhlking, M. Bernetti, N. Calonaci, and G. Bussi, “Toward empirical force fields that match experimental observables”, J. Chem. Phys. 152, 230902 (2020).\n",
      "\n",
      "J. Köfinger and G. Hummer, “Empirical optimization of molecular simulation force fields by Bayesian inference”, Eur. Phys. J. B 94, 245 (2021).\n",
      "\n",
      "X. Wang, J. Li, L. Yang, F. Chen, Y. Wang, J. Chang, J. Chen, W. Feng, L. Zhang, and K. Yu, “Dmff: an open-source automatic differentiable platform for molecular force field development and molecular dynamics simulation”, Journal of Chemical Theory and Computation 19, 5897–5909 (2023).\n",
      "\n",
      "P. Fuchs, S. Thaler, S. Röcken, and J. Zavadlav, “chemtrain: Learning deep potential models via automatic differentiation and statistical physics”, Computer Physics Communications, 109512 (2025)\n",
      "\n",
      "\n",
      "\n",
      "References for Ensemble Refinement + Force-Field Fitting:\n",
      "I. Gilardoni, T. Fröhlking, and G. Bussi, “Boosting ensemble refinement with transferable force-field corrections: Synergistic optimization for molecular simulations”, J. Phys. Chem. Lett. 15, 1204–1210 (2024).\n",
      "\n",
      "\n",
      "\n",
      "References for Ensemble + Forward-Model Refinement:\n",
      "T. Fröhlking, M. Bernetti, and G. Bussi, “Simultaneous refinement of molecular dynamics ensembles and forward models using experimental data”, J. Chem. Phys. 158 (2023).\n",
      "\n",
      "\n",
      "\n",
      "--------------------------------------------------------------------------\n"
     ]
    }
   ],
   "source": [
    "alpha, beta, gamma = 10**hyper_out.x\n",
    "\n",
    "Result = minimizer(data, regularization=regularization, alpha=alpha, beta=beta, gamma=gamma)"
   ]
  },
  {
   "cell_type": "code",
   "execution_count": 40,
   "metadata": {},
   "outputs": [
    {
     "name": "stdout",
     "output_type": "stream",
     "text": [
      "loading data from directory...\n",
      "loading  AAAA\n",
      "loading  CAAU\n",
      "done\n",
      "References for MDRefine package:\n",
      "I. Gilardoni, V. Piomponi, T. Fröhlking, and G. Bussi, “MDRefine: a Python package for refining Molecular Dynamics trajectories with experimental data”, arxiv (2024)\n",
      "\n",
      "References for Ensemble Refinement:\n",
      "J. W. Pitera and J. D. Chodera, “On the use of experimental observations to bias simulated ensembles”, J. Chem. Theory Comp. 8, 3445–3451 (2012).\n",
      "\n",
      "G. Hummer and J. Köfinger, “Bayesian ensemble refinement by replica simulations and reweighting”, J. Chem. Phys. 143, 243150 (2015).\n",
      "\n",
      "A. Cesari, A. Gil-Ley, and G. Bussi, “Combining simulations and solution experiments as a paradigm for RNA force field refinement”, J. Chem. Theory Comp. 12, 6192–6200 (2016).\n",
      "\n",
      "A. Cesari, S. Reißer, and G. Bussi, “Using the maximum entropy principle to combine simulations and solution experiments”, Computation 6, 15 (2018).\n",
      "\n",
      "J. Köfinger, L. S. Stelzl, K. Reuter, C. Allande, K. Reichel, and G. Hummer, “Efficient ensemble refinement by reweighting”, J. Chem. Theory Comput. 15, 3390–3401 (2019)\n",
      "\n",
      "\n",
      "\n",
      "References for Force-Field Fitting:\n",
      "A. B. Norgaard, J. Ferkinghoff-Borg, and K. Lindorff-Larsen, “Experimental parameterization of an energy function for the simulation of unfolded proteins”, Biophys. J. 94, 182–192 (2008)\n",
      "\n",
      "T. Fröhlking, M. Bernetti, N. Calonaci, and G. Bussi, “Toward empirical force fields that match experimental observables”, J. Chem. Phys. 152, 230902 (2020).\n",
      "\n",
      "J. Köfinger and G. Hummer, “Empirical optimization of molecular simulation force fields by Bayesian inference”, Eur. Phys. J. B 94, 245 (2021).\n",
      "\n",
      "X. Wang, J. Li, L. Yang, F. Chen, Y. Wang, J. Chang, J. Chen, W. Feng, L. Zhang, and K. Yu, “Dmff: an open-source automatic differentiable platform for molecular force field development and molecular dynamics simulation”, Journal of Chemical Theory and Computation 19, 5897–5909 (2023).\n",
      "\n",
      "P. Fuchs, S. Thaler, S. Röcken, and J. Zavadlav, “chemtrain: Learning deep potential models via automatic differentiation and statistical physics”, Computer Physics Communications, 109512 (2025)\n",
      "\n",
      "\n",
      "\n",
      "References for Ensemble Refinement + Force-Field Fitting:\n",
      "I. Gilardoni, T. Fröhlking, and G. Bussi, “Boosting ensemble refinement with transferable force-field corrections: Synergistic optimization for molecular simulations”, J. Phys. Chem. Lett. 15, 1204–1210 (2024).\n",
      "\n",
      "\n",
      "\n",
      "References for Ensemble + Forward-Model Refinement:\n",
      "T. Fröhlking, M. Bernetti, and G. Bussi, “Simultaneous refinement of molecular dynamics ensembles and forward models using experimental data”, J. Chem. Phys. 158 (2023).\n",
      "\n",
      "\n",
      "\n",
      "--------------------------------------------------------------------------\n",
      "\n",
      "search for optimal hyperparameters ...\n",
      "Input random_state employed both for valid_obs and valid_frames\n",
      "Input random_state employed both for valid_obs and valid_frames\n",
      "\n",
      "log10 hyperpars:  [('alpha', 1.2999999999999998), ('beta', -2.1999999999999997), ('gamma', -3.5)]\n",
      "av. chi2:  53.22321383632656\n",
      "av. gradient:  [ 7.91389810e+00  8.90222368e-03 -6.26233436e-03]\n",
      "\n",
      "log10 hyperpars:  [('alpha', 0.3000009457660898), ('beta', -2.201124883736788), ('gamma', -3.4992086923074055)]\n",
      "av. chi2:  1408.1610140505952\n",
      "av. gradient:  [-3804.68342525    21.88750074  -694.00052644]\n",
      "\n",
      "log10 hyperpars:  [('alpha', 1.2919126765582447), ('beta', -2.2000090973072175), ('gamma', -3.4999936004326955)]\n",
      "av. chi2:  53.12291702777617\n",
      "av. gradient:  [5.03074973 0.01035317 0.00604959]\n",
      "\n",
      "optimal hyperparameters: alpha: 19.584508488772084 beta: 0.006309441277507055 gamma: 0.00031623242584068303\n",
      "\n",
      "refinement with optimal hyperparameters...\n",
      "\n",
      "done\n"
     ]
    }
   ],
   "source": [
    "out = MDRefinement(infos, regularization=regularization, stride=stride, starting_alpha=10**1.3, starting_beta=10**-2.2, starting_gamma=10**-3.5, random_states=2, results_folder_name='../../my_results')"
   ]
  },
  {
   "cell_type": "code",
   "execution_count": 41,
   "metadata": {},
   "outputs": [
    {
     "data": {
      "text/plain": [
       "{'av_chi2': DeviceArray([  53.22321384, 1408.16101405,   53.12291703], dtype=float64),\n",
       " 'av_gradient': DeviceArray([[ 7.91389810e+00,  8.90222368e-03, -6.26233436e-03],\n",
       "              [-3.80468343e+03,  2.18875007e+01, -6.94000526e+02],\n",
       "              [ 5.03074973e+00,  1.03531658e-02,  6.04958570e-03]],            dtype=float64),\n",
       " 'log10_hyperpars': DeviceArray([[ 1.3       , -2.2       , -3.5       ],\n",
       "              [ 0.30000095, -2.20112488, -3.49920869],\n",
       "              [ 1.29191268, -2.2000091 , -3.4999936 ]], dtype=float64)}"
      ]
     },
     "execution_count": 41,
     "metadata": {},
     "output_type": "execute_result"
    }
   ],
   "source": [
    "vars(hyper_out.intermediate)"
   ]
  },
  {
   "cell_type": "markdown",
   "metadata": {},
   "source": [
    "if you do not specify some hyper parameters, as for example $\\gamma$, you are fixing it to $+\\infty$ (no refinement in that \"direction\")"
   ]
  },
  {
   "cell_type": "code",
   "execution_count": 42,
   "metadata": {},
   "outputs": [
    {
     "name": "stdout",
     "output_type": "stream",
     "text": [
      "References for MDRefine package:\n",
      "I. Gilardoni, V. Piomponi, T. Fröhlking, and G. Bussi, “MDRefine: a Python package for refining Molecular Dynamics trajectories with experimental data”, arxiv (2024)\n",
      "\n",
      "References for Ensemble Refinement:\n",
      "J. W. Pitera and J. D. Chodera, “On the use of experimental observations to bias simulated ensembles”, J. Chem. Theory Comp. 8, 3445–3451 (2012).\n",
      "\n",
      "G. Hummer and J. Köfinger, “Bayesian ensemble refinement by replica simulations and reweighting”, J. Chem. Phys. 143, 243150 (2015).\n",
      "\n",
      "A. Cesari, A. Gil-Ley, and G. Bussi, “Combining simulations and solution experiments as a paradigm for RNA force field refinement”, J. Chem. Theory Comp. 12, 6192–6200 (2016).\n",
      "\n",
      "A. Cesari, S. Reißer, and G. Bussi, “Using the maximum entropy principle to combine simulations and solution experiments”, Computation 6, 15 (2018).\n",
      "\n",
      "J. Köfinger, L. S. Stelzl, K. Reuter, C. Allande, K. Reichel, and G. Hummer, “Efficient ensemble refinement by reweighting”, J. Chem. Theory Comput. 15, 3390–3401 (2019)\n",
      "\n",
      "\n",
      "\n",
      "References for Force-Field Fitting:\n",
      "A. B. Norgaard, J. Ferkinghoff-Borg, and K. Lindorff-Larsen, “Experimental parameterization of an energy function for the simulation of unfolded proteins”, Biophys. J. 94, 182–192 (2008)\n",
      "\n",
      "T. Fröhlking, M. Bernetti, N. Calonaci, and G. Bussi, “Toward empirical force fields that match experimental observables”, J. Chem. Phys. 152, 230902 (2020).\n",
      "\n",
      "J. Köfinger and G. Hummer, “Empirical optimization of molecular simulation force fields by Bayesian inference”, Eur. Phys. J. B 94, 245 (2021).\n",
      "\n",
      "X. Wang, J. Li, L. Yang, F. Chen, Y. Wang, J. Chang, J. Chen, W. Feng, L. Zhang, and K. Yu, “Dmff: an open-source automatic differentiable platform for molecular force field development and molecular dynamics simulation”, Journal of Chemical Theory and Computation 19, 5897–5909 (2023).\n",
      "\n",
      "P. Fuchs, S. Thaler, S. Röcken, and J. Zavadlav, “chemtrain: Learning deep potential models via automatic differentiation and statistical physics”, Computer Physics Communications, 109512 (2025)\n",
      "\n",
      "\n",
      "\n",
      "References for Ensemble Refinement + Force-Field Fitting:\n",
      "I. Gilardoni, T. Fröhlking, and G. Bussi, “Boosting ensemble refinement with transferable force-field corrections: Synergistic optimization for molecular simulations”, J. Phys. Chem. Lett. 15, 1204–1210 (2024).\n",
      "\n",
      "\n",
      "\n",
      "--------------------------------------------------------------------------\n",
      "Input random_state employed both for valid_obs and valid_frames\n",
      "Input random_state employed both for valid_obs and valid_frames\n",
      "\n",
      "log10 hyperpars:  [('alpha', -0.9999999999999998), ('beta', 1.0)]\n",
      "av. chi2:  3927.4546268738823\n",
      "av. gradient:  [-4.13434864e+01 -1.98206475e-03]\n",
      "\n",
      "log10 hyperpars:  [('alpha', -1.149188855187333e-09), ('beta', 1.0000479414031296)]\n",
      "av. chi2:  3519.966956103208\n",
      "av. gradient:  [-231.00222142    7.62857534]\n",
      "\n",
      "log10 hyperpars:  [('alpha', 3.999999994254054), ('beta', 1.000239707015648)]\n",
      "av. chi2:  156.03279941067262\n",
      "av. gradient:  [ 3.08147378 12.3916538 ]\n",
      "\n",
      "log10 hyperpars:  [('alpha', 3.9890608993782672), ('beta', -0.20395659031874902)]\n",
      "av. chi2:  153.65284426564392\n",
      "av. gradient:  [ 3.45160205 -0.73709317]\n"
     ]
    }
   ],
   "source": [
    "hyper_out = hyper_minimizer(data, regularization=regularization, starting_alpha=0.1, starting_beta=10, random_states=2, gtol=0.1)\n"
   ]
  },
  {
   "cell_type": "code",
   "execution_count": 43,
   "metadata": {},
   "outputs": [
    {
     "data": {
      "text/plain": [
       "{'av_chi2': DeviceArray([3927.45462687, 3519.9669561 ,  156.03279941,  153.65284427],            dtype=float64),\n",
       " 'av_gradient': DeviceArray([[-4.13434864e+01, -1.98206475e-03],\n",
       "              [-2.31002221e+02,  7.62857534e+00],\n",
       "              [ 3.08147378e+00,  1.23916538e+01],\n",
       "              [ 3.45160205e+00, -7.37093175e-01]], dtype=float64),\n",
       " 'log10_hyperpars': DeviceArray([[-1.00000000e+00,  1.00000000e+00],\n",
       "              [-1.14918886e-09,  1.00004794e+00],\n",
       "              [ 3.99999999e+00,  1.00023971e+00],\n",
       "              [ 3.98906090e+00, -2.03956590e-01]], dtype=float64)}"
      ]
     },
     "execution_count": 43,
     "metadata": {},
     "output_type": "execute_result"
    }
   ],
   "source": [
    "vars(hyper_out.intermediate)"
   ]
  }
 ],
 "metadata": {
  "kernelspec": {
   "display_name": "Python 3.6.8 64-bit",
   "language": "python",
   "name": "python3"
  },
  "language_info": {
   "codemirror_mode": {
    "name": "ipython",
    "version": 3
   },
   "file_extension": ".py",
   "mimetype": "text/x-python",
   "name": "python",
   "nbconvert_exporter": "python",
   "pygments_lexer": "ipython3",
   "version": "3.6.8"
  },
  "orig_nbformat": 4,
  "vscode": {
   "interpreter": {
    "hash": "916dbcbb3f70747c44a77c7bcd40155683ae19c65e1c03b4aa3499c5328201f1"
   }
  }
 },
 "nbformat": 4,
 "nbformat_minor": 2
}
