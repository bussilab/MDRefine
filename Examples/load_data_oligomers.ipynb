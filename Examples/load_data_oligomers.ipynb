{
 "cells": [
  {
   "cell_type": "markdown",
   "metadata": {},
   "source": [
    "# Load data - RNA oligomers with NMR observables"
   ]
  },
  {
   "cell_type": "markdown",
   "metadata": {},
   "source": [
    "In this notebook we are going to download the data from `Zenodo` storing them in suitably organised directories. Then, we can proceed with running the `Tutorial` notebooks.\n",
    "\n",
    "We remind you to have a look at our paper https://arxiv.org/pdf/2411.07798 and at the documentation https://www.bussilab.org/doc-MDRefine/MDRefine/index.html.\n",
    "\n",
    "Required assistance may be opened at https://github.com/bussilab/MDRefine/issues."
   ]
  },
  {
   "cell_type": "code",
   "execution_count": 1,
   "metadata": {},
   "outputs": [],
   "source": [
    "import os\n",
    "import numpy as np\n",
    "import jax.numpy as jnp\n",
    "import pandas\n",
    "import matplotlib.pyplot as plt"
   ]
  },
  {
   "cell_type": "code",
   "execution_count": 2,
   "metadata": {},
   "outputs": [],
   "source": [
    "os.chdir('../')\n",
    "from MDRefine import load_data\n",
    "\n",
    "os.chdir('../')"
   ]
  },
  {
   "cell_type": "markdown",
   "metadata": {},
   "source": [
    "*Simultaneous refinement of molecular dynamics ensembles and forward models using experimental data* - Thorben Fröhlking, Mattia Bernetti, Giovanni Bussi\n",
    "\n",
    "*Boosting Ensemble Refinement with Transferable Force-Field Corrections: Synergistic Optimization for Molecular Simulations* - Ivan Gilardoni, Thorben Fröhlking, Giovanni Bussi"
   ]
  },
  {
   "cell_type": "markdown",
   "metadata": {},
   "source": [
    "### Download from Zenodo"
   ]
  },
  {
   "cell_type": "markdown",
   "metadata": {},
   "source": [
    "Let's download the data from Zenodo https://zenodo.org/records/10185006 into the folder `DATA_Zenodo`.\n",
    "\n",
    "Then, there are some staffs to do preliminarly in order to get the following structure of folder `DATA`, which will be loaded directly through `load_data`.\n",
    "\n",
    "In the folder `DATA` you are going to have:\n",
    "- a txt file with original coefficients for the forward model (like the Karplus equations, to compute 3J scalar couplings from dihedral angles, for example);\n",
    "- several subfolders, each of them corresponding to a different molecular system; in each subfolder you will have (some of) the following:\n",
    "    - a folder `forward_qs` (with .npy files corresponding to forward quantities, such as dihedral angles);\n",
    "    - a folder `g_exp` (with .npy files corresponding to experimental values and uncertainties);\n",
    "    - a folder `names` (with names of the observables);\n",
    "    - a file `ff_terms.npy` with force-field correction terms.\n",
    "\n",
    "In principle, you may have also `weights.npy`, if absent it means that all the frames have equal weights."
   ]
  },
  {
   "cell_type": "code",
   "execution_count": 3,
   "metadata": {},
   "outputs": [
    {
     "name": "stdout",
     "output_type": "stream",
     "text": [
      "Archive:  DATA.zip\n",
      "   creating: DATA/\n",
      "   creating: DATA/observables/\n",
      "   creating: DATA/observables/CAAU/\n",
      "  inflating: DATA/observables/CAAU/backbone2_beta_epsilon_3J_refKarplus.npy  \n",
      "  inflating: DATA/observables/CAAU/backbone2_beta_epsilon_3J.npy  \n",
      "  inflating: DATA/observables/CAAU/sugar_3J.npy  \n",
      "  inflating: DATA/observables/CAAU/sugar_3J_refKarplus.npy  \n",
      "  inflating: DATA/observables/CAAU/NOEs.npy  \n",
      "  inflating: DATA/observables/CAAU/backbone1_gamma_3J.npy  \n",
      "  inflating: DATA/observables/CAAU/uNOEs.npy  \n",
      "  inflating: DATA/observables/CAAU/backbone1_gamma_3J_refKarplus.npy  \n",
      "   creating: DATA/observables/CCCC/\n",
      "  inflating: DATA/observables/CCCC/backbone2_beta_epsilon_3J_refKarplus.npy  \n",
      "  inflating: DATA/observables/CCCC/backbone2_beta_epsilon_3J.npy  \n",
      "  inflating: DATA/observables/CCCC/sugar_3J.npy  \n",
      "  inflating: DATA/observables/CCCC/sugar_3J_refKarplus.npy  \n",
      "  inflating: DATA/observables/CCCC/NOEs.npy  \n",
      "  inflating: DATA/observables/CCCC/backbone1_gamma_3J.npy  \n",
      "  inflating: DATA/observables/CCCC/uNOEs.npy  \n",
      "  inflating: DATA/observables/CCCC/backbone1_gamma_3J_refKarplus.npy  \n",
      "   creating: DATA/observables/AAAA/\n",
      "  inflating: DATA/observables/AAAA/backbone2_beta_epsilon_3J_refKarplus.npy  \n",
      "  inflating: DATA/observables/AAAA/backbone2_beta_epsilon_3J.npy  \n",
      "  inflating: DATA/observables/AAAA/sugar_3J.npy  \n",
      "  inflating: DATA/observables/AAAA/sugar_3J_refKarplus.npy  \n",
      "  inflating: DATA/observables/AAAA/NOEs.npy  \n",
      "  inflating: DATA/observables/AAAA/backbone1_gamma_3J.npy  \n",
      "  inflating: DATA/observables/AAAA/uNOEs.npy  \n",
      "  inflating: DATA/observables/AAAA/backbone1_gamma_3J_refKarplus.npy  \n",
      "   creating: DATA/observables/UUUU/\n",
      "  inflating: DATA/observables/UUUU/backbone2_beta_epsilon_3J_refKarplus.npy  \n",
      "  inflating: DATA/observables/UUUU/backbone2_beta_epsilon_3J.npy  \n",
      "  inflating: DATA/observables/UUUU/sugar_3J.npy  \n",
      "  inflating: DATA/observables/UUUU/sugar_3J_refKarplus.npy  \n",
      "  inflating: DATA/observables/UUUU/NOEs.npy  \n",
      "  inflating: DATA/observables/UUUU/backbone1_gamma_3J.npy  \n",
      "  inflating: DATA/observables/UUUU/uNOEs.npy  \n",
      "  inflating: DATA/observables/UUUU/backbone1_gamma_3J_refKarplus.npy  \n",
      "   creating: DATA/observables/GACC/\n",
      "  inflating: DATA/observables/GACC/backbone2_beta_epsilon_3J_refKarplus.npy  \n",
      "  inflating: DATA/observables/GACC/backbone2_beta_epsilon_3J.npy  \n",
      "  inflating: DATA/observables/GACC/sugar_3J.npy  \n",
      "  inflating: DATA/observables/GACC/sugar_3J_refKarplus.npy  \n",
      "  inflating: DATA/observables/GACC/NOEs.npy  \n",
      "  inflating: DATA/observables/GACC/backbone1_gamma_3J.npy  \n",
      "  inflating: DATA/observables/GACC/uNOEs.npy  \n",
      "  inflating: DATA/observables/GACC/backbone1_gamma_3J_refKarplus.npy  \n",
      "   creating: DATA/observables/UCAAUC/\n",
      "  inflating: DATA/observables/UCAAUC/backbone2_beta_epsilon_3J_refKarplus.npy  \n",
      "  inflating: DATA/observables/UCAAUC/backbone2_beta_epsilon_3J.npy  \n",
      "  inflating: DATA/observables/UCAAUC/sugar_3J.npy  \n",
      "  inflating: DATA/observables/UCAAUC/sugar_3J_refKarplus.npy  \n",
      "  inflating: DATA/observables/UCAAUC/NOEs.npy  \n",
      "  inflating: DATA/observables/UCAAUC/backbone1_gamma_3J.npy  \n",
      "  inflating: DATA/observables/UCAAUC/uNOEs.npy  \n",
      "  inflating: DATA/observables/UCAAUC/backbone1_gamma_3J_refKarplus.npy  \n",
      "   creating: DATA/observables/UCUCGU/\n",
      "  inflating: DATA/observables/UCUCGU/backbone2_beta_epsilon_3J_refKarplus_normalized.npy  \n",
      "  inflating: DATA/observables/UCUCGU/backbone2_beta_epsilon_3J.npy  \n",
      "  inflating: DATA/observables/UCUCGU/backbone1_gamma_3J_refKarplus_normalized.npy  \n",
      "  inflating: DATA/observables/UCUCGU/sugar_3J.npy  \n",
      "  inflating: DATA/observables/UCUCGU/NOEs.npy  \n",
      "  inflating: DATA/observables/UCUCGU/backbone1_gamma_3J.npy  \n",
      "  inflating: DATA/observables/UCUCGU/sugar_3J_refKarplus_normalized.npy  \n",
      "  inflating: DATA/observables/UCUCGU/uNOEs.npy  \n",
      "   creating: DATA/ff_angles/\n",
      "  inflating: DATA/ff_angles/chi_anglesCCCC.npy  \n",
      "  inflating: DATA/ff_angles/chi_anglesUCUCGU.npy  \n",
      "  inflating: DATA/ff_angles/chi_anglesAAAA.npy  \n",
      "  inflating: DATA/ff_angles/ff_anglesCAAU  \n",
      "  inflating: DATA/ff_angles/ff_anglesAAAA  \n",
      "  inflating: DATA/ff_angles/chi_anglesUCAAUC.npy  \n",
      "  inflating: DATA/ff_angles/ff_anglesUUUU  \n",
      "  inflating: DATA/ff_angles/ff_anglesUCAAUC  \n",
      "  inflating: DATA/ff_angles/chi_anglesUUUU.npy  \n",
      "  inflating: DATA/ff_angles/ff_anglesCCCC  \n",
      "  inflating: DATA/ff_angles/ff_anglesUCUCGU  \n",
      "  inflating: DATA/ff_angles/ff_anglesGACC  \n",
      "  inflating: DATA/ff_angles/chi_anglesCAAU.npy  \n",
      "  inflating: DATA/ff_angles/chi_anglesGACC.npy  \n",
      "   creating: DATA/Karplus_coeffs/\n",
      "  inflating: DATA/Karplus_coeffs/backbone1_gamma_Thorben_ref.npy  \n",
      "  inflating: DATA/Karplus_coeffs/backbone2_beta_epsilon_original.npy  \n",
      "  inflating: DATA/Karplus_coeffs/sugar_original.npy  \n",
      "  inflating: DATA/Karplus_coeffs/backbone1_gamma_original.npy  \n",
      "  inflating: DATA/Karplus_coeffs/backbone2_beta_epsilon_Thorben_ref.npy  \n",
      "  inflating: DATA/Karplus_coeffs/sugar_Thorben_ref.npy  \n",
      "   creating: DATA/pdb_structures/\n",
      "  inflating: DATA/pdb_structures/reference_testUCAAUC.pdb  \n",
      "  inflating: DATA/pdb_structures/reference_testGACC.pdb  \n",
      "  inflating: DATA/pdb_structures/reference_testAAAA.pdb  \n",
      "  inflating: DATA/pdb_structures/reference_testCCCC.pdb  \n",
      "  inflating: DATA/pdb_structures/reference_testCAAU.pdb  \n",
      "  inflating: DATA/pdb_structures/reference_test.pdb  \n",
      "  inflating: DATA/pdb_structures/reference_testUCUCGU.pdb  \n",
      "  inflating: DATA/pdb_structures/reference.pdb  \n",
      "  inflating: DATA/pdb_structures/reference_testUUUU.pdb  \n",
      "   creating: DATA/angles/\n",
      "   creating: DATA/angles/CAAU/\n",
      "  inflating: DATA/angles/CAAU/sugar.npy  \n",
      "  inflating: DATA/angles/CAAU/backbone2_beta_epsilon.npy  \n",
      "  inflating: DATA/angles/CAAU/backbone1_gamma.npy  \n",
      "   creating: DATA/angles/CCCC/\n",
      "  inflating: DATA/angles/CCCC/sugar.npy  \n",
      "  inflating: DATA/angles/CCCC/backbone2_beta_epsilon.npy  \n",
      "  inflating: DATA/angles/CCCC/backbone1_gamma.npy  \n",
      "   creating: DATA/angles/AAAA/\n",
      "  inflating: DATA/angles/AAAA/sugar.npy  \n",
      "  inflating: DATA/angles/AAAA/backbone2_beta_epsilon.npy  \n",
      "  inflating: DATA/angles/AAAA/backbone1_gamma.npy  \n",
      "   creating: DATA/angles/UUUU/\n",
      "  inflating: DATA/angles/UUUU/sugar.npy  \n",
      "  inflating: DATA/angles/UUUU/backbone2_beta_epsilon.npy  \n",
      "  inflating: DATA/angles/UUUU/backbone1_gamma.npy  \n",
      "   creating: DATA/angles/GACC/\n",
      "  inflating: DATA/angles/GACC/sugar.npy  \n",
      "  inflating: DATA/angles/GACC/backbone2_beta_epsilon.npy  \n",
      "  inflating: DATA/angles/GACC/backbone1_gamma.npy  \n",
      "   creating: DATA/angles/UCAAUC/\n",
      "  inflating: DATA/angles/UCAAUC/sugar.npy  \n",
      "  inflating: DATA/angles/UCAAUC/backbone2_beta_epsilon.npy  \n",
      "  inflating: DATA/angles/UCAAUC/backbone1_gamma.npy  \n",
      "   creating: DATA/angles/UCUCGU/\n",
      "  inflating: DATA/angles/UCUCGU/sugar.npy  \n",
      "  inflating: DATA/angles/UCUCGU/backbone2_beta_epsilon.npy  \n",
      "  inflating: DATA/angles/UCUCGU/backbone1_gamma.npy  \n",
      "   creating: DATA/ff_terms_chi_correction/\n",
      "  inflating: DATA/ff_terms_chi_correction/sincosUCUCGU  \n",
      "  inflating: DATA/ff_terms_chi_correction/sincosCCCC  \n",
      "  inflating: DATA/ff_terms_chi_correction/sincosGACC  \n",
      "  inflating: DATA/ff_terms_chi_correction/sincosCAAU  \n",
      "  inflating: DATA/ff_terms_chi_correction/sincosAAAA  \n",
      "  inflating: DATA/ff_terms_chi_correction/sincosUUUU  \n",
      "  inflating: DATA/ff_terms_chi_correction/sincosUCAAUC  \n",
      "   creating: DATA/g_exp/\n",
      "   creating: DATA/g_exp/CAAU/\n",
      "  inflating: DATA/g_exp/CAAU/backbone2_beta_epsilon_3J.npy  \n",
      "  inflating: DATA/g_exp/CAAU/sugar_3J.npy  \n",
      "  inflating: DATA/g_exp/CAAU/NOEs.npy  \n",
      "  inflating: DATA/g_exp/CAAU/backbone1_gamma_3J.npy  \n",
      "  inflating: DATA/g_exp/CAAU/uNOEs.npy  \n",
      "   creating: DATA/g_exp/CCCC/\n",
      "  inflating: DATA/g_exp/CCCC/backbone2_beta_epsilon_3J.npy  \n",
      "  inflating: DATA/g_exp/CCCC/sugar_3J.npy  \n",
      "  inflating: DATA/g_exp/CCCC/NOEs.npy  \n",
      "  inflating: DATA/g_exp/CCCC/backbone1_gamma_3J.npy  \n",
      "  inflating: DATA/g_exp/CCCC/uNOEs.npy  \n",
      "   creating: DATA/g_exp/AAAA/\n",
      "  inflating: DATA/g_exp/AAAA/backbone2_beta_epsilon_3J.npy  \n",
      "  inflating: DATA/g_exp/AAAA/sugar_3J.npy  \n",
      "  inflating: DATA/g_exp/AAAA/NOEs.npy  \n",
      "  inflating: DATA/g_exp/AAAA/backbone1_gamma_3J.npy  \n",
      "  inflating: DATA/g_exp/AAAA/uNOEs.npy  \n",
      "   creating: DATA/g_exp/UUUU/\n",
      "  inflating: DATA/g_exp/UUUU/backbone2_beta_epsilon_3J.npy  \n",
      "  inflating: DATA/g_exp/UUUU/sugar_3J.npy  \n",
      "  inflating: DATA/g_exp/UUUU/NOEs.npy  \n",
      "  inflating: DATA/g_exp/UUUU/backbone1_gamma_3J.npy  \n",
      "  inflating: DATA/g_exp/UUUU/uNOEs.npy  \n",
      "   creating: DATA/g_exp/GACC/\n",
      "  inflating: DATA/g_exp/GACC/backbone2_beta_epsilon_3J.npy  \n",
      "  inflating: DATA/g_exp/GACC/sugar_3J.npy  \n",
      "  inflating: DATA/g_exp/GACC/NOEs.npy  \n",
      "  inflating: DATA/g_exp/GACC/backbone1_gamma_3J.npy  \n",
      "  inflating: DATA/g_exp/GACC/uNOEs.npy  \n",
      "   creating: DATA/g_exp/UCAAUC/\n",
      "  inflating: DATA/g_exp/UCAAUC/backbone2_beta_epsilon_3J.npy  \n",
      "  inflating: DATA/g_exp/UCAAUC/sugar_3J.npy  \n",
      "  inflating: DATA/g_exp/UCAAUC/NOEs.npy  \n",
      "  inflating: DATA/g_exp/UCAAUC/backbone1_gamma_3J.npy  \n",
      "  inflating: DATA/g_exp/UCAAUC/uNOEs.npy  \n",
      "   creating: DATA/g_exp/UCUCGU/\n",
      "  inflating: DATA/g_exp/UCUCGU/backbone2_beta_epsilon_3J.npy  \n",
      "  inflating: DATA/g_exp/UCUCGU/sugar_3J.npy  \n",
      "  inflating: DATA/g_exp/UCUCGU/NOEs.npy  \n",
      "  inflating: DATA/g_exp/UCUCGU/backbone1_gamma_3J.npy  \n",
      "  inflating: DATA/g_exp/UCUCGU/uNOEs.npy  \n",
      "   creating: DATA/demuxing/\n",
      "  inflating: DATA/demuxing/replica_tempUUUU  \n",
      "  inflating: DATA/demuxing/replica_tempCCCC  \n",
      "  inflating: DATA/demuxing/replica_tempGACC  \n",
      "  inflating: DATA/demuxing/replica_tempAAAA  \n",
      "  inflating: DATA/demuxing/replica_tempCAAU  \n",
      "   creating: DATA/names/\n",
      "   creating: DATA/names/CAAU/\n",
      "  inflating: DATA/names/CAAU/backbone2_beta_epsilon_3J.npy  \n",
      "  inflating: DATA/names/CAAU/sugar_3J.npy  \n",
      "  inflating: DATA/names/CAAU/NOEs.npy  \n",
      "  inflating: DATA/names/CAAU/backbone1_gamma_3J.npy  \n",
      "  inflating: DATA/names/CAAU/uNOEs.npy  \n",
      "   creating: DATA/names/CCCC/\n",
      "  inflating: DATA/names/CCCC/backbone2_beta_epsilon_3J.npy  \n",
      "  inflating: DATA/names/CCCC/sugar_3J.npy  \n",
      "  inflating: DATA/names/CCCC/NOEs.npy  \n",
      "  inflating: DATA/names/CCCC/backbone1_gamma_3J.npy  \n",
      "  inflating: DATA/names/CCCC/uNOEs.npy  \n",
      "   creating: DATA/names/AAAA/\n",
      "  inflating: DATA/names/AAAA/backbone2_beta_epsilon_3J.npy  \n",
      "  inflating: DATA/names/AAAA/sugar_3J.npy  \n",
      "  inflating: DATA/names/AAAA/NOEs.npy  \n",
      "  inflating: DATA/names/AAAA/backbone1_gamma_3J.npy  \n",
      "  inflating: DATA/names/AAAA/uNOEs.npy  \n",
      "   creating: DATA/names/UUUU/\n",
      "  inflating: DATA/names/UUUU/backbone2_beta_epsilon_3J.npy  \n",
      "  inflating: DATA/names/UUUU/sugar_3J.npy  \n",
      "  inflating: DATA/names/UUUU/NOEs.npy  \n",
      "  inflating: DATA/names/UUUU/backbone1_gamma_3J.npy  \n",
      "  inflating: DATA/names/UUUU/uNOEs.npy  \n",
      "   creating: DATA/names/GACC/\n",
      "  inflating: DATA/names/GACC/backbone2_beta_epsilon_3J.npy  \n",
      "  inflating: DATA/names/GACC/sugar_3J.npy  \n",
      "  inflating: DATA/names/GACC/NOEs.npy  \n",
      "  inflating: DATA/names/GACC/backbone1_gamma_3J.npy  \n",
      "  inflating: DATA/names/GACC/uNOEs.npy  \n",
      "   creating: DATA/names/UCAAUC/\n",
      "  inflating: DATA/names/UCAAUC/backbone2_beta_epsilon_3J.npy  \n",
      "  inflating: DATA/names/UCAAUC/sugar_3J.npy  \n",
      "  inflating: DATA/names/UCAAUC/NOEs.npy  \n",
      "  inflating: DATA/names/UCAAUC/backbone1_gamma_3J.npy  \n",
      "  inflating: DATA/names/UCAAUC/uNOEs.npy  \n",
      "   creating: DATA/names/UCUCGU/\n",
      "  inflating: DATA/names/UCUCGU/backbone2_beta_epsilon_3J.npy  \n",
      "  inflating: DATA/names/UCUCGU/sugar_3J.npy  \n",
      "  inflating: DATA/names/UCUCGU/NOEs.npy  \n",
      "  inflating: DATA/names/UCUCGU/backbone1_gamma_3J.npy  \n",
      "  inflating: DATA/names/UCUCGU/uNOEs.npy  \n",
      "  inflating: DATA/readme             \n",
      "   creating: DATA/ff_terms/\n",
      "  inflating: DATA/ff_terms/sincosUCUCGU  \n",
      "  inflating: DATA/ff_terms/sincosCCCC  \n",
      "  inflating: DATA/ff_terms/sincosGACC  \n",
      "  inflating: DATA/ff_terms/sincosCAAU  \n",
      "  inflating: DATA/ff_terms/sincosAAAA  \n",
      "  inflating: DATA/ff_terms/sincosUUUU  \n",
      "  inflating: DATA/ff_terms/sincosUCAAUC  \n"
     ]
    },
    {
     "name": "stderr",
     "output_type": "stream",
     "text": [
      "  % Total    % Received % Xferd  Average Speed   Time    Time     Time  Current\n",
      "                                 Dload  Upload   Total   Spent    Left  Speed\n",
      "100 12.8G  100 12.8G    0     0  36.9M      0  0:05:56  0:05:56 --:--:-- 38.0M\n"
     ]
    }
   ],
   "source": [
    "%%bash\n",
    "\n",
    "curl -O https://zenodo.org/records/10185006/files/DATA.zip\n",
    "\n",
    "unzip DATA.zip\n",
    "\n",
    "mv DATA DATA_Zenodo\n",
    "rm -r DATA.zip"
   ]
  },
  {
   "cell_type": "markdown",
   "metadata": {},
   "source": [
    "make a directory `DATA` with the rearranged data from Zenodo"
   ]
  },
  {
   "cell_type": "code",
   "execution_count": 4,
   "metadata": {},
   "outputs": [],
   "source": [
    "!mkdir DATA"
   ]
  },
  {
   "cell_type": "markdown",
   "metadata": {},
   "source": [
    "- forward model coefficients"
   ]
  },
  {
   "cell_type": "code",
   "execution_count": 5,
   "metadata": {},
   "outputs": [],
   "source": [
    "coeffs = np.hstack((np.load('DATA_Zenodo/Karplus_coeffs/backbone1_gamma_original.npy'),\n",
    "    np.load('DATA_Zenodo/Karplus_coeffs/backbone2_beta_epsilon_original.npy'), \n",
    "    np.load('DATA_Zenodo/Karplus_coeffs/sugar_original.npy')))\n",
    "\n",
    "labels = ['A_gamma', 'B_gamma', 'C_gamma', 'A_beta', 'B_beta', 'C_beta', 'A_sugar', 'B_sugar', 'C_sugar']\n",
    "f = open('DATA/original_fm_coeffs', 'x')\n",
    "\n",
    "for i in range(len(labels)):\n",
    "    f.write(labels[i] + ',' + str(coeffs[i]) + '\\n')\n",
    "\n",
    "f.close()\n",
    "\n",
    "coeffs = np.hstack((np.load('DATA_Zenodo/Karplus_coeffs/backbone1_gamma_Thorben_ref.npy'),\n",
    "    np.load('DATA_Zenodo/Karplus_coeffs/backbone2_beta_epsilon_Thorben_ref.npy'), \n",
    "    np.load('DATA_Zenodo/Karplus_coeffs/sugar_Thorben_ref.npy')))\n",
    "\n",
    "labels = ['A_gamma', 'B_gamma', 'C_gamma', 'A_beta', 'B_beta', 'C_beta', 'A_sugar', 'B_sugar', 'C_sugar']\n",
    "f = open('DATA/fm_coeffs_Thorben_ref', 'x')\n",
    "\n",
    "for i in range(len(labels)):\n",
    "    f.write(labels[i] + ',' + str(coeffs[i]) + '\\n')\n",
    "\n",
    "f.close()"
   ]
  },
  {
   "cell_type": "markdown",
   "metadata": {},
   "source": [
    "- observables, names, forward quantities, force-field correction terms"
   ]
  },
  {
   "cell_type": "code",
   "execution_count": 6,
   "metadata": {},
   "outputs": [],
   "source": [
    "%%bash\n",
    "\n",
    "for s in 'AAAA' 'CAAU' 'CCCC' 'GACC' 'UCAAUC' 'UCUCGU' 'UUUU'\n",
    "do\n",
    "    mkdir DATA/${s}\n",
    "\n",
    "    mkdir DATA/${s}/g_exp\n",
    "    for s2 in 'backbone1_gamma_3J' 'backbone2_beta_epsilon_3J' 'sugar_3J' 'NOEs' 'uNOEs'\n",
    "    do\n",
    "        mv DATA_Zenodo/g_exp/${s}/${s2}.npy DATA/${s}/g_exp/${s2}.npy\n",
    "    done\n",
    "\n",
    "    mkdir DATA/${s}/names\n",
    "    for s2 in 'backbone1_gamma_3J' 'backbone2_beta_epsilon_3J' 'sugar_3J' 'NOEs' 'uNOEs'\n",
    "    do\n",
    "        mv DATA_Zenodo/names/${s}/${s2}.npy DATA/${s}/names/${s2}.npy\n",
    "    done\n",
    "\n",
    "    mkdir DATA/${s}/observables\n",
    "    for s2 in 'backbone1_gamma_3J' 'backbone2_beta_epsilon_3J' 'sugar_3J' 'NOEs' 'uNOEs'\n",
    "    do\n",
    "        mv DATA_Zenodo/observables/${s}/${s2}.npy DATA/${s}/observables/${s2}.npy\n",
    "    done\n",
    "\n",
    "    mkdir DATA/${s}/forward_qs\n",
    "    for s2 in 'backbone1_gamma' 'backbone2_beta_epsilon' 'sugar'\n",
    "    do\n",
    "        mv DATA_Zenodo/angles/${s}/${s2}.npy DATA/${s}/forward_qs/${s2}.npy\n",
    "    done\n",
    "\n",
    "    mv DATA_Zenodo/ff_terms/sincos${s} DATA/${s}/ff_terms\n",
    "    mv DATA_Zenodo/ff_terms_chi_correction/sincos${s} DATA/${s}/ff_terms_chi\n",
    "done"
   ]
  },
  {
   "cell_type": "code",
   "execution_count": 7,
   "metadata": {},
   "outputs": [],
   "source": [
    "system_names = ['AAAA', 'CAAU', 'CCCC', 'GACC', 'UUUU', 'UCAAUC', 'UCUCGU']\n",
    "\n",
    "for name in system_names:\n",
    "    arr = np.array(pandas.read_csv('DATA/%s/ff_terms' % name))\n",
    "    np.save('DATA/%s/ff_terms.npy' % name, arr)"
   ]
  },
  {
   "cell_type": "markdown",
   "metadata": {},
   "source": [
    "- demuxing"
   ]
  },
  {
   "cell_type": "code",
   "execution_count": 8,
   "metadata": {},
   "outputs": [],
   "source": [
    "%%bash\n",
    "\n",
    "for s in 'AAAA' 'CAAU' 'CCCC' 'GACC' 'UUUU'\n",
    "do\n",
    "    mv DATA_Zenodo/demuxing/replica_temp${s} DATA/${s}/replica_temp\n",
    "done"
   ]
  },
  {
   "cell_type": "markdown",
   "metadata": {},
   "source": [
    "- observables computed with refined (by Thorben) Karplus coefficients"
   ]
  },
  {
   "cell_type": "code",
   "execution_count": 9,
   "metadata": {},
   "outputs": [],
   "source": [
    "%%bash\n",
    "\n",
    "for s in 'AAAA' 'CAAU' 'CCCC' 'GACC' 'UUUU' 'UCAAUC'\n",
    "do\n",
    "    for s2 in 'backbone1_gamma_3J' 'backbone2_beta_epsilon_3J' 'sugar_3J'\n",
    "    do\n",
    "        mv DATA_Zenodo/observables/${s}/${s2}_refKarplus.npy DATA/${s}/observables/${s2}_refKarplus.npy\n",
    "    done\n",
    "done"
   ]
  },
  {
   "cell_type": "markdown",
   "metadata": {},
   "source": [
    "- pdb structures"
   ]
  },
  {
   "cell_type": "code",
   "execution_count": 10,
   "metadata": {},
   "outputs": [],
   "source": [
    "%%bash\n",
    "\n",
    "for s in 'AAAA' 'CAAU' 'CCCC' 'GACC' 'UUUU' 'UCAAUC'\n",
    "do\n",
    "    mv DATA_Zenodo/pdb_structures/reference_test${s}.pdb DATA/${s}/pdb_structure.pdb\n",
    "done"
   ]
  },
  {
   "cell_type": "code",
   "execution_count": 11,
   "metadata": {},
   "outputs": [],
   "source": [
    "!rm -r DATA_Zenodo"
   ]
  },
  {
   "cell_type": "code",
   "execution_count": 12,
   "metadata": {},
   "outputs": [],
   "source": [
    "for s in ['UCAAUC', 'UCUCGU']:\n",
    "    v = np.load('DATA/%s/ff_terms.npy' % s)[:, 1:]\n",
    "    np.save('DATA/%s/ff_terms.npy' % s, v)"
   ]
  },
  {
   "cell_type": "markdown",
   "metadata": {},
   "source": [
    "- for UUUU tetramer, observables are known only in the first 836000 frames"
   ]
  },
  {
   "cell_type": "code",
   "execution_count": 13,
   "metadata": {},
   "outputs": [],
   "source": [
    "for s in ['forward_qs/backbone1_gamma', 'forward_qs/backbone2_beta_epsilon', 'forward_qs/sugar', 'ff_terms']:\n",
    "    arr = np.load('DATA/UUUU/' + s + '.npy')[:836000,:]\n",
    "    np.save('DATA/UUUU/' + s + '.npy', arr)\n",
    "\n",
    "df = pandas.read_csv('DATA/UUUU/ff_terms').iloc[:836000]"
   ]
  },
  {
   "cell_type": "markdown",
   "metadata": {},
   "source": [
    "### Load data"
   ]
  },
  {
   "cell_type": "markdown",
   "metadata": {},
   "source": [
    "Define `infos` dictionary, which specifies required information in order to get data from input files through `load_data`."
   ]
  },
  {
   "cell_type": "markdown",
   "metadata": {},
   "source": [
    "#### Load observables (no force-field terms and no forward quantities)"
   ]
  },
  {
   "cell_type": "code",
   "execution_count": 14,
   "metadata": {},
   "outputs": [],
   "source": [
    "infos = {}\n",
    "\n",
    "# Firstly, define global properties, valid for all the systems:\n",
    "\n",
    "infos['global'] = {}\n",
    "\n",
    "# 'name of the folder with data'\n",
    "infos['global']['path_directory'] = 'DATA'\n",
    "\n",
    "# system names\n",
    "system_names = ['AAAA', 'CAAU']\n",
    "infos['global']['system_names'] = system_names\n",
    "\n",
    "# Then, define properties which are specific of each system, like experimental data and observables\n",
    "\n",
    "for name in system_names:\n",
    "    infos[name] = {}\n",
    "    \n",
    "    # experimental observables (average and uncertainty), corresponding to 'file_name'.npy in DATA/system_name/g_exp/\n",
    "    # uNOEs values are upper bounds, so specify '<' with ('uNOEs','<')\n",
    "    infos[name]['g_exp'] = ['NOEs', ('uNOEs','<')]\n",
    "    \n",
    "    # observables from MD simulations, corresponding to 'file_name'.npy in DATA/system_name/observables/\n",
    "    # they must correspond also to items of infos[name]['g_exp']\n",
    "    infos[name]['obs'] = ['NOEs', 'uNOEs']\n",
    "\n",
    "# If some properties are the same for all the systems, you can store them just once in infos['global']\n",
    "\n",
    "infos['global']['temperature'] = 1 # namely, energies are in unit of k_B T (default value)\n",
    "# (in this case, you could do this also for 'g_exp' and 'obs')\n",
    "\n",
    "# Select the stride for the frames (thinner strides will require more time for minimizations; default value = 1)\n",
    "stride = 1000"
   ]
  },
  {
   "cell_type": "code",
   "execution_count": 15,
   "metadata": {},
   "outputs": [
    {
     "name": "stdout",
     "output_type": "stream",
     "text": [
      "loading data from directory...\n",
      "loading  AAAA\n"
     ]
    },
    {
     "name": "stderr",
     "output_type": "stream",
     "text": [
      "WARNING:absl:No GPU/TPU found, falling back to CPU. (Set TF_CPP_MIN_LOG_LEVEL=0 and rerun for more info.)\n"
     ]
    },
    {
     "name": "stdout",
     "output_type": "stream",
     "text": [
      "loading  CAAU\n",
      "done\n"
     ]
    }
   ],
   "source": [
    "data = load_data(infos, stride=stride)"
   ]
  },
  {
   "cell_type": "markdown",
   "metadata": {},
   "source": [
    "Let's see what `data` contains:\n",
    "\n",
    "- `data.properties` contains `system_names` and `tot_n_experiments` (which computes total n. of experiments given data)"
   ]
  },
  {
   "cell_type": "code",
   "execution_count": 16,
   "metadata": {},
   "outputs": [
    {
     "name": "stdout",
     "output_type": "stream",
     "text": [
      "{'system_names': ['AAAA', 'CAAU']}\n",
      "tot. n. of experiments:  696\n"
     ]
    }
   ],
   "source": [
    "print(vars(data.properties))\n",
    "\n",
    "print('tot. n. of experiments: ', data.properties.tot_n_experiments(data))"
   ]
  },
  {
   "cell_type": "markdown",
   "metadata": {},
   "source": [
    "- for `name_sys` in `system_names`, `data.mol['name_sys']` contains:\n",
    "    - the observables `g` and the experimental values `gexp`;\n",
    "    - the corresponding `names` of the observables, which are `n_experiments` in total;\n",
    "    - the `weights` for each frame in the trajectory, which are `n_frames` in total (considering the stride);\n",
    "    - `ref` specifies if the experimental values are exact values ($\\pm$ uncertainty) or boundaries;\n",
    "    - the `temperature`."
   ]
  },
  {
   "cell_type": "code",
   "execution_count": 17,
   "metadata": {},
   "outputs": [
    {
     "data": {
      "text/plain": [
       "dict_keys(['temperature', 'gexp', 'names', 'ref', 'g', 'weights', 'n_experiments', 'n_frames'])"
      ]
     },
     "execution_count": 17,
     "metadata": {},
     "output_type": "execute_result"
    }
   ],
   "source": [
    "vars(data.mol['AAAA']).keys()"
   ]
  },
  {
   "cell_type": "markdown",
   "metadata": {},
   "source": [
    "Let's look at the observables for system `s1` of kind `s2`; let's compare their average value (resulting from MD simulation) to the experimental value. "
   ]
  },
  {
   "cell_type": "code",
   "execution_count": 18,
   "metadata": {},
   "outputs": [
    {
     "data": {
      "image/png": "[encoded data removed]",
      "text/plain": [
       "<Figure size 432x288 with 1 Axes>"
      ]
     },
     "metadata": {
      "needs_background": "light"
     },
     "output_type": "display_data"
    },
    {
     "data": {
      "image/png": "[encoded data removed]",
      "text/plain": [
       "<Figure size 576x432 with 1 Axes>"
      ]
     },
     "metadata": {
      "needs_background": "light"
     },
     "output_type": "display_data"
    }
   ],
   "source": [
    "s1 = 'AAAA'\n",
    "s2 = 'NOEs'\n",
    "\n",
    "g_mean = np.einsum('ij,i->j', data.mol[s1].g[s2], data.mol[s1].weights)\n",
    "\n",
    "i = 0\n",
    "plt.plot(data.mol[s1].g[s2][:,i],'.')\n",
    "plt.title(s1 + ' ' + s2 + ' ' + str(data.mol[s1].names[s2][i]))\n",
    "plt.xlabel('frames')\n",
    "\n",
    "plt.figure(figsize = (8,6))\n",
    "\n",
    "x = np.arange(len(data.mol[s1].gexp[s2][:,0]))\n",
    "plt.plot(g_mean, '.', label = 'original averages', markersize=10)\n",
    "plt.plot(data.mol[s1].gexp[s2][:,0], 's', label = 'experimental values')\n",
    "plt.errorbar(x, data.mol[s1].gexp[s2][:,0], data.mol[s1].gexp[s2][:,1], fmt = ' ', color = 'tab:orange', capsize = 5, lw = 2)\n",
    "\n",
    "# xlabels = [data.mol[s1].names[s2][i,0] + data.mol[s1].names[s2][i,1] for i in range(len(v1))]\n",
    "# plt.xticks(x, xlabels)\n",
    "\n",
    "plt.legend()\n",
    "plt.grid()"
   ]
  },
  {
   "cell_type": "markdown",
   "metadata": {},
   "source": [
    "#### Include also quantities computed through a **forward model**."
   ]
  },
  {
   "cell_type": "markdown",
   "metadata": {},
   "source": [
    "Besides previously defined `infos`:"
   ]
  },
  {
   "cell_type": "code",
   "execution_count": 19,
   "metadata": {},
   "outputs": [],
   "source": [
    "for name in system_names:\n",
    "    # include experimental values also for 3J scalar couplings\n",
    "    infos[name]['g_exp'] = ['backbone1_gamma_3J', 'backbone2_beta_epsilon_3J', 'sugar_3J', 'NOEs', ('uNOEs','<')]\n",
    "\n",
    "    # include quantities required to compute observables through the forward model\n",
    "    # they must correspond to 'file_name'.npy in DATA/system_name/forward_qs/\n",
    "    infos[name]['forward_qs'] = ['backbone1_gamma', 'backbone2_beta_epsilon', 'sugar']\n",
    "\n",
    "# starting values of the forward model coefficients: specify the file name inside DATA/\n",
    "infos['global']['forward_coeffs'] = 'original_fm_coeffs' # string"
   ]
  },
  {
   "cell_type": "markdown",
   "metadata": {},
   "source": [
    "Now, define the `forward_model`.\n",
    "\n",
    "In our case-study, the forward model is given by the **Karplus equations**:\n",
    "\n",
    "$^3 J_\\gamma = A_\\gamma \\, cos^2\\gamma \\, - \\, B_\\gamma \\, cos\\gamma \\, + \\, C_\\gamma$\n",
    "\n",
    "with empirical coefficients $A_\\gamma,\\,B_\\gamma,\\,C_\\gamma$ ($\\gamma$ dihedral angles), and analogously for $^3 J_{\\beta/\\epsilon}$ (same coefficients both for $\\beta$ and $\\epsilon$ dihedral angles) and $^3J_\\nu$ (sugar dihedral angles)."
   ]
  },
  {
   "cell_type": "markdown",
   "metadata": {},
   "source": [
    "**WARNING**: the keys of `forward_qs_out` must correspond to associated `gexp`, as specified in `infos`"
   ]
  },
  {
   "cell_type": "code",
   "execution_count": 20,
   "metadata": {},
   "outputs": [],
   "source": [
    "def forward_model_fun(fm_coeffs, forward_qs, selected_obs = None):\n",
    "\n",
    "    # 1. compute the cosine (which is the quantity you need in the forward model;\n",
    "    # you could do this just once before loading data)\n",
    "    forward_qs_cos = {}\n",
    "\n",
    "    for type_name in forward_qs.keys():\n",
    "        forward_qs_cos[type_name] = np.cos(forward_qs[type_name])\n",
    "\n",
    "    # if you have selected_obs, compute only the corresponding observables\n",
    "    if selected_obs is not None:\n",
    "        for type_name in forward_qs.keys():\n",
    "            forward_qs_cos[type_name] = forward_qs_cos[type_name][:,selected_obs[type_name+'_3J']]\n",
    "\n",
    "    # 2. compute observables (forward_qs_out) through forward model\n",
    "    forward_qs_out = {\n",
    "        'backbone1_gamma_3J': fm_coeffs[0]*forward_qs_cos['backbone1_gamma']**2-fm_coeffs[1]*forward_qs_cos['backbone1_gamma']+fm_coeffs[2],\n",
    "        'backbone2_beta_epsilon_3J': fm_coeffs[3]*forward_qs_cos['backbone2_beta_epsilon']**2-fm_coeffs[4]*forward_qs_cos['backbone2_beta_epsilon']+fm_coeffs[5],\n",
    "        'sugar_3J': fm_coeffs[6]*forward_qs_cos['sugar']**2-fm_coeffs[7]*forward_qs_cos['sugar']+fm_coeffs[8] }\n",
    "\n",
    "    return forward_qs_out"
   ]
  },
  {
   "cell_type": "markdown",
   "metadata": {},
   "source": [
    "same forward-model function for each system, so put it in `infos['global']`"
   ]
  },
  {
   "cell_type": "code",
   "execution_count": 21,
   "metadata": {},
   "outputs": [],
   "source": [
    "infos['global']['forward_model'] = forward_model_fun"
   ]
  },
  {
   "cell_type": "code",
   "execution_count": 22,
   "metadata": {},
   "outputs": [
    {
     "name": "stdout",
     "output_type": "stream",
     "text": [
      "loading data from directory...\n",
      "loading  AAAA\n",
      "loading  CAAU\n",
      "done\n"
     ]
    }
   ],
   "source": [
    "data = load_data(infos, stride=stride)"
   ]
  },
  {
   "cell_type": "markdown",
   "metadata": {},
   "source": [
    "Now, `data.properties` contains also  `forward_coeffs_0`, namely, the initial guess of coefficients for the forward model, used to compute the corresponding observables inserted in `g`; by default, they are in `path_directory + 'original_coeffs'` txt file."
   ]
  },
  {
   "cell_type": "code",
   "execution_count": 23,
   "metadata": {},
   "outputs": [
    {
     "name": "stdout",
     "output_type": "stream",
     "text": [
      "{'system_names': ['AAAA', 'CAAU'], 'forward_coeffs_0': 0\n",
      "A_gamma     9.70\n",
      "B_gamma    -1.80\n",
      "C_gamma     0.00\n",
      "A_beta     15.30\n",
      "B_beta     -6.10\n",
      "C_beta      1.60\n",
      "A_sugar     9.67\n",
      "B_sugar    -2.03\n",
      "C_sugar     0.00\n",
      "Name: 1, dtype: float64}\n",
      "tot. n. of experiments:  751\n"
     ]
    }
   ],
   "source": [
    "print(vars(data.properties))\n",
    "\n",
    "print('tot. n. of experiments: ', data.properties.tot_n_experiments(data))"
   ]
  },
  {
   "cell_type": "markdown",
   "metadata": {},
   "source": [
    "and `data.mol[name_sys]` contains also:\n",
    "- `forward_model` and `forward_qs`, respectively, function and input values employed to compute observables through forward model;\n",
    "- `gexp` and `g` with values corresponding to observables computed through forward model."
   ]
  },
  {
   "cell_type": "code",
   "execution_count": 24,
   "metadata": {},
   "outputs": [
    {
     "data": {
      "text/plain": [
       "dict_keys(['temperature', 'gexp', 'names', 'ref', 'g', 'forward_model', 'forward_qs', 'weights', 'n_experiments', 'n_frames'])"
      ]
     },
     "execution_count": 24,
     "metadata": {},
     "output_type": "execute_result"
    }
   ],
   "source": [
    "vars(data.mol['AAAA']).keys()"
   ]
  }
 ],
 "metadata": {
  "kernelspec": {
   "display_name": "Python 3.6.8 64-bit",
   "language": "python",
   "name": "python3"
  },
  "language_info": {
   "codemirror_mode": {
    "name": "ipython",
    "version": 3
   },
   "file_extension": ".py",
   "mimetype": "text/x-python",
   "name": "python",
   "nbconvert_exporter": "python",
   "pygments_lexer": "ipython3",
   "version": "3.6.8"
  },
  "orig_nbformat": 4,
  "vscode": {
   "interpreter": {
    "hash": "916dbcbb3f70747c44a77c7bcd40155683ae19c65e1c03b4aa3499c5328201f1"
   }
  }
 },
 "nbformat": 4,
 "nbformat_minor": 2
}
