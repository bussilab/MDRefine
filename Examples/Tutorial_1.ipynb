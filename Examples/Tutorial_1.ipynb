{
 "cells": [
  {
   "cell_type": "markdown",
   "metadata": {},
   "source": [
    "# Tutorial for `MDRefine` - 1\n",
    "\n",
    "Refinement of the structural ensembles and forward models"
   ]
  },
  {
   "cell_type": "markdown",
   "metadata": {},
   "source": [
    "In these notebooks we are going to perform several different refinements of MD-generated trajectories by employing the package `MDRefine`. In this way, we believe the usage of `MDRefine` will become clear and easy to emulate for your own case of interest.\n",
    "\n",
    "We remind you to have a look at our paper https://arxiv.org/pdf/2411.07798 and at the documentation https://www.bussilab.org/doc-MDRefine/MDRefine/index.html.\n",
    "\n",
    "Required assistance may be opened at https://github.com/bussilab/MDRefine/issues."
   ]
  },
  {
   "cell_type": "code",
   "execution_count": null,
   "metadata": {},
   "outputs": [],
   "source": [
    "# install matplotlib and other dependencies\n",
    "!pip install -r requirements.txt"
   ]
  },
  {
   "cell_type": "code",
   "execution_count": 1,
   "metadata": {
    "execution": {
     "iopub.execute_input": "2025-03-03T09:57:51.453690Z",
     "iopub.status.busy": "2025-03-03T09:57:51.451283Z",
     "iopub.status.idle": "2025-03-03T09:57:55.178251Z",
     "shell.execute_reply": "2025-03-03T09:57:55.179101Z"
    }
   },
   "outputs": [],
   "source": [
    "import numpy as np\n",
    "import jax.numpy as jnp\n",
    "import pandas\n",
    "import matplotlib\n",
    "import matplotlib.pyplot as plt\n",
    "from IPython.display import clear_output"
   ]
  },
  {
   "cell_type": "code",
   "execution_count": 2,
   "metadata": {
    "execution": {
     "iopub.execute_input": "2025-03-03T09:57:55.185711Z",
     "iopub.status.busy": "2025-03-03T09:57:55.184706Z",
     "iopub.status.idle": "2025-03-03T09:57:55.362260Z",
     "shell.execute_reply": "2025-03-03T09:57:55.363078Z"
    }
   },
   "outputs": [
    {
     "name": "stdout",
     "output_type": "stream",
     "text": [
      "I will use the MDRefine version installed at ../MDRefine/__init__.py\n"
     ]
    }
   ],
   "source": [
    "# import from parent directory\n",
    "import sys\n",
    "sys.path.insert(0, '../')\n",
    "\n",
    "import MDRefine\n",
    "\n",
    "print(\"I will use the MDRefine version installed at\", MDRefine.__file__)"
   ]
  },
  {
   "cell_type": "code",
   "execution_count": 3,
   "metadata": {
    "execution": {
     "iopub.execute_input": "2025-03-03T09:57:55.369581Z",
     "iopub.status.busy": "2025-03-03T09:57:55.368572Z",
     "iopub.status.idle": "2025-03-03T09:57:55.372842Z",
     "shell.execute_reply": "2025-03-03T09:57:55.372031Z"
    }
   },
   "outputs": [],
   "source": [
    "from MDRefine import load_data, minimizer, split_dataset, hyper_minimizer, MDRefinement, unwrap_dict\n"
   ]
  },
  {
   "cell_type": "markdown",
   "metadata": {},
   "source": [
    "## 1. Ensemble refinement"
   ]
  },
  {
   "cell_type": "markdown",
   "metadata": {},
   "source": [
    "In this section, we are going to reproduce results from *T. Fröhlking et al., \"Simultaneous refinement of molecular dynamics ensembles and forward models using experimental data\", J. Chem. Phys. 158, 214120 (2023)* https://pubs.aip.org/aip/jcp/article/158/21/214120/2894410.\n",
    "\n",
    "They regard the refinement of the structural ensembles of RNA oligomers (Ensemble Refinement based on the max. entropy principle), with possible flexibility on the forward models (Karplus equations)."
   ]
  },
  {
   "cell_type": "code",
   "execution_count": 4,
   "metadata": {
    "execution": {
     "iopub.execute_input": "2025-03-03T09:57:55.379492Z",
     "iopub.status.busy": "2025-03-03T09:57:55.378485Z",
     "iopub.status.idle": "2025-03-03T09:57:55.398006Z",
     "shell.execute_reply": "2025-03-03T09:57:55.396978Z"
    }
   },
   "outputs": [],
   "source": [
    "%%bash\n",
    "\n",
    "if [ ! -d \"DATA\" ]; then\n",
    "    echo \"download DATA from Zenodo\"\n",
    "    curl -O https://zenodo.org/records/14956459/files/DATA.zip\n",
    "\n",
    "    unzip DATA.zip\n",
    "    rm -r DATA.zip\n",
    "fi"
   ]
  },
  {
   "cell_type": "markdown",
   "metadata": {},
   "source": [
    "### a. Load data"
   ]
  },
  {
   "cell_type": "markdown",
   "metadata": {},
   "source": [
    "In order to perform the refinement, we first need to store the data from MD simulations and experiments in a directory structured as described in https://arxiv.org/pdf/2411.07798 - *Structure of `data` objects*. Then, we can define the `infos` dictionary, which informs about which input files are going to be read, and run the `load_data` function.\n",
    "\n",
    "The output of `load_data` is a class instance `data` with all the quantities required in the following steps (see again Section *Structure of `data` objects*)."
   ]
  },
  {
   "cell_type": "markdown",
   "metadata": {},
   "source": [
    "- 1. Just load the observables (without force-field terms nor forward quantities)"
   ]
  },
  {
   "cell_type": "code",
   "execution_count": 5,
   "metadata": {
    "execution": {
     "iopub.execute_input": "2025-03-03T09:57:55.409869Z",
     "iopub.status.busy": "2025-03-03T09:57:55.408840Z",
     "iopub.status.idle": "2025-03-03T09:57:55.412991Z",
     "shell.execute_reply": "2025-03-03T09:57:55.411992Z"
    }
   },
   "outputs": [],
   "source": [
    "infos = {}\n",
    "\n",
    "# Firstly, define global properties, valid for all the systems:\n",
    "\n",
    "infos['global'] = {}\n",
    "\n",
    "# 'name of the folder with data'\n",
    "infos['global']['path_directory'] = 'DATA'\n",
    "\n",
    "# system names\n",
    "system_names = ['AAAA', 'CAAU']  # , 'CCCC', 'GACC', 'UUUU', 'UCAAUC']\n",
    "infos['global']['system_names'] = system_names\n",
    "\n",
    "# Then, define properties which are specific of each system, like experimental data and observables\n",
    "\n",
    "for name in system_names:\n",
    "    infos[name] = {}\n",
    "    \n",
    "    # experimental observables (average and uncertainty), corresponding to 'file_name'.npy in DATA/system_name/g_exp/\n",
    "    # uNOEs values are upper bounds, so specify '<' with ('uNOEs','<')\n",
    "    infos[name]['g_exp'] = ['NOEs', ('uNOEs','<')]\n",
    "    \n",
    "    # observables from MD simulations, corresponding to 'file_name'.npy in DATA/system_name/observables/\n",
    "    # they must correspond also to items of infos[name]['g_exp']\n",
    "    infos[name]['obs'] = ['NOEs', 'uNOEs']\n",
    "\n",
    "# If some properties are the same for all the systems, you can store them just once in infos['global']\n",
    "\n",
    "infos['global']['temperature'] = 1 # namely, energies are in unit of k_B T (default value)\n",
    "# (in this case, you could do this also for 'g_exp' and 'obs')\n",
    "\n",
    "# Select the stride for the frames (thinner strides will require more time for minimizations; default value = 1)\n",
    "stride = 10"
   ]
  },
  {
   "cell_type": "markdown",
   "metadata": {},
   "source": [
    "- 2. Include also quantities computed through the defined forward model"
   ]
  },
  {
   "cell_type": "code",
   "execution_count": 6,
   "metadata": {
    "execution": {
     "iopub.execute_input": "2025-03-03T09:57:55.420967Z",
     "iopub.status.busy": "2025-03-03T09:57:55.419687Z",
     "iopub.status.idle": "2025-03-03T09:57:55.423791Z",
     "shell.execute_reply": "2025-03-03T09:57:55.422799Z"
    }
   },
   "outputs": [],
   "source": [
    "for name in system_names:\n",
    "    # include experimental values also for 3J scalar couplings\n",
    "    infos[name]['g_exp'] = ['backbone1_gamma_3J', 'backbone2_beta_epsilon_3J', 'sugar_3J', 'NOEs', ('uNOEs','<')]\n",
    "\n",
    "    # include quantities required to compute observables through the forward model\n",
    "    # they must correspond to 'file_name'.npy in DATA/system_name/forward_qs/\n",
    "    infos[name]['forward_qs'] = ['backbone1_gamma','backbone2_beta_epsilon','sugar']\n",
    "\n",
    "# starting values of the forward model coefficients: specify the file name inside DATA/\n",
    "infos['global']['forward_coeffs'] = 'original_fm_coeffs' # string"
   ]
  },
  {
   "cell_type": "markdown",
   "metadata": {},
   "source": [
    "Now, let's define the **forward model**.\n",
    "\n",
    "In our case-study, the forward model is given by the **Karplus equations**:\n",
    "\n",
    "$^3 J_\\gamma = A_\\gamma \\, cos^2\\gamma \\, + \\, B_\\gamma \\, cos\\gamma \\, + \\, C_\\gamma$\n",
    "\n",
    "with empirical coefficients $A_\\gamma,\\,B_\\gamma,\\,C_\\gamma$ ($\\gamma$ dihedral angles), and analogously for $^3 J_{\\beta/\\epsilon}$ (same coefficients both for $\\beta$ and $\\epsilon$ dihedral angles) and $^3J_\\nu$ (sugar dihedral angles)."
   ]
  },
  {
   "cell_type": "markdown",
   "metadata": {},
   "source": [
    "**WARNING**: `forward_model_fun` returns a dict `forward_qs_out` whose keys must correspond to those of the associated experimental values `g_exp`, as specified in `infos`."
   ]
  },
  {
   "cell_type": "code",
   "execution_count": 7,
   "metadata": {
    "execution": {
     "iopub.execute_input": "2025-03-03T09:57:55.436227Z",
     "iopub.status.busy": "2025-03-03T09:57:55.435204Z",
     "iopub.status.idle": "2025-03-03T09:57:55.441650Z",
     "shell.execute_reply": "2025-03-03T09:57:55.442427Z"
    }
   },
   "outputs": [],
   "source": [
    "def forward_model_fun(fm_coeffs, forward_qs, selected_obs = None):\n",
    "\n",
    "    # 1. compute the cosine (which is the quantity you need in the forward model;\n",
    "    # you could do this just once before loading data)\n",
    "    forward_qs_cos = {}\n",
    "\n",
    "    for type_name in forward_qs.keys():\n",
    "        forward_qs_cos[type_name] = np.cos(forward_qs[type_name])\n",
    "\n",
    "    # if you have selected_obs, compute only the corresponding observables\n",
    "    if selected_obs is not None:\n",
    "        for type_name in forward_qs.keys():\n",
    "            forward_qs_cos[type_name] = forward_qs_cos[type_name][:,selected_obs[type_name+'_3J']]\n",
    "\n",
    "    # 2. compute observables (forward_qs_out) through forward model\n",
    "    forward_qs_out = {\n",
    "        'backbone1_gamma_3J': fm_coeffs[0]*forward_qs_cos['backbone1_gamma']**2 + fm_coeffs[1]*forward_qs_cos['backbone1_gamma'] + fm_coeffs[2],\n",
    "        'backbone2_beta_epsilon_3J': fm_coeffs[3]*forward_qs_cos['backbone2_beta_epsilon']**2 + fm_coeffs[4]*forward_qs_cos['backbone2_beta_epsilon'] + fm_coeffs[5],\n",
    "        'sugar_3J': fm_coeffs[6]*forward_qs_cos['sugar']**2 + fm_coeffs[7]*forward_qs_cos['sugar'] + fm_coeffs[8]}\n",
    "\n",
    "    return forward_qs_out"
   ]
  },
  {
   "cell_type": "code",
   "execution_count": 8,
   "metadata": {
    "execution": {
     "iopub.execute_input": "2025-03-03T09:57:55.449670Z",
     "iopub.status.busy": "2025-03-03T09:57:55.448669Z",
     "iopub.status.idle": "2025-03-03T09:57:55.453142Z",
     "shell.execute_reply": "2025-03-03T09:57:55.452332Z"
    }
   },
   "outputs": [],
   "source": [
    "# same forward-model function for each system, so store it in infos['global']\n",
    "infos['global']['forward_model'] = forward_model_fun"
   ]
  },
  {
   "cell_type": "code",
   "execution_count": 9,
   "metadata": {
    "execution": {
     "iopub.execute_input": "2025-03-03T09:57:55.477530Z",
     "iopub.status.busy": "2025-03-03T09:57:55.459981Z",
     "iopub.status.idle": "2025-03-03T09:57:56.942644Z",
     "shell.execute_reply": "2025-03-03T09:57:56.941635Z"
    }
   },
   "outputs": [
    {
     "name": "stderr",
     "output_type": "stream",
     "text": [
      "WARNING:absl:No GPU/TPU found, falling back to CPU. (Set TF_CPP_MIN_LOG_LEVEL=0 and rerun for more info.)\n"
     ]
    },
    {
     "name": "stdout",
     "output_type": "stream",
     "text": [
      "loading data from directory...\n",
      "loading  AAAA\n",
      "loading  CAAU\n",
      "done\n"
     ]
    }
   ],
   "source": [
    "data = load_data(infos, stride=stride)"
   ]
  },
  {
   "cell_type": "markdown",
   "metadata": {},
   "source": [
    "### b. Minimize the loss function and analyse the results\n",
    "for a single choice of the hyper-parameter $\\alpha$"
   ]
  },
  {
   "cell_type": "markdown",
   "metadata": {},
   "source": [
    "Namely, let's perform ensemble refinement with a given value of the hyperparameter $\\alpha$, representing the strength to the original ensembles generated from the MD simulations."
   ]
  },
  {
   "cell_type": "code",
   "execution_count": 10,
   "metadata": {
    "execution": {
     "iopub.execute_input": "2025-03-03T09:57:56.949363Z",
     "iopub.status.busy": "2025-03-03T09:57:56.948358Z",
     "iopub.status.idle": "2025-03-03T09:58:09.877388Z",
     "shell.execute_reply": "2025-03-03T09:58:09.878233Z"
    }
   },
   "outputs": [
    {
     "name": "stdout",
     "output_type": "stream",
     "text": [
      "References for MDRefine package:\n",
      "I. Gilardoni, V. Piomponi, T. Fröhlking, and G. Bussi, “MDRefine: a Python package for refining Molecular Dynamics trajectories with experimental data”, arxiv (2024)\n",
      "\n",
      "References for Ensemble Refinement:\n",
      "J. W. Pitera and J. D. Chodera, “On the use of experimental observations to bias simulated ensembles”, J. Chem. Theory Comp. 8, 3445–3451 (2012).\n",
      "\n",
      "G. Hummer and J. Köfinger, “Bayesian ensemble refinement by replica simulations and reweighting”, J. Chem. Phys. 143, 243150 (2015).\n",
      "\n",
      "A. Cesari, A. Gil-Ley, and G. Bussi, “Combining simulations and solution experiments as a paradigm for RNA force field refinement”, J. Chem. Theory Comp. 12, 6192–6200 (2016).\n",
      "\n",
      "A. Cesari, S. Reißer, and G. Bussi, “Using the maximum entropy principle to combine simulations and solution experiments”, Computation 6, 15 (2018).\n",
      "\n",
      "J. Köfinger, L. S. Stelzl, K. Reuter, C. Allande, K. Reichel, and G. Hummer, “Efficient ensemble refinement by reweighting”, J. Chem. Theory Comput. 15, 3390–3401 (2019)\n",
      "\n",
      "\n",
      "\n",
      "--------------------------------------------------------------------------\n"
     ]
    }
   ],
   "source": [
    "# use function minimizer with selected data and alpha as input\n",
    "Result = minimizer(data, alpha=1)"
   ]
  },
  {
   "cell_type": "markdown",
   "metadata": {},
   "source": [
    "`minimizer` returns a class instance `Result`, let's have a look at it"
   ]
  },
  {
   "cell_type": "code",
   "execution_count": 11,
   "metadata": {
    "execution": {
     "iopub.execute_input": "2025-03-03T09:58:09.885748Z",
     "iopub.status.busy": "2025-03-03T09:58:09.884714Z",
     "iopub.status.idle": "2025-03-03T09:58:09.888759Z",
     "shell.execute_reply": "2025-03-03T09:58:09.889580Z"
    }
   },
   "outputs": [
    {
     "name": "stdout",
     "output_type": "stream",
     "text": [
      "dict_keys(['loss', 'min_lambdas', 'minis', 'time', 'D_KL_alpha', 'abs_difference', 'av_g', 'chi2', 'logZ_new', 'weights_new'])\n"
     ]
    }
   ],
   "source": [
    "print(vars(Result).keys())"
   ]
  },
  {
   "cell_type": "code",
   "execution_count": 12,
   "metadata": {
    "execution": {
     "iopub.execute_input": "2025-03-03T09:58:09.897122Z",
     "iopub.status.busy": "2025-03-03T09:58:09.895978Z",
     "iopub.status.idle": "2025-03-03T09:58:09.903617Z",
     "shell.execute_reply": "2025-03-03T09:58:09.904443Z"
    }
   },
   "outputs": [
    {
     "name": "stdout",
     "output_type": "stream",
     "text": [
      "True b'CONVERGENCE: NORM_OF_PROJECTED_GRADIENT_<=_PGTOL'\n",
      "True b'CONVERGENCE: NORM_OF_PROJECTED_GRADIENT_<=_PGTOL'\n",
      "optimal loss:  22.041717740436116\n",
      "time required:  11.839823246002197\n",
      "D_KL:  {'AAAA': DeviceArray(2.89315516, dtype=float64), 'CAAU': DeviceArray(2.94417582, dtype=float64)}\n"
     ]
    }
   ],
   "source": [
    "# check the convergence\n",
    "for name_sys in data.properties.system_names:\n",
    "    print(Result.minis[name_sys].success, Result.minis[name_sys].message)\n",
    "\n",
    "# min. value of the loss function\n",
    "print('optimal loss: ', Result.loss)\n",
    "print('time required: ', Result.time)\n",
    "\n",
    "# Kullback-Leibler divergence\n",
    "print('D_KL: ', Result.D_KL_alpha)"
   ]
  },
  {
   "cell_type": "markdown",
   "metadata": {},
   "source": [
    "- then, let's look at the optimal ensembles $P^*$ **weights_new** (completely defined by the starting ensembles and by the **min_lambdas** coefficients), together with their (log) normalization factor **logZ_new**. Let's plot them."
   ]
  },
  {
   "cell_type": "code",
   "execution_count": 13,
   "metadata": {
    "execution": {
     "iopub.execute_input": "2025-03-03T09:58:09.946607Z",
     "iopub.status.busy": "2025-03-03T09:58:09.913134Z",
     "iopub.status.idle": "2025-03-03T09:58:13.307107Z",
     "shell.execute_reply": "2025-03-03T09:58:13.307886Z"
    }
   },
   "outputs": [
    {
     "name": "stdout",
     "output_type": "stream",
     "text": [
      "system AAAA:\n",
      "effective n. of frames (on the total n.):  0.0554011371259131\n",
      "logZ:  -48.8379587456847\n",
      "system CAAU:\n",
      "effective n. of frames (on the total n.):  0.052645431093149835\n",
      "logZ:  -25.624464834913276\n"
     ]
    },
    {
     "data": {
      "image/png": "[encoded data removed]",
      "text/plain": [
       "<Figure size 864x288 with 2 Axes>"
      ]
     },
     "metadata": {
      "needs_background": "light"
     },
     "output_type": "display_data"
    },
    {
     "data": {
      "image/png": "[encoded data removed]",
      "text/plain": [
       "<Figure size 864x288 with 2 Axes>"
      ]
     },
     "metadata": {
      "needs_background": "light"
     },
     "output_type": "display_data"
    }
   ],
   "source": [
    "for s in system_names:\n",
    "\n",
    "    plt.figure(figsize = (12,4))\n",
    "\n",
    "    plt.subplot(1,2,1)\n",
    "\n",
    "    l = 0\n",
    "    for i2,s2 in enumerate(Result.min_lambdas[s].keys()):\n",
    "        l_new = l+len(Result.min_lambdas[s][s2])\n",
    "        plt.plot(np.arange(l,l_new),Result.min_lambdas[s][s2],'.',label='%s %s' % (s,s2))\n",
    "        l = l_new\n",
    "\n",
    "    plt.title('$\\lambda$ values (non-normalized)')\n",
    "    plt.legend()# loc='center left', bbox_to_anchor=(1, 0.5))\n",
    "    plt.grid()\n",
    "    plt.yscale('symlog')\n",
    "\n",
    "    plt.subplot(1,2,2)\n",
    "    \n",
    "    plt.plot(Result.weights_new[s],'.')\n",
    "    plt.title('reweighted %s' % s)\n",
    "    plt.grid()\n",
    "    \n",
    "    n_eff = np.exp(-Result.D_KL_alpha[s])\n",
    "\n",
    "    print('system %s:' % s)\n",
    "    print('effective n. of frames (on the total n.): ', n_eff)\n",
    "    print('logZ: ', Result.logZ_new[s])\n"
   ]
  },
  {
   "cell_type": "markdown",
   "metadata": {},
   "source": [
    "- finally, let's look at the average values of the observables in the new ensembles **av_g** and associated **chi2**; compare with experimental values gexp and with average values of the original ensembles."
   ]
  },
  {
   "cell_type": "code",
   "execution_count": 14,
   "metadata": {
    "execution": {
     "iopub.execute_input": "2025-03-03T09:58:13.323402Z",
     "iopub.status.busy": "2025-03-03T09:58:13.316898Z",
     "iopub.status.idle": "2025-03-03T09:58:13.829264Z",
     "shell.execute_reply": "2025-03-03T09:58:13.830045Z"
    }
   },
   "outputs": [
    {
     "name": "stdout",
     "output_type": "stream",
     "text": [
      "chi2:  7.546078526391822\n",
      "observables (first names in list):\n",
      " [[\"A1-H1'\" 'A1-H8']\n",
      " [\"A1-H1'\" 'A2-H8']\n",
      " ['A1-H2' \"A2-H1'\"]\n",
      " [\"A1-1H2'\" 'A1-H8']\n",
      " [\"A1-1H2'\" \"A2-H1'\"]]\n"
     ]
    },
    {
     "data": {
      "image/png": "[encoded data removed]",
      "text/plain": [
       "<Figure size 576x432 with 1 Axes>"
      ]
     },
     "metadata": {
      "needs_background": "light"
     },
     "output_type": "display_data"
    }
   ],
   "source": [
    "s1 = 'AAAA'\n",
    "s2 = 'NOEs'\n",
    "\n",
    "print('chi2: ',Result.chi2[s1][s2])\n",
    "print('observables (first names in list):\\n',data.mol[s1].names[s2][:5])\n",
    "\n",
    "plt.figure(figsize=(8,6))\n",
    "\n",
    "# compute average values with original ensemble\n",
    "g_mean = np.matmul(data.mol[s1].weights, data.mol[s1].g[s2])\n",
    "\n",
    "plt.plot(g_mean,'.',label='original av.s',markersize=10)\n",
    "\n",
    "plt.plot(data.mol[s1].gexp[s2][:,0],'s',label='experimental values')\n",
    "plt.errorbar(np.arange(len(data.mol[s1].gexp[s2][:,0])), data.mol[s1].gexp[s2][:,0], data.mol[s1].gexp[s2][:,1], fmt = ' ',\n",
    "    color = 'tab:orange', capsize = 5, lw = 2)\n",
    "\n",
    "plt.plot(Result.av_g[s1][s2], 'D', label = 'reweighted av.s')\n",
    "\n",
    "plt.legend()\n",
    "plt.grid()"
   ]
  },
  {
   "cell_type": "markdown",
   "metadata": {},
   "source": [
    "### c. Determine optimal hyper parameter $\\alpha$ through cross validation (scan over $\\alpha$)"
   ]
  },
  {
   "cell_type": "markdown",
   "metadata": {},
   "source": [
    "The hyperparameter $\\alpha$ tunes the reliability given to the original ensemble in spite of the trust to experimental data.\n",
    "\n",
    "Suitable values of $\\alpha$ can be determined through a **cross validation procedure**: randomly split the full data set into training and validation set, then select the value of $\\alpha$ which minimizes the $\\chi^2$ on the validation set (either same observables as in training but new frames or new observables); repeat over several splittings.\n",
    "\n",
    "For the moment, let's perform just one splitting into training/validation set (as an example) and scan over different values of $\\alpha$ (in logarithmic scale)."
   ]
  },
  {
   "cell_type": "markdown",
   "metadata": {},
   "source": [
    "The function **split_dataset** can be used to get **data_train** and **data_valid** by simply passing a **random_state** (a random integer), which randomly selects **valid_obs** and **valid_frames**."
   ]
  },
  {
   "cell_type": "code",
   "execution_count": 15,
   "metadata": {
    "execution": {
     "iopub.execute_input": "2025-03-03T09:58:13.837992Z",
     "iopub.status.busy": "2025-03-03T09:58:13.835682Z",
     "iopub.status.idle": "2025-03-03T09:58:15.099026Z",
     "shell.execute_reply": "2025-03-03T09:58:15.099837Z"
    }
   },
   "outputs": [
    {
     "name": "stdout",
     "output_type": "stream",
     "text": [
      "split observables only (not frames)\n",
      "random state:  613\n",
      "Input random_state employed for valid_obs only\n"
     ]
    }
   ],
   "source": [
    "# split into data_cv (for cross validation) and data_test\n",
    "\n",
    "data_cv, data_test, test_obs, test_frames = split_dataset(data, frames_fraction=0)\n",
    "# data_train, data_valid, valid_obs, valid_frames = split_dataset(data_train_and_valid, random_state=1)"
   ]
  },
  {
   "cell_type": "code",
   "execution_count": 16,
   "metadata": {
    "execution": {
     "iopub.execute_input": "2025-03-03T09:58:15.107346Z",
     "iopub.status.busy": "2025-03-03T09:58:15.106344Z",
     "iopub.status.idle": "2025-03-03T09:58:16.208557Z",
     "shell.execute_reply": "2025-03-03T09:58:16.209333Z"
    }
   },
   "outputs": [
    {
     "name": "stdout",
     "output_type": "stream",
     "text": [
      "Input random_state employed both for valid_obs and valid_frames\n"
     ]
    }
   ],
   "source": [
    "data_train, data_valid, valid_obs, valid_frames = split_dataset(data_cv, random_state=1)"
   ]
  },
  {
   "cell_type": "code",
   "execution_count": 17,
   "metadata": {
    "execution": {
     "iopub.execute_input": "2025-03-03T09:58:16.215432Z",
     "iopub.status.busy": "2025-03-03T09:58:16.214438Z",
     "iopub.status.idle": "2025-03-03T09:58:16.529469Z",
     "shell.execute_reply": "2025-03-03T09:58:16.530243Z"
    }
   },
   "outputs": [
    {
     "name": "stdout",
     "output_type": "stream",
     "text": [
      "Input random_state employed both for valid_obs and valid_frames\n"
     ]
    }
   ],
   "source": [
    "data_train, data_valid, valid_obs, valid_frames = split_dataset(data, random_state=1)"
   ]
  },
  {
   "cell_type": "code",
   "execution_count": 18,
   "metadata": {
    "execution": {
     "iopub.execute_input": "2025-03-03T09:58:16.538370Z",
     "iopub.status.busy": "2025-03-03T09:58:16.537364Z",
     "iopub.status.idle": "2025-03-03T09:58:16.541670Z",
     "shell.execute_reply": "2025-03-03T09:58:16.542480Z"
    }
   },
   "outputs": [
    {
     "name": "stdout",
     "output_type": "stream",
     "text": [
      "751\n",
      "151\n",
      "600\n",
      "600\n",
      "600\n"
     ]
    }
   ],
   "source": [
    "print(data.properties.tot_n_experiments(data))\n",
    "print(data_test.properties.tot_n_experiments(data_test))\n",
    "print(data_cv.properties.tot_n_experiments(data_cv))\n",
    "\n",
    "print(data_valid.properties.tot_n_experiments(data_valid))\n",
    "print(data_train.properties.tot_n_experiments(data_train))"
   ]
  },
  {
   "cell_type": "code",
   "execution_count": 19,
   "metadata": {
    "execution": {
     "iopub.execute_input": "2025-03-03T09:58:16.551246Z",
     "iopub.status.busy": "2025-03-03T09:58:16.550239Z",
     "iopub.status.idle": "2025-03-03T09:58:16.556108Z",
     "shell.execute_reply": "2025-03-03T09:58:16.556918Z"
    }
   },
   "outputs": [
    {
     "name": "stdout",
     "output_type": "stream",
     "text": [
      "(1017, 36)\n",
      "(814, 30)\n",
      "(203, 30)\n",
      "(203, 6)\n",
      "(1017, 31)\n",
      "(1017, 5)\n"
     ]
    }
   ],
   "source": [
    "s = 'NOEs'\n",
    "\n",
    "print(data.mol['AAAA'].g[s].shape)\n",
    "print(data_train.mol['AAAA'].g[s].shape)\n",
    "print(data_valid.mol['AAAA'].g[s].shape)\n",
    "print(data_valid.mol['AAAA'].g_new[s].shape)\n",
    "\n",
    "print(data_cv.mol['AAAA'].g[s].shape)\n",
    "print(data_test.mol['AAAA'].g[s].shape)"
   ]
  },
  {
   "cell_type": "code",
   "execution_count": 20,
   "metadata": {
    "execution": {
     "iopub.execute_input": "2025-03-03T09:58:16.565931Z",
     "iopub.status.busy": "2025-03-03T09:58:16.564920Z",
     "iopub.status.idle": "2025-03-03T09:58:16.896350Z",
     "shell.execute_reply": "2025-03-03T09:58:16.897127Z"
    }
   },
   "outputs": [
    {
     "name": "stdout",
     "output_type": "stream",
     "text": [
      "tot. n. of observables:  751\n",
      "n. of validation observables:  151\n",
      "n. of training observables 600\n"
     ]
    }
   ],
   "source": [
    "n_tot_exp = data.properties.tot_n_experiments(data)\n",
    "n_valid_exp = len(unwrap_dict(valid_obs))\n",
    "\n",
    "n_train_exp = n_tot_exp - n_valid_exp\n",
    "\n",
    "print('tot. n. of observables: ', n_tot_exp)\n",
    "print('n. of validation observables: ', n_valid_exp)\n",
    "print('n. of training observables', n_train_exp)"
   ]
  },
  {
   "cell_type": "markdown",
   "metadata": {},
   "source": [
    "Default values for the fraction of validation observables and frames are $20\\%$ for both (you can change this ratio by selecting **valid_frames_size** and/or **valid_obs_size** as input variables). By default, validation observables are evaluated only on validation frames; you can also consider both on training and validation frames, by setting **if_all_frames** = True."
   ]
  },
  {
   "cell_type": "code",
   "execution_count": 21,
   "metadata": {
    "execution": {
     "iopub.execute_input": "2025-03-03T09:58:16.903769Z",
     "iopub.status.busy": "2025-03-03T09:58:16.902766Z",
     "iopub.status.idle": "2025-03-03T09:58:17.831925Z",
     "shell.execute_reply": "2025-03-03T09:58:17.832727Z"
    }
   },
   "outputs": [
    {
     "name": "stdout",
     "output_type": "stream",
     "text": [
      "Input random_state employed both for valid_obs and valid_frames\n"
     ]
    }
   ],
   "source": [
    "# You can also select different values from the default ones\n",
    "data_train, data_valid, valid_obs, valid_frames = split_dataset(data, frames_fraction=0.2, obs_fraction=0.3,\n",
    "    random_state=4, if_all_frames=True)"
   ]
  },
  {
   "cell_type": "code",
   "execution_count": 22,
   "metadata": {
    "execution": {
     "iopub.execute_input": "2025-03-03T09:58:17.839393Z",
     "iopub.status.busy": "2025-03-03T09:58:17.838406Z",
     "iopub.status.idle": "2025-03-03T09:58:17.904975Z",
     "shell.execute_reply": "2025-03-03T09:58:17.905728Z"
    }
   },
   "outputs": [
    {
     "name": "stdout",
     "output_type": "stream",
     "text": [
      "Input random_state will not be used\n"
     ]
    }
   ],
   "source": [
    "# Alternatively, you can also directly pass valid_obs and valid_frames.\n",
    "out = split_dataset(data, valid_obs=valid_obs, valid_frames=valid_frames)\n",
    "\n",
    "data_train = out[0]\n",
    "data_valid = out[1]"
   ]
  },
  {
   "cell_type": "markdown",
   "metadata": {},
   "source": [
    "In any case, you can now scan over different values of $\\alpha$ for a given partition of the full data set into training and validation set. Let's work directly with logarithms in base 10, in order to explore several orders of magnitude for $\\alpha$.\n",
    "\n",
    "Let's pass `data_valid` as input to `minimizer`: after the minimization of the loss function on `data_train`, relevant properties (such as $D_{KL}$, $\\chi^2$, loss function) are evaluated on the validation frames and a further $\\chi^2$ is evaluated on validation observables."
   ]
  },
  {
   "cell_type": "code",
   "execution_count": 23,
   "metadata": {
    "execution": {
     "iopub.execute_input": "2025-03-03T09:58:17.914785Z",
     "iopub.status.busy": "2025-03-03T09:58:17.913791Z",
     "iopub.status.idle": "2025-03-03T10:04:21.854292Z",
     "shell.execute_reply": "2025-03-03T10:04:21.853430Z"
    }
   },
   "outputs": [],
   "source": [
    "log10_alphas = np.arange(-2, 7, 1)\n",
    "\n",
    "Results = {}\n",
    "\n",
    "for log10_alpha in log10_alphas:\n",
    "    print(log10_alpha)\n",
    "\n",
    "    alpha = 10**np.float64(log10_alpha)\n",
    "    Results[log10_alpha] = minimizer(data_train, alpha=alpha, data_valid=data_valid)\n",
    "\n",
    "    clear_output()"
   ]
  },
  {
   "cell_type": "code",
   "execution_count": 24,
   "metadata": {
    "execution": {
     "iopub.execute_input": "2025-03-03T10:04:21.862765Z",
     "iopub.status.busy": "2025-03-03T10:04:21.861766Z",
     "iopub.status.idle": "2025-03-03T10:04:21.867348Z",
     "shell.execute_reply": "2025-03-03T10:04:21.866345Z"
    }
   },
   "outputs": [
    {
     "data": {
      "text/plain": [
       "dict_keys(['loss', 'min_lambdas', 'minis', 'time', 'D_KL_alpha', 'abs_difference', 'av_g', 'chi2', 'logZ_new', 'weights_new', 'loss_valid', 'D_KL_alpha_valid', 'abs_difference_valid', 'av_g_valid', 'chi2_valid', 'logZ_new_valid', 'weights_new_valid', 'avg_new_obs', 'chi2_new_obs'])"
      ]
     },
     "execution_count": 24,
     "metadata": {},
     "output_type": "execute_result"
    }
   ],
   "source": [
    "vars(Results[log10_alpha]).keys()"
   ]
  },
  {
   "cell_type": "markdown",
   "metadata": {},
   "source": [
    "For each value of the hyperparameter $\\alpha$, we now have corresponding quantities for validation frames (such as **loss_valid**, **D_KL_alpha_valid**, **av_g_valid**, **chi2_valid**, **weights_new_valid**) and for validation observables (**avg_new_obs** and **chi2_new_obs**)."
   ]
  },
  {
   "cell_type": "markdown",
   "metadata": {},
   "source": [
    "Let's compare the loss function for training set and validation set (new frames):\n",
    "- at high values of $\\alpha$, the two values almost overlap;\n",
    "- decreasing $\\alpha$, both the two loss functions decrease, except that the one on the validation at a certain point starts to increase marking overfitting."
   ]
  },
  {
   "cell_type": "code",
   "execution_count": 25,
   "metadata": {
    "execution": {
     "iopub.execute_input": "2025-03-03T10:04:21.901329Z",
     "iopub.status.busy": "2025-03-03T10:04:21.896044Z",
     "iopub.status.idle": "2025-03-03T10:04:22.282216Z",
     "shell.execute_reply": "2025-03-03T10:04:22.283198Z"
    }
   },
   "outputs": [
    {
     "data": {
      "image/png": "[encoded data removed]",
      "text/plain": [
       "<Figure size 432x288 with 1 Axes>"
      ]
     },
     "metadata": {
      "needs_background": "light"
     },
     "output_type": "display_data"
    }
   ],
   "source": [
    "loss = [Results[log10_alpha].loss for log10_alpha in log10_alphas]\n",
    "loss_valid = [Results[log10_alpha].loss_valid for log10_alpha in log10_alphas]\n",
    "\n",
    "plt.title('loss function')\n",
    "plt.plot(log10_alphas, loss, '.--', label = 'training')\n",
    "plt.plot(log10_alphas, loss_valid, '.--', label = 'validation')\n",
    "plt.xlabel(r'$\\log_{10}\\alpha$')\n",
    "plt.legend()\n",
    "plt.grid()"
   ]
  },
  {
   "cell_type": "code",
   "execution_count": 26,
   "metadata": {
    "execution": {
     "iopub.execute_input": "2025-03-03T10:04:22.293120Z",
     "iopub.status.busy": "2025-03-03T10:04:22.292095Z",
     "iopub.status.idle": "2025-03-03T10:04:22.771843Z",
     "shell.execute_reply": "2025-03-03T10:04:22.771032Z"
    }
   },
   "outputs": [
    {
     "data": {
      "image/png": "[encoded data removed]",
      "text/plain": [
       "<Figure size 432x288 with 1 Axes>"
      ]
     },
     "metadata": {
      "needs_background": "light"
     },
     "output_type": "display_data"
    }
   ],
   "source": [
    "D_KL_train = [np.sum(unwrap_dict(Results[log10_alpha].D_KL_alpha)) for log10_alpha in log10_alphas]\n",
    "D_KL_valid = [np.sum(unwrap_dict(Results[log10_alpha].D_KL_alpha_valid)) for log10_alpha in log10_alphas]\n",
    "\n",
    "plt.title('$D_{KL}$')\n",
    "plt.plot(D_KL_train, '.--', label = 'training')\n",
    "plt.plot(D_KL_valid, '.--', label = 'validation')\n",
    "plt.xlabel(r'$\\log_{10}\\alpha$')\n",
    "plt.legend()\n",
    "plt.grid()"
   ]
  },
  {
   "cell_type": "markdown",
   "metadata": {},
   "source": [
    "Now, the $\\chi^2$, including also validation observables"
   ]
  },
  {
   "cell_type": "code",
   "execution_count": 27,
   "metadata": {
    "execution": {
     "iopub.execute_input": "2025-03-03T10:04:22.783135Z",
     "iopub.status.busy": "2025-03-03T10:04:22.781938Z",
     "iopub.status.idle": "2025-03-03T10:04:23.736936Z",
     "shell.execute_reply": "2025-03-03T10:04:23.737795Z"
    }
   },
   "outputs": [],
   "source": [
    "chi2s = [np.sum(unwrap_dict(Results[log10_alpha].chi2)) for log10_alpha in log10_alphas]\n",
    "n_obs_train = data_train.properties.tot_n_experiments(data_train)\n",
    "\n",
    "red_chi2s = np.array(chi2s)/n_obs_train\n",
    "\n",
    "chi2s_valid1 = [np.sum(unwrap_dict(Results[log10_alpha].chi2_valid)) for log10_alpha in log10_alphas]  # .chi2_valid\n",
    "red_chi2s_valid1 = np.array(chi2s_valid1)/n_obs_train\n",
    "\n",
    "chi2s_valid2 = [np.sum(unwrap_dict(Results[log10_alpha].chi2_new_obs)) for log10_alpha in log10_alphas]  # .chi2_valid\n",
    "n_obs_valid = len(unwrap_dict(valid_obs))\n",
    "\n",
    "red_chi2s_valid2 = np.array(chi2s_valid2)/n_obs_valid"
   ]
  },
  {
   "cell_type": "code",
   "execution_count": 28,
   "metadata": {
    "execution": {
     "iopub.execute_input": "2025-03-03T10:04:23.773791Z",
     "iopub.status.busy": "2025-03-03T10:04:23.772784Z",
     "iopub.status.idle": "2025-03-03T10:04:24.769997Z",
     "shell.execute_reply": "2025-03-03T10:04:24.769138Z"
    }
   },
   "outputs": [
    {
     "data": {
      "image/png": "[encoded data removed]",
      "text/plain": [
       "<Figure size 432x288 with 1 Axes>"
      ]
     },
     "metadata": {
      "needs_background": "light"
     },
     "output_type": "display_data"
    }
   ],
   "source": [
    "plt.plot(log10_alphas, red_chi2s, '.--', label = 'training')\n",
    "plt.plot(log10_alphas, red_chi2s_valid1, '.--', label = 'valid. frames')\n",
    "plt.plot(log10_alphas, red_chi2s_valid2, '.--', label = 'valid. observables')\n",
    "\n",
    "plt.legend()\n",
    "plt.title('$\\chi^2$')\n",
    "plt.xlabel(r'$\\log_{10}\\alpha$')\n",
    "plt.yscale('log')\n",
    "plt.grid()"
   ]
  },
  {
   "cell_type": "markdown",
   "metadata": {},
   "source": [
    "### d. Determine optimal hyper parameter $\\alpha$ through cross validation (automatic optimization)"
   ]
  },
  {
   "cell_type": "markdown",
   "metadata": {},
   "source": [
    "Rather than performing a scan over the hyperparameter $\\alpha$, we now minimize the $\\chi^2$ on the validation set (computed at optimal parameters obtained in training) with respect to $\\alpha$."
   ]
  },
  {
   "cell_type": "code",
   "execution_count": 29,
   "metadata": {
    "execution": {
     "iopub.execute_input": "2025-03-03T10:04:24.776448Z",
     "iopub.status.busy": "2025-03-03T10:04:24.775410Z",
     "iopub.status.idle": "2025-03-03T10:04:24.779548Z",
     "shell.execute_reply": "2025-03-03T10:04:24.778703Z"
    }
   },
   "outputs": [],
   "source": [
    "starting_alpha = 10**5"
   ]
  },
  {
   "cell_type": "markdown",
   "metadata": {},
   "source": [
    "By default, it is `which_set = 'valid_frames'` (rather than `'validation'` or `'training'`), namely the cross validation is performed on the $\\chi^2$ evaluated on the same observables as training but left-out frames of the trajectory (you can also select `which_set = 'validation'`, which means, $\\chi^2$ on left-out observables)."
   ]
  },
  {
   "cell_type": "code",
   "execution_count": 30,
   "metadata": {
    "execution": {
     "iopub.execute_input": "2025-03-03T10:04:24.786893Z",
     "iopub.status.busy": "2025-03-03T10:04:24.785854Z",
     "iopub.status.idle": "2025-03-03T10:12:17.991334Z",
     "shell.execute_reply": "2025-03-03T10:12:17.992159Z"
    }
   },
   "outputs": [
    {
     "name": "stdout",
     "output_type": "stream",
     "text": [
      "References for MDRefine package:\n",
      "I. Gilardoni, V. Piomponi, T. Fröhlking, and G. Bussi, “MDRefine: a Python package for refining Molecular Dynamics trajectories with experimental data”, arxiv (2024)\n",
      "\n",
      "References for Ensemble Refinement:\n",
      "J. W. Pitera and J. D. Chodera, “On the use of experimental observations to bias simulated ensembles”, J. Chem. Theory Comp. 8, 3445–3451 (2012).\n",
      "\n",
      "G. Hummer and J. Köfinger, “Bayesian ensemble refinement by replica simulations and reweighting”, J. Chem. Phys. 143, 243150 (2015).\n",
      "\n",
      "A. Cesari, A. Gil-Ley, and G. Bussi, “Combining simulations and solution experiments as a paradigm for RNA force field refinement”, J. Chem. Theory Comp. 12, 6192–6200 (2016).\n",
      "\n",
      "A. Cesari, S. Reißer, and G. Bussi, “Using the maximum entropy principle to combine simulations and solution experiments”, Computation 6, 15 (2018).\n",
      "\n",
      "J. Köfinger, L. S. Stelzl, K. Reuter, C. Allande, K. Reichel, and G. Hummer, “Efficient ensemble refinement by reweighting”, J. Chem. Theory Comput. 15, 3390–3401 (2019)\n",
      "\n",
      "\n",
      "\n",
      "--------------------------------------------------------------------------\n",
      "Input random_state employed both for valid_obs and valid_frames\n",
      "Input random_state employed both for valid_obs and valid_frames\n",
      "\n",
      "log10 hyperpars:  [('alpha', 5.0)]\n",
      "av. chi2:  25607.55651929949\n",
      "av. gradient:  [36813.8953935]\n",
      "\n",
      "log10 hyperpars:  [('alpha', 4.0)]\n",
      "av. chi2:  4490.225226453001\n",
      "av. gradient:  [8143.0062865]\n",
      "\n",
      "log10 hyperpars:  [('alpha', 3.7159834752206082)]\n",
      "av. chi2:  2732.3166765376304\n",
      "av. gradient:  [4562.48803113]\n",
      "\n",
      "log10 hyperpars:  [('alpha', 3.354074415545457)]\n",
      "av. chi2:  1572.0950828065904\n",
      "av. gradient:  [2140.48798539]\n",
      "\n",
      "log10 hyperpars:  [('alpha', 3.034230493411457)]\n",
      "av. chi2:  1082.182207688792\n",
      "av. gradient:  [1041.94669875]\n",
      "\n",
      "log10 hyperpars:  [('alpha', 2.7308642723758587)]\n",
      "av. chi2:  862.1052307687727\n",
      "av. gradient:  [458.95570836]\n",
      "\n",
      "log10 hyperpars:  [('alpha', 2.4920412696844068)]\n",
      "av. chi2:  772.8399634677315\n",
      "av. gradient:  [264.1879041]\n",
      "\n",
      "log10 hyperpars:  [('alpha', 2.168095796379187)]\n",
      "av. chi2:  730.0427958205421\n",
      "av. gradient:  [21.01993272]\n",
      "\n",
      "log10 hyperpars:  [('alpha', 2.1400932925336735)]\n",
      "av. chi2:  728.9507907968493\n",
      "av. gradient:  [5.69082552]\n"
     ]
    }
   ],
   "source": [
    "mini = hyper_minimizer(data, starting_alpha=starting_alpha, random_states=2, which_set='valid_frames', gtol=0.5)"
   ]
  },
  {
   "cell_type": "code",
   "execution_count": 31,
   "metadata": {
    "execution": {
     "iopub.execute_input": "2025-03-03T10:12:18.000767Z",
     "iopub.status.busy": "2025-03-03T10:12:17.999767Z",
     "iopub.status.idle": "2025-03-03T10:12:18.005417Z",
     "shell.execute_reply": "2025-03-03T10:12:18.006232Z"
    }
   },
   "outputs": [
    {
     "data": {
      "text/plain": [
       "          fun: DeviceArray(728.9507908, dtype=float64)\n",
       "     hess_inv: <1x1 LbfgsInvHessProduct with dtype=float64>\n",
       " intermediate: <MDRefine.hyperminimizer.hyper_minimizer.<locals>.hyper_intermediate_class object at 0x7f94b4275e10>\n",
       "          jac: array([5.69082552])\n",
       "      message: b'CONVERGENCE: REL_REDUCTION_OF_F_<=_FACTR*EPSMCH'\n",
       "         nfev: 9\n",
       "          nit: 8\n",
       "         njev: 9\n",
       "       status: 0\n",
       "      success: True\n",
       "            x: array([2.14009329])"
      ]
     },
     "execution_count": 31,
     "metadata": {},
     "output_type": "execute_result"
    }
   ],
   "source": [
    "mini"
   ]
  },
  {
   "cell_type": "code",
   "execution_count": 32,
   "metadata": {
    "execution": {
     "iopub.execute_input": "2025-03-03T10:12:18.012439Z",
     "iopub.status.busy": "2025-03-03T10:12:18.011440Z",
     "iopub.status.idle": "2025-03-03T10:12:18.016610Z",
     "shell.execute_reply": "2025-03-03T10:12:18.015810Z"
    }
   },
   "outputs": [
    {
     "name": "stdout",
     "output_type": "stream",
     "text": [
      "[138.06808223]\n"
     ]
    }
   ],
   "source": [
    "optimal_alpha = 10**(mini.x)\n",
    "\n",
    "print(optimal_alpha)"
   ]
  },
  {
   "cell_type": "markdown",
   "metadata": {},
   "source": [
    "This optimal value of the hyperparameter is compatible with that reported in the previous plot. We can now minimize the loss function at this optimal value."
   ]
  },
  {
   "cell_type": "code",
   "execution_count": 33,
   "metadata": {
    "execution": {
     "iopub.execute_input": "2025-03-03T10:12:18.022627Z",
     "iopub.status.busy": "2025-03-03T10:12:18.021633Z",
     "iopub.status.idle": "2025-03-03T10:12:43.785462Z",
     "shell.execute_reply": "2025-03-03T10:12:43.786263Z"
    }
   },
   "outputs": [
    {
     "name": "stdout",
     "output_type": "stream",
     "text": [
      "References for MDRefine package:\n",
      "I. Gilardoni, V. Piomponi, T. Fröhlking, and G. Bussi, “MDRefine: a Python package for refining Molecular Dynamics trajectories with experimental data”, arxiv (2024)\n",
      "\n",
      "References for Ensemble Refinement:\n",
      "J. W. Pitera and J. D. Chodera, “On the use of experimental observations to bias simulated ensembles”, J. Chem. Theory Comp. 8, 3445–3451 (2012).\n",
      "\n",
      "G. Hummer and J. Köfinger, “Bayesian ensemble refinement by replica simulations and reweighting”, J. Chem. Phys. 143, 243150 (2015).\n",
      "\n",
      "A. Cesari, A. Gil-Ley, and G. Bussi, “Combining simulations and solution experiments as a paradigm for RNA force field refinement”, J. Chem. Theory Comp. 12, 6192–6200 (2016).\n",
      "\n",
      "A. Cesari, S. Reißer, and G. Bussi, “Using the maximum entropy principle to combine simulations and solution experiments”, Computation 6, 15 (2018).\n",
      "\n",
      "J. Köfinger, L. S. Stelzl, K. Reuter, C. Allande, K. Reichel, and G. Hummer, “Efficient ensemble refinement by reweighting”, J. Chem. Theory Comput. 15, 3390–3401 (2019)\n",
      "\n",
      "\n",
      "\n",
      "--------------------------------------------------------------------------\n"
     ]
    }
   ],
   "source": [
    "Result = minimizer(data, alpha=optimal_alpha)"
   ]
  },
  {
   "cell_type": "markdown",
   "metadata": {},
   "source": [
    "### e. Do all together with `MDRefinement`"
   ]
  },
  {
   "cell_type": "markdown",
   "metadata": {},
   "source": [
    "All these steps are consequentially performed by `MDRefinement`, which first loads the stored data, then determine the optimal hyperparameters through automatic minimization of validation $\\chi^2$ and finally minimize the loss function at optimized value of the hyperparameter."
   ]
  },
  {
   "cell_type": "code",
   "execution_count": 34,
   "metadata": {
    "execution": {
     "iopub.execute_input": "2025-03-03T10:12:43.804334Z",
     "iopub.status.busy": "2025-03-03T10:12:43.796739Z",
     "iopub.status.idle": "2025-03-03T10:20:43.959145Z",
     "shell.execute_reply": "2025-03-03T10:20:43.960771Z"
    }
   },
   "outputs": [
    {
     "name": "stdout",
     "output_type": "stream",
     "text": [
      "References for MDRefine package:\n",
      "I. Gilardoni, V. Piomponi, T. Fröhlking, and G. Bussi, “MDRefine: a Python package for refining Molecular Dynamics trajectories with experimental data”, arxiv (2024)\n",
      "\n",
      "References for Ensemble Refinement:\n",
      "J. W. Pitera and J. D. Chodera, “On the use of experimental observations to bias simulated ensembles”, J. Chem. Theory Comp. 8, 3445–3451 (2012).\n",
      "\n",
      "G. Hummer and J. Köfinger, “Bayesian ensemble refinement by replica simulations and reweighting”, J. Chem. Phys. 143, 243150 (2015).\n",
      "\n",
      "A. Cesari, A. Gil-Ley, and G. Bussi, “Combining simulations and solution experiments as a paradigm for RNA force field refinement”, J. Chem. Theory Comp. 12, 6192–6200 (2016).\n",
      "\n",
      "A. Cesari, S. Reißer, and G. Bussi, “Using the maximum entropy principle to combine simulations and solution experiments”, Computation 6, 15 (2018).\n",
      "\n",
      "J. Köfinger, L. S. Stelzl, K. Reuter, C. Allande, K. Reichel, and G. Hummer, “Efficient ensemble refinement by reweighting”, J. Chem. Theory Comput. 15, 3390–3401 (2019)\n",
      "\n",
      "\n",
      "\n",
      "--------------------------------------------------------------------------\n",
      "\n",
      "search for optimal hyperparameters ...\n",
      "Input random_state employed both for valid_obs and valid_frames\n",
      "Input random_state employed both for valid_obs and valid_frames\n",
      "\n",
      "log10 hyperpars:  [('alpha', 5.0)]\n",
      "av. chi2:  25977.1627959455\n",
      "av. gradient:  [37147.46558673]\n",
      "\n",
      "log10 hyperpars:  [('alpha', 4.0)]\n",
      "av. chi2:  3922.614510354972\n",
      "av. gradient:  [8289.5946479]\n",
      "\n",
      "log10 hyperpars:  [('alpha', 3.712744066758174)]\n",
      "av. chi2:  2154.8961942564247\n",
      "av. gradient:  [4388.13120792]\n",
      "\n",
      "log10 hyperpars:  [('alpha', 3.3896558859485597)]\n",
      "av. chi2:  1155.3725453053967\n",
      "av. gradient:  [2075.74301486]\n",
      "\n",
      "log10 hyperpars:  [('alpha', 3.0996319027300907)]\n",
      "av. chi2:  722.9506506167934\n",
      "av. gradient:  [1020.10669195]\n",
      "\n",
      "log10 hyperpars:  [('alpha', 2.819369278485003)]\n",
      "av. chi2:  518.5288884374684\n",
      "av. gradient:  [497.63946182]\n",
      "\n",
      "log10 hyperpars:  [('alpha', 2.552424801486333)]\n",
      "av. chi2:  424.60649992510906\n",
      "av. gradient:  [234.12740501]\n",
      "\n",
      "log10 hyperpars:  [('alpha', 2.3152477309634025)]\n",
      "av. chi2:  385.72509816226756\n",
      "av. gradient:  [107.98771182]\n",
      "\n",
      "log10 hyperpars:  [('alpha', 2.112201342510859)]\n",
      "av. chi2:  371.26238710258053\n",
      "av. gradient:  [40.80089791]\n",
      "\n",
      "optimal hyperparameters: alpha: 129.47959804413819 \n",
      "\n",
      "refinement with optimal hyperparameters...\n",
      "\n",
      "done\n"
     ]
    }
   ],
   "source": [
    "Result = MDRefinement(data_cv, stride=stride, starting_alpha=1e5, random_states=2, which_set='validation', gtol=0.5)"
   ]
  },
  {
   "cell_type": "code",
   "execution_count": 35,
   "metadata": {
    "execution": {
     "iopub.execute_input": "2025-03-03T10:20:44.006817Z",
     "iopub.status.busy": "2025-03-03T10:20:43.993478Z",
     "iopub.status.idle": "2025-03-03T10:20:44.055612Z",
     "shell.execute_reply": "2025-03-03T10:20:44.057245Z"
    }
   },
   "outputs": [
    {
     "data": {
      "text/plain": [
       "{'loss': DeviceArray(200.36222494, dtype=float64),\n",
       " 'min_lambdas': {'AAAA': {'backbone1_gamma_3J': DeviceArray([-0.00511928,  0.00095846,  0.00332249,  0.00023635,\n",
       "                 0.00109534, -0.00042617], dtype=float64),\n",
       "   'backbone2_beta_epsilon_3J': DeviceArray([-0.00664073,  0.00464869, -0.00663767,  0.00252055,\n",
       "                 0.00495067, -0.00856623, -0.00060791,  0.00642053],            dtype=float64),\n",
       "   'sugar_3J': DeviceArray([0.00650644, 0.00440507, 0.00794992, 0.00466447, 0.00487543,\n",
       "                0.00289648, 0.00192181, 0.00443837, 0.00142657],            dtype=float64),\n",
       "   'NOEs': DeviceArray([ 40.69060578, -15.57410927,  45.82343438,  37.30946801,\n",
       "                -23.95332484,  14.94470186,   0.40127226,  11.95659729,\n",
       "                 32.64658143, 296.97697852, -13.86641859, -28.3746417 ,\n",
       "                 53.0759489 ,  -6.46939689, 111.05878814,   3.08925931,\n",
       "                 34.94210913,   0.47905243, -26.1835347 , 153.84131494,\n",
       "                 39.23376429,  97.10085893, 174.811967  ,  84.54024937,\n",
       "                 -2.37502479,  -4.9818461 , -42.71677112, 102.21566587,\n",
       "                 24.66094983,  14.12725626, 130.39439056], dtype=float64),\n",
       "   'uNOEs': DeviceArray([  0.        ,   0.        ,   0.        , 280.30062887,\n",
       "                  0.        ,   0.        ,   0.        ,   0.        ,\n",
       "                  0.        ,   0.        ,   0.        ,   0.        ,\n",
       "                  0.        ,   0.        ,   0.        ,   0.        ,\n",
       "                  0.        ,   0.        ,   0.        ,   0.        ,\n",
       "                  0.        ,   0.        ,   0.        ,   0.        ,\n",
       "                  0.        , 261.51472082,   0.        ,   0.        ,\n",
       "                  0.        ,   0.        ,   0.        ,   0.        ,\n",
       "                  0.        , 453.24238816,   0.        ,   0.        ,\n",
       "                  0.        ,   0.        ,   0.        ,   0.        ,\n",
       "                  0.        ,   0.        ,   0.        ,   0.        ,\n",
       "                  0.        ,   0.        ,   0.        ,   0.        ,\n",
       "                  0.        ,   0.        ,   0.        ,   0.        ,\n",
       "                  0.        ,   0.        ,   0.        ,   0.        ,\n",
       "                  0.        ,   0.        ,   0.        ,   0.        ,\n",
       "                  0.        ,   0.        ,   0.        ,  69.54841487,\n",
       "                  0.        ,  50.79230211,   0.        ,   0.        ,\n",
       "                355.73079785,   0.        ,   0.        ,   0.        ,\n",
       "                  0.        ,   0.        ,   0.        ,   0.        ,\n",
       "                  0.        ,   0.        ,   0.        ,   0.        ,\n",
       "                217.49826153,   0.        ,   0.        ,   0.        ,\n",
       "                  0.        ,   0.        , 115.35195486,   0.        ,\n",
       "                  0.        ,   0.        ,   0.        ,   0.        ,\n",
       "                  0.        ,   0.        ,  51.57516958,   0.        ,\n",
       "                  0.        ,   0.        ,   0.        ,   0.        ,\n",
       "                  0.        ,   0.        ,   0.        ,   0.        ,\n",
       "                  0.        ,   0.        ,   0.        ,   0.        ,\n",
       "                159.14017345,   0.        ,   0.        ,   0.        ,\n",
       "                  0.        ,   0.        ,   0.        ,   0.        ,\n",
       "                  0.        ,   0.        ,   0.        ,   0.        ,\n",
       "                  0.        ,   0.        ,   0.        ,   0.        ,\n",
       "                  0.        ,   0.        ,   0.        ,   0.        ,\n",
       "                  0.        ,   0.        ,   0.        ,   0.        ,\n",
       "                  0.        ,   0.        ,   0.        ,   0.        ,\n",
       "                  0.        ,   0.        ,   7.22612047,   0.        ,\n",
       "                  0.        ,   0.        ,   0.        ,   0.        ,\n",
       "                  0.        ,   0.        ,   0.        ,   0.        ,\n",
       "                  0.        ,   0.        ,   0.        ,   0.        ,\n",
       "                  0.        ,   0.        ,   0.        ,   0.        ,\n",
       "                  0.        ,   0.        ,   0.        ,   0.        ,\n",
       "                  0.        ,   0.        ,   0.        ,   0.        ,\n",
       "                  0.        ,   0.        ,   0.        ,   0.        ,\n",
       "                  0.        ,   0.        ,   0.        ,   0.        ,\n",
       "                  0.        ,   0.        ,   0.        ,   0.        ,\n",
       "                  0.        ,   0.        ,   0.        ,   0.        ,\n",
       "                  0.        ,   0.        ,   0.        ,   0.        ,\n",
       "                  0.        ,   0.        ,   0.        ,   0.        ,\n",
       "                  0.        ,   0.        ,   0.        ,   0.        ],            dtype=float64)},\n",
       "  'CAAU': {'backbone1_gamma_3J': DeviceArray([-0.00457124, -0.00191608, -0.00069904,  0.00045525,\n",
       "                 0.00226094,  0.00318894,  0.00315155], dtype=float64),\n",
       "   'backbone2_beta_epsilon_3J': DeviceArray([ 0.00020915, -0.00852606,  0.00102814, -0.00624689,\n",
       "                -0.00269306, -0.00200911], dtype=float64),\n",
       "   'sugar_3J': DeviceArray([ 0.00521026,  0.00474297,  0.0019429 , -0.00108634,\n",
       "                 0.00035839,  0.00066307,  0.00528727,  0.00907111,\n",
       "                 0.00449166], dtype=float64),\n",
       "   'NOEs': DeviceArray([ 39.91273419,  87.64528455,  14.69753958,  19.96066607,\n",
       "                 19.471528  , 120.72445592, -25.3915009 ,  49.18890345,\n",
       "                 99.83959656,  77.56547572,  14.51983493, -24.8932536 ,\n",
       "                -45.9298188 ,   2.69012648,  31.29416635,  -3.0246055 ,\n",
       "                 -8.20610227, 157.14448596,  37.69417112,   0.79436755,\n",
       "                -20.91588626, -25.0161966 ,   8.42037909,  13.96063853,\n",
       "                  0.82600075,   3.26303483,  -1.51720077,   3.26642372,\n",
       "                 19.45413788, -85.78223646,  16.5170579 ,  41.4769945 ,\n",
       "                 16.47910887], dtype=float64),\n",
       "   'uNOEs': DeviceArray([  0.        ,   0.        ,   0.        ,   0.        ,\n",
       "                  0.        ,   0.        ,   0.        ,   0.        ,\n",
       "                  0.        ,   0.        ,   0.        ,   0.        ,\n",
       "                  0.        ,   0.        ,   0.        ,   0.        ,\n",
       "                  0.        ,   0.        ,   0.        ,   0.        ,\n",
       "                  0.        ,   0.        ,   0.        ,   0.        ,\n",
       "                273.7811405 ,   0.        ,   0.        ,   0.        ,\n",
       "                  0.        ,   0.        ,   0.        ,   0.        ,\n",
       "                  0.        ,   0.        , 145.69764384, 349.10058805,\n",
       "                  0.        ,   0.        , 148.50194753,  86.51884535,\n",
       "                  0.        ,   0.        ,   0.        ,   0.        ,\n",
       "                  0.        ,   0.        ,   0.        ,   0.        ,\n",
       "                  0.        ,   0.        ,   0.        ,   0.        ,\n",
       "                  0.        ,  44.52604491,   0.        ,   0.        ,\n",
       "                  0.        ,   0.        ,   0.        ,   0.        ,\n",
       "                  0.        ,   0.        ,   0.        ,   0.        ,\n",
       "                  0.        ,   0.        ,   0.        , 227.15228836,\n",
       "                  0.        ,   0.        ,   0.        ,   0.        ,\n",
       "                  0.        ,   0.        ,   0.        ,   0.        ,\n",
       "                  0.        ,   0.        ,   0.        ,   0.        ,\n",
       "                  0.        ,   0.        ,   0.        ,   0.        ,\n",
       "                  0.        ,   0.        ,   0.        ,   0.        ,\n",
       "                  0.        ,   0.        ,   0.        ,   0.        ,\n",
       "                  0.        ,   0.        ,   0.        ,   0.        ,\n",
       "                  0.        ,   0.        ,   0.        ,   0.        ,\n",
       "                  0.        ,   0.        ,   0.        ,   0.        ,\n",
       "                  0.        ,   0.        , 201.77791848,   0.        ,\n",
       "                  0.        ,   0.        ,   0.        , 145.96101073,\n",
       "                  0.        ,   0.        ,   0.        ,   0.        ,\n",
       "                  0.        ,   0.        ,   0.        ,   0.        ,\n",
       "                  0.        ,   0.        ,   0.        ,   0.        ,\n",
       "                  0.        ,   0.        ,   0.        ,   0.        ,\n",
       "                  0.        ,   0.        ,   0.        ,   0.        ,\n",
       "                  0.        , 409.96152128,   0.        ,   0.        ,\n",
       "                  0.        ,   0.        ,   0.        ,   0.        ,\n",
       "                  0.        , 482.35518174, 755.53331377,   0.        ,\n",
       "                  0.        ,   0.        ,   0.        ,   0.        ,\n",
       "                  0.        ,   0.        ,   0.        ,   0.        ,\n",
       "                  0.        ,   0.        ,   0.        , 163.07419232,\n",
       "                  0.        ,   0.        ,   0.        ,   0.        ,\n",
       "                  0.        ,   0.        ,  97.30599063,   0.        ,\n",
       "                  0.        ,   0.        ,   0.        ,   0.        ,\n",
       "                  0.        ,   0.        ,   0.        ,   0.        ,\n",
       "                  0.        ,   0.        ,   0.        ,   0.        ,\n",
       "                  0.        ,   0.        ,   0.        ,   0.        ,\n",
       "                  0.        ,   0.        ,   0.        ,   0.        ,\n",
       "                  0.        ,   0.        ,   0.        ,   0.        ,\n",
       "                  0.        ,   0.        ,   0.        ,   0.        ,\n",
       "                  0.        ,   0.        ,   0.        ,   0.        ,\n",
       "                  0.        ,   0.        ,   0.        ,   0.        ,\n",
       "                  0.        ,   0.        ,   0.        ,   0.        ,\n",
       "                  0.        ,  47.16947443,   0.        ,   0.        ,\n",
       "                  0.        ,   0.        ,   0.        ,   0.        ,\n",
       "                  0.        ,   0.        ,   0.        ,   0.        ,\n",
       "                  0.        ,   0.        ,   0.        ,   0.        ,\n",
       "                  0.        ,   0.        ,   0.        ,   0.        ,\n",
       "                  0.        ,   0.        ,   0.        ,   0.        ,\n",
       "                  0.        ,   0.        ,   0.        ,   0.        ,\n",
       "                  0.        ,   0.        ,   0.        ,   0.        ,\n",
       "                  0.        ,   0.        ,   0.        ,   0.        ,\n",
       "                  0.        ,   0.        ,   0.        ,   0.        ,\n",
       "                  0.        ,   0.        ,   0.        ,   0.        ,\n",
       "                  0.        ,   0.        ,   0.        ,   0.        ,\n",
       "                  0.        ,   0.        ,   0.        ,   0.        ,\n",
       "                  0.        ,   0.        ,   0.        ,   0.        ,\n",
       "                  0.        ,   0.        ,   0.        ,   0.        ,\n",
       "                  0.        ,   0.        ,   0.        ,   0.        ,\n",
       "                  0.        ,   0.        ,   0.        ,   0.        ,\n",
       "                  0.        ,   0.        ,   0.        ,   0.        ,\n",
       "                  0.        ,   0.        ,   0.        ,   0.        ,\n",
       "                  0.        , 140.95788879,   0.        ,   0.        ,\n",
       "                  0.        ,   0.        ,   0.        ,   0.        ,\n",
       "                261.39582016,   0.        ,   0.        ,   0.        ,\n",
       "                  0.        ,   0.        ,   0.        ,   0.        ,\n",
       "                  0.        ,   0.        ,   0.        ], dtype=float64)}},\n",
       " 'minis': {'AAAA':       fun: DeviceArray(-0.393797, dtype=float64)\n",
       "   hess_inv: <246x246 LbfgsInvHessProduct with dtype=float64>\n",
       "        jac: array([-9.16191008e-05, -2.08278979e-04,  4.98203528e-04,  1.35846002e-05,\n",
       "         -2.89976376e-04, -3.50673484e-05, -3.28621804e-04,  1.07422936e-05,\n",
       "          2.27107245e-04,  2.34932705e-05,  4.58352882e-04,  4.62872866e-05,\n",
       "         -1.10438537e-04, -3.54489959e-04, -1.67998775e-04,  1.71739816e-04,\n",
       "          1.24262836e-04, -6.92045415e-05,  1.18077104e-04,  2.15916454e-04,\n",
       "          4.22565771e-05,  1.64357945e-05,  1.27115791e-05,  2.26515236e-04,\n",
       "          7.40481682e-06,  3.24005022e-05,  3.39765273e-05, -6.56142368e-04,\n",
       "          1.16054709e-04, -6.23582083e-05, -3.42323029e-04, -2.09675516e-05,\n",
       "          6.30773982e-05,  9.50046763e-05, -6.30496244e-04,  1.69513760e-04,\n",
       "         -9.88657062e-05,  5.82549219e-05,  2.76277832e-04, -1.37987315e-05,\n",
       "          1.16972001e-04, -1.74799076e-04, -5.86611143e-04,  2.72446240e-04,\n",
       "         -3.71386526e-05, -5.74820546e-04, -1.41882280e-04,  3.18415692e-05,\n",
       "          4.33002625e-05, -3.51195530e-04, -2.23954858e-04,  5.30846157e-04,\n",
       "         -9.90708350e-04,  2.60253910e-06,  1.13440267e+01,  2.44725071e-01,\n",
       "          2.39558645e+00, -3.52619242e-04,  1.10657538e+01,  8.77794286e-01,\n",
       "          1.21605255e+00,  7.06120586e-02,  6.02093090e-01,  3.54116830e-01,\n",
       "          1.97268140e+00,  2.09700043e+00,  4.99765371e-01,  5.26458134e+00,\n",
       "          4.83575863e-01,  5.18107719e-01,  9.75177646e-02,  1.41062210e+01,\n",
       "          1.08392152e+01,  1.94518796e+01,  1.60264009e+00,  1.62447329e+01,\n",
       "          8.95645162e+01,  5.62638126e+01,  3.54172810e+01, -1.67887522e-04,\n",
       "          9.27323173e+00,  2.40282221e+00,  1.57682732e+00,  2.24065457e-01,\n",
       "          1.20847640e+00,  1.44871319e+00,  1.13792584e-01, -3.39036648e-05,\n",
       "          2.17014189e+00,  3.15766655e+00,  1.74293574e+00,  1.33747321e-02,\n",
       "          9.06907398e-01,  9.97241813e-01,  2.46225133e-01,  1.55392327e+00,\n",
       "          8.50375810e-01,  9.33763029e-01,  1.56562586e-01,  1.01679778e-01,\n",
       "          2.39096135e-01,  2.16553378e+01,  5.85330329e+00,  6.74213041e-01,\n",
       "          1.47869497e+00,  4.60719772e-01,  1.16835069e+00,  6.07468164e+00,\n",
       "          1.75117774e-01,  7.72365913e+00,  3.55676747e-01,  1.07108472e-01,\n",
       "          2.03419582e+01,  1.04171434e+00,  6.61818019e+00,  1.77676491e+00,\n",
       "          7.33908944e-01, -3.09234910e-04,  9.99470360e-01,  2.08998088e-04,\n",
       "          3.48905698e+01,  2.10228642e+00, -2.39053380e-04,  1.51246074e-01,\n",
       "          2.37799276e+00,  4.27312729e-01,  2.25358534e-01,  1.63945394e+00,\n",
       "          6.24577818e+00,  1.38136124e+00,  3.12070411e+00,  2.16070702e+00,\n",
       "          5.40821548e-01,  1.31936491e-01,  5.04280013e-04,  4.71822243e-01,\n",
       "          8.32456527e-01,  2.49580885e+00,  1.81882329e+01,  1.14141708e+00,\n",
       "         -2.55438542e-04,  4.62463373e+00,  1.65172953e+00,  1.53854710e+01,\n",
       "          4.21569920e+00,  3.79469640e-01,  1.06335635e+00,  3.46298826e-01,\n",
       "         -1.07634749e-05,  8.58457840e-02,  1.64242963e-01,  3.46331327e+00,\n",
       "          7.22200342e+00,  1.69121057e+00,  7.75567779e+00,  2.46352636e-01,\n",
       "          2.41741334e+01,  1.05072572e+00,  1.09650710e+01,  6.26681315e+00,\n",
       "          7.75792532e+00,  4.62651476e-01, -1.19693837e-04,  1.96863481e-01,\n",
       "          9.45234164e-01,  1.66419476e-02,  6.83337392e-01,  3.85935690e+00,\n",
       "          2.12050728e+01,  3.95478532e+01,  1.00864424e+02,  1.84571075e+01,\n",
       "          7.97391270e-01,  6.97834574e-01,  9.72876088e-01,  3.45985917e-01,\n",
       "          2.69979177e+00,  3.41788845e+01,  3.31864183e+01,  1.61166213e+00,\n",
       "          5.22880870e-01,  1.42471017e+01,  8.76083850e+01,  1.23406119e+01,\n",
       "          7.86704833e+00,  4.62940358e-01,  1.19548332e+01,  2.56538128e-01,\n",
       "          2.14006790e+00,  1.13744871e+00,  8.05061041e+00,  1.43984582e+00,\n",
       "         -8.77365576e-05,  2.18031113e+00,  5.01022368e-01,  1.68015749e+00,\n",
       "          2.53960334e+00,  3.72554044e-01,  7.08044014e+00,  1.36956326e+01,\n",
       "          2.47368927e+00,  3.03885693e+02,  7.78939749e-01,  1.43357068e+00,\n",
       "          1.03942834e+00,  2.61561384e+00,  5.38910191e-01,  4.69409932e+00,\n",
       "          6.37199624e+00,  1.30652018e+01,  1.18633395e+00,  5.15432455e+01,\n",
       "          5.57974992e+00,  1.90141462e+00,  1.35158350e+00,  8.65035151e+00,\n",
       "          1.75585015e+01,  8.01388324e+00,  7.27023479e+00,  2.07027093e+02,\n",
       "          3.18722898e+00,  4.18315022e+00,  5.06540386e+01,  3.38235183e-01,\n",
       "          4.91907634e-01,  2.61089622e+00,  3.66654190e+00,  2.68479769e+00,\n",
       "          1.38499139e+01,  2.25772689e+00,  1.33830882e+01,  4.87272359e+01,\n",
       "          9.41670353e+00,  2.48975882e+01,  2.97273256e+01,  4.27585494e+01,\n",
       "          5.69448253e+01,  5.76770017e+00,  2.61785272e-01,  3.17980134e+00,\n",
       "          6.08164800e+00,  3.90754578e+00,  1.23892802e-01,  6.90747027e-01,\n",
       "          2.92287068e+00,  2.54136472e+01])\n",
       "    message: b'CONVERGENCE: NORM_OF_PROJECTED_GRADIENT_<=_PGTOL'\n",
       "       nfev: 197\n",
       "        nit: 173\n",
       "       njev: 197\n",
       "     status: 0\n",
       "    success: True\n",
       "          x: array([-1.09509079e-02,  2.38109131e-03,  6.12512923e-03,  4.93094809e-04,\n",
       "          2.75223240e-03, -6.84043362e-04, -1.96553595e-02,  6.78374999e-03,\n",
       "         -1.89653744e-02,  5.51257041e-03,  9.03524266e-03, -2.20754114e-02,\n",
       "         -1.07214980e-03,  1.23310595e-02,  2.81891738e-02,  5.46096897e-03,\n",
       "          3.21769538e-02,  1.64326326e-02,  1.57160515e-02,  9.15857133e-03,\n",
       "          2.24050942e-03,  1.20251446e-02,  6.37359307e-03,  7.41683953e-02,\n",
       "         -3.09770063e-03,  4.88453958e-02,  7.76979359e-02, -2.38372835e-03,\n",
       "          2.35069809e-02,  2.09335269e-04,  2.12383888e-02,  1.00058392e-01,\n",
       "          1.86912705e-01, -1.10897961e-02, -6.19706771e-04,  5.57410180e-02,\n",
       "         -1.58893983e-03,  1.22630360e-01,  4.15251620e-03,  1.61978035e-01,\n",
       "          1.54060604e-03, -6.41905425e-03,  7.02066571e-03,  2.07239961e-02,\n",
       "          1.35033835e-01,  4.57250880e-02,  3.79866832e-02, -6.33905913e-03,\n",
       "         -7.79836494e-03, -1.59210561e-02,  1.38644445e-01,  8.95476597e-02,\n",
       "          7.39555117e-04,  1.90956573e-01,  0.00000000e+00,  0.00000000e+00,\n",
       "          0.00000000e+00,  3.96082823e-02,  0.00000000e+00,  0.00000000e+00,\n",
       "          0.00000000e+00,  0.00000000e+00,  0.00000000e+00,  0.00000000e+00,\n",
       "          0.00000000e+00,  0.00000000e+00,  0.00000000e+00,  0.00000000e+00,\n",
       "          0.00000000e+00,  0.00000000e+00,  0.00000000e+00,  0.00000000e+00,\n",
       "          0.00000000e+00,  0.00000000e+00,  0.00000000e+00,  0.00000000e+00,\n",
       "          0.00000000e+00,  0.00000000e+00,  0.00000000e+00,  4.87028520e-02,\n",
       "          0.00000000e+00,  0.00000000e+00,  0.00000000e+00,  0.00000000e+00,\n",
       "          0.00000000e+00,  0.00000000e+00,  0.00000000e+00,  6.12229196e-01,\n",
       "          0.00000000e+00,  0.00000000e+00,  0.00000000e+00,  0.00000000e+00,\n",
       "          0.00000000e+00,  0.00000000e+00,  0.00000000e+00,  0.00000000e+00,\n",
       "          0.00000000e+00,  0.00000000e+00,  0.00000000e+00,  0.00000000e+00,\n",
       "          0.00000000e+00,  0.00000000e+00,  0.00000000e+00,  0.00000000e+00,\n",
       "          0.00000000e+00,  0.00000000e+00,  0.00000000e+00,  0.00000000e+00,\n",
       "          0.00000000e+00,  0.00000000e+00,  0.00000000e+00,  0.00000000e+00,\n",
       "          0.00000000e+00,  0.00000000e+00,  0.00000000e+00,  0.00000000e+00,\n",
       "          0.00000000e+00,  9.09196171e-02,  0.00000000e+00,  5.16524364e-02,\n",
       "          0.00000000e+00,  0.00000000e+00,  6.97322122e-02,  0.00000000e+00,\n",
       "          0.00000000e+00,  0.00000000e+00,  0.00000000e+00,  0.00000000e+00,\n",
       "          0.00000000e+00,  0.00000000e+00,  0.00000000e+00,  0.00000000e+00,\n",
       "          0.00000000e+00,  0.00000000e+00,  1.44385299e-01,  0.00000000e+00,\n",
       "          0.00000000e+00,  0.00000000e+00,  0.00000000e+00,  0.00000000e+00,\n",
       "          9.94386163e-02,  0.00000000e+00,  0.00000000e+00,  0.00000000e+00,\n",
       "          0.00000000e+00,  0.00000000e+00,  0.00000000e+00,  0.00000000e+00,\n",
       "          3.24137188e-02,  0.00000000e+00,  0.00000000e+00,  0.00000000e+00,\n",
       "          0.00000000e+00,  0.00000000e+00,  0.00000000e+00,  0.00000000e+00,\n",
       "          0.00000000e+00,  0.00000000e+00,  0.00000000e+00,  0.00000000e+00,\n",
       "          0.00000000e+00,  0.00000000e+00,  1.24765534e-01,  0.00000000e+00,\n",
       "          0.00000000e+00,  0.00000000e+00,  0.00000000e+00,  0.00000000e+00,\n",
       "          0.00000000e+00,  0.00000000e+00,  0.00000000e+00,  0.00000000e+00,\n",
       "          0.00000000e+00,  0.00000000e+00,  0.00000000e+00,  0.00000000e+00,\n",
       "          0.00000000e+00,  0.00000000e+00,  0.00000000e+00,  0.00000000e+00,\n",
       "          0.00000000e+00,  0.00000000e+00,  0.00000000e+00,  0.00000000e+00,\n",
       "          0.00000000e+00,  0.00000000e+00,  0.00000000e+00,  0.00000000e+00,\n",
       "          0.00000000e+00,  0.00000000e+00,  0.00000000e+00,  0.00000000e+00,\n",
       "          1.01702309e-02,  0.00000000e+00,  0.00000000e+00,  0.00000000e+00,\n",
       "          0.00000000e+00,  0.00000000e+00,  0.00000000e+00,  0.00000000e+00,\n",
       "          0.00000000e+00,  0.00000000e+00,  0.00000000e+00,  0.00000000e+00,\n",
       "          0.00000000e+00,  0.00000000e+00,  0.00000000e+00,  0.00000000e+00,\n",
       "          0.00000000e+00,  0.00000000e+00,  0.00000000e+00,  0.00000000e+00,\n",
       "          0.00000000e+00,  0.00000000e+00,  0.00000000e+00,  0.00000000e+00,\n",
       "          0.00000000e+00,  0.00000000e+00,  0.00000000e+00,  0.00000000e+00,\n",
       "          0.00000000e+00,  0.00000000e+00,  0.00000000e+00,  0.00000000e+00,\n",
       "          0.00000000e+00,  0.00000000e+00,  0.00000000e+00,  0.00000000e+00,\n",
       "          0.00000000e+00,  0.00000000e+00,  0.00000000e+00,  0.00000000e+00,\n",
       "          0.00000000e+00,  0.00000000e+00,  0.00000000e+00,  0.00000000e+00,\n",
       "          0.00000000e+00,  0.00000000e+00,  0.00000000e+00,  0.00000000e+00,\n",
       "          0.00000000e+00,  0.00000000e+00,  0.00000000e+00,  0.00000000e+00,\n",
       "          0.00000000e+00,  0.00000000e+00]),\n",
       "  'CAAU':       fun: DeviceArray(-1.15364544, dtype=float64)\n",
       "   hess_inv: <354x354 LbfgsInvHessProduct with dtype=float64>\n",
       "        jac: array([ 2.53444796e-04,  4.54833900e-05,  3.48184698e-04, -2.88751411e-04,\n",
       "         -4.02477765e-05, -3.60908356e-04,  4.82526556e-04, -3.30886107e-04,\n",
       "          3.90331218e-04, -1.06310717e-04, -8.21759017e-05,  1.61718453e-04,\n",
       "          1.26800792e-04, -5.56530044e-04,  1.31506612e-04, -6.81842669e-04,\n",
       "          4.07591696e-06,  2.70652703e-05, -8.16081426e-06, -4.44742684e-05,\n",
       "         -3.14711488e-04, -2.70814298e-04, -6.39163214e-04,  4.74480367e-04,\n",
       "         -1.90463868e-04, -2.46526489e-05, -1.15667128e-05,  2.67392654e-04,\n",
       "          1.71600282e-04,  6.84807739e-05, -4.55147733e-04, -1.35922769e-04,\n",
       "         -1.10263212e-04, -1.39373770e-06, -5.86433138e-04,  9.56155205e-05,\n",
       "         -3.25405724e-04,  1.54212633e-04,  2.33982589e-04, -4.54308429e-06,\n",
       "          3.03456901e-04,  8.14757607e-05,  9.56977433e-05,  7.97249841e-05,\n",
       "         -4.69116359e-05, -6.68346141e-05,  1.15461920e-04, -2.62715178e-05,\n",
       "         -1.51279870e-04, -1.51144488e-04, -1.28561720e-05, -3.62477340e-04,\n",
       "          1.06645620e-04,  9.35297415e-05, -5.05209383e-05,  4.08590545e+00,\n",
       "          2.13190895e+00,  4.03475599e-01,  1.10532480e+01,  2.60470188e+00,\n",
       "          1.39057267e-01,  4.56703371e-02,  1.73219700e-01,  9.67396870e-01,\n",
       "          1.35453715e+01,  3.27365870e-01,  3.03088969e+01,  3.27945380e+01,\n",
       "          3.63350132e+01,  2.20733315e+01,  4.39528158e+00,  4.71359976e+00,\n",
       "          5.70428568e+00,  7.22372732e+01,  2.76717404e+01,  6.05459497e+00,\n",
       "          2.22100366e+01,  3.80634442e+00,  5.56671278e+01, -1.14091939e-04,\n",
       "          1.79723286e+00,  1.32767850e+00,  5.05084269e+01,  4.41102486e+00,\n",
       "          2.15394910e+00,  7.35649223e+00,  3.46668481e+01,  2.33550031e+01,\n",
       "          2.21142170e+01, -2.48782411e-04,  3.63799892e-05,  2.67270647e+00,\n",
       "          4.25020311e+00,  1.66230465e-04,  1.78735791e-04,  1.23115126e+00,\n",
       "          1.17227378e+00,  6.25557298e-01,  1.18741661e+00,  1.68653213e+01,\n",
       "          2.74817850e+00,  3.69601996e-01,  1.08883443e-01,  9.24949964e-01,\n",
       "          1.01259700e+01,  5.41435816e+00,  4.05573377e+00,  1.90716375e+00,\n",
       "         -2.00124863e-06,  2.13178457e-02,  2.81747387e-01,  3.43604402e-01,\n",
       "          9.68248375e-01,  1.05043105e+00,  1.45137332e-01,  1.17854890e+00,\n",
       "          7.94227355e-01,  4.34040625e-01,  3.87405883e-02,  1.61674113e-01,\n",
       "          2.16192701e-01,  1.75510571e+00, -4.61632544e-05,  2.10214759e+00,\n",
       "          3.80019344e-01,  3.39758024e-01,  2.60164451e-01,  1.29464912e+00,\n",
       "          1.60912542e+01,  7.00030005e-01,  2.08986589e-01,  1.44387250e+00,\n",
       "          2.40016321e-01,  1.02608996e+00,  3.50452139e+00,  8.43141102e-01,\n",
       "          1.72182249e-01,  1.23583224e+00,  1.02241763e-01,  6.36225939e-02,\n",
       "          4.40619622e+00,  1.06227315e+00,  8.32277582e-01,  9.08288631e-01,\n",
       "          9.40054192e-02,  2.86847844e-02,  3.94013573e-01,  1.32560868e+00,\n",
       "          1.43492010e-01,  1.17742076e+00,  8.71100808e-01,  3.95468828e+00,\n",
       "          3.99261298e-01,  8.51158772e+00,  2.19299670e+00,  4.38424142e+00,\n",
       "          2.09000666e-01,  2.08001814e-01,  6.26925696e-01,  3.49532028e-01,\n",
       "          9.87927611e-01,  9.69399485e-05,  3.23785812e+00,  3.52246071e+00,\n",
       "          1.04629845e+01,  1.95583297e-01, -1.35795005e-04,  2.53479433e+01,\n",
       "          1.62206645e+01,  1.14094683e+00,  3.40218784e-02,  5.22683135e+00,\n",
       "          2.29356207e+00,  1.23164944e+00,  1.77749326e-01,  4.97700559e-02,\n",
       "          9.76002762e-01,  1.93161577e+01,  1.33968973e+00,  5.88026062e-01,\n",
       "          1.33968057e+00,  2.87697262e+00,  4.11759668e+00,  2.13190895e+00,\n",
       "          2.72961220e+00,  2.81611959e+01,  2.30867830e-01,  3.10237643e+00,\n",
       "         -4.07155276e-05,  2.50574294e+00,  1.62002301e+00,  1.57334763e+00,\n",
       "          5.55372821e-01,  1.52768802e+01,  1.48113235e+00,  2.71281592e+00,\n",
       "          1.71956728e-04, -1.10772300e-05,  4.17336679e+00,  2.16041529e+00,\n",
       "          3.26825756e-01,  5.68928496e+00,  7.36338560e+00,  3.90276665e-01,\n",
       "          9.30274932e+00,  1.62401608e+01,  9.13154068e+00,  7.71573777e+00,\n",
       "          1.17006019e+00,  2.09105650e-01,  7.42037112e-05,  5.44478797e+01,\n",
       "          1.66384050e+00,  1.15850416e+00,  1.27581624e+01,  2.92396974e+00,\n",
       "          1.31114249e+00,  1.76112064e-04,  1.74718777e-01,  3.83340847e-01,\n",
       "          1.52639859e+00,  2.65506069e+00,  1.73219700e-01,  4.44649992e-01,\n",
       "          7.24293862e-02,  1.67126155e-01,  8.82879895e-01,  2.17331356e+00,\n",
       "          2.07686019e-01,  7.90920433e+00,  1.12886726e+01,  2.52192438e+01,\n",
       "          1.65426281e+01,  1.93492787e+00,  9.31910177e+00,  2.01999077e-01,\n",
       "          5.40612631e+00,  1.05428664e+01,  1.41929589e+01,  6.37096177e+00,\n",
       "          4.73987745e+00,  6.05172782e+00,  5.97292332e-02,  3.09149860e+00,\n",
       "          8.40568121e-02,  3.15239180e-01,  6.53608376e-01,  6.97929776e+00,\n",
       "          2.60364823e+01,  3.89753053e-01,  3.60744954e+00,  4.11078544e-01,\n",
       "          1.80256556e+00,  1.04297555e+00,  8.30071287e-01,  2.09768099e-01,\n",
       "          9.12775182e-01,  2.63663912e+00,  5.08953524e+00,  2.25913755e+01,\n",
       "         -1.17055929e-04,  5.88152854e+00,  9.87108240e+00,  9.25149463e-01,\n",
       "          1.80518041e+01,  2.85632651e+01,  1.74869688e-02,  3.69184890e+00,\n",
       "          1.21285964e+01,  8.18742134e-01,  1.97061290e+01,  2.06202926e-01,\n",
       "          3.38931073e+00,  2.09853370e-01,  1.44551312e+00,  5.07590333e-01,\n",
       "          2.93658201e-01,  9.63565799e+00,  3.81641719e+01,  5.04465223e+00,\n",
       "          9.75596530e-01,  4.02030053e-01,  1.58962307e+01,  3.72143742e+01,\n",
       "          1.11205746e+00,  4.17513520e+01,  3.10556108e+01,  5.84772292e+01,\n",
       "          5.79398835e+00,  4.94738851e+01,  2.34345451e+01,  7.42181851e-02,\n",
       "          1.02633359e+01,  7.31831503e+00,  7.44458139e+01,  1.24447760e+01,\n",
       "          7.02709899e+00,  2.96581577e+00,  7.02380135e-01,  4.19935093e+01,\n",
       "          8.85262155e+00,  6.24257580e+01,  4.59097811e+00,  7.18383677e+00,\n",
       "          6.47155698e-01,  6.84090460e+00,  1.25219492e+01,  1.26864258e+01,\n",
       "          3.21054408e-01,  1.86703256e+00,  6.99488896e-01,  5.72598898e-01,\n",
       "          7.11320932e-01,  1.21995699e+00,  1.38438201e+00,  1.48660671e+00,\n",
       "          6.47132872e+00,  2.03585328e+01,  1.28519580e+00,  1.02061367e+01,\n",
       "          4.68362535e+01,  1.55183580e-01,  2.09506087e+00,  5.91542711e+00,\n",
       "          1.94569616e+01,  1.37109447e+01,  1.68606464e+01,  1.42973294e+01,\n",
       "          3.08719928e+01,  1.42974456e+00,  2.78743550e+00,  1.06907247e+00,\n",
       "          2.76016756e+00,  3.13008249e+02,  1.96211640e+00,  1.85059021e+00,\n",
       "         -3.81616346e-04,  3.00976612e-01,  7.33483266e+00,  3.97514085e-01,\n",
       "          9.09561992e-01,  8.30772529e+00,  4.20205846e-01, -2.77744115e-04,\n",
       "          5.85145671e-01,  1.85476067e+00,  9.14625024e-01,  3.83324905e-01,\n",
       "          2.26801806e+01,  2.08851074e+00,  3.23433201e+00,  4.98636356e+00,\n",
       "          1.22350087e+02,  8.62834653e+00])\n",
       "    message: b'CONVERGENCE: NORM_OF_PROJECTED_GRADIENT_<=_PGTOL'\n",
       "       nfev: 844\n",
       "        nit: 791\n",
       "       njev: 844\n",
       "     status: 0\n",
       "    success: True\n",
       "          x: array([-1.78693135e-02, -2.89303225e-03, -1.22893369e-03,  5.72144281e-04,\n",
       "          3.16739429e-03,  4.79007102e-03,  4.11316276e-03,  2.83871249e-04,\n",
       "         -2.16101711e-02,  1.91986668e-03, -1.32061110e-02, -4.27307352e-03,\n",
       "         -3.56769523e-03,  1.57972126e-02,  1.20411537e-02,  5.26045168e-03,\n",
       "         -1.18588739e-03,  7.80090963e-04,  7.47155596e-04,  9.90267626e-03,\n",
       "          3.81874155e-02,  5.09769018e-03,  6.16458246e-02,  9.44603381e-03,\n",
       "          2.74419386e-02,  3.77239201e-02,  4.96765669e-02,  5.57769354e-03,\n",
       "         -7.87303947e-04,  4.44381120e-02,  8.00806449e-03,  1.55571749e-01,\n",
       "          3.00013563e-02, -2.89825538e-03, -6.59891238e-03,  1.02919403e-02,\n",
       "          1.00128063e-01, -1.48522134e-02, -3.35059633e-04,  5.15156628e-03,\n",
       "          1.04468534e-02,  1.25780030e-03, -1.17800683e-03, -2.18685430e-03,\n",
       "          8.62532582e-03,  2.41602215e-02,  2.10468713e-03,  7.18042199e-03,\n",
       "         -4.35750508e-04,  4.67793672e-03,  8.13914916e-04, -5.21032324e-03,\n",
       "          1.37263740e-02,  1.58478792e-02,  1.86978951e-02,  0.00000000e+00,\n",
       "          0.00000000e+00,  0.00000000e+00,  0.00000000e+00,  0.00000000e+00,\n",
       "          0.00000000e+00,  0.00000000e+00,  0.00000000e+00,  0.00000000e+00,\n",
       "          0.00000000e+00,  0.00000000e+00,  0.00000000e+00,  0.00000000e+00,\n",
       "          0.00000000e+00,  0.00000000e+00,  0.00000000e+00,  0.00000000e+00,\n",
       "          0.00000000e+00,  0.00000000e+00,  0.00000000e+00,  0.00000000e+00,\n",
       "          0.00000000e+00,  0.00000000e+00,  0.00000000e+00,  2.09878767e-01,\n",
       "          0.00000000e+00,  0.00000000e+00,  0.00000000e+00,  0.00000000e+00,\n",
       "          0.00000000e+00,  0.00000000e+00,  0.00000000e+00,  0.00000000e+00,\n",
       "          0.00000000e+00,  1.82094798e-01,  2.19962163e+00,  0.00000000e+00,\n",
       "          0.00000000e+00,  5.76604350e-01,  1.43368305e-01,  0.00000000e+00,\n",
       "          0.00000000e+00,  0.00000000e+00,  0.00000000e+00,  0.00000000e+00,\n",
       "          0.00000000e+00,  0.00000000e+00,  0.00000000e+00,  0.00000000e+00,\n",
       "          0.00000000e+00,  0.00000000e+00,  0.00000000e+00,  0.00000000e+00,\n",
       "          1.23733703e-01,  0.00000000e+00,  0.00000000e+00,  0.00000000e+00,\n",
       "          0.00000000e+00,  0.00000000e+00,  0.00000000e+00,  0.00000000e+00,\n",
       "          0.00000000e+00,  0.00000000e+00,  0.00000000e+00,  0.00000000e+00,\n",
       "          0.00000000e+00,  0.00000000e+00,  4.65027561e-02,  0.00000000e+00,\n",
       "          0.00000000e+00,  0.00000000e+00,  0.00000000e+00,  0.00000000e+00,\n",
       "          0.00000000e+00,  0.00000000e+00,  0.00000000e+00,  0.00000000e+00,\n",
       "          0.00000000e+00,  0.00000000e+00,  0.00000000e+00,  0.00000000e+00,\n",
       "          0.00000000e+00,  0.00000000e+00,  0.00000000e+00,  0.00000000e+00,\n",
       "          0.00000000e+00,  0.00000000e+00,  0.00000000e+00,  0.00000000e+00,\n",
       "          0.00000000e+00,  0.00000000e+00,  0.00000000e+00,  0.00000000e+00,\n",
       "          0.00000000e+00,  0.00000000e+00,  0.00000000e+00,  0.00000000e+00,\n",
       "          0.00000000e+00,  0.00000000e+00,  0.00000000e+00,  0.00000000e+00,\n",
       "          0.00000000e+00,  0.00000000e+00,  0.00000000e+00,  0.00000000e+00,\n",
       "          0.00000000e+00,  2.32963372e-01,  0.00000000e+00,  0.00000000e+00,\n",
       "          0.00000000e+00,  0.00000000e+00,  1.67050968e-01,  0.00000000e+00,\n",
       "          0.00000000e+00,  0.00000000e+00,  0.00000000e+00,  0.00000000e+00,\n",
       "          0.00000000e+00,  0.00000000e+00,  0.00000000e+00,  0.00000000e+00,\n",
       "          0.00000000e+00,  0.00000000e+00,  0.00000000e+00,  0.00000000e+00,\n",
       "          0.00000000e+00,  0.00000000e+00,  0.00000000e+00,  0.00000000e+00,\n",
       "          0.00000000e+00,  0.00000000e+00,  0.00000000e+00,  0.00000000e+00,\n",
       "          2.40161602e-01,  0.00000000e+00,  0.00000000e+00,  0.00000000e+00,\n",
       "          0.00000000e+00,  0.00000000e+00,  0.00000000e+00,  0.00000000e+00,\n",
       "          3.46667469e-01,  2.76936827e-01,  0.00000000e+00,  0.00000000e+00,\n",
       "          0.00000000e+00,  0.00000000e+00,  0.00000000e+00,  0.00000000e+00,\n",
       "          0.00000000e+00,  0.00000000e+00,  0.00000000e+00,  0.00000000e+00,\n",
       "          0.00000000e+00,  0.00000000e+00,  1.39110253e-01,  0.00000000e+00,\n",
       "          0.00000000e+00,  0.00000000e+00,  0.00000000e+00,  0.00000000e+00,\n",
       "          0.00000000e+00,  4.10939084e-02,  0.00000000e+00,  0.00000000e+00,\n",
       "          0.00000000e+00,  0.00000000e+00,  0.00000000e+00,  0.00000000e+00,\n",
       "          0.00000000e+00,  0.00000000e+00,  0.00000000e+00,  0.00000000e+00,\n",
       "          0.00000000e+00,  0.00000000e+00,  0.00000000e+00,  0.00000000e+00,\n",
       "          0.00000000e+00,  0.00000000e+00,  0.00000000e+00,  0.00000000e+00,\n",
       "          0.00000000e+00,  0.00000000e+00,  0.00000000e+00,  0.00000000e+00,\n",
       "          0.00000000e+00,  0.00000000e+00,  0.00000000e+00,  0.00000000e+00,\n",
       "          0.00000000e+00,  0.00000000e+00,  0.00000000e+00,  0.00000000e+00,\n",
       "          0.00000000e+00,  0.00000000e+00,  0.00000000e+00,  0.00000000e+00,\n",
       "          0.00000000e+00,  0.00000000e+00,  0.00000000e+00,  0.00000000e+00,\n",
       "          0.00000000e+00,  0.00000000e+00,  0.00000000e+00,  0.00000000e+00,\n",
       "          2.88007790e-02,  0.00000000e+00,  0.00000000e+00,  0.00000000e+00,\n",
       "          0.00000000e+00,  0.00000000e+00,  0.00000000e+00,  0.00000000e+00,\n",
       "          0.00000000e+00,  0.00000000e+00,  0.00000000e+00,  0.00000000e+00,\n",
       "          0.00000000e+00,  0.00000000e+00,  0.00000000e+00,  0.00000000e+00,\n",
       "          0.00000000e+00,  0.00000000e+00,  0.00000000e+00,  0.00000000e+00,\n",
       "          0.00000000e+00,  0.00000000e+00,  0.00000000e+00,  0.00000000e+00,\n",
       "          0.00000000e+00,  0.00000000e+00,  0.00000000e+00,  0.00000000e+00,\n",
       "          0.00000000e+00,  0.00000000e+00,  0.00000000e+00,  0.00000000e+00,\n",
       "          0.00000000e+00,  0.00000000e+00,  0.00000000e+00,  0.00000000e+00,\n",
       "          0.00000000e+00,  0.00000000e+00,  0.00000000e+00,  0.00000000e+00,\n",
       "          0.00000000e+00,  0.00000000e+00,  0.00000000e+00,  0.00000000e+00,\n",
       "          0.00000000e+00,  0.00000000e+00,  0.00000000e+00,  0.00000000e+00,\n",
       "          0.00000000e+00,  0.00000000e+00,  0.00000000e+00,  0.00000000e+00,\n",
       "          0.00000000e+00,  0.00000000e+00,  0.00000000e+00,  0.00000000e+00,\n",
       "          0.00000000e+00,  0.00000000e+00,  0.00000000e+00,  0.00000000e+00,\n",
       "          0.00000000e+00,  0.00000000e+00,  0.00000000e+00,  0.00000000e+00,\n",
       "          0.00000000e+00,  0.00000000e+00,  0.00000000e+00,  0.00000000e+00,\n",
       "          0.00000000e+00,  0.00000000e+00,  0.00000000e+00,  0.00000000e+00,\n",
       "          0.00000000e+00,  0.00000000e+00,  0.00000000e+00,  0.00000000e+00,\n",
       "          1.40717200e-01,  0.00000000e+00,  0.00000000e+00,  0.00000000e+00,\n",
       "          0.00000000e+00,  0.00000000e+00,  0.00000000e+00,  5.85173604e-01,\n",
       "          0.00000000e+00,  0.00000000e+00,  0.00000000e+00,  0.00000000e+00,\n",
       "          0.00000000e+00,  0.00000000e+00,  0.00000000e+00,  0.00000000e+00,\n",
       "          0.00000000e+00,  0.00000000e+00])},\n",
       " 'time': 28.52551555633545,\n",
       " 'D_KL_alpha': {'AAAA': DeviceArray(0.11751149, dtype=float64),\n",
       "  'CAAU': DeviceArray(0.96501355, dtype=float64)},\n",
       " 'abs_difference': {'AAAA': DeviceArray(0.00123863, dtype=float64),\n",
       "  'CAAU': DeviceArray(0.00353647, dtype=float64)},\n",
       " 'av_g': {'AAAA': {'backbone1_gamma_3J': DeviceArray([2.30879982, 2.27974451, 1.96701814, 2.06882625, 2.31983404,\n",
       "                1.87590098], dtype=float64),\n",
       "   'backbone2_beta_epsilon_3J': DeviceArray([6.51633622, 2.35428253, 6.76560425, 3.73425927, 2.44143708,\n",
       "                5.85428866, 3.02309154, 2.87116933], dtype=float64),\n",
       "   'sugar_3J': DeviceArray([3.89624312, 4.68311242, 8.01554056, 2.35913914, 8.71997502,\n",
       "                1.8431473 , 4.55983124, 9.29298068, 6.41554594],            dtype=float64),\n",
       "   'NOEs': DeviceArray([1.87026939e-03, 7.16167773e-05, 4.97033672e-04,\n",
       "                7.49434998e-04, 9.53314375e-05, 9.09913151e-04,\n",
       "                1.38427029e-04, 2.50048554e-03, 1.22140247e-03,\n",
       "                1.76394701e-04, 2.17309038e-04, 9.65659561e-05,\n",
       "                6.68867936e-04, 8.70661563e-05, 4.71223063e-04,\n",
       "                2.21246887e-03, 2.85166354e-03, 1.71359753e-03,\n",
       "                1.48784161e-04, 1.19334437e-04, 3.02498542e-04,\n",
       "                6.81697605e-04, 6.83494680e-05, 1.36889916e-04,\n",
       "                8.31818845e-04, 7.97923831e-04, 1.78064568e-04,\n",
       "                2.86743943e-04, 2.41424749e-03, 1.05334004e-04,\n",
       "                8.01485239e-04], dtype=float64),\n",
       "   'uNOEs': DeviceArray([1.39995015e-05, 2.21838758e-05, 8.11223729e-06,\n",
       "                7.55829711e-05, 1.01116529e-05, 3.14164471e-05,\n",
       "                2.06159468e-05, 4.38522803e-05, 2.59254429e-05,\n",
       "                1.67358381e-05, 6.27046083e-06, 5.35712390e-06,\n",
       "                1.05640501e-05, 2.52056859e-06, 1.09555844e-05,\n",
       "                9.34596165e-06, 2.52391299e-05, 9.40407642e-07,\n",
       "                9.92881154e-07, 3.00066726e-06, 1.13634054e-05,\n",
       "                9.99550057e-07, 6.57336022e-07, 7.66231297e-07,\n",
       "                1.42825771e-05, 4.11379320e-05, 5.36163521e-06,\n",
       "                1.12830496e-05, 1.37167039e-05, 1.94344434e-05,\n",
       "                6.84760136e-06, 9.73113508e-06, 2.88929435e-05,\n",
       "                7.76060670e-05, 3.72108701e-06, 2.86867841e-06,\n",
       "                4.72675065e-06, 3.70343369e-05, 1.27224777e-05,\n",
       "                1.08356484e-05, 2.68467329e-05, 6.90256630e-06,\n",
       "                9.79444506e-06, 6.53885022e-06, 4.30337392e-05,\n",
       "                3.31310933e-05, 1.79307645e-05, 6.27073313e-06,\n",
       "                5.20459457e-06, 2.13512925e-05, 1.27872818e-05,\n",
       "                9.38046391e-06, 1.01337369e-05, 2.33774323e-06,\n",
       "                1.79629528e-05, 1.88936167e-06, 5.87782149e-05,\n",
       "                1.03852783e-04, 4.51463415e-06, 2.38395239e-05,\n",
       "                4.43916512e-06, 1.33033473e-05, 2.79488766e-05,\n",
       "                1.63779638e-04, 3.11309889e-05, 1.61765433e-04,\n",
       "                1.43168077e-05, 8.42024817e-06, 4.14330275e-05,\n",
       "                2.81836617e-05, 3.74484617e-06, 1.10546439e-05,\n",
       "                1.42516702e-05, 7.23831681e-06, 2.83996241e-06,\n",
       "                1.52841904e-05, 1.11756710e-05, 6.71236660e-06,\n",
       "                1.01182413e-05, 2.43191909e-05, 7.44622452e-05,\n",
       "                1.31997430e-05, 1.14707150e-05, 4.14718300e-06,\n",
       "                6.40107452e-06, 8.42818016e-06, 7.38199068e-05,\n",
       "                6.27716793e-06, 1.21944647e-05, 2.76306770e-06,\n",
       "                5.23594229e-06, 1.98416424e-05, 1.48745603e-05,\n",
       "                1.37384224e-05, 7.28589158e-05, 3.57923793e-05,\n",
       "                2.46839062e-05, 1.14556395e-05, 7.13412498e-06,\n",
       "                1.62242803e-05, 4.14480736e-06, 2.19644616e-05,\n",
       "                3.42295340e-06, 6.20662848e-06, 2.20930260e-06,\n",
       "                8.11701053e-06, 7.27297797e-06, 9.16654253e-06,\n",
       "                7.42068080e-05, 1.56926425e-05, 6.83395237e-06,\n",
       "                1.37417727e-04, 1.84346142e-05, 6.29911715e-06,\n",
       "                1.49913158e-06, 9.47346324e-07, 6.53480701e-07,\n",
       "                1.59597308e-06, 7.63279493e-06, 6.59320016e-06,\n",
       "                1.46989918e-05, 2.39123431e-05, 6.59581826e-06,\n",
       "                9.43017295e-07, 1.13613188e-06, 1.31245836e-05,\n",
       "                3.31751309e-05, 1.27234480e-06, 9.00669008e-07,\n",
       "                8.52144914e-06, 6.69191856e-06, 8.95573339e-05,\n",
       "                9.71179591e-06, 9.94507341e-05, 8.25919512e-05,\n",
       "                1.70366260e-05, 5.07373176e-06, 1.03965193e-05,\n",
       "                2.45764997e-04, 8.37012089e-06, 1.60530399e-05,\n",
       "                6.44997022e-06, 2.26383574e-05, 1.24113079e-04,\n",
       "                1.68196986e-05, 8.44314851e-06, 2.30756200e-05,\n",
       "                1.43171051e-05, 3.78653498e-05, 9.94256777e-06,\n",
       "                9.75107295e-06, 7.57393940e-06, 1.00708484e-04,\n",
       "                6.56503220e-06, 6.31312791e-06, 3.60438834e-06,\n",
       "                3.94937671e-05, 7.28214176e-06, 7.98354836e-06,\n",
       "                2.17715392e-05, 2.30087356e-05, 1.20182782e-05,\n",
       "                3.77177078e-06, 7.99335215e-06, 1.65793505e-05,\n",
       "                8.57684328e-07, 4.07818853e-05, 3.15245567e-05,\n",
       "                1.51738901e-05, 3.41212234e-04, 2.41477441e-04,\n",
       "                3.70794748e-05, 3.96111156e-05, 2.68115929e-05,\n",
       "                4.92214997e-06, 3.73242289e-05, 9.66094829e-06,\n",
       "                3.91134255e-06, 3.40914721e-05, 3.53850955e-06,\n",
       "                5.78237113e-06, 2.03203677e-05, 3.81641137e-06,\n",
       "                7.42171189e-06, 3.27865493e-04, 3.02154452e-05,\n",
       "                2.41647753e-05, 5.99288683e-05, 5.80439854e-04,\n",
       "                1.51473608e-04, 3.71787000e-05, 5.71602715e-06],            dtype=float64)},\n",
       "  'CAAU': {'backbone1_gamma_3J': DeviceArray([2.41727491, 2.24172238, 1.89573817, 2.13299119, 1.95873434,\n",
       "                1.9295734 , 1.91750771], dtype=float64),\n",
       "   'backbone2_beta_epsilon_3J': DeviceArray([2.26137957, 7.11512226, 3.79972535, 6.58027184, 3.21517769,\n",
       "                2.7144633 ], dtype=float64),\n",
       "   'sugar_3J': DeviceArray([2.51958712, 9.78143222, 1.56787058, 4.283514  , 1.50435146,\n",
       "                4.49318127, 9.84041909, 6.34400398, 5.00885826],            dtype=float64),\n",
       "   'NOEs': DeviceArray([7.70735509e-04, 5.95673180e-05, 1.17067948e-03,\n",
       "                1.76692437e-03, 2.19642379e-03, 1.60381823e-04,\n",
       "                9.37501256e-05, 6.48529938e-04, 9.43872439e-05,\n",
       "                6.58169312e-04, 1.16576361e-03, 1.57778195e-04,\n",
       "                1.66878292e-04, 3.08860191e-03, 2.69814418e-03,\n",
       "                2.00948777e-03, 1.25869184e-04, 9.58087176e-05,\n",
       "                1.59938055e-04, 9.64445860e-04, 8.01773931e-05,\n",
       "                1.00268107e-04, 7.95430134e-04, 1.96311445e-03,\n",
       "                2.73679792e-03, 1.50999497e-03, 2.76926028e-04,\n",
       "                1.34253168e-03, 1.29142464e-04, 2.59113070e-05,\n",
       "                3.63681592e-04, 2.42312984e-04, 5.87589738e-04],            dtype=float64),\n",
       "   'uNOEs': DeviceArray([1.47552785e-05, 3.08408538e-06, 5.45200930e-06,\n",
       "                2.36096006e-06, 4.45042398e-06, 2.57935085e-05,\n",
       "                3.81698879e-05, 1.27531307e-05, 6.53211882e-06,\n",
       "                3.85581647e-07, 8.16895704e-06, 3.33825959e-07,\n",
       "                3.44404544e-07, 2.07579734e-06, 2.74659510e-06,\n",
       "                3.28202575e-06, 1.72272698e-06, 7.61653909e-07,\n",
       "                4.80110370e-07, 6.35166011e-07, 6.85999499e-06,\n",
       "                3.11257469e-06, 6.07025584e-06, 7.47247899e-07,\n",
       "                1.13483609e-04, 9.40358403e-06, 6.19509139e-05,\n",
       "                1.16140814e-05, 2.17662692e-05, 1.32008274e-05,\n",
       "                7.98653199e-06, 3.45249182e-06, 4.78384361e-06,\n",
       "                2.90627225e-06, 1.10035808e-04, 2.61380563e-04,\n",
       "                3.73725599e-06, 2.73584154e-06, 1.09159816e-04,\n",
       "                5.07215510e-05, 6.62833267e-06, 5.81925240e-06,\n",
       "                2.42555397e-05, 1.94600040e-05, 6.46560507e-06,\n",
       "                9.64905838e-06, 1.72105867e-05, 5.07348249e-05,\n",
       "                1.98551604e-05, 2.41103031e-06, 2.83085044e-06,\n",
       "                2.88546040e-06, 5.04344331e-06, 1.06830545e-04,\n",
       "                2.94215848e-05, 3.63307518e-06, 2.93047228e-05,\n",
       "                3.90483722e-06, 1.07101051e-05, 3.66906073e-05,\n",
       "                7.68053522e-06, 2.22812685e-05, 8.06613903e-06,\n",
       "                2.90643794e-05, 2.48748295e-05, 5.98425310e-06,\n",
       "                2.54519804e-06, 5.17384846e-05, 1.24116760e-05,\n",
       "                2.64328949e-05, 1.41351136e-05, 2.33610159e-05,\n",
       "                2.30216173e-05, 6.12741613e-06, 9.10865346e-06,\n",
       "                1.93522092e-05, 1.12315288e-05, 2.91527731e-05,\n",
       "                1.43388459e-05, 5.36716529e-06, 6.91246648e-06,\n",
       "                8.52846578e-06, 4.92814735e-06, 3.31800477e-05,\n",
       "                3.95033185e-05, 3.16122040e-06, 6.45376207e-06,\n",
       "                2.28232637e-05, 1.71385057e-05, 6.67698606e-05,\n",
       "                4.08112823e-05, 5.55128560e-06, 6.76838526e-06,\n",
       "                1.44040415e-04, 2.62249592e-05, 3.63789913e-05,\n",
       "                3.45580183e-05, 3.69414978e-05, 3.53399268e-06,\n",
       "                1.71721629e-05, 6.75437289e-06, 4.72713095e-05,\n",
       "                2.25857731e-05, 8.89932970e-06, 2.50634838e-05,\n",
       "                2.36360296e-05, 1.11220389e-04, 9.55047419e-06,\n",
       "                3.97361197e-06, 1.53705938e-06, 3.49731056e-05,\n",
       "                1.09887841e-04, 1.62534042e-06, 1.43040105e-05,\n",
       "                9.65609759e-06, 2.18875470e-05, 5.55043771e-06,\n",
       "                7.80873638e-06, 3.31284474e-06, 1.86480630e-05,\n",
       "                1.78942894e-05, 7.37795917e-06, 2.93805492e-06,\n",
       "                5.98254088e-06, 1.60674858e-05, 7.28984903e-06,\n",
       "                4.24372137e-06, 4.76637071e-06, 3.08408538e-06,\n",
       "                4.44951642e-06, 2.02184455e-06, 1.72277347e-05,\n",
       "                2.05265582e-06, 5.26775092e-05, 1.07495375e-05,\n",
       "                6.12068689e-06, 6.01821990e-06, 1.04285297e-05,\n",
       "                5.99983161e-06, 7.45497185e-06, 5.54479965e-06,\n",
       "                2.66660749e-05, 5.44055714e-05, 9.53274030e-06,\n",
       "                4.16215403e-06, 2.94310279e-05, 3.11273322e-06,\n",
       "                3.33785548e-06, 1.78926624e-05, 5.18230050e-06,\n",
       "                2.35372983e-06, 4.02882026e-06, 5.29813953e-06,\n",
       "                2.36870294e-05, 8.07939813e-05, 2.34323006e-04,\n",
       "                2.01800664e-06, 1.02530042e-05, 1.02458408e-05,\n",
       "                4.50633922e-06, 1.20399607e-05, 2.59113070e-05,\n",
       "                1.08263446e-04, 4.27793595e-05, 2.24153452e-05,\n",
       "                1.78285524e-05, 5.98258945e-06, 1.27531307e-05,\n",
       "                1.33650498e-05, 2.76628416e-05, 2.47064602e-05,\n",
       "                1.05255013e-05, 1.21669547e-05, 1.52536250e-05,\n",
       "                1.35976399e-06, 1.80894425e-06, 1.57508427e-06,\n",
       "                1.20284804e-06, 6.73796595e-06, 4.42062470e-06,\n",
       "                2.64456913e-05, 2.14003631e-06, 2.60915878e-06,\n",
       "                2.44066927e-05, 5.94796587e-06, 4.55511526e-06,\n",
       "                7.92166062e-06, 1.04237687e-04, 6.46993935e-05,\n",
       "                4.67390031e-05, 9.96989921e-06, 9.12206493e-06,\n",
       "                1.10271959e-06, 2.73623421e-06, 2.52710675e-05,\n",
       "                3.74098368e-06, 3.56546550e-05, 2.24891987e-05,\n",
       "                1.48441533e-05, 1.18783045e-05, 3.82259555e-05,\n",
       "                1.85012723e-05, 1.43850719e-05, 2.27240928e-05,\n",
       "                1.15231603e-05, 1.06972225e-04, 1.56315557e-06,\n",
       "                1.80316956e-06, 3.13765683e-06, 1.57085310e-06,\n",
       "                1.72001121e-06, 8.63280810e-05, 5.39477845e-06,\n",
       "                1.94780457e-06, 1.49897974e-05, 7.61639016e-06,\n",
       "                1.62086958e-05, 4.81779355e-06, 4.76814018e-05,\n",
       "                1.89300673e-05, 4.09997205e-05, 2.60463680e-04,\n",
       "                5.69114584e-06, 2.11070618e-05, 5.05197345e-05,\n",
       "                2.08481562e-04, 3.78422032e-04, 4.69633034e-05,\n",
       "                1.58658521e-05, 1.18696246e-04, 2.06638617e-05,\n",
       "                9.67792859e-05, 5.58635586e-05, 6.00979547e-05,\n",
       "                4.54429883e-06, 1.71588282e-05, 6.06798672e-04,\n",
       "                2.86526216e-05, 2.95429884e-06, 1.35129191e-06,\n",
       "                4.71363901e-05, 6.42500651e-05, 7.12953535e-05,\n",
       "                1.09599762e-04, 5.04106067e-06, 3.22362258e-06,\n",
       "                7.07649907e-07, 7.48264863e-05, 1.84557093e-05,\n",
       "                2.68537386e-05, 9.58558017e-05, 5.56575609e-05,\n",
       "                9.90681654e-06, 8.07844170e-05, 9.43872439e-05,\n",
       "                7.87790284e-05, 7.02320652e-05, 7.08044933e-05,\n",
       "                1.19671856e-04, 3.10202513e-05, 6.48619129e-05,\n",
       "                4.53330395e-06, 1.62482606e-06, 1.20776287e-05,\n",
       "                7.13915407e-06, 1.76258845e-06, 1.47762946e-04,\n",
       "                1.93111754e-05, 1.72102766e-05, 3.57053038e-06,\n",
       "                8.81086883e-06, 1.31722066e-05, 1.15390442e-05,\n",
       "                1.07484431e-05, 4.42470920e-05, 2.15218402e-05,\n",
       "                1.04072425e-04, 8.82168057e-05, 1.42847793e-05,\n",
       "                3.14696057e-06, 9.35721343e-05, 2.73799011e-04,\n",
       "                1.00961928e-04, 1.51411065e-05, 1.00153096e-04,\n",
       "                5.96987188e-05, 7.99070722e-06, 1.07115856e-04,\n",
       "                2.99055176e-04, 4.63543661e-05, 4.41000036e-05,\n",
       "                2.59995256e-05, 8.97390866e-05, 6.42000427e-06,\n",
       "                5.12110540e-06, 1.02825834e-04, 5.43705456e-05,\n",
       "                1.08527625e-05, 2.56676795e-06], dtype=float64)}},\n",
       " 'chi2': {'AAAA': {'backbone1_gamma_3J': DeviceArray(1.49310688, dtype=float64),\n",
       "   'backbone2_beta_epsilon_3J': DeviceArray(9.64135447, dtype=float64),\n",
       "   'sugar_3J': DeviceArray(7.70498562, dtype=float64),\n",
       "   'NOEs': DeviceArray(51.98213626, dtype=float64),\n",
       "   'uNOEs': DeviceArray(0.72756684, dtype=float64)},\n",
       "  'CAAU': {'backbone1_gamma_3J': DeviceArray(1.90537674, dtype=float64),\n",
       "   'backbone2_beta_epsilon_3J': DeviceArray(4.68374667, dtype=float64),\n",
       "   'sugar_3J': DeviceArray(7.00671403, dtype=float64),\n",
       "   'NOEs': DeviceArray(28.78560087, dtype=float64),\n",
       "   'uNOEs': DeviceArray(6.47359699, dtype=float64)}},\n",
       " 'logZ_new': {'AAAA': DeviceArray(-1.14399258, dtype=float64),\n",
       "  'CAAU': DeviceArray(-1.92850693, dtype=float64)},\n",
       " 'weights_new': {'AAAA': DeviceArray([0.00151125, 0.0017555 , 0.00159008, ..., 0.00163586,\n",
       "               0.00028145, 0.00073412], dtype=float64),\n",
       "  'CAAU': DeviceArray([3.24940377e-03, 4.36010659e-03, 5.06047629e-03, ...,\n",
       "               4.55059295e-05, 3.96760844e-05, 7.56803991e-06],            dtype=float64)},\n",
       " 'optimal_hyperpars': {'alpha': 129.47959804413819},\n",
       " 'hyper_minimization':           fun: DeviceArray(371.2623871, dtype=float64)\n",
       "      hess_inv: <1x1 LbfgsInvHessProduct with dtype=float64>\n",
       "  intermediate: <MDRefine.hyperminimizer.hyper_minimizer.<locals>.hyper_intermediate_class object at 0x7f94b42a4438>\n",
       "           jac: array([40.80089791])\n",
       "       message: b'CONVERGENCE: REL_REDUCTION_OF_F_<=_FACTR*EPSMCH'\n",
       "          nfev: 9\n",
       "           nit: 8\n",
       "          njev: 9\n",
       "        status: 0\n",
       "       success: True\n",
       "             x: array([2.11220134])}"
      ]
     },
     "execution_count": 35,
     "metadata": {},
     "output_type": "execute_result"
    }
   ],
   "source": [
    "vars(Result)"
   ]
  },
  {
   "cell_type": "markdown",
   "metadata": {},
   "source": [
    "Here, you can look at the values contained in `Result` as previously done in Section b."
   ]
  }
 ],
 "metadata": {
  "kernelspec": {
   "display_name": "Python 3.6.8 64-bit",
   "language": "python",
   "name": "python3"
  },
  "language_info": {
   "codemirror_mode": {
    "name": "ipython",
    "version": 3
   },
   "file_extension": ".py",
   "mimetype": "text/x-python",
   "name": "python",
   "nbconvert_exporter": "python",
   "pygments_lexer": "ipython3",
   "version": "3.6.8"
  },
  "vscode": {
   "interpreter": {
    "hash": "916dbcbb3f70747c44a77c7bcd40155683ae19c65e1c03b4aa3499c5328201f1"
   }
  }
 },
 "nbformat": 4,
 "nbformat_minor": 2
}
