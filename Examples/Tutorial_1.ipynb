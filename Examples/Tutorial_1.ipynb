{
 "cells": [
  {
   "cell_type": "markdown",
   "metadata": {},
   "source": [
    "# Tutorial for `MDRefine` - 1\n",
    "\n",
    "Refinement of the structural ensembles and forward models"
   ]
  },
  {
   "cell_type": "markdown",
   "metadata": {},
   "source": [
    "In these notebooks we are going to perform several different refinements of MD-generated trajectories by employing the package `MDRefine`. In this way, we believe the usage of `MDRefine` will become clear and easy to emulate for your own case of interest. Input data for these examples may be downloaded from Zenodo as indicated in `load_data_oligomers.ipynb`.\n",
    "\n",
    "We remind you to have a look at our paper https://arxiv.org/pdf/2411.07798 and at the documentation https://www.bussilab.org/doc-MDRefine/MDRefine/index.html.\n",
    "\n",
    "Required assistance may be opened at https://github.com/bussilab/MDRefine/issues."
   ]
  },
  {
   "cell_type": "code",
   "execution_count": 1,
   "metadata": {},
   "outputs": [],
   "source": [
    "import numpy as np\n",
    "import jax.numpy as jnp\n",
    "import pandas\n",
    "import matplotlib\n",
    "import matplotlib.pyplot as plt\n",
    "from IPython.display import clear_output"
   ]
  },
  {
   "cell_type": "code",
   "execution_count": 2,
   "metadata": {},
   "outputs": [],
   "source": [
    "# import from parent directory\n",
    "import sys\n",
    "sys.path.append('../')"
   ]
  },
  {
   "cell_type": "code",
   "execution_count": 3,
   "metadata": {},
   "outputs": [],
   "source": [
    "from MDRefine import load_data, minimizer, select_traintest, hyper_minimizer, MDRefinement, unwrap_dict"
   ]
  },
  {
   "cell_type": "markdown",
   "metadata": {},
   "source": [
    "## 1. Ensemble refinement"
   ]
  },
  {
   "cell_type": "markdown",
   "metadata": {},
   "source": [
    "In this section, we are going to reproduce results from *T. Fröhlking et al., \"Simultaneous refinement of molecular dynamics ensembles and forward models using experimental data\", J. Chem. Phys. 158, 214120 (2023)* https://pubs.aip.org/aip/jcp/article/158/21/214120/2894410.\n",
    "\n",
    "They regard the refinement of the structural ensembles of RNA oligomers (Ensemble Refinement based on the max. entropy principle), with possible flexibility on the forward models (Karplus equations)."
   ]
  },
  {
   "cell_type": "markdown",
   "metadata": {},
   "source": [
    "### a. Load data"
   ]
  },
  {
   "cell_type": "markdown",
   "metadata": {},
   "source": [
    "In order to perform the refinement, we first need to store the data from MD simulations and experiments in a directory structured as described in https://arxiv.org/pdf/2411.07798 - *Structure of `data` objects*. Then, we can define the `infos` dictionary, which informs about which input files are going to be read, and run the `load_data` function.\n",
    "\n",
    "The output of `load_data` is a class instance `data` with all the quantities required in the following steps (see again Section *Structure of `data` objects*)."
   ]
  },
  {
   "cell_type": "markdown",
   "metadata": {},
   "source": [
    "- 1. Just load the observables (without force-field terms nor forward quantities)"
   ]
  },
  {
   "cell_type": "code",
   "execution_count": 4,
   "metadata": {},
   "outputs": [],
   "source": [
    "infos = {}\n",
    "\n",
    "# Firstly, define global properties, valid for all the systems:\n",
    "\n",
    "infos['global'] = {}\n",
    "\n",
    "# 'name of the folder with data'\n",
    "infos['global']['path_directory'] = '../../DATA'\n",
    "\n",
    "# system names\n",
    "system_names = ['AAAA', 'CAAU']  # , 'CCCC', 'GACC', 'UUUU', 'UCAAUC']\n",
    "infos['global']['system_names'] = system_names\n",
    "\n",
    "# Then, define properties which are specific of each system, like experimental data and observables\n",
    "\n",
    "for name in system_names:\n",
    "    infos[name] = {}\n",
    "    \n",
    "    # experimental observables (average and uncertainty), corresponding to 'file_name'.npy in DATA/system_name/g_exp/\n",
    "    # uNOEs values are upper bounds, so specify '<' with ('uNOEs','<')\n",
    "    infos[name]['g_exp'] = ['NOEs', ('uNOEs','<')]\n",
    "    \n",
    "    # observables from MD simulations, corresponding to 'file_name'.npy in DATA/system_name/observables/\n",
    "    # they must correspond also to items of infos[name]['g_exp']\n",
    "    infos[name]['obs'] = ['NOEs', 'uNOEs']\n",
    "\n",
    "# If some properties are the same for all the systems, you can store them just once in infos['global']\n",
    "\n",
    "infos['global']['temperature'] = 1 # namely, energies are in unit of k_B T (default value)\n",
    "# (in this case, you could do this also for 'g_exp' and 'obs')\n",
    "\n",
    "# Select the stride for the frames (thinner strides will require more time for minimizations; default value = 1)\n",
    "stride = 1000"
   ]
  },
  {
   "cell_type": "markdown",
   "metadata": {},
   "source": [
    "- 2. Include also quantities computed through the defined forward model"
   ]
  },
  {
   "cell_type": "code",
   "execution_count": 5,
   "metadata": {},
   "outputs": [],
   "source": [
    "for name in system_names:\n",
    "    # include experimental values also for 3J scalar couplings\n",
    "    infos[name]['g_exp'] = ['backbone1_gamma_3J', 'backbone2_beta_epsilon_3J', 'sugar_3J', 'NOEs', ('uNOEs','<')]\n",
    "\n",
    "    # include quantities required to compute observables through the forward model\n",
    "    # they must correspond to 'file_name'.npy in DATA/system_name/forward_qs/\n",
    "    infos[name]['forward_qs'] = ['backbone1_gamma','backbone2_beta_epsilon','sugar']\n",
    "\n",
    "# starting values of the forward model coefficients: specify the file name inside DATA/\n",
    "infos['global']['forward_coeffs'] = 'original_fm_coeffs' # string"
   ]
  },
  {
   "cell_type": "markdown",
   "metadata": {},
   "source": [
    "Now, let's define the **forward model**.\n",
    "\n",
    "In our case-study, the forward model is given by the **Karplus equations**:\n",
    "\n",
    "$^3 J_\\gamma = A_\\gamma \\, cos^2\\gamma \\, + \\, B_\\gamma \\, cos\\gamma \\, + \\, C_\\gamma$\n",
    "\n",
    "with empirical coefficients $A_\\gamma,\\,B_\\gamma,\\,C_\\gamma$ ($\\gamma$ dihedral angles), and analogously for $^3 J_{\\beta/\\epsilon}$ (same coefficients both for $\\beta$ and $\\epsilon$ dihedral angles) and $^3J_\\nu$ (sugar dihedral angles)."
   ]
  },
  {
   "cell_type": "markdown",
   "metadata": {},
   "source": [
    "**WARNING**: `forward_model_fun` returns a dict `forward_qs_out` whose keys must correspond to those of the associated experimental values `g_exp`, as specified in `infos`."
   ]
  },
  {
   "cell_type": "code",
   "execution_count": 6,
   "metadata": {},
   "outputs": [],
   "source": [
    "def forward_model_fun(fm_coeffs, forward_qs, selected_obs = None):\n",
    "\n",
    "    # 1. compute the cosine (which is the quantity you need in the forward model;\n",
    "    # you could do this just once before loading data)\n",
    "    forward_qs_cos = {}\n",
    "\n",
    "    for type_name in forward_qs.keys():\n",
    "        forward_qs_cos[type_name] = np.cos(forward_qs[type_name])\n",
    "\n",
    "    # if you have selected_obs, compute only the corresponding observables\n",
    "    if selected_obs is not None:\n",
    "        for type_name in forward_qs.keys():\n",
    "            forward_qs_cos[type_name] = forward_qs_cos[type_name][:,selected_obs[type_name+'_3J']]\n",
    "\n",
    "    # 2. compute observables (forward_qs_out) through forward model\n",
    "    forward_qs_out = {\n",
    "        'backbone1_gamma_3J': fm_coeffs[0]*forward_qs_cos['backbone1_gamma']**2 + fm_coeffs[1]*forward_qs_cos['backbone1_gamma'] + fm_coeffs[2],\n",
    "        'backbone2_beta_epsilon_3J': fm_coeffs[3]*forward_qs_cos['backbone2_beta_epsilon']**2 + fm_coeffs[4]*forward_qs_cos['backbone2_beta_epsilon'] + fm_coeffs[5],\n",
    "        'sugar_3J': fm_coeffs[6]*forward_qs_cos['sugar']**2 + fm_coeffs[7]*forward_qs_cos['sugar'] + fm_coeffs[8]}\n",
    "\n",
    "    return forward_qs_out"
   ]
  },
  {
   "cell_type": "code",
   "execution_count": 7,
   "metadata": {},
   "outputs": [],
   "source": [
    "# same forward-model function for each system, so store it in infos['global']\n",
    "infos['global']['forward_model'] = forward_model_fun"
   ]
  },
  {
   "cell_type": "code",
   "execution_count": 8,
   "metadata": {},
   "outputs": [
    {
     "name": "stderr",
     "output_type": "stream",
     "text": [
      "WARNING:absl:No GPU/TPU found, falling back to CPU. (Set TF_CPP_MIN_LOG_LEVEL=0 and rerun for more info.)\n"
     ]
    },
    {
     "name": "stdout",
     "output_type": "stream",
     "text": [
      "loading data from directory...\n",
      "loading  AAAA\n",
      "loading  CAAU\n",
      "done\n"
     ]
    }
   ],
   "source": [
    "data = load_data(infos, stride=stride)"
   ]
  },
  {
   "cell_type": "markdown",
   "metadata": {},
   "source": [
    "### b. Minimize the loss function and analyse the results\n",
    "for a single choice of the hyper-parameter $\\alpha$"
   ]
  },
  {
   "cell_type": "markdown",
   "metadata": {},
   "source": [
    "Namely, let's perform ensemble refinement with a given value of the hyperparameter $\\alpha$, representing the strength to the original ensembles generated from the MD simulations."
   ]
  },
  {
   "cell_type": "code",
   "execution_count": 9,
   "metadata": {},
   "outputs": [],
   "source": [
    "# use function minimizer with selected data and alpha as input\n",
    "Result = minimizer(data, alpha=1)"
   ]
  },
  {
   "cell_type": "markdown",
   "metadata": {},
   "source": [
    "`minimizer` returns a class instance `Result`, let's have a look at it"
   ]
  },
  {
   "cell_type": "code",
   "execution_count": 10,
   "metadata": {},
   "outputs": [
    {
     "name": "stdout",
     "output_type": "stream",
     "text": [
      "dict_keys(['loss', 'min_lambdas', 'minis', 'time', 'D_KL_alpha', 'abs_difference', 'av_g', 'chi2', 'logZ_new', 'weights_new'])\n"
     ]
    }
   ],
   "source": [
    "print(vars(Result).keys())"
   ]
  },
  {
   "cell_type": "code",
   "execution_count": 11,
   "metadata": {},
   "outputs": [
    {
     "name": "stdout",
     "output_type": "stream",
     "text": [
      "True b'CONVERGENCE: NORM_OF_PROJECTED_GRADIENT_<=_PGTOL'\n",
      "True b'CONVERGENCE: NORM_OF_PROJECTED_GRADIENT_<=_PGTOL'\n",
      "optimal loss:  22.041696867401974\n",
      "time required:  11.203052520751953\n",
      "D_KL:  {'AAAA': DeviceArray(2.89315428, dtype=float64), 'CAAU': DeviceArray(2.94444028, dtype=float64)}\n"
     ]
    }
   ],
   "source": [
    "# check the convergence\n",
    "for name_sys in data.properties.system_names:\n",
    "    print(Result.minis[name_sys].success, Result.minis[name_sys].message)\n",
    "\n",
    "# min. value of the loss function\n",
    "print('optimal loss: ', Result.loss)\n",
    "print('time required: ', Result.time)\n",
    "\n",
    "# Kullback-Leibler divergence\n",
    "print('D_KL: ', Result.D_KL_alpha)"
   ]
  },
  {
   "cell_type": "markdown",
   "metadata": {},
   "source": [
    "- then, let's look at the optimal ensembles $P^*$ **weights_new** (completely defined by the starting ensembles and by the **min_lambdas** coefficients), together with their (log) normalization factor **logZ_new**. Let's plot them."
   ]
  },
  {
   "cell_type": "code",
   "execution_count": 12,
   "metadata": {},
   "outputs": [
    {
     "name": "stdout",
     "output_type": "stream",
     "text": [
      "system AAAA:\n",
      "effective n. of frames (on the total n.):  0.055401185589721326\n",
      "logZ:  -48.837958417785565\n",
      "system CAAU:\n",
      "effective n. of frames (on the total n.):  0.05263151025000574\n",
      "logZ:  -25.640117988099192\n"
     ]
    },
    {
     "data": {
      "image/png": "[encoded data removed]",
      "text/plain": [
       "<Figure size 864x288 with 2 Axes>"
      ]
     },
     "metadata": {
      "needs_background": "light"
     },
     "output_type": "display_data"
    },
    {
     "data": {
      "image/png": "[encoded data removed]",
      "text/plain": [
       "<Figure size 864x288 with 2 Axes>"
      ]
     },
     "metadata": {
      "needs_background": "light"
     },
     "output_type": "display_data"
    }
   ],
   "source": [
    "for s in system_names:\n",
    "\n",
    "    plt.figure(figsize = (12,4))\n",
    "\n",
    "    plt.subplot(1,2,1)\n",
    "\n",
    "    l = 0\n",
    "    for i2,s2 in enumerate(Result.min_lambdas[s].keys()):\n",
    "        l_new = l+len(Result.min_lambdas[s][s2])\n",
    "        plt.plot(np.arange(l,l_new),Result.min_lambdas[s][s2],'.',label='%s %s' % (s,s2))\n",
    "        l = l_new\n",
    "\n",
    "    plt.title('$\\lambda$ values (non-normalized)')\n",
    "    plt.legend()# loc='center left', bbox_to_anchor=(1, 0.5))\n",
    "    plt.grid()\n",
    "    plt.yscale('symlog')\n",
    "\n",
    "    plt.subplot(1,2,2)\n",
    "    \n",
    "    plt.plot(Result.weights_new[s],'.')\n",
    "    plt.title('reweighted %s' % s)\n",
    "    plt.grid()\n",
    "    \n",
    "    n_eff = np.exp(-Result.D_KL_alpha[s])\n",
    "\n",
    "    print('system %s:' % s)\n",
    "    print('effective n. of frames (on the total n.): ', n_eff)\n",
    "    print('logZ: ', Result.logZ_new[s])\n"
   ]
  },
  {
   "cell_type": "markdown",
   "metadata": {},
   "source": [
    "- finally, let's look at the average values of the observables in the new ensembles **av_g** and associated **chi2**; compare with experimental values gexp and with average values of the original ensembles."
   ]
  },
  {
   "cell_type": "code",
   "execution_count": 13,
   "metadata": {},
   "outputs": [
    {
     "name": "stdout",
     "output_type": "stream",
     "text": [
      "chi2:  7.546083088288201\n",
      "observables (first names in list):\n",
      " [[\"A1-H1'\" 'A1-H8']\n",
      " [\"A1-H1'\" 'A2-H8']\n",
      " ['A1-H2' \"A2-H1'\"]\n",
      " [\"A1-1H2'\" 'A1-H8']\n",
      " [\"A1-1H2'\" \"A2-H1'\"]]\n"
     ]
    },
    {
     "data": {
      "image/png": "[encoded data removed]",
      "text/plain": [
       "<Figure size 576x432 with 1 Axes>"
      ]
     },
     "metadata": {
      "needs_background": "light"
     },
     "output_type": "display_data"
    }
   ],
   "source": [
    "s1 = 'AAAA'\n",
    "s2 = 'NOEs'\n",
    "\n",
    "print('chi2: ',Result.chi2[s1][s2])\n",
    "print('observables (first names in list):\\n',data.mol[s1].names[s2][:5])\n",
    "\n",
    "plt.figure(figsize=(8,6))\n",
    "\n",
    "# compute average values with original ensemble\n",
    "g_mean = np.matmul(data.mol[s1].weights, data.mol[s1].g[s2])\n",
    "\n",
    "plt.plot(g_mean,'.',label='original av.s',markersize=10)\n",
    "\n",
    "plt.plot(data.mol[s1].gexp[s2][:,0],'s',label='experimental values')\n",
    "plt.errorbar(np.arange(len(data.mol[s1].gexp[s2][:,0])), data.mol[s1].gexp[s2][:,0], data.mol[s1].gexp[s2][:,1], fmt = ' ',\n",
    "    color = 'tab:orange', capsize = 5, lw = 2)\n",
    "\n",
    "plt.plot(Result.av_g[s1][s2], 'D', label = 'reweighted av.s')\n",
    "\n",
    "plt.legend()\n",
    "plt.grid()"
   ]
  },
  {
   "cell_type": "markdown",
   "metadata": {},
   "source": [
    "### c. Determine optimal hyper parameter $\\alpha$ through cross validation (scan over $\\alpha$)"
   ]
  },
  {
   "cell_type": "markdown",
   "metadata": {},
   "source": [
    "The hyperparameter $\\alpha$ tunes the reliability given to the original ensemble in spite of the trust to experimental data.\n",
    "\n",
    "Suitable values of $\\alpha$ can be determined through a **cross validation procedure**: randomly split the full data set into training and test set, then select the value of $\\alpha$ which minimizes the $\\chi^2$ on the test set (either same observables as in training but new frames or new observables); repeat over several splittings.\n",
    "\n",
    "For the moment, let's perform just one splitting into training/test set (as an example) and scan over different values of $\\alpha$ (in logarithmic scale)."
   ]
  },
  {
   "cell_type": "markdown",
   "metadata": {},
   "source": [
    "The function **select_traintest** can be used to get **data_train** and **data_test** by simply passing a **random_state** (a random integer), which randomly selects **test_obs** and **test_frames**."
   ]
  },
  {
   "cell_type": "code",
   "execution_count": 14,
   "metadata": {},
   "outputs": [
    {
     "name": "stdout",
     "output_type": "stream",
     "text": [
      "Input random_state employed both for test_obs and test_frames\n"
     ]
    }
   ],
   "source": [
    "data_train, data_test, test_obs, test_frames = select_traintest(data, random_state=1)"
   ]
  },
  {
   "cell_type": "code",
   "execution_count": 15,
   "metadata": {},
   "outputs": [
    {
     "name": "stdout",
     "output_type": "stream",
     "text": [
      "tot. n. of observables:  751\n",
      "n. of test observables:  151\n",
      "n. of training observables 600\n"
     ]
    }
   ],
   "source": [
    "n_tot_exp = data.properties.tot_n_experiments(data)\n",
    "n_test_exp = len(unwrap_dict(test_obs))\n",
    "\n",
    "n_train_exp = n_tot_exp - n_test_exp\n",
    "\n",
    "print('tot. n. of observables: ', n_tot_exp)\n",
    "print('n. of test observables: ', n_test_exp)\n",
    "print('n. of training observables', n_train_exp)"
   ]
  },
  {
   "cell_type": "markdown",
   "metadata": {},
   "source": [
    "Default values for the fraction of test observables and frames are $20\\%$ for both (you can change this ratio by selecting **test_frames_size** and/or **test_obs_size** as input variables). By default, test observables are evaluated only on test frames; you can also consider both on training and test frames, by setting **if_all_frames** = True."
   ]
  },
  {
   "cell_type": "code",
   "execution_count": 16,
   "metadata": {},
   "outputs": [
    {
     "name": "stdout",
     "output_type": "stream",
     "text": [
      "Input random_state employed both for test_obs and test_frames\n"
     ]
    }
   ],
   "source": [
    "# You can also select different values from the default ones\n",
    "data_train, data_test, test_obs, test_frames = select_traintest(data, test_frames_size=0.2, test_obs_size=0.3,\n",
    "    random_state=4, if_all_frames=True)"
   ]
  },
  {
   "cell_type": "code",
   "execution_count": 17,
   "metadata": {},
   "outputs": [],
   "source": [
    "# Alternatively, you can also directly pass test_obs and test_frames.\n",
    "out = select_traintest(data, test_obs=test_obs, test_frames=test_frames)\n",
    "\n",
    "data_train = out[0]\n",
    "data_test = out[1]"
   ]
  },
  {
   "cell_type": "markdown",
   "metadata": {},
   "source": [
    "In any case, you can now scan over different values of $\\alpha$ for a given partition of the full data set into training and test set. Let's work directly with logarithms in base 10, in order to explore several orders of magnitude for $\\alpha$.\n",
    "\n",
    "Let's pass `data_test` as input to `minimizer`: after the minimization of the loss function on `data_train`, relevant properties (such as $D_{KL}$, $\\chi^2$, loss function) are evaluated on the test frames and a further $\\chi^2$ is evaluated on test observables."
   ]
  },
  {
   "cell_type": "code",
   "execution_count": 18,
   "metadata": {},
   "outputs": [],
   "source": [
    "log10_alphas = np.arange(-2, 7, 1)\n",
    "\n",
    "Results = {}\n",
    "\n",
    "for log10_alpha in log10_alphas:\n",
    "    print(log10_alpha)\n",
    "\n",
    "    alpha = 10**np.float64(log10_alpha)\n",
    "    Results[log10_alpha] = minimizer(data_train, alpha=alpha, data_test=data_test)\n",
    "\n",
    "    clear_output()"
   ]
  },
  {
   "cell_type": "code",
   "execution_count": 19,
   "metadata": {},
   "outputs": [
    {
     "data": {
      "text/plain": [
       "dict_keys(['loss', 'min_lambdas', 'minis', 'time', 'D_KL_alpha', 'abs_difference', 'av_g', 'chi2', 'logZ_new', 'weights_new', 'loss_test', 'D_KL_alpha_test', 'abs_difference_test', 'av_g_test', 'chi2_test', 'logZ_new_test', 'weights_new_test', 'avg_new_obs', 'chi2_new_obs'])"
      ]
     },
     "execution_count": 19,
     "metadata": {},
     "output_type": "execute_result"
    }
   ],
   "source": [
    "vars(Results[log10_alpha]).keys()"
   ]
  },
  {
   "cell_type": "markdown",
   "metadata": {},
   "source": [
    "For each value of the hyperparameter $\\alpha$, we now have corresponding quantities for test frames (such as **loss_test**, **D_KL_alpha_test**, **av_g_test**, **chi2_test**, **weights_new_test**) and for test observables (**avg_new_obs** and **chi2_new_obs**)."
   ]
  },
  {
   "cell_type": "markdown",
   "metadata": {},
   "source": [
    "Let's compare the loss function for training set and test set (new frames):\n",
    "- at high values of $\\alpha$, the two values almost overlap;\n",
    "- decreasing $\\alpha$, both the two loss functions decrease, except that the one on the test at a certain point starts to increase marking overfitting."
   ]
  },
  {
   "cell_type": "code",
   "execution_count": 20,
   "metadata": {},
   "outputs": [
    {
     "data": {
      "image/png": "[encoded data removed]",
      "text/plain": [
       "<Figure size 432x288 with 1 Axes>"
      ]
     },
     "metadata": {
      "needs_background": "light"
     },
     "output_type": "display_data"
    }
   ],
   "source": [
    "loss = [Results[log10_alpha].loss for log10_alpha in log10_alphas]\n",
    "loss_test = [Results[log10_alpha].loss_test for log10_alpha in log10_alphas]\n",
    "\n",
    "plt.title('loss function')\n",
    "plt.plot(log10_alphas, loss, '.--', label = 'training')\n",
    "plt.plot(log10_alphas, loss_test, '.--', label = 'test')\n",
    "plt.xlabel(r'$\\log_{10}\\alpha$')\n",
    "plt.legend()\n",
    "plt.grid()"
   ]
  },
  {
   "cell_type": "code",
   "execution_count": 21,
   "metadata": {},
   "outputs": [
    {
     "data": {
      "image/png": "[encoded data removed]",
      "text/plain": [
       "<Figure size 432x288 with 1 Axes>"
      ]
     },
     "metadata": {
      "needs_background": "light"
     },
     "output_type": "display_data"
    }
   ],
   "source": [
    "D_KL_train = [np.sum(unwrap_dict(Results[log10_alpha].D_KL_alpha)) for log10_alpha in log10_alphas]\n",
    "D_KL_test = [np.sum(unwrap_dict(Results[log10_alpha].D_KL_alpha_test)) for log10_alpha in log10_alphas]\n",
    "\n",
    "plt.title('$D_{KL}$')\n",
    "plt.plot(D_KL_train, '.--', label = 'training')\n",
    "plt.plot(D_KL_test, '.--', label = 'test')\n",
    "plt.xlabel(r'$\\log_{10}\\alpha$')\n",
    "plt.legend()\n",
    "plt.grid()"
   ]
  },
  {
   "cell_type": "markdown",
   "metadata": {},
   "source": [
    "Now, the $\\chi^2$, including also test observables"
   ]
  },
  {
   "cell_type": "code",
   "execution_count": 22,
   "metadata": {},
   "outputs": [],
   "source": [
    "chi2s = [np.sum(unwrap_dict(Results[log10_alpha].chi2)) for log10_alpha in log10_alphas]\n",
    "n_obs_train = data_train.properties.tot_n_experiments(data_train)\n",
    "\n",
    "red_chi2s = np.array(chi2s)/n_obs_train\n",
    "\n",
    "chi2s_test1 = [np.sum(unwrap_dict(Results[log10_alpha].chi2_test)) for log10_alpha in log10_alphas] # .chi2_test\n",
    "red_chi2s_test1 = np.array(chi2s_test1)/n_obs_train\n",
    "\n",
    "chi2s_test2 = [np.sum(unwrap_dict(Results[log10_alpha].chi2_new_obs)) for log10_alpha in log10_alphas] # .chi2_test\n",
    "n_obs_test = len(unwrap_dict(test_obs))\n",
    "\n",
    "red_chi2s_test2 = np.array(chi2s_test2)/n_obs_test"
   ]
  },
  {
   "cell_type": "code",
   "execution_count": 23,
   "metadata": {},
   "outputs": [
    {
     "data": {
      "image/png": "[encoded data removed]",
      "text/plain": [
       "<Figure size 432x288 with 1 Axes>"
      ]
     },
     "metadata": {
      "needs_background": "light"
     },
     "output_type": "display_data"
    }
   ],
   "source": [
    "plt.plot(log10_alphas, red_chi2s, '.--', label = 'training')\n",
    "plt.plot(log10_alphas, red_chi2s_test1, '.--', label = 'test frames')\n",
    "plt.plot(log10_alphas, red_chi2s_test2, '.--', label = 'test observables')\n",
    "\n",
    "plt.legend()\n",
    "plt.title('$\\chi^2$')\n",
    "plt.xlabel(r'$\\log_{10}\\alpha$')\n",
    "plt.yscale('log')\n",
    "plt.grid()"
   ]
  },
  {
   "cell_type": "markdown",
   "metadata": {},
   "source": [
    "### d. Determine optimal hyper parameter $\\alpha$ through cross validation (automatic optimization)"
   ]
  },
  {
   "cell_type": "markdown",
   "metadata": {},
   "source": [
    "Rather than performing a scan over the hyperparameter $\\alpha$, we now minimize the $\\chi^2$ on the test set (computed at optimal parameters obtained in training) with respect to $\\alpha$."
   ]
  },
  {
   "cell_type": "code",
   "execution_count": 24,
   "metadata": {},
   "outputs": [],
   "source": [
    "starting_alpha = 10**5"
   ]
  },
  {
   "cell_type": "markdown",
   "metadata": {},
   "source": [
    "By default, it is `which_set = 'validation'` (rather than `'test'` or `'training'`), namely the cross validation is performed on the $\\chi^2$ evaluated on the same observables as training but left-out frames of the trajectory (you can also select `which_set = 'test'`, which means, $\\chi^2$ on left-out observables)."
   ]
  },
  {
   "cell_type": "code",
   "execution_count": 25,
   "metadata": {},
   "outputs": [
    {
     "name": "stdout",
     "output_type": "stream",
     "text": [
      "Input random_state employed both for test_obs and test_frames\n",
      "Input random_state employed both for test_obs and test_frames\n",
      "\n",
      "log10 hyperpars:  [('alpha', 5.0)]\n",
      "av. chi2:  25608.77485106343\n",
      "av. gradient:  [36813.09440159]\n",
      "\n",
      "log10 hyperpars:  [('alpha', 4.0)]\n",
      "av. chi2:  4493.183154826036\n",
      "av. gradient:  [8145.020228]\n",
      "\n",
      "log10 hyperpars:  [('alpha', 3.7158853371633187)]\n",
      "av. chi2:  2731.104853933969\n",
      "av. gradient:  [4559.40330318]\n",
      "\n",
      "log10 hyperpars:  [('alpha', 3.3546104549378253)]\n",
      "av. chi2:  1572.9549668341629\n",
      "av. gradient:  [2141.93746377]\n",
      "\n",
      "log10 hyperpars:  [('alpha', 3.0345115346790315)]\n",
      "av. chi2:  1082.252127054382\n",
      "av. gradient:  [1036.79831849]\n",
      "\n",
      "log10 hyperpars:  [('alpha', 2.7342072483895485)]\n",
      "av. chi2:  865.2081054538016\n",
      "av. gradient:  [463.35872209]\n",
      "\n",
      "log10 hyperpars:  [('alpha', 2.491551158351449)]\n",
      "av. chi2:  772.2020279013784\n",
      "av. gradient:  [262.93131831]\n",
      "\n",
      "log10 hyperpars:  [('alpha', 2.1732220055298734)]\n",
      "av. chi2:  729.7359252684241\n",
      "av. gradient:  [25.89588586]\n",
      "\n",
      "log10 hyperpars:  [('alpha', 2.138444861363098)]\n",
      "av. chi2:  729.2520761203467\n",
      "av. gradient:  [4.9213523]\n"
     ]
    }
   ],
   "source": [
    "mini = hyper_minimizer(data, starting_alpha=starting_alpha, random_states=2, which_set='validation', gtol=0.5)"
   ]
  },
  {
   "cell_type": "code",
   "execution_count": 26,
   "metadata": {},
   "outputs": [
    {
     "data": {
      "text/plain": [
       "          fun: DeviceArray(729.25207612, dtype=float64)\n",
       "     hess_inv: <1x1 LbfgsInvHessProduct with dtype=float64>\n",
       " intermediate: <MDRefine.hyperminimizer.hyper_minimizer.<locals>.hyper_intermediate_class object at 0x7fa0c41e27b8>\n",
       "          jac: array([4.9213523])\n",
       "      message: b'CONVERGENCE: REL_REDUCTION_OF_F_<=_FACTR*EPSMCH'\n",
       "         nfev: 9\n",
       "          nit: 8\n",
       "         njev: 9\n",
       "       status: 0\n",
       "      success: True\n",
       "            x: array([2.13844486])"
      ]
     },
     "execution_count": 26,
     "metadata": {},
     "output_type": "execute_result"
    }
   ],
   "source": [
    "mini"
   ]
  },
  {
   "cell_type": "code",
   "execution_count": 27,
   "metadata": {},
   "outputs": [
    {
     "name": "stdout",
     "output_type": "stream",
     "text": [
      "[137.54501701]\n"
     ]
    }
   ],
   "source": [
    "optimal_alpha = 10**(mini.x)\n",
    "\n",
    "print(optimal_alpha)"
   ]
  },
  {
   "cell_type": "markdown",
   "metadata": {},
   "source": [
    "This optimal value of the hyperparameter is compatible with that reported in the previous plot. We can now minimize the loss function at this optimal value."
   ]
  },
  {
   "cell_type": "code",
   "execution_count": 28,
   "metadata": {},
   "outputs": [],
   "source": [
    "Result = minimizer(data, alpha=optimal_alpha)"
   ]
  },
  {
   "cell_type": "markdown",
   "metadata": {},
   "source": [
    "### e. Do all together with `MDRefinement`"
   ]
  },
  {
   "cell_type": "markdown",
   "metadata": {},
   "source": [
    "All these steps are consequentially performed by `MDRefinement`, which first loads the stored data, then determine the optimal hyperparameters through automatic minimization of test $\\chi^2$ and finally minimize the loss function at optimized value of the hyperparameter."
   ]
  },
  {
   "cell_type": "code",
   "execution_count": 29,
   "metadata": {},
   "outputs": [
    {
     "name": "stdout",
     "output_type": "stream",
     "text": [
      "loading data from directory...\n",
      "loading  AAAA\n",
      "loading  CAAU\n",
      "done\n",
      "\n",
      "search for optimal hyperparameters ...\n",
      "Input random_state employed both for test_obs and test_frames\n",
      "Input random_state employed both for test_obs and test_frames\n",
      "\n",
      "log10 hyperpars:  [('alpha', 5.0)]\n",
      "av. chi2:  25608.77485106343\n",
      "av. gradient:  [36813.09440159]\n",
      "\n",
      "log10 hyperpars:  [('alpha', 4.0)]\n",
      "av. chi2:  4493.183154826036\n",
      "av. gradient:  [8145.020228]\n",
      "\n",
      "log10 hyperpars:  [('alpha', 3.7158853371633187)]\n",
      "av. chi2:  2731.104853933969\n",
      "av. gradient:  [4559.40330318]\n",
      "\n",
      "log10 hyperpars:  [('alpha', 3.3546104549378253)]\n",
      "av. chi2:  1572.9549668341629\n",
      "av. gradient:  [2141.93746377]\n",
      "\n",
      "log10 hyperpars:  [('alpha', 3.0345115346790315)]\n",
      "av. chi2:  1082.252127054382\n",
      "av. gradient:  [1036.79831849]\n",
      "\n",
      "log10 hyperpars:  [('alpha', 2.7342072483895485)]\n",
      "av. chi2:  865.2081054538016\n",
      "av. gradient:  [463.35872209]\n",
      "\n",
      "log10 hyperpars:  [('alpha', 2.491551158351449)]\n",
      "av. chi2:  772.2020279013784\n",
      "av. gradient:  [262.93131831]\n",
      "\n",
      "log10 hyperpars:  [('alpha', 2.1732220055298734)]\n",
      "av. chi2:  729.7359252684241\n",
      "av. gradient:  [25.89588586]\n",
      "\n",
      "log10 hyperpars:  [('alpha', 2.138444861363098)]\n",
      "av. chi2:  729.2520761203467\n",
      "av. gradient:  [4.9213523]\n",
      "\n",
      "optimal hyperparameters: alpha: 137.54501701053874 \n",
      "\n",
      "refinement with optimal hyperparameters...\n",
      "\n",
      "done\n"
     ]
    }
   ],
   "source": [
    "Result = MDRefinement(infos, stride=stride, starting_alpha=1e5, random_states=2, which_set='validation', gtol=0.5)"
   ]
  },
  {
   "cell_type": "code",
   "execution_count": 30,
   "metadata": {},
   "outputs": [
    {
     "data": {
      "text/plain": [
       "{'loss': DeviceArray(216.95960871, dtype=float64),\n",
       " 'min_lambdas': {'AAAA': {'backbone1_gamma_3J': DeviceArray([-4.77422821e-03,  9.05251836e-04, -8.54306309e-05,\n",
       "                 3.07643299e-03,  1.73877141e-04,  1.63986698e-04,\n",
       "                 1.10205758e-03, -3.94188780e-04], dtype=float64),\n",
       "   'backbone2_beta_epsilon_3J': DeviceArray([-0.0060744 ,  0.00013786,  0.0043971 , -0.00593966,\n",
       "                 0.0024752 ,  0.00467636, -0.00795797, -0.00059953,\n",
       "                 0.00613014], dtype=float64),\n",
       "   'sugar_3J': DeviceArray([0.0059456 , 0.00411691, 0.00764767, 0.00449311, 0.00316658,\n",
       "                0.00455179, 0.00280579, 0.00177831, 0.0041975 , 0.00548592,\n",
       "                0.00173208], dtype=float64),\n",
       "   'NOEs': DeviceArray([ 3.73276602e+01, -1.29708726e+01,  4.71953696e+01,\n",
       "                 3.39679874e+01, -2.13069492e+01, -1.77827344e+01,\n",
       "                 1.58646781e+01,  1.52751354e+00,  4.08492127e+00,\n",
       "                -5.70763863e+00,  1.11169411e+01,  3.04478196e+01,\n",
       "                 2.90661508e+02, -1.18987417e+01, -2.66196193e+01,\n",
       "                 4.92449598e+01, -1.89140556e+00,  1.11199695e+02,\n",
       "                -9.37428185e+00,  2.86390483e+00,  3.05676580e+01,\n",
       "                 1.17552004e+00, -2.43296892e+01,  1.48034405e+02,\n",
       "                 4.03048355e+01,  9.30354526e+01,  1.57193906e+02,\n",
       "                 9.00490424e+01, -2.46909254e-01, -1.74889719e+00,\n",
       "                -4.48057854e+00, -3.84465287e+01,  9.38175617e+01,\n",
       "                 2.15366220e+01,  1.48711076e+01,  1.21644969e+02],            dtype=float64),\n",
       "   'uNOEs': DeviceArray([   0.        ,    0.        ,    0.        ,    0.        ,\n",
       "                 205.01651465,    0.        ,    0.        ,    0.        ,\n",
       "                   0.        ,    0.        ,    0.        ,    0.        ,\n",
       "                   0.        ,    0.        ,    0.        ,    0.        ,\n",
       "                   0.        ,    0.        ,    0.        ,    0.        ,\n",
       "                   0.        ,    0.        ,    0.        ,    0.        ,\n",
       "                   0.        ,    0.        ,    0.        ,    0.        ,\n",
       "                   0.        ,  159.71392744,    0.        ,    0.        ,\n",
       "                   0.        ,    0.        ,    0.        ,    0.        ,\n",
       "                   0.        ,  470.71287271,    0.        ,    0.        ,\n",
       "                   0.        ,    0.        ,    0.        ,    0.        ,\n",
       "                   0.        ,    0.        ,    0.        ,    0.        ,\n",
       "                   0.        ,   28.56197221,    0.        ,    0.        ,\n",
       "                   0.        ,    0.        ,    0.        ,    0.        ,\n",
       "                   0.        ,    0.        ,    0.        ,    0.        ,\n",
       "                   0.        ,    0.        ,    0.        ,    0.        ,\n",
       "                   0.        ,    0.        ,    0.        ,    0.        ,\n",
       "                   0.        ,    0.        ,    0.        ,    0.        ,\n",
       "                   0.        ,    0.        ,    0.        ,   54.43745451,\n",
       "                   0.        ,   56.25087373,    0.        ,    0.        ,\n",
       "                 208.24032483,    0.        ,    0.        ,    0.        ,\n",
       "                   0.        ,    0.        ,    0.        ,    0.        ,\n",
       "                   0.        ,    0.        ,    0.        ,    0.        ,\n",
       "                   0.        ,    0.        , 1362.81649986,  199.84608039,\n",
       "                   0.        ,    0.        ,    0.        ,    0.        ,\n",
       "                   0.        ,    0.        ,    0.        ,    0.        ,\n",
       "                 107.05220887,    0.        ,    0.        ,    0.        ,\n",
       "                   0.        ,    0.        ,    0.        ,    0.        ,\n",
       "                   0.        ,    0.        ,    0.        ,    0.        ,\n",
       "                  69.08623852,    0.        ,    0.        ,    0.        ,\n",
       "                   0.        ,    0.        ,    0.        ,    0.        ,\n",
       "                   0.        ,    0.        ,    0.        ,    0.        ,\n",
       "                   0.        ,    0.        ,    0.        ,    0.        ,\n",
       "                   0.        ,    0.        ,    0.        ,  168.96392539,\n",
       "                   0.        ,    0.        ,    0.        ,    0.        ,\n",
       "                   0.        ,    0.        ,    0.        ,    0.        ,\n",
       "                   0.        ,    0.        ,    0.        ,    0.        ,\n",
       "                   0.        ,    0.        ,    0.        ,    0.        ,\n",
       "                   0.        ,    0.        ,    0.        ,    0.        ,\n",
       "                   0.        ,    0.        ,    0.        ,    0.        ,\n",
       "                   0.        ,    0.        ,    0.        ,    0.        ,\n",
       "                   0.        ,    0.        ,    0.        ,    0.        ,\n",
       "                   0.        ,    0.        ,    0.        ,    0.        ,\n",
       "                   0.        ,    0.        ,    0.        ,    0.        ,\n",
       "                   0.        ,   12.01089888,    0.        ,    0.        ,\n",
       "                   0.        ,    0.        ,    0.        ,    0.        ,\n",
       "                   0.        ,    0.        ,    0.        ,    0.        ,\n",
       "                   0.        ,    0.        ,    0.        ,    0.        ,\n",
       "                   0.        ,    0.        ,    0.        ,    0.        ,\n",
       "                   0.        ,    0.        ,    0.        ,    0.        ,\n",
       "                   0.        ,    0.        ,    0.        ,    0.        ,\n",
       "                   0.        ,    0.        ,    0.        ,    0.        ,\n",
       "                   0.        ,    0.        ,    0.        ,    0.        ,\n",
       "                   0.        ,    0.        ,    0.        ,    0.        ,\n",
       "                   0.        ,    0.        ,    0.        ,    0.        ,\n",
       "                   0.        ,    0.        ,    0.        ,    0.        ,\n",
       "                   0.        ,    0.        ,    0.        ,    0.        ,\n",
       "                   0.        ,    0.        ,    0.        ,    0.        ,\n",
       "                   0.        ,    0.        ,    0.        ,    0.        ,\n",
       "                   0.        ,    0.        ,    0.        ,    0.        ,\n",
       "                   0.        ,    0.        ,    0.        ,    0.        ],            dtype=float64)},\n",
       "  'CAAU': {'backbone1_gamma_3J': DeviceArray([ 0.00257952, -0.00426337, -0.00178356, -0.00063472,\n",
       "                 0.00039779,  0.00203851,  0.00301288,  0.00296164],            dtype=float64),\n",
       "   'backbone2_beta_epsilon_3J': DeviceArray([ 0.00037149,  0.00023332, -0.0080192 ,  0.00094322,\n",
       "                 0.0042296 , -0.00586866, -0.00249743, -0.00191544],            dtype=float64),\n",
       "   'sugar_3J': DeviceArray([ 0.00479237, -0.00045066,  0.00456075,  0.00190537,\n",
       "                -0.00102846,  0.00354622,  0.0002575 ,  0.00060323,\n",
       "                 0.00494365,  0.00853226,  0.00421556], dtype=float64),\n",
       "   'NOEs': DeviceArray([ 37.09996323,  81.00252548,  13.48913007,  -5.83480645,\n",
       "                 19.34506722,  18.31258155, 113.96018347,  35.31433835,\n",
       "                 99.97596298, -23.73010335,  44.97859586,   0.4761387 ,\n",
       "                 92.58146099,  73.34421805,  13.97972633, -23.34392647,\n",
       "                -43.33555627,   2.64914974,  29.44415046,  -2.74128488,\n",
       "                 -7.58439693, 151.25061189,  40.21423151,  34.89151094,\n",
       "                  1.39005722, -19.60802393, -23.56227535,   7.08274923,\n",
       "                 13.27706504,   1.0631777 ,   2.50856162,  -0.99089913,\n",
       "                  3.01480946,  18.95376078, -80.85622087,  17.08736238,\n",
       "                 39.55268329,  41.89839489,  16.54061305], dtype=float64),\n",
       "   'uNOEs': DeviceArray([0.00000000e+00, 0.00000000e+00, 0.00000000e+00,\n",
       "                0.00000000e+00, 0.00000000e+00, 0.00000000e+00,\n",
       "                0.00000000e+00, 0.00000000e+00, 0.00000000e+00,\n",
       "                0.00000000e+00, 0.00000000e+00, 0.00000000e+00,\n",
       "                0.00000000e+00, 0.00000000e+00, 0.00000000e+00,\n",
       "                0.00000000e+00, 0.00000000e+00, 0.00000000e+00,\n",
       "                0.00000000e+00, 0.00000000e+00, 0.00000000e+00,\n",
       "                0.00000000e+00, 0.00000000e+00, 0.00000000e+00,\n",
       "                0.00000000e+00, 0.00000000e+00, 0.00000000e+00,\n",
       "                0.00000000e+00, 2.76980802e+02, 0.00000000e+00,\n",
       "                0.00000000e+00, 0.00000000e+00, 0.00000000e+00,\n",
       "                0.00000000e+00, 0.00000000e+00, 0.00000000e+00,\n",
       "                0.00000000e+00, 0.00000000e+00, 0.00000000e+00,\n",
       "                1.54461893e+02, 3.48187467e+02, 0.00000000e+00,\n",
       "                0.00000000e+00, 0.00000000e+00, 1.53917054e+02,\n",
       "                9.19189174e+01, 0.00000000e+00, 0.00000000e+00,\n",
       "                0.00000000e+00, 0.00000000e+00, 0.00000000e+00,\n",
       "                0.00000000e+00, 0.00000000e+00, 0.00000000e+00,\n",
       "                0.00000000e+00, 0.00000000e+00, 0.00000000e+00,\n",
       "                0.00000000e+00, 0.00000000e+00, 0.00000000e+00,\n",
       "                0.00000000e+00, 4.55551872e+01, 0.00000000e+00,\n",
       "                0.00000000e+00, 0.00000000e+00, 0.00000000e+00,\n",
       "                0.00000000e+00, 0.00000000e+00, 0.00000000e+00,\n",
       "                0.00000000e+00, 0.00000000e+00, 0.00000000e+00,\n",
       "                0.00000000e+00, 0.00000000e+00, 0.00000000e+00,\n",
       "                4.08823939e+01, 0.00000000e+00, 0.00000000e+00,\n",
       "                0.00000000e+00, 0.00000000e+00, 2.40129820e+02,\n",
       "                0.00000000e+00, 0.00000000e+00, 0.00000000e+00,\n",
       "                1.97698145e+00, 0.00000000e+00, 0.00000000e+00,\n",
       "                0.00000000e+00, 0.00000000e+00, 0.00000000e+00,\n",
       "                0.00000000e+00, 0.00000000e+00, 0.00000000e+00,\n",
       "                0.00000000e+00, 0.00000000e+00, 0.00000000e+00,\n",
       "                0.00000000e+00, 0.00000000e+00, 0.00000000e+00,\n",
       "                0.00000000e+00, 0.00000000e+00, 0.00000000e+00,\n",
       "                0.00000000e+00, 0.00000000e+00, 0.00000000e+00,\n",
       "                0.00000000e+00, 0.00000000e+00, 0.00000000e+00,\n",
       "                0.00000000e+00, 0.00000000e+00, 0.00000000e+00,\n",
       "                0.00000000e+00, 0.00000000e+00, 0.00000000e+00,\n",
       "                0.00000000e+00, 0.00000000e+00, 0.00000000e+00,\n",
       "                0.00000000e+00, 0.00000000e+00, 0.00000000e+00,\n",
       "                0.00000000e+00, 0.00000000e+00, 0.00000000e+00,\n",
       "                0.00000000e+00, 0.00000000e+00, 0.00000000e+00,\n",
       "                6.51937010e-01, 0.00000000e+00, 0.00000000e+00,\n",
       "                0.00000000e+00, 0.00000000e+00, 1.91590541e+02,\n",
       "                0.00000000e+00, 0.00000000e+00, 0.00000000e+00,\n",
       "                0.00000000e+00, 0.00000000e+00, 1.47100897e+02,\n",
       "                0.00000000e+00, 0.00000000e+00, 0.00000000e+00,\n",
       "                0.00000000e+00, 0.00000000e+00, 0.00000000e+00,\n",
       "                0.00000000e+00, 0.00000000e+00, 0.00000000e+00,\n",
       "                0.00000000e+00, 0.00000000e+00, 0.00000000e+00,\n",
       "                0.00000000e+00, 0.00000000e+00, 0.00000000e+00,\n",
       "                0.00000000e+00, 0.00000000e+00, 0.00000000e+00,\n",
       "                0.00000000e+00, 0.00000000e+00, 0.00000000e+00,\n",
       "                0.00000000e+00, 0.00000000e+00, 0.00000000e+00,\n",
       "                0.00000000e+00, 0.00000000e+00, 0.00000000e+00,\n",
       "                0.00000000e+00, 0.00000000e+00, 0.00000000e+00,\n",
       "                0.00000000e+00, 0.00000000e+00, 0.00000000e+00,\n",
       "                0.00000000e+00, 2.76319414e+02, 0.00000000e+00,\n",
       "                0.00000000e+00, 0.00000000e+00, 0.00000000e+00,\n",
       "                0.00000000e+00, 0.00000000e+00, 0.00000000e+00,\n",
       "                0.00000000e+00, 2.71694345e+02, 2.23981202e+02,\n",
       "                0.00000000e+00, 7.24768092e+02, 0.00000000e+00,\n",
       "                0.00000000e+00, 0.00000000e+00, 0.00000000e+00,\n",
       "                0.00000000e+00, 0.00000000e+00, 0.00000000e+00,\n",
       "                0.00000000e+00, 0.00000000e+00, 0.00000000e+00,\n",
       "                0.00000000e+00, 0.00000000e+00, 0.00000000e+00,\n",
       "                1.62573507e+02, 0.00000000e+00, 0.00000000e+00,\n",
       "                0.00000000e+00, 0.00000000e+00, 0.00000000e+00,\n",
       "                0.00000000e+00, 0.00000000e+00, 0.00000000e+00,\n",
       "                1.07282679e+02, 0.00000000e+00, 0.00000000e+00,\n",
       "                0.00000000e+00, 0.00000000e+00, 0.00000000e+00,\n",
       "                0.00000000e+00, 0.00000000e+00, 0.00000000e+00,\n",
       "                0.00000000e+00, 0.00000000e+00, 0.00000000e+00,\n",
       "                0.00000000e+00, 0.00000000e+00, 0.00000000e+00,\n",
       "                0.00000000e+00, 0.00000000e+00, 0.00000000e+00,\n",
       "                0.00000000e+00, 0.00000000e+00, 0.00000000e+00,\n",
       "                0.00000000e+00, 0.00000000e+00, 0.00000000e+00,\n",
       "                0.00000000e+00, 0.00000000e+00, 0.00000000e+00,\n",
       "                0.00000000e+00, 0.00000000e+00, 0.00000000e+00,\n",
       "                0.00000000e+00, 0.00000000e+00, 0.00000000e+00,\n",
       "                0.00000000e+00, 0.00000000e+00, 0.00000000e+00,\n",
       "                0.00000000e+00, 0.00000000e+00, 0.00000000e+00,\n",
       "                0.00000000e+00, 0.00000000e+00, 0.00000000e+00,\n",
       "                0.00000000e+00, 0.00000000e+00, 0.00000000e+00,\n",
       "                0.00000000e+00, 0.00000000e+00, 0.00000000e+00,\n",
       "                0.00000000e+00, 0.00000000e+00, 0.00000000e+00,\n",
       "                0.00000000e+00, 0.00000000e+00, 0.00000000e+00,\n",
       "                0.00000000e+00, 0.00000000e+00, 0.00000000e+00,\n",
       "                5.22773362e+01, 0.00000000e+00, 0.00000000e+00,\n",
       "                0.00000000e+00, 0.00000000e+00, 0.00000000e+00,\n",
       "                0.00000000e+00, 0.00000000e+00, 0.00000000e+00,\n",
       "                0.00000000e+00, 0.00000000e+00, 0.00000000e+00,\n",
       "                0.00000000e+00, 0.00000000e+00, 0.00000000e+00,\n",
       "                0.00000000e+00, 0.00000000e+00, 0.00000000e+00,\n",
       "                0.00000000e+00, 0.00000000e+00, 0.00000000e+00,\n",
       "                0.00000000e+00, 0.00000000e+00, 0.00000000e+00,\n",
       "                0.00000000e+00, 0.00000000e+00, 0.00000000e+00,\n",
       "                0.00000000e+00, 0.00000000e+00, 0.00000000e+00,\n",
       "                0.00000000e+00, 0.00000000e+00, 0.00000000e+00,\n",
       "                0.00000000e+00, 0.00000000e+00, 0.00000000e+00,\n",
       "                0.00000000e+00, 0.00000000e+00, 0.00000000e+00,\n",
       "                0.00000000e+00, 0.00000000e+00, 0.00000000e+00,\n",
       "                0.00000000e+00, 0.00000000e+00, 0.00000000e+00,\n",
       "                0.00000000e+00, 0.00000000e+00, 0.00000000e+00,\n",
       "                0.00000000e+00, 0.00000000e+00, 0.00000000e+00,\n",
       "                0.00000000e+00, 0.00000000e+00, 0.00000000e+00,\n",
       "                0.00000000e+00, 0.00000000e+00, 0.00000000e+00,\n",
       "                0.00000000e+00, 0.00000000e+00, 0.00000000e+00,\n",
       "                0.00000000e+00, 0.00000000e+00, 0.00000000e+00,\n",
       "                0.00000000e+00, 0.00000000e+00, 0.00000000e+00,\n",
       "                0.00000000e+00, 0.00000000e+00, 0.00000000e+00,\n",
       "                0.00000000e+00, 0.00000000e+00, 0.00000000e+00,\n",
       "                0.00000000e+00, 0.00000000e+00, 0.00000000e+00,\n",
       "                0.00000000e+00, 0.00000000e+00, 0.00000000e+00,\n",
       "                0.00000000e+00, 0.00000000e+00, 0.00000000e+00,\n",
       "                0.00000000e+00, 0.00000000e+00, 0.00000000e+00,\n",
       "                0.00000000e+00, 0.00000000e+00, 0.00000000e+00,\n",
       "                0.00000000e+00, 0.00000000e+00, 0.00000000e+00,\n",
       "                0.00000000e+00, 0.00000000e+00, 1.41141005e+02,\n",
       "                0.00000000e+00, 0.00000000e+00, 0.00000000e+00,\n",
       "                0.00000000e+00, 0.00000000e+00, 0.00000000e+00,\n",
       "                0.00000000e+00, 2.57117629e+02, 0.00000000e+00,\n",
       "                0.00000000e+00, 0.00000000e+00, 0.00000000e+00,\n",
       "                0.00000000e+00, 0.00000000e+00, 0.00000000e+00,\n",
       "                0.00000000e+00, 0.00000000e+00, 0.00000000e+00,\n",
       "                0.00000000e+00, 0.00000000e+00], dtype=float64)}},\n",
       " 'minis': {'AAAA':       fun: DeviceArray(-0.41115979, dtype=float64)\n",
       "   hess_inv: <308x308 LbfgsInvHessProduct with dtype=float64>\n",
       "        jac: array([-2.38734575e-04, -3.43366298e-04, -1.57627688e-04, -1.31249920e-04,\n",
       "         -7.35778589e-07,  1.25763782e-05, -3.41663564e-04,  1.51406614e-05,\n",
       "          3.43302159e-05,  3.10628220e-05,  9.82352519e-04, -5.39453054e-04,\n",
       "         -3.07371787e-04, -2.38343125e-04,  1.78890219e-05,  9.52839850e-05,\n",
       "         -2.18959028e-04, -3.47286326e-04,  4.74486771e-05, -5.23613509e-04,\n",
       "         -1.35942736e-04,  1.66268954e-04,  7.42348477e-05,  1.51181261e-04,\n",
       "          1.07283028e-04,  7.47139439e-05, -3.04888723e-04, -1.17606152e-04,\n",
       "         -1.14870080e-04,  7.77623747e-05,  5.91348134e-05, -1.04554340e-04,\n",
       "          7.95411601e-04, -2.56299034e-04, -1.37671402e-04, -8.68096305e-05,\n",
       "         -2.47911677e-04,  2.70277312e-05, -8.92044865e-05, -9.28708953e-05,\n",
       "         -1.40206170e-04,  1.23759782e-04,  7.20944984e-05, -4.06602469e-04,\n",
       "         -2.13432205e-04,  2.44437900e-04, -4.09207851e-05,  1.12589242e-04,\n",
       "         -2.17765517e-04, -2.25180287e-04,  4.65739997e-04,  1.81857633e-04,\n",
       "          2.51640443e-04, -1.07495566e-04,  1.06734567e-04,  9.30321724e-05,\n",
       "         -3.64838981e-04,  1.43035147e-04,  6.10537723e-05, -4.34597217e-04,\n",
       "          1.65270479e-04,  3.32834425e-04, -2.03830638e-04, -1.17533692e-04,\n",
       "          1.13325240e+01,  2.36982559e-01,  2.38902469e+00,  3.41500351e+01,\n",
       "          2.18705135e-04,  1.10804171e+01,  8.90950988e-01,  1.22010890e+00,\n",
       "          6.46901027e-02,  5.85817795e-01,  4.72980468e-01,  3.54511301e-01,\n",
       "          1.96432842e+00,  2.08659091e+00,  4.91534315e-01,  5.25185062e+00,\n",
       "          4.77917426e-01,  5.13318363e-01,  9.36329792e-02,  1.40960032e+01,\n",
       "          1.19411451e+01,  1.08313190e+01,  1.94421825e+01,  1.59488923e+00,\n",
       "          9.01850727e+00,  1.62383683e+01,  8.95503570e+01,  5.62529525e+01,\n",
       "          3.54172239e+01,  5.59174978e-05,  9.26763048e+00,  2.40532154e+00,\n",
       "          1.57225982e+00,  2.14730799e-01,  1.20394058e+00,  1.43839395e+00,\n",
       "          1.09718890e-01, -2.46171868e-04,  2.16507256e+00,  3.15368403e+00,\n",
       "          1.73961333e+00,  6.35546895e-03,  9.07805617e-01,  1.00224977e+00,\n",
       "          2.41338511e-01,  1.54589705e+00,  8.43142808e-01,  9.26602377e-01,\n",
       "          1.65501375e-01, -2.89497067e-05,  3.07860846e-01,  1.09752170e-01,\n",
       "          2.43742340e-01,  2.16700075e+01,  5.86007286e+00,  1.62888161e+00,\n",
       "          6.62029850e-01,  1.46558207e+00,  4.56996083e-01,  1.15730079e+00,\n",
       "          6.06338566e+00,  1.70390532e-01,  7.71121387e+00,  8.41269042e+00,\n",
       "          3.48527872e-01,  1.04064941e-01,  4.57355137e-01,  1.46593612e+01,\n",
       "          5.54060912e+00,  2.03216917e+01,  4.07237992e+00,  1.03669996e+00,\n",
       "          6.61113918e+00,  1.76962292e+00,  7.32525482e-01,  3.67195192e-04,\n",
       "          9.94436106e-01, -2.42693498e-04,  3.48937867e+01,  2.10218846e+00,\n",
       "          5.26060854e-05,  1.46556728e-01,  2.37230851e+00,  4.21055561e-01,\n",
       "          2.21311751e-01,  1.63393229e+00,  6.23604619e+00,  1.39951801e+00,\n",
       "          3.12335312e+00,  4.10273344e-01,  2.16402768e+00,  1.47289352e+00,\n",
       "          5.37879661e-01,  1.27566100e-01, -4.12974959e-05, -2.46669733e-04,\n",
       "          4.67979295e-01,  4.16329596e-01,  8.29792729e-01,  2.49635487e+00,\n",
       "          3.50061354e-01,  1.82189615e+01,  1.35026308e+00,  1.16164999e+00,\n",
       "          4.29579261e-05,  1.51157473e+00,  4.61304179e+00,  1.64124780e+00,\n",
       "          1.64283362e+00,  1.53729154e+01,  1.05824932e+00,  4.21101357e+00,\n",
       "          3.76907620e-01,  2.66716740e+00,  1.05452235e+00,  3.36798305e-01,\n",
       "          8.66371247e-05,  8.14869410e-02,  1.61602403e-01,  3.47795387e+00,\n",
       "          7.23018254e+00,  1.68924010e+00,  6.64201606e+00,  7.74876494e+00,\n",
       "          2.37093262e-01,  2.41550082e+01,  6.84144299e+00,  1.04670403e+00,\n",
       "          1.09590931e+01,  6.26216057e+00,  5.45301493e+00,  7.75500781e+00,\n",
       "          5.35379523e-01,  4.60838675e-01,  5.57081059e-01,  9.27070673e-05,\n",
       "          1.88139994e-01,  3.11149366e-03,  8.62273896e+00,  9.63234557e-01,\n",
       "          1.33070997e-02,  6.80443222e-01,  3.37434788e-01,  3.85452245e+00,\n",
       "          2.11989965e+01,  3.95405325e+01,  4.10846033e+01,  1.00849406e+02,\n",
       "          1.84494664e+01,  4.63565398e+01,  1.86065634e-01,  2.43761598e-01,\n",
       "          1.71806823e-01,  7.93832302e-01,  6.91985314e-01,  9.62395155e-01,\n",
       "          3.40731733e-01,  2.69463608e+00,  3.41730654e+01,  3.31782565e+01,\n",
       "          1.60623072e+00,  5.20933076e-01,  1.42421508e+01,  8.75981003e+01,\n",
       "          1.07415503e+02,  1.23343228e+01,  7.85513567e+00,  4.58235639e-01,\n",
       "          7.48925601e-01,  3.98478197e+00,  1.19489948e+01,  2.54155463e-01,\n",
       "          2.11728024e+00,  1.13404858e+00,  8.04053643e+00,  1.43504896e+00,\n",
       "          1.42846709e+00,  2.40689566e-04,  2.17976109e+00,  4.97231703e-01,\n",
       "          1.68102752e+00,  2.04311664e+00,  2.69678601e+00,  3.77547370e+00,\n",
       "          2.52994627e+00,  3.89084749e-01,  7.07058764e+00,  1.36862120e+01,\n",
       "          2.46900879e+00,  1.58686453e+00,  3.03880738e+02,  7.77693998e-01,\n",
       "          1.43489180e+00,  1.04197084e+00,  2.61283714e+00,  8.38751572e-01,\n",
       "          5.24776179e-01,  4.69322387e+00,  6.36688451e+00,  1.30681711e+01,\n",
       "          1.19654639e+00,  5.15668561e+01,  6.13548127e+00,  5.57406612e+00,\n",
       "          1.89081778e+00,  1.34309544e+00,  8.64044014e+00,  1.80643069e+00,\n",
       "          1.75554058e+01,  8.01106360e+00,  7.26414880e+00,  2.07021465e+02,\n",
       "          3.18148534e+00,  4.17616982e+00,  5.06429831e+01,  3.28119329e-01,\n",
       "          4.79424094e-01,  2.60445489e+00,  3.66156208e+00,  2.68283505e+00,\n",
       "          1.38460569e+01,  2.25194694e+00,  1.76031493e+01,  1.33787350e+01,\n",
       "          4.87220910e+01,  6.38152293e-01,  9.41052517e+00,  3.90388638e+01,\n",
       "          2.48914412e+01,  1.04307919e+02,  2.97158888e+01,  4.27450569e+01,\n",
       "          5.69392731e+01,  5.76466094e+00,  2.56080010e-01,  3.18001086e+00,\n",
       "          1.01561513e+01,  6.07747529e+00,  3.91991137e+00,  1.18324767e-01,\n",
       "          6.83061751e-01,  2.92180695e+00,  2.54085518e+01,  5.80912377e+00])\n",
       "    message: b'CONVERGENCE: NORM_OF_PROJECTED_GRADIENT_<=_PGTOL'\n",
       "       nfev: 282\n",
       "        nit: 251\n",
       "       njev: 282\n",
       "     status: 0\n",
       "    success: True\n",
       "          x: array([-1.02127838e-02,  2.24890847e-03, -1.15192957e-04,  5.67152261e-03,\n",
       "          2.81160826e-04,  3.42129094e-04,  2.76910271e-03, -6.32712565e-04,\n",
       "         -1.79791503e-02,  2.96689836e-04,  6.41661148e-03, -1.69710060e-02,\n",
       "          5.41338587e-03,  8.53460762e-03, -2.05079090e-02, -1.05735833e-03,\n",
       "          1.17733439e-02,  2.57593134e-02,  5.10374065e-03,  3.09535913e-02,\n",
       "          1.58289325e-02,  3.55214596e-03,  1.46727896e-02,  8.87180595e-03,\n",
       "          2.07321119e-03,  1.13725427e-02,  2.63615528e-02,  7.73850005e-03,\n",
       "          6.80386198e-02, -2.57991514e-03,  5.03078074e-02,  7.07392158e-02,\n",
       "         -2.12037282e-03, -1.86840121e-03,  2.49540398e-02,  7.96871580e-04,\n",
       "          1.22990253e-02, -5.28979025e-03,  1.97469156e-02,  9.33194141e-02,\n",
       "          1.82937846e-01, -9.51612829e-03, -5.81376797e-04,  5.17176659e-02,\n",
       "         -4.64545564e-04,  1.22785948e-01, -4.59567982e-03,  3.84959953e-03,\n",
       "          1.41699780e-01,  3.78040728e-03, -5.96457265e-03,  6.75566292e-03,\n",
       "          2.12897556e-02,  1.29380255e-01,  4.11167800e-02,  4.04619631e-02,\n",
       "         -3.55770382e-04, -4.66789347e-03, -7.01370253e-03, -1.43294852e-02,\n",
       "          1.27253329e-01,  7.82027501e-02,  7.78495378e-04,  1.78143449e-01,\n",
       "          0.00000000e+00,  0.00000000e+00,  0.00000000e+00,  0.00000000e+00,\n",
       "          2.89701526e-02,  0.00000000e+00,  0.00000000e+00,  0.00000000e+00,\n",
       "          0.00000000e+00,  0.00000000e+00,  0.00000000e+00,  0.00000000e+00,\n",
       "          0.00000000e+00,  0.00000000e+00,  0.00000000e+00,  0.00000000e+00,\n",
       "          0.00000000e+00,  0.00000000e+00,  0.00000000e+00,  0.00000000e+00,\n",
       "          0.00000000e+00,  0.00000000e+00,  0.00000000e+00,  0.00000000e+00,\n",
       "          0.00000000e+00,  0.00000000e+00,  0.00000000e+00,  0.00000000e+00,\n",
       "          0.00000000e+00,  2.97441144e-02,  0.00000000e+00,  0.00000000e+00,\n",
       "          0.00000000e+00,  0.00000000e+00,  0.00000000e+00,  0.00000000e+00,\n",
       "          0.00000000e+00,  6.35827917e-01,  0.00000000e+00,  0.00000000e+00,\n",
       "          0.00000000e+00,  0.00000000e+00,  0.00000000e+00,  0.00000000e+00,\n",
       "          0.00000000e+00,  0.00000000e+00,  0.00000000e+00,  0.00000000e+00,\n",
       "          0.00000000e+00,  9.95819230e-03,  0.00000000e+00,  0.00000000e+00,\n",
       "          0.00000000e+00,  0.00000000e+00,  0.00000000e+00,  0.00000000e+00,\n",
       "          0.00000000e+00,  0.00000000e+00,  0.00000000e+00,  0.00000000e+00,\n",
       "          0.00000000e+00,  0.00000000e+00,  0.00000000e+00,  0.00000000e+00,\n",
       "          0.00000000e+00,  0.00000000e+00,  0.00000000e+00,  0.00000000e+00,\n",
       "          0.00000000e+00,  0.00000000e+00,  0.00000000e+00,  0.00000000e+00,\n",
       "          0.00000000e+00,  0.00000000e+00,  0.00000000e+00,  7.11652815e-02,\n",
       "          0.00000000e+00,  5.72034454e-02,  0.00000000e+00,  0.00000000e+00,\n",
       "          4.08203580e-02,  0.00000000e+00,  0.00000000e+00,  0.00000000e+00,\n",
       "          0.00000000e+00,  0.00000000e+00,  0.00000000e+00,  0.00000000e+00,\n",
       "          0.00000000e+00,  0.00000000e+00,  0.00000000e+00,  0.00000000e+00,\n",
       "          0.00000000e+00,  0.00000000e+00,  4.69708407e-01,  1.32666974e-01,\n",
       "          0.00000000e+00,  0.00000000e+00,  0.00000000e+00,  0.00000000e+00,\n",
       "          0.00000000e+00,  0.00000000e+00,  0.00000000e+00,  0.00000000e+00,\n",
       "          9.22838589e-02,  0.00000000e+00,  0.00000000e+00,  0.00000000e+00,\n",
       "          0.00000000e+00,  0.00000000e+00,  0.00000000e+00,  0.00000000e+00,\n",
       "          0.00000000e+00,  0.00000000e+00,  0.00000000e+00,  0.00000000e+00,\n",
       "          4.34189926e-02,  0.00000000e+00,  0.00000000e+00,  0.00000000e+00,\n",
       "          0.00000000e+00,  0.00000000e+00,  0.00000000e+00,  0.00000000e+00,\n",
       "          0.00000000e+00,  0.00000000e+00,  0.00000000e+00,  0.00000000e+00,\n",
       "          0.00000000e+00,  0.00000000e+00,  0.00000000e+00,  0.00000000e+00,\n",
       "          0.00000000e+00,  0.00000000e+00,  0.00000000e+00,  1.32467333e-01,\n",
       "          0.00000000e+00,  0.00000000e+00,  0.00000000e+00,  0.00000000e+00,\n",
       "          0.00000000e+00,  0.00000000e+00,  0.00000000e+00,  0.00000000e+00,\n",
       "          0.00000000e+00,  0.00000000e+00,  0.00000000e+00,  0.00000000e+00,\n",
       "          0.00000000e+00,  0.00000000e+00,  0.00000000e+00,  0.00000000e+00,\n",
       "          0.00000000e+00,  0.00000000e+00,  0.00000000e+00,  0.00000000e+00,\n",
       "          0.00000000e+00,  0.00000000e+00,  0.00000000e+00,  0.00000000e+00,\n",
       "          0.00000000e+00,  0.00000000e+00,  0.00000000e+00,  0.00000000e+00,\n",
       "          0.00000000e+00,  0.00000000e+00,  0.00000000e+00,  0.00000000e+00,\n",
       "          0.00000000e+00,  0.00000000e+00,  0.00000000e+00,  0.00000000e+00,\n",
       "          0.00000000e+00,  0.00000000e+00,  0.00000000e+00,  0.00000000e+00,\n",
       "          0.00000000e+00,  1.69044532e-02,  0.00000000e+00,  0.00000000e+00,\n",
       "          0.00000000e+00,  0.00000000e+00,  0.00000000e+00,  0.00000000e+00,\n",
       "          0.00000000e+00,  0.00000000e+00,  0.00000000e+00,  0.00000000e+00,\n",
       "          0.00000000e+00,  0.00000000e+00,  0.00000000e+00,  0.00000000e+00,\n",
       "          0.00000000e+00,  0.00000000e+00,  0.00000000e+00,  0.00000000e+00,\n",
       "          0.00000000e+00,  0.00000000e+00,  0.00000000e+00,  0.00000000e+00,\n",
       "          0.00000000e+00,  0.00000000e+00,  0.00000000e+00,  0.00000000e+00,\n",
       "          0.00000000e+00,  0.00000000e+00,  0.00000000e+00,  0.00000000e+00,\n",
       "          0.00000000e+00,  0.00000000e+00,  0.00000000e+00,  0.00000000e+00,\n",
       "          0.00000000e+00,  0.00000000e+00,  0.00000000e+00,  0.00000000e+00,\n",
       "          0.00000000e+00,  0.00000000e+00,  0.00000000e+00,  0.00000000e+00,\n",
       "          0.00000000e+00,  0.00000000e+00,  0.00000000e+00,  0.00000000e+00,\n",
       "          0.00000000e+00,  0.00000000e+00,  0.00000000e+00,  0.00000000e+00,\n",
       "          0.00000000e+00,  0.00000000e+00,  0.00000000e+00,  0.00000000e+00,\n",
       "          0.00000000e+00,  0.00000000e+00,  0.00000000e+00,  0.00000000e+00,\n",
       "          0.00000000e+00,  0.00000000e+00,  0.00000000e+00,  0.00000000e+00,\n",
       "          0.00000000e+00,  0.00000000e+00,  0.00000000e+00,  0.00000000e+00]),\n",
       "  'CAAU':       fun: DeviceArray(-1.16621185, dtype=float64)\n",
       "   hess_inv: <443x443 LbfgsInvHessProduct with dtype=float64>\n",
       "        jac: array([-7.74297847e-04,  1.06118314e-04,  1.09078319e-05, -3.51289134e-04,\n",
       "         -2.74375762e-04,  9.63119472e-04, -3.33112930e-04,  2.64531407e-04,\n",
       "         -1.22484450e-04, -1.40163764e-05, -3.77572704e-04, -4.58314666e-06,\n",
       "         -2.80909288e-04,  2.66190809e-04,  8.26281089e-04, -6.09263616e-05,\n",
       "         -1.30088322e-05, -1.60394701e-06, -1.52312491e-04,  7.05228838e-05,\n",
       "         -3.16159536e-04, -4.18541704e-04, -4.84157844e-05, -1.19101680e-05,\n",
       "         -6.43885766e-05, -1.76792677e-04,  1.05163513e-04,  4.62748653e-04,\n",
       "         -2.66585814e-05,  4.07819782e-04,  7.72403086e-05,  2.00342741e-05,\n",
       "          2.43989977e-04,  1.14413879e-04,  3.39493874e-05, -1.22937219e-04,\n",
       "          6.56490758e-04, -9.95380451e-05, -5.78954022e-04, -5.71275736e-04,\n",
       "         -4.06313507e-05, -8.44450671e-05,  1.71933387e-05,  1.90004205e-04,\n",
       "         -1.36405542e-04, -1.33284760e-05, -8.12561095e-05,  7.59955120e-05,\n",
       "          1.34525679e-06,  2.31876253e-04,  3.44906815e-04,  2.71066372e-04,\n",
       "         -3.00654900e-05, -4.64880780e-04,  1.04438152e-04,  6.21314189e-05,\n",
       "          7.69944137e-05,  4.96069226e-04, -1.17982991e-04,  5.98621560e-05,\n",
       "          3.21850446e-04, -6.47356082e-05,  1.35634044e-04,  3.13770591e-05,\n",
       "         -1.63479433e-04,  3.43325452e-04,  1.94019833e+00,  4.09621502e+00,\n",
       "          3.43335659e+00,  2.13435915e+00,  4.02456922e-01,  1.10673644e+01,\n",
       "          2.63244163e+00,  1.67810063e-01,  7.48032260e-02,  1.69213136e-01,\n",
       "          9.65533642e-01,  1.36453699e+00,  1.35523397e+01,  3.25550171e-01,\n",
       "          3.03102681e+01,  3.27972438e+01,  3.42838924e-01,  3.63383115e+01,\n",
       "          2.20902891e+01,  4.39353818e+00,  4.71922061e+00,  5.71048043e+00,\n",
       "          7.22430525e+01,  2.76785782e+01,  6.06816239e+00,  2.22217368e+01,\n",
       "          3.80415043e+00,  5.56678007e+01, -4.04400436e-05,  1.82388734e+00,\n",
       "          1.33398635e+00,  5.05041277e+01,  4.40858339e+00,  3.89009130e+00,\n",
       "          2.15124816e+00,  7.35770991e+00,  3.46787820e+01,  2.33545833e+01,\n",
       "          2.21152662e+01, -1.95289617e-04, -1.47869838e-04,  2.67185095e+00,\n",
       "          4.24973024e+00,  1.34635024e+00,  2.94920503e-04, -1.32722616e-04,\n",
       "          6.25411044e-01,  1.47952475e-01,  1.23118488e+00,  1.17306887e+00,\n",
       "          6.20899844e-01,  1.18717964e+00,  1.68725252e+01,  2.74780315e+00,\n",
       "          3.70370199e-01,  1.07970441e-01,  9.23957239e-01,  1.01276823e+01,\n",
       "          5.41495254e+00,  4.05560008e+00,  1.90606817e+00, -2.41254915e-04,\n",
       "          2.08490689e-02,  2.81819541e-01,  3.39641336e-01,  4.15299621e+00,\n",
       "          9.67385576e-01,  1.05558421e+00,  1.59255892e-01,  1.18441193e+00,\n",
       "          2.34240445e+00,  7.94022752e-01,  2.93035426e-01,  4.37027865e-01,\n",
       "          3.71687493e-02, -2.38676549e-04,  1.59052536e-01,  2.19267840e-01,\n",
       "          1.76085493e+00,  2.33640814e-02,  2.60494084e-04,  2.10745745e+00,\n",
       "          6.10135841e-01,  3.76361759e-01,  2.33263975e-04,  3.46070321e-01,\n",
       "          2.57421000e-01,  1.30703327e+00,  1.60911647e+01,  6.93152777e-01,\n",
       "          6.96261397e-01,  2.09122707e-01,  1.44361627e+00,  2.41385184e-01,\n",
       "          1.02562234e+00,  3.50436156e+00,  1.31479362e+00,  8.41240755e-01,\n",
       "          1.70786360e-01,  1.25106018e+00,  1.04873248e-01,  7.62365820e-02,\n",
       "          4.41687718e+00,  1.06180618e+00,  8.37248275e-01,  1.48381068e-01,\n",
       "          9.13499784e-01,  8.89360176e-02,  4.15310519e-02,  3.94007236e-01,\n",
       "          1.32893696e+00,  1.45689469e-01,  2.20270710e-01,  1.17825211e+00,\n",
       "          8.69731849e-01,  3.96409577e+00,  5.36657716e+00,  3.97258164e-01,\n",
       "          8.51936927e+00,  1.83483766e+01,  1.55014483e+01,  2.19581071e+00,\n",
       "          4.38460468e+00,  1.76055972e+00,  2.22056146e-01,  2.09037615e-01,\n",
       "         -2.66463411e-04,  6.37174599e-01,  3.75063678e-01,  4.44546835e+00,\n",
       "          9.87485112e-01, -5.26179867e-05,  3.43127820e+00,  3.24918431e+00,\n",
       "          3.52037500e+00,  1.04675572e+01,  1.93874322e-01, -1.84762085e-04,\n",
       "          1.58436703e+00,  4.66423671e-01,  2.53504602e+01,  1.62219409e+01,\n",
       "          1.13609497e+00,  4.63731459e-02,  4.87569767e+00,  5.22467459e+00,\n",
       "          2.29203558e+00,  1.23635700e+00,  1.81179500e-01,  5.27339961e-02,\n",
       "          9.83000405e-01,  9.14389046e-02,  3.02846463e+00,  4.51723855e+00,\n",
       "          9.75484449e-01,  5.44711935e+00,  1.93183444e+01,  1.36826414e+00,\n",
       "          5.82521547e-01,  1.36175768e+00,  3.77441348e+00,  2.88822520e+00,\n",
       "          4.12787108e+00,  4.33766672e+00,  2.13435915e+00,  2.75010376e+00,\n",
       "          2.81680094e+01,  2.26682656e-01,  4.09569897e-01,  1.69679721e+00,\n",
       "          3.09912902e+00,  2.13291143e+00, -8.08190802e-05,  2.52995421e+00,\n",
       "          1.66451029e+00,  1.58644313e+00,  5.70458559e-01,  9.48408985e-01,\n",
       "          1.53059820e+01,  1.49378576e+00,  2.75648072e+00,  1.73114961e-05,\n",
       "          5.25520939e-05,  3.86220244e-01, -7.04293688e-05,  4.18420304e+00,\n",
       "          2.16448098e+00,  3.70926252e-01,  5.69313839e+00,  7.38749452e+00,\n",
       "          3.89747644e-01,  9.31939164e+00,  1.61227583e+00,  1.62477454e+01,\n",
       "          9.13227482e+00,  7.73774121e+00,  1.17839913e+00,  2.18050780e-01,\n",
       "         -1.01366811e-05,  5.44575427e+01,  1.69134164e+00,  2.87900269e-01,\n",
       "          1.15120864e+00,  1.27712840e+01,  2.93033852e+00,  1.31262628e+00,\n",
       "          7.43276194e-03,  1.84374782e-04,  1.67064967e-01,  3.78639403e-01,\n",
       "          5.57824622e-01,  1.21326964e+00,  1.52648833e+00,  1.10764646e+00,\n",
       "          6.64146879e+00,  2.64833245e+00,  1.69213136e-01,  4.41738988e-01,\n",
       "          7.11199662e-02,  1.71830180e-01,  8.81514499e-01,  2.89656477e+00,\n",
       "          2.16492057e+00,  2.04996673e-01,  7.91021992e+00,  1.12858785e+01,\n",
       "          2.52161550e+01,  1.65394757e+01,  1.93226736e+00,  2.16030845e+00,\n",
       "          9.32636404e+00,  4.28413742e+01,  1.99624210e-01,  5.40317295e+00,\n",
       "          1.05382443e+01,  1.42067587e+01,  6.37159659e+00,  4.74962947e+00,\n",
       "          6.06938401e+00,  5.64713768e+00,  6.31387047e-02,  3.09322838e+00,\n",
       "          8.22623585e-02,  3.71907864e-01,  3.14542893e-01,  6.46117629e-01,\n",
       "          3.28332653e+00,  6.97627958e+00,  1.16663788e+01,  2.60304460e+01,\n",
       "          5.20518803e+00,  3.88252156e-01,  3.60598057e+00,  4.07786373e-01,\n",
       "          1.80024348e+00,  1.03924093e+00,  8.25919488e-01,  2.03038375e-01,\n",
       "          9.21995735e-01,  2.64283543e+00,  1.82110888e+00,  5.09215423e+00,\n",
       "          2.25917859e+01,  6.74247350e+00,  2.80030419e-04,  5.88009874e+00,\n",
       "          9.86805492e+00,  9.23544450e-01,  1.80464502e+01,  2.85596050e+01,\n",
       "          1.59715643e-02,  3.68699059e+00,  1.21247397e+01,  1.06440093e+00,\n",
       "          8.17039658e-01,  1.97022564e+01,  8.30055767e-01,  2.04847122e-01,\n",
       "          3.38652667e+00,  2.19092643e-01,  1.46931703e+00,  5.21331140e-01,\n",
       "          1.01957781e+01,  2.94779915e-01,  2.44446858e+02,  9.63360951e+00,\n",
       "          3.81760607e+01,  3.56042870e+01,  5.04896895e+00,  7.83764156e+00,\n",
       "          9.60859660e-01,  4.23128200e+00,  5.25080592e-01,  3.95032065e-01,\n",
       "          1.59009579e+01,  3.72288576e+01,  1.12776999e+00,  4.17483036e+01,\n",
       "          3.10601413e+01,  5.84998129e+01,  5.79751011e+00,  1.02887416e+00,\n",
       "          4.94722603e+01,  2.34277299e+01,  7.43380414e-02,  1.02653814e+01,\n",
       "          7.31739757e+00,  7.44606592e+01,  8.21815435e+00,  1.24472353e+01,\n",
       "          4.35825008e+00,  7.02943704e+00,  1.12438377e+00,  2.97749797e+00,\n",
       "          7.14890137e-01,  4.19915997e+01,  8.84998089e+00,  6.24269974e+01,\n",
       "          4.58985118e+00,  7.18115131e+00,  6.45103316e-01,  6.83789676e+00,\n",
       "          1.25143253e+01,  1.26985822e+01,  3.34138498e-01,  4.10965278e+00,\n",
       "          1.87506673e+00,  6.87361324e-01,  5.66686891e-01,  7.13248344e-01,\n",
       "          1.22726857e+00,  1.38468615e+00,  1.48588516e+00,  1.02293559e-01,\n",
       "          6.46857831e+00,  2.03612318e+01,  1.28941235e+00,  1.02011234e+01,\n",
       "          4.68375633e+01,  1.94079508e+00,  1.54492398e-01,  2.09611396e+00,\n",
       "          5.90840539e+00,  1.94725840e+01,  1.37206568e+01,  1.68593508e+01,\n",
       "          1.42994953e+01,  3.08716376e+01,  1.42952279e+00,  2.78938226e+00,\n",
       "          1.74637757e+00,  1.05624723e+00,  2.78774896e+00,  3.13012119e+02,\n",
       "          1.96218238e+00,  1.85207488e+00,  2.85394680e-04,  2.99455883e-01,\n",
       "          7.33381687e+00,  5.01335764e-01,  4.01376931e-01,  9.09637999e-01,\n",
       "          8.30982579e+00,  4.21425242e-01,  1.16817793e-04,  5.83529698e-01,\n",
       "          1.85857808e+00,  9.14508966e-01,  5.05654482e-01,  3.76009303e-01,\n",
       "          2.26701412e+01,  2.08834043e+00,  2.90923192e+00,  3.23320158e+00,\n",
       "          4.99182203e+00,  1.22356064e+02,  8.62645879e+00])\n",
       "    message: b'CONVERGENCE: NORM_OF_PROJECTED_GRADIENT_<=_PGTOL'\n",
       "       nfev: 882\n",
       "        nit: 815\n",
       "       njev: 882\n",
       "     status: 0\n",
       "    success: True\n",
       "          x: array([ 6.34811759e-03, -1.66658487e-02, -2.69295000e-03, -1.11585945e-03,\n",
       "          4.99923518e-04,  2.85578932e-03,  4.52560876e-03,  3.86530547e-03,\n",
       "          6.40907347e-04,  3.16683786e-04, -2.03254851e-02,  1.76129425e-03,\n",
       "          7.26424014e-03, -1.24065091e-02, -3.96266933e-03, -3.40136613e-03,\n",
       "          1.45301861e-02, -5.37365122e-04,  1.15785328e-02,  5.15882039e-03,\n",
       "         -1.12271168e-03,  9.17959709e-03,  5.60477164e-04,  6.79723883e-04,\n",
       "          9.25909571e-03,  3.59189771e-02,  4.78434168e-03,  5.73014571e-02,\n",
       "          8.73010565e-03,  2.51857038e-02, -5.76712452e-04,  3.65604919e-02,\n",
       "          4.67198148e-02,  5.26517162e-03,  2.04436023e-02,  2.56296599e-02,\n",
       "         -7.35789668e-04,  4.06344468e-02,  5.73521009e-05,  7.42589449e-03,\n",
       "          1.47105245e-01,  2.88853663e-02, -2.71787134e-03, -6.22618478e-03,\n",
       "          1.01351707e-02,  9.42087970e-02, -1.34609780e-02, -3.09675065e-04,\n",
       "          4.95835121e-03,  4.04110805e-02,  9.67010252e-03,  2.20101436e-03,\n",
       "         -1.10434652e-03, -2.05975608e-03,  7.25513888e-03,  2.29772321e-02,\n",
       "          2.70902469e-03,  5.52017737e-03, -2.84593053e-04,  4.31759290e-03,\n",
       "          7.92980327e-04, -4.91112221e-03,  1.42003211e-02,  1.51126222e-02,\n",
       "          7.01757970e-03,  1.87676804e-02,  0.00000000e+00,  0.00000000e+00,\n",
       "          0.00000000e+00,  0.00000000e+00,  0.00000000e+00,  0.00000000e+00,\n",
       "          0.00000000e+00,  0.00000000e+00,  0.00000000e+00,  0.00000000e+00,\n",
       "          0.00000000e+00,  0.00000000e+00,  0.00000000e+00,  0.00000000e+00,\n",
       "          0.00000000e+00,  0.00000000e+00,  0.00000000e+00,  0.00000000e+00,\n",
       "          0.00000000e+00,  0.00000000e+00,  0.00000000e+00,  0.00000000e+00,\n",
       "          0.00000000e+00,  0.00000000e+00,  0.00000000e+00,  0.00000000e+00,\n",
       "          0.00000000e+00,  0.00000000e+00,  2.12331606e-01,  0.00000000e+00,\n",
       "          0.00000000e+00,  0.00000000e+00,  0.00000000e+00,  0.00000000e+00,\n",
       "          0.00000000e+00,  0.00000000e+00,  0.00000000e+00,  0.00000000e+00,\n",
       "          0.00000000e+00,  1.93048470e-01,  2.19386821e+00,  0.00000000e+00,\n",
       "          0.00000000e+00,  0.00000000e+00,  5.97630160e-01,  1.52316635e-01,\n",
       "          0.00000000e+00,  0.00000000e+00,  0.00000000e+00,  0.00000000e+00,\n",
       "          0.00000000e+00,  0.00000000e+00,  0.00000000e+00,  0.00000000e+00,\n",
       "          0.00000000e+00,  0.00000000e+00,  0.00000000e+00,  0.00000000e+00,\n",
       "          0.00000000e+00,  0.00000000e+00,  0.00000000e+00,  1.26593593e-01,\n",
       "          0.00000000e+00,  0.00000000e+00,  0.00000000e+00,  0.00000000e+00,\n",
       "          0.00000000e+00,  0.00000000e+00,  0.00000000e+00,  0.00000000e+00,\n",
       "          0.00000000e+00,  0.00000000e+00,  0.00000000e+00,  0.00000000e+00,\n",
       "          0.00000000e+00,  1.29677192e-02,  0.00000000e+00,  0.00000000e+00,\n",
       "          0.00000000e+00,  0.00000000e+00,  4.91595243e-02,  0.00000000e+00,\n",
       "          0.00000000e+00,  0.00000000e+00,  6.88645053e-04,  0.00000000e+00,\n",
       "          0.00000000e+00,  0.00000000e+00,  0.00000000e+00,  0.00000000e+00,\n",
       "          0.00000000e+00,  0.00000000e+00,  0.00000000e+00,  0.00000000e+00,\n",
       "          0.00000000e+00,  0.00000000e+00,  0.00000000e+00,  0.00000000e+00,\n",
       "          0.00000000e+00,  0.00000000e+00,  0.00000000e+00,  0.00000000e+00,\n",
       "          0.00000000e+00,  0.00000000e+00,  0.00000000e+00,  0.00000000e+00,\n",
       "          0.00000000e+00,  0.00000000e+00,  0.00000000e+00,  0.00000000e+00,\n",
       "          0.00000000e+00,  0.00000000e+00,  0.00000000e+00,  0.00000000e+00,\n",
       "          0.00000000e+00,  0.00000000e+00,  0.00000000e+00,  0.00000000e+00,\n",
       "          0.00000000e+00,  0.00000000e+00,  0.00000000e+00,  0.00000000e+00,\n",
       "          0.00000000e+00,  0.00000000e+00,  0.00000000e+00,  0.00000000e+00,\n",
       "          3.89009372e-04,  0.00000000e+00,  0.00000000e+00,  0.00000000e+00,\n",
       "          0.00000000e+00,  2.21201502e-01,  0.00000000e+00,  0.00000000e+00,\n",
       "          0.00000000e+00,  0.00000000e+00,  0.00000000e+00,  1.68355556e-01,\n",
       "          0.00000000e+00,  0.00000000e+00,  0.00000000e+00,  0.00000000e+00,\n",
       "          0.00000000e+00,  0.00000000e+00,  0.00000000e+00,  0.00000000e+00,\n",
       "          0.00000000e+00,  0.00000000e+00,  0.00000000e+00,  0.00000000e+00,\n",
       "          0.00000000e+00,  0.00000000e+00,  0.00000000e+00,  0.00000000e+00,\n",
       "          0.00000000e+00,  0.00000000e+00,  0.00000000e+00,  0.00000000e+00,\n",
       "          0.00000000e+00,  0.00000000e+00,  0.00000000e+00,  0.00000000e+00,\n",
       "          0.00000000e+00,  0.00000000e+00,  0.00000000e+00,  0.00000000e+00,\n",
       "          0.00000000e+00,  0.00000000e+00,  0.00000000e+00,  0.00000000e+00,\n",
       "          0.00000000e+00,  0.00000000e+00,  1.61872053e-01,  0.00000000e+00,\n",
       "          0.00000000e+00,  0.00000000e+00,  0.00000000e+00,  0.00000000e+00,\n",
       "          0.00000000e+00,  0.00000000e+00,  0.00000000e+00,  2.62983882e-01,\n",
       "          1.60974733e-01,  0.00000000e+00,  2.65659994e-01,  0.00000000e+00,\n",
       "          0.00000000e+00,  0.00000000e+00,  0.00000000e+00,  0.00000000e+00,\n",
       "          0.00000000e+00,  0.00000000e+00,  0.00000000e+00,  0.00000000e+00,\n",
       "          0.00000000e+00,  0.00000000e+00,  0.00000000e+00,  0.00000000e+00,\n",
       "          1.38683144e-01,  0.00000000e+00,  0.00000000e+00,  0.00000000e+00,\n",
       "          0.00000000e+00,  0.00000000e+00,  0.00000000e+00,  0.00000000e+00,\n",
       "          0.00000000e+00,  4.53072269e-02,  0.00000000e+00,  0.00000000e+00,\n",
       "          0.00000000e+00,  0.00000000e+00,  0.00000000e+00,  0.00000000e+00,\n",
       "          0.00000000e+00,  0.00000000e+00,  0.00000000e+00,  0.00000000e+00,\n",
       "          0.00000000e+00,  0.00000000e+00,  0.00000000e+00,  0.00000000e+00,\n",
       "          0.00000000e+00,  0.00000000e+00,  0.00000000e+00,  0.00000000e+00,\n",
       "          0.00000000e+00,  0.00000000e+00,  0.00000000e+00,  0.00000000e+00,\n",
       "          0.00000000e+00,  0.00000000e+00,  0.00000000e+00,  0.00000000e+00,\n",
       "          0.00000000e+00,  0.00000000e+00,  0.00000000e+00,  0.00000000e+00,\n",
       "          0.00000000e+00,  0.00000000e+00,  0.00000000e+00,  0.00000000e+00,\n",
       "          0.00000000e+00,  0.00000000e+00,  0.00000000e+00,  0.00000000e+00,\n",
       "          0.00000000e+00,  0.00000000e+00,  0.00000000e+00,  0.00000000e+00,\n",
       "          0.00000000e+00,  0.00000000e+00,  0.00000000e+00,  0.00000000e+00,\n",
       "          0.00000000e+00,  0.00000000e+00,  0.00000000e+00,  0.00000000e+00,\n",
       "          0.00000000e+00,  0.00000000e+00,  0.00000000e+00,  0.00000000e+00,\n",
       "          0.00000000e+00,  0.00000000e+00,  3.19195417e-02,  0.00000000e+00,\n",
       "          0.00000000e+00,  0.00000000e+00,  0.00000000e+00,  0.00000000e+00,\n",
       "          0.00000000e+00,  0.00000000e+00,  0.00000000e+00,  0.00000000e+00,\n",
       "          0.00000000e+00,  0.00000000e+00,  0.00000000e+00,  0.00000000e+00,\n",
       "          0.00000000e+00,  0.00000000e+00,  0.00000000e+00,  0.00000000e+00,\n",
       "          0.00000000e+00,  0.00000000e+00,  0.00000000e+00,  0.00000000e+00,\n",
       "          0.00000000e+00,  0.00000000e+00,  0.00000000e+00,  0.00000000e+00,\n",
       "          0.00000000e+00,  0.00000000e+00,  0.00000000e+00,  0.00000000e+00,\n",
       "          0.00000000e+00,  0.00000000e+00,  0.00000000e+00,  0.00000000e+00,\n",
       "          0.00000000e+00,  0.00000000e+00,  0.00000000e+00,  0.00000000e+00,\n",
       "          0.00000000e+00,  0.00000000e+00,  0.00000000e+00,  0.00000000e+00,\n",
       "          0.00000000e+00,  0.00000000e+00,  0.00000000e+00,  0.00000000e+00,\n",
       "          0.00000000e+00,  0.00000000e+00,  0.00000000e+00,  0.00000000e+00,\n",
       "          0.00000000e+00,  0.00000000e+00,  0.00000000e+00,  0.00000000e+00,\n",
       "          0.00000000e+00,  0.00000000e+00,  0.00000000e+00,  0.00000000e+00,\n",
       "          0.00000000e+00,  0.00000000e+00,  0.00000000e+00,  0.00000000e+00,\n",
       "          0.00000000e+00,  0.00000000e+00,  0.00000000e+00,  0.00000000e+00,\n",
       "          0.00000000e+00,  0.00000000e+00,  0.00000000e+00,  0.00000000e+00,\n",
       "          0.00000000e+00,  0.00000000e+00,  0.00000000e+00,  0.00000000e+00,\n",
       "          0.00000000e+00,  0.00000000e+00,  0.00000000e+00,  0.00000000e+00,\n",
       "          0.00000000e+00,  0.00000000e+00,  0.00000000e+00,  0.00000000e+00,\n",
       "          0.00000000e+00,  0.00000000e+00,  0.00000000e+00,  0.00000000e+00,\n",
       "          0.00000000e+00,  0.00000000e+00,  0.00000000e+00,  0.00000000e+00,\n",
       "          0.00000000e+00,  0.00000000e+00,  1.40900004e-01,  0.00000000e+00,\n",
       "          0.00000000e+00,  0.00000000e+00,  0.00000000e+00,  0.00000000e+00,\n",
       "          0.00000000e+00,  0.00000000e+00,  5.75596235e-01,  0.00000000e+00,\n",
       "          0.00000000e+00,  0.00000000e+00,  0.00000000e+00,  0.00000000e+00,\n",
       "          0.00000000e+00,  0.00000000e+00,  0.00000000e+00,  0.00000000e+00,\n",
       "          0.00000000e+00,  0.00000000e+00,  0.00000000e+00])},\n",
       " 'time': 24.983948469161987,\n",
       " 'D_KL_alpha': {'AAAA': DeviceArray(0.14016986, dtype=float64),\n",
       "  'CAAU': DeviceArray(0.96988987, dtype=float64)},\n",
       " 'abs_difference': {'AAAA': DeviceArray(0.00113697, dtype=float64),\n",
       "  'CAAU': DeviceArray(0.00621787, dtype=float64)},\n",
       " 'av_g': {'AAAA': {'backbone1_gamma_3J': DeviceArray([2.32300026, 2.281007  , 1.97377379, 1.95232503, 2.05381204,\n",
       "                2.05072376, 2.34191918, 1.87798362], dtype=float64),\n",
       "   'backbone2_beta_epsilon_3J': DeviceArray([6.57001438, 3.84259685, 2.35936469, 6.86335597, 3.76668884,\n",
       "                2.44765617, 5.88715082, 3.0142923 , 2.89755448],            dtype=float64),\n",
       "   'sugar_3J': DeviceArray([3.84152546, 4.67402843, 8.0688909 , 2.39098857, 4.57979507,\n",
       "                8.70843266, 1.86784795, 4.55022069, 9.29882337, 4.44922617,\n",
       "                6.53656195], dtype=float64),\n",
       "   'NOEs': DeviceArray([1.84293001e-03, 7.27721024e-05, 5.12525832e-04,\n",
       "                7.40193595e-04, 9.65726456e-05, 9.11317986e-05,\n",
       "                9.43863148e-04, 1.40215778e-04, 1.83107221e-03,\n",
       "                6.10921182e-04, 2.48995871e-03, 1.21631057e-03,\n",
       "                1.81270993e-04, 2.23195183e-04, 9.66914510e-05,\n",
       "                6.65455502e-04, 9.10441966e-05, 4.87612305e-04,\n",
       "                4.69608806e-04, 2.20460716e-03, 2.74798513e-03,\n",
       "                1.76740112e-03, 1.50996643e-04, 1.20526849e-04,\n",
       "                3.10919356e-04, 6.88022268e-04, 6.65695700e-05,\n",
       "                1.44025923e-04, 2.04614342e-03, 8.53171555e-04,\n",
       "                8.12557431e-04, 1.82760661e-04, 2.82502135e-04,\n",
       "                2.33946236e-03, 1.06771919e-04, 7.97442347e-04],            dtype=float64),\n",
       "   'uNOEs': DeviceArray([1.41457123e-05, 2.37677718e-05, 8.52332635e-06,\n",
       "                9.33095154e-07, 7.47694918e-05, 1.00293161e-05,\n",
       "                3.08044547e-05, 2.04437206e-05, 4.62336855e-05,\n",
       "                2.71775866e-05, 2.41526050e-05, 1.66740003e-05,\n",
       "                6.54982993e-06, 5.68916873e-06, 1.15799686e-05,\n",
       "                2.68918127e-06, 1.16727771e-05, 9.92742073e-06,\n",
       "                2.71117926e-05, 9.92058688e-07, 1.01031581e-06,\n",
       "                1.04478911e-06, 3.07803348e-06, 1.20735227e-05,\n",
       "                3.80932401e-06, 1.06113802e-06, 6.82240805e-07,\n",
       "                7.96617966e-07, 1.42826191e-05, 4.08237637e-05,\n",
       "                5.40203594e-06, 1.12196367e-05, 1.38862469e-05,\n",
       "                2.03049964e-05, 6.97327524e-06, 1.01764422e-05,\n",
       "                3.04450102e-05, 7.84412600e-05, 3.88116104e-06,\n",
       "                2.95618063e-06, 4.85545997e-06, 3.87644004e-05,\n",
       "                1.26635228e-05, 1.05272494e-05, 2.77477659e-05,\n",
       "                7.24008218e-06, 1.03256501e-05, 7.04274422e-06,\n",
       "                4.13658013e-05, 7.26133510e-05, 2.13958293e-05,\n",
       "                3.00256193e-05, 1.68752593e-05, 6.22603924e-06,\n",
       "                5.12705678e-06, 6.24851394e-06, 2.22710013e-05,\n",
       "                1.33145695e-05, 9.88857705e-06, 1.07211908e-05,\n",
       "                2.46774197e-06, 1.94283480e-05, 2.00273116e-06,\n",
       "                1.47632710e-06, 6.07764030e-05, 1.05396903e-04,\n",
       "                3.45178833e-05, 3.55888911e-06, 6.44909349e-06,\n",
       "                4.66774295e-06, 1.04174593e-05, 2.44862486e-05,\n",
       "                4.60274298e-06, 1.38857568e-05, 2.81943960e-05,\n",
       "                1.62022162e-04, 3.17709939e-05, 1.62892518e-04,\n",
       "                1.43144092e-05, 8.42173518e-06, 4.09767910e-05,\n",
       "                2.95498533e-05, 3.90859224e-06, 1.19506967e-05,\n",
       "                1.52931084e-05, 7.45726700e-06, 2.94811138e-06,\n",
       "                1.45354568e-05, 1.11238302e-05, 1.15961180e-05,\n",
       "                6.61164935e-06, 4.80572441e-06, 1.04562042e-05,\n",
       "                2.59068181e-05, 4.46398593e-05, 7.48997668e-05,\n",
       "                1.36806824e-05, 1.46032757e-05, 1.16651965e-05,\n",
       "                4.13228439e-06, 3.18071278e-05, 6.28982844e-06,\n",
       "                7.02079105e-06, 7.29690840e-06, 7.35435537e-05,\n",
       "                9.99742688e-06, 6.44252713e-06, 5.27996914e-06,\n",
       "                1.29807896e-05, 2.88991044e-06, 1.54761498e-05,\n",
       "                5.40595039e-06, 2.07757379e-05, 6.24865293e-06,\n",
       "                1.53511960e-05, 1.44679715e-05, 7.30533996e-05,\n",
       "                3.76434039e-05, 2.54485954e-05, 1.11986512e-05,\n",
       "                7.06038212e-06, 1.62895543e-05, 6.18890816e-06,\n",
       "                4.28211547e-06, 2.38543969e-05, 3.54539951e-06,\n",
       "                3.29483383e-06, 6.78836527e-06, 2.29434166e-06,\n",
       "                8.22842988e-06, 5.14679295e-06, 7.32973462e-06,\n",
       "                8.94074844e-06, 9.41371236e-06, 2.12733340e-05,\n",
       "                7.42788022e-05, 1.67844202e-05, 3.88029882e-05,\n",
       "                2.48140151e-06, 5.58825931e-06, 1.41580991e-04,\n",
       "                1.90265425e-05, 3.32668672e-05, 6.48938893e-06,\n",
       "                1.54403176e-06, 9.76454091e-07, 1.15021606e-06,\n",
       "                6.76938020e-07, 1.66080313e-06, 9.46763739e-07,\n",
       "                1.09872878e-05, 1.81868097e-05, 3.15105271e-05,\n",
       "                7.92118799e-06, 6.87598969e-06, 1.53189713e-05,\n",
       "                2.46463683e-05, 7.04944886e-06, 9.84423266e-07,\n",
       "                1.19589615e-06, 1.39031236e-05, 3.39610026e-05,\n",
       "                1.35674252e-06, 9.29223815e-07, 7.58061854e-07,\n",
       "                8.64152691e-06, 7.05147483e-06, 9.11283158e-05,\n",
       "                1.79385427e-05, 1.60032350e-05, 9.82628364e-06,\n",
       "                1.00794579e-04, 8.43121381e-05, 1.77154993e-05,\n",
       "                5.37288376e-06, 1.11752400e-05, 3.01512949e-05,\n",
       "                2.46451973e-04, 8.42960059e-06, 1.77787185e-05,\n",
       "                6.32688702e-06, 4.55218004e-05, 8.97352074e-06,\n",
       "                1.16356686e-05, 2.34806388e-05, 1.18787302e-04,\n",
       "                1.71360178e-05, 8.60527479e-06, 2.34938983e-05,\n",
       "                3.36633812e-05, 1.43208521e-05, 3.81952439e-05,\n",
       "                9.72674112e-06, 9.17774268e-06, 7.82507569e-06,\n",
       "                6.09935075e-05, 1.04470282e-04, 6.60934014e-06,\n",
       "                6.50391741e-06, 3.54972250e-06, 3.77320843e-05,\n",
       "                7.17364331e-06, 8.94375778e-06, 8.22410927e-06,\n",
       "                2.30108315e-05, 2.43974614e-05, 1.28916968e-05,\n",
       "                5.68417316e-05, 3.90762140e-06, 8.26297761e-06,\n",
       "                1.72136570e-05, 8.78713042e-07, 4.21037639e-05,\n",
       "                3.27640421e-05, 1.53395763e-05, 3.54165295e-04,\n",
       "                2.54999633e-04, 3.88982988e-05, 4.06089717e-05,\n",
       "                2.73580299e-05, 5.13641640e-06, 3.92109771e-05,\n",
       "                6.83048829e-06, 9.90966880e-06, 3.99268620e-06,\n",
       "                1.99364630e-04, 3.45771360e-05, 3.61228751e-06,\n",
       "                3.72880693e-06, 2.31669015e-06, 6.07804205e-06,\n",
       "                2.05582892e-05, 3.89153652e-06, 7.82581619e-06,\n",
       "                3.37595217e-04, 3.01664160e-05, 2.20038245e-05,\n",
       "                2.46794627e-05, 5.76681714e-05, 5.89152956e-04,\n",
       "                1.58403337e-04, 3.74469670e-05, 5.87012903e-06,\n",
       "                1.99152634e-05], dtype=float64)},\n",
       "  'CAAU': {'backbone1_gamma_3J': DeviceArray([2.40020621, 2.43017239, 2.24801372, 1.90418734, 2.1234504 ,\n",
       "                1.92952192, 1.93291464, 1.91621107], dtype=float64),\n",
       "   'backbone2_beta_epsilon_3J': DeviceArray([3.81517998, 2.27222654, 7.11920538, 3.79191259, 2.30944373,\n",
       "                6.58322691, 3.22579427, 2.70732452], dtype=float64),\n",
       "   'sugar_3J': DeviceArray([2.48316295, 4.36053428, 9.81183011, 1.58947508, 4.28205974,\n",
       "                9.39855487, 1.47979465, 4.48669839, 9.83006242, 6.34127753,\n",
       "                5.00449723], dtype=float64),\n",
       "   'NOEs': DeviceArray([7.65131867e-04, 5.91932671e-05, 1.15964276e-03,\n",
       "                1.45610094e-04, 1.79151332e-03, 2.19499945e-03,\n",
       "                1.60606714e-04, 9.03219931e-05, 1.86855862e-04,\n",
       "                9.39275544e-05, 6.41269780e-04, 7.26845443e-05,\n",
       "                9.37428288e-05, 6.59652079e-04, 1.17462074e-03,\n",
       "                1.58442850e-04, 1.66388226e-04, 3.11290388e-03,\n",
       "                2.69647189e-03, 2.03189165e-03, 1.26092677e-04,\n",
       "                9.70539252e-05, 6.14314436e-04, 1.59265607e-04,\n",
       "                9.92705870e-04, 8.02893292e-05, 9.99439568e-05,\n",
       "                7.79513518e-04, 1.96896740e-03, 2.79416689e-03,\n",
       "                1.48351024e-03, 2.79154763e-04, 1.33801795e-03,\n",
       "                1.29953468e-04, 2.58211832e-05, 3.71533329e-04,\n",
       "                2.43431286e-04, 1.04586496e-04, 5.95632796e-04],            dtype=float64),\n",
       "   'uNOEs': DeviceArray([1.09637273e-05, 1.45261882e-05, 1.54509459e-05,\n",
       "                3.05743980e-06, 5.56594671e-06, 2.22917650e-06,\n",
       "                3.95914848e-06, 2.06683922e-05, 3.02534542e-05,\n",
       "                1.30657361e-05, 6.61695630e-06, 1.81446634e-06,\n",
       "                3.72266658e-07, 8.40418602e-06, 3.31552867e-07,\n",
       "                3.40259720e-07, 2.18611120e-05, 2.06640454e-06,\n",
       "                2.66761821e-06, 3.32259028e-06, 1.66446579e-06,\n",
       "                7.07551898e-07, 4.71704420e-07, 6.09241486e-07,\n",
       "                6.40362016e-06, 3.00331274e-06, 6.18810226e-06,\n",
       "                7.44712269e-07, 1.14013397e-04, 7.97767021e-06,\n",
       "                6.17437791e-05, 1.16220769e-05, 2.18126422e-05,\n",
       "                1.58919109e-05, 1.33166271e-05, 7.95300759e-06,\n",
       "                3.41734565e-06, 4.78565469e-06, 2.90140276e-06,\n",
       "                1.10495947e-04, 2.65581867e-04, 3.76984519e-06,\n",
       "                2.74728022e-06, 4.83598225e-06, 1.09090163e-04,\n",
       "                5.12939340e-05, 4.00722902e-06, 5.31066614e-05,\n",
       "                6.62563152e-06, 5.75161192e-06, 2.48607909e-05,\n",
       "                1.94981325e-05, 6.42328232e-06, 9.66215638e-06,\n",
       "                1.71412294e-05, 5.11944466e-05, 2.00597979e-05,\n",
       "                2.39359010e-06, 2.81957434e-06, 2.88884447e-06,\n",
       "                5.10117877e-06, 1.07606244e-04, 2.98868586e-05,\n",
       "                3.62105225e-06, 3.01841062e-05, 1.82255102e-06,\n",
       "                3.99541129e-06, 1.05145125e-05, 3.53394728e-05,\n",
       "                7.46711890e-06, 6.81315123e-06, 2.22885586e-05,\n",
       "                2.70147043e-05, 7.77354083e-06, 2.99373475e-05,\n",
       "                2.63909519e-05, 2.52916460e-05, 5.34991833e-06,\n",
       "                2.38784931e-06, 2.34138941e-05, 5.18169992e-05,\n",
       "                1.21764190e-05, 1.10938843e-05, 2.66653056e-05,\n",
       "                5.05094986e-05, 1.34580089e-05, 2.36480432e-05,\n",
       "                2.22321929e-05, 6.12766332e-06, 1.60928864e-05,\n",
       "                9.33191493e-06, 1.93318697e-05, 1.12482663e-05,\n",
       "                2.90305683e-05, 1.43553620e-05, 5.36922722e-06,\n",
       "                6.73635348e-06, 7.01088861e-06, 8.67228339e-06,\n",
       "                4.66519352e-06, 3.27322066e-05, 3.73071998e-05,\n",
       "                3.04627330e-06, 6.47315975e-06, 2.23291942e-05,\n",
       "                3.84708563e-05, 1.66312670e-05, 6.88610768e-05,\n",
       "                3.64363765e-05, 5.55289392e-06, 6.52037170e-06,\n",
       "                1.43022310e-04, 8.76740786e-05, 2.60948301e-05,\n",
       "                3.66526612e-05, 3.41394325e-05, 2.03551873e-05,\n",
       "                3.72857072e-05, 3.44072766e-06, 3.17124804e-06,\n",
       "                4.24448320e-06, 1.70587597e-05, 6.74618712e-06,\n",
       "                1.39414404e-05, 4.36309400e-05, 2.21726368e-05,\n",
       "                5.07426306e-05, 8.21793716e-06, 1.91844200e-05,\n",
       "                3.50861772e-06, 2.36727189e-05, 1.11443136e-04,\n",
       "                6.21044186e-06, 9.21466735e-06, 4.03375632e-06,\n",
       "                1.49160239e-06, 3.55897840e-05, 1.10239198e-04,\n",
       "                2.42778456e-05, 1.83858882e-05, 1.61502122e-06,\n",
       "                1.43030690e-05, 9.72674069e-06, 2.02971614e-05,\n",
       "                1.09203003e-05, 5.56901840e-06, 7.83720294e-06,\n",
       "                3.13218181e-06, 1.80318437e-05, 1.73955944e-05,\n",
       "                2.53564065e-06, 2.85815757e-05, 1.61335006e-06,\n",
       "                2.14635966e-06, 7.40090197e-06, 4.29617514e-06,\n",
       "                2.92643872e-06, 5.03131316e-06, 1.63905588e-05,\n",
       "                6.57645211e-06, 1.67844045e-06, 4.06248774e-06,\n",
       "                4.65205424e-06, 1.29242206e-05, 3.05743980e-06,\n",
       "                4.10320785e-06, 1.99679683e-06, 1.78323472e-05,\n",
       "                2.00784083e-05, 2.01244711e-06, 2.10345194e-06,\n",
       "                4.69145193e-06, 5.21121165e-05, 9.83355792e-06,\n",
       "                4.89979078e-06, 5.64731632e-06, 9.33788130e-06,\n",
       "                2.70993526e-05, 5.91490816e-06, 7.08655066e-06,\n",
       "                4.81992240e-06, 5.20231649e-05, 2.64877063e-05,\n",
       "                1.62848047e-05, 5.45000654e-05, 9.42615972e-06,\n",
       "                4.07479995e-06, 2.65772568e-05, 3.04335192e-06,\n",
       "                3.00320049e-06, 1.80114804e-05, 4.81495500e-06,\n",
       "                2.06053634e-05, 2.25650970e-06, 4.01221897e-06,\n",
       "                4.71289104e-06, 2.23554708e-05, 7.52444839e-05,\n",
       "                2.35803668e-04, 1.98100292e-06, 8.67788883e-06,\n",
       "                3.23016270e-05, 1.08459974e-05, 4.40241815e-06,\n",
       "                1.18362867e-05, 2.58211832e-05, 1.03123919e-04,\n",
       "                1.08737468e-04, 4.55290627e-05, 2.34349260e-05,\n",
       "                2.03632822e-05, 2.50214382e-05, 1.78233951e-05,\n",
       "                2.61499925e-05, 3.30261807e-06, 6.23490182e-06,\n",
       "                1.30657361e-05, 1.36086869e-05, 2.80771535e-05,\n",
       "                2.39782056e-05, 1.05874468e-05, 1.30033783e-05,\n",
       "                1.23153003e-05, 1.57110713e-05, 1.35344376e-06,\n",
       "                1.83462106e-06, 1.60067518e-06, 1.22273250e-06,\n",
       "                6.87382989e-06, 3.72864255e-06, 4.34181672e-06,\n",
       "                3.48971697e-06, 2.73756915e-05, 2.19652829e-06,\n",
       "                2.65428901e-06, 2.42257328e-05, 5.93804139e-06,\n",
       "                4.34732685e-06, 7.63682932e-06, 4.20262714e-05,\n",
       "                1.04162850e-04, 6.46765371e-05, 4.79944793e-05,\n",
       "                1.66156632e-05, 1.00595975e-05, 9.59719942e-06,\n",
       "                1.40471456e-06, 1.12411595e-06, 2.87111219e-06,\n",
       "                2.78440676e-06, 3.62087392e-06, 2.55802082e-05,\n",
       "                3.78244013e-06, 3.62144099e-05, 2.27314233e-05,\n",
       "                1.51689422e-05, 1.23468194e-05, 4.03857865e-05,\n",
       "                1.76219477e-05, 1.41708301e-05, 2.06873522e-05,\n",
       "                2.26814725e-05, 1.15214521e-05, 2.15756141e-06,\n",
       "                1.06969518e-04, 1.58843444e-06, 1.83498851e-06,\n",
       "                3.21996331e-06, 1.60169197e-06, 1.74676647e-06,\n",
       "                8.79937247e-05, 5.52657662e-06, 1.98074793e-06,\n",
       "                9.27892805e-06, 1.51781038e-05, 7.65626432e-06,\n",
       "                1.31747418e-05, 1.67961150e-05, 4.90053621e-06,\n",
       "                4.51336609e-05, 1.75036792e-05, 3.92523360e-05,\n",
       "                6.57989193e-05, 2.58500883e-04, 6.89627445e-07,\n",
       "                5.85454991e-06, 2.08724237e-05, 3.16896079e-05,\n",
       "                4.99003832e-05, 7.54485021e-05, 2.17028722e-04,\n",
       "                1.66388226e-04, 2.59163811e-04, 3.85313153e-04,\n",
       "                4.67470082e-05, 1.55706745e-05, 1.09432885e-04,\n",
       "                2.07188875e-05, 9.66804454e-05, 5.55860969e-05,\n",
       "                5.96638328e-05, 7.38683963e-05, 4.56957889e-06,\n",
       "                1.73790201e-05, 6.06528151e-04, 2.85040106e-05,\n",
       "                3.05100071e-06, 1.19715541e-06, 1.48857420e-04,\n",
       "                4.70974594e-05, 1.02093098e-04, 6.41902120e-05,\n",
       "                3.05288937e-05, 7.06145252e-05, 1.07203472e-04,\n",
       "                5.05193334e-06, 3.29548596e-06, 7.02816711e-07,\n",
       "                7.48680474e-05, 1.85400745e-05, 2.75428396e-05,\n",
       "                9.59210003e-05, 5.57723184e-05, 9.68236967e-06,\n",
       "                7.41270799e-05, 8.00249047e-06, 9.37428288e-05,\n",
       "                8.16460284e-05, 7.20276478e-05, 7.03348175e-05,\n",
       "                1.18925876e-04, 3.09734310e-05, 6.49489287e-05,\n",
       "                1.58185923e-04, 4.63514058e-06, 1.59267521e-06,\n",
       "                1.13162627e-05, 7.25557070e-06, 1.75581045e-06,\n",
       "                4.03425448e-05, 1.48192209e-04, 1.91981640e-05,\n",
       "                1.74796469e-05, 3.37737083e-06, 8.64417318e-06,\n",
       "                1.31899543e-05, 1.15038078e-05, 1.07511282e-05,\n",
       "                4.42780982e-05, 2.13663617e-05, 3.02544583e-05,\n",
       "                1.05752767e-04, 8.66587127e-05, 1.42819377e-05,\n",
       "                3.13885738e-06, 9.34513383e-05, 2.74997263e-04,\n",
       "                1.01685360e-04, 1.51728203e-05, 8.94025440e-05,\n",
       "                9.87538961e-05, 5.96833060e-05, 7.93099990e-06,\n",
       "                1.06718224e-04, 3.00609898e-04, 4.69005845e-05,\n",
       "                4.36882861e-05, 2.60272060e-05, 6.40217627e-05,\n",
       "                9.26857779e-05, 6.52523230e-06, 5.14059552e-06,\n",
       "                8.02893292e-05, 1.02875225e-04, 5.41628081e-05,\n",
       "                1.08413672e-05, 2.61962041e-06], dtype=float64)}},\n",
       " 'chi2': {'AAAA': {'backbone1_gamma_3J': DeviceArray(1.46905302, dtype=float64),\n",
       "   'backbone2_beta_epsilon_3J': DeviceArray(9.39628475, dtype=float64),\n",
       "   'sugar_3J': DeviceArray(9.52117867, dtype=float64),\n",
       "   'NOEs': DeviceArray(52.61152288, dtype=float64),\n",
       "   'uNOEs': DeviceArray(1.55086216, dtype=float64)},\n",
       "  'CAAU': {'backbone1_gamma_3J': DeviceArray(2.15405184, dtype=float64),\n",
       "   'backbone2_beta_epsilon_3J': DeviceArray(5.43289071, dtype=float64),\n",
       "   'sugar_3J': DeviceArray(7.52366733, dtype=float64),\n",
       "   'NOEs': DeviceArray(31.69023612, dtype=float64),\n",
       "   'uNOEs': DeviceArray(7.21781, dtype=float64)}},\n",
       " 'logZ_new': {'AAAA': DeviceArray(-1.20461221, dtype=float64),\n",
       "  'CAAU': DeviceArray(-2.00947142, dtype=float64)},\n",
       " 'weights_new': {'AAAA': DeviceArray([0.00157884, 0.00187331, 0.00173967, ..., 0.00178466,\n",
       "               0.00034252, 0.00080253], dtype=float64),\n",
       "  'CAAU': DeviceArray([3.33537232e-03, 4.47002517e-03, 5.04087648e-03, ...,\n",
       "               4.69302978e-05, 4.30069621e-05, 7.67954015e-06],            dtype=float64)},\n",
       " 'optimal_hyperpars': {'alpha': 137.54501701053874},\n",
       " 'hyper_minimization':           fun: DeviceArray(729.25207612, dtype=float64)\n",
       "      hess_inv: <1x1 LbfgsInvHessProduct with dtype=float64>\n",
       "  intermediate: <MDRefine.hyperminimizer.hyper_minimizer.<locals>.hyper_intermediate_class object at 0x7fa0c456fe48>\n",
       "           jac: array([4.9213523])\n",
       "       message: b'CONVERGENCE: REL_REDUCTION_OF_F_<=_FACTR*EPSMCH'\n",
       "          nfev: 9\n",
       "           nit: 8\n",
       "          njev: 9\n",
       "        status: 0\n",
       "       success: True\n",
       "             x: array([2.13844486])}"
      ]
     },
     "execution_count": 30,
     "metadata": {},
     "output_type": "execute_result"
    }
   ],
   "source": [
    "vars(Result)"
   ]
  },
  {
   "cell_type": "markdown",
   "metadata": {},
   "source": [
    "Here, you can look at the values contained in `Result` as previously done in Section b."
   ]
  }
 ],
 "metadata": {
  "kernelspec": {
   "display_name": "Python 3.6.8 64-bit",
   "language": "python",
   "name": "python3"
  },
  "language_info": {
   "codemirror_mode": {
    "name": "ipython",
    "version": 3
   },
   "file_extension": ".py",
   "mimetype": "text/x-python",
   "name": "python",
   "nbconvert_exporter": "python",
   "pygments_lexer": "ipython3",
   "version": "3.6.8"
  },
  "orig_nbformat": 4,
  "vscode": {
   "interpreter": {
    "hash": "916dbcbb3f70747c44a77c7bcd40155683ae19c65e1c03b4aa3499c5328201f1"
   }
  }
 },
 "nbformat": 4,
 "nbformat_minor": 2
}
