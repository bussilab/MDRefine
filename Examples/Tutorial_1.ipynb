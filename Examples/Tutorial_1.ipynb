{
 "cells": [
  {
   "cell_type": "markdown",
   "metadata": {},
   "source": [
    "# Tutorial for `MDRefine` - 1\n",
    "\n",
    "Refinement of the structural ensembles and forward models"
   ]
  },
  {
   "cell_type": "markdown",
   "metadata": {},
   "source": [
    "In these notebooks we are going to perform several different refinements of MD-generated trajectories by employing the package `MDRefine`. In this way, we believe the usage of `MDRefine` will become clear and easy to emulate for your own case of interest.\n",
    "\n",
    "We remind you to have a look at our paper https://arxiv.org/pdf/2411.07798 and at the documentation https://www.bussilab.org/doc-MDRefine/MDRefine/index.html.\n",
    "\n",
    "Required assistance may be opened at https://github.com/bussilab/MDRefine/issues."
   ]
  },
  {
   "cell_type": "code",
   "execution_count": 36,
   "metadata": {
    "execution": {
     "iopub.execute_input": "2025-03-03T09:57:51.453690Z",
     "iopub.status.busy": "2025-03-03T09:57:51.451283Z",
     "iopub.status.idle": "2025-03-03T09:57:55.178251Z",
     "shell.execute_reply": "2025-03-03T09:57:55.179101Z"
    }
   },
   "outputs": [],
   "source": [
    "import numpy as np\n",
    "import jax.numpy as jnp\n",
    "import pandas\n",
    "import matplotlib\n",
    "import matplotlib.pyplot as plt\n",
    "from IPython.display import clear_output"
   ]
  },
  {
   "cell_type": "code",
   "execution_count": 2,
   "metadata": {
    "execution": {
     "iopub.execute_input": "2025-03-03T09:57:55.185711Z",
     "iopub.status.busy": "2025-03-03T09:57:55.184706Z",
     "iopub.status.idle": "2025-03-03T09:57:55.362260Z",
     "shell.execute_reply": "2025-03-03T09:57:55.363078Z"
    }
   },
   "outputs": [
    {
     "name": "stdout",
     "output_type": "stream",
     "text": [
      "I will use the MDRefine version installed at ../MDRefine/__init__.py\n"
     ]
    }
   ],
   "source": [
    "# import from parent directory\n",
    "import sys\n",
    "sys.path.insert(0, '../')\n",
    "\n",
    "import MDRefine\n",
    "\n",
    "print(\"I will use the MDRefine version installed at\", MDRefine.__file__)"
   ]
  },
  {
   "cell_type": "code",
   "execution_count": 3,
   "metadata": {
    "execution": {
     "iopub.execute_input": "2025-03-03T09:57:55.369581Z",
     "iopub.status.busy": "2025-03-03T09:57:55.368572Z",
     "iopub.status.idle": "2025-03-03T09:57:55.372842Z",
     "shell.execute_reply": "2025-03-03T09:57:55.372031Z"
    }
   },
   "outputs": [],
   "source": [
    "from MDRefine import load_data, minimizer, split_dataset, hyper_minimizer, MDRefinement, unwrap_dict"
   ]
  },
  {
   "cell_type": "markdown",
   "metadata": {},
   "source": [
    "## 1. Ensemble refinement"
   ]
  },
  {
   "cell_type": "markdown",
   "metadata": {},
   "source": [
    "In this section, we are going to reproduce results from *T. Fröhlking et al., \"Simultaneous refinement of molecular dynamics ensembles and forward models using experimental data\", J. Chem. Phys. 158, 214120 (2023)* https://pubs.aip.org/aip/jcp/article/158/21/214120/2894410.\n",
    "\n",
    "They regard the refinement of the structural ensembles of RNA oligomers (Ensemble Refinement based on the max. entropy principle), with possible flexibility on the forward models (Karplus equations)."
   ]
  },
  {
   "cell_type": "code",
   "execution_count": 4,
   "metadata": {
    "execution": {
     "iopub.execute_input": "2025-03-03T09:57:55.379492Z",
     "iopub.status.busy": "2025-03-03T09:57:55.378485Z",
     "iopub.status.idle": "2025-03-03T09:57:55.398006Z",
     "shell.execute_reply": "2025-03-03T09:57:55.396978Z"
    }
   },
   "outputs": [],
   "source": [
    "%%bash\n",
    "\n",
    "if [ ! -d \"DATA\" ]; then\n",
    "    echo \"download DATA from Zenodo\"\n",
    "    curl -O https://zenodo.org/records/14956459/files/DATA.zip\n",
    "\n",
    "    unzip DATA.zip\n",
    "    rm -r DATA.zip\n",
    "fi"
   ]
  },
  {
   "cell_type": "markdown",
   "metadata": {},
   "source": [
    "### a. Load data"
   ]
  },
  {
   "cell_type": "markdown",
   "metadata": {},
   "source": [
    "In order to perform the refinement, we first need to store the data from MD simulations and experiments in a directory structured as described in https://arxiv.org/pdf/2411.07798 - *Structure of `data` objects*. Then, we can define the `infos` dictionary, which informs about which input files are going to be read, and run the `load_data` function.\n",
    "\n",
    "The output of `load_data` is a class instance `data` with all the quantities required in the following steps (see again Section *Structure of `data` objects*)."
   ]
  },
  {
   "cell_type": "markdown",
   "metadata": {},
   "source": [
    "- 1. Just load the observables (without force-field terms nor forward quantities)"
   ]
  },
  {
   "cell_type": "code",
   "execution_count": 5,
   "metadata": {
    "execution": {
     "iopub.execute_input": "2025-03-03T09:57:55.409869Z",
     "iopub.status.busy": "2025-03-03T09:57:55.408840Z",
     "iopub.status.idle": "2025-03-03T09:57:55.412991Z",
     "shell.execute_reply": "2025-03-03T09:57:55.411992Z"
    }
   },
   "outputs": [],
   "source": [
    "infos = {}\n",
    "\n",
    "# Firstly, define global properties, valid for all the systems:\n",
    "\n",
    "infos['global'] = {}\n",
    "\n",
    "# 'name of the folder with data'\n",
    "infos['global']['path_directory'] = 'DATA'\n",
    "\n",
    "# system names\n",
    "system_names = ['AAAA', 'CAAU']  # , 'CCCC', 'GACC', 'UUUU', 'UCAAUC']\n",
    "infos['global']['system_names'] = system_names\n",
    "\n",
    "# Then, define properties which are specific of each system, like experimental data and observables\n",
    "\n",
    "for name in system_names:\n",
    "    infos[name] = {}\n",
    "    \n",
    "    # experimental observables (average and uncertainty), corresponding to 'file_name'.npy in DATA/system_name/g_exp/\n",
    "    # uNOEs values are upper bounds, so specify '<' with ('uNOEs','<')\n",
    "    infos[name]['g_exp'] = ['NOEs', ('uNOEs','<')]\n",
    "    \n",
    "    # observables from MD simulations, corresponding to 'file_name'.npy in DATA/system_name/observables/\n",
    "    # they must correspond also to items of infos[name]['g_exp']\n",
    "    infos[name]['obs'] = ['NOEs', 'uNOEs']\n",
    "\n",
    "# If some properties are the same for all the systems, you can store them just once in infos['global']\n",
    "\n",
    "infos['global']['temperature'] = 1 # namely, energies are in unit of k_B T (default value)\n",
    "# (in this case, you could do this also for 'g_exp' and 'obs')\n",
    "\n",
    "# Select the stride for the frames (thinner strides will require more time for minimizations; default value = 1)\n",
    "stride = 10"
   ]
  },
  {
   "cell_type": "markdown",
   "metadata": {},
   "source": [
    "- 2. Include also quantities computed through the defined forward model"
   ]
  },
  {
   "cell_type": "code",
   "execution_count": 6,
   "metadata": {
    "execution": {
     "iopub.execute_input": "2025-03-03T09:57:55.420967Z",
     "iopub.status.busy": "2025-03-03T09:57:55.419687Z",
     "iopub.status.idle": "2025-03-03T09:57:55.423791Z",
     "shell.execute_reply": "2025-03-03T09:57:55.422799Z"
    }
   },
   "outputs": [],
   "source": [
    "for name in system_names:\n",
    "    # include experimental values also for 3J scalar couplings\n",
    "    infos[name]['g_exp'] = ['backbone1_gamma_3J', 'backbone2_beta_epsilon_3J', 'sugar_3J', 'NOEs', ('uNOEs','<')]\n",
    "\n",
    "    # include quantities required to compute observables through the forward model\n",
    "    # they must correspond to 'file_name'.npy in DATA/system_name/forward_qs/\n",
    "    infos[name]['forward_qs'] = ['backbone1_gamma','backbone2_beta_epsilon','sugar']\n",
    "\n",
    "# starting values of the forward model coefficients: specify the file name inside DATA/\n",
    "infos['global']['forward_coeffs'] = 'original_fm_coeffs' # string"
   ]
  },
  {
   "cell_type": "markdown",
   "metadata": {},
   "source": [
    "Now, let's define the **forward model**.\n",
    "\n",
    "In our case-study, the forward model is given by the **Karplus equations**:\n",
    "\n",
    "$^3 J_\\gamma = A_\\gamma \\, cos^2\\gamma \\, + \\, B_\\gamma \\, cos\\gamma \\, + \\, C_\\gamma$\n",
    "\n",
    "with empirical coefficients $A_\\gamma,\\,B_\\gamma,\\,C_\\gamma$ ($\\gamma$ dihedral angles), and analogously for $^3 J_{\\beta/\\epsilon}$ (same coefficients both for $\\beta$ and $\\epsilon$ dihedral angles) and $^3J_\\nu$ (sugar dihedral angles)."
   ]
  },
  {
   "cell_type": "markdown",
   "metadata": {},
   "source": [
    "**WARNING**: `forward_model_fun` returns a dict `forward_qs_out` whose keys must correspond to those of the associated experimental values `g_exp`, as specified in `infos`."
   ]
  },
  {
   "cell_type": "code",
   "execution_count": 7,
   "metadata": {
    "execution": {
     "iopub.execute_input": "2025-03-03T09:57:55.436227Z",
     "iopub.status.busy": "2025-03-03T09:57:55.435204Z",
     "iopub.status.idle": "2025-03-03T09:57:55.441650Z",
     "shell.execute_reply": "2025-03-03T09:57:55.442427Z"
    }
   },
   "outputs": [],
   "source": [
    "def forward_model_fun(fm_coeffs, forward_qs, selected_obs = None):\n",
    "\n",
    "    # 1. compute the cosine (which is the quantity you need in the forward model;\n",
    "    # you could do this just once before loading data)\n",
    "    forward_qs_cos = {}\n",
    "\n",
    "    for type_name in forward_qs.keys():\n",
    "        forward_qs_cos[type_name] = np.cos(forward_qs[type_name])\n",
    "\n",
    "    # if you have selected_obs, compute only the corresponding observables\n",
    "    if selected_obs is not None:\n",
    "        for type_name in forward_qs.keys():\n",
    "            forward_qs_cos[type_name] = forward_qs_cos[type_name][:,selected_obs[type_name+'_3J']]\n",
    "\n",
    "    # 2. compute observables (forward_qs_out) through forward model\n",
    "    forward_qs_out = {\n",
    "        'backbone1_gamma_3J': fm_coeffs[0]*forward_qs_cos['backbone1_gamma']**2 + fm_coeffs[1]*forward_qs_cos['backbone1_gamma'] + fm_coeffs[2],\n",
    "        'backbone2_beta_epsilon_3J': fm_coeffs[3]*forward_qs_cos['backbone2_beta_epsilon']**2 + fm_coeffs[4]*forward_qs_cos['backbone2_beta_epsilon'] + fm_coeffs[5],\n",
    "        'sugar_3J': fm_coeffs[6]*forward_qs_cos['sugar']**2 + fm_coeffs[7]*forward_qs_cos['sugar'] + fm_coeffs[8]}\n",
    "\n",
    "    return forward_qs_out"
   ]
  },
  {
   "cell_type": "code",
   "execution_count": 8,
   "metadata": {
    "execution": {
     "iopub.execute_input": "2025-03-03T09:57:55.449670Z",
     "iopub.status.busy": "2025-03-03T09:57:55.448669Z",
     "iopub.status.idle": "2025-03-03T09:57:55.453142Z",
     "shell.execute_reply": "2025-03-03T09:57:55.452332Z"
    }
   },
   "outputs": [],
   "source": [
    "# same forward-model function for each system, so store it in infos['global']\n",
    "infos['global']['forward_model'] = forward_model_fun"
   ]
  },
  {
   "cell_type": "code",
   "execution_count": 9,
   "metadata": {
    "execution": {
     "iopub.execute_input": "2025-03-03T09:57:55.477530Z",
     "iopub.status.busy": "2025-03-03T09:57:55.459981Z",
     "iopub.status.idle": "2025-03-03T09:57:56.942644Z",
     "shell.execute_reply": "2025-03-03T09:57:56.941635Z"
    }
   },
   "outputs": [
    {
     "name": "stdout",
     "output_type": "stream",
     "text": [
      "loading data from directory...\n",
      "loading  AAAA\n"
     ]
    },
    {
     "name": "stderr",
     "output_type": "stream",
     "text": [
      "WARNING:absl:No GPU/TPU found, falling back to CPU. (Set TF_CPP_MIN_LOG_LEVEL=0 and rerun for more info.)\n"
     ]
    },
    {
     "name": "stdout",
     "output_type": "stream",
     "text": [
      "loading  CAAU\n",
      "done\n"
     ]
    }
   ],
   "source": [
    "data = load_data(infos, stride=stride)"
   ]
  },
  {
   "cell_type": "markdown",
   "metadata": {},
   "source": [
    "### b. Minimize the loss function and analyse the results\n",
    "for a single choice of the hyper-parameter $\\alpha$"
   ]
  },
  {
   "cell_type": "markdown",
   "metadata": {},
   "source": [
    "Namely, let's perform ensemble refinement with a given value of the hyperparameter $\\alpha$, representing the strength to the original ensembles generated from the MD simulations."
   ]
  },
  {
   "cell_type": "code",
   "execution_count": 10,
   "metadata": {
    "execution": {
     "iopub.execute_input": "2025-03-03T09:57:56.949363Z",
     "iopub.status.busy": "2025-03-03T09:57:56.948358Z",
     "iopub.status.idle": "2025-03-03T09:58:09.877388Z",
     "shell.execute_reply": "2025-03-03T09:58:09.878233Z"
    }
   },
   "outputs": [],
   "source": [
    "# use function minimizer with selected data and alpha as input\n",
    "Result = minimizer(data, alpha=1)"
   ]
  },
  {
   "cell_type": "markdown",
   "metadata": {},
   "source": [
    "`minimizer` returns a class instance `Result`, let's have a look at it"
   ]
  },
  {
   "cell_type": "code",
   "execution_count": 11,
   "metadata": {
    "execution": {
     "iopub.execute_input": "2025-03-03T09:58:09.885748Z",
     "iopub.status.busy": "2025-03-03T09:58:09.884714Z",
     "iopub.status.idle": "2025-03-03T09:58:09.888759Z",
     "shell.execute_reply": "2025-03-03T09:58:09.889580Z"
    }
   },
   "outputs": [
    {
     "name": "stdout",
     "output_type": "stream",
     "text": [
      "dict_keys(['loss', 'min_lambdas', 'minis', 'time', 'D_KL_alpha', 'abs_difference', 'av_g', 'chi2', 'logZ_new', 'weights_new'])\n"
     ]
    }
   ],
   "source": [
    "print(vars(Result).keys())"
   ]
  },
  {
   "cell_type": "code",
   "execution_count": 122,
   "metadata": {
    "execution": {
     "iopub.execute_input": "2025-03-03T09:58:09.897122Z",
     "iopub.status.busy": "2025-03-03T09:58:09.895978Z",
     "iopub.status.idle": "2025-03-03T09:58:09.903617Z",
     "shell.execute_reply": "2025-03-03T09:58:09.904443Z"
    }
   },
   "outputs": [
    {
     "name": "stdout",
     "output_type": "stream",
     "text": [
      "True b'CONVERGENCE: NORM_OF_PROJECTED_GRADIENT_<=_PGTOL'\n",
      "True b'CONVERGENCE: NORM_OF_PROJECTED_GRADIENT_<=_PGTOL'\n",
      "optimal loss:  15.306751130762548\n",
      "time required:  381.6098487377167\n",
      "D_KL:  {'AAAA': DeviceArray(3.9136679, dtype=float64), 'CAAU': DeviceArray(3.71943775, dtype=float64)}\n"
     ]
    }
   ],
   "source": [
    "# check the convergence\n",
    "for name_sys in data.properties.system_names:\n",
    "    print(Result.minis[name_sys].success, Result.minis[name_sys].message)\n",
    "\n",
    "# min. value of the loss function\n",
    "print('optimal loss: ', Result.loss)\n",
    "print('time required: ', Result.time)\n",
    "\n",
    "# Kullback-Leibler divergence\n",
    "print('D_KL: ', Result.D_KL_alpha)"
   ]
  },
  {
   "cell_type": "markdown",
   "metadata": {},
   "source": [
    "- then, let's look at the optimal ensembles $P^*$ **weights_new** (completely defined by the starting ensembles and by the **min_lambdas** coefficients), together with their (log) normalization factor **logZ_new**. Let's plot them."
   ]
  },
  {
   "cell_type": "code",
   "execution_count": 123,
   "metadata": {
    "execution": {
     "iopub.execute_input": "2025-03-03T09:58:09.946607Z",
     "iopub.status.busy": "2025-03-03T09:58:09.913134Z",
     "iopub.status.idle": "2025-03-03T09:58:13.307107Z",
     "shell.execute_reply": "2025-03-03T09:58:13.307886Z"
    }
   },
   "outputs": [
    {
     "name": "stdout",
     "output_type": "stream",
     "text": [
      "system AAAA:\n",
      "effective n. of frames (on the total n.):  0.01996712906334155\n",
      "logZ:  -45556.64232630634\n",
      "system CAAU:\n",
      "effective n. of frames (on the total n.):  0.024247597138114915\n",
      "logZ:  -18934.639757471155\n"
     ]
    },
    {
     "data": {
      "image/png": "[encoded data removed]",
      "text/plain": [
       "<Figure size 864x288 with 2 Axes>"
      ]
     },
     "metadata": {
      "needs_background": "light"
     },
     "output_type": "display_data"
    },
    {
     "data": {
      "image/png": "[encoded data removed]",
      "text/plain": [
       "<Figure size 864x288 with 2 Axes>"
      ]
     },
     "metadata": {
      "needs_background": "light"
     },
     "output_type": "display_data"
    }
   ],
   "source": [
    "for s in system_names:\n",
    "\n",
    "    plt.figure(figsize = (12,4))\n",
    "\n",
    "    plt.subplot(1,2,1)\n",
    "\n",
    "    l = 0\n",
    "    for i2,s2 in enumerate(Result.min_lambdas[s].keys()):\n",
    "        l_new = l+len(Result.min_lambdas[s][s2])\n",
    "        plt.plot(np.arange(l,l_new),Result.min_lambdas[s][s2],'.',label='%s %s' % (s,s2))\n",
    "        l = l_new\n",
    "\n",
    "    plt.title('$\\lambda$ values (non-normalized)')\n",
    "    plt.legend()# loc='center left', bbox_to_anchor=(1, 0.5))\n",
    "    plt.grid()\n",
    "    plt.yscale('symlog')\n",
    "\n",
    "    plt.subplot(1,2,2)\n",
    "    \n",
    "    plt.plot(Result.weights_new[s],'.')\n",
    "    plt.title('reweighted %s' % s)\n",
    "    plt.grid()\n",
    "    \n",
    "    n_eff = np.exp(-Result.D_KL_alpha[s])\n",
    "\n",
    "    print('system %s:' % s)\n",
    "    print('effective n. of frames (on the total n.): ', n_eff)\n",
    "    print('logZ: ', Result.logZ_new[s])\n"
   ]
  },
  {
   "cell_type": "markdown",
   "metadata": {},
   "source": [
    "- finally, let's look at the average values of the observables in the new ensembles **av_g** and associated **chi2**; compare with experimental values gexp and with average values of the original ensembles."
   ]
  },
  {
   "cell_type": "code",
   "execution_count": 124,
   "metadata": {
    "execution": {
     "iopub.execute_input": "2025-03-03T09:58:13.323402Z",
     "iopub.status.busy": "2025-03-03T09:58:13.316898Z",
     "iopub.status.idle": "2025-03-03T09:58:13.829264Z",
     "shell.execute_reply": "2025-03-03T09:58:13.830045Z"
    }
   },
   "outputs": [
    {
     "name": "stdout",
     "output_type": "stream",
     "text": [
      "chi2:  7.025190796365061\n",
      "observables (first names in list):\n",
      " [[\"A1-H1'\" 'A1-H8']\n",
      " [\"A1-H1'\" 'A2-H8']\n",
      " ['A1-H2' \"A2-H1'\"]\n",
      " [\"A1-1H2'\" 'A1-H8']\n",
      " [\"A1-1H2'\" \"A2-H1'\"]]\n"
     ]
    },
    {
     "data": {
      "image/png": "[encoded data removed]",
      "text/plain": [
       "<Figure size 576x432 with 1 Axes>"
      ]
     },
     "metadata": {
      "needs_background": "light"
     },
     "output_type": "display_data"
    }
   ],
   "source": [
    "s1 = 'AAAA'\n",
    "s2 = 'NOEs'\n",
    "\n",
    "print('chi2: ',Result.chi2[s1][s2])\n",
    "print('observables (first names in list):\\n',data.mol[s1].names[s2][:5])\n",
    "\n",
    "plt.figure(figsize=(8,6))\n",
    "\n",
    "# compute average values with original ensemble\n",
    "g_mean = np.matmul(data.mol[s1].weights, data.mol[s1].g[s2])\n",
    "\n",
    "plt.plot(g_mean,'.',label='original av.s',markersize=10)\n",
    "\n",
    "plt.plot(data.mol[s1].gexp[s2][:,0],'s',label='experimental values')\n",
    "plt.errorbar(np.arange(len(data.mol[s1].gexp[s2][:,0])), data.mol[s1].gexp[s2][:,0], data.mol[s1].gexp[s2][:,1], fmt = ' ',\n",
    "    color = 'tab:orange', capsize = 5, lw = 2)\n",
    "\n",
    "plt.plot(Result.av_g[s1][s2], 'D', label = 'reweighted av.s')\n",
    "\n",
    "plt.legend()\n",
    "plt.grid()"
   ]
  },
  {
   "cell_type": "markdown",
   "metadata": {},
   "source": [
    "### c. Determine optimal hyper parameter $\\alpha$ through cross validation (scan over $\\alpha$)"
   ]
  },
  {
   "cell_type": "markdown",
   "metadata": {},
   "source": [
    "The hyperparameter $\\alpha$ tunes the reliability given to the original ensemble in spite of the trust to experimental data.\n",
    "\n",
    "Suitable values of $\\alpha$ can be determined through a **cross validation procedure**: randomly split the full data set into training and validation set, then select the value of $\\alpha$ which minimizes the $\\chi^2$ on the validation set (either same observables as in training but new frames or new observables); repeat over several splittings.\n",
    "\n",
    "For the moment, let's perform just one splitting into training/validation set (as an example) and scan over different values of $\\alpha$ (in logarithmic scale)."
   ]
  },
  {
   "cell_type": "markdown",
   "metadata": {},
   "source": [
    "The function **split_dataset** can be used to get **data_train** and **data_valid** by simply passing a **random_state** (a random integer), which randomly selects **valid_obs** and **valid_frames**."
   ]
  },
  {
   "cell_type": "code",
   "execution_count": 15,
   "metadata": {
    "execution": {
     "iopub.execute_input": "2025-03-03T09:58:13.837992Z",
     "iopub.status.busy": "2025-03-03T09:58:13.835682Z",
     "iopub.status.idle": "2025-03-03T09:58:15.099026Z",
     "shell.execute_reply": "2025-03-03T09:58:15.099837Z"
    }
   },
   "outputs": [
    {
     "name": "stdout",
     "output_type": "stream",
     "text": [
      "split observables only (not frames)\n",
      "Input random_state employed for valid_obs only\n"
     ]
    }
   ],
   "source": [
    "data_train_and_valid, data_test, test_obs, test_frames = split_dataset(data, random_state=1, valid_frames_size=0)\n",
    "# data_train, data_valid, valid_obs, valid_frames = split_dataset(data_train_and_valid, random_state=1)"
   ]
  },
  {
   "cell_type": "code",
   "execution_count": 16,
   "metadata": {
    "execution": {
     "iopub.execute_input": "2025-03-03T09:58:15.107346Z",
     "iopub.status.busy": "2025-03-03T09:58:15.106344Z",
     "iopub.status.idle": "2025-03-03T09:58:16.208557Z",
     "shell.execute_reply": "2025-03-03T09:58:16.209333Z"
    }
   },
   "outputs": [
    {
     "name": "stdout",
     "output_type": "stream",
     "text": [
      "Input random_state employed both for valid_obs and valid_frames\n"
     ]
    }
   ],
   "source": [
    "data_train, data_valid, valid_obs, valid_frames = split_dataset(data_train_and_valid, random_state=1)"
   ]
  },
  {
   "cell_type": "code",
   "execution_count": 17,
   "metadata": {
    "execution": {
     "iopub.execute_input": "2025-03-03T09:58:16.215432Z",
     "iopub.status.busy": "2025-03-03T09:58:16.214438Z",
     "iopub.status.idle": "2025-03-03T09:58:16.529469Z",
     "shell.execute_reply": "2025-03-03T09:58:16.530243Z"
    }
   },
   "outputs": [
    {
     "name": "stdout",
     "output_type": "stream",
     "text": [
      "Input random_state employed both for valid_obs and valid_frames\n"
     ]
    }
   ],
   "source": [
    "data_train, data_valid, valid_obs, valid_frames = split_dataset(data, random_state=1)"
   ]
  },
  {
   "cell_type": "code",
   "execution_count": 18,
   "metadata": {
    "execution": {
     "iopub.execute_input": "2025-03-03T09:58:16.538370Z",
     "iopub.status.busy": "2025-03-03T09:58:16.537364Z",
     "iopub.status.idle": "2025-03-03T09:58:16.541670Z",
     "shell.execute_reply": "2025-03-03T09:58:16.542480Z"
    }
   },
   "outputs": [
    {
     "name": "stdout",
     "output_type": "stream",
     "text": [
      "751\n",
      "151\n",
      "600\n",
      "600\n",
      "600\n"
     ]
    }
   ],
   "source": [
    "print(data.properties.tot_n_experiments(data))\n",
    "print(data_test.properties.tot_n_experiments(data_test))\n",
    "print(data_train_and_valid.properties.tot_n_experiments(data_train_and_valid))\n",
    "\n",
    "print(data_valid.properties.tot_n_experiments(data_valid))\n",
    "print(data_train.properties.tot_n_experiments(data_train))"
   ]
  },
  {
   "cell_type": "code",
   "execution_count": 19,
   "metadata": {
    "execution": {
     "iopub.execute_input": "2025-03-03T09:58:16.551246Z",
     "iopub.status.busy": "2025-03-03T09:58:16.550239Z",
     "iopub.status.idle": "2025-03-03T09:58:16.556108Z",
     "shell.execute_reply": "2025-03-03T09:58:16.556918Z"
    }
   },
   "outputs": [
    {
     "name": "stdout",
     "output_type": "stream",
     "text": [
      "(1017, 36)\n",
      "(814, 30)\n",
      "(203, 30)\n",
      "(203, 6)\n",
      "(1017, 30)\n",
      "(1017, 6)\n"
     ]
    }
   ],
   "source": [
    "s = 'NOEs'\n",
    "\n",
    "print(data.mol['AAAA'].g[s].shape)\n",
    "print(data_train.mol['AAAA'].g[s].shape)\n",
    "print(data_valid.mol['AAAA'].g[s].shape)\n",
    "print(data_valid.mol['AAAA'].g_new[s].shape)\n",
    "\n",
    "print(data_train_and_valid.mol['AAAA'].g[s].shape)\n",
    "print(data_test.mol['AAAA'].g[s].shape)"
   ]
  },
  {
   "cell_type": "code",
   "execution_count": 20,
   "metadata": {
    "execution": {
     "iopub.execute_input": "2025-03-03T09:58:16.565931Z",
     "iopub.status.busy": "2025-03-03T09:58:16.564920Z",
     "iopub.status.idle": "2025-03-03T09:58:16.896350Z",
     "shell.execute_reply": "2025-03-03T09:58:16.897127Z"
    }
   },
   "outputs": [
    {
     "name": "stdout",
     "output_type": "stream",
     "text": [
      "tot. n. of observables:  751\n",
      "n. of validation observables:  151\n",
      "n. of training observables 600\n"
     ]
    }
   ],
   "source": [
    "n_tot_exp = data.properties.tot_n_experiments(data)\n",
    "n_valid_exp = len(unwrap_dict(valid_obs))\n",
    "\n",
    "n_train_exp = n_tot_exp - n_valid_exp\n",
    "\n",
    "print('tot. n. of observables: ', n_tot_exp)\n",
    "print('n. of validation observables: ', n_valid_exp)\n",
    "print('n. of training observables', n_train_exp)"
   ]
  },
  {
   "cell_type": "markdown",
   "metadata": {},
   "source": [
    "Default values for the fraction of validation observables and frames are $20\\%$ for both (you can change this ratio by selecting **valid_frames_size** and/or **valid_obs_size** as input variables). By default, validation observables are evaluated only on validation frames; you can also consider both on training and validation frames, by setting **if_all_frames** = True."
   ]
  },
  {
   "cell_type": "code",
   "execution_count": 21,
   "metadata": {
    "execution": {
     "iopub.execute_input": "2025-03-03T09:58:16.903769Z",
     "iopub.status.busy": "2025-03-03T09:58:16.902766Z",
     "iopub.status.idle": "2025-03-03T09:58:17.831925Z",
     "shell.execute_reply": "2025-03-03T09:58:17.832727Z"
    }
   },
   "outputs": [
    {
     "name": "stdout",
     "output_type": "stream",
     "text": [
      "Input random_state employed both for valid_obs and valid_frames\n"
     ]
    }
   ],
   "source": [
    "# You can also select different values from the default ones\n",
    "data_train, data_valid, valid_obs, valid_frames = split_dataset(data, valid_frames_size=0.2, valid_obs_size=0.3,\n",
    "    random_state=4, if_all_frames=True)"
   ]
  },
  {
   "cell_type": "code",
   "execution_count": 22,
   "metadata": {
    "execution": {
     "iopub.execute_input": "2025-03-03T09:58:17.839393Z",
     "iopub.status.busy": "2025-03-03T09:58:17.838406Z",
     "iopub.status.idle": "2025-03-03T09:58:17.904975Z",
     "shell.execute_reply": "2025-03-03T09:58:17.905728Z"
    }
   },
   "outputs": [
    {
     "name": "stdout",
     "output_type": "stream",
     "text": [
      "Input random_state will not be used\n"
     ]
    }
   ],
   "source": [
    "# Alternatively, you can also directly pass valid_obs and valid_frames.\n",
    "out = split_dataset(data, valid_obs=valid_obs, valid_frames=valid_frames)\n",
    "\n",
    "data_train = out[0]\n",
    "data_valid = out[1]"
   ]
  },
  {
   "cell_type": "markdown",
   "metadata": {},
   "source": [
    "In any case, you can now scan over different values of $\\alpha$ for a given partition of the full data set into training and validation set. Let's work directly with logarithms in base 10, in order to explore several orders of magnitude for $\\alpha$.\n",
    "\n",
    "Let's pass `data_valid` as input to `minimizer`: after the minimization of the loss function on `data_train`, relevant properties (such as $D_{KL}$, $\\chi^2$, loss function) are evaluated on the validation frames and a further $\\chi^2$ is evaluated on validation observables."
   ]
  },
  {
   "cell_type": "code",
   "execution_count": 23,
   "metadata": {
    "execution": {
     "iopub.execute_input": "2025-03-03T09:58:17.914785Z",
     "iopub.status.busy": "2025-03-03T09:58:17.913791Z",
     "iopub.status.idle": "2025-03-03T10:04:21.854292Z",
     "shell.execute_reply": "2025-03-03T10:04:21.853430Z"
    }
   },
   "outputs": [],
   "source": [
    "log10_alphas = np.arange(-2, 7, 1)\n",
    "\n",
    "Results = {}\n",
    "\n",
    "for log10_alpha in log10_alphas:\n",
    "    print(log10_alpha)\n",
    "\n",
    "    alpha = 10**np.float64(log10_alpha)\n",
    "    Results[log10_alpha] = minimizer(data_train, alpha=alpha, data_valid=data_valid)\n",
    "\n",
    "    clear_output()"
   ]
  },
  {
   "cell_type": "code",
   "execution_count": 24,
   "metadata": {
    "execution": {
     "iopub.execute_input": "2025-03-03T10:04:21.862765Z",
     "iopub.status.busy": "2025-03-03T10:04:21.861766Z",
     "iopub.status.idle": "2025-03-03T10:04:21.867348Z",
     "shell.execute_reply": "2025-03-03T10:04:21.866345Z"
    }
   },
   "outputs": [
    {
     "data": {
      "text/plain": [
       "dict_keys(['loss', 'min_lambdas', 'minis', 'time', 'D_KL_alpha', 'abs_difference', 'av_g', 'chi2', 'logZ_new', 'weights_new', 'loss_valid', 'D_KL_alpha_valid', 'abs_difference_valid', 'av_g_valid', 'chi2_valid', 'logZ_new_valid', 'weights_new_valid', 'avg_new_obs', 'chi2_new_obs'])"
      ]
     },
     "execution_count": 1,
     "metadata": {},
     "output_type": "execute_result"
    }
   ],
   "source": [
    "vars(Results[log10_alpha]).keys()"
   ]
  },
  {
   "cell_type": "markdown",
   "metadata": {},
   "source": [
    "For each value of the hyperparameter $\\alpha$, we now have corresponding quantities for validation frames (such as **loss_valid**, **D_KL_alpha_valid**, **av_g_valid**, **chi2_valid**, **weights_new_valid**) and for validation observables (**avg_new_obs** and **chi2_new_obs**)."
   ]
  },
  {
   "cell_type": "markdown",
   "metadata": {},
   "source": [
    "Let's compare the loss function for training set and validation set (new frames):\n",
    "- at high values of $\\alpha$, the two values almost overlap;\n",
    "- decreasing $\\alpha$, both the two loss functions decrease, except that the one on the validation at a certain point starts to increase marking overfitting."
   ]
  },
  {
   "cell_type": "code",
   "execution_count": 25,
   "metadata": {
    "execution": {
     "iopub.execute_input": "2025-03-03T10:04:21.901329Z",
     "iopub.status.busy": "2025-03-03T10:04:21.896044Z",
     "iopub.status.idle": "2025-03-03T10:04:22.282216Z",
     "shell.execute_reply": "2025-03-03T10:04:22.283198Z"
    }
   },
   "outputs": [
    {
     "data": {
      "image/png": "[encoded data removed]",
      "text/plain": [
       "<Figure size 432x288 with 1 Axes>"
      ]
     },
     "metadata": {
      "needs_background": "light"
     },
     "output_type": "display_data"
    }
   ],
   "source": [
    "loss = [Results[log10_alpha].loss for log10_alpha in log10_alphas]\n",
    "loss_valid = [Results[log10_alpha].loss_valid for log10_alpha in log10_alphas]\n",
    "\n",
    "plt.title('loss function')\n",
    "plt.plot(log10_alphas, loss, '.--', label = 'training')\n",
    "plt.plot(log10_alphas, loss_valid, '.--', label = 'validation')\n",
    "plt.xlabel(r'$\\log_{10}\\alpha$')\n",
    "plt.legend()\n",
    "plt.grid()"
   ]
  },
  {
   "cell_type": "code",
   "execution_count": 26,
   "metadata": {
    "execution": {
     "iopub.execute_input": "2025-03-03T10:04:22.293120Z",
     "iopub.status.busy": "2025-03-03T10:04:22.292095Z",
     "iopub.status.idle": "2025-03-03T10:04:22.771843Z",
     "shell.execute_reply": "2025-03-03T10:04:22.771032Z"
    }
   },
   "outputs": [
    {
     "data": {
      "image/png": "[encoded data removed]",
      "text/plain": [
       "<Figure size 432x288 with 1 Axes>"
      ]
     },
     "metadata": {
      "needs_background": "light"
     },
     "output_type": "display_data"
    }
   ],
   "source": [
    "D_KL_train = [np.sum(unwrap_dict(Results[log10_alpha].D_KL_alpha)) for log10_alpha in log10_alphas]\n",
    "D_KL_valid = [np.sum(unwrap_dict(Results[log10_alpha].D_KL_alpha_valid)) for log10_alpha in log10_alphas]\n",
    "\n",
    "plt.title('$D_{KL}$')\n",
    "plt.plot(D_KL_train, '.--', label = 'training')\n",
    "plt.plot(D_KL_valid, '.--', label = 'validation')\n",
    "plt.xlabel(r'$\\log_{10}\\alpha$')\n",
    "plt.legend()\n",
    "plt.grid()"
   ]
  },
  {
   "cell_type": "markdown",
   "metadata": {},
   "source": [
    "Now, the $\\chi^2$, including also validation observables"
   ]
  },
  {
   "cell_type": "code",
   "execution_count": 27,
   "metadata": {
    "execution": {
     "iopub.execute_input": "2025-03-03T10:04:22.783135Z",
     "iopub.status.busy": "2025-03-03T10:04:22.781938Z",
     "iopub.status.idle": "2025-03-03T10:04:23.736936Z",
     "shell.execute_reply": "2025-03-03T10:04:23.737795Z"
    }
   },
   "outputs": [],
   "source": [
    "chi2s = [np.sum(unwrap_dict(Results[log10_alpha].chi2)) for log10_alpha in log10_alphas]\n",
    "n_obs_train = data_train.properties.tot_n_experiments(data_train)\n",
    "\n",
    "red_chi2s = np.array(chi2s)/n_obs_train\n",
    "\n",
    "chi2s_valid1 = [np.sum(unwrap_dict(Results[log10_alpha].chi2_valid)) for log10_alpha in log10_alphas]  # .chi2_valid\n",
    "red_chi2s_valid1 = np.array(chi2s_valid1)/n_obs_train\n",
    "\n",
    "chi2s_valid2 = [np.sum(unwrap_dict(Results[log10_alpha].chi2_new_obs)) for log10_alpha in log10_alphas]  # .chi2_valid\n",
    "n_obs_valid = len(unwrap_dict(valid_obs))\n",
    "\n",
    "red_chi2s_valid2 = np.array(chi2s_valid2)/n_obs_valid"
   ]
  },
  {
   "cell_type": "code",
   "execution_count": 28,
   "metadata": {
    "execution": {
     "iopub.execute_input": "2025-03-03T10:04:23.773791Z",
     "iopub.status.busy": "2025-03-03T10:04:23.772784Z",
     "iopub.status.idle": "2025-03-03T10:04:24.769997Z",
     "shell.execute_reply": "2025-03-03T10:04:24.769138Z"
    }
   },
   "outputs": [
    {
     "data": {
      "image/png": "[encoded data removed]",
      "text/plain": [
       "<Figure size 432x288 with 1 Axes>"
      ]
     },
     "metadata": {
      "needs_background": "light"
     },
     "output_type": "display_data"
    }
   ],
   "source": [
    "plt.plot(log10_alphas, red_chi2s, '.--', label = 'training')\n",
    "plt.plot(log10_alphas, red_chi2s_valid1, '.--', label = 'valid. frames')\n",
    "plt.plot(log10_alphas, red_chi2s_valid2, '.--', label = 'valid. observables')\n",
    "\n",
    "plt.legend()\n",
    "plt.title('$\\chi^2$')\n",
    "plt.xlabel(r'$\\log_{10}\\alpha$')\n",
    "plt.yscale('log')\n",
    "plt.grid()"
   ]
  },
  {
   "cell_type": "markdown",
   "metadata": {},
   "source": [
    "### d. Determine optimal hyper parameter $\\alpha$ through cross validation (automatic optimization)"
   ]
  },
  {
   "cell_type": "markdown",
   "metadata": {},
   "source": [
    "Rather than performing a scan over the hyperparameter $\\alpha$, we now minimize the $\\chi^2$ on the validation set (computed at optimal parameters obtained in training) with respect to $\\alpha$."
   ]
  },
  {
   "cell_type": "code",
   "execution_count": 29,
   "metadata": {
    "execution": {
     "iopub.execute_input": "2025-03-03T10:04:24.776448Z",
     "iopub.status.busy": "2025-03-03T10:04:24.775410Z",
     "iopub.status.idle": "2025-03-03T10:04:24.779548Z",
     "shell.execute_reply": "2025-03-03T10:04:24.778703Z"
    }
   },
   "outputs": [],
   "source": [
    "starting_alpha = 10**5"
   ]
  },
  {
   "cell_type": "markdown",
   "metadata": {},
   "source": [
    "By default, it is `which_set = 'valid_frames'` (rather than `'validation'` or `'training'`), namely the cross validation is performed on the $\\chi^2$ evaluated on the same observables as training but left-out frames of the trajectory (you can also select `which_set = 'validation'`, which means, $\\chi^2$ on left-out observables)."
   ]
  },
  {
   "cell_type": "code",
   "execution_count": 30,
   "metadata": {
    "execution": {
     "iopub.execute_input": "2025-03-03T10:04:24.786893Z",
     "iopub.status.busy": "2025-03-03T10:04:24.785854Z",
     "iopub.status.idle": "2025-03-03T10:12:17.991334Z",
     "shell.execute_reply": "2025-03-03T10:12:17.992159Z"
    }
   },
   "outputs": [
    {
     "name": "stdout",
     "output_type": "stream",
     "text": [
      "Input random_state employed both for valid_obs and valid_frames\n",
      "Input random_state employed both for valid_obs and valid_frames\n",
      "\n",
      "log10 hyperpars:  [('alpha', 5.0)]\n",
      "av. chi2:  25607.55651929949\n",
      "av. gradient:  [36813.8953935]\n",
      "\n",
      "log10 hyperpars:  [('alpha', 4.0)]\n",
      "av. chi2:  4490.225226453001\n",
      "av. gradient:  [8143.0062865]\n",
      "\n",
      "log10 hyperpars:  [('alpha', 3.7159834752206082)]\n",
      "av. chi2:  2732.3166765376304\n",
      "av. gradient:  [4562.48803113]\n",
      "\n",
      "log10 hyperpars:  [('alpha', 3.354074415545457)]\n",
      "av. chi2:  1572.0950828065904\n",
      "av. gradient:  [2140.48798539]\n",
      "\n",
      "log10 hyperpars:  [('alpha', 3.034230493411457)]\n",
      "av. chi2:  1082.182207688792\n",
      "av. gradient:  [1041.94669875]\n",
      "\n",
      "log10 hyperpars:  [('alpha', 2.7308642723758587)]\n",
      "av. chi2:  862.1052307687727\n",
      "av. gradient:  [458.95570836]\n",
      "\n",
      "log10 hyperpars:  [('alpha', 2.4920412696844068)]\n",
      "av. chi2:  772.8399634677315\n",
      "av. gradient:  [264.1879041]\n",
      "\n",
      "log10 hyperpars:  [('alpha', 2.168095796379187)]\n",
      "av. chi2:  730.0427958205421\n",
      "av. gradient:  [21.01993272]\n",
      "\n",
      "log10 hyperpars:  [('alpha', 2.1400932925336735)]\n",
      "av. chi2:  728.9507907968493\n",
      "av. gradient:  [5.69082552]\n"
     ]
    }
   ],
   "source": [
    "mini = hyper_minimizer(data, starting_alpha=starting_alpha, random_states=2, which_set='valid_frames', gtol=0.5)"
   ]
  },
  {
   "cell_type": "code",
   "execution_count": 31,
   "metadata": {
    "execution": {
     "iopub.execute_input": "2025-03-03T10:12:18.000767Z",
     "iopub.status.busy": "2025-03-03T10:12:17.999767Z",
     "iopub.status.idle": "2025-03-03T10:12:18.005417Z",
     "shell.execute_reply": "2025-03-03T10:12:18.006232Z"
    }
   },
   "outputs": [
    {
     "data": {
      "text/plain": [
       "          fun: DeviceArray(728.9507908, dtype=float64)\n",
       "     hess_inv: <1x1 LbfgsInvHessProduct with dtype=float64>\n",
       " intermediate: <MDRefine.hyperminimizer.hyper_minimizer.<locals>.hyper_intermediate_class object at 0x7fe63c173358>\n",
       "          jac: array([5.69082552])\n",
       "      message: b'CONVERGENCE: REL_REDUCTION_OF_F_<=_FACTR*EPSMCH'\n",
       "         nfev: 9\n",
       "          nit: 8\n",
       "         njev: 9\n",
       "       status: 0\n",
       "      success: True\n",
       "            x: array([2.14009329])"
      ]
     },
     "execution_count": 1,
     "metadata": {},
     "output_type": "execute_result"
    }
   ],
   "source": [
    "mini"
   ]
  },
  {
   "cell_type": "code",
   "execution_count": 32,
   "metadata": {
    "execution": {
     "iopub.execute_input": "2025-03-03T10:12:18.012439Z",
     "iopub.status.busy": "2025-03-03T10:12:18.011440Z",
     "iopub.status.idle": "2025-03-03T10:12:18.016610Z",
     "shell.execute_reply": "2025-03-03T10:12:18.015810Z"
    }
   },
   "outputs": [
    {
     "name": "stdout",
     "output_type": "stream",
     "text": [
      "[138.06808223]\n"
     ]
    }
   ],
   "source": [
    "optimal_alpha = 10**(mini.x)\n",
    "\n",
    "print(optimal_alpha)"
   ]
  },
  {
   "cell_type": "markdown",
   "metadata": {},
   "source": [
    "This optimal value of the hyperparameter is compatible with that reported in the previous plot. We can now minimize the loss function at this optimal value."
   ]
  },
  {
   "cell_type": "code",
   "execution_count": 33,
   "metadata": {
    "execution": {
     "iopub.execute_input": "2025-03-03T10:12:18.022627Z",
     "iopub.status.busy": "2025-03-03T10:12:18.021633Z",
     "iopub.status.idle": "2025-03-03T10:12:43.785462Z",
     "shell.execute_reply": "2025-03-03T10:12:43.786263Z"
    }
   },
   "outputs": [],
   "source": [
    "Result = minimizer(data, alpha=optimal_alpha)"
   ]
  },
  {
   "cell_type": "markdown",
   "metadata": {},
   "source": [
    "### e. Do all together with `MDRefinement`"
   ]
  },
  {
   "cell_type": "markdown",
   "metadata": {},
   "source": [
    "All these steps are consequentially performed by `MDRefinement`, which first loads the stored data, then determine the optimal hyperparameters through automatic minimization of validation $\\chi^2$ and finally minimize the loss function at optimized value of the hyperparameter."
   ]
  },
  {
   "cell_type": "code",
   "execution_count": 34,
   "metadata": {
    "execution": {
     "iopub.execute_input": "2025-03-03T10:12:43.804334Z",
     "iopub.status.busy": "2025-03-03T10:12:43.796739Z",
     "iopub.status.idle": "2025-03-03T10:20:43.959145Z",
     "shell.execute_reply": "2025-03-03T10:20:43.960771Z"
    }
   },
   "outputs": [
    {
     "name": "stdout",
     "output_type": "stream",
     "text": [
      "loading data from directory...\n",
      "loading  AAAA\n",
      "loading  CAAU\n",
      "done\n",
      "\n",
      "search for optimal hyperparameters ...\n",
      "Input random_state employed both for valid_obs and valid_frames\n",
      "Input random_state employed both for valid_obs and valid_frames\n",
      "\n",
      "log10 hyperpars:  [('alpha', 5.0)]\n",
      "av. chi2:  25607.55651929949\n",
      "av. gradient:  [36813.8953935]\n",
      "\n",
      "log10 hyperpars:  [('alpha', 4.0)]\n",
      "av. chi2:  4490.225226453001\n",
      "av. gradient:  [8143.0062865]\n",
      "\n",
      "log10 hyperpars:  [('alpha', 3.7159834752206082)]\n",
      "av. chi2:  2732.3166765376304\n",
      "av. gradient:  [4562.48803113]\n",
      "\n",
      "log10 hyperpars:  [('alpha', 3.354074415545457)]\n",
      "av. chi2:  1572.0950828065904\n",
      "av. gradient:  [2140.48798539]\n",
      "\n",
      "log10 hyperpars:  [('alpha', 3.034230493411457)]\n",
      "av. chi2:  1082.182207688792\n",
      "av. gradient:  [1041.94669875]\n",
      "\n",
      "log10 hyperpars:  [('alpha', 2.7308642723758587)]\n",
      "av. chi2:  862.1052307687727\n",
      "av. gradient:  [458.95570836]\n",
      "\n",
      "log10 hyperpars:  [('alpha', 2.4920412696844068)]\n",
      "av. chi2:  772.8399634677315\n",
      "av. gradient:  [264.1879041]\n",
      "\n",
      "log10 hyperpars:  [('alpha', 2.168095796379187)]\n",
      "av. chi2:  730.0427958205421\n",
      "av. gradient:  [21.01993272]\n",
      "\n",
      "log10 hyperpars:  [('alpha', 2.1400932925336735)]\n",
      "av. chi2:  728.9507907968493\n",
      "av. gradient:  [5.69082552]\n",
      "\n",
      "optimal hyperparameters: alpha: 138.06808223158413 \n",
      "\n",
      "refinement with optimal hyperparameters...\n",
      "\n",
      "done\n"
     ]
    }
   ],
   "source": [
    "Result = MDRefinement(infos, stride=stride, starting_alpha=1e5, random_states=2, which_set='validation', gtol=0.5)"
   ]
  },
  {
   "cell_type": "code",
   "execution_count": 35,
   "metadata": {
    "execution": {
     "iopub.execute_input": "2025-03-03T10:20:44.006817Z",
     "iopub.status.busy": "2025-03-03T10:20:43.993478Z",
     "iopub.status.idle": "2025-03-03T10:20:44.055612Z",
     "shell.execute_reply": "2025-03-03T10:20:44.057245Z"
    }
   },
   "outputs": [
    {
     "data": {
      "text/plain": [
       "{'loss': DeviceArray(217.54020959, dtype=float64),\n",
       " 'min_lambdas': {'AAAA': {'backbone1_gamma_3J': DeviceArray([-4.75279519e-03,  9.04569524e-04, -8.42328338e-05,\n",
       "                 3.06561401e-03,  1.72929709e-04,  1.63065776e-04,\n",
       "                 1.10439972e-03, -3.92049853e-04], dtype=float64),\n",
       "   'backbone2_beta_epsilon_3J': DeviceArray([-0.00604594,  0.00013537,  0.00437545, -0.00590411,\n",
       "                 0.00246869,  0.004661  , -0.00793055, -0.00059841,\n",
       "                 0.00610911], dtype=float64),\n",
       "   'sugar_3J': DeviceArray([0.00592946, 0.00410118, 0.0076206 , 0.00448308, 0.00315658,\n",
       "                0.00453527, 0.00279436, 0.00177131, 0.00418701, 0.00545875,\n",
       "                0.00171911], dtype=float64),\n",
       "   'NOEs': DeviceArray([ 3.72004925e+01, -1.29717217e+01,  4.70265990e+01,\n",
       "                 3.38909655e+01, -2.13118851e+01, -1.76945053e+01,\n",
       "                 1.58242175e+01,  1.55031125e+00,  4.06428140e+00,\n",
       "                -5.67467323e+00,  1.10843460e+01,  3.03660930e+01,\n",
       "                 2.90234829e+02, -1.18735709e+01, -2.65085353e+01,\n",
       "                 4.91597225e+01, -1.79829572e+00,  1.10921906e+02,\n",
       "                -9.34377642e+00,  2.85290972e+00,  3.04750245e+01,\n",
       "                 1.18415438e+00, -2.42366059e+01,  1.47465709e+02,\n",
       "                 4.01228521e+01,  9.28003328e+01,  1.56417843e+02,\n",
       "                 8.97376254e+01, -2.38858987e-01, -1.73368942e+00,\n",
       "                -4.45203369e+00, -3.82229531e+01,  9.33527072e+01,\n",
       "                 2.14360456e+01,  1.48229231e+01,  1.21325747e+02],            dtype=float64),\n",
       "   'uNOEs': DeviceArray([   0.        ,    0.        ,    0.        ,    0.        ,\n",
       "                 199.90161027,    0.        ,    0.        ,    0.        ,\n",
       "                   0.        ,    0.        ,    0.        ,    0.        ,\n",
       "                   0.        ,    0.        ,    0.        ,    0.        ,\n",
       "                   0.        ,    0.        ,    0.        ,    0.        ,\n",
       "                   0.        ,    0.        ,    0.        ,    0.        ,\n",
       "                   0.        ,    0.        ,    0.        ,    0.        ,\n",
       "                   0.        ,  158.30825594,    0.        ,    0.        ,\n",
       "                   0.        ,    0.        ,    0.        ,    0.        ,\n",
       "                   0.        ,  467.68788637,    0.        ,    0.        ,\n",
       "                   0.        ,    0.        ,    0.        ,    0.        ,\n",
       "                   0.        ,    0.        ,    0.        ,    0.        ,\n",
       "                   0.        ,   27.95861751,    0.        ,    0.        ,\n",
       "                   0.        ,    0.        ,    0.        ,    0.        ,\n",
       "                   0.        ,    0.        ,    0.        ,    0.        ,\n",
       "                   0.        ,    0.        ,    0.        ,    0.        ,\n",
       "                   0.        ,    0.        ,    0.        ,    0.        ,\n",
       "                   0.        ,    0.        ,    0.        ,    0.        ,\n",
       "                   0.        ,    0.        ,    0.        ,   53.43438431,\n",
       "                   0.        ,   57.38624053,    0.        ,    0.        ,\n",
       "                 204.85343167,    0.        ,    0.        ,    0.        ,\n",
       "                   0.        ,    0.        ,    0.        ,    0.        ,\n",
       "                   0.        ,    0.        ,    0.        ,    0.        ,\n",
       "                   0.        ,    0.        , 1377.79911351,  203.48275572,\n",
       "                   0.        ,    0.        ,    0.        ,    0.        ,\n",
       "                   0.        ,    0.        ,    0.        ,    0.        ,\n",
       "                 105.7736256 ,    0.        ,    0.        ,    0.        ,\n",
       "                   0.        ,    0.        ,    0.        ,    0.        ,\n",
       "                   0.        ,    0.        ,    0.        ,    0.        ,\n",
       "                  69.04758033,    0.        ,    0.        ,    0.        ,\n",
       "                   0.        ,    0.        ,    0.        ,    0.        ,\n",
       "                   0.        ,    0.        ,    0.        ,    0.        ,\n",
       "                   0.        ,    0.        ,    0.        ,    0.        ,\n",
       "                   0.        ,    0.        ,    0.        ,  168.16171243,\n",
       "                   0.        ,    0.        ,    0.        ,    0.        ,\n",
       "                   0.        ,    0.        ,    0.        ,    0.        ,\n",
       "                   0.        ,    0.        ,    0.        ,    0.        ,\n",
       "                   0.        ,    0.        ,    0.        ,    0.        ,\n",
       "                   0.        ,    0.        ,    0.        ,    0.        ,\n",
       "                   0.        ,    0.        ,    0.        ,    0.        ,\n",
       "                   0.        ,    0.        ,    0.        ,    0.        ,\n",
       "                   0.        ,    0.        ,    0.        ,    0.        ,\n",
       "                   0.        ,    0.        ,    0.        ,    0.        ,\n",
       "                   0.        ,    0.        ,    0.        ,    0.        ,\n",
       "                   0.        ,   11.64633186,    0.        ,    0.        ,\n",
       "                   0.        ,    0.        ,    0.        ,    0.        ,\n",
       "                   0.        ,    0.        ,    0.        ,    0.        ,\n",
       "                   0.        ,    0.        ,    0.        ,    0.        ,\n",
       "                   0.        ,    0.        ,    0.        ,    0.        ,\n",
       "                   0.        ,    0.        ,    0.        ,    0.        ,\n",
       "                   0.        ,    0.        ,    0.        ,    0.        ,\n",
       "                   0.        ,    0.        ,    0.        ,    0.        ,\n",
       "                   0.        ,    0.        ,    0.        ,    0.        ,\n",
       "                   0.        ,    0.        ,    0.        ,    0.        ,\n",
       "                   0.        ,    0.        ,    0.        ,    0.        ,\n",
       "                   0.        ,    0.        ,    0.        ,    0.        ,\n",
       "                   0.        ,    0.        ,    0.        ,    0.        ,\n",
       "                   0.        ,    0.        ,    0.        ,    0.        ,\n",
       "                   0.        ,    0.        ,    0.        ,    0.        ,\n",
       "                   0.        ,    0.        ,    0.        ,    0.        ,\n",
       "                   0.        ,    0.        ,    0.        ,    0.        ],            dtype=float64)},\n",
       "  'CAAU': {'backbone1_gamma_3J': DeviceArray([ 0.00257571, -0.00424728, -0.00177712, -0.00062711,\n",
       "                 0.00039653,  0.00202914,  0.00300331,  0.00295362],            dtype=float64),\n",
       "   'backbone2_beta_epsilon_3J': DeviceArray([ 0.00037061,  0.00023265, -0.00798451,  0.00093765,\n",
       "                 0.00421629, -0.00584923, -0.00249377, -0.00190835],            dtype=float64),\n",
       "   'sugar_3J': DeviceArray([ 0.00477413, -0.00044935,  0.00454478,  0.00189648,\n",
       "                -0.00102295,  0.00353622,  0.00025636,  0.00060152,\n",
       "                 0.00492235,  0.00851005,  0.00419859], dtype=float64),\n",
       "   'NOEs': DeviceArray([ 36.92251201,  80.75907892,  13.42544314,  -5.7875684 ,\n",
       "                 19.28442939,  18.24345059, 113.50796278,  35.60963921,\n",
       "                 99.66953507, -23.62921541,  44.76421376,   0.46770921,\n",
       "                 92.32735419,  73.10100261,  13.94550666, -23.26165823,\n",
       "                -43.19986441,   2.63731466,  29.36936159,  -2.72916458,\n",
       "                 -7.58666638, 150.66539547,  40.06059496,  34.6421886 ,\n",
       "                  1.38768276, -19.54803761, -23.47496506,   7.06713633,\n",
       "                 13.22380358,   1.05878598,   2.47593245,  -0.99152963,\n",
       "                  3.01581794,  18.85718484, -80.52049537,  17.00806652,\n",
       "                 39.42064728,  41.90670973,  16.44545636], dtype=float64),\n",
       "   'uNOEs': DeviceArray([  0.        ,   0.        ,   0.        ,   0.        ,\n",
       "                  0.        ,   0.        ,   0.        ,   0.        ,\n",
       "                  0.        ,   0.        ,   0.        ,   0.        ,\n",
       "                  0.        ,   0.        ,   0.        ,   0.        ,\n",
       "                  0.        ,   0.        ,   0.        ,   0.        ,\n",
       "                  0.        ,   0.        ,   0.        ,   0.        ,\n",
       "                  0.        ,   0.        ,   0.        ,   0.        ,\n",
       "                277.31343618,   0.        ,   0.        ,   0.        ,\n",
       "                  0.        ,   0.        ,   0.        ,   0.        ,\n",
       "                  0.        ,   0.        ,   0.        , 154.1406648 ,\n",
       "                348.72430782,   0.        ,   0.        ,   0.        ,\n",
       "                151.29182293,  92.35523575,   0.        ,   0.        ,\n",
       "                  0.        ,   0.        ,   0.        ,   0.        ,\n",
       "                  0.        ,   0.        ,   0.        ,   0.        ,\n",
       "                  0.        ,   0.        ,   0.        ,   0.        ,\n",
       "                  0.        ,  47.83303613,   0.        ,   0.        ,\n",
       "                  0.        ,   0.        ,   0.        ,   0.        ,\n",
       "                  0.        ,   0.        ,   0.        ,   0.        ,\n",
       "                  0.        ,   0.        ,   0.        ,  41.14704177,\n",
       "                  0.        ,   0.        ,   0.        ,   0.        ,\n",
       "                239.62886497,   0.        ,   0.        ,   0.        ,\n",
       "                  1.72454027,   0.        ,   0.        ,   0.        ,\n",
       "                  0.        ,   0.        ,   0.        ,   0.        ,\n",
       "                  0.        ,   0.        ,   0.        ,   0.        ,\n",
       "                  0.        ,   0.        ,   0.        ,   0.        ,\n",
       "                  0.        ,   0.        ,   0.        ,   0.        ,\n",
       "                  0.        ,   0.        ,   0.        ,   0.        ,\n",
       "                  0.        ,   0.        ,   0.        ,   0.        ,\n",
       "                  0.        ,   0.        ,   0.        ,   0.        ,\n",
       "                  0.        ,   0.        ,   0.        ,   0.        ,\n",
       "                  0.        ,   0.        ,   0.        ,   0.        ,\n",
       "                  0.        ,   0.        ,   1.03567178,   0.        ,\n",
       "                  0.        ,   0.        ,   0.        , 192.01160869,\n",
       "                  0.        ,   0.        ,   0.        ,   0.        ,\n",
       "                  0.        , 147.24767466,   0.        ,   0.        ,\n",
       "                  0.        ,   0.        ,   0.        ,   0.        ,\n",
       "                  0.        ,   0.        ,   0.        ,   0.        ,\n",
       "                  0.        ,   0.        ,   0.        ,   0.        ,\n",
       "                  0.        ,   0.        ,   0.        ,   0.        ,\n",
       "                  0.        ,   0.        ,   0.        ,   0.        ,\n",
       "                  0.        ,   0.        ,   0.        ,   0.        ,\n",
       "                  0.        ,   0.        ,   0.        ,   0.        ,\n",
       "                  0.        ,   0.        ,   0.        ,   0.        ,\n",
       "                277.32872433,   0.        ,   0.        ,   0.        ,\n",
       "                  0.        ,   0.        ,   0.        ,   0.        ,\n",
       "                  0.        , 271.59190788, 223.20908307,   0.        ,\n",
       "                725.13328461,   0.        ,   0.        ,   0.        ,\n",
       "                  0.        ,   0.        ,   0.        ,   0.        ,\n",
       "                  0.        ,   0.        ,   0.        ,   0.        ,\n",
       "                  0.        ,   0.        , 163.20976595,   0.        ,\n",
       "                  0.        ,   0.        ,   0.        ,   0.        ,\n",
       "                  0.        ,   0.        ,   0.        , 106.57499141,\n",
       "                  0.        ,   0.        ,   0.        ,   0.        ,\n",
       "                  0.        ,   0.        ,   0.        ,   0.        ,\n",
       "                  0.        ,   0.        ,   0.        ,   0.        ,\n",
       "                  0.        ,   0.        ,   0.        ,   0.        ,\n",
       "                  0.        ,   0.        ,   0.        ,   0.        ,\n",
       "                  0.        ,   0.        ,   0.        ,   0.        ,\n",
       "                  0.        ,   0.        ,   0.        ,   0.        ,\n",
       "                  0.        ,   0.        ,   0.        ,   0.        ,\n",
       "                  0.        ,   0.        ,   0.        ,   0.        ,\n",
       "                  0.        ,   0.        ,   0.        ,   0.        ,\n",
       "                  0.        ,   0.        ,   0.        ,   0.        ,\n",
       "                  0.        ,   0.        ,   0.        ,   0.        ,\n",
       "                  0.        ,   0.        ,   0.        ,   0.        ,\n",
       "                  0.        ,   0.        ,   0.        ,   0.        ,\n",
       "                 51.63786222,   0.        ,   0.        ,   0.        ,\n",
       "                  0.        ,   0.        ,   0.        ,   0.        ,\n",
       "                  0.        ,   0.        ,   0.        ,   0.        ,\n",
       "                  0.        ,   0.        ,   0.        ,   0.        ,\n",
       "                  0.        ,   0.        ,   0.        ,   0.        ,\n",
       "                  0.        ,   0.        ,   0.        ,   0.        ,\n",
       "                  0.        ,   0.        ,   0.        ,   0.        ,\n",
       "                  0.        ,   0.        ,   0.        ,   0.        ,\n",
       "                  0.        ,   0.        ,   0.        ,   0.        ,\n",
       "                  0.        ,   0.        ,   0.        ,   0.        ,\n",
       "                  0.        ,   0.        ,   0.        ,   0.        ,\n",
       "                  0.        ,   0.        ,   0.        ,   0.        ,\n",
       "                  0.        ,   0.        ,   0.        ,   0.        ,\n",
       "                  0.        ,   0.        ,   0.        ,   0.        ,\n",
       "                  0.        ,   0.        ,   0.        ,   0.        ,\n",
       "                  0.        ,   0.        ,   0.        ,   0.        ,\n",
       "                  0.        ,   0.        ,   0.        ,   0.        ,\n",
       "                  0.        ,   0.        ,   0.        ,   0.        ,\n",
       "                  0.        ,   0.        ,   0.        ,   0.        ,\n",
       "                  0.        ,   0.        ,   0.        ,   0.        ,\n",
       "                  0.        ,   0.        ,   0.        ,   0.        ,\n",
       "                  0.        ,   0.        ,   0.        ,   0.        ,\n",
       "                  0.        ,   0.        ,   0.        ,   0.        ,\n",
       "                140.64340414,   0.        ,   0.        ,   0.        ,\n",
       "                  0.        ,   0.        ,   0.        ,   0.        ,\n",
       "                256.745054  ,   0.        ,   0.        ,   0.        ,\n",
       "                  0.        ,   0.        ,   0.        ,   0.        ,\n",
       "                  0.        ,   0.        ,   0.        ,   0.        ,\n",
       "                  0.        ], dtype=float64)}},\n",
       " 'minis': {'AAAA':       fun: DeviceArray(-0.41012973, dtype=float64)\n",
       "   hess_inv: <308x308 LbfgsInvHessProduct with dtype=float64>\n",
       "        jac: array([ 1.72371922e-04,  1.09523141e-04,  4.63403688e-06,  7.28580142e-05,\n",
       "         -2.53342090e-06, -2.54241376e-06,  2.32693935e-04, -1.31189242e-06,\n",
       "          8.94121952e-04, -3.04857528e-05, -2.64976538e-05,  5.35631237e-04,\n",
       "          4.94386390e-05,  1.58613340e-04, -2.78062656e-04, -6.84318791e-05,\n",
       "         -3.39338427e-06,  1.85259196e-04, -1.23585737e-04, -5.59283384e-04,\n",
       "          4.81245524e-04,  7.33115414e-04,  1.19983216e-04,  8.27145935e-06,\n",
       "          1.33597331e-04,  7.31426379e-04, -9.83996846e-04, -3.10888012e-04,\n",
       "         -7.17507005e-06, -9.96637188e-05,  5.85327312e-05,  9.74201243e-05,\n",
       "         -2.28774968e-05, -8.76129310e-05,  1.19000284e-04, -8.52062056e-06,\n",
       "         -3.89518814e-04,  3.92995807e-04,  3.84524987e-04,  9.73986084e-05,\n",
       "          3.38079639e-04,  7.52793671e-05,  7.45256098e-04,  3.91250490e-05,\n",
       "          1.48553638e-04,  2.01839196e-04, -6.70071783e-04,  1.79037715e-04,\n",
       "          1.13775137e-04, -1.31624821e-04,  4.44499846e-04, -1.18503076e-04,\n",
       "         -7.52062092e-05,  1.40428640e-04, -1.22701720e-04,  6.45060424e-05,\n",
       "          2.90814910e-04, -1.34874867e-05,  7.17297047e-04,  2.94520198e-04,\n",
       "         -2.87165599e-04,  2.23473950e-04, -2.14304398e-05, -1.65315016e-05,\n",
       "          1.13326964e+01,  2.36977813e-01,  2.38906283e+00,  3.41498662e+01,\n",
       "         -5.42291154e-04,  1.10802434e+01,  8.91069713e-01,  1.21999117e+00,\n",
       "          6.46563365e-02,  5.85643689e-01,  4.72787185e-01,  3.54502904e-01,\n",
       "          1.96411089e+00,  2.08661163e+00,  4.91467330e-01,  5.25175964e+00,\n",
       "          4.77896713e-01,  5.13182708e-01,  9.35497211e-02,  1.40959346e+01,\n",
       "          1.19411490e+01,  1.08312658e+01,  1.94419474e+01,  1.59478741e+00,\n",
       "          9.01813464e+00,  1.62382626e+01,  8.95500865e+01,  5.62526102e+01,\n",
       "          3.54172136e+01, -9.09201572e-05,  9.26745509e+00,  2.40533154e+00,\n",
       "          1.57209109e+00,  2.14593698e-01,  1.20375216e+00,  1.43830381e+00,\n",
       "          1.09678136e-01, -5.60966478e-04,  2.16483981e+00,  3.15362253e+00,\n",
       "          1.73941858e+00,  6.45048703e-03,  9.07563196e-01,  1.00209244e+00,\n",
       "          2.41108742e-01,  1.54594129e+00,  8.43178859e-01,  9.26442581e-01,\n",
       "          1.65557686e-01, -1.09191248e-04,  3.07879686e-01,  1.09836354e-01,\n",
       "          2.43733342e-01,  2.16701329e+01,  5.86013514e+00,  1.62885073e+00,\n",
       "          6.61947340e-01,  1.46547265e+00,  4.56947077e-01,  1.15742648e+00,\n",
       "          6.06338917e+00,  1.70342143e-01,  7.71118792e+00,  8.41261424e+00,\n",
       "          3.48366933e-01,  1.04012511e-01,  4.57250474e-01,  1.46591288e+01,\n",
       "          5.54046027e+00,  2.03213225e+01,  4.07213654e+00,  1.03639779e+00,\n",
       "          6.61089842e+00,  1.76936351e+00,  7.32286970e-01, -1.57555070e-04,\n",
       "          9.94577574e-01,  4.02213906e-04,  3.48938767e+01,  2.10208557e+00,\n",
       "         -3.92958027e-05,  1.46445392e-01,  2.37217218e+00,  4.21032246e-01,\n",
       "          2.21177319e-01,  1.63380985e+00,  6.23607436e+00,  1.39957531e+00,\n",
       "          3.12351302e+00,  4.10203669e-01,  2.16383060e+00,  1.47293447e+00,\n",
       "          5.37765415e-01,  1.27488272e-01,  6.62413505e-04,  2.85748236e-04,\n",
       "          4.67999594e-01,  4.16385917e-01,  8.29650528e-01,  2.49626152e+00,\n",
       "          3.49997567e-01,  1.82192208e+01,  1.35046315e+00,  1.16177519e+00,\n",
       "         -1.99856903e-04,  1.51144589e+00,  4.61299809e+00,  1.64117161e+00,\n",
       "          1.64290820e+00,  1.53730201e+01,  1.05829440e+00,  4.21103769e+00,\n",
       "          3.76941772e-01,  2.66721092e+00,  1.05434023e+00,  3.36568735e-01,\n",
       "         -2.28496098e-06,  8.14949704e-02,  1.61537058e-01,  3.47781527e+00,\n",
       "          7.23011127e+00,  1.68920419e+00,  6.64199608e+00,  7.74866665e+00,\n",
       "          2.37107647e-01,  2.41547333e+01,  6.84131005e+00,  1.04665869e+00,\n",
       "          1.09589787e+01,  6.26212782e+00,  5.45299392e+00,  7.75491182e+00,\n",
       "          5.35403636e-01,  4.60788723e-01,  5.56893780e-01, -1.64275554e-04,\n",
       "          1.87845905e-01,  3.23099950e-03,  8.62269634e+00,  9.63303674e-01,\n",
       "          1.34386439e-02,  6.80457865e-01,  3.37497329e-01,  3.85458576e+00,\n",
       "          2.11989535e+01,  3.95403965e+01,  4.10846918e+01,  1.00849372e+02,\n",
       "          1.84495567e+01,  4.63565486e+01,  1.86009302e-01,  2.43724125e-01,\n",
       "          1.71838634e-01,  7.93830445e-01,  6.92048102e-01,  9.62424782e-01,\n",
       "          3.40493957e-01,  2.69453462e+00,  3.41730250e+01,  3.31781107e+01,\n",
       "          1.60614626e+00,  5.20614306e-01,  1.42420608e+01,  8.75977108e+01,\n",
       "          1.07415340e+02,  1.23342521e+01,  7.85508239e+00,  4.58030159e-01,\n",
       "          7.49104514e-01,  3.98453458e+00,  1.19490041e+01,  2.53762843e-01,\n",
       "          2.11690601e+00,  1.13401222e+00,  8.04043940e+00,  1.43496126e+00,\n",
       "          1.42831461e+00, -3.74284171e-04,  2.17969969e+00,  4.97194760e-01,\n",
       "          1.68098710e+00,  2.04305778e+00,  2.69672044e+00,  3.77533293e+00,\n",
       "          2.52978058e+00,  3.89365645e-01,  7.07041686e+00,  1.36859355e+01,\n",
       "          2.46889933e+00,  1.58680609e+00,  3.03880705e+02,  7.77431143e-01,\n",
       "          1.43475973e+00,  1.04192727e+00,  2.61269009e+00,  8.38960081e-01,\n",
       "          5.24751524e-01,  4.69323209e+00,  6.36685721e+00,  1.30680931e+01,\n",
       "          1.19661446e+00,  5.15667706e+01,  6.13524954e+00,  5.57409693e+00,\n",
       "          1.89067239e+00,  1.34306617e+00,  8.64048698e+00,  1.80636765e+00,\n",
       "          1.75553127e+01,  8.01097965e+00,  7.26415235e+00,  2.07021367e+02,\n",
       "          3.18161686e+00,  4.17610038e+00,  5.06429545e+01,  3.27978272e-01,\n",
       "          4.79471680e-01,  2.60443501e+00,  3.66156006e+00,  2.68271000e+00,\n",
       "          1.38459215e+01,  2.25182226e+00,  1.76031747e+01,  1.33785299e+01,\n",
       "          4.87218756e+01,  6.37871207e-01,  9.41018004e+00,  3.90387701e+01,\n",
       "          2.48913276e+01,  1.04307802e+02,  2.97158003e+01,  4.27448225e+01,\n",
       "          5.69389583e+01,  5.76459240e+00,  2.55797169e-01,  3.17984840e+00,\n",
       "          1.01560353e+01,  6.07724689e+00,  3.91985036e+00,  1.18201070e-01,\n",
       "          6.82955599e-01,  2.92147597e+00,  2.54084096e+01,  5.80913906e+00])\n",
       "    message: b'CONVERGENCE: NORM_OF_PROJECTED_GRADIENT_<=_PGTOL'\n",
       "       nfev: 225\n",
       "        nit: 206\n",
       "       njev: 225\n",
       "     status: 0\n",
       "    success: True\n",
       "          x: array([-1.01669354e-02,  2.24721341e-03, -1.13577871e-04,  5.65157740e-03,\n",
       "          2.79628821e-04,  3.40207754e-04,  2.77498773e-03, -6.29279372e-04,\n",
       "         -1.78949147e-02,  2.91337014e-04,  6.38502504e-03, -1.68694270e-02,\n",
       "          5.39914324e-03,  8.50658590e-03, -2.04372459e-02, -1.05539003e-03,\n",
       "          1.17329524e-02,  2.56894213e-02,  5.08423054e-03,  3.08440197e-02,\n",
       "          1.57936072e-02,  3.54093273e-03,  1.46195123e-02,  8.83566147e-03,\n",
       "          2.06504574e-03,  1.13441285e-02,  2.62309931e-02,  7.68055565e-03,\n",
       "          6.78068262e-02, -2.58008403e-03,  5.01279066e-02,  7.05788156e-02,\n",
       "         -2.12086401e-03, -1.85913113e-03,  2.48903982e-02,  8.08764663e-04,\n",
       "          1.22368820e-02, -5.25923820e-03,  1.96890173e-02,  9.30689307e-02,\n",
       "          1.82669301e-01, -9.49599774e-03, -5.78950704e-04,  5.16281487e-02,\n",
       "         -4.41676982e-04,  1.22479216e-01, -4.58072473e-03,  3.83482013e-03,\n",
       "          1.41270367e-01,  3.80817485e-03, -5.94175271e-03,  6.72971008e-03,\n",
       "          2.11936286e-02,  1.29053285e-01,  4.09137873e-02,  4.03220333e-02,\n",
       "         -3.44170790e-04, -4.62730316e-03, -6.96901966e-03, -1.42461559e-02,\n",
       "          1.26622805e-01,  7.78375418e-02,  7.75972944e-04,  1.77675963e-01,\n",
       "          0.00000000e+00,  0.00000000e+00,  0.00000000e+00,  0.00000000e+00,\n",
       "          2.82473837e-02,  0.00000000e+00,  0.00000000e+00,  0.00000000e+00,\n",
       "          0.00000000e+00,  0.00000000e+00,  0.00000000e+00,  0.00000000e+00,\n",
       "          0.00000000e+00,  0.00000000e+00,  0.00000000e+00,  0.00000000e+00,\n",
       "          0.00000000e+00,  0.00000000e+00,  0.00000000e+00,  0.00000000e+00,\n",
       "          0.00000000e+00,  0.00000000e+00,  0.00000000e+00,  0.00000000e+00,\n",
       "          0.00000000e+00,  0.00000000e+00,  0.00000000e+00,  0.00000000e+00,\n",
       "          0.00000000e+00,  2.94823310e-02,  0.00000000e+00,  0.00000000e+00,\n",
       "          0.00000000e+00,  0.00000000e+00,  0.00000000e+00,  0.00000000e+00,\n",
       "          0.00000000e+00,  6.31741836e-01,  0.00000000e+00,  0.00000000e+00,\n",
       "          0.00000000e+00,  0.00000000e+00,  0.00000000e+00,  0.00000000e+00,\n",
       "          0.00000000e+00,  0.00000000e+00,  0.00000000e+00,  0.00000000e+00,\n",
       "          0.00000000e+00,  9.74783140e-03,  0.00000000e+00,  0.00000000e+00,\n",
       "          0.00000000e+00,  0.00000000e+00,  0.00000000e+00,  0.00000000e+00,\n",
       "          0.00000000e+00,  0.00000000e+00,  0.00000000e+00,  0.00000000e+00,\n",
       "          0.00000000e+00,  0.00000000e+00,  0.00000000e+00,  0.00000000e+00,\n",
       "          0.00000000e+00,  0.00000000e+00,  0.00000000e+00,  0.00000000e+00,\n",
       "          0.00000000e+00,  0.00000000e+00,  0.00000000e+00,  0.00000000e+00,\n",
       "          0.00000000e+00,  0.00000000e+00,  0.00000000e+00,  6.98539826e-02,\n",
       "          0.00000000e+00,  5.83580389e-02,  0.00000000e+00,  0.00000000e+00,\n",
       "          4.01564415e-02,  0.00000000e+00,  0.00000000e+00,  0.00000000e+00,\n",
       "          0.00000000e+00,  0.00000000e+00,  0.00000000e+00,  0.00000000e+00,\n",
       "          0.00000000e+00,  0.00000000e+00,  0.00000000e+00,  0.00000000e+00,\n",
       "          0.00000000e+00,  0.00000000e+00,  4.74872316e-01,  1.35081165e-01,\n",
       "          0.00000000e+00,  0.00000000e+00,  0.00000000e+00,  0.00000000e+00,\n",
       "          0.00000000e+00,  0.00000000e+00,  0.00000000e+00,  0.00000000e+00,\n",
       "          9.11816621e-02,  0.00000000e+00,  0.00000000e+00,  0.00000000e+00,\n",
       "          0.00000000e+00,  0.00000000e+00,  0.00000000e+00,  0.00000000e+00,\n",
       "          0.00000000e+00,  0.00000000e+00,  0.00000000e+00,  0.00000000e+00,\n",
       "          4.33946969e-02,  0.00000000e+00,  0.00000000e+00,  0.00000000e+00,\n",
       "          0.00000000e+00,  0.00000000e+00,  0.00000000e+00,  0.00000000e+00,\n",
       "          0.00000000e+00,  0.00000000e+00,  0.00000000e+00,  0.00000000e+00,\n",
       "          0.00000000e+00,  0.00000000e+00,  0.00000000e+00,  0.00000000e+00,\n",
       "          0.00000000e+00,  0.00000000e+00,  0.00000000e+00,  1.31838400e-01,\n",
       "          0.00000000e+00,  0.00000000e+00,  0.00000000e+00,  0.00000000e+00,\n",
       "          0.00000000e+00,  0.00000000e+00,  0.00000000e+00,  0.00000000e+00,\n",
       "          0.00000000e+00,  0.00000000e+00,  0.00000000e+00,  0.00000000e+00,\n",
       "          0.00000000e+00,  0.00000000e+00,  0.00000000e+00,  0.00000000e+00,\n",
       "          0.00000000e+00,  0.00000000e+00,  0.00000000e+00,  0.00000000e+00,\n",
       "          0.00000000e+00,  0.00000000e+00,  0.00000000e+00,  0.00000000e+00,\n",
       "          0.00000000e+00,  0.00000000e+00,  0.00000000e+00,  0.00000000e+00,\n",
       "          0.00000000e+00,  0.00000000e+00,  0.00000000e+00,  0.00000000e+00,\n",
       "          0.00000000e+00,  0.00000000e+00,  0.00000000e+00,  0.00000000e+00,\n",
       "          0.00000000e+00,  0.00000000e+00,  0.00000000e+00,  0.00000000e+00,\n",
       "          0.00000000e+00,  1.63913521e-02,  0.00000000e+00,  0.00000000e+00,\n",
       "          0.00000000e+00,  0.00000000e+00,  0.00000000e+00,  0.00000000e+00,\n",
       "          0.00000000e+00,  0.00000000e+00,  0.00000000e+00,  0.00000000e+00,\n",
       "          0.00000000e+00,  0.00000000e+00,  0.00000000e+00,  0.00000000e+00,\n",
       "          0.00000000e+00,  0.00000000e+00,  0.00000000e+00,  0.00000000e+00,\n",
       "          0.00000000e+00,  0.00000000e+00,  0.00000000e+00,  0.00000000e+00,\n",
       "          0.00000000e+00,  0.00000000e+00,  0.00000000e+00,  0.00000000e+00,\n",
       "          0.00000000e+00,  0.00000000e+00,  0.00000000e+00,  0.00000000e+00,\n",
       "          0.00000000e+00,  0.00000000e+00,  0.00000000e+00,  0.00000000e+00,\n",
       "          0.00000000e+00,  0.00000000e+00,  0.00000000e+00,  0.00000000e+00,\n",
       "          0.00000000e+00,  0.00000000e+00,  0.00000000e+00,  0.00000000e+00,\n",
       "          0.00000000e+00,  0.00000000e+00,  0.00000000e+00,  0.00000000e+00,\n",
       "          0.00000000e+00,  0.00000000e+00,  0.00000000e+00,  0.00000000e+00,\n",
       "          0.00000000e+00,  0.00000000e+00,  0.00000000e+00,  0.00000000e+00,\n",
       "          0.00000000e+00,  0.00000000e+00,  0.00000000e+00,  0.00000000e+00,\n",
       "          0.00000000e+00,  0.00000000e+00,  0.00000000e+00,  0.00000000e+00,\n",
       "          0.00000000e+00,  0.00000000e+00,  0.00000000e+00,  0.00000000e+00]),\n",
       "  'CAAU':       fun: DeviceArray(-1.16547128, dtype=float64)\n",
       "   hess_inv: <443x443 LbfgsInvHessProduct with dtype=float64>\n",
       "        jac: array([-5.16258207e-05,  8.11989452e-05, -6.17154724e-05,  5.74455263e-04,\n",
       "         -2.52892214e-04,  5.66713739e-04,  2.21040516e-04,  7.86662928e-04,\n",
       "          2.09633494e-05, -1.43465860e-05,  5.41328603e-04, -1.88649024e-04,\n",
       "          1.87370782e-04,  1.33069942e-04, -2.54331220e-04, -2.08018897e-04,\n",
       "          3.35147268e-05, -1.99727152e-04, -1.28030314e-04, -1.31753238e-04,\n",
       "          1.38757971e-04, -5.54275315e-05, -1.99389606e-04,  7.18702781e-06,\n",
       "         -3.34000718e-04,  8.30304311e-05, -8.74009248e-05,  4.66950265e-05,\n",
       "         -2.86437110e-06, -6.46167466e-05,  5.78639524e-04,  6.42345947e-05,\n",
       "         -1.36536516e-04, -2.96280324e-06,  6.11631690e-04,  2.28758692e-05,\n",
       "          9.87927006e-04, -5.20472215e-04, -6.15689004e-04,  1.47358778e-04,\n",
       "          8.79126164e-05, -2.30671806e-05, -1.78259649e-04, -1.68484345e-04,\n",
       "         -1.00923467e-04,  9.23506820e-05,  2.02083017e-04, -9.03310259e-04,\n",
       "         -1.95634410e-06,  2.00189496e-05, -3.61488298e-05,  9.05587582e-05,\n",
       "         -3.19565837e-05, -8.79571245e-04,  1.50307543e-04, -1.87462935e-06,\n",
       "         -1.10170118e-04, -2.77425003e-04, -1.47523564e-04,  6.77426463e-04,\n",
       "         -2.37457442e-04,  2.95304234e-05, -1.98473886e-04,  3.52544940e-05,\n",
       "          4.59500631e-04,  4.27087720e-05,  1.94013044e+00,  4.09650259e+00,\n",
       "          3.43330524e+00,  2.13420866e+00,  4.02568059e-01,  1.10676478e+01,\n",
       "          2.63266386e+00,  1.67827096e-01,  7.48249087e-02,  1.69448739e-01,\n",
       "          9.65636121e-01,  1.36462101e+00,  1.35524190e+01,  3.25733888e-01,\n",
       "          3.03104277e+01,  3.27973669e+01,  3.43180530e-01,  3.63384694e+01,\n",
       "          2.20904356e+01,  4.39366684e+00,  4.71940474e+00,  5.71044189e+00,\n",
       "          7.22432158e+01,  2.76786520e+01,  6.06853329e+00,  2.22219552e+01,\n",
       "          3.80447453e+00,  5.56679244e+01,  1.51181103e-04,  1.82390128e+00,\n",
       "          1.33370604e+00,  5.05043203e+01,  4.40873996e+00,  3.89000038e+00,\n",
       "          2.15117253e+00,  7.35781525e+00,  3.46788887e+01,  2.33545511e+01,\n",
       "          2.21154136e+01, -1.33098051e-04,  3.83630789e-05,  2.67197780e+00,\n",
       "          4.24988633e+00,  1.34652333e+00,  1.36991912e-04,  1.06161966e-04,\n",
       "          6.25473163e-01,  1.48143245e-01,  1.23140451e+00,  1.17327899e+00,\n",
       "          6.20793283e-01,  1.18724370e+00,  1.68726135e+01,  2.74788929e+00,\n",
       "          3.70702929e-01,  1.07965750e-01,  9.24170027e-01,  1.01280028e+01,\n",
       "          5.41510110e+00,  4.05583547e+00,  1.90618901e+00, -6.38282244e-06,\n",
       "          2.10650392e-02,  2.81811156e-01,  3.39866270e-01,  4.15311287e+00,\n",
       "          9.67417044e-01,  1.05562872e+00,  1.59249590e-01,  1.18450126e+00,\n",
       "          2.34256446e+00,  7.94013621e-01,  2.92941464e-01,  4.37038249e-01,\n",
       "          3.72850959e-02, -7.77670848e-05,  1.58870532e-01,  2.19291526e-01,\n",
       "          1.76085105e+00,  2.32050190e-02, -4.82093215e-05,  2.10737030e+00,\n",
       "          6.10071558e-01,  3.76150943e-01,  1.00465955e-04,  3.46003287e-01,\n",
       "          2.57119161e-01,  1.30686978e+00,  1.60910027e+01,  6.93023405e-01,\n",
       "          6.96258228e-01,  2.09159339e-01,  1.44365293e+00,  2.41344262e-01,\n",
       "          1.02556223e+00,  3.50430295e+00,  1.31486251e+00,  8.41209027e-01,\n",
       "          1.70728976e-01,  1.25144680e+00,  1.04975313e-01,  7.66535474e-02,\n",
       "          4.41712644e+00,  1.06186005e+00,  8.37467771e-01,  1.48349384e-01,\n",
       "          9.13550254e-01,  8.88119229e-02,  4.13905195e-02,  3.94005580e-01,\n",
       "          1.32879521e+00,  1.45763135e-01,  2.20466077e-01,  1.17835942e+00,\n",
       "          8.69822144e-01,  3.96434182e+00,  5.36644593e+00,  3.97121904e-01,\n",
       "          8.51918856e+00,  1.83483709e+01,  1.55011674e+01,  2.19592110e+00,\n",
       "          4.38473798e+00,  1.76076822e+00,  2.22257377e-01,  2.08845237e-01,\n",
       "          1.41241532e-05,  6.37375457e-01,  3.75284988e-01,  4.44567279e+00,\n",
       "          9.87603810e-01,  1.03852441e-04,  3.43154262e+00,  3.24927617e+00,\n",
       "          3.52030342e+00,  1.04677757e+01,  1.93822939e-01, -4.72601404e-05,\n",
       "          1.58451132e+00,  4.66350305e-01,  2.53504446e+01,  1.62219146e+01,\n",
       "          1.13610369e+00,  4.62352149e-02,  4.87557306e+00,  5.22467385e+00,\n",
       "          2.29193202e+00,  1.23636736e+00,  1.81223870e-01,  5.26360865e-02,\n",
       "          9.83093091e-01,  9.14965885e-02,  3.02844084e+00,  4.51705563e+00,\n",
       "          9.75490926e-01,  5.44736286e+00,  1.93185643e+01,  1.36830751e+00,\n",
       "          5.82701154e-01,  1.36181320e+00,  3.77449334e+00,  2.88809733e+00,\n",
       "          4.12781817e+00,  4.33795193e+00,  2.13420866e+00,  2.75016145e+00,\n",
       "          2.81680433e+01,  2.26596531e-01,  4.09842073e-01,  1.69678912e+00,\n",
       "          3.09907288e+00,  2.13307927e+00, -6.22159840e-05,  2.52976420e+00,\n",
       "          1.66455888e+00,  1.58656279e+00,  5.70656800e-01,  9.48205623e-01,\n",
       "          1.53057629e+01,  1.49386337e+00,  2.75648770e+00, -5.72043435e-05,\n",
       "         -6.59332191e-05,  3.86239889e-01, -2.95614183e-05,  4.18436711e+00,\n",
       "          2.16438817e+00,  3.70875276e-01,  5.69326246e+00,  7.38779354e+00,\n",
       "          3.89911614e-01,  9.31978824e+00,  1.61250275e+00,  1.62479467e+01,\n",
       "          9.13237486e+00,  7.73796137e+00,  1.17851870e+00,  2.18096486e-01,\n",
       "          4.07780195e-04,  5.44577678e+01,  1.69138115e+00,  2.87855955e-01,\n",
       "          1.15116387e+00,  1.27711973e+01,  2.93025830e+00,  1.31238431e+00,\n",
       "          7.11932137e-03, -2.06763809e-04,  1.67017130e-01,  3.78713689e-01,\n",
       "          5.57779135e-01,  1.21293162e+00,  1.52609375e+00,  1.10731397e+00,\n",
       "          6.64153762e+00,  2.64830037e+00,  1.69448739e-01,  4.41940667e-01,\n",
       "          7.12617700e-02,  1.71892095e-01,  8.81639631e-01,  2.89633887e+00,\n",
       "          2.16505510e+00,  2.04850890e-01,  7.91031630e+00,  1.12858138e+01,\n",
       "          2.52162171e+01,  1.65396181e+01,  1.93242081e+00,  2.16027412e+00,\n",
       "          9.32621438e+00,  4.28412151e+01,  1.99675697e-01,  5.40321891e+00,\n",
       "          1.05381979e+01,  1.42065175e+01,  6.37123874e+00,  4.74946259e+00,\n",
       "          6.06935723e+00,  5.64714235e+00,  6.32118572e-02,  3.09306296e+00,\n",
       "          8.24932039e-02,  3.71984326e-01,  3.14557815e-01,  6.46110654e-01,\n",
       "          3.28335987e+00,  6.97628211e+00,  1.16666556e+01,  2.60308456e+01,\n",
       "          5.20538197e+00,  3.88357830e-01,  3.60614096e+00,  4.07841755e-01,\n",
       "          1.80029370e+00,  1.03911865e+00,  8.26100458e-01,  2.02963711e-01,\n",
       "          9.22139782e-01,  2.64297403e+00,  1.82131258e+00,  5.09198147e+00,\n",
       "          2.25918264e+01,  6.74270289e+00, -1.18616632e-04,  5.88008046e+00,\n",
       "          9.86803672e+00,  9.23622417e-01,  1.80466671e+01,  2.85599764e+01,\n",
       "          1.62813731e-02,  3.68712731e+00,  1.21248778e+01,  1.06437838e+00,\n",
       "          8.17049290e-01,  1.97023319e+01,  8.29882319e-01,  2.04966384e-01,\n",
       "          3.38652055e+00,  2.19001315e-01,  1.46943503e+00,  5.21491436e-01,\n",
       "          1.01956801e+01,  2.94957278e-01,  2.44447125e+02,  9.63371641e+00,\n",
       "          3.81758580e+01,  3.56043740e+01,  5.04893266e+00,  7.83757983e+00,\n",
       "          9.60782474e-01,  4.23168446e+00,  5.25198687e-01,  3.95014393e-01,\n",
       "          1.59012249e+01,  3.72288239e+01,  1.12801899e+00,  4.17485556e+01,\n",
       "          3.10599696e+01,  5.84996493e+01,  5.79767607e+00,  1.02903599e+00,\n",
       "          4.94723532e+01,  2.34275991e+01,  7.42294956e-02,  1.02650830e+01,\n",
       "          7.31739961e+00,  7.44607920e+01,  8.21819100e+00,  1.24470634e+01,\n",
       "          4.35824413e+00,  7.02935550e+00,  1.12442400e+00,  2.97758420e+00,\n",
       "          7.14880935e-01,  4.19916834e+01,  8.85021910e+00,  6.24270804e+01,\n",
       "          4.58969976e+00,  7.18111000e+00,  6.45449099e-01,  6.83775915e+00,\n",
       "          1.25142911e+01,  1.26986322e+01,  3.34327182e-01,  4.10978763e+00,\n",
       "          1.87522214e+00,  6.87379747e-01,  5.66614838e-01,  7.13106643e-01,\n",
       "          1.22716507e+00,  1.38478909e+00,  1.48608752e+00,  1.02152393e-01,\n",
       "          6.46872725e+00,  2.03614110e+01,  1.28961148e+00,  1.02011039e+01,\n",
       "          4.68375354e+01,  1.94099567e+00,  1.54735516e-01,  2.09609287e+00,\n",
       "          5.90838532e+00,  1.94728484e+01,  1.37204690e+01,  1.68590611e+01,\n",
       "          1.42993805e+01,  3.08718774e+01,  1.42918085e+00,  2.78945826e+00,\n",
       "          1.74612475e+00,  1.05612264e+00,  2.78782432e+00,  3.13012084e+02,\n",
       "          1.96223481e+00,  1.85194457e+00, -9.23445672e-05,  2.99095937e-01,\n",
       "          7.33328287e+00,  5.01194693e-01,  4.01328482e-01,  9.09375191e-01,\n",
       "          8.30938229e+00,  4.21140605e-01,  4.50712486e-06,  5.83718064e-01,\n",
       "          1.85859983e+00,  9.14540042e-01,  5.05709577e-01,  3.75803746e-01,\n",
       "          2.26698880e+01,  2.08833176e+00,  2.90955832e+00,  3.23294765e+00,\n",
       "          4.99223600e+00,  1.22356277e+02,  8.62651584e+00])\n",
       "    message: b'CONVERGENCE: NORM_OF_PROJECTED_GRADIENT_<=_PGTOL'\n",
       "       nfev: 978\n",
       "        nit: 916\n",
       "       njev: 978\n",
       "     status: 0\n",
       "    success: True\n",
       "          x: array([ 6.33874871e-03, -1.66029501e-02, -2.68323255e-03, -1.10248286e-03,\n",
       "          4.98347638e-04,  2.84266232e-03,  4.51124284e-03,  3.85483946e-03,\n",
       "          6.39387268e-04,  3.15769961e-04, -2.02375602e-02,  1.75088800e-03,\n",
       "          7.24137860e-03, -1.23654450e-02, -3.95686196e-03, -3.38876858e-03,\n",
       "          1.44748910e-02, -5.35808925e-04,  1.15379838e-02,  5.13474766e-03,\n",
       "         -1.11669698e-03,  9.15369529e-03,  5.58000867e-04,  6.77793706e-04,\n",
       "          9.21920315e-03,  3.58254456e-02,  4.76507536e-03,  5.70273810e-02,\n",
       "          8.70386803e-03,  2.50667932e-02, -5.72043442e-04,  3.64458917e-02,\n",
       "          4.65434451e-02,  5.24427818e-03,  2.06145531e-02,  2.55511046e-02,\n",
       "         -7.32661477e-04,  4.04407703e-02,  5.63367478e-05,  7.40551276e-03,\n",
       "          1.46617432e-01,  2.88146605e-02, -2.70829307e-03, -6.20668941e-03,\n",
       "          1.00898918e-02,  9.39695044e-02, -1.34014617e-02, -3.09767728e-04,\n",
       "          4.93916644e-03,  4.02566918e-02,  9.60100340e-03,  2.19725464e-03,\n",
       "         -1.10096802e-03, -2.05212363e-03,  7.23914598e-03,  2.28850581e-02,\n",
       "          2.69783438e-03,  5.44837575e-03, -2.84774138e-04,  4.31903717e-03,\n",
       "          7.88939819e-04, -4.89073059e-03,  1.41344229e-02,  1.50621727e-02,\n",
       "          7.01897236e-03,  1.86597116e-02,  0.00000000e+00,  0.00000000e+00,\n",
       "          0.00000000e+00,  0.00000000e+00,  0.00000000e+00,  0.00000000e+00,\n",
       "          0.00000000e+00,  0.00000000e+00,  0.00000000e+00,  0.00000000e+00,\n",
       "          0.00000000e+00,  0.00000000e+00,  0.00000000e+00,  0.00000000e+00,\n",
       "          0.00000000e+00,  0.00000000e+00,  0.00000000e+00,  0.00000000e+00,\n",
       "          0.00000000e+00,  0.00000000e+00,  0.00000000e+00,  0.00000000e+00,\n",
       "          0.00000000e+00,  0.00000000e+00,  0.00000000e+00,  0.00000000e+00,\n",
       "          0.00000000e+00,  0.00000000e+00,  2.12586601e-01,  0.00000000e+00,\n",
       "          0.00000000e+00,  0.00000000e+00,  0.00000000e+00,  0.00000000e+00,\n",
       "          0.00000000e+00,  0.00000000e+00,  0.00000000e+00,  0.00000000e+00,\n",
       "          0.00000000e+00,  1.92646995e-01,  2.19725075e+00,  0.00000000e+00,\n",
       "          0.00000000e+00,  0.00000000e+00,  5.87436897e-01,  1.53039648e-01,\n",
       "          0.00000000e+00,  0.00000000e+00,  0.00000000e+00,  0.00000000e+00,\n",
       "          0.00000000e+00,  0.00000000e+00,  0.00000000e+00,  0.00000000e+00,\n",
       "          0.00000000e+00,  0.00000000e+00,  0.00000000e+00,  0.00000000e+00,\n",
       "          0.00000000e+00,  0.00000000e+00,  0.00000000e+00,  1.32923522e-01,\n",
       "          0.00000000e+00,  0.00000000e+00,  0.00000000e+00,  0.00000000e+00,\n",
       "          0.00000000e+00,  0.00000000e+00,  0.00000000e+00,  0.00000000e+00,\n",
       "          0.00000000e+00,  0.00000000e+00,  0.00000000e+00,  0.00000000e+00,\n",
       "          0.00000000e+00,  1.30516644e-02,  0.00000000e+00,  0.00000000e+00,\n",
       "          0.00000000e+00,  0.00000000e+00,  4.90569685e-02,  0.00000000e+00,\n",
       "          0.00000000e+00,  0.00000000e+00,  6.00711820e-04,  0.00000000e+00,\n",
       "          0.00000000e+00,  0.00000000e+00,  0.00000000e+00,  0.00000000e+00,\n",
       "          0.00000000e+00,  0.00000000e+00,  0.00000000e+00,  0.00000000e+00,\n",
       "          0.00000000e+00,  0.00000000e+00,  0.00000000e+00,  0.00000000e+00,\n",
       "          0.00000000e+00,  0.00000000e+00,  0.00000000e+00,  0.00000000e+00,\n",
       "          0.00000000e+00,  0.00000000e+00,  0.00000000e+00,  0.00000000e+00,\n",
       "          0.00000000e+00,  0.00000000e+00,  0.00000000e+00,  0.00000000e+00,\n",
       "          0.00000000e+00,  0.00000000e+00,  0.00000000e+00,  0.00000000e+00,\n",
       "          0.00000000e+00,  0.00000000e+00,  0.00000000e+00,  0.00000000e+00,\n",
       "          0.00000000e+00,  0.00000000e+00,  0.00000000e+00,  0.00000000e+00,\n",
       "          0.00000000e+00,  0.00000000e+00,  0.00000000e+00,  0.00000000e+00,\n",
       "          6.17983060e-04,  0.00000000e+00,  0.00000000e+00,  0.00000000e+00,\n",
       "          0.00000000e+00,  2.21687647e-01,  0.00000000e+00,  0.00000000e+00,\n",
       "          0.00000000e+00,  0.00000000e+00,  0.00000000e+00,  1.68523542e-01,\n",
       "          0.00000000e+00,  0.00000000e+00,  0.00000000e+00,  0.00000000e+00,\n",
       "          0.00000000e+00,  0.00000000e+00,  0.00000000e+00,  0.00000000e+00,\n",
       "          0.00000000e+00,  0.00000000e+00,  0.00000000e+00,  0.00000000e+00,\n",
       "          0.00000000e+00,  0.00000000e+00,  0.00000000e+00,  0.00000000e+00,\n",
       "          0.00000000e+00,  0.00000000e+00,  0.00000000e+00,  0.00000000e+00,\n",
       "          0.00000000e+00,  0.00000000e+00,  0.00000000e+00,  0.00000000e+00,\n",
       "          0.00000000e+00,  0.00000000e+00,  0.00000000e+00,  0.00000000e+00,\n",
       "          0.00000000e+00,  0.00000000e+00,  0.00000000e+00,  0.00000000e+00,\n",
       "          0.00000000e+00,  0.00000000e+00,  1.62463322e-01,  0.00000000e+00,\n",
       "          0.00000000e+00,  0.00000000e+00,  0.00000000e+00,  0.00000000e+00,\n",
       "          0.00000000e+00,  0.00000000e+00,  0.00000000e+00,  2.62884729e-01,\n",
       "          1.60419813e-01,  0.00000000e+00,  2.65793854e-01,  0.00000000e+00,\n",
       "          0.00000000e+00,  0.00000000e+00,  0.00000000e+00,  0.00000000e+00,\n",
       "          0.00000000e+00,  0.00000000e+00,  0.00000000e+00,  0.00000000e+00,\n",
       "          0.00000000e+00,  0.00000000e+00,  0.00000000e+00,  0.00000000e+00,\n",
       "          1.39225904e-01,  0.00000000e+00,  0.00000000e+00,  0.00000000e+00,\n",
       "          0.00000000e+00,  0.00000000e+00,  0.00000000e+00,  0.00000000e+00,\n",
       "          0.00000000e+00,  4.50083587e-02,  0.00000000e+00,  0.00000000e+00,\n",
       "          0.00000000e+00,  0.00000000e+00,  0.00000000e+00,  0.00000000e+00,\n",
       "          0.00000000e+00,  0.00000000e+00,  0.00000000e+00,  0.00000000e+00,\n",
       "          0.00000000e+00,  0.00000000e+00,  0.00000000e+00,  0.00000000e+00,\n",
       "          0.00000000e+00,  0.00000000e+00,  0.00000000e+00,  0.00000000e+00,\n",
       "          0.00000000e+00,  0.00000000e+00,  0.00000000e+00,  0.00000000e+00,\n",
       "          0.00000000e+00,  0.00000000e+00,  0.00000000e+00,  0.00000000e+00,\n",
       "          0.00000000e+00,  0.00000000e+00,  0.00000000e+00,  0.00000000e+00,\n",
       "          0.00000000e+00,  0.00000000e+00,  0.00000000e+00,  0.00000000e+00,\n",
       "          0.00000000e+00,  0.00000000e+00,  0.00000000e+00,  0.00000000e+00,\n",
       "          0.00000000e+00,  0.00000000e+00,  0.00000000e+00,  0.00000000e+00,\n",
       "          0.00000000e+00,  0.00000000e+00,  0.00000000e+00,  0.00000000e+00,\n",
       "          0.00000000e+00,  0.00000000e+00,  0.00000000e+00,  0.00000000e+00,\n",
       "          0.00000000e+00,  0.00000000e+00,  0.00000000e+00,  0.00000000e+00,\n",
       "          0.00000000e+00,  0.00000000e+00,  3.15290911e-02,  0.00000000e+00,\n",
       "          0.00000000e+00,  0.00000000e+00,  0.00000000e+00,  0.00000000e+00,\n",
       "          0.00000000e+00,  0.00000000e+00,  0.00000000e+00,  0.00000000e+00,\n",
       "          0.00000000e+00,  0.00000000e+00,  0.00000000e+00,  0.00000000e+00,\n",
       "          0.00000000e+00,  0.00000000e+00,  0.00000000e+00,  0.00000000e+00,\n",
       "          0.00000000e+00,  0.00000000e+00,  0.00000000e+00,  0.00000000e+00,\n",
       "          0.00000000e+00,  0.00000000e+00,  0.00000000e+00,  0.00000000e+00,\n",
       "          0.00000000e+00,  0.00000000e+00,  0.00000000e+00,  0.00000000e+00,\n",
       "          0.00000000e+00,  0.00000000e+00,  0.00000000e+00,  0.00000000e+00,\n",
       "          0.00000000e+00,  0.00000000e+00,  0.00000000e+00,  0.00000000e+00,\n",
       "          0.00000000e+00,  0.00000000e+00,  0.00000000e+00,  0.00000000e+00,\n",
       "          0.00000000e+00,  0.00000000e+00,  0.00000000e+00,  0.00000000e+00,\n",
       "          0.00000000e+00,  0.00000000e+00,  0.00000000e+00,  0.00000000e+00,\n",
       "          0.00000000e+00,  0.00000000e+00,  0.00000000e+00,  0.00000000e+00,\n",
       "          0.00000000e+00,  0.00000000e+00,  0.00000000e+00,  0.00000000e+00,\n",
       "          0.00000000e+00,  0.00000000e+00,  0.00000000e+00,  0.00000000e+00,\n",
       "          0.00000000e+00,  0.00000000e+00,  0.00000000e+00,  0.00000000e+00,\n",
       "          0.00000000e+00,  0.00000000e+00,  0.00000000e+00,  0.00000000e+00,\n",
       "          0.00000000e+00,  0.00000000e+00,  0.00000000e+00,  0.00000000e+00,\n",
       "          0.00000000e+00,  0.00000000e+00,  0.00000000e+00,  0.00000000e+00,\n",
       "          0.00000000e+00,  0.00000000e+00,  0.00000000e+00,  0.00000000e+00,\n",
       "          0.00000000e+00,  0.00000000e+00,  0.00000000e+00,  0.00000000e+00,\n",
       "          0.00000000e+00,  0.00000000e+00,  0.00000000e+00,  0.00000000e+00,\n",
       "          0.00000000e+00,  0.00000000e+00,  1.40403253e-01,  0.00000000e+00,\n",
       "          0.00000000e+00,  0.00000000e+00,  0.00000000e+00,  0.00000000e+00,\n",
       "          0.00000000e+00,  0.00000000e+00,  5.74762169e-01,  0.00000000e+00,\n",
       "          0.00000000e+00,  0.00000000e+00,  0.00000000e+00,  0.00000000e+00,\n",
       "          0.00000000e+00,  0.00000000e+00,  0.00000000e+00,  0.00000000e+00,\n",
       "          0.00000000e+00,  0.00000000e+00,  0.00000000e+00])},\n",
       " 'time': 25.076173305511475,\n",
       " 'D_KL_alpha': {'AAAA': DeviceArray(0.14003886, dtype=float64),\n",
       "  'CAAU': DeviceArray(0.96991494, dtype=float64)},\n",
       " 'abs_difference': {'AAAA': DeviceArray(0.00511327, dtype=float64),\n",
       "  'CAAU': DeviceArray(0.00154249, dtype=float64)},\n",
       " 'av_g': {'AAAA': {'backbone1_gamma_3J': DeviceArray([2.32316031, 2.28073532, 1.97382655, 1.95220844, 2.05372526,\n",
       "                2.05066221, 2.34250061, 1.87821057], dtype=float64),\n",
       "   'backbone2_beta_epsilon_3J': DeviceArray([6.56916169, 3.8421189 , 2.35928767, 6.86433802, 3.76679848,\n",
       "                2.44766556, 5.88706602, 3.01422216, 2.89782166],            dtype=float64),\n",
       "   'sugar_3J': DeviceArray([3.84120408, 4.67419666, 8.06962587, 2.39098719, 4.57978062,\n",
       "                8.7085078 , 1.86805087, 4.5501071 , 9.29872617, 4.45050545,\n",
       "                6.53543496], dtype=float64),\n",
       "   'NOEs': DeviceArray([1.84314303e-03, 7.27726735e-05, 5.12564962e-04,\n",
       "                7.40201359e-04, 9.65581344e-05, 9.11310827e-05,\n",
       "                9.43827687e-04, 1.40219258e-04, 1.83091660e-03,\n",
       "                6.10907883e-04, 2.48981240e-03, 1.21635781e-03,\n",
       "                1.81259626e-04, 2.23131683e-04, 9.66926212e-05,\n",
       "                6.65555947e-04, 9.10364501e-05, 4.88018596e-04,\n",
       "                4.69564786e-04, 2.20449117e-03, 2.74749465e-03,\n",
       "                1.76805585e-03, 1.51008656e-04, 1.20537538e-04,\n",
       "                3.11018667e-04, 6.88127887e-04, 6.65901853e-05,\n",
       "                1.44059389e-04, 2.04605324e-03, 8.53972400e-04,\n",
       "                8.12344380e-04, 1.82695601e-04, 2.82946141e-04,\n",
       "                2.33900205e-03, 1.06770071e-04, 7.97838040e-04],            dtype=float64),\n",
       "   'uNOEs': DeviceArray([1.41435216e-05, 2.37687428e-05, 8.52093684e-06,\n",
       "                9.33873174e-07, 7.48228025e-05, 1.00302914e-05,\n",
       "                3.07989321e-05, 2.04487192e-05, 4.62472640e-05,\n",
       "                2.71909815e-05, 2.41722590e-05, 1.66753167e-05,\n",
       "                6.55710507e-06, 5.68850777e-06, 1.15882362e-05,\n",
       "                2.69038629e-06, 1.16754025e-05, 9.94389010e-06,\n",
       "                2.71519273e-05, 9.92405419e-07, 1.01029247e-06,\n",
       "                1.04513889e-06, 3.07990916e-06, 1.20828514e-05,\n",
       "                3.81570297e-06, 1.06216081e-06, 6.82716510e-07,\n",
       "                7.97575826e-07, 1.42826267e-05, 4.08485772e-05,\n",
       "                5.40330100e-06, 1.12193828e-05, 1.38925100e-05,\n",
       "                2.03177825e-05, 6.97849586e-06, 1.01803324e-05,\n",
       "                3.04605371e-05, 7.88509571e-05, 3.88851068e-06,\n",
       "                2.95753195e-06, 4.86300450e-06, 3.87409810e-05,\n",
       "                1.26794342e-05, 1.05369380e-05, 2.77901325e-05,\n",
       "                7.23822165e-06, 1.03230024e-05, 7.05398900e-06,\n",
       "                4.13552939e-05, 7.26351385e-05, 2.13927174e-05,\n",
       "                2.99932336e-05, 1.68773034e-05, 6.22565733e-06,\n",
       "                5.12634337e-06, 6.24976526e-06, 2.22772299e-05,\n",
       "                1.33189693e-05, 9.89526401e-06, 1.07145088e-05,\n",
       "                2.46770158e-06, 1.94433481e-05, 2.00296748e-06,\n",
       "                1.47696794e-06, 6.08213874e-05, 1.05423503e-04,\n",
       "                3.45461859e-05, 3.56133996e-06, 6.45317021e-06,\n",
       "                4.67053236e-06, 1.04262909e-05, 2.45252206e-05,\n",
       "                4.60833637e-06, 1.39069111e-05, 2.82367242e-05,\n",
       "                1.62644855e-04, 3.17530090e-05, 1.62343820e-04,\n",
       "                1.43143421e-05, 8.42329691e-06, 4.09865877e-05,\n",
       "                2.95822897e-05, 3.91251938e-06, 1.19540354e-05,\n",
       "                1.53277045e-05, 7.46212203e-06, 2.94779836e-06,\n",
       "                1.45330936e-05, 1.11207010e-05, 1.16064181e-05,\n",
       "                6.61762686e-06, 4.80384959e-06, 1.04693287e-05,\n",
       "                2.59350906e-05, 4.44610463e-05, 7.46012410e-05,\n",
       "                1.36781420e-05, 1.45954776e-05, 1.16755785e-05,\n",
       "                4.13483147e-06, 3.18144967e-05, 6.28888958e-06,\n",
       "                7.01112641e-06, 7.28990786e-06, 7.37419593e-05,\n",
       "                1.00027327e-05, 6.44315044e-06, 5.28307790e-06,\n",
       "                1.29741974e-05, 2.88885213e-06, 1.54700703e-05,\n",
       "                5.40507538e-06, 2.07632864e-05, 6.24617353e-06,\n",
       "                1.53610223e-05, 1.44856002e-05, 7.31120731e-05,\n",
       "                3.76399941e-05, 2.54675191e-05, 1.12010841e-05,\n",
       "                7.06102474e-06, 1.62907441e-05, 6.18936537e-06,\n",
       "                4.28406781e-06, 2.38514606e-05, 3.54715950e-06,\n",
       "                3.29784371e-06, 6.79492358e-06, 2.29596920e-06,\n",
       "                8.22921415e-06, 5.14738262e-06, 7.33160182e-06,\n",
       "                8.93933468e-06, 9.42052311e-06, 2.12904705e-05,\n",
       "                7.44782499e-05, 1.68212265e-05, 3.87443060e-05,\n",
       "                2.48174638e-06, 5.58347616e-06, 1.41416769e-04,\n",
       "                1.90235476e-05, 3.32437126e-05, 6.48689727e-06,\n",
       "                1.54434976e-06, 9.76994977e-07, 1.14987799e-06,\n",
       "                6.76990970e-07, 1.66003725e-06, 9.46733849e-07,\n",
       "                1.09961716e-05, 1.81951203e-05, 3.15029844e-05,\n",
       "                7.92133841e-06, 6.87295414e-06, 1.53172188e-05,\n",
       "                2.46795864e-05, 7.05837605e-06, 9.84710657e-07,\n",
       "                1.19696336e-06, 1.39152297e-05, 3.40896161e-05,\n",
       "                1.35827640e-06, 9.30305499e-07, 7.58432881e-07,\n",
       "                8.64287602e-06, 7.05308305e-06, 9.11969290e-05,\n",
       "                1.78845047e-05, 1.60173988e-05, 9.82610222e-06,\n",
       "                1.01016021e-04, 8.43403883e-05, 1.77227597e-05,\n",
       "                5.37576508e-06, 1.11894767e-05, 3.01741364e-05,\n",
       "                2.47246837e-04, 8.43623950e-06, 1.77955367e-05,\n",
       "                6.33260583e-06, 4.55275223e-05, 8.97923801e-06,\n",
       "                1.16443380e-05, 2.34950904e-05, 1.18696804e-04,\n",
       "                1.71415007e-05, 8.61003317e-06, 2.35036810e-05,\n",
       "                3.36711319e-05, 1.43208773e-05, 3.82648518e-05,\n",
       "                9.74831770e-06, 9.18756771e-06, 7.83837565e-06,\n",
       "                6.09479781e-05, 1.04476844e-04, 6.60892445e-06,\n",
       "                6.50493633e-06, 3.55115754e-06, 3.77203411e-05,\n",
       "                7.17403606e-06, 8.95264080e-06, 8.22280530e-06,\n",
       "                2.30278347e-05, 2.44022501e-05, 1.28875690e-05,\n",
       "                5.68667673e-05, 3.91170876e-06, 8.27100559e-06,\n",
       "                1.72132878e-05, 8.79077092e-07, 4.20734963e-05,\n",
       "                3.27763718e-05, 1.53400051e-05, 3.54345914e-04,\n",
       "                2.54948089e-04, 3.89039145e-05, 4.06093758e-05,\n",
       "                2.73928477e-05, 5.14393584e-06, 3.92516737e-05,\n",
       "                6.82937941e-06, 9.92138862e-06, 3.99609237e-06,\n",
       "                1.99617877e-04, 3.46042660e-05, 3.61413796e-06,\n",
       "                3.73232091e-06, 2.31755417e-06, 6.08033161e-06,\n",
       "                2.05624230e-05, 3.89579633e-06, 7.83493049e-06,\n",
       "                3.38077572e-04, 3.02044316e-05, 2.20124178e-05,\n",
       "                2.47076353e-05, 5.76793245e-05, 5.89346523e-04,\n",
       "                1.58499054e-04, 3.75304378e-05, 5.87443218e-06,\n",
       "                1.99132774e-05], dtype=float64)},\n",
       "  'CAAU': {'backbone1_gamma_3J': DeviceArray([2.40028091, 2.43025078, 2.24802365, 1.90417655, 2.12350202,\n",
       "                1.92956547, 1.93265702, 1.91652399], dtype=float64),\n",
       "   'backbone2_beta_epsilon_3J': DeviceArray([3.81509599, 2.27229243, 7.11821506, 3.79163516, 2.30948213,\n",
       "                6.58263584, 3.22570666, 2.70753527], dtype=float64),\n",
       "   'sugar_3J': DeviceArray([2.48299648, 4.36064558, 9.81217421, 1.58950313, 4.28206437,\n",
       "                9.39867998, 1.48007289, 4.48685467, 9.82976877, 6.34332335,\n",
       "                5.00440345], dtype=float64),\n",
       "   'NOEs': DeviceArray([7.65468512e-04, 5.92088315e-05, 1.16016330e-03,\n",
       "                1.45614913e-04, 1.79199445e-03, 2.19598135e-03,\n",
       "                1.60597908e-04, 9.02082587e-05, 1.86886782e-04,\n",
       "                9.39295847e-05, 6.41403266e-04, 7.26838400e-05,\n",
       "                9.37303631e-05, 6.59572254e-04, 1.17503240e-03,\n",
       "                1.58419532e-04, 1.66330403e-04, 3.11240605e-03,\n",
       "                2.69779383e-03, 2.03084956e-03, 1.26084592e-04,\n",
       "                9.70494370e-05, 6.14520111e-04, 1.59240010e-04,\n",
       "                9.93120762e-04, 8.02709457e-05, 9.99240551e-05,\n",
       "                7.79676889e-04, 1.96894441e-03, 2.79457054e-03,\n",
       "                1.48416797e-03, 2.79140722e-04, 1.33800821e-03,\n",
       "                1.29944835e-04, 2.58358805e-05, 3.71736179e-04,\n",
       "                2.43468332e-04, 1.04611466e-04, 5.95704467e-04],            dtype=float64),\n",
       "   'uNOEs': DeviceArray([1.09651136e-05, 1.45197979e-05, 1.54514713e-05,\n",
       "                3.05907633e-06, 5.55351618e-06, 2.22653024e-06,\n",
       "                3.95521266e-06, 2.06653561e-05, 3.02475622e-05,\n",
       "                1.30473536e-05, 6.61229015e-06, 1.81296066e-06,\n",
       "                3.72115124e-07, 8.38038493e-06, 3.31288318e-07,\n",
       "                3.40071126e-07, 2.17777253e-05, 2.06595498e-06,\n",
       "                2.66693578e-06, 3.31959674e-06, 1.66255729e-06,\n",
       "                7.07888507e-07, 4.71466841e-07, 6.08961669e-07,\n",
       "                6.39114409e-06, 3.00127260e-06, 6.17069373e-06,\n",
       "                7.44246043e-07, 1.13908740e-04, 7.97692456e-06,\n",
       "                6.17529836e-05, 1.16217188e-05, 2.18096683e-05,\n",
       "                1.58940063e-05, 1.33198693e-05, 7.95010748e-06,\n",
       "                3.41703158e-06, 4.78579388e-06, 2.90071840e-06,\n",
       "                1.10426287e-04, 2.64698063e-04, 3.76501324e-06,\n",
       "                2.74350439e-06, 4.82303429e-06, 1.09640953e-04,\n",
       "                5.09023154e-05, 4.00260311e-06, 5.30390426e-05,\n",
       "                6.60798428e-06, 5.73373565e-06, 2.48746388e-05,\n",
       "                1.94878248e-05, 6.42276357e-06, 9.65915045e-06,\n",
       "                1.71111888e-05, 5.11968081e-05, 2.00159344e-05,\n",
       "                2.39032578e-06, 2.81675587e-06, 2.88288608e-06,\n",
       "                5.09481092e-06, 1.07028452e-04, 2.96725021e-05,\n",
       "                3.62244947e-06, 3.01341945e-05, 1.81963736e-06,\n",
       "                3.99210790e-06, 1.05128231e-05, 3.53400759e-05,\n",
       "                7.46386733e-06, 6.81016147e-06, 2.22888839e-05,\n",
       "                2.70222605e-05, 7.77252372e-06, 2.98727309e-05,\n",
       "                2.63403956e-05, 2.53205836e-05, 5.34503247e-06,\n",
       "                2.38795567e-06, 2.34333269e-05, 5.18824018e-05,\n",
       "                1.21802805e-05, 1.10980445e-05, 2.66787013e-05,\n",
       "                5.05544352e-05, 1.34651994e-05, 2.36796224e-05,\n",
       "                2.22426145e-05, 6.12811096e-06, 1.60993232e-05,\n",
       "                9.33210268e-06, 1.93263959e-05, 1.12458720e-05,\n",
       "                2.90342216e-05, 1.43574852e-05, 5.36998338e-06,\n",
       "                6.73405617e-06, 7.01253185e-06, 8.67819561e-06,\n",
       "                4.65851743e-06, 3.27148366e-05, 3.72346054e-05,\n",
       "                3.04359085e-06, 6.47092221e-06, 2.23073772e-05,\n",
       "                3.84851796e-05, 1.66263543e-05, 6.89122681e-05,\n",
       "                3.64842360e-05, 5.55331400e-06, 6.53093475e-06,\n",
       "                1.42988180e-04, 8.75651202e-05, 2.60780342e-05,\n",
       "                3.66346102e-05, 3.41284847e-05, 2.03598376e-05,\n",
       "                3.73091214e-05, 3.44289360e-06, 3.17131240e-06,\n",
       "                4.24822134e-06, 1.70543114e-05, 6.74318351e-06,\n",
       "                1.39305916e-05, 4.35748290e-05, 2.22493682e-05,\n",
       "                5.05772875e-05, 8.20458326e-06, 1.91334597e-05,\n",
       "                3.50392507e-06, 2.36628772e-05, 1.11297537e-04,\n",
       "                6.20278647e-06, 9.21194379e-06, 4.03582048e-06,\n",
       "                1.48942976e-06, 3.56083253e-05, 1.10103348e-04,\n",
       "                2.42704446e-05, 1.83995985e-05, 1.61508529e-06,\n",
       "                1.43030884e-05, 9.72661373e-06, 2.03149218e-05,\n",
       "                1.09227187e-05, 5.56902474e-06, 7.83913417e-06,\n",
       "                3.13178420e-06, 1.80238729e-05, 1.74120681e-05,\n",
       "                2.53340292e-06, 2.85676980e-05, 1.61373477e-06,\n",
       "                2.14832098e-06, 7.40061526e-06, 4.29410605e-06,\n",
       "                2.92527078e-06, 5.02986954e-06, 1.63800173e-05,\n",
       "                6.57465801e-06, 1.67740578e-06, 4.06454723e-06,\n",
       "                4.65264300e-06, 1.29217447e-05, 3.05907633e-06,\n",
       "                4.10223276e-06, 1.99667214e-06, 1.78447893e-05,\n",
       "                2.00581386e-05, 2.01267861e-06, 2.10433012e-06,\n",
       "                4.68784092e-06, 5.21123080e-05, 9.84074658e-06,\n",
       "                4.89845735e-06, 5.64392721e-06, 9.32354910e-06,\n",
       "                2.71161741e-05, 5.91554747e-06, 7.08429086e-06,\n",
       "                4.81980658e-06, 5.21002906e-05, 2.65729495e-05,\n",
       "                1.62842969e-05, 5.45018639e-05, 9.42454598e-06,\n",
       "                4.07679395e-06, 2.65805556e-05, 3.04111797e-06,\n",
       "                2.99904981e-06, 1.79746526e-05, 4.80620090e-06,\n",
       "                2.05534085e-05, 2.25392878e-06, 4.00995672e-06,\n",
       "                4.70703501e-06, 2.23363777e-05, 7.52161281e-05,\n",
       "                2.35642563e-04, 1.98014109e-06, 8.67562560e-06,\n",
       "                3.23129014e-05, 1.08496807e-05, 4.40310523e-06,\n",
       "                1.18388521e-05, 2.58358805e-05, 1.03226173e-04,\n",
       "                1.08893445e-04, 4.55462486e-05, 2.34188160e-05,\n",
       "                2.03702286e-05, 2.50438734e-05, 1.78460711e-05,\n",
       "                2.61738265e-05, 3.30155849e-06, 6.23610513e-06,\n",
       "                1.30473536e-05, 1.35918074e-05, 2.80322855e-05,\n",
       "                2.39686203e-05, 1.05817698e-05, 1.30063088e-05,\n",
       "                1.23129225e-05, 1.57358683e-05, 1.35284400e-06,\n",
       "                1.83521615e-06, 1.60016111e-06, 1.22183386e-06,\n",
       "                6.86599395e-06, 3.73026073e-06, 4.34344080e-06,\n",
       "                3.49048574e-06, 2.73555291e-05, 2.19564907e-06,\n",
       "                2.65474212e-06, 2.42288957e-05, 5.94363584e-06,\n",
       "                4.35088249e-06, 7.63726129e-06, 4.20262189e-05,\n",
       "                1.04161244e-04, 6.46787229e-05, 4.78329700e-05,\n",
       "                1.65973791e-05, 1.00576751e-05, 9.59764182e-06,\n",
       "                1.40421513e-06, 1.12409803e-06, 2.86867570e-06,\n",
       "                2.78121795e-06, 3.61707619e-06, 2.55584425e-05,\n",
       "                3.77791381e-06, 3.62049935e-05, 2.27261852e-05,\n",
       "                1.51795767e-05, 1.23263976e-05, 4.04097490e-05,\n",
       "                1.76082105e-05, 1.41660382e-05, 2.06778602e-05,\n",
       "                2.26842840e-05, 1.15212836e-05, 2.15404399e-06,\n",
       "                1.07199432e-04, 1.58875775e-06, 1.83517989e-06,\n",
       "                3.21596509e-06, 1.60044247e-06, 1.74405188e-06,\n",
       "                8.76532011e-05, 5.52286775e-06, 1.97956796e-06,\n",
       "                9.27980287e-06, 1.51770384e-05, 7.65548693e-06,\n",
       "                1.31940442e-05, 1.67444434e-05, 4.90071823e-06,\n",
       "                4.51588447e-05, 1.74966084e-05, 3.92319516e-05,\n",
       "                6.58057277e-05, 2.58190530e-04, 6.88783462e-07,\n",
       "                5.84602295e-06, 2.08764243e-05, 3.16877935e-05,\n",
       "                4.99055902e-05, 7.54540063e-05, 2.17073489e-04,\n",
       "                1.66330403e-04, 2.59047950e-04, 3.85330554e-04,\n",
       "                4.67347907e-05, 1.55713602e-05, 1.09286086e-04,\n",
       "                2.07143387e-05, 9.66841912e-05, 5.55881061e-05,\n",
       "                5.96433756e-05, 7.37582188e-05, 4.56813267e-06,\n",
       "                1.73832484e-05, 6.06773144e-04, 2.85256885e-05,\n",
       "                3.05078490e-06, 1.19577599e-06, 1.48854631e-04,\n",
       "                4.71001806e-05, 1.02093292e-04, 6.41922994e-05,\n",
       "                3.05212508e-05, 7.06094993e-05, 1.07205234e-04,\n",
       "                5.05145686e-06, 3.28900336e-06, 7.02493360e-07,\n",
       "                7.48736315e-05, 1.85413726e-05, 2.74267408e-05,\n",
       "                9.59239832e-05, 5.57728323e-05, 9.68144617e-06,\n",
       "                7.40310753e-05, 7.99474187e-06, 9.37303631e-05,\n",
       "                8.16416731e-05, 7.20495315e-05, 7.03693476e-05,\n",
       "                1.18936436e-04, 3.09575829e-05, 6.49245250e-05,\n",
       "                1.58304542e-04, 4.62962603e-06, 1.59054009e-06,\n",
       "                1.12803069e-05, 7.25602384e-06, 1.75595466e-06,\n",
       "                4.03214809e-05, 1.48041219e-04, 1.92004273e-05,\n",
       "                1.74804170e-05, 3.37410150e-06, 8.64739741e-06,\n",
       "                1.31939234e-05, 1.15056745e-05, 1.07493150e-05,\n",
       "                4.43259048e-05, 2.13602924e-05, 3.02854216e-05,\n",
       "                1.05769092e-04, 8.66544557e-05, 1.42819630e-05,\n",
       "                3.13241689e-06, 9.34619403e-05, 2.75382575e-04,\n",
       "                1.01856591e-04, 1.51894924e-05, 8.94460859e-05,\n",
       "                9.87714452e-05, 5.97365986e-05, 7.94360666e-06,\n",
       "                1.06811041e-04, 3.00994543e-04, 4.68369145e-05,\n",
       "                4.36859403e-05, 2.60197942e-05, 6.40021374e-05,\n",
       "                9.27685754e-05, 6.52788595e-06, 5.14158788e-06,\n",
       "                8.02709457e-05, 1.02886319e-04, 5.41470534e-05,\n",
       "                1.08409605e-05, 2.61802311e-06], dtype=float64)}},\n",
       " 'chi2': {'AAAA': {'backbone1_gamma_3J': DeviceArray(1.46882051, dtype=float64),\n",
       "   'backbone2_beta_epsilon_3J': DeviceArray(9.39673082, dtype=float64),\n",
       "   'sugar_3J': DeviceArray(9.52385565, dtype=float64),\n",
       "   'NOEs': DeviceArray(52.65164169, dtype=float64),\n",
       "   'uNOEs': DeviceArray(1.55103449, dtype=float64)},\n",
       "  'CAAU': {'backbone1_gamma_3J': DeviceArray(2.15408133, dtype=float64),\n",
       "   'backbone2_beta_epsilon_3J': DeviceArray(5.43594729, dtype=float64),\n",
       "   'sugar_3J': DeviceArray(7.52834418, dtype=float64),\n",
       "   'NOEs': DeviceArray(31.72082853, dtype=float64),\n",
       "   'uNOEs': DeviceArray(7.16405992, dtype=float64)}},\n",
       " 'logZ_new': {'AAAA': DeviceArray(-1.20198948, dtype=float64),\n",
       "  'CAAU': DeviceArray(-2.0074865, dtype=float64)},\n",
       " 'weights_new': {'AAAA': DeviceArray([0.00157806, 0.00187064, 0.0017381 , ..., 0.00178609,\n",
       "               0.00034576, 0.00080342], dtype=float64),\n",
       "  'CAAU': DeviceArray([3.33631917e-03, 4.46753920e-03, 5.03657939e-03, ...,\n",
       "               4.66347410e-05, 4.27922479e-05, 7.70937867e-06],            dtype=float64)},\n",
       " 'optimal_hyperpars': {'alpha': 138.06808223158413},\n",
       " 'hyper_minimization':           fun: DeviceArray(728.9507908, dtype=float64)\n",
       "      hess_inv: <1x1 LbfgsInvHessProduct with dtype=float64>\n",
       "  intermediate: <MDRefine.hyperminimizer.hyper_minimizer.<locals>.hyper_intermediate_class object at 0x7fe63c1739e8>\n",
       "           jac: array([5.69082552])\n",
       "       message: b'CONVERGENCE: REL_REDUCTION_OF_F_<=_FACTR*EPSMCH'\n",
       "          nfev: 9\n",
       "           nit: 8\n",
       "          njev: 9\n",
       "        status: 0\n",
       "       success: True\n",
       "             x: array([2.14009329])}"
      ]
     },
     "execution_count": 1,
     "metadata": {},
     "output_type": "execute_result"
    }
   ],
   "source": [
    "vars(Result)"
   ]
  },
  {
   "cell_type": "markdown",
   "metadata": {},
   "source": [
    "Here, you can look at the values contained in `Result` as previously done in Section b."
   ]
  }
 ],
 "metadata": {
  "kernelspec": {
   "display_name": "Python 3.6.8 64-bit",
   "language": "python",
   "name": "python3"
  },
  "language_info": {
   "codemirror_mode": {
    "name": "ipython",
    "version": 3
   },
   "file_extension": ".py",
   "mimetype": "text/x-python",
   "name": "python",
   "nbconvert_exporter": "python",
   "pygments_lexer": "ipython3",
   "version": "3.6.8"
  },
  "vscode": {
   "interpreter": {
    "hash": "916dbcbb3f70747c44a77c7bcd40155683ae19c65e1c03b4aa3499c5328201f1"
   }
  }
 },
 "nbformat": 4,
 "nbformat_minor": 2
}
