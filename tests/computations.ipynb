{
 "cells": [
  {
   "cell_type": "markdown",
   "metadata": {},
   "source": [
    "# Computations\n",
    "to get correct values to compare with pytest assert"
   ]
  },
  {
   "cell_type": "code",
   "execution_count": 1,
   "metadata": {},
   "outputs": [],
   "source": [
    "import numpy as np\n",
    "import jax.numpy as jnp\n",
    "import os\n",
    "import pickle"
   ]
  },
  {
   "cell_type": "code",
   "execution_count": 2,
   "metadata": {},
   "outputs": [],
   "source": [
    "import sys\n",
    "sys.path.append('../')  # since MDRefine is in a different folder"
   ]
  },
  {
   "cell_type": "code",
   "execution_count": 3,
   "metadata": {},
   "outputs": [],
   "source": [
    "from MDRefine import load_data"
   ]
  },
  {
   "cell_type": "markdown",
   "metadata": {},
   "source": [
    "## test for data_loading"
   ]
  },
  {
   "cell_type": "markdown",
   "metadata": {},
   "source": [
    "### copy data and reduce them (less frames and observables)\n",
    "\n",
    "just to test"
   ]
  },
  {
   "cell_type": "raw",
   "metadata": {},
   "source": [
    "!rm DATA_test/CAAU/pdb_structure.pdb\n",
    "!rm DATA_test/CAAU/ff_terms\n",
    "!rm DATA_test/CAAU/ff_terms_chi\n",
    "!rm DATA_test/CAAU/replica_temp"
   ]
  },
  {
   "cell_type": "raw",
   "metadata": {},
   "source": [
    "!rm DATA_test/fm_coeffs_Thorben_ref"
   ]
  },
  {
   "cell_type": "raw",
   "metadata": {},
   "source": [
    "for s in ['CAAU']:  # 'AAAA', 'CAAU']:\n",
    "    for s2 in ['forward_qs']:\n",
    "        path = 'DATA_test/%s/%s/' % (s, s2)\n",
    "        file_names = os.listdir('DATA_test/' + s + '/' + s2 + '/')\n",
    "        for s3 in file_names:\n",
    "            vec = np.load(path + s3)[::10000, :2]\n",
    "            np.save(path + s3, vec)\n",
    "\n",
    "    for s2 in ['g_exp', 'names']:\n",
    "        path = 'DATA_test/%s/%s/' % (s, s2)\n",
    "        file_names = os.listdir('DATA_test/' + s + '/' + s2 + '/')\n",
    "        for s3 in file_names:\n",
    "            vec = np.load(path + s3)[:2]\n",
    "            np.save(path + s3, vec)\n",
    "\n",
    "    for s2 in ['g']:\n",
    "        path = 'DATA_test/%s/observables/' % s\n",
    "        file_names = ['NOEs', 'uNOEs']\n",
    "        for s3 in file_names:\n",
    "            vec = np.load(path + s3 + '.npy')[::10000, :2]\n",
    "            np.save(path + s3, vec)\n",
    "\n",
    "    vec = np.load('DATA_test/%s/ff_terms.npy' % s)[::10000]\n",
    "    np.save('DATA_test/%s/ff_terms.npy' % s, vec)\n",
    "\n",
    "    vec = np.load('DATA_test/%s/replica_temp.npy' % s)[::10000]\n",
    "    np.save('DATA_test/%s/replica_temp.npy' % s, vec)\n",
    "\n"
   ]
  },
  {
   "cell_type": "raw",
   "metadata": {},
   "source": [
    "for s in ['A1_AD', 'A1_MD', 'A1_AS', 'A1_MS']:\n",
    "    vec = np.load('DATA_test/%s/weights.npy' % s)[::1000]\n",
    "    np.save('DATA_test/%s/weights.npy' % s, vec)\n",
    "\n",
    "for s in ['A1_MD', 'A1_MS']:\n",
    "    vec = np.load('DATA_test/%s/ff_terms.npy' % s)[::1000]\n",
    "    np.save('DATA_test/%s/ff_terms.npy' % s, vec)"
   ]
  },
  {
   "cell_type": "markdown",
   "metadata": {},
   "source": [
    "#### load data and save as pickle"
   ]
  },
  {
   "cell_type": "code",
   "execution_count": 4,
   "metadata": {},
   "outputs": [],
   "source": [
    "from MDRefine import load_data"
   ]
  },
  {
   "cell_type": "code",
   "execution_count": 5,
   "metadata": {},
   "outputs": [
    {
     "name": "stderr",
     "output_type": "stream",
     "text": [
      "WARNING:absl:No GPU/TPU found, falling back to CPU. (Set TF_CPP_MIN_LOG_LEVEL=0 and rerun for more info.)\n"
     ]
    },
    {
     "name": "stdout",
     "output_type": "stream",
     "text": [
      "loading data from directory...\n",
      "loading  AAAA\n",
      "loading  CAAU\n",
      "done\n"
     ]
    }
   ],
   "source": [
    "infos = {}\n",
    "infos['global'] = {'path_directory': 'DATA_test', 'system_names': ['AAAA', 'CAAU']}\n",
    "\n",
    "for name in infos['global']['system_names']:\n",
    "    infos[name] = {}\n",
    "    infos[name]['g_exp'] = ['NOEs', ('uNOEs','<')]\n",
    "    infos[name]['obs'] = ['NOEs', 'uNOEs']\n",
    "\n",
    "infos['global']['temperature'] = 1 # namely, energies are in unit of k_B T (default value)\n",
    "\n",
    "data = load_data(infos, stride=2)\n"
   ]
  },
  {
   "cell_type": "code",
   "execution_count": 6,
   "metadata": {},
   "outputs": [],
   "source": [
    "with open('DATA_test/data_stride2.pkl', 'wb') as f:\n",
    "    pickle.dump(vars(data), f)"
   ]
  },
  {
   "cell_type": "markdown",
   "metadata": {},
   "source": [
    "### test load_data\n",
    "\n",
    "compare output of load_data with the pre-loaded data object, which is stored as pickle"
   ]
  },
  {
   "cell_type": "code",
   "execution_count": 3,
   "metadata": {},
   "outputs": [],
   "source": [
    "from MDRefine import load_data"
   ]
  },
  {
   "cell_type": "code",
   "execution_count": 4,
   "metadata": {},
   "outputs": [],
   "source": [
    "infos = {}\n",
    "\n",
    "# Firstly, define global properties, valid for all the systems:\n",
    "\n",
    "infos['global'] = {'path_directory': 'DATA_test', 'system_names': ['AAAA', 'CAAU']}\n",
    "\n",
    "# Then, define properties which are specific of each system, like experimental data and observables\n",
    "\n",
    "for name in infos['global']['system_names']:\n",
    "    infos[name] = {}\n",
    "    \n",
    "    # experimental observables (average and uncertainty), corresponding to 'file_name'.npy in DATA/system_name/g_exp/\n",
    "    # uNOEs values are upper bounds, so specify '<' with ('uNOEs','<')\n",
    "    infos[name]['g_exp'] = ['NOEs', ('uNOEs','<')]\n",
    "    \n",
    "    # observables from MD simulations, corresponding to 'file_name'.npy in DATA/system_name/observables/\n",
    "    # they must correspond also to items of infos[name]['g_exp']\n",
    "    infos[name]['obs'] = ['NOEs', 'uNOEs']\n",
    "\n",
    "# If some properties are the same for all the systems, you can store them just once in infos['global']\n",
    "\n",
    "infos['global']['temperature'] = 1 # namely, energies are in unit of k_B T (default value)\n",
    "# (in this case, you could do this also for 'g_exp' and 'obs')"
   ]
  },
  {
   "cell_type": "code",
   "execution_count": 5,
   "metadata": {},
   "outputs": [
    {
     "name": "stderr",
     "output_type": "stream",
     "text": [
      "WARNING:absl:No GPU/TPU found, falling back to CPU. (Set TF_CPP_MIN_LOG_LEVEL=0 and rerun for more info.)\n"
     ]
    },
    {
     "name": "stdout",
     "output_type": "stream",
     "text": [
      "loading data from directory...\n",
      "loading  AAAA\n",
      "loading  CAAU\n",
      "done\n"
     ]
    }
   ],
   "source": [
    "data = load_data(infos)"
   ]
  },
  {
   "cell_type": "code",
   "execution_count": 6,
   "metadata": {},
   "outputs": [
    {
     "data": {
      "text/plain": [
       "{'temperature': 1,\n",
       " 'gexp': {'NOEs': array([[7.74312661e-04, 4.56174227e-04],\n",
       "         [8.17622013e-05, 7.09253186e-05]]),\n",
       "  'uNOEs': array([[1.58193730e-04, 2.39877632e-05],\n",
       "         [7.22476158e-05, 9.51458553e-06]])},\n",
       " 'names': {'NOEs': array([[\"A1-H1'\", 'A1-H8'],\n",
       "         [\"A1-H1'\", 'A2-H8']], dtype='<U7'),\n",
       "  'uNOEs': array([[\"A1-H1'\", \"A2-H4'\"],\n",
       "         [\"A1-H1'\", \"A3-H1'\"]], dtype='<U7')},\n",
       " 'ref': {'NOEs': '=', 'uNOEs': '<'},\n",
       " 'g': {'NOEs': memmap([[3.78438242e-04, 6.64434046e-05],\n",
       "          [8.24084855e-04, 5.37090818e-05],\n",
       "          [4.24279075e-04, 8.45648974e-05],\n",
       "          [5.57313382e-04, 6.57341152e-05],\n",
       "          [3.65299667e-04, 3.69220197e-06],\n",
       "          [2.89047486e-03, 1.00485659e-05],\n",
       "          [4.10240405e-04, 8.74714679e-05],\n",
       "          [3.12228408e-03, 1.53735527e-05],\n",
       "          [4.78437869e-03, 1.16904630e-05],\n",
       "          [2.48920987e-04, 1.28376223e-06],\n",
       "          [2.85325595e-03, 1.08458007e-05],\n",
       "          [7.43237499e-04, 2.90249372e-05],\n",
       "          [2.33285697e-04, 8.33210288e-05],\n",
       "          [2.73841806e-03, 2.61733912e-05],\n",
       "          [2.84928305e-04, 3.56526252e-05],\n",
       "          [3.84235731e-03, 7.05284356e-06],\n",
       "          [4.18393919e-03, 1.12825473e-05],\n",
       "          [3.08533956e-04, 1.89376922e-04],\n",
       "          [4.29437321e-04, 7.07995641e-05],\n",
       "          [3.73830041e-03, 9.66604966e-06],\n",
       "          [2.35516788e-03, 7.87666431e-06],\n",
       "          [3.77996534e-04, 9.22315303e-06],\n",
       "          [4.05285833e-03, 1.90017236e-05],\n",
       "          [5.74422162e-03, 1.83358970e-05],\n",
       "          [4.20605298e-03, 6.44325155e-07],\n",
       "          [5.43911883e-04, 7.44017088e-05],\n",
       "          [4.44921956e-04, 6.28719499e-05],\n",
       "          [2.76406296e-04, 5.87344402e-06],\n",
       "          [3.04537709e-03, 6.05218884e-05],\n",
       "          [6.98029762e-03, 5.70094755e-07],\n",
       "          [2.36349850e-04, 1.70316453e-05],\n",
       "          [3.62183666e-04, 2.90367170e-05],\n",
       "          [2.97728740e-03, 6.97118185e-06],\n",
       "          [2.80710810e-04, 2.86177601e-06],\n",
       "          [3.93309048e-04, 1.14651164e-04],\n",
       "          [4.63821134e-03, 5.35958407e-06],\n",
       "          [4.13034111e-04, 2.93270059e-05],\n",
       "          [2.37463973e-03, 1.02996055e-05],\n",
       "          [3.01002664e-03, 4.61789605e-05],\n",
       "          [3.32826894e-04, 7.41412805e-05],\n",
       "          [3.73271236e-04, 1.03476132e-05],\n",
       "          [2.70061917e-03, 1.33305468e-04],\n",
       "          [3.52150667e-03, 3.39531252e-05],\n",
       "          [5.86984388e-04, 1.17899588e-04],\n",
       "          [2.83291651e-04, 1.43707512e-05],\n",
       "          [2.89784744e-04, 4.80403560e-06],\n",
       "          [5.65453898e-04, 8.84312904e-05],\n",
       "          [4.63791570e-04, 7.01879762e-05],\n",
       "          [3.21979844e-03, 1.94245622e-05],\n",
       "          [5.44764916e-04, 7.13658810e-05],\n",
       "          [1.59964873e-03, 1.12502603e-05],\n",
       "          [3.95019073e-04, 5.41581103e-05],\n",
       "          [3.01924476e-04, 9.82731290e-05],\n",
       "          [2.85756221e-04, 5.19040477e-05],\n",
       "          [4.41275362e-04, 7.51142725e-05],\n",
       "          [3.57941084e-04, 1.65419624e-05],\n",
       "          [2.88985996e-03, 2.30764854e-05],\n",
       "          [2.43784001e-04, 7.89919068e-06],\n",
       "          [4.85029258e-03, 1.95938737e-05],\n",
       "          [3.72143608e-04, 4.76435307e-05],\n",
       "          [2.95462494e-04, 1.60836644e-05],\n",
       "          [4.58226586e-03, 3.25684414e-05],\n",
       "          [5.22059447e-04, 3.17505692e-05],\n",
       "          [6.52242801e-04, 5.41051850e-05],\n",
       "          [3.13642202e-04, 7.15642773e-06],\n",
       "          [3.22837662e-03, 1.97172594e-05],\n",
       "          [2.52001034e-03, 1.18290118e-05],\n",
       "          [3.32778669e-04, 1.36828976e-05],\n",
       "          [3.54118994e-04, 5.20111280e-05],\n",
       "          [2.49241217e-04, 9.03530054e-06],\n",
       "          [4.31445835e-04, 6.64952240e-05],\n",
       "          [7.44367135e-04, 6.30985014e-05],\n",
       "          [3.84145021e-03, 2.38229968e-05],\n",
       "          [6.94210990e-04, 1.25372157e-04],\n",
       "          [2.57631124e-04, 6.88496721e-06],\n",
       "          [6.36812183e-04, 7.64719443e-05],\n",
       "          [4.24272148e-03, 2.65362396e-05],\n",
       "          [2.19093752e-03, 5.66578547e-06],\n",
       "          [3.66264780e-04, 5.47278578e-05],\n",
       "          [2.62128655e-04, 6.88756791e-06],\n",
       "          [4.08272375e-04, 5.46688534e-06],\n",
       "          [4.32619313e-03, 1.10602814e-05],\n",
       "          [4.42280294e-03, 2.99490671e-06],\n",
       "          [2.73185113e-04, 4.56534281e-06],\n",
       "          [3.84907727e-03, 5.15432330e-04],\n",
       "          [2.92575685e-04, 8.48773834e-06],\n",
       "          [3.17430915e-03, 2.33985102e-05],\n",
       "          [2.83824559e-03, 2.22624454e-04],\n",
       "          [4.50013299e-03, 9.88288739e-05],\n",
       "          [3.01227934e-04, 2.65825838e-05],\n",
       "          [6.48192316e-03, 8.35321844e-05],\n",
       "          [3.06397647e-04, 1.70964995e-05],\n",
       "          [4.92761144e-04, 5.04037598e-05],\n",
       "          [2.78430321e-04, 3.25901988e-06],\n",
       "          [6.98708091e-03, 2.27556629e-05],\n",
       "          [5.46221761e-03, 2.59693206e-05],\n",
       "          [4.78026411e-03, 2.73889273e-05],\n",
       "          [3.27866903e-04, 7.14188673e-06],\n",
       "          [3.10181570e-03, 7.24334404e-06],\n",
       "          [3.32339038e-03, 1.31322267e-05],\n",
       "          [3.55058652e-03, 6.63466562e-05],\n",
       "          [4.19835001e-03, 2.45639785e-06]], dtype=float32),\n",
       "  'uNOEs': memmap([[2.78761272e-05, 8.57926921e-07],\n",
       "          [1.05725903e-05, 4.45161533e-07],\n",
       "          [1.38456917e-05, 5.72764122e-07],\n",
       "          [1.26527320e-05, 4.08776032e-07],\n",
       "          [2.09710583e-06, 2.92790537e-06],\n",
       "          [4.40691383e-06, 1.36062158e-06],\n",
       "          [1.66953814e-05, 5.29573526e-07],\n",
       "          [1.70877956e-05, 4.63444707e-07],\n",
       "          [9.50593494e-06, 2.14059401e-06],\n",
       "          [3.61906950e-06, 6.17318904e-07],\n",
       "          [9.29797989e-06, 1.26919508e-06],\n",
       "          [8.19996421e-06, 4.02410933e-07],\n",
       "          [3.81615473e-06, 5.33246350e-07],\n",
       "          [1.38668456e-05, 6.00645478e-07],\n",
       "          [2.04194021e-06, 1.39635722e-06],\n",
       "          [1.15841840e-05, 1.74904514e-07],\n",
       "          [1.14059585e-05, 4.22895113e-07],\n",
       "          [1.06493553e-05, 5.05904154e-07],\n",
       "          [1.30552235e-05, 5.19292257e-07],\n",
       "          [9.62139620e-06, 2.39210351e-07],\n",
       "          [8.23258088e-05, 5.01323084e-05],\n",
       "          [8.21114008e-06, 2.40762034e-07],\n",
       "          [1.00530560e-05, 8.02821489e-07],\n",
       "          [9.89970613e-06, 7.59069621e-07],\n",
       "          [5.90185346e-06, 6.68233326e-07],\n",
       "          [1.73069293e-05, 5.03775539e-07],\n",
       "          [9.97695679e-06, 4.05195976e-07],\n",
       "          [2.17691741e-06, 2.89767422e-06],\n",
       "          [1.57533977e-05, 1.51009021e-06],\n",
       "          [8.13159386e-06, 2.03532509e-05],\n",
       "          [1.18889475e-05, 5.33518175e-07],\n",
       "          [9.83065274e-06, 5.14033161e-07],\n",
       "          [4.31554963e-06, 4.99784051e-07],\n",
       "          [4.70127361e-06, 3.46477418e-06],\n",
       "          [1.28779957e-05, 7.88989325e-07],\n",
       "          [8.57786017e-06, 3.47313630e-07],\n",
       "          [1.17213176e-05, 6.50062475e-07],\n",
       "          [1.47104965e-05, 3.53457864e-07],\n",
       "          [1.94453223e-05, 1.93085157e-07],\n",
       "          [1.87118549e-05, 7.97735822e-07],\n",
       "          [2.55835539e-06, 3.16216392e-06],\n",
       "          [1.35964838e-05, 3.25413055e-07],\n",
       "          [1.89865004e-05, 3.72269938e-07],\n",
       "          [8.04873525e-06, 5.61447564e-07],\n",
       "          [2.46315267e-05, 7.18640081e-07],\n",
       "          [2.01024682e-06, 2.97970200e-06],\n",
       "          [1.38560636e-05, 3.56807476e-07],\n",
       "          [1.55566468e-05, 6.15103886e-07],\n",
       "          [8.13759016e-06, 3.39635790e-07],\n",
       "          [1.91489435e-05, 4.72385096e-07],\n",
       "          [9.70959354e-06, 3.21686031e-07],\n",
       "          [1.98436719e-05, 3.98953745e-07],\n",
       "          [2.20321490e-05, 7.23321705e-07],\n",
       "          [1.22023775e-05, 5.31351930e-07],\n",
       "          [7.41216945e-06, 5.19382297e-07],\n",
       "          [1.19674296e-05, 1.09583789e-06],\n",
       "          [1.29835244e-05, 4.41198068e-07],\n",
       "          [1.40144275e-05, 4.06478563e-07],\n",
       "          [1.40169432e-05, 6.66240396e-07],\n",
       "          [8.59812371e-06, 6.41483041e-07],\n",
       "          [1.27402491e-05, 8.40277380e-07],\n",
       "          [1.43176558e-05, 5.60094122e-07],\n",
       "          [1.25235165e-05, 3.70537862e-07],\n",
       "          [1.82573312e-05, 4.78631307e-07],\n",
       "          [1.89959235e-06, 2.39198266e-06],\n",
       "          [1.48343624e-05, 3.38530924e-07],\n",
       "          [7.42702787e-06, 2.24044584e-07],\n",
       "          [1.47583569e-05, 4.59263561e-07],\n",
       "          [1.97406953e-05, 6.31046646e-07],\n",
       "          [2.54780230e-06, 3.15469924e-06],\n",
       "          [2.22418021e-05, 7.75292847e-07],\n",
       "          [5.98453198e-06, 5.19119396e-07],\n",
       "          [1.64564026e-05, 4.76136506e-07],\n",
       "          [1.02114918e-05, 5.54829171e-07],\n",
       "          [4.06295294e-06, 2.81428402e-06],\n",
       "          [9.37165350e-06, 5.32861009e-07],\n",
       "          [1.54218160e-05, 9.22775598e-08],\n",
       "          [8.04678348e-06, 2.15703352e-07],\n",
       "          [1.39454214e-05, 2.52938491e-07],\n",
       "          [2.40463828e-06, 2.30831779e-06],\n",
       "          [3.51496192e-06, 2.35010020e-06],\n",
       "          [3.52100210e-06, 2.56682284e-07],\n",
       "          [7.73830561e-06, 6.85360646e-05],\n",
       "          [3.13470082e-06, 1.40424061e-06],\n",
       "          [1.32197310e-05, 3.43562802e-04],\n",
       "          [9.20530510e-06, 1.44418095e-07],\n",
       "          [1.81089240e-06, 3.78714390e-07],\n",
       "          [1.29074015e-05, 3.71665192e-06],\n",
       "          [5.23142080e-06, 6.94138578e-07],\n",
       "          [3.50511755e-06, 9.56167605e-06],\n",
       "          [1.49674379e-05, 4.01096770e-07],\n",
       "          [2.51122856e-06, 4.25880899e-06],\n",
       "          [2.09126374e-05, 5.39134646e-07],\n",
       "          [6.23253072e-06, 8.00219459e-06],\n",
       "          [1.49078405e-05, 3.60301101e-07],\n",
       "          [1.78624869e-05, 3.80393459e-07],\n",
       "          [5.68103133e-06, 2.13728981e-07],\n",
       "          [2.43428258e-06, 2.21899904e-06],\n",
       "          [1.18594224e-04, 4.00969657e-06],\n",
       "          [1.42109357e-05, 3.00800423e-07],\n",
       "          [1.08772692e-05, 2.60828472e-07],\n",
       "          [7.89893602e-05, 6.66212100e-06]], dtype=float32)},\n",
       " 'weights': DeviceArray([0.00980392, 0.00980392, 0.00980392, 0.00980392, 0.00980392,\n",
       "              0.00980392, 0.00980392, 0.00980392, 0.00980392, 0.00980392,\n",
       "              0.00980392, 0.00980392, 0.00980392, 0.00980392, 0.00980392,\n",
       "              0.00980392, 0.00980392, 0.00980392, 0.00980392, 0.00980392,\n",
       "              0.00980392, 0.00980392, 0.00980392, 0.00980392, 0.00980392,\n",
       "              0.00980392, 0.00980392, 0.00980392, 0.00980392, 0.00980392,\n",
       "              0.00980392, 0.00980392, 0.00980392, 0.00980392, 0.00980392,\n",
       "              0.00980392, 0.00980392, 0.00980392, 0.00980392, 0.00980392,\n",
       "              0.00980392, 0.00980392, 0.00980392, 0.00980392, 0.00980392,\n",
       "              0.00980392, 0.00980392, 0.00980392, 0.00980392, 0.00980392,\n",
       "              0.00980392, 0.00980392, 0.00980392, 0.00980392, 0.00980392,\n",
       "              0.00980392, 0.00980392, 0.00980392, 0.00980392, 0.00980392,\n",
       "              0.00980392, 0.00980392, 0.00980392, 0.00980392, 0.00980392,\n",
       "              0.00980392, 0.00980392, 0.00980392, 0.00980392, 0.00980392,\n",
       "              0.00980392, 0.00980392, 0.00980392, 0.00980392, 0.00980392,\n",
       "              0.00980392, 0.00980392, 0.00980392, 0.00980392, 0.00980392,\n",
       "              0.00980392, 0.00980392, 0.00980392, 0.00980392, 0.00980392,\n",
       "              0.00980392, 0.00980392, 0.00980392, 0.00980392, 0.00980392,\n",
       "              0.00980392, 0.00980392, 0.00980392, 0.00980392, 0.00980392,\n",
       "              0.00980392, 0.00980392, 0.00980392, 0.00980392, 0.00980392,\n",
       "              0.00980392, 0.00980392], dtype=float64),\n",
       " 'n_experiments': {'NOEs': 2, 'uNOEs': 2},\n",
       " 'n_frames': 102}"
      ]
     },
     "execution_count": 6,
     "metadata": {},
     "output_type": "execute_result"
    }
   ],
   "source": [
    "vars(data.mol['AAAA'])"
   ]
  },
  {
   "cell_type": "code",
   "execution_count": 31,
   "metadata": {},
   "outputs": [],
   "source": [
    "with open('DATA_test/data_stride2.pkl', 'rb') as f:\n",
    "    loaded_data = pickle.load(f)"
   ]
  },
  {
   "cell_type": "code",
   "execution_count": 32,
   "metadata": {},
   "outputs": [
    {
     "data": {
      "text/plain": [
       "{'properties': <MDRefine.data_loading.datapropertiesclass at 0x7f6aa861d198>,\n",
       " 'mol': {'AAAA': <MDRefine.data_loading.data_class at 0x7f6aa8604080>,\n",
       "  'CAAU': <MDRefine.data_loading.data_class at 0x7f6aa8619a90>}}"
      ]
     },
     "execution_count": 32,
     "metadata": {},
     "output_type": "execute_result"
    }
   ],
   "source": [
    "loaded_data"
   ]
  },
  {
   "cell_type": "code",
   "execution_count": 8,
   "metadata": {},
   "outputs": [],
   "source": [
    "for s in infos['global']['system_names']:\n",
    "    my_dict1 = vars(data.mol[s])\n",
    "    my_dict2 = vars(loaded_data['sys'][s])\n",
    "    \n",
    "    for k in my_dict1.keys():\n",
    "        if k in ['gexp', 'names', 'g']:\n",
    "            for k2 in data.mol[s].gexp.keys():\n",
    "                # self.assertTrue((my_dict1[k][k2] == my_dict2[k][k2]).all())\n",
    "                assert np.array_equal(my_dict1[k][k2], my_dict2[k][k2])"
   ]
  },
  {
   "cell_type": "code",
   "execution_count": 15,
   "metadata": {},
   "outputs": [],
   "source": [
    "for k2 in my_dict1['names'].keys():\n",
    "\n",
    "    my_array1 = my_dict1['names'][k2]\n",
    "    my_array2 = my_dict2['names'][k2]\n",
    "\n",
    "    x1, y1 = np.shape(my_array1)\n",
    "    x2, y2 = np.shape(my_array2)\n",
    "\n",
    "    assert x1 == x2\n",
    "    assert y1 == y2\n",
    "\n",
    "    for ix in range(x1):\n",
    "        for iy in range(y1):\n",
    "            assert my_array1[ix][iy] == my_array2[ix][iy]"
   ]
  },
  {
   "cell_type": "code",
   "execution_count": 12,
   "metadata": {},
   "outputs": [
    {
     "data": {
      "text/plain": [
       "{\"C1-H1'\": \"A2-H3'\"}"
      ]
     },
     "execution_count": 12,
     "metadata": {},
     "output_type": "execute_result"
    }
   ],
   "source": [
    "dict(my_dict1['names']['uNOEs'])"
   ]
  },
  {
   "cell_type": "code",
   "execution_count": 55,
   "metadata": {},
   "outputs": [
    {
     "data": {
      "text/plain": [
       "dict_keys(['system_names'])"
      ]
     },
     "execution_count": 55,
     "metadata": {},
     "output_type": "execute_result"
    }
   ],
   "source": [
    "vars(data.properties).keys()"
   ]
  },
  {
   "cell_type": "code",
   "execution_count": 66,
   "metadata": {},
   "outputs": [
    {
     "data": {
      "text/plain": [
       "{'system_names': ['AAAA', 'CAAU']}"
      ]
     },
     "execution_count": 66,
     "metadata": {},
     "output_type": "execute_result"
    }
   ],
   "source": [
    "vars(loaded_data['properties'])"
   ]
  },
  {
   "cell_type": "code",
   "execution_count": 67,
   "metadata": {},
   "outputs": [
    {
     "data": {
      "text/plain": [
       "['__class__',\n",
       " '__delattr__',\n",
       " '__dict__',\n",
       " '__dir__',\n",
       " '__doc__',\n",
       " '__eq__',\n",
       " '__format__',\n",
       " '__ge__',\n",
       " '__getattribute__',\n",
       " '__gt__',\n",
       " '__hash__',\n",
       " '__init__',\n",
       " '__init_subclass__',\n",
       " '__le__',\n",
       " '__lt__',\n",
       " '__module__',\n",
       " '__ne__',\n",
       " '__new__',\n",
       " '__reduce__',\n",
       " '__reduce_ex__',\n",
       " '__repr__',\n",
       " '__setattr__',\n",
       " '__sizeof__',\n",
       " '__str__',\n",
       " '__subclasshook__',\n",
       " '__weakref__',\n",
       " 'system_names',\n",
       " 'tot_n_experiments']"
      ]
     },
     "execution_count": 67,
     "metadata": {},
     "output_type": "execute_result"
    }
   ],
   "source": [
    "dir(loaded_data['properties'])"
   ]
  },
  {
   "cell_type": "code",
   "execution_count": 70,
   "metadata": {},
   "outputs": [
    {
     "data": {
      "text/plain": [
       "['AAAA', 'CAAU']"
      ]
     },
     "execution_count": 70,
     "metadata": {},
     "output_type": "execute_result"
    }
   ],
   "source": [
    "data.properties.system_names"
   ]
  },
  {
   "cell_type": "code",
   "execution_count": 7,
   "metadata": {},
   "outputs": [
    {
     "data": {
      "text/plain": [
       "8"
      ]
     },
     "execution_count": 7,
     "metadata": {},
     "output_type": "execute_result"
    }
   ],
   "source": [
    "data.properties.tot_n_experiments(data)"
   ]
  },
  {
   "cell_type": "code",
   "execution_count": 9,
   "metadata": {},
   "outputs": [],
   "source": [
    "class my_data():\n",
    "    def __init__(self):\n",
    "        self.sys = {}\n",
    "\n",
    "my_loaded_data = my_data()\n",
    "my_loaded_data.mol['AAAA'] = loaded_data['sys']['AAAA']\n",
    "my_loaded_data.mol['CAAU'] = loaded_data['sys']['CAAU']\n"
   ]
  },
  {
   "cell_type": "code",
   "execution_count": 10,
   "metadata": {},
   "outputs": [
    {
     "data": {
      "text/plain": [
       "8"
      ]
     },
     "execution_count": 10,
     "metadata": {},
     "output_type": "execute_result"
    }
   ],
   "source": [
    "loaded_data['properties'].tot_n_experiments(my_loaded_data)"
   ]
  },
  {
   "cell_type": "code",
   "execution_count": 74,
   "metadata": {},
   "outputs": [
    {
     "ename": "AttributeError",
     "evalue": "'dict' object has no attribute 'sys'",
     "output_type": "error",
     "traceback": [
      "\u001b[0;31m---------------------------------------------------------------------------\u001b[0m",
      "\u001b[0;31mAttributeError\u001b[0m                            Traceback (most recent call last)",
      "\u001b[0;32m<ipython-input-74-bd9e7b6240c3>\u001b[0m in \u001b[0;36m<module>\u001b[0;34m\u001b[0m\n\u001b[1;32m      3\u001b[0m \u001b[0;34m\u001b[0m\u001b[0m\n\u001b[1;32m      4\u001b[0m \u001b[0;32massert\u001b[0m \u001b[0mdata\u001b[0m\u001b[0;34m.\u001b[0m\u001b[0m_global_\u001b[0m\u001b[0;34m.\u001b[0m\u001b[0msystem_names\u001b[0m \u001b[0;34m==\u001b[0m \u001b[0mloaded_data\u001b[0m\u001b[0;34m[\u001b[0m\u001b[0;34m'_global_'\u001b[0m\u001b[0;34m]\u001b[0m\u001b[0;34m.\u001b[0m\u001b[0msystem_names\u001b[0m\u001b[0;34m\u001b[0m\u001b[0;34m\u001b[0m\u001b[0m\n\u001b[0;32m----> 5\u001b[0;31m \u001b[0;32massert\u001b[0m \u001b[0mdata\u001b[0m\u001b[0;34m.\u001b[0m\u001b[0m_global_\u001b[0m\u001b[0;34m.\u001b[0m\u001b[0mtot_n_experiments\u001b[0m\u001b[0;34m(\u001b[0m\u001b[0mdata\u001b[0m\u001b[0;34m)\u001b[0m \u001b[0;34m==\u001b[0m \u001b[0mloaded_data\u001b[0m\u001b[0;34m[\u001b[0m\u001b[0;34m'_global_'\u001b[0m\u001b[0;34m]\u001b[0m\u001b[0;34m.\u001b[0m\u001b[0mtot_n_experiments\u001b[0m\u001b[0;34m(\u001b[0m\u001b[0mloaded_data\u001b[0m\u001b[0;34m)\u001b[0m\u001b[0;34m\u001b[0m\u001b[0;34m\u001b[0m\u001b[0m\n\u001b[0m",
      "\u001b[0;32m~/3_alphabetagamma/MDRefine/MDRefine/data_loading.py\u001b[0m in \u001b[0;36mtot_n_experiments\u001b[0;34m(self, data)\u001b[0m\n\u001b[1;32m    215\u001b[0m \u001b[0;34m\u001b[0m\u001b[0m\n\u001b[1;32m    216\u001b[0m         \u001b[0;32mfor\u001b[0m \u001b[0mk\u001b[0m \u001b[0;32min\u001b[0m \u001b[0mself\u001b[0m\u001b[0;34m.\u001b[0m\u001b[0msystem_names\u001b[0m\u001b[0;34m:\u001b[0m\u001b[0;34m\u001b[0m\u001b[0;34m\u001b[0m\u001b[0m\n\u001b[0;32m--> 217\u001b[0;31m             \u001b[0;32mfor\u001b[0m \u001b[0mitem\u001b[0m \u001b[0;32min\u001b[0m \u001b[0mdata\u001b[0m\u001b[0;34m.\u001b[0m\u001b[0msys\u001b[0m\u001b[0;34m[\u001b[0m\u001b[0mk\u001b[0m\u001b[0;34m]\u001b[0m\u001b[0;34m.\u001b[0m\u001b[0mn_experiments\u001b[0m\u001b[0;34m.\u001b[0m\u001b[0mvalues\u001b[0m\u001b[0;34m(\u001b[0m\u001b[0;34m)\u001b[0m\u001b[0;34m:\u001b[0m\u001b[0;34m\u001b[0m\u001b[0;34m\u001b[0m\u001b[0m\n\u001b[0m\u001b[1;32m    218\u001b[0m                 \u001b[0mtot\u001b[0m \u001b[0;34m+=\u001b[0m \u001b[0mitem\u001b[0m\u001b[0;34m\u001b[0m\u001b[0;34m\u001b[0m\u001b[0m\n\u001b[1;32m    219\u001b[0m         \u001b[0;32mreturn\u001b[0m \u001b[0mtot\u001b[0m\u001b[0;34m\u001b[0m\u001b[0;34m\u001b[0m\u001b[0m\n",
      "\u001b[0;31mAttributeError\u001b[0m: 'dict' object has no attribute 'sys'"
     ]
    }
   ],
   "source": [
    "# assert list(vars(data.properties).keys()) == list(vars(loaded_data['properties']).keys())\n",
    "assert dir(data.properties) == dir(loaded_data['properties'])\n",
    "\n",
    "assert data.properties.system_names == loaded_data['properties'].system_names\n",
    "assert data.properties.tot_n_experiments(data) == loaded_data['properties'].tot_n_experiments(loaded_data)"
   ]
  },
  {
   "cell_type": "code",
   "execution_count": 77,
   "metadata": {},
   "outputs": [
    {
     "data": {
      "text/plain": [
       "{'_global_': <MDRefine.data_loading.data_global_class at 0x7f3eb86abcc0>,\n",
       " 'sys': {'AAAA': <MDRefine.data_loading.data_class at 0x7f3eb86abc18>,\n",
       "  'CAAU': <MDRefine.data_loading.data_class at 0x7f3eb86ab940>}}"
      ]
     },
     "execution_count": 77,
     "metadata": {},
     "output_type": "execute_result"
    }
   ],
   "source": [
    "# loaded_data['properties'].tot_n_experiments(loaded_data)\n",
    "\n",
    "loaded_data"
   ]
  },
  {
   "cell_type": "code",
   "execution_count": 59,
   "metadata": {},
   "outputs": [
    {
     "data": {
      "text/plain": [
       "['system_names',\n",
       " '__module__',\n",
       " '__doc__',\n",
       " '__init__',\n",
       " 'tot_n_experiments',\n",
       " '__dict__',\n",
       " '__weakref__',\n",
       " '__repr__',\n",
       " '__hash__',\n",
       " '__str__',\n",
       " '__getattribute__',\n",
       " '__setattr__',\n",
       " '__delattr__',\n",
       " '__lt__',\n",
       " '__le__',\n",
       " '__eq__',\n",
       " '__ne__',\n",
       " '__gt__',\n",
       " '__ge__',\n",
       " '__new__',\n",
       " '__reduce_ex__',\n",
       " '__reduce__',\n",
       " '__subclasshook__',\n",
       " '__init_subclass__',\n",
       " '__format__',\n",
       " '__sizeof__',\n",
       " '__dir__',\n",
       " '__class__']"
      ]
     },
     "execution_count": 59,
     "metadata": {},
     "output_type": "execute_result"
    }
   ],
   "source": [
    "data.properties.__dir__()"
   ]
  },
  {
   "cell_type": "code",
   "execution_count": 12,
   "metadata": {},
   "outputs": [
    {
     "ename": "ValueError",
     "evalue": "The truth value of an array with more than one element is ambiguous. Use a.any() or a.all()",
     "output_type": "error",
     "traceback": [
      "\u001b[0;31m---------------------------------------------------------------------------\u001b[0m",
      "\u001b[0;31mValueError\u001b[0m                                Traceback (most recent call last)",
      "\u001b[0;32m<ipython-input-12-7327bceed5f1>\u001b[0m in \u001b[0;36m<module>\u001b[0;34m\u001b[0m\n\u001b[0;32m----> 1\u001b[0;31m \u001b[0;32massert\u001b[0m \u001b[0mvars\u001b[0m\u001b[0;34m(\u001b[0m\u001b[0mdata\u001b[0m\u001b[0;34m.\u001b[0m\u001b[0msys\u001b[0m\u001b[0;34m[\u001b[0m\u001b[0;34m'AAAA'\u001b[0m\u001b[0;34m]\u001b[0m\u001b[0;34m)\u001b[0m \u001b[0;34m==\u001b[0m \u001b[0mvars\u001b[0m\u001b[0;34m(\u001b[0m\u001b[0mloaded_dict\u001b[0m\u001b[0;34m[\u001b[0m\u001b[0;34m'sys'\u001b[0m\u001b[0;34m]\u001b[0m\u001b[0;34m[\u001b[0m\u001b[0;34m'AAAA'\u001b[0m\u001b[0;34m]\u001b[0m\u001b[0;34m)\u001b[0m\u001b[0;34m\u001b[0m\u001b[0;34m\u001b[0m\u001b[0m\n\u001b[0m",
      "\u001b[0;31mValueError\u001b[0m: The truth value of an array with more than one element is ambiguous. Use a.any() or a.all()"
     ]
    }
   ],
   "source": [
    "assert vars(data.mol['AAAA']) == vars(loaded_dict['sys']['AAAA'])"
   ]
  },
  {
   "cell_type": "markdown",
   "metadata": {},
   "source": [
    "#### assert does not work\n",
    "because we cannot compare two dictionaries containing numpy arrays"
   ]
  },
  {
   "cell_type": "code",
   "execution_count": 15,
   "metadata": {},
   "outputs": [
    {
     "ename": "ValueError",
     "evalue": "The truth value of an array with more than one element is ambiguous. Use a.any() or a.all()",
     "output_type": "error",
     "traceback": [
      "\u001b[0;31m---------------------------------------------------------------------------\u001b[0m",
      "\u001b[0;31mValueError\u001b[0m                                Traceback (most recent call last)",
      "\u001b[0;32m<ipython-input-15-2a03acee5b43>\u001b[0m in \u001b[0;36m<module>\u001b[0;34m\u001b[0m\n\u001b[1;32m      2\u001b[0m \u001b[0mmy_dict2\u001b[0m \u001b[0;34m=\u001b[0m \u001b[0;34m{\u001b[0m\u001b[0;34m'a'\u001b[0m\u001b[0;34m:\u001b[0m \u001b[0mnp\u001b[0m\u001b[0;34m.\u001b[0m\u001b[0marray\u001b[0m\u001b[0;34m(\u001b[0m\u001b[0;34m[\u001b[0m\u001b[0;36m1.5\u001b[0m\u001b[0;34m,\u001b[0m \u001b[0;36m2.5\u001b[0m\u001b[0;34m]\u001b[0m\u001b[0;34m)\u001b[0m\u001b[0;34m,\u001b[0m \u001b[0;34m'b'\u001b[0m\u001b[0;34m:\u001b[0m \u001b[0mnp\u001b[0m\u001b[0;34m.\u001b[0m\u001b[0marray\u001b[0m\u001b[0;34m(\u001b[0m\u001b[0;34m[\u001b[0m\u001b[0;36m1.2\u001b[0m\u001b[0;34m,\u001b[0m \u001b[0;36m2.4\u001b[0m\u001b[0;34m,\u001b[0m \u001b[0;36m3.6\u001b[0m\u001b[0;34m]\u001b[0m\u001b[0;34m)\u001b[0m\u001b[0;34m}\u001b[0m\u001b[0;34m\u001b[0m\u001b[0;34m\u001b[0m\u001b[0m\n\u001b[1;32m      3\u001b[0m \u001b[0;34m\u001b[0m\u001b[0m\n\u001b[0;32m----> 4\u001b[0;31m \u001b[0;32massert\u001b[0m \u001b[0;34m(\u001b[0m\u001b[0mmy_dict1\u001b[0m \u001b[0;34m==\u001b[0m \u001b[0mmy_dict2\u001b[0m\u001b[0;34m)\u001b[0m\u001b[0;34m.\u001b[0m\u001b[0mall\u001b[0m\u001b[0;34m(\u001b[0m\u001b[0;34m)\u001b[0m\u001b[0;34m\u001b[0m\u001b[0;34m\u001b[0m\u001b[0m\n\u001b[0m",
      "\u001b[0;31mValueError\u001b[0m: The truth value of an array with more than one element is ambiguous. Use a.any() or a.all()"
     ]
    }
   ],
   "source": [
    "my_dict1 = {'a': np.array([1.5, 2.5]), 'b': np.array([1.2, 2.4, 3.6])}\n",
    "my_dict2 = {'a': np.array([1.5, 2.5]), 'b': np.array([1.2, 2.4, 3.6])}\n",
    "\n",
    "assert (my_dict1 == my_dict2).all()"
   ]
  },
  {
   "cell_type": "markdown",
   "metadata": {},
   "source": [
    "this works:"
   ]
  },
  {
   "cell_type": "code",
   "execution_count": 16,
   "metadata": {},
   "outputs": [],
   "source": [
    "assert (my_dict1['a'] == my_dict2['a']).all()"
   ]
  },
  {
   "cell_type": "markdown",
   "metadata": {},
   "source": [
    "#### so, let's proceed for extended"
   ]
  },
  {
   "cell_type": "code",
   "execution_count": 30,
   "metadata": {},
   "outputs": [
    {
     "data": {
      "text/plain": [
       "{'temperature': 1,\n",
       " 'gexp': {'NOEs': array([[7.74312661e-04, 4.56174227e-04],\n",
       "         [8.17622013e-05, 7.09253186e-05]]),\n",
       "  'uNOEs': array([[1.58193730e-04, 2.39877632e-05],\n",
       "         [7.22476158e-05, 9.51458553e-06]])},\n",
       " 'names': {'NOEs': array([[\"A1-H1'\", 'A1-H8'],\n",
       "         [\"A1-H1'\", 'A2-H8']], dtype='<U7'),\n",
       "  'uNOEs': array([[\"A1-H1'\", \"A2-H4'\"],\n",
       "         [\"A1-H1'\", \"A3-H1'\"]], dtype='<U7')},\n",
       " 'ref': {'NOEs': '=', 'uNOEs': '<'},\n",
       " 'g': {'NOEs': memmap([[3.78438242e-04, 6.64434046e-05],\n",
       "          [8.24084855e-04, 5.37090818e-05],\n",
       "          [4.24279075e-04, 8.45648974e-05],\n",
       "          [5.57313382e-04, 6.57341152e-05],\n",
       "          [3.65299667e-04, 3.69220197e-06],\n",
       "          [2.89047486e-03, 1.00485659e-05],\n",
       "          [4.10240405e-04, 8.74714679e-05],\n",
       "          [3.12228408e-03, 1.53735527e-05],\n",
       "          [4.78437869e-03, 1.16904630e-05],\n",
       "          [2.48920987e-04, 1.28376223e-06],\n",
       "          [2.85325595e-03, 1.08458007e-05],\n",
       "          [7.43237499e-04, 2.90249372e-05],\n",
       "          [2.33285697e-04, 8.33210288e-05],\n",
       "          [2.73841806e-03, 2.61733912e-05],\n",
       "          [2.84928305e-04, 3.56526252e-05],\n",
       "          [3.84235731e-03, 7.05284356e-06],\n",
       "          [4.18393919e-03, 1.12825473e-05],\n",
       "          [3.08533956e-04, 1.89376922e-04],\n",
       "          [4.29437321e-04, 7.07995641e-05],\n",
       "          [3.73830041e-03, 9.66604966e-06],\n",
       "          [2.35516788e-03, 7.87666431e-06],\n",
       "          [3.77996534e-04, 9.22315303e-06],\n",
       "          [4.05285833e-03, 1.90017236e-05],\n",
       "          [5.74422162e-03, 1.83358970e-05],\n",
       "          [4.20605298e-03, 6.44325155e-07],\n",
       "          [5.43911883e-04, 7.44017088e-05],\n",
       "          [4.44921956e-04, 6.28719499e-05],\n",
       "          [2.76406296e-04, 5.87344402e-06],\n",
       "          [3.04537709e-03, 6.05218884e-05],\n",
       "          [6.98029762e-03, 5.70094755e-07],\n",
       "          [2.36349850e-04, 1.70316453e-05],\n",
       "          [3.62183666e-04, 2.90367170e-05],\n",
       "          [2.97728740e-03, 6.97118185e-06],\n",
       "          [2.80710810e-04, 2.86177601e-06],\n",
       "          [3.93309048e-04, 1.14651164e-04],\n",
       "          [4.63821134e-03, 5.35958407e-06],\n",
       "          [4.13034111e-04, 2.93270059e-05],\n",
       "          [2.37463973e-03, 1.02996055e-05],\n",
       "          [3.01002664e-03, 4.61789605e-05],\n",
       "          [3.32826894e-04, 7.41412805e-05],\n",
       "          [3.73271236e-04, 1.03476132e-05],\n",
       "          [2.70061917e-03, 1.33305468e-04],\n",
       "          [3.52150667e-03, 3.39531252e-05],\n",
       "          [5.86984388e-04, 1.17899588e-04],\n",
       "          [2.83291651e-04, 1.43707512e-05],\n",
       "          [2.89784744e-04, 4.80403560e-06],\n",
       "          [5.65453898e-04, 8.84312904e-05],\n",
       "          [4.63791570e-04, 7.01879762e-05],\n",
       "          [3.21979844e-03, 1.94245622e-05],\n",
       "          [5.44764916e-04, 7.13658810e-05],\n",
       "          [1.59964873e-03, 1.12502603e-05],\n",
       "          [3.95019073e-04, 5.41581103e-05],\n",
       "          [3.01924476e-04, 9.82731290e-05],\n",
       "          [2.85756221e-04, 5.19040477e-05],\n",
       "          [4.41275362e-04, 7.51142725e-05],\n",
       "          [3.57941084e-04, 1.65419624e-05],\n",
       "          [2.88985996e-03, 2.30764854e-05],\n",
       "          [2.43784001e-04, 7.89919068e-06],\n",
       "          [4.85029258e-03, 1.95938737e-05],\n",
       "          [3.72143608e-04, 4.76435307e-05],\n",
       "          [2.95462494e-04, 1.60836644e-05],\n",
       "          [4.58226586e-03, 3.25684414e-05],\n",
       "          [5.22059447e-04, 3.17505692e-05],\n",
       "          [6.52242801e-04, 5.41051850e-05],\n",
       "          [3.13642202e-04, 7.15642773e-06],\n",
       "          [3.22837662e-03, 1.97172594e-05],\n",
       "          [2.52001034e-03, 1.18290118e-05],\n",
       "          [3.32778669e-04, 1.36828976e-05],\n",
       "          [3.54118994e-04, 5.20111280e-05],\n",
       "          [2.49241217e-04, 9.03530054e-06],\n",
       "          [4.31445835e-04, 6.64952240e-05],\n",
       "          [7.44367135e-04, 6.30985014e-05],\n",
       "          [3.84145021e-03, 2.38229968e-05],\n",
       "          [6.94210990e-04, 1.25372157e-04],\n",
       "          [2.57631124e-04, 6.88496721e-06],\n",
       "          [6.36812183e-04, 7.64719443e-05],\n",
       "          [4.24272148e-03, 2.65362396e-05],\n",
       "          [2.19093752e-03, 5.66578547e-06],\n",
       "          [3.66264780e-04, 5.47278578e-05],\n",
       "          [2.62128655e-04, 6.88756791e-06],\n",
       "          [4.08272375e-04, 5.46688534e-06],\n",
       "          [4.32619313e-03, 1.10602814e-05],\n",
       "          [4.42280294e-03, 2.99490671e-06],\n",
       "          [2.73185113e-04, 4.56534281e-06],\n",
       "          [3.84907727e-03, 5.15432330e-04],\n",
       "          [2.92575685e-04, 8.48773834e-06],\n",
       "          [3.17430915e-03, 2.33985102e-05],\n",
       "          [2.83824559e-03, 2.22624454e-04],\n",
       "          [4.50013299e-03, 9.88288739e-05],\n",
       "          [3.01227934e-04, 2.65825838e-05],\n",
       "          [6.48192316e-03, 8.35321844e-05],\n",
       "          [3.06397647e-04, 1.70964995e-05],\n",
       "          [4.92761144e-04, 5.04037598e-05],\n",
       "          [2.78430321e-04, 3.25901988e-06],\n",
       "          [6.98708091e-03, 2.27556629e-05],\n",
       "          [5.46221761e-03, 2.59693206e-05],\n",
       "          [4.78026411e-03, 2.73889273e-05],\n",
       "          [3.27866903e-04, 7.14188673e-06],\n",
       "          [3.10181570e-03, 7.24334404e-06],\n",
       "          [3.32339038e-03, 1.31322267e-05],\n",
       "          [3.55058652e-03, 6.63466562e-05],\n",
       "          [4.19835001e-03, 2.45639785e-06]], dtype=float32),\n",
       "  'uNOEs': memmap([[2.78761272e-05, 8.57926921e-07],\n",
       "          [1.05725903e-05, 4.45161533e-07],\n",
       "          [1.38456917e-05, 5.72764122e-07],\n",
       "          [1.26527320e-05, 4.08776032e-07],\n",
       "          [2.09710583e-06, 2.92790537e-06],\n",
       "          [4.40691383e-06, 1.36062158e-06],\n",
       "          [1.66953814e-05, 5.29573526e-07],\n",
       "          [1.70877956e-05, 4.63444707e-07],\n",
       "          [9.50593494e-06, 2.14059401e-06],\n",
       "          [3.61906950e-06, 6.17318904e-07],\n",
       "          [9.29797989e-06, 1.26919508e-06],\n",
       "          [8.19996421e-06, 4.02410933e-07],\n",
       "          [3.81615473e-06, 5.33246350e-07],\n",
       "          [1.38668456e-05, 6.00645478e-07],\n",
       "          [2.04194021e-06, 1.39635722e-06],\n",
       "          [1.15841840e-05, 1.74904514e-07],\n",
       "          [1.14059585e-05, 4.22895113e-07],\n",
       "          [1.06493553e-05, 5.05904154e-07],\n",
       "          [1.30552235e-05, 5.19292257e-07],\n",
       "          [9.62139620e-06, 2.39210351e-07],\n",
       "          [8.23258088e-05, 5.01323084e-05],\n",
       "          [8.21114008e-06, 2.40762034e-07],\n",
       "          [1.00530560e-05, 8.02821489e-07],\n",
       "          [9.89970613e-06, 7.59069621e-07],\n",
       "          [5.90185346e-06, 6.68233326e-07],\n",
       "          [1.73069293e-05, 5.03775539e-07],\n",
       "          [9.97695679e-06, 4.05195976e-07],\n",
       "          [2.17691741e-06, 2.89767422e-06],\n",
       "          [1.57533977e-05, 1.51009021e-06],\n",
       "          [8.13159386e-06, 2.03532509e-05],\n",
       "          [1.18889475e-05, 5.33518175e-07],\n",
       "          [9.83065274e-06, 5.14033161e-07],\n",
       "          [4.31554963e-06, 4.99784051e-07],\n",
       "          [4.70127361e-06, 3.46477418e-06],\n",
       "          [1.28779957e-05, 7.88989325e-07],\n",
       "          [8.57786017e-06, 3.47313630e-07],\n",
       "          [1.17213176e-05, 6.50062475e-07],\n",
       "          [1.47104965e-05, 3.53457864e-07],\n",
       "          [1.94453223e-05, 1.93085157e-07],\n",
       "          [1.87118549e-05, 7.97735822e-07],\n",
       "          [2.55835539e-06, 3.16216392e-06],\n",
       "          [1.35964838e-05, 3.25413055e-07],\n",
       "          [1.89865004e-05, 3.72269938e-07],\n",
       "          [8.04873525e-06, 5.61447564e-07],\n",
       "          [2.46315267e-05, 7.18640081e-07],\n",
       "          [2.01024682e-06, 2.97970200e-06],\n",
       "          [1.38560636e-05, 3.56807476e-07],\n",
       "          [1.55566468e-05, 6.15103886e-07],\n",
       "          [8.13759016e-06, 3.39635790e-07],\n",
       "          [1.91489435e-05, 4.72385096e-07],\n",
       "          [9.70959354e-06, 3.21686031e-07],\n",
       "          [1.98436719e-05, 3.98953745e-07],\n",
       "          [2.20321490e-05, 7.23321705e-07],\n",
       "          [1.22023775e-05, 5.31351930e-07],\n",
       "          [7.41216945e-06, 5.19382297e-07],\n",
       "          [1.19674296e-05, 1.09583789e-06],\n",
       "          [1.29835244e-05, 4.41198068e-07],\n",
       "          [1.40144275e-05, 4.06478563e-07],\n",
       "          [1.40169432e-05, 6.66240396e-07],\n",
       "          [8.59812371e-06, 6.41483041e-07],\n",
       "          [1.27402491e-05, 8.40277380e-07],\n",
       "          [1.43176558e-05, 5.60094122e-07],\n",
       "          [1.25235165e-05, 3.70537862e-07],\n",
       "          [1.82573312e-05, 4.78631307e-07],\n",
       "          [1.89959235e-06, 2.39198266e-06],\n",
       "          [1.48343624e-05, 3.38530924e-07],\n",
       "          [7.42702787e-06, 2.24044584e-07],\n",
       "          [1.47583569e-05, 4.59263561e-07],\n",
       "          [1.97406953e-05, 6.31046646e-07],\n",
       "          [2.54780230e-06, 3.15469924e-06],\n",
       "          [2.22418021e-05, 7.75292847e-07],\n",
       "          [5.98453198e-06, 5.19119396e-07],\n",
       "          [1.64564026e-05, 4.76136506e-07],\n",
       "          [1.02114918e-05, 5.54829171e-07],\n",
       "          [4.06295294e-06, 2.81428402e-06],\n",
       "          [9.37165350e-06, 5.32861009e-07],\n",
       "          [1.54218160e-05, 9.22775598e-08],\n",
       "          [8.04678348e-06, 2.15703352e-07],\n",
       "          [1.39454214e-05, 2.52938491e-07],\n",
       "          [2.40463828e-06, 2.30831779e-06],\n",
       "          [3.51496192e-06, 2.35010020e-06],\n",
       "          [3.52100210e-06, 2.56682284e-07],\n",
       "          [7.73830561e-06, 6.85360646e-05],\n",
       "          [3.13470082e-06, 1.40424061e-06],\n",
       "          [1.32197310e-05, 3.43562802e-04],\n",
       "          [9.20530510e-06, 1.44418095e-07],\n",
       "          [1.81089240e-06, 3.78714390e-07],\n",
       "          [1.29074015e-05, 3.71665192e-06],\n",
       "          [5.23142080e-06, 6.94138578e-07],\n",
       "          [3.50511755e-06, 9.56167605e-06],\n",
       "          [1.49674379e-05, 4.01096770e-07],\n",
       "          [2.51122856e-06, 4.25880899e-06],\n",
       "          [2.09126374e-05, 5.39134646e-07],\n",
       "          [6.23253072e-06, 8.00219459e-06],\n",
       "          [1.49078405e-05, 3.60301101e-07],\n",
       "          [1.78624869e-05, 3.80393459e-07],\n",
       "          [5.68103133e-06, 2.13728981e-07],\n",
       "          [2.43428258e-06, 2.21899904e-06],\n",
       "          [1.18594224e-04, 4.00969657e-06],\n",
       "          [1.42109357e-05, 3.00800423e-07],\n",
       "          [1.08772692e-05, 2.60828472e-07],\n",
       "          [7.89893602e-05, 6.66212100e-06]], dtype=float32)},\n",
       " 'weights': DeviceArray([0.00980392, 0.00980392, 0.00980392, 0.00980392, 0.00980392,\n",
       "              0.00980392, 0.00980392, 0.00980392, 0.00980392, 0.00980392,\n",
       "              0.00980392, 0.00980392, 0.00980392, 0.00980392, 0.00980392,\n",
       "              0.00980392, 0.00980392, 0.00980392, 0.00980392, 0.00980392,\n",
       "              0.00980392, 0.00980392, 0.00980392, 0.00980392, 0.00980392,\n",
       "              0.00980392, 0.00980392, 0.00980392, 0.00980392, 0.00980392,\n",
       "              0.00980392, 0.00980392, 0.00980392, 0.00980392, 0.00980392,\n",
       "              0.00980392, 0.00980392, 0.00980392, 0.00980392, 0.00980392,\n",
       "              0.00980392, 0.00980392, 0.00980392, 0.00980392, 0.00980392,\n",
       "              0.00980392, 0.00980392, 0.00980392, 0.00980392, 0.00980392,\n",
       "              0.00980392, 0.00980392, 0.00980392, 0.00980392, 0.00980392,\n",
       "              0.00980392, 0.00980392, 0.00980392, 0.00980392, 0.00980392,\n",
       "              0.00980392, 0.00980392, 0.00980392, 0.00980392, 0.00980392,\n",
       "              0.00980392, 0.00980392, 0.00980392, 0.00980392, 0.00980392,\n",
       "              0.00980392, 0.00980392, 0.00980392, 0.00980392, 0.00980392,\n",
       "              0.00980392, 0.00980392, 0.00980392, 0.00980392, 0.00980392,\n",
       "              0.00980392, 0.00980392, 0.00980392, 0.00980392, 0.00980392,\n",
       "              0.00980392, 0.00980392, 0.00980392, 0.00980392, 0.00980392,\n",
       "              0.00980392, 0.00980392, 0.00980392, 0.00980392, 0.00980392,\n",
       "              0.00980392, 0.00980392, 0.00980392, 0.00980392, 0.00980392,\n",
       "              0.00980392, 0.00980392], dtype=float64),\n",
       " 'n_experiments': {'NOEs': 2, 'uNOEs': 2},\n",
       " 'n_frames': 102}"
      ]
     },
     "execution_count": 30,
     "metadata": {},
     "output_type": "execute_result"
    }
   ],
   "source": [
    "vars(data.mol['AAAA'])"
   ]
  },
  {
   "cell_type": "code",
   "execution_count": 28,
   "metadata": {},
   "outputs": [
    {
     "data": {
      "text/plain": [
       "dict_keys(['temperature', 'gexp', 'names', 'ref', 'g', 'weights', 'n_experiments', 'n_frames'])"
      ]
     },
     "execution_count": 28,
     "metadata": {},
     "output_type": "execute_result"
    }
   ],
   "source": [
    "vars(data.mol['AAAA']).keys()\n"
   ]
  },
  {
   "cell_type": "code",
   "execution_count": 35,
   "metadata": {},
   "outputs": [
    {
     "data": {
      "text/plain": [
       "{'NOEs': 2, 'uNOEs': 2}"
      ]
     },
     "execution_count": 35,
     "metadata": {},
     "output_type": "execute_result"
    }
   ],
   "source": [
    "my_dict1['n_experiments']"
   ]
  },
  {
   "cell_type": "code",
   "execution_count": 33,
   "metadata": {},
   "outputs": [],
   "source": [
    "s = 'AAAA'\n",
    "\n",
    "my_dict1 = vars(data.mol[s])\n",
    "my_dict2 = vars(loaded_dict['sys'][s])\n",
    "\n",
    "for k in my_dict1.keys():\n",
    "\n",
    "    if k in ['temperature', 'ref', 'n_experiments', 'n_frames']:\n",
    "        assert my_dict1[k] == my_dict2[k]\n",
    "\n",
    "    elif k in ['gexp', 'names', 'g']:\n",
    "        for k2 in data.mol[s].gexp.keys():\n",
    "            assert (my_dict1[k][k2] == my_dict2[k][k2]).all()\n",
    "\n",
    "    elif k in ['weights']:\n",
    "        assert (my_dict1[k] == my_dict2[k]).all()\n",
    "\n"
   ]
  },
  {
   "cell_type": "code",
   "execution_count": 39,
   "metadata": {},
   "outputs": [],
   "source": [
    "self.assertlist(my_dict1.keys()) == list(my_dict2.keys())"
   ]
  },
  {
   "cell_type": "code",
   "execution_count": 41,
   "metadata": {},
   "outputs": [
    {
     "data": {
      "text/plain": [
       "{'temperature': 1,\n",
       " 'gexp': {'NOEs': array([[7.74312661e-04, 4.56174227e-04],\n",
       "         [8.17622013e-05, 7.09253186e-05]]),\n",
       "  'uNOEs': array([[1.58193730e-04, 2.39877632e-05],\n",
       "         [7.22476158e-05, 9.51458553e-06]])},\n",
       " 'names': {'NOEs': array([[\"A1-H1'\", 'A1-H8'],\n",
       "         [\"A1-H1'\", 'A2-H8']], dtype='<U7'),\n",
       "  'uNOEs': array([[\"A1-H1'\", \"A2-H4'\"],\n",
       "         [\"A1-H1'\", \"A3-H1'\"]], dtype='<U7')},\n",
       " 'ref': {'NOEs': '=', 'uNOEs': '<'},\n",
       " 'g': {'NOEs': memmap([[3.78438242e-04, 6.64434046e-05],\n",
       "          [8.24084855e-04, 5.37090818e-05],\n",
       "          [4.24279075e-04, 8.45648974e-05],\n",
       "          [5.57313382e-04, 6.57341152e-05],\n",
       "          [3.65299667e-04, 3.69220197e-06],\n",
       "          [2.89047486e-03, 1.00485659e-05],\n",
       "          [4.10240405e-04, 8.74714679e-05],\n",
       "          [3.12228408e-03, 1.53735527e-05],\n",
       "          [4.78437869e-03, 1.16904630e-05],\n",
       "          [2.48920987e-04, 1.28376223e-06],\n",
       "          [2.85325595e-03, 1.08458007e-05],\n",
       "          [7.43237499e-04, 2.90249372e-05],\n",
       "          [2.33285697e-04, 8.33210288e-05],\n",
       "          [2.73841806e-03, 2.61733912e-05],\n",
       "          [2.84928305e-04, 3.56526252e-05],\n",
       "          [3.84235731e-03, 7.05284356e-06],\n",
       "          [4.18393919e-03, 1.12825473e-05],\n",
       "          [3.08533956e-04, 1.89376922e-04],\n",
       "          [4.29437321e-04, 7.07995641e-05],\n",
       "          [3.73830041e-03, 9.66604966e-06],\n",
       "          [2.35516788e-03, 7.87666431e-06],\n",
       "          [3.77996534e-04, 9.22315303e-06],\n",
       "          [4.05285833e-03, 1.90017236e-05],\n",
       "          [5.74422162e-03, 1.83358970e-05],\n",
       "          [4.20605298e-03, 6.44325155e-07],\n",
       "          [5.43911883e-04, 7.44017088e-05],\n",
       "          [4.44921956e-04, 6.28719499e-05],\n",
       "          [2.76406296e-04, 5.87344402e-06],\n",
       "          [3.04537709e-03, 6.05218884e-05],\n",
       "          [6.98029762e-03, 5.70094755e-07],\n",
       "          [2.36349850e-04, 1.70316453e-05],\n",
       "          [3.62183666e-04, 2.90367170e-05],\n",
       "          [2.97728740e-03, 6.97118185e-06],\n",
       "          [2.80710810e-04, 2.86177601e-06],\n",
       "          [3.93309048e-04, 1.14651164e-04],\n",
       "          [4.63821134e-03, 5.35958407e-06],\n",
       "          [4.13034111e-04, 2.93270059e-05],\n",
       "          [2.37463973e-03, 1.02996055e-05],\n",
       "          [3.01002664e-03, 4.61789605e-05],\n",
       "          [3.32826894e-04, 7.41412805e-05],\n",
       "          [3.73271236e-04, 1.03476132e-05],\n",
       "          [2.70061917e-03, 1.33305468e-04],\n",
       "          [3.52150667e-03, 3.39531252e-05],\n",
       "          [5.86984388e-04, 1.17899588e-04],\n",
       "          [2.83291651e-04, 1.43707512e-05],\n",
       "          [2.89784744e-04, 4.80403560e-06],\n",
       "          [5.65453898e-04, 8.84312904e-05],\n",
       "          [4.63791570e-04, 7.01879762e-05],\n",
       "          [3.21979844e-03, 1.94245622e-05],\n",
       "          [5.44764916e-04, 7.13658810e-05],\n",
       "          [1.59964873e-03, 1.12502603e-05],\n",
       "          [3.95019073e-04, 5.41581103e-05],\n",
       "          [3.01924476e-04, 9.82731290e-05],\n",
       "          [2.85756221e-04, 5.19040477e-05],\n",
       "          [4.41275362e-04, 7.51142725e-05],\n",
       "          [3.57941084e-04, 1.65419624e-05],\n",
       "          [2.88985996e-03, 2.30764854e-05],\n",
       "          [2.43784001e-04, 7.89919068e-06],\n",
       "          [4.85029258e-03, 1.95938737e-05],\n",
       "          [3.72143608e-04, 4.76435307e-05],\n",
       "          [2.95462494e-04, 1.60836644e-05],\n",
       "          [4.58226586e-03, 3.25684414e-05],\n",
       "          [5.22059447e-04, 3.17505692e-05],\n",
       "          [6.52242801e-04, 5.41051850e-05],\n",
       "          [3.13642202e-04, 7.15642773e-06],\n",
       "          [3.22837662e-03, 1.97172594e-05],\n",
       "          [2.52001034e-03, 1.18290118e-05],\n",
       "          [3.32778669e-04, 1.36828976e-05],\n",
       "          [3.54118994e-04, 5.20111280e-05],\n",
       "          [2.49241217e-04, 9.03530054e-06],\n",
       "          [4.31445835e-04, 6.64952240e-05],\n",
       "          [7.44367135e-04, 6.30985014e-05],\n",
       "          [3.84145021e-03, 2.38229968e-05],\n",
       "          [6.94210990e-04, 1.25372157e-04],\n",
       "          [2.57631124e-04, 6.88496721e-06],\n",
       "          [6.36812183e-04, 7.64719443e-05],\n",
       "          [4.24272148e-03, 2.65362396e-05],\n",
       "          [2.19093752e-03, 5.66578547e-06],\n",
       "          [3.66264780e-04, 5.47278578e-05],\n",
       "          [2.62128655e-04, 6.88756791e-06],\n",
       "          [4.08272375e-04, 5.46688534e-06],\n",
       "          [4.32619313e-03, 1.10602814e-05],\n",
       "          [4.42280294e-03, 2.99490671e-06],\n",
       "          [2.73185113e-04, 4.56534281e-06],\n",
       "          [3.84907727e-03, 5.15432330e-04],\n",
       "          [2.92575685e-04, 8.48773834e-06],\n",
       "          [3.17430915e-03, 2.33985102e-05],\n",
       "          [2.83824559e-03, 2.22624454e-04],\n",
       "          [4.50013299e-03, 9.88288739e-05],\n",
       "          [3.01227934e-04, 2.65825838e-05],\n",
       "          [6.48192316e-03, 8.35321844e-05],\n",
       "          [3.06397647e-04, 1.70964995e-05],\n",
       "          [4.92761144e-04, 5.04037598e-05],\n",
       "          [2.78430321e-04, 3.25901988e-06],\n",
       "          [6.98708091e-03, 2.27556629e-05],\n",
       "          [5.46221761e-03, 2.59693206e-05],\n",
       "          [4.78026411e-03, 2.73889273e-05],\n",
       "          [3.27866903e-04, 7.14188673e-06],\n",
       "          [3.10181570e-03, 7.24334404e-06],\n",
       "          [3.32339038e-03, 1.31322267e-05],\n",
       "          [3.55058652e-03, 6.63466562e-05],\n",
       "          [4.19835001e-03, 2.45639785e-06]], dtype=float32),\n",
       "  'uNOEs': memmap([[2.78761272e-05, 8.57926921e-07],\n",
       "          [1.05725903e-05, 4.45161533e-07],\n",
       "          [1.38456917e-05, 5.72764122e-07],\n",
       "          [1.26527320e-05, 4.08776032e-07],\n",
       "          [2.09710583e-06, 2.92790537e-06],\n",
       "          [4.40691383e-06, 1.36062158e-06],\n",
       "          [1.66953814e-05, 5.29573526e-07],\n",
       "          [1.70877956e-05, 4.63444707e-07],\n",
       "          [9.50593494e-06, 2.14059401e-06],\n",
       "          [3.61906950e-06, 6.17318904e-07],\n",
       "          [9.29797989e-06, 1.26919508e-06],\n",
       "          [8.19996421e-06, 4.02410933e-07],\n",
       "          [3.81615473e-06, 5.33246350e-07],\n",
       "          [1.38668456e-05, 6.00645478e-07],\n",
       "          [2.04194021e-06, 1.39635722e-06],\n",
       "          [1.15841840e-05, 1.74904514e-07],\n",
       "          [1.14059585e-05, 4.22895113e-07],\n",
       "          [1.06493553e-05, 5.05904154e-07],\n",
       "          [1.30552235e-05, 5.19292257e-07],\n",
       "          [9.62139620e-06, 2.39210351e-07],\n",
       "          [8.23258088e-05, 5.01323084e-05],\n",
       "          [8.21114008e-06, 2.40762034e-07],\n",
       "          [1.00530560e-05, 8.02821489e-07],\n",
       "          [9.89970613e-06, 7.59069621e-07],\n",
       "          [5.90185346e-06, 6.68233326e-07],\n",
       "          [1.73069293e-05, 5.03775539e-07],\n",
       "          [9.97695679e-06, 4.05195976e-07],\n",
       "          [2.17691741e-06, 2.89767422e-06],\n",
       "          [1.57533977e-05, 1.51009021e-06],\n",
       "          [8.13159386e-06, 2.03532509e-05],\n",
       "          [1.18889475e-05, 5.33518175e-07],\n",
       "          [9.83065274e-06, 5.14033161e-07],\n",
       "          [4.31554963e-06, 4.99784051e-07],\n",
       "          [4.70127361e-06, 3.46477418e-06],\n",
       "          [1.28779957e-05, 7.88989325e-07],\n",
       "          [8.57786017e-06, 3.47313630e-07],\n",
       "          [1.17213176e-05, 6.50062475e-07],\n",
       "          [1.47104965e-05, 3.53457864e-07],\n",
       "          [1.94453223e-05, 1.93085157e-07],\n",
       "          [1.87118549e-05, 7.97735822e-07],\n",
       "          [2.55835539e-06, 3.16216392e-06],\n",
       "          [1.35964838e-05, 3.25413055e-07],\n",
       "          [1.89865004e-05, 3.72269938e-07],\n",
       "          [8.04873525e-06, 5.61447564e-07],\n",
       "          [2.46315267e-05, 7.18640081e-07],\n",
       "          [2.01024682e-06, 2.97970200e-06],\n",
       "          [1.38560636e-05, 3.56807476e-07],\n",
       "          [1.55566468e-05, 6.15103886e-07],\n",
       "          [8.13759016e-06, 3.39635790e-07],\n",
       "          [1.91489435e-05, 4.72385096e-07],\n",
       "          [9.70959354e-06, 3.21686031e-07],\n",
       "          [1.98436719e-05, 3.98953745e-07],\n",
       "          [2.20321490e-05, 7.23321705e-07],\n",
       "          [1.22023775e-05, 5.31351930e-07],\n",
       "          [7.41216945e-06, 5.19382297e-07],\n",
       "          [1.19674296e-05, 1.09583789e-06],\n",
       "          [1.29835244e-05, 4.41198068e-07],\n",
       "          [1.40144275e-05, 4.06478563e-07],\n",
       "          [1.40169432e-05, 6.66240396e-07],\n",
       "          [8.59812371e-06, 6.41483041e-07],\n",
       "          [1.27402491e-05, 8.40277380e-07],\n",
       "          [1.43176558e-05, 5.60094122e-07],\n",
       "          [1.25235165e-05, 3.70537862e-07],\n",
       "          [1.82573312e-05, 4.78631307e-07],\n",
       "          [1.89959235e-06, 2.39198266e-06],\n",
       "          [1.48343624e-05, 3.38530924e-07],\n",
       "          [7.42702787e-06, 2.24044584e-07],\n",
       "          [1.47583569e-05, 4.59263561e-07],\n",
       "          [1.97406953e-05, 6.31046646e-07],\n",
       "          [2.54780230e-06, 3.15469924e-06],\n",
       "          [2.22418021e-05, 7.75292847e-07],\n",
       "          [5.98453198e-06, 5.19119396e-07],\n",
       "          [1.64564026e-05, 4.76136506e-07],\n",
       "          [1.02114918e-05, 5.54829171e-07],\n",
       "          [4.06295294e-06, 2.81428402e-06],\n",
       "          [9.37165350e-06, 5.32861009e-07],\n",
       "          [1.54218160e-05, 9.22775598e-08],\n",
       "          [8.04678348e-06, 2.15703352e-07],\n",
       "          [1.39454214e-05, 2.52938491e-07],\n",
       "          [2.40463828e-06, 2.30831779e-06],\n",
       "          [3.51496192e-06, 2.35010020e-06],\n",
       "          [3.52100210e-06, 2.56682284e-07],\n",
       "          [7.73830561e-06, 6.85360646e-05],\n",
       "          [3.13470082e-06, 1.40424061e-06],\n",
       "          [1.32197310e-05, 3.43562802e-04],\n",
       "          [9.20530510e-06, 1.44418095e-07],\n",
       "          [1.81089240e-06, 3.78714390e-07],\n",
       "          [1.29074015e-05, 3.71665192e-06],\n",
       "          [5.23142080e-06, 6.94138578e-07],\n",
       "          [3.50511755e-06, 9.56167605e-06],\n",
       "          [1.49674379e-05, 4.01096770e-07],\n",
       "          [2.51122856e-06, 4.25880899e-06],\n",
       "          [2.09126374e-05, 5.39134646e-07],\n",
       "          [6.23253072e-06, 8.00219459e-06],\n",
       "          [1.49078405e-05, 3.60301101e-07],\n",
       "          [1.78624869e-05, 3.80393459e-07],\n",
       "          [5.68103133e-06, 2.13728981e-07],\n",
       "          [2.43428258e-06, 2.21899904e-06],\n",
       "          [1.18594224e-04, 4.00969657e-06],\n",
       "          [1.42109357e-05, 3.00800423e-07],\n",
       "          [1.08772692e-05, 2.60828472e-07],\n",
       "          [7.89893602e-05, 6.66212100e-06]], dtype=float32)},\n",
       " 'weights': DeviceArray([0.00980392, 0.00980392, 0.00980392, 0.00980392, 0.00980392,\n",
       "              0.00980392, 0.00980392, 0.00980392, 0.00980392, 0.00980392,\n",
       "              0.00980392, 0.00980392, 0.00980392, 0.00980392, 0.00980392,\n",
       "              0.00980392, 0.00980392, 0.00980392, 0.00980392, 0.00980392,\n",
       "              0.00980392, 0.00980392, 0.00980392, 0.00980392, 0.00980392,\n",
       "              0.00980392, 0.00980392, 0.00980392, 0.00980392, 0.00980392,\n",
       "              0.00980392, 0.00980392, 0.00980392, 0.00980392, 0.00980392,\n",
       "              0.00980392, 0.00980392, 0.00980392, 0.00980392, 0.00980392,\n",
       "              0.00980392, 0.00980392, 0.00980392, 0.00980392, 0.00980392,\n",
       "              0.00980392, 0.00980392, 0.00980392, 0.00980392, 0.00980392,\n",
       "              0.00980392, 0.00980392, 0.00980392, 0.00980392, 0.00980392,\n",
       "              0.00980392, 0.00980392, 0.00980392, 0.00980392, 0.00980392,\n",
       "              0.00980392, 0.00980392, 0.00980392, 0.00980392, 0.00980392,\n",
       "              0.00980392, 0.00980392, 0.00980392, 0.00980392, 0.00980392,\n",
       "              0.00980392, 0.00980392, 0.00980392, 0.00980392, 0.00980392,\n",
       "              0.00980392, 0.00980392, 0.00980392, 0.00980392, 0.00980392,\n",
       "              0.00980392, 0.00980392, 0.00980392, 0.00980392, 0.00980392,\n",
       "              0.00980392, 0.00980392, 0.00980392, 0.00980392, 0.00980392,\n",
       "              0.00980392, 0.00980392, 0.00980392, 0.00980392, 0.00980392,\n",
       "              0.00980392, 0.00980392, 0.00980392, 0.00980392, 0.00980392,\n",
       "              0.00980392, 0.00980392], dtype=float64),\n",
       " 'n_experiments': {'NOEs': 2, 'uNOEs': 2},\n",
       " 'n_frames': 102}"
      ]
     },
     "execution_count": 41,
     "metadata": {},
     "output_type": "execute_result"
    }
   ],
   "source": [
    "my_dict1"
   ]
  },
  {
   "cell_type": "markdown",
   "metadata": {},
   "source": [
    "### include also forward model and force-field correction"
   ]
  },
  {
   "cell_type": "markdown",
   "metadata": {},
   "source": [
    "save complete pickle with stride=2 as data_complete_stride2.pkl"
   ]
  },
  {
   "cell_type": "code",
   "execution_count": 7,
   "metadata": {},
   "outputs": [],
   "source": [
    "infos = {'global': {\n",
    "    'path_directory': 'DATA_test',\n",
    "    'system_names': ['AAAA', 'CAAU'],\n",
    "    'g_exp': ['backbone1_gamma_3J', 'backbone2_beta_epsilon_3J', 'sugar_3J', 'NOEs' , ('uNOEs', '<')],\n",
    "    'forward_qs': ['backbone1_gamma', 'backbone2_beta_epsilon','sugar'],\n",
    "    'obs': ['NOEs', 'uNOEs'],\n",
    "    'forward_coeffs': 'original_fm_coeffs'}}\n",
    "\n",
    "stride = 2"
   ]
  },
  {
   "cell_type": "code",
   "execution_count": 8,
   "metadata": {},
   "outputs": [],
   "source": [
    "def forward_model_fun(fm_coeffs, forward_qs, selected_obs=None):\n",
    "\n",
    "    # 1. compute the cosine (which is the quantity you need in the forward model;\n",
    "    # you could do this just once before loading data)\n",
    "    forward_qs_cos = {}\n",
    "\n",
    "    for type_name in forward_qs.keys():\n",
    "        forward_qs_cos[type_name] = jnp.cos(forward_qs[type_name])\n",
    "\n",
    "    # if you have selected_obs, compute only the corresponding observables\n",
    "    if selected_obs is not None:\n",
    "        for type_name in forward_qs.keys():\n",
    "            forward_qs_cos[type_name] = forward_qs_cos[type_name][:,selected_obs[type_name+'_3J']]\n",
    "\n",
    "    # 2. compute observables (forward_qs_out) through forward model\n",
    "    forward_qs_out = {\n",
    "        'backbone1_gamma_3J': fm_coeffs[0]*forward_qs_cos['backbone1_gamma']**2 + fm_coeffs[1]*forward_qs_cos['backbone1_gamma'] + fm_coeffs[2],\n",
    "        'backbone2_beta_epsilon_3J': fm_coeffs[3]*forward_qs_cos['backbone2_beta_epsilon']**2 + fm_coeffs[4]*forward_qs_cos['backbone2_beta_epsilon'] + fm_coeffs[5],\n",
    "        'sugar_3J': fm_coeffs[6]*forward_qs_cos['sugar']**2 + fm_coeffs[7]*forward_qs_cos['sugar'] + fm_coeffs[8] }\n",
    "\n",
    "    return forward_qs_out"
   ]
  },
  {
   "cell_type": "code",
   "execution_count": 9,
   "metadata": {},
   "outputs": [],
   "source": [
    "infos['global']['forward_model'] = forward_model_fun"
   ]
  },
  {
   "cell_type": "code",
   "execution_count": 10,
   "metadata": {},
   "outputs": [],
   "source": [
    "import jax.numpy as jnp"
   ]
  },
  {
   "cell_type": "code",
   "execution_count": 11,
   "metadata": {},
   "outputs": [],
   "source": [
    "infos['global']['names_ff_pars'] = ['sin alpha', 'cos alpha']\n",
    "\n",
    "def ff_correction(pars, f):\n",
    "    out = jnp.matmul(pars, (f[:, [0, 6]] + f[:, [1, 7]] + f[:, [2, 8]]).T)\n",
    "    return out\n",
    "\n",
    "def ff_correction_hexamers(pars, f):\n",
    "    out = jnp.matmul(pars, (f[:, [0, 10]] + f[:, [1, 11]] + f[:, [2, 12]] + f[:, [3, 13]] + f[:, [4, 14]]).T)\n",
    "    return out\n",
    "\n",
    "infos['global']['ff_correction'] = ff_correction"
   ]
  },
  {
   "cell_type": "code",
   "execution_count": 12,
   "metadata": {},
   "outputs": [
    {
     "name": "stdout",
     "output_type": "stream",
     "text": [
      "loading data from directory...\n",
      "loading  AAAA\n",
      "loading  CAAU\n",
      "done\n"
     ]
    }
   ],
   "source": [
    "data = load_data(infos, stride=stride)"
   ]
  },
  {
   "cell_type": "code",
   "execution_count": 14,
   "metadata": {},
   "outputs": [],
   "source": [
    "del data.mol['AAAA'].forward_model\n",
    "del data.mol['CAAU'].forward_model"
   ]
  },
  {
   "cell_type": "code",
   "execution_count": 15,
   "metadata": {},
   "outputs": [],
   "source": [
    "del data.mol['AAAA'].ff_correction\n",
    "del data.mol['CAAU'].ff_correction"
   ]
  },
  {
   "cell_type": "raw",
   "metadata": {},
   "source": [
    "with open('DATA_test/data_complete_stride2.pkl', 'wb') as f:\n",
    "    pickle.dump(vars(data), f)"
   ]
  },
  {
   "cell_type": "code",
   "execution_count": 57,
   "metadata": {},
   "outputs": [],
   "source": [
    "def my_forward_model(a, b, c=None):\n",
    "    try:\n",
    "        out = infos['global']['forward_model'](a, b, c)\n",
    "    except:\n",
    "        assert c is None, 'you have selected_obs but the forward model is not suitably defined!'\n",
    "        out = infos['global']['forward_model'](a, b)\n",
    "    return out\n",
    "\n",
    "data.mol['AAAA'].forward_model = my_forward_model  # info['forward_model']\n",
    "data.mol['CAAU'].forward_model = my_forward_model  # info['forward_model']"
   ]
  },
  {
   "cell_type": "code",
   "execution_count": 27,
   "metadata": {},
   "outputs": [],
   "source": [
    "with open('DATA_test/data_complete_stride2.pkl', 'rb') as f:\n",
    "    loaded_data = pickle.load(f)"
   ]
  },
  {
   "cell_type": "code",
   "execution_count": 73,
   "metadata": {},
   "outputs": [
    {
     "data": {
      "text/plain": [
       "['__class__',\n",
       " '__delattr__',\n",
       " '__dict__',\n",
       " '__dir__',\n",
       " '__doc__',\n",
       " '__eq__',\n",
       " '__format__',\n",
       " '__ge__',\n",
       " '__getattribute__',\n",
       " '__gt__',\n",
       " '__hash__',\n",
       " '__init__',\n",
       " '__init_subclass__',\n",
       " '__le__',\n",
       " '__lt__',\n",
       " '__module__',\n",
       " '__ne__',\n",
       " '__new__',\n",
       " '__reduce__',\n",
       " '__reduce_ex__',\n",
       " '__repr__',\n",
       " '__setattr__',\n",
       " '__sizeof__',\n",
       " '__slotnames__',\n",
       " '__str__',\n",
       " '__subclasshook__',\n",
       " '__weakref__',\n",
       " 'forward_coeffs_0',\n",
       " 'names_ff_pars',\n",
       " 'system_names',\n",
       " 'tot_n_experiments']"
      ]
     },
     "execution_count": 73,
     "metadata": {},
     "output_type": "execute_result"
    }
   ],
   "source": [
    "dir(loaded_data['_global_'])"
   ]
  },
  {
   "cell_type": "code",
   "execution_count": 69,
   "metadata": {},
   "outputs": [
    {
     "data": {
      "text/plain": [
       "['A_gamma',\n",
       " 'B_gamma',\n",
       " 'C_gamma',\n",
       " 'A_beta',\n",
       " 'B_beta',\n",
       " 'C_beta',\n",
       " 'A_sugar',\n",
       " 'B_sugar',\n",
       " 'C_sugar']"
      ]
     },
     "execution_count": 69,
     "metadata": {},
     "output_type": "execute_result"
    }
   ],
   "source": [
    "list(loaded_data['_global_'].forward_coeffs_0)\n",
    "list(loaded_data['_global_'].forward_coeffs_0.keys())"
   ]
  },
  {
   "cell_type": "code",
   "execution_count": 67,
   "metadata": {},
   "outputs": [],
   "source": [
    "assert (list(loaded_data['properties'].forward_coeffs_0) == list(data.properties.forward_coeffs_0)).all()\n",
    "assert list(loaded_data['properties'].forward_coeffs_0.keys()) == list(data.properties.forward_coeffs_0.keys())"
   ]
  },
  {
   "cell_type": "code",
   "execution_count": 70,
   "metadata": {},
   "outputs": [
    {
     "data": {
      "text/plain": [
       "['sin alpha', 'cos alpha']"
      ]
     },
     "execution_count": 70,
     "metadata": {},
     "output_type": "execute_result"
    }
   ],
   "source": [
    "loaded_data['properties'].names_ff_pars"
   ]
  },
  {
   "cell_type": "markdown",
   "metadata": {},
   "source": [
    "### test on data for alchemical calculations"
   ]
  },
  {
   "cell_type": "code",
   "execution_count": 17,
   "metadata": {},
   "outputs": [],
   "source": [
    "infos = {'global': {'temperature': 2.476, 'path_directory': 'DATA_test'}}\n",
    "\n",
    "cycle_names = ['A1']\n",
    "\n",
    "names = {}\n",
    "for name in cycle_names:\n",
    "    names[name] = []\n",
    "    for string in ['AS','AD','MS','MD']:\n",
    "        names[name].append((name + '_' + string))\n",
    "\n",
    "infos['global']['cycle_names'] = names\n",
    "infos['global']['system_names'] = [s2 for s in list(names.values()) for s2 in s]\n",
    "\n",
    "# force-field correction terms\n",
    "\n",
    "n_charges = 5\n",
    "\n",
    "infos['global']['names_ff_pars'] = ['DQ %i' % (i+1) for i in range(n_charges)] + ['cos eta']\n",
    "\n",
    "columns = []\n",
    "for i in range(n_charges):\n",
    "    columns.append('DQ %i' % (i+1))\n",
    "    columns.append('DQ %i%i' % (i+1,i+1))\n",
    "for i in range(n_charges):\n",
    "    for j in range(i+1,n_charges):\n",
    "        columns.append('DQ %i%i' % (i+1,j+1))\n",
    "columns.append('cos eta')\n",
    "\n",
    "# only methylated (M) systems have a force-field correction\n",
    "\n",
    "for name in infos['global']['system_names']: infos[name] = {}\n",
    "\n",
    "for name in infos['global']['cycle_names'].keys():\n",
    "    for s in ['D','S']:\n",
    "        infos[name + '_M' + s]['ff_terms'] = columns"
   ]
  },
  {
   "cell_type": "code",
   "execution_count": 18,
   "metadata": {},
   "outputs": [],
   "source": [
    "names_charges = ['N6', 'H61', 'N1', 'C10', 'H101/2/3']"
   ]
  },
  {
   "cell_type": "code",
   "execution_count": 19,
   "metadata": {},
   "outputs": [],
   "source": [
    "def ff_correction(phi, ff_terms):\n",
    "\n",
    "    n_charges = 5\n",
    "\n",
    "    phi_vector = []\n",
    "    for i in range(n_charges):\n",
    "        phi_vector.extend([phi[i], phi[i]**2])\n",
    "    for i in range(n_charges):\n",
    "        for j in range(i+1,n_charges):\n",
    "            phi_vector.append(phi[i]*phi[j])\n",
    "    phi_vector.append(-phi[-1])\n",
    "    phi_vector = jnp.array(phi_vector)\n",
    "\n",
    "    correction = jnp.matmul(ff_terms, phi_vector)\n",
    "\n",
    "    return correction"
   ]
  },
  {
   "cell_type": "code",
   "execution_count": 20,
   "metadata": {},
   "outputs": [],
   "source": [
    "for k in infos['global']['system_names']:\n",
    "    if k[-2] == 'M': \n",
    "        infos[k]['ff_correction'] = ff_correction"
   ]
  },
  {
   "cell_type": "code",
   "execution_count": 21,
   "metadata": {},
   "outputs": [
    {
     "name": "stdout",
     "output_type": "stream",
     "text": [
      "loading data from directory...\n",
      "loading  A1_AS\n",
      "loading  A1_AD\n",
      "loading  A1_MS\n",
      "loading  A1_MD\n",
      "done\n"
     ]
    }
   ],
   "source": [
    "data = load_data(infos, stride=2)"
   ]
  },
  {
   "cell_type": "code",
   "execution_count": 22,
   "metadata": {},
   "outputs": [],
   "source": [
    "del data.mol['A1_MS'].ff_correction\n",
    "del data.mol['A1_MD'].ff_correction"
   ]
  },
  {
   "cell_type": "raw",
   "metadata": {},
   "source": [
    "with open('DATA_test/data_alchemical_stride2.pkl', 'wb') as f:\n",
    "    pickle.dump(vars(data), f)"
   ]
  },
  {
   "cell_type": "code",
   "execution_count": 24,
   "metadata": {},
   "outputs": [],
   "source": [
    "with open('DATA_test/data_alchemical_stride2.pkl', 'rb') as f:\n",
    "    loaded_data = pickle.load(f)"
   ]
  },
  {
   "cell_type": "code",
   "execution_count": 25,
   "metadata": {},
   "outputs": [
    {
     "data": {
      "text/plain": [
       "{'properties': <MDRefine.data_loading.datapropertiesclass at 0x7f6aaaf6cd30>,\n",
       " 'mol': {'A1_AS': <MDRefine.data_loading.data_class at 0x7f6aa8619668>,\n",
       "  'A1_AD': <MDRefine.data_loading.data_class at 0x7f6aa8619be0>,\n",
       "  'A1_MS': <MDRefine.data_loading.data_class at 0x7f6aa8619e80>,\n",
       "  'A1_MD': <MDRefine.data_loading.data_class at 0x7f6aa8619e10>},\n",
       " 'cycle': {'A1': <MDRefine.data_loading.data_cycle_class at 0x7f6aa8619c50>}}"
      ]
     },
     "execution_count": 25,
     "metadata": {},
     "output_type": "execute_result"
    }
   ],
   "source": [
    "loaded_data"
   ]
  },
  {
   "cell_type": "code",
   "execution_count": 105,
   "metadata": {},
   "outputs": [
    {
     "data": {
      "text/plain": [
       "{'gexp_DDG': [6.3, 0.5], 'temperature': 2.476}"
      ]
     },
     "execution_count": 105,
     "metadata": {},
     "output_type": "execute_result"
    }
   ],
   "source": [
    "vars(data.cycle['A1'])"
   ]
  },
  {
   "cell_type": "code",
   "execution_count": 104,
   "metadata": {},
   "outputs": [
    {
     "data": {
      "text/plain": [
       "{'A1': <MDRefine.data_loading.data_cycle_class at 0x7f32c0554390>}"
      ]
     },
     "execution_count": 104,
     "metadata": {},
     "output_type": "execute_result"
    }
   ],
   "source": [
    "data.cycle"
   ]
  },
  {
   "cell_type": "code",
   "execution_count": 103,
   "metadata": {},
   "outputs": [
    {
     "data": {
      "text/plain": [
       "[6.3, 0.5]"
      ]
     },
     "execution_count": 103,
     "metadata": {},
     "output_type": "execute_result"
    }
   ],
   "source": [
    "loaded_data['cycle']['A1'].temperature\n",
    "\n",
    "loaded_data['cycle']['A1'].gexp_DDG"
   ]
  },
  {
   "cell_type": "markdown",
   "metadata": {},
   "source": [
    "## test for loss_and_minimizer"
   ]
  },
  {
   "cell_type": "markdown",
   "metadata": {},
   "source": [
    "### compute_new_weights, compute_D_KL and l2_regularization"
   ]
  },
  {
   "cell_type": "code",
   "execution_count": 4,
   "metadata": {},
   "outputs": [],
   "source": [
    "from MDRefine import compute_new_weights, compute_D_KL, l2_regularization"
   ]
  },
  {
   "cell_type": "code",
   "execution_count": 5,
   "metadata": {},
   "outputs": [
    {
     "name": "stderr",
     "output_type": "stream",
     "text": [
      "WARNING:absl:No GPU/TPU found, falling back to CPU. (Set TF_CPP_MIN_LOG_LEVEL=0 and rerun for more info.)\n"
     ]
    },
    {
     "name": "stdout",
     "output_type": "stream",
     "text": [
      "[0.73105858 0.26894142] -0.3798854930417225\n"
     ]
    }
   ],
   "source": [
    "w0 = np.array([0.5, 0.5])\n",
    "correction = np.array([0, 1])\n",
    "\n",
    "w, logZ = compute_new_weights(w0, correction)\n",
    "\n",
    "print(w, logZ)"
   ]
  },
  {
   "cell_type": "code",
   "execution_count": 6,
   "metadata": {},
   "outputs": [
    {
     "data": {
      "text/plain": [
       "DeviceArray(0.31265014, dtype=float64)"
      ]
     },
     "execution_count": 6,
     "metadata": {},
     "output_type": "execute_result"
    }
   ],
   "source": [
    "compute_D_KL(weights_P=w, correction_ff=1/2*correction, temperature=2, logZ_P=logZ)"
   ]
  },
  {
   "cell_type": "code",
   "execution_count": 7,
   "metadata": {},
   "outputs": [
    {
     "data": {
      "text/plain": [
       "(DeviceArray(3.69, dtype=float64), array([2.4, 3. ]))"
      ]
     },
     "execution_count": 7,
     "metadata": {},
     "output_type": "execute_result"
    }
   ],
   "source": [
    "pars = np.array([1.2, 1.5])\n",
    "\n",
    "l2_regularization(pars)"
   ]
  },
  {
   "cell_type": "markdown",
   "metadata": {},
   "source": [
    "### test for compute_DeltaDeltaG_terms"
   ]
  },
  {
   "cell_type": "code",
   "execution_count": 18,
   "metadata": {},
   "outputs": [],
   "source": [
    "from MDRefine import load_data"
   ]
  },
  {
   "cell_type": "code",
   "execution_count": 20,
   "metadata": {},
   "outputs": [],
   "source": [
    "infos = {'global': {'temperature': 2.476, 'path_directory': 'DATA_test'}}\n",
    "\n",
    "cycle_names = ['A1']\n",
    "\n",
    "names = {}\n",
    "for name in cycle_names:\n",
    "    names[name] = []\n",
    "    for string in ['AS','AD','MS','MD']:\n",
    "        names[name].append((name + '_' + string))\n",
    "\n",
    "infos['global']['cycle_names'] = names\n",
    "infos['global']['system_names'] = [s2 for s in list(names.values()) for s2 in s]\n",
    "\n",
    "# force-field correction terms\n",
    "\n",
    "n_charges = 5\n",
    "\n",
    "infos['global']['names_ff_pars'] = ['DQ %i' % (i+1) for i in range(n_charges)] + ['cos eta']\n",
    "\n",
    "columns = []\n",
    "for i in range(n_charges):\n",
    "    columns.append('DQ %i' % (i+1))\n",
    "    columns.append('DQ %i%i' % (i+1,i+1))\n",
    "for i in range(n_charges):\n",
    "    for j in range(i+1,n_charges):\n",
    "        columns.append('DQ %i%i' % (i+1,j+1))\n",
    "columns.append('cos eta')\n",
    "\n",
    "# only methylated (M) systems have a force-field correction\n",
    "\n",
    "for name in infos['global']['system_names']: infos[name] = {}\n",
    "\n",
    "for name in infos['global']['cycle_names'].keys():\n",
    "    for s in ['D', 'S']:\n",
    "        infos[name + '_M' + s]['ff_terms'] = columns\n",
    "\n",
    "names_charges = ['N6', 'H61', 'N1', 'C10', 'H101/2/3']\n",
    "\n",
    "def ff_correction(phi, ff_terms):\n",
    "\n",
    "    n_charges = 5\n",
    "\n",
    "    phi_vector = []\n",
    "    for i in range(n_charges):\n",
    "        phi_vector.extend([phi[i], phi[i]**2])\n",
    "    for i in range(n_charges):\n",
    "        for j in range(i+1,n_charges):\n",
    "            phi_vector.append(phi[i]*phi[j])\n",
    "    phi_vector.append(-phi[-1])\n",
    "    phi_vector = jnp.array(phi_vector)\n",
    "\n",
    "    correction = jnp.matmul(ff_terms, phi_vector)\n",
    "\n",
    "    return correction\n",
    "\n",
    "for k in infos['global']['system_names']:\n",
    "    if k[-2] == 'M': \n",
    "        infos[k]['ff_correction'] = ff_correction"
   ]
  },
  {
   "cell_type": "code",
   "execution_count": 22,
   "metadata": {},
   "outputs": [
    {
     "name": "stdout",
     "output_type": "stream",
     "text": [
      "loading data from directory...\n",
      "loading  A1_AS\n",
      "loading  A1_AD\n",
      "loading  A1_MS\n",
      "loading  A1_MD\n",
      "done\n"
     ]
    }
   ],
   "source": [
    "data = load_data(infos)"
   ]
  },
  {
   "cell_type": "code",
   "execution_count": 23,
   "metadata": {},
   "outputs": [],
   "source": [
    "from MDRefine import compute_DeltaDeltaG_terms"
   ]
  },
  {
   "cell_type": "code",
   "execution_count": 27,
   "metadata": {},
   "outputs": [],
   "source": [
    "out2 = compute_DeltaDeltaG_terms(data, logZ_P={'A1_MS': 1., 'A1_MD': 1.5})"
   ]
  },
  {
   "cell_type": "code",
   "execution_count": 30,
   "metadata": {},
   "outputs": [],
   "source": [
    "out = ({'A1_MS': 255.7655459570046, 'A1_MD': 256.2379948027602},\n",
    " {'A1': 135.84140982133923},\n",
    " 67.92070491066961)"
   ]
  },
  {
   "cell_type": "code",
   "execution_count": 28,
   "metadata": {},
   "outputs": [],
   "source": [
    "assert out2 == out"
   ]
  },
  {
   "cell_type": "code",
   "execution_count": null,
   "metadata": {},
   "outputs": [],
   "source": [
    "assert out2[0].keys() == out[0].keys()\n",
    "\n",
    "for k in out2[0].keys():\n",
    "    assert out2[0][k]"
   ]
  },
  {
   "cell_type": "markdown",
   "metadata": {},
   "source": [
    "### load the data before the following steps"
   ]
  },
  {
   "cell_type": "code",
   "execution_count": 8,
   "metadata": {},
   "outputs": [
    {
     "name": "stdout",
     "output_type": "stream",
     "text": [
      "loading data from directory...\n",
      "loading  AAAA\n",
      "loading  CAAU\n",
      "done\n"
     ]
    }
   ],
   "source": [
    "infos = {'global': {\n",
    "    'path_directory': 'DATA_test',\n",
    "    'system_names': ['AAAA', 'CAAU'],\n",
    "    'g_exp': ['backbone1_gamma_3J', 'backbone2_beta_epsilon_3J', 'sugar_3J', 'NOEs' , ('uNOEs', '<')],\n",
    "    'forward_qs': ['backbone1_gamma', 'backbone2_beta_epsilon','sugar'],\n",
    "    'obs': ['NOEs', 'uNOEs'],\n",
    "    'forward_coeffs': 'original_fm_coeffs'}}\n",
    "\n",
    "def forward_model_fun(fm_coeffs, forward_qs, selected_obs=None):\n",
    "\n",
    "    # 1. compute the cosine (which is the quantity you need in the forward model;\n",
    "    # you could do this just once before loading data)\n",
    "    forward_qs_cos = {}\n",
    "\n",
    "    for type_name in forward_qs.keys():\n",
    "        forward_qs_cos[type_name] = jnp.cos(forward_qs[type_name])\n",
    "\n",
    "    # if you have selected_obs, compute only the corresponding observables\n",
    "    if selected_obs is not None:\n",
    "        for type_name in forward_qs.keys():\n",
    "            forward_qs_cos[type_name] = forward_qs_cos[type_name][:,selected_obs[type_name+'_3J']]\n",
    "\n",
    "    # 2. compute observables (forward_qs_out) through forward model\n",
    "    forward_qs_out = {\n",
    "        'backbone1_gamma_3J': fm_coeffs[0]*forward_qs_cos['backbone1_gamma']**2 + fm_coeffs[1]*forward_qs_cos['backbone1_gamma'] + fm_coeffs[2],\n",
    "        'backbone2_beta_epsilon_3J': fm_coeffs[3]*forward_qs_cos['backbone2_beta_epsilon']**2 + fm_coeffs[4]*forward_qs_cos['backbone2_beta_epsilon'] + fm_coeffs[5],\n",
    "        'sugar_3J': fm_coeffs[6]*forward_qs_cos['sugar']**2 + fm_coeffs[7]*forward_qs_cos['sugar'] + fm_coeffs[8] }\n",
    "\n",
    "    return forward_qs_out\n",
    "\n",
    "infos['global']['forward_model'] = forward_model_fun\n",
    "infos['global']['names_ff_pars'] = ['sin alpha', 'cos alpha']\n",
    "\n",
    "def ff_correction(pars, f):\n",
    "    out = jnp.matmul(pars, (f[:, [0, 6]] + f[:, [1, 7]] + f[:, [2, 8]]).T)\n",
    "    return out\n",
    "\n",
    "infos['global']['ff_correction'] = ff_correction\n",
    "\n",
    "data = load_data(infos)"
   ]
  },
  {
   "cell_type": "markdown",
   "metadata": {},
   "source": [
    "### test for compute_chi2"
   ]
  },
  {
   "cell_type": "code",
   "execution_count": 9,
   "metadata": {},
   "outputs": [],
   "source": [
    "from MDRefine import compute_chi2"
   ]
  },
  {
   "cell_type": "code",
   "execution_count": 10,
   "metadata": {},
   "outputs": [],
   "source": [
    "out = compute_chi2(data.mol['AAAA'].ref, data.mol['AAAA'].weights, data.mol['AAAA'].g, data.mol['AAAA'].gexp)"
   ]
  },
  {
   "cell_type": "code",
   "execution_count": 42,
   "metadata": {},
   "outputs": [
    {
     "data": {
      "text/plain": [
       "({'backbone1_gamma_3J': DeviceArray([2.2820567 , 2.37008063], dtype=float64),\n",
       "  'backbone2_beta_epsilon_3J': DeviceArray([6.39268088, 3.86126331], dtype=float64),\n",
       "  'sugar_3J': DeviceArray([3.71089481, 4.77456358], dtype=float64),\n",
       "  'NOEs': DeviceArray([1.87342536e-03, 4.30196379e-05], dtype=float64),\n",
       "  'uNOEs': DeviceArray([1.33028693e-05, 5.82998086e-06], dtype=float64)},\n",
       " {'backbone1_gamma_3J': DeviceArray(1.08493846, dtype=float64),\n",
       "  'backbone2_beta_epsilon_3J': DeviceArray(1.88280674, dtype=float64),\n",
       "  'sugar_3J': DeviceArray(2.14070494, dtype=float64),\n",
       "  'NOEs': DeviceArray(6.1036602, dtype=float64),\n",
       "  'uNOEs': DeviceArray(0., dtype=float64)},\n",
       " {'backbone1_gamma_3J': DeviceArray([-1.0119622 ,  0.24672042], dtype=float64),\n",
       "  'backbone2_beta_epsilon_3J': DeviceArray([-1.37154608,  0.0408422 ], dtype=float64),\n",
       "  'sugar_3J': DeviceArray([1.14059654, 0.91637572], dtype=float64),\n",
       "  'NOEs': DeviceArray([ 2.40941428, -0.54624448], dtype=float64),\n",
       "  'uNOEs': DeviceArray([0., 0.], dtype=float64)},\n",
       " DeviceArray(11.21211034, dtype=float64))"
      ]
     },
     "execution_count": 42,
     "metadata": {},
     "output_type": "execute_result"
    }
   ],
   "source": [
    "out"
   ]
  },
  {
   "cell_type": "code",
   "execution_count": 43,
   "metadata": {},
   "outputs": [],
   "source": [
    "out_test = ({'backbone1_gamma_3J': np.array([2.2820567 , 2.37008063]),\n",
    "  'backbone2_beta_epsilon_3J': np.array([6.39268088, 3.86126331]),\n",
    "  'sugar_3J': np.array([3.71089481, 4.77456358]),\n",
    "  'NOEs': np.array([1.87342536e-03, 4.30196379e-05]),\n",
    "  'uNOEs': np.array([1.33028693e-05, 5.82998086e-06])},\n",
    " {'backbone1_gamma_3J': np.array(1.08493846),\n",
    "  'backbone2_beta_epsilon_3J': np.array(1.88280674),\n",
    "  'sugar_3J': np.array(2.14070494),\n",
    "  'NOEs': np.array(6.1036602),\n",
    "  'uNOEs': np.array(0.)},\n",
    " {'backbone1_gamma_3J': np.array([-1.0119622 ,  0.24672042]),\n",
    "  'backbone2_beta_epsilon_3J': np.array([-1.37154608,  0.0408422 ]),\n",
    "  'sugar_3J': np.array([1.14059654, 0.91637572]),\n",
    "  'NOEs': np.array([ 2.40941428, -0.54624448]),\n",
    "  'uNOEs': np.array([0., 0.])},\n",
    " np.array(11.21211034))"
   ]
  },
  {
   "cell_type": "markdown",
   "metadata": {},
   "source": [
    "### test for gamma_function"
   ]
  },
  {
   "cell_type": "code",
   "execution_count": 9,
   "metadata": {},
   "outputs": [],
   "source": [
    "from MDRefine import gamma_function"
   ]
  },
  {
   "cell_type": "code",
   "execution_count": 28,
   "metadata": {},
   "outputs": [],
   "source": [
    "flatten_g = np.hstack([data.mol['AAAA'].g[k] for k in data.mol['AAAA'].n_experiments.keys()])\n",
    "flatten_gexp = np.vstack([data.mol['AAAA'].gexp[k] for k in data.mol['AAAA'].n_experiments.keys()])\n"
   ]
  },
  {
   "cell_type": "code",
   "execution_count": 50,
   "metadata": {},
   "outputs": [
    {
     "data": {
      "text/plain": [
       "(10, 2)"
      ]
     },
     "execution_count": 50,
     "metadata": {},
     "output_type": "execute_result"
    }
   ],
   "source": [
    "flatten_gexp.shape"
   ]
  },
  {
   "cell_type": "code",
   "execution_count": 31,
   "metadata": {},
   "outputs": [],
   "source": [
    "lambdas = np.array([0.02276649, 0.92055914, 0.54435632, 0.28184011, 0.75414035,\n",
    "       0.75551687, 0.47772936, 0.8749338, 0.7059772 , 0.96640172])"
   ]
  },
  {
   "cell_type": "code",
   "execution_count": 32,
   "metadata": {},
   "outputs": [],
   "source": [
    "alpha = 1.5\n",
    "\n",
    "out = gamma_function(lambdas, flatten_g, flatten_gexp, data.mol['AAAA'].weights, alpha, True)"
   ]
  },
  {
   "cell_type": "code",
   "execution_count": 33,
   "metadata": {},
   "outputs": [
    {
     "data": {
      "text/plain": [
       "DeviceArray(6.27214047, dtype=float64)"
      ]
     },
     "execution_count": 33,
     "metadata": {},
     "output_type": "execute_result"
    }
   ],
   "source": [
    "out[0]"
   ]
  },
  {
   "cell_type": "code",
   "execution_count": 63,
   "metadata": {},
   "outputs": [
    {
     "data": {
      "text/plain": [
       "(DeviceArray(6.27231308, dtype=float64),\n",
       " array([ 3.34791024e-01,  3.63254555e+00,  6.39012045e+00,  1.29484769e+00,\n",
       "         4.05246153e+00,  1.92475534e+00, -8.35131574e-06,  5.11595544e-05,\n",
       "         1.48046374e-04,  7.04939569e-05]),\n",
       " DeviceArray([3.54204586e+00, 1.47434153e+00, 3.89708214e+00,\n",
       "              3.45636268e+00, 4.92762134e-01, 4.02511408e+00,\n",
       "              7.82813097e-04, 3.06092488e-05, 1.01479652e-05,\n",
       "              1.75379015e-06], dtype=float64))"
      ]
     },
     "execution_count": 63,
     "metadata": {},
     "output_type": "execute_result"
    }
   ],
   "source": [
    "out"
   ]
  },
  {
   "cell_type": "code",
   "execution_count": null,
   "metadata": {},
   "outputs": [],
   "source": [
    "out_test = ((6.27231308),\n",
    " np.array([ 3.34791024e-01,  3.63254555e+00,  6.39012045e+00,  1.29484769e+00,\n",
    "         4.05246153e+00,  1.92475534e+00, -8.35131574e-06,  5.11595544e-05,\n",
    "         1.48046374e-04,  7.04939569e-05]),\n",
    " np.array([3.54204586e+00, 1.47434153e+00, 3.89708214e+00,\n",
    "              3.45636268e+00, 4.92762134e-01, 4.02511408e+00,\n",
    "              7.82813097e-04, 3.06092488e-05, 1.01479652e-05,\n",
    "              1.75379015e-06]))"
   ]
  },
  {
   "cell_type": "markdown",
   "metadata": {},
   "source": [
    "### test for loss_function"
   ]
  },
  {
   "cell_type": "code",
   "execution_count": 6,
   "metadata": {},
   "outputs": [],
   "source": [
    "from MDRefine import loss_function, minimizer"
   ]
  },
  {
   "cell_type": "code",
   "execution_count": 7,
   "metadata": {},
   "outputs": [],
   "source": [
    "alpha = 1.5"
   ]
  },
  {
   "cell_type": "code",
   "execution_count": 8,
   "metadata": {},
   "outputs": [],
   "source": [
    "beta = +np.infty\n",
    "gamma = +np.infty\n",
    "\n",
    "pars_ff_fm = np.zeros([])\n",
    "\n",
    "regularization = None"
   ]
  },
  {
   "cell_type": "code",
   "execution_count": 8,
   "metadata": {},
   "outputs": [],
   "source": [
    "my_list = []\n",
    "for k in data.properties.system_names:\n",
    "    my_list = my_list + list(data.mol[k].ref.values())\n",
    "\n",
    "if ('>' in my_list) or ('<' in my_list) or ('><' in my_list):\n",
    "\n",
    "    bounds = {}\n",
    "\n",
    "    for name_sys in data.properties.system_names:\n",
    "        bounds[name_sys] = []\n",
    "        for name_type in data.mol[name_sys].n_experiments.keys():\n",
    "            if name_type in data.mol[name_sys].ref.keys():\n",
    "                if data.mol[name_sys].ref[name_type] == '=':\n",
    "                    bounds[name_sys] = bounds[name_sys] + [(-np.inf, +np.inf)]*data.mol[name_sys].g[name_type].shape[1]\n",
    "                elif data.mol[name_sys].ref[name_type] == '<':\n",
    "                    bounds[name_sys] = bounds[name_sys] + [(0, +np.inf)]*data.mol[name_sys].g[name_type].shape[1]\n",
    "                elif data.mol[name_sys].ref[name_type] == '>':\n",
    "                    bounds[name_sys] = bounds[name_sys] + [(-np.inf, 0)]*data.mol[name_sys].g[name_type].shape[1]\n",
    "            elif data.mol[name_sys].ref[name_type[:-6]] == '><':\n",
    "                bounds[name_sys] = bounds[name_sys] + [(-np.inf, 0)]*data.mol[name_sys].g[name_type].shape[1]\n",
    "                # bounds = bounds + [[0,+np.inf]]*data.g[name_sys][name_type+' LOWER'].shape[1]\n",
    "else:\n",
    "    bounds = None"
   ]
  },
  {
   "cell_type": "code",
   "execution_count": 27,
   "metadata": {},
   "outputs": [
    {
     "data": {
      "text/plain": [
       "{'backbone1_gamma_3J': array([[3.8, 1.5],\n",
       "        [2. , 1.5]]),\n",
       " 'backbone2_beta_epsilon_3J': array([[8.45, 1.5 ],\n",
       "        [3.8 , 1.5 ]]),\n",
       " 'sugar_3J': array([[2. , 1.5],\n",
       "        [3.4, 1.5]]),\n",
       " 'NOEs': array([[7.74312661e-04, 4.56174227e-04],\n",
       "        [8.17622013e-05, 7.09253186e-05]])}"
      ]
     },
     "execution_count": 27,
     "metadata": {},
     "output_type": "execute_result"
    }
   ],
   "source": [
    "data.mol['AAAA'].gexp"
   ]
  },
  {
   "cell_type": "code",
   "execution_count": 21,
   "metadata": {},
   "outputs": [
    {
     "data": {
      "text/plain": [
       "{'backbone1_gamma_3J': array([[3.8, 1.5],\n",
       "        [2. , 1.5]]),\n",
       " 'backbone2_beta_epsilon_3J': array([[8.45, 1.5 ],\n",
       "        [3.8 , 1.5 ]]),\n",
       " 'sugar_3J': array([[2. , 1.5],\n",
       "        [3.4, 1.5]]),\n",
       " 'NOEs': array([[7.74312661e-04, 4.56174227e-04],\n",
       "        [8.17622013e-05, 7.09253186e-05]])}"
      ]
     },
     "execution_count": 21,
     "metadata": {},
     "output_type": "execute_result"
    }
   ],
   "source": [
    "data.mol['AAAA'].gexp"
   ]
  },
  {
   "cell_type": "code",
   "execution_count": 8,
   "metadata": {},
   "outputs": [
    {
     "ename": "AssertionError",
     "evalue": "",
     "output_type": "error",
     "traceback": [
      "\u001b[0;31m---------------------------------------------------------------------------\u001b[0m",
      "\u001b[0;31mAssertionError\u001b[0m                            Traceback (most recent call last)",
      "\u001b[0;32m<ipython-input-8-68c871b2fda1>\u001b[0m in \u001b[0;36m<module>\u001b[0;34m\u001b[0m\n\u001b[1;32m      3\u001b[0m \u001b[0mout_test\u001b[0m \u001b[0;34m=\u001b[0m \u001b[0;36m0.9795744972945789\u001b[0m\u001b[0;34m\u001b[0m\u001b[0;34m\u001b[0m\u001b[0m\n\u001b[1;32m      4\u001b[0m \u001b[0;34m\u001b[0m\u001b[0m\n\u001b[0;32m----> 5\u001b[0;31m \u001b[0;32massert\u001b[0m \u001b[0mout\u001b[0m \u001b[0;34m==\u001b[0m \u001b[0mout_test\u001b[0m\u001b[0;34m\u001b[0m\u001b[0;34m\u001b[0m\u001b[0m\n\u001b[0m",
      "\u001b[0;31mAssertionError\u001b[0m: "
     ]
    }
   ],
   "source": [
    "out = loss_function(pars_ff_fm, data, regularization, alpha)\n",
    "\n",
    "out_test = 0.9795744972945789\n",
    "\n",
    "assert out == out_test"
   ]
  },
  {
   "cell_type": "code",
   "execution_count": 26,
   "metadata": {},
   "outputs": [
    {
     "ename": "NameError",
     "evalue": "name 'lambdas' is not defined",
     "output_type": "error",
     "traceback": [
      "\u001b[0;31m---------------------------------------------------------------------------\u001b[0m",
      "\u001b[0;31mNameError\u001b[0m                                 Traceback (most recent call last)",
      "\u001b[0;32m<ipython-input-26-2dddf4ce0e22>\u001b[0m in \u001b[0;36m<module>\u001b[0;34m\u001b[0m\n\u001b[0;32m----> 1\u001b[0;31m \u001b[0mlambdas\u001b[0m\u001b[0;34m\u001b[0m\u001b[0;34m\u001b[0m\u001b[0m\n\u001b[0m",
      "\u001b[0;31mNameError\u001b[0m: name 'lambdas' is not defined"
     ]
    }
   ],
   "source": [
    "lambdas"
   ]
  },
  {
   "cell_type": "code",
   "execution_count": 19,
   "metadata": {},
   "outputs": [
    {
     "data": {
      "text/plain": [
       "{'loss': 1.2945948672167045,\n",
       " 'minis': {'AAAA':       fun: -0.6537553044397795\n",
       "   hess_inv: array([[1, 0, 0, 0, 0, 0, 0, 0],\n",
       "         [0, 1, 0, 0, 0, 0, 0, 0],\n",
       "         [0, 0, 1, 0, 0, 0, 0, 0],\n",
       "         [0, 0, 0, 1, 0, 0, 0, 0],\n",
       "         [0, 0, 0, 0, 1, 0, 0, 0],\n",
       "         [0, 0, 0, 0, 0, 1, 0, 0],\n",
       "         [0, 0, 0, 0, 0, 0, 1, 0],\n",
       "         [0, 0, 0, 0, 0, 0, 0, 1]])\n",
       "        jac: array([ 1.40092771e-04, -1.47990682e-04,  1.81891425e-04, -1.30458846e-04,\n",
       "         -2.28204309e-04, -4.49754484e-04, -3.88718328e-08,  5.60720698e-09])\n",
       "    message: 'Optimization terminated successfully.'\n",
       "       nfev: 3\n",
       "        nit: 1\n",
       "       njev: 3\n",
       "     status: 0\n",
       "    success: True\n",
       "          x: array([-1.43841397e-01, -3.74331000e-03, -1.41605966e-01, -3.06426301e-02,\n",
       "         -1.62745831e-02,  2.46488051e-01,  3.89578404e+02, -3.17660021e+03]),\n",
       "  'CAAU':       fun: -0.2093079403713568\n",
       "   hess_inv: array([[ 9.73604194e-01,  2.97885537e-01, -2.14022936e-02,\n",
       "           7.84921513e-03, -1.49685433e-02, -4.01655480e-02,\n",
       "          -1.30488736e-05, -3.36802473e-06],\n",
       "         [ 2.97885537e-01,  1.70865190e-01,  2.85032736e-02,\n",
       "          -4.72270749e-03, -3.68917427e-02, -1.13774473e-01,\n",
       "           4.13021589e-06,  1.65424488e-06],\n",
       "         [-2.14022936e-02,  2.85032736e-02,  1.00056538e+00,\n",
       "          -6.89390396e-04,  5.17536488e-03,  1.51305732e-02,\n",
       "           1.45906394e-06,  3.27120477e-07],\n",
       "         [ 7.84921513e-03, -4.72270749e-03, -6.89390396e-04,\n",
       "           1.00044259e+00, -2.36376820e-03, -6.83221677e-03,\n",
       "          -8.58982197e-07, -2.02234347e-07],\n",
       "         [-1.49685433e-02, -3.68917427e-02,  5.17536488e-03,\n",
       "          -2.36376820e-03,  1.00823772e+00,  2.33057911e-02,\n",
       "           4.23202556e-06,  1.04452034e-06],\n",
       "         [-4.01655480e-02, -1.13774473e-01,  1.51305732e-02,\n",
       "          -6.83221677e-03,  2.33057911e-02,  1.06584681e+00,\n",
       "           1.21913165e-05,  3.01498228e-06],\n",
       "         [-1.30488736e-05,  4.13021589e-06,  1.45906394e-06,\n",
       "          -8.58982197e-07,  4.23202556e-06,  1.21913165e-05,\n",
       "           1.00000000e+00,  3.89617588e-10],\n",
       "         [-3.36802473e-06,  1.65424488e-06,  3.27120477e-07,\n",
       "          -2.02234347e-07,  1.04452034e-06,  3.01498228e-06,\n",
       "           3.89617588e-10,  1.00000000e+00]])\n",
       "        jac: array([ 1.15317560e-04,  3.15828411e-05,  3.15541791e-05, -3.09350928e-05,\n",
       "         -1.49588695e-04,  1.61926324e-04,  1.64939417e-07,  4.02947076e-08])\n",
       "    message: 'Optimization terminated successfully.'\n",
       "       nfev: 5\n",
       "        nit: 2\n",
       "       njev: 5\n",
       "     status: 0\n",
       "    success: True\n",
       "          x: array([ 1.15509088e-01,  2.75697311e-03, -2.53448330e-02, -3.82860314e-02,\n",
       "          1.81193118e-01,  1.82766624e-02,  1.78067840e+02, -1.66502940e+03])},\n",
       " 'loss_explicit': DeviceArray(1.29459558, dtype=float64),\n",
       " 'D_KL_alpha': {'AAAA': DeviceArray(0.41848158, dtype=float64),\n",
       "  'CAAU': DeviceArray(0.12147595, dtype=float64)},\n",
       " 'abs_difference': {'AAAA': DeviceArray(8.3641795e-08, dtype=float64),\n",
       "  'CAAU': DeviceArray(6.33082126e-07, dtype=float64)},\n",
       " 'av_g': {'AAAA': {'backbone1_gamma_3J': DeviceArray([3.31439519, 1.98751432], dtype=float64),\n",
       "   'backbone2_beta_epsilon_3J': DeviceArray([7.97189797, 3.69671158], dtype=float64),\n",
       "   'sugar_3J': DeviceArray([1.94530149, 4.23234693], dtype=float64),\n",
       "   'NOEs': DeviceArray([8.95955467e-04, 5.77872357e-05], dtype=float64)},\n",
       "  'CAAU': {'backbone1_gamma_3J': DeviceArray([1.98972785, 3.7592732 ], dtype=float64),\n",
       "   'backbone2_beta_epsilon_3J': DeviceArray([3.61442963, 2.07081558], dtype=float64),\n",
       "   'sugar_3J': DeviceArray([1.61167636, 4.56152181], dtype=float64),\n",
       "   'NOEs': DeviceArray([4.75269377e-04, 3.09158582e-05], dtype=float64)}},\n",
       " 'chi2': {'AAAA': {'backbone1_gamma_3J': DeviceArray(0.10487463, dtype=float64),\n",
       "   'backbone2_beta_epsilon_3J': DeviceArray(0.10633335, dtype=float64),\n",
       "   'sugar_3J': DeviceArray(0.30924148, dtype=float64),\n",
       "   'NOEs': DeviceArray(0.18537188, dtype=float64)},\n",
       "  'CAAU': {'backbone1_gamma_3J': DeviceArray(0.06754391, dtype=float64),\n",
       "   'backbone2_beta_epsilon_3J': DeviceArray(0.01067151, dtype=float64),\n",
       "   'sugar_3J': DeviceArray(0.16797018, dtype=float64),\n",
       "   'NOEs': DeviceArray(0.01731164, dtype=float64)}},\n",
       " 'logZ_new': {'AAAA': DeviceArray(0.13080889, dtype=float64),\n",
       "  'CAAU': DeviceArray(-0.59932983, dtype=float64)},\n",
       " 'weights_new': {'AAAA': DeviceArray([0.0306843 , 0.01325828, 0.01296891, 0.01852905, 0.00364938,\n",
       "               0.00475017, 0.01908495, 0.00313066, 0.00111008, 0.00434616,\n",
       "               0.0032584 , 0.00687479, 0.01273916, 0.00476691, 0.00707024,\n",
       "               0.00366616, 0.00097953, 0.02264996, 0.00850588, 0.00334175,\n",
       "               0.00184505, 0.01444248, 0.00527953, 0.00091039, 0.00391197,\n",
       "               0.01845774, 0.03593407, 0.00653706, 0.00864696, 0.00145769,\n",
       "               0.00771519, 0.01700804, 0.00367936, 0.00410264, 0.0083188 ,\n",
       "               0.00149141, 0.02270208, 0.00164153, 0.0032575 , 0.01566601,\n",
       "               0.01831602, 0.00318674, 0.00734537, 0.01830259, 0.00584928,\n",
       "               0.00476812, 0.03634148, 0.01975675, 0.00173305, 0.02089117,\n",
       "               0.00444472, 0.02897185, 0.02147169, 0.01055934, 0.04552492,\n",
       "               0.01058131, 0.00119512, 0.00573232, 0.00174418, 0.00929291,\n",
       "               0.00932715, 0.00116041, 0.00989629, 0.02299248, 0.00673607,\n",
       "               0.01425075, 0.00484183, 0.00733822, 0.0105084 , 0.00402145,\n",
       "               0.01780147, 0.01222803, 0.00101605, 0.02547519, 0.00406601,\n",
       "               0.01525556, 0.00553564, 0.00720119, 0.03829533, 0.00296145,\n",
       "               0.0037254 , 0.00067443, 0.00261944, 0.0039885 , 0.00513298,\n",
       "               0.00523342, 0.00096601, 0.00735929, 0.00110587, 0.00884588,\n",
       "               0.00083285, 0.0481661 , 0.00932829, 0.00719933, 0.00130176,\n",
       "               0.00241875, 0.00407975, 0.00483299, 0.00187666, 0.00414385,\n",
       "               0.0090258 , 0.00185454], dtype=float64),\n",
       "  'CAAU': DeviceArray([0.01381589, 0.0130404 , 0.0136319 , 0.00211988, 0.01204588,\n",
       "               0.00209158, 0.00168282, 0.01627996, 0.01265392, 0.01678301,\n",
       "               0.00690817, 0.00821708, 0.01508616, 0.01367641, 0.01841528,\n",
       "               0.01250876, 0.00147149, 0.00953256, 0.01255528, 0.01425229,\n",
       "               0.00516778, 0.00841885, 0.00753429, 0.00106639, 0.00643854,\n",
       "               0.01342352, 0.00723891, 0.00243948, 0.0061829 , 0.01013332,\n",
       "               0.01812319, 0.01205079, 0.01089264, 0.01901607, 0.00706178,\n",
       "               0.00757198, 0.01198124, 0.01212807, 0.00776516, 0.0201791 ,\n",
       "               0.01148731, 0.01791802, 0.01366905, 0.00383808, 0.00686234,\n",
       "               0.00597804, 0.008861  , 0.00893364, 0.01123571, 0.01601294,\n",
       "               0.00732257, 0.00567572, 0.02019506, 0.01082281, 0.01166265,\n",
       "               0.00210406, 0.00929346, 0.0047948 , 0.01257266, 0.00720656,\n",
       "               0.0140777 , 0.01096763, 0.01353207, 0.01317682, 0.00755389,\n",
       "               0.00848922, 0.01782065, 0.00576579, 0.01881181, 0.00298739,\n",
       "               0.00923557, 0.01308446, 0.00184076, 0.01045068, 0.01209994,\n",
       "               0.00985989, 0.01603189, 0.01467418, 0.00896656, 0.00409619,\n",
       "               0.00643433, 0.01663645, 0.01037753, 0.00719635, 0.00411425,\n",
       "               0.00963521, 0.00774019, 0.00734077, 0.01050188, 0.00777558,\n",
       "               0.00176424, 0.00946839, 0.01196244, 0.00849893, 0.0081038 ,\n",
       "               0.01398998, 0.00692715, 0.00268048, 0.00800085, 0.00715339,\n",
       "               0.01214555], dtype=float64)}}"
      ]
     },
     "execution_count": 19,
     "metadata": {},
     "output_type": "execute_result"
    }
   ],
   "source": [
    "out = loss_function(None, data, regularization, alpha, if_save=True)  # , bounds=bounds)\n",
    "\n",
    "vars(out)"
   ]
  },
  {
   "cell_type": "code",
   "execution_count": 10,
   "metadata": {},
   "outputs": [
    {
     "name": "stdout",
     "output_type": "stream",
     "text": [
      "0.9795742646405314 3.071400229762583\n"
     ]
    }
   ],
   "source": [
    "print(out.loss, out.loss_explicit)"
   ]
  },
  {
   "cell_type": "code",
   "execution_count": 14,
   "metadata": {},
   "outputs": [
    {
     "data": {
      "text/plain": [
       "dict_keys(['loss', 'minis', 'loss_explicit', 'D_KL_alpha', 'abs_difference', 'av_g', 'chi2', 'logZ_new', 'weights_new'])"
      ]
     },
     "execution_count": 14,
     "metadata": {},
     "output_type": "execute_result"
    }
   ],
   "source": [
    "vars(out).keys()"
   ]
  },
  {
   "cell_type": "code",
   "execution_count": 16,
   "metadata": {},
   "outputs": [
    {
     "data": {
      "text/plain": [
       "array([-1.45173008e-01, -1.80978387e-02, -1.29233238e-01, -5.89017852e-03,\n",
       "        4.91468556e-02,  2.67252544e-01,  3.04451660e-03, -1.29453418e-04])"
      ]
     },
     "execution_count": 16,
     "metadata": {},
     "output_type": "execute_result"
    }
   ],
   "source": [
    "out.minis['AAAA'].x"
   ]
  },
  {
   "cell_type": "code",
   "execution_count": 29,
   "metadata": {},
   "outputs": [
    {
     "data": {
      "text/plain": [
       "array([ 0.29539736,  0.0079259 ,  4.77419326,  0.31817716,  0.13310911,\n",
       "       -4.40441813,  1.02989413, -0.23891025])"
      ]
     },
     "execution_count": 29,
     "metadata": {},
     "output_type": "execute_result"
    }
   ],
   "source": [
    "my_lambdas = out.minis['AAAA'].x\n",
    "\n",
    "my_lambdas"
   ]
  },
  {
   "cell_type": "code",
   "execution_count": 30,
   "metadata": {},
   "outputs": [
    {
     "ename": "TypeError",
     "evalue": "dot_general requires contracting dimensions to have the same shape, got [8] and [0].",
     "output_type": "error",
     "traceback": [
      "\u001b[0;31m---------------------------------------------------------------------------\u001b[0m",
      "\u001b[0;31mTypeError\u001b[0m                                 Traceback (most recent call last)",
      "\u001b[0;32m<ipython-input-30-d2b70513aa8d>\u001b[0m in \u001b[0;36m<module>\u001b[0;34m\u001b[0m\n\u001b[0;32m----> 1\u001b[0;31m \u001b[0mout\u001b[0m \u001b[0;34m=\u001b[0m \u001b[0mloss_function\u001b[0m\u001b[0;34m(\u001b[0m\u001b[0;32mNone\u001b[0m\u001b[0;34m,\u001b[0m \u001b[0mdata\u001b[0m\u001b[0;34m,\u001b[0m \u001b[0mregularization\u001b[0m\u001b[0;34m,\u001b[0m \u001b[0malpha\u001b[0m\u001b[0;34m,\u001b[0m \u001b[0mif_save\u001b[0m\u001b[0;34m=\u001b[0m\u001b[0;32mTrue\u001b[0m\u001b[0;34m,\u001b[0m \u001b[0mfixed_lambdas\u001b[0m\u001b[0;34m=\u001b[0m\u001b[0mmy_lambdas\u001b[0m\u001b[0;34m)\u001b[0m\u001b[0;34m\u001b[0m\u001b[0;34m\u001b[0m\u001b[0m\n\u001b[0m\u001b[1;32m      2\u001b[0m \u001b[0;34m\u001b[0m\u001b[0m\n\u001b[1;32m      3\u001b[0m \u001b[0mvars\u001b[0m\u001b[0;34m(\u001b[0m\u001b[0mout\u001b[0m\u001b[0;34m)\u001b[0m\u001b[0;34m\u001b[0m\u001b[0;34m\u001b[0m\u001b[0m\n",
      "\u001b[0;32m~/3_alphabetagamma/MDRefine/MDRefine/loss_and_minimizer.py\u001b[0m in \u001b[0;36mloss_function\u001b[0;34m(pars_ff_fm, data, regularization, alpha, beta, gamma, fixed_lambdas, gtol_inn, if_save, bounds)\u001b[0m\n\u001b[1;32m    659\u001b[0m             \u001b[0;32mfor\u001b[0m \u001b[0mname_mol\u001b[0m \u001b[0;32min\u001b[0m \u001b[0msystem_names\u001b[0m\u001b[0;34m:\u001b[0m\u001b[0;34m\u001b[0m\u001b[0;34m\u001b[0m\u001b[0m\n\u001b[1;32m    660\u001b[0m                 \u001b[0margs\u001b[0m \u001b[0;34m=\u001b[0m \u001b[0;34m(\u001b[0m\u001b[0mx0\u001b[0m\u001b[0;34m[\u001b[0m\u001b[0mname_mol\u001b[0m\u001b[0;34m]\u001b[0m\u001b[0;34m,\u001b[0m \u001b[0mflatten_g\u001b[0m\u001b[0;34m[\u001b[0m\u001b[0mname_mol\u001b[0m\u001b[0;34m]\u001b[0m\u001b[0;34m,\u001b[0m \u001b[0mflatten_gexp\u001b[0m\u001b[0;34m[\u001b[0m\u001b[0mname_mol\u001b[0m\u001b[0;34m]\u001b[0m\u001b[0;34m,\u001b[0m \u001b[0mweights_P\u001b[0m\u001b[0;34m[\u001b[0m\u001b[0mname_mol\u001b[0m\u001b[0;34m]\u001b[0m\u001b[0;34m,\u001b[0m \u001b[0malpha\u001b[0m\u001b[0;34m)\u001b[0m\u001b[0;34m\u001b[0m\u001b[0;34m\u001b[0m\u001b[0m\n\u001b[0;32m--> 661\u001b[0;31m                 \u001b[0mgamma_value\u001b[0m \u001b[0;34m+=\u001b[0m \u001b[0mgamma_function\u001b[0m\u001b[0;34m(\u001b[0m\u001b[0;34m*\u001b[0m\u001b[0margs\u001b[0m\u001b[0;34m)\u001b[0m\u001b[0;34m\u001b[0m\u001b[0;34m\u001b[0m\u001b[0m\n\u001b[0m\u001b[1;32m    662\u001b[0m         \u001b[0;32melse\u001b[0m\u001b[0;34m:\u001b[0m\u001b[0;34m\u001b[0m\u001b[0;34m\u001b[0m\u001b[0m\n\u001b[1;32m    663\u001b[0m \u001b[0;34m\u001b[0m\u001b[0m\n",
      "\u001b[0;32m~/3_alphabetagamma/MDRefine/MDRefine/loss_and_minimizer.py\u001b[0m in \u001b[0;36mgamma_function\u001b[0;34m(lambdas, g, gexp, weights, alpha, if_gradient)\u001b[0m\n\u001b[1;32m     96\u001b[0m         \u001b[0mIf\u001b[0m \u001b[0mtrue\u001b[0m\u001b[0;34m,\u001b[0m \u001b[0;32mreturn\u001b[0m \u001b[0malso\u001b[0m \u001b[0mthe\u001b[0m \u001b[0mgradient\u001b[0m \u001b[0mof\u001b[0m \u001b[0mthe\u001b[0m \u001b[0mgamma\u001b[0m \u001b[0mfunction\u001b[0m\u001b[0;34m.\u001b[0m\u001b[0;34m\u001b[0m\u001b[0;34m\u001b[0m\u001b[0m\n\u001b[1;32m     97\u001b[0m     \"\"\"\n\u001b[0;32m---> 98\u001b[0;31m     \u001b[0mcorrection_lambdas\u001b[0m \u001b[0;34m=\u001b[0m \u001b[0mnp\u001b[0m\u001b[0;34m.\u001b[0m\u001b[0mmatmul\u001b[0m\u001b[0;34m(\u001b[0m\u001b[0mg\u001b[0m\u001b[0;34m,\u001b[0m \u001b[0mlambdas\u001b[0m\u001b[0;34m)\u001b[0m\u001b[0;34m\u001b[0m\u001b[0;34m\u001b[0m\u001b[0m\n\u001b[0m\u001b[1;32m     99\u001b[0m     \u001b[0mnewweights\u001b[0m\u001b[0;34m,\u001b[0m \u001b[0mlogZlambda\u001b[0m \u001b[0;34m=\u001b[0m \u001b[0mcompute_new_weights\u001b[0m\u001b[0;34m(\u001b[0m\u001b[0mweights\u001b[0m\u001b[0;34m,\u001b[0m \u001b[0mcorrection_lambdas\u001b[0m\u001b[0;34m)\u001b[0m\u001b[0;34m\u001b[0m\u001b[0;34m\u001b[0m\u001b[0m\n\u001b[1;32m    100\u001b[0m \u001b[0;34m\u001b[0m\u001b[0m\n",
      "\u001b[0;32m~/.local/lib/python3.6/site-packages/jax/_src/numpy/lax_numpy.py\u001b[0m in \u001b[0;36mmatmul\u001b[0;34m(a, b, precision)\u001b[0m\n\u001b[1;32m   4219\u001b[0m   out = lax.dot_general(\n\u001b[1;32m   4220\u001b[0m     \u001b[0ma\u001b[0m\u001b[0;34m,\u001b[0m \u001b[0mb\u001b[0m\u001b[0;34m,\u001b[0m \u001b[0;34m(\u001b[0m\u001b[0;34m(\u001b[0m\u001b[0;34m(\u001b[0m\u001b[0mndim\u001b[0m\u001b[0;34m(\u001b[0m\u001b[0ma\u001b[0m\u001b[0;34m)\u001b[0m \u001b[0;34m-\u001b[0m \u001b[0;36m1\u001b[0m\u001b[0;34m,\u001b[0m\u001b[0;34m)\u001b[0m\u001b[0;34m,\u001b[0m \u001b[0;34m(\u001b[0m\u001b[0mndim\u001b[0m\u001b[0;34m(\u001b[0m\u001b[0mb\u001b[0m\u001b[0;34m)\u001b[0m \u001b[0;34m-\u001b[0m \u001b[0;36m1\u001b[0m \u001b[0;34m-\u001b[0m \u001b[0mb_is_mat\u001b[0m\u001b[0;34m,\u001b[0m\u001b[0;34m)\u001b[0m\u001b[0;34m)\u001b[0m\u001b[0;34m,\u001b[0m \u001b[0;34m(\u001b[0m\u001b[0ma_batch\u001b[0m\u001b[0;34m,\u001b[0m \u001b[0mb_batch\u001b[0m\u001b[0;34m)\u001b[0m\u001b[0;34m)\u001b[0m\u001b[0;34m,\u001b[0m\u001b[0;34m\u001b[0m\u001b[0;34m\u001b[0m\u001b[0m\n\u001b[0;32m-> 4221\u001b[0;31m     precision=precision)\n\u001b[0m\u001b[1;32m   4222\u001b[0m   \u001b[0;32mreturn\u001b[0m \u001b[0mlax\u001b[0m\u001b[0;34m.\u001b[0m\u001b[0mtranspose\u001b[0m\u001b[0;34m(\u001b[0m\u001b[0mout\u001b[0m\u001b[0;34m,\u001b[0m \u001b[0mperm\u001b[0m\u001b[0;34m)\u001b[0m\u001b[0;34m\u001b[0m\u001b[0;34m\u001b[0m\u001b[0m\n\u001b[1;32m   4223\u001b[0m \u001b[0;34m\u001b[0m\u001b[0m\n",
      "\u001b[0;32m~/.local/lib/python3.6/site-packages/jax/_src/lax/lax.py\u001b[0m in \u001b[0;36mdot_general\u001b[0;34m(lhs, rhs, dimension_numbers, precision, preferred_element_type)\u001b[0m\n\u001b[1;32m    700\u001b[0m                             \u001b[0mdimension_numbers\u001b[0m\u001b[0;34m=\u001b[0m\u001b[0;34m(\u001b[0m\u001b[0mcontract_dims\u001b[0m\u001b[0;34m,\u001b[0m \u001b[0mbatch_dims\u001b[0m\u001b[0;34m)\u001b[0m\u001b[0;34m,\u001b[0m\u001b[0;34m\u001b[0m\u001b[0;34m\u001b[0m\u001b[0m\n\u001b[1;32m    701\u001b[0m                             \u001b[0mprecision\u001b[0m\u001b[0;34m=\u001b[0m\u001b[0m_canonicalize_precision\u001b[0m\u001b[0;34m(\u001b[0m\u001b[0mprecision\u001b[0m\u001b[0;34m)\u001b[0m\u001b[0;34m,\u001b[0m\u001b[0;34m\u001b[0m\u001b[0;34m\u001b[0m\u001b[0m\n\u001b[0;32m--> 702\u001b[0;31m                             preferred_element_type=preferred_element_type)\n\u001b[0m\u001b[1;32m    703\u001b[0m \u001b[0;34m\u001b[0m\u001b[0m\n\u001b[1;32m    704\u001b[0m \u001b[0;32mdef\u001b[0m \u001b[0mbroadcast\u001b[0m\u001b[0;34m(\u001b[0m\u001b[0moperand\u001b[0m\u001b[0;34m:\u001b[0m \u001b[0mArray\u001b[0m\u001b[0;34m,\u001b[0m \u001b[0msizes\u001b[0m\u001b[0;34m:\u001b[0m \u001b[0mSequence\u001b[0m\u001b[0;34m[\u001b[0m\u001b[0mint\u001b[0m\u001b[0;34m]\u001b[0m\u001b[0;34m)\u001b[0m \u001b[0;34m->\u001b[0m \u001b[0mArray\u001b[0m\u001b[0;34m:\u001b[0m\u001b[0;34m\u001b[0m\u001b[0;34m\u001b[0m\u001b[0m\n",
      "\u001b[0;32m~/.local/lib/python3.6/site-packages/jax/core.py\u001b[0m in \u001b[0;36mbind\u001b[0;34m(self, *args, **params)\u001b[0m\n\u001b[1;32m    262\u001b[0m         args, used_axis_names(self, params) if self._dispatch_on_params else None)\n\u001b[1;32m    263\u001b[0m     \u001b[0mtracers\u001b[0m \u001b[0;34m=\u001b[0m \u001b[0mmap\u001b[0m\u001b[0;34m(\u001b[0m\u001b[0mtop_trace\u001b[0m\u001b[0;34m.\u001b[0m\u001b[0mfull_raise\u001b[0m\u001b[0;34m,\u001b[0m \u001b[0margs\u001b[0m\u001b[0;34m)\u001b[0m\u001b[0;34m\u001b[0m\u001b[0;34m\u001b[0m\u001b[0m\n\u001b[0;32m--> 264\u001b[0;31m     \u001b[0mout\u001b[0m \u001b[0;34m=\u001b[0m \u001b[0mtop_trace\u001b[0m\u001b[0;34m.\u001b[0m\u001b[0mprocess_primitive\u001b[0m\u001b[0;34m(\u001b[0m\u001b[0mself\u001b[0m\u001b[0;34m,\u001b[0m \u001b[0mtracers\u001b[0m\u001b[0;34m,\u001b[0m \u001b[0mparams\u001b[0m\u001b[0;34m)\u001b[0m\u001b[0;34m\u001b[0m\u001b[0;34m\u001b[0m\u001b[0m\n\u001b[0m\u001b[1;32m    265\u001b[0m     \u001b[0;32mreturn\u001b[0m \u001b[0mmap\u001b[0m\u001b[0;34m(\u001b[0m\u001b[0mfull_lower\u001b[0m\u001b[0;34m,\u001b[0m \u001b[0mout\u001b[0m\u001b[0;34m)\u001b[0m \u001b[0;32mif\u001b[0m \u001b[0mself\u001b[0m\u001b[0;34m.\u001b[0m\u001b[0mmultiple_results\u001b[0m \u001b[0;32melse\u001b[0m \u001b[0mfull_lower\u001b[0m\u001b[0;34m(\u001b[0m\u001b[0mout\u001b[0m\u001b[0;34m)\u001b[0m\u001b[0;34m\u001b[0m\u001b[0;34m\u001b[0m\u001b[0m\n\u001b[1;32m    266\u001b[0m \u001b[0;34m\u001b[0m\u001b[0m\n",
      "\u001b[0;32m~/.local/lib/python3.6/site-packages/jax/core.py\u001b[0m in \u001b[0;36mprocess_primitive\u001b[0;34m(self, primitive, tracers, params)\u001b[0m\n\u001b[1;32m    601\u001b[0m \u001b[0;34m\u001b[0m\u001b[0m\n\u001b[1;32m    602\u001b[0m   \u001b[0;32mdef\u001b[0m \u001b[0mprocess_primitive\u001b[0m\u001b[0;34m(\u001b[0m\u001b[0mself\u001b[0m\u001b[0;34m,\u001b[0m \u001b[0mprimitive\u001b[0m\u001b[0;34m,\u001b[0m \u001b[0mtracers\u001b[0m\u001b[0;34m,\u001b[0m \u001b[0mparams\u001b[0m\u001b[0;34m)\u001b[0m\u001b[0;34m:\u001b[0m\u001b[0;34m\u001b[0m\u001b[0;34m\u001b[0m\u001b[0m\n\u001b[0;32m--> 603\u001b[0;31m     \u001b[0;32mreturn\u001b[0m \u001b[0mprimitive\u001b[0m\u001b[0;34m.\u001b[0m\u001b[0mimpl\u001b[0m\u001b[0;34m(\u001b[0m\u001b[0;34m*\u001b[0m\u001b[0mtracers\u001b[0m\u001b[0;34m,\u001b[0m \u001b[0;34m**\u001b[0m\u001b[0mparams\u001b[0m\u001b[0;34m)\u001b[0m\u001b[0;34m\u001b[0m\u001b[0;34m\u001b[0m\u001b[0m\n\u001b[0m\u001b[1;32m    604\u001b[0m \u001b[0;34m\u001b[0m\u001b[0m\n\u001b[1;32m    605\u001b[0m   \u001b[0;32mdef\u001b[0m \u001b[0mprocess_call\u001b[0m\u001b[0;34m(\u001b[0m\u001b[0mself\u001b[0m\u001b[0;34m,\u001b[0m \u001b[0mprimitive\u001b[0m\u001b[0;34m,\u001b[0m \u001b[0mf\u001b[0m\u001b[0;34m,\u001b[0m \u001b[0mtracers\u001b[0m\u001b[0;34m,\u001b[0m \u001b[0mparams\u001b[0m\u001b[0;34m)\u001b[0m\u001b[0;34m:\u001b[0m\u001b[0;34m\u001b[0m\u001b[0;34m\u001b[0m\u001b[0m\n",
      "\u001b[0;32m~/.local/lib/python3.6/site-packages/jax/interpreters/xla.py\u001b[0m in \u001b[0;36mapply_primitive\u001b[0;34m(prim, *args, **params)\u001b[0m\n\u001b[1;32m    246\u001b[0m \u001b[0;32mdef\u001b[0m \u001b[0mapply_primitive\u001b[0m\u001b[0;34m(\u001b[0m\u001b[0mprim\u001b[0m\u001b[0;34m,\u001b[0m \u001b[0;34m*\u001b[0m\u001b[0margs\u001b[0m\u001b[0;34m,\u001b[0m \u001b[0;34m**\u001b[0m\u001b[0mparams\u001b[0m\u001b[0;34m)\u001b[0m\u001b[0;34m:\u001b[0m\u001b[0;34m\u001b[0m\u001b[0;34m\u001b[0m\u001b[0m\n\u001b[1;32m    247\u001b[0m   \u001b[0;34m\"\"\"Impl rule that compiles and runs a single primitive 'prim' using XLA.\"\"\"\u001b[0m\u001b[0;34m\u001b[0m\u001b[0;34m\u001b[0m\u001b[0m\n\u001b[0;32m--> 248\u001b[0;31m   \u001b[0mcompiled_fun\u001b[0m \u001b[0;34m=\u001b[0m \u001b[0mxla_primitive_callable\u001b[0m\u001b[0;34m(\u001b[0m\u001b[0mprim\u001b[0m\u001b[0;34m,\u001b[0m \u001b[0;34m*\u001b[0m\u001b[0munsafe_map\u001b[0m\u001b[0;34m(\u001b[0m\u001b[0marg_spec\u001b[0m\u001b[0;34m,\u001b[0m \u001b[0margs\u001b[0m\u001b[0;34m)\u001b[0m\u001b[0;34m,\u001b[0m \u001b[0;34m**\u001b[0m\u001b[0mparams\u001b[0m\u001b[0;34m)\u001b[0m\u001b[0;34m\u001b[0m\u001b[0;34m\u001b[0m\u001b[0m\n\u001b[0m\u001b[1;32m    249\u001b[0m   \u001b[0;32mreturn\u001b[0m \u001b[0mcompiled_fun\u001b[0m\u001b[0;34m(\u001b[0m\u001b[0;34m*\u001b[0m\u001b[0margs\u001b[0m\u001b[0;34m)\u001b[0m\u001b[0;34m\u001b[0m\u001b[0;34m\u001b[0m\u001b[0m\n\u001b[1;32m    250\u001b[0m \u001b[0;34m\u001b[0m\u001b[0m\n",
      "\u001b[0;32m~/.local/lib/python3.6/site-packages/jax/_src/util.py\u001b[0m in \u001b[0;36mwrapper\u001b[0;34m(*args, **kwargs)\u001b[0m\n\u001b[1;32m    184\u001b[0m         \u001b[0;32mreturn\u001b[0m \u001b[0mf\u001b[0m\u001b[0;34m(\u001b[0m\u001b[0;34m*\u001b[0m\u001b[0margs\u001b[0m\u001b[0;34m,\u001b[0m \u001b[0;34m**\u001b[0m\u001b[0mkwargs\u001b[0m\u001b[0;34m)\u001b[0m\u001b[0;34m\u001b[0m\u001b[0;34m\u001b[0m\u001b[0m\n\u001b[1;32m    185\u001b[0m       \u001b[0;32melse\u001b[0m\u001b[0;34m:\u001b[0m\u001b[0;34m\u001b[0m\u001b[0;34m\u001b[0m\u001b[0m\n\u001b[0;32m--> 186\u001b[0;31m         \u001b[0;32mreturn\u001b[0m \u001b[0mcached\u001b[0m\u001b[0;34m(\u001b[0m\u001b[0mconfig\u001b[0m\u001b[0;34m.\u001b[0m\u001b[0m_trace_context\u001b[0m\u001b[0;34m(\u001b[0m\u001b[0;34m)\u001b[0m\u001b[0;34m,\u001b[0m \u001b[0;34m*\u001b[0m\u001b[0margs\u001b[0m\u001b[0;34m,\u001b[0m \u001b[0;34m**\u001b[0m\u001b[0mkwargs\u001b[0m\u001b[0;34m)\u001b[0m\u001b[0;34m\u001b[0m\u001b[0;34m\u001b[0m\u001b[0m\n\u001b[0m\u001b[1;32m    187\u001b[0m \u001b[0;34m\u001b[0m\u001b[0m\n\u001b[1;32m    188\u001b[0m     \u001b[0mwrapper\u001b[0m\u001b[0;34m.\u001b[0m\u001b[0mcache_clear\u001b[0m \u001b[0;34m=\u001b[0m \u001b[0mcached\u001b[0m\u001b[0;34m.\u001b[0m\u001b[0mcache_clear\u001b[0m\u001b[0;34m\u001b[0m\u001b[0;34m\u001b[0m\u001b[0m\n",
      "\u001b[0;32m~/.local/lib/python3.6/site-packages/jax/_src/util.py\u001b[0m in \u001b[0;36mcached\u001b[0;34m(_, *args, **kwargs)\u001b[0m\n\u001b[1;32m    177\u001b[0m     \u001b[0;34m@\u001b[0m\u001b[0mfunctools\u001b[0m\u001b[0;34m.\u001b[0m\u001b[0mlru_cache\u001b[0m\u001b[0;34m(\u001b[0m\u001b[0mmax_size\u001b[0m\u001b[0;34m)\u001b[0m\u001b[0;34m\u001b[0m\u001b[0;34m\u001b[0m\u001b[0m\n\u001b[1;32m    178\u001b[0m     \u001b[0;32mdef\u001b[0m \u001b[0mcached\u001b[0m\u001b[0;34m(\u001b[0m\u001b[0m_\u001b[0m\u001b[0;34m,\u001b[0m \u001b[0;34m*\u001b[0m\u001b[0margs\u001b[0m\u001b[0;34m,\u001b[0m \u001b[0;34m**\u001b[0m\u001b[0mkwargs\u001b[0m\u001b[0;34m)\u001b[0m\u001b[0;34m:\u001b[0m\u001b[0;34m\u001b[0m\u001b[0;34m\u001b[0m\u001b[0m\n\u001b[0;32m--> 179\u001b[0;31m       \u001b[0;32mreturn\u001b[0m \u001b[0mf\u001b[0m\u001b[0;34m(\u001b[0m\u001b[0;34m*\u001b[0m\u001b[0margs\u001b[0m\u001b[0;34m,\u001b[0m \u001b[0;34m**\u001b[0m\u001b[0mkwargs\u001b[0m\u001b[0;34m)\u001b[0m\u001b[0;34m\u001b[0m\u001b[0;34m\u001b[0m\u001b[0m\n\u001b[0m\u001b[1;32m    180\u001b[0m \u001b[0;34m\u001b[0m\u001b[0m\n\u001b[1;32m    181\u001b[0m     \u001b[0;34m@\u001b[0m\u001b[0mfunctools\u001b[0m\u001b[0;34m.\u001b[0m\u001b[0mwraps\u001b[0m\u001b[0;34m(\u001b[0m\u001b[0mf\u001b[0m\u001b[0;34m)\u001b[0m\u001b[0;34m\u001b[0m\u001b[0;34m\u001b[0m\u001b[0m\n",
      "\u001b[0;32m~/.local/lib/python3.6/site-packages/jax/interpreters/xla.py\u001b[0m in \u001b[0;36mxla_primitive_callable\u001b[0;34m(prim, *arg_specs, **params)\u001b[0m\n\u001b[1;32m    270\u001b[0m     return _xla_callable(lu.wrap_init(prim_fun), device, None, \"prim\", donated_invars,\n\u001b[1;32m    271\u001b[0m                          *arg_specs)\n\u001b[0;32m--> 272\u001b[0;31m   \u001b[0maval_out\u001b[0m \u001b[0;34m=\u001b[0m \u001b[0mprim\u001b[0m\u001b[0;34m.\u001b[0m\u001b[0mabstract_eval\u001b[0m\u001b[0;34m(\u001b[0m\u001b[0;34m*\u001b[0m\u001b[0mavals\u001b[0m\u001b[0;34m,\u001b[0m \u001b[0;34m**\u001b[0m\u001b[0mparams\u001b[0m\u001b[0;34m)\u001b[0m\u001b[0;34m\u001b[0m\u001b[0;34m\u001b[0m\u001b[0m\n\u001b[0m\u001b[1;32m    273\u001b[0m   \u001b[0;32mif\u001b[0m \u001b[0;32mnot\u001b[0m \u001b[0mprim\u001b[0m\u001b[0;34m.\u001b[0m\u001b[0mmultiple_results\u001b[0m\u001b[0;34m:\u001b[0m\u001b[0;34m\u001b[0m\u001b[0;34m\u001b[0m\u001b[0m\n\u001b[1;32m    274\u001b[0m     \u001b[0mhandle_result\u001b[0m \u001b[0;34m=\u001b[0m \u001b[0maval_to_result_handler\u001b[0m\u001b[0;34m(\u001b[0m\u001b[0mdevice\u001b[0m\u001b[0;34m,\u001b[0m \u001b[0maval_out\u001b[0m\u001b[0;34m)\u001b[0m\u001b[0;34m\u001b[0m\u001b[0;34m\u001b[0m\u001b[0m\n",
      "\u001b[0;32m~/.local/lib/python3.6/site-packages/jax/_src/lax/lax.py\u001b[0m in \u001b[0;36mstandard_abstract_eval\u001b[0;34m(prim, shape_rule, dtype_rule, weak_type_rule, named_shape_rule, *avals, **kwargs)\u001b[0m\n\u001b[1;32m   2123\u001b[0m                          weak_type=weak_type)\n\u001b[1;32m   2124\u001b[0m   \u001b[0;32melif\u001b[0m \u001b[0mleast_specialized\u001b[0m \u001b[0;32mis\u001b[0m \u001b[0mShapedArray\u001b[0m\u001b[0;34m:\u001b[0m\u001b[0;34m\u001b[0m\u001b[0;34m\u001b[0m\u001b[0m\n\u001b[0;32m-> 2125\u001b[0;31m     return ShapedArray(shape_rule(*avals, **kwargs), dtype_rule(*avals, **kwargs),\n\u001b[0m\u001b[1;32m   2126\u001b[0m                        \u001b[0mweak_type\u001b[0m\u001b[0;34m=\u001b[0m\u001b[0mweak_type\u001b[0m\u001b[0;34m,\u001b[0m\u001b[0;34m\u001b[0m\u001b[0;34m\u001b[0m\u001b[0m\n\u001b[1;32m   2127\u001b[0m                        named_shape=named_shape_rule(*avals, **kwargs))\n",
      "\u001b[0;32m~/.local/lib/python3.6/site-packages/jax/_src/lax/lax.py\u001b[0m in \u001b[0;36m_dot_general_shape_rule\u001b[0;34m(lhs, rhs, dimension_numbers, precision, preferred_element_type)\u001b[0m\n\u001b[1;32m   3395\u001b[0m     msg = (\"dot_general requires contracting dimensions to have the same \"\n\u001b[1;32m   3396\u001b[0m            \"shape, got {} and {}.\")\n\u001b[0;32m-> 3397\u001b[0;31m     \u001b[0;32mraise\u001b[0m \u001b[0mTypeError\u001b[0m\u001b[0;34m(\u001b[0m\u001b[0mmsg\u001b[0m\u001b[0;34m.\u001b[0m\u001b[0mformat\u001b[0m\u001b[0;34m(\u001b[0m\u001b[0mlhs_contracting_shape\u001b[0m\u001b[0;34m,\u001b[0m \u001b[0mrhs_contracting_shape\u001b[0m\u001b[0;34m)\u001b[0m\u001b[0;34m)\u001b[0m\u001b[0;34m\u001b[0m\u001b[0;34m\u001b[0m\u001b[0m\n\u001b[0m\u001b[1;32m   3398\u001b[0m \u001b[0;34m\u001b[0m\u001b[0m\n\u001b[1;32m   3399\u001b[0m   \u001b[0;32mreturn\u001b[0m \u001b[0m_dot_general_shape_computation\u001b[0m\u001b[0;34m(\u001b[0m\u001b[0mlhs\u001b[0m\u001b[0;34m.\u001b[0m\u001b[0mshape\u001b[0m\u001b[0;34m,\u001b[0m \u001b[0mrhs\u001b[0m\u001b[0;34m.\u001b[0m\u001b[0mshape\u001b[0m\u001b[0;34m,\u001b[0m \u001b[0mdimension_numbers\u001b[0m\u001b[0;34m)\u001b[0m\u001b[0;34m\u001b[0m\u001b[0;34m\u001b[0m\u001b[0m\n",
      "\u001b[0;31mTypeError\u001b[0m: dot_general requires contracting dimensions to have the same shape, got [8] and [0]."
     ]
    }
   ],
   "source": [
    "out = loss_function(None, data, regularization, alpha, if_save=True, fixed_lambdas=my_lambdas)\n",
    "\n",
    "vars(out)"
   ]
  },
  {
   "cell_type": "code",
   "execution_count": 27,
   "metadata": {},
   "outputs": [],
   "source": [
    "my_lambdas = out.min_lambdas"
   ]
  },
  {
   "cell_type": "code",
   "execution_count": 28,
   "metadata": {},
   "outputs": [
    {
     "name": "stdout",
     "output_type": "stream",
     "text": [
      "{'AAAA': DeviceArray(8.3641795e-08, dtype=float64), 'CAAU': DeviceArray(6.33082126e-07, dtype=float64)}\n"
     ]
    }
   ],
   "source": [
    "print(out.abs_difference)"
   ]
  },
  {
   "cell_type": "code",
   "execution_count": 23,
   "metadata": {},
   "outputs": [
    {
     "name": "stdout",
     "output_type": "stream",
     "text": [
      "1.2945948672167045 1.294595583940625\n"
     ]
    }
   ],
   "source": [
    "print(out.loss, out.loss_explicit)"
   ]
  },
  {
   "cell_type": "code",
   "execution_count": 17,
   "metadata": {},
   "outputs": [
    {
     "data": {
      "text/plain": [
       "{'temperature': 1.0,\n",
       " 'gexp': {'backbone1_gamma_3J': array([[3.8, 1.5],\n",
       "         [2. , 1.5]]),\n",
       "  'backbone2_beta_epsilon_3J': array([[8.45, 1.5 ],\n",
       "         [3.8 , 1.5 ]]),\n",
       "  'sugar_3J': array([[2. , 1.5],\n",
       "         [3.4, 1.5]]),\n",
       "  'NOEs': array([[7.74312661e-04, 4.56174227e-04],\n",
       "         [8.17622013e-05, 7.09253186e-05]])},\n",
       " 'names': {'backbone1_gamma_3J': array([['0-1H5H4'],\n",
       "         ['0-2H5H4']], dtype='<U7'),\n",
       "  'backbone2_beta_epsilon_3J': array([['0-H3P'],\n",
       "         ['1-1H5P']], dtype='<U6'),\n",
       "  'sugar_3J': array([['0-H1H2'],\n",
       "         ['0-H2H3']], dtype='<U6'),\n",
       "  'NOEs': array([[\"A1-H1'\", 'A1-H8'],\n",
       "         [\"A1-H1'\", 'A2-H8']], dtype='<U7')},\n",
       " 'ref': {'backbone1_gamma_3J': '=',\n",
       "  'backbone2_beta_epsilon_3J': '=',\n",
       "  'sugar_3J': '=',\n",
       "  'NOEs': '='},\n",
       " 'g': {'NOEs': memmap([[3.78438242e-04, 6.64434046e-05],\n",
       "          [8.24084855e-04, 5.37090818e-05],\n",
       "          [4.24279075e-04, 8.45648974e-05],\n",
       "          [5.57313382e-04, 6.57341152e-05],\n",
       "          [3.65299667e-04, 3.69220197e-06],\n",
       "          [2.89047486e-03, 1.00485659e-05],\n",
       "          [4.10240405e-04, 8.74714679e-05],\n",
       "          [3.12228408e-03, 1.53735527e-05],\n",
       "          [4.78437869e-03, 1.16904630e-05],\n",
       "          [2.48920987e-04, 1.28376223e-06],\n",
       "          [2.85325595e-03, 1.08458007e-05],\n",
       "          [7.43237499e-04, 2.90249372e-05],\n",
       "          [2.33285697e-04, 8.33210288e-05],\n",
       "          [2.73841806e-03, 2.61733912e-05],\n",
       "          [2.84928305e-04, 3.56526252e-05],\n",
       "          [3.84235731e-03, 7.05284356e-06],\n",
       "          [4.18393919e-03, 1.12825473e-05],\n",
       "          [3.08533956e-04, 1.89376922e-04],\n",
       "          [4.29437321e-04, 7.07995641e-05],\n",
       "          [3.73830041e-03, 9.66604966e-06],\n",
       "          [2.35516788e-03, 7.87666431e-06],\n",
       "          [3.77996534e-04, 9.22315303e-06],\n",
       "          [4.05285833e-03, 1.90017236e-05],\n",
       "          [5.74422162e-03, 1.83358970e-05],\n",
       "          [4.20605298e-03, 6.44325155e-07],\n",
       "          [5.43911883e-04, 7.44017088e-05],\n",
       "          [4.44921956e-04, 6.28719499e-05],\n",
       "          [2.76406296e-04, 5.87344402e-06],\n",
       "          [3.04537709e-03, 6.05218884e-05],\n",
       "          [6.98029762e-03, 5.70094755e-07],\n",
       "          [2.36349850e-04, 1.70316453e-05],\n",
       "          [3.62183666e-04, 2.90367170e-05],\n",
       "          [2.97728740e-03, 6.97118185e-06],\n",
       "          [2.80710810e-04, 2.86177601e-06],\n",
       "          [3.93309048e-04, 1.14651164e-04],\n",
       "          [4.63821134e-03, 5.35958407e-06],\n",
       "          [4.13034111e-04, 2.93270059e-05],\n",
       "          [2.37463973e-03, 1.02996055e-05],\n",
       "          [3.01002664e-03, 4.61789605e-05],\n",
       "          [3.32826894e-04, 7.41412805e-05],\n",
       "          [3.73271236e-04, 1.03476132e-05],\n",
       "          [2.70061917e-03, 1.33305468e-04],\n",
       "          [3.52150667e-03, 3.39531252e-05],\n",
       "          [5.86984388e-04, 1.17899588e-04],\n",
       "          [2.83291651e-04, 1.43707512e-05],\n",
       "          [2.89784744e-04, 4.80403560e-06],\n",
       "          [5.65453898e-04, 8.84312904e-05],\n",
       "          [4.63791570e-04, 7.01879762e-05],\n",
       "          [3.21979844e-03, 1.94245622e-05],\n",
       "          [5.44764916e-04, 7.13658810e-05],\n",
       "          [1.59964873e-03, 1.12502603e-05],\n",
       "          [3.95019073e-04, 5.41581103e-05],\n",
       "          [3.01924476e-04, 9.82731290e-05],\n",
       "          [2.85756221e-04, 5.19040477e-05],\n",
       "          [4.41275362e-04, 7.51142725e-05],\n",
       "          [3.57941084e-04, 1.65419624e-05],\n",
       "          [2.88985996e-03, 2.30764854e-05],\n",
       "          [2.43784001e-04, 7.89919068e-06],\n",
       "          [4.85029258e-03, 1.95938737e-05],\n",
       "          [3.72143608e-04, 4.76435307e-05],\n",
       "          [2.95462494e-04, 1.60836644e-05],\n",
       "          [4.58226586e-03, 3.25684414e-05],\n",
       "          [5.22059447e-04, 3.17505692e-05],\n",
       "          [6.52242801e-04, 5.41051850e-05],\n",
       "          [3.13642202e-04, 7.15642773e-06],\n",
       "          [3.22837662e-03, 1.97172594e-05],\n",
       "          [2.52001034e-03, 1.18290118e-05],\n",
       "          [3.32778669e-04, 1.36828976e-05],\n",
       "          [3.54118994e-04, 5.20111280e-05],\n",
       "          [2.49241217e-04, 9.03530054e-06],\n",
       "          [4.31445835e-04, 6.64952240e-05],\n",
       "          [7.44367135e-04, 6.30985014e-05],\n",
       "          [3.84145021e-03, 2.38229968e-05],\n",
       "          [6.94210990e-04, 1.25372157e-04],\n",
       "          [2.57631124e-04, 6.88496721e-06],\n",
       "          [6.36812183e-04, 7.64719443e-05],\n",
       "          [4.24272148e-03, 2.65362396e-05],\n",
       "          [2.19093752e-03, 5.66578547e-06],\n",
       "          [3.66264780e-04, 5.47278578e-05],\n",
       "          [2.62128655e-04, 6.88756791e-06],\n",
       "          [4.08272375e-04, 5.46688534e-06],\n",
       "          [4.32619313e-03, 1.10602814e-05],\n",
       "          [4.42280294e-03, 2.99490671e-06],\n",
       "          [2.73185113e-04, 4.56534281e-06],\n",
       "          [3.84907727e-03, 5.15432330e-04],\n",
       "          [2.92575685e-04, 8.48773834e-06],\n",
       "          [3.17430915e-03, 2.33985102e-05],\n",
       "          [2.83824559e-03, 2.22624454e-04],\n",
       "          [4.50013299e-03, 9.88288739e-05],\n",
       "          [3.01227934e-04, 2.65825838e-05],\n",
       "          [6.48192316e-03, 8.35321844e-05],\n",
       "          [3.06397647e-04, 1.70964995e-05],\n",
       "          [4.92761144e-04, 5.04037598e-05],\n",
       "          [2.78430321e-04, 3.25901988e-06],\n",
       "          [6.98708091e-03, 2.27556629e-05],\n",
       "          [5.46221761e-03, 2.59693206e-05],\n",
       "          [4.78026411e-03, 2.73889273e-05],\n",
       "          [3.27866903e-04, 7.14188673e-06],\n",
       "          [3.10181570e-03, 7.24334404e-06],\n",
       "          [3.32339038e-03, 1.31322267e-05],\n",
       "          [3.55058652e-03, 6.63466562e-05],\n",
       "          [4.19835001e-03, 2.45639785e-06]], dtype=float32),\n",
       "  'backbone1_gamma_3J': DeviceArray([[ 3.60984924,  0.10827896],\n",
       "               [ 0.39625754,  2.8889921 ],\n",
       "               [ 4.68564829, -0.0668063 ],\n",
       "               [ 3.92731697,  0.26623887],\n",
       "               [ 2.18149022,  2.33215215],\n",
       "               [ 1.17294384,  2.871447  ],\n",
       "               [ 2.8221242 ,  0.79801731],\n",
       "               [ 2.45088598,  1.64440008],\n",
       "               [ 0.90226291,  2.06040528],\n",
       "               [-0.08181871, 10.84763535],\n",
       "               [ 1.78803412,  1.3684875 ],\n",
       "               [ 3.79087372,  0.55176352],\n",
       "               [ 2.16919512,  0.9774251 ],\n",
       "               [-0.07240125,  5.64181917],\n",
       "               [ 1.94823192,  2.12177428],\n",
       "               [ 3.05155618,  1.50677599],\n",
       "               [ 1.61208577,  3.20520033],\n",
       "               [ 0.74987004,  3.44336327],\n",
       "               [ 0.30763327,  2.43191018],\n",
       "               [ 3.25875862,  0.66618529],\n",
       "               [ 0.33875943,  3.56448973],\n",
       "               [ 2.98496552,  0.32754127],\n",
       "               [ 1.21485218,  2.28518409],\n",
       "               [ 0.76907392,  2.4235437 ],\n",
       "               [ 5.18290408, -0.08342507],\n",
       "               [ 1.4714827 ,  1.73117861],\n",
       "               [ 3.16826905, 10.36278168],\n",
       "               [ 5.32892943, -0.02721678],\n",
       "               [ 3.26529426,  0.89277006],\n",
       "               [ 4.76308826,  0.45998826],\n",
       "               [-0.05876597,  5.20023698],\n",
       "               [ 0.40009087,  2.28664465],\n",
       "               [ 0.99118039,  1.53917447],\n",
       "               [ 2.02829209,  1.75500774],\n",
       "               [ 1.58080478,  3.39970959],\n",
       "               [ 0.27933409,  3.84208825],\n",
       "               [11.41235008,  0.31745106],\n",
       "               [ 0.51632063,  3.76441162],\n",
       "               [ 0.65104094,  1.35752652],\n",
       "               [ 1.27146997,  1.43877998],\n",
       "               [11.49996967,  1.82751453],\n",
       "               [ 0.14190848,  4.46192098],\n",
       "               [ 1.44961875,  1.50076832],\n",
       "               [ 1.714763  ,  2.15968161],\n",
       "               [ 0.95552003,  2.64446148],\n",
       "               [ 3.97820525,  9.43488268],\n",
       "               [ 4.46439139, -0.06649803],\n",
       "               [ 1.8626286 ,  1.7393456 ],\n",
       "               [ 3.89632025,  0.62950182],\n",
       "               [ 3.24798124,  0.78217012],\n",
       "               [ 4.94149394,  0.09838398],\n",
       "               [ 1.47586691,  0.73317968],\n",
       "               [ 1.28282467,  1.87482989],\n",
       "               [ 2.08829726,  1.30446538],\n",
       "               [ 6.56437166, -0.06419036],\n",
       "               [ 0.87651588,  2.03461972],\n",
       "               [ 1.88598809,  1.88236642],\n",
       "               [ 2.28667774,  1.55995367],\n",
       "               [ 1.54761367,  1.32791681],\n",
       "               [ 2.47655596, 11.24504453],\n",
       "               [ 0.50100557,  1.48392458],\n",
       "               [ 1.62471417,  2.14153459],\n",
       "               [ 1.00352903,  1.58262439],\n",
       "               [ 2.87468566,  1.20753269],\n",
       "               [ 2.7378444 ,  1.60544894],\n",
       "               [ 4.3175021 ,  0.03316857],\n",
       "               [ 1.48133286,  2.05144791],\n",
       "               [ 0.47464533,  2.90761395],\n",
       "               [ 3.6355215 ,  1.47252925],\n",
       "               [ 1.87467388, 11.11801938],\n",
       "               [ 3.02779558,  0.5489673 ],\n",
       "               [ 1.55318229,  1.60863978],\n",
       "               [ 0.58188861,  2.18009625],\n",
       "               [ 2.3060686 ,  0.67608098],\n",
       "               [ 1.93706139,  1.77800376],\n",
       "               [ 0.40182805,  4.13650466],\n",
       "               [ 1.358579  ,  2.54488477],\n",
       "               [ 1.79675394,  1.98470141],\n",
       "               [ 4.317932  ,  0.38029783],\n",
       "               [ 0.09555598, 10.87841498],\n",
       "               [ 0.02035528,  4.43799043],\n",
       "               [ 1.45991536,  1.96278115],\n",
       "               [ 2.56147222,  0.72965033],\n",
       "               [ 1.03531174,  1.85200315],\n",
       "               [ 1.11826191,  3.06745275],\n",
       "               [ 1.83716077,  2.35608408],\n",
       "               [ 1.44280928,  1.96252669],\n",
       "               [ 0.36913461,  1.94627819],\n",
       "               [ 2.00281308,  1.11077935],\n",
       "               [ 0.63204543, 11.4667362 ],\n",
       "               [ 1.47511642,  1.88215936],\n",
       "               [11.5       ,  0.72770228],\n",
       "               [ 0.05197201,  4.4088653 ],\n",
       "               [ 1.3290152 ,  1.36424085],\n",
       "               [ 2.11914516,  1.87140209],\n",
       "               [ 1.6493845 ,  0.890121  ],\n",
       "               [ 3.44265902,  0.45993505],\n",
       "               [ 1.1084669 ,  2.14712704],\n",
       "               [ 1.41463745,  2.21717769],\n",
       "               [ 1.58141009,  1.8044206 ],\n",
       "               [ 7.36332514,  0.57265371],\n",
       "               [ 2.48522464,  0.57605007]], dtype=float64),\n",
       "  'backbone2_beta_epsilon_3J': DeviceArray([[10.75344387,  1.00802486],\n",
       "               [10.74175294,  2.68519703],\n",
       "               [ 5.83050439,  1.15188747],\n",
       "               [ 9.8387731 ,  4.07596579],\n",
       "               [ 1.03152614,  3.80768181],\n",
       "               [ 7.29090051,  1.83033836],\n",
       "               [ 7.33052751,  5.50617052],\n",
       "               [ 7.47271696,  5.6430537 ],\n",
       "               [ 4.62982309,  1.96973386],\n",
       "               [ 2.86326006,  8.96040708],\n",
       "               [ 5.49634135,  1.95823904],\n",
       "               [ 4.11693664,  2.32202068],\n",
       "               [ 8.89421524,  1.00683112],\n",
       "               [10.72532017,  1.16997327],\n",
       "               [ 3.76519287,  2.33779153],\n",
       "               [ 9.6366238 ,  4.5821735 ],\n",
       "               [ 4.40076383,  1.61973894],\n",
       "               [ 6.62371593,  8.96487696],\n",
       "               [ 5.75052431,  1.53485366],\n",
       "               [ 9.55722215,  9.36307521],\n",
       "               [ 3.85001317,  5.4298547 ],\n",
       "               [10.3761003 ,  3.17406639],\n",
       "               [10.72521009,  6.15832631],\n",
       "               [ 5.32080339,  7.45535347],\n",
       "               [ 9.75915101,  1.06944169],\n",
       "               [ 9.08295656,  6.32741012],\n",
       "               [10.77037259,  2.1320095 ],\n",
       "               [ 3.44308484,  3.84726322],\n",
       "               [10.7956667 ,  4.30140952],\n",
       "               [ 9.96845453,  1.65070693],\n",
       "               [ 6.28582408,  3.58439091],\n",
       "               [10.76294706,  8.51581447],\n",
       "               [ 7.3774227 ,  2.33047096],\n",
       "               [ 1.55439783,  2.49459077],\n",
       "               [ 2.75142448,  5.49038954],\n",
       "               [ 6.72735212, 10.48189898],\n",
       "               [ 4.60699011,  3.41023863],\n",
       "               [ 4.78628722,  1.62740323],\n",
       "               [ 7.48020777,  6.10155351],\n",
       "               [ 6.83693624,  2.4933153 ],\n",
       "               [ 1.04081331,  3.32922236],\n",
       "               [ 2.85805056,  4.37224174],\n",
       "               [10.79149258,  5.55746749],\n",
       "               [10.47801796,  2.55244738],\n",
       "               [ 2.95823432,  2.66263137],\n",
       "               [ 1.50895398,  2.56996798],\n",
       "               [ 9.74503129,  1.76235249],\n",
       "               [10.73489529,  4.80692893],\n",
       "               [ 3.53455416,  1.65572764],\n",
       "               [ 8.36205865,  4.1149374 ],\n",
       "               [ 3.4174538 ,  2.23300886],\n",
       "               [10.06428584,  4.76416458],\n",
       "               [ 8.6580165 ,  4.30183062],\n",
       "               [ 2.74185697,  7.49591474],\n",
       "               [ 9.7569011 ,  2.9229168 ],\n",
       "               [ 4.24292279,  1.25450092],\n",
       "               [ 2.83245436,  2.54242136],\n",
       "               [ 3.04731225,  2.41086087],\n",
       "               [ 7.02167175,  6.77374763],\n",
       "               [ 2.19759738,  1.26963952],\n",
       "               [ 4.82694698,  7.61826891],\n",
       "               [ 2.47816044,  3.55548592],\n",
       "               [ 3.83467838,  4.45919194],\n",
       "               [10.29146027,  1.97839868],\n",
       "               [ 2.80163173,  3.40633755],\n",
       "               [10.55062912,  9.25005851],\n",
       "               [ 6.57907297,  7.47073166],\n",
       "               [ 2.20862615,  4.64128197],\n",
       "               [ 7.7998548 ,  4.86924244],\n",
       "               [ 1.3540618 ,  1.19956231],\n",
       "               [ 9.13198164,  5.50049245],\n",
       "               [ 6.99514427,  1.19142098],\n",
       "               [ 6.2368817 ,  2.05161116],\n",
       "               [10.05440102,  4.27528254],\n",
       "               [ 1.21102437,  3.24020461],\n",
       "               [10.33203047,  1.53215591],\n",
       "               [ 8.14457084,  9.6996416 ],\n",
       "               [10.61333666,  1.25260863],\n",
       "               [10.46709338,  3.28476017],\n",
       "               [ 1.44906122,  3.35646646],\n",
       "               [ 3.74271663,  2.15513614],\n",
       "               [ 1.05811705,  1.86397268],\n",
       "               [10.17881382,  3.35183139],\n",
       "               [ 3.82416852,  5.45546852],\n",
       "               [ 2.67937627,  2.69166872],\n",
       "               [ 3.41704211,  3.95091086],\n",
       "               [ 2.06959138,  1.16581044],\n",
       "               [ 7.50202911,  6.60494233],\n",
       "               [ 4.58748904,  1.11064426],\n",
       "               [ 9.68230881,  2.38028575],\n",
       "               [ 5.06021869,  2.16564277],\n",
       "               [10.68782464,  1.68300324],\n",
       "               [ 8.03026187,  6.55518134],\n",
       "               [ 3.7495691 ,  3.50024508],\n",
       "               [ 8.24376067, 10.52926029],\n",
       "               [10.71366262,  5.78480672],\n",
       "               [ 8.10218034,  3.37789958],\n",
       "               [ 1.88136999,  4.74191821],\n",
       "               [ 1.82571227,  3.76938689],\n",
       "               [10.08304016,  4.4447852 ],\n",
       "               [ 9.27649174,  2.77215768],\n",
       "               [ 2.29279366,  1.03382143]], dtype=float64),\n",
       "  'sugar_3J': DeviceArray([[-9.76827342e-02,  3.50344390e+00],\n",
       "               [ 1.98941883e+00,  4.54579984e+00],\n",
       "               [ 2.58943955e+00,  5.15063668e+00],\n",
       "               [ 1.68877949e+00,  5.41951698e+00],\n",
       "               [ 1.49215061e-01,  5.33302588e+00],\n",
       "               [ 1.14216991e+01,  3.86841242e+00],\n",
       "               [ 1.15818559e+00,  3.87710196e+00],\n",
       "               [ 3.58380220e+00,  6.05022700e+00],\n",
       "               [ 1.16517400e+01,  5.12754403e+00],\n",
       "               [ 2.53737197e+00,  5.43613292e+00],\n",
       "               [ 1.12605924e+01,  4.77718827e+00],\n",
       "               [-1.02021323e-01,  4.97626448e+00],\n",
       "               [ 1.84778791e+00,  5.74942318e+00],\n",
       "               [ 1.16649379e+01,  5.52463550e+00],\n",
       "               [ 1.02886968e+01,  5.10679511e+00],\n",
       "               [ 1.03642618e+01,  6.07169559e+00],\n",
       "               [ 1.45059522e+00,  6.16183811e+00],\n",
       "               [ 6.15968929e-01,  3.47535594e+00],\n",
       "               [-1.02353331e-01,  3.98334542e+00],\n",
       "               [ 9.39316491e+00,  7.23848375e+00],\n",
       "               [ 1.10921700e+01,  6.49575160e+00],\n",
       "               [ 1.43248410e+00,  5.61617104e+00],\n",
       "               [ 1.04874662e+01,  4.18288886e+00],\n",
       "               [ 2.37863024e+00,  4.89514821e+00],\n",
       "               [ 2.72419727e+00,  5.49988532e+00],\n",
       "               [-1.05519244e-01,  3.88436946e+00],\n",
       "               [-9.93118237e-02,  2.75898700e+00],\n",
       "               [ 2.30370107e+00,  6.47018635e+00],\n",
       "               [ 1.49898867e+00,  4.70029012e+00],\n",
       "               [ 6.42496145e-02,  4.89934410e+00],\n",
       "               [ 4.87746702e-01,  4.42092331e+00],\n",
       "               [-9.72028715e-02,  4.53976709e+00],\n",
       "               [ 1.15197061e+01,  4.71992281e+00],\n",
       "               [ 2.90261661e+00,  5.20183179e+00],\n",
       "               [ 1.16579107e+01,  4.99873509e+00],\n",
       "               [ 9.69240837e+00,  5.87637102e+00],\n",
       "               [ 1.64230136e+00,  5.63162595e+00],\n",
       "               [ 3.96478572e+00,  6.67161440e+00],\n",
       "               [ 1.90047008e+00,  5.35900265e+00],\n",
       "               [ 3.29968072e-03,  2.99899924e+00],\n",
       "               [ 2.49379386e-01,  4.24410827e+00],\n",
       "               [ 1.54944705e+00,  3.91644373e+00],\n",
       "               [ 3.14048106e-01,  3.29238973e+00],\n",
       "               [ 6.52859794e-01,  4.94182755e+00],\n",
       "               [-1.06140666e-01,  3.92331214e+00],\n",
       "               [ 8.57793165e-01,  5.70544460e+00],\n",
       "               [-5.46020012e-02,  2.81806993e+00],\n",
       "               [-7.82698710e-02,  4.67096324e+00],\n",
       "               [ 3.86646972e+00,  6.43608041e+00],\n",
       "               [ 6.78745484e-01,  3.72633643e+00],\n",
       "               [ 5.20727697e+00,  5.76526559e+00],\n",
       "               [ 1.03287285e+00,  2.46174568e+00],\n",
       "               [-9.51487827e-02,  3.35768164e+00],\n",
       "               [ 4.67791209e-02,  3.13403657e+00],\n",
       "               [ 8.48515199e-02,  3.31448392e+00],\n",
       "               [ 1.16504029e+01,  2.71230506e+00],\n",
       "               [ 2.82925413e+00,  6.99660254e+00],\n",
       "               [ 3.50237430e-01,  4.79465280e+00],\n",
       "               [ 4.31186678e+00,  5.14424230e+00],\n",
       "               [-5.61429437e-02,  2.74494663e+00],\n",
       "               [ 2.40807135e+00,  3.60588886e+00],\n",
       "               [ 9.50629022e-01,  4.21344341e+00],\n",
       "               [ 1.45083560e+00,  2.47812791e+00],\n",
       "               [ 3.82908606e-01,  3.55710369e+00],\n",
       "               [ 1.16898954e-01,  4.25122506e+00],\n",
       "               [ 3.12698147e-01,  2.85538663e+00],\n",
       "               [ 1.04711886e+01,  4.79635668e+00],\n",
       "               [ 1.41528851e+00,  2.55536043e+00],\n",
       "               [ 1.40935682e+00,  6.62165775e+00],\n",
       "               [ 2.62879807e-01,  5.01438422e+00],\n",
       "               [ 4.80636995e-01,  4.96142164e+00],\n",
       "               [ 2.31897480e+00,  3.46032479e+00],\n",
       "               [ 5.49122785e+00,  7.47482357e+00],\n",
       "               [ 2.28139431e+00,  3.92803155e+00],\n",
       "               [ 4.94374183e+00,  5.30384548e+00],\n",
       "               [ 2.52964829e+00,  4.24499783e+00],\n",
       "               [ 1.00552093e+01,  2.80468978e+00],\n",
       "               [ 9.15943746e-01,  4.72339999e+00],\n",
       "               [-8.90870932e-03,  3.01449834e+00],\n",
       "               [ 1.79084066e+00,  5.58936092e+00],\n",
       "               [ 4.43605239e+00,  5.61032042e+00],\n",
       "               [ 2.22964005e+00,  5.50205942e+00],\n",
       "               [ 1.11054551e+00,  5.71564470e+00],\n",
       "               [ 6.37246554e+00,  6.67331122e+00],\n",
       "               [ 1.16954176e+01,  5.99891320e+00],\n",
       "               [ 2.61957402e+00,  5.39799291e+00],\n",
       "               [ 1.10589634e+01,  7.09117736e+00],\n",
       "               [ 1.07026117e+01,  5.09869611e+00],\n",
       "               [ 4.22951337e+00,  6.72186207e+00],\n",
       "               [ 3.82924307e+00,  6.40712846e+00],\n",
       "               [ 4.50990337e-01,  4.39978741e+00],\n",
       "               [ 2.04009607e+00,  5.95320600e+00],\n",
       "               [ 2.77454844e-01,  5.08568682e+00],\n",
       "               [ 5.68771946e-01,  3.74710633e+00],\n",
       "               [ 9.69387290e+00,  4.86079835e+00],\n",
       "               [ 1.07817196e+01,  5.41074612e+00],\n",
       "               [ 1.08662173e+01,  3.63198714e+00],\n",
       "               [ 1.09954678e+00,  4.33513451e+00],\n",
       "               [ 1.09635181e+01,  4.46809310e+00],\n",
       "               [ 1.01581799e+01,  5.84575058e+00],\n",
       "               [ 9.77981368e-01,  5.09223508e+00],\n",
       "               [ 1.02727521e+01,  3.20389854e+00]], dtype=float64)},\n",
       " 'forward_model': <function MDRefine.data_loading.data_class.__init__.<locals>.my_forward_model(a, b, c=None)>,\n",
       " 'forward_qs': {'backbone1_gamma': memmap([[-0.7815259 ,  1.3352288 ],\n",
       "          [-1.2501503 ,  0.86799663],\n",
       "          [-0.6534815 ,  1.4361147 ],\n",
       "          [-0.74393004,  1.284222  ],\n",
       "          [-0.9569612 ,  0.93748224],\n",
       "          [-1.1010194 ,  0.870139  ],\n",
       "          [-0.876175  ,  1.165551  ],\n",
       "          [-0.9223654 ,  1.0299714 ],\n",
       "          [-1.146619  ,  0.9728904 ],\n",
       "          [ 1.4911141 , -2.8910668 ],\n",
       "          [-1.0097938 ,  1.0705048 ],\n",
       "          [-0.7600802 ,  1.2146161 ],\n",
       "          [-0.9585669 ,  1.1334895 ],\n",
       "          [-1.4438381 ,  0.5334574 ],\n",
       "          [-0.9878947 ,  0.9647843 ],\n",
       "          [-0.8482562 ,  1.0498668 ],\n",
       "          [-1.0345902 ,  0.8297551 ],\n",
       "          [-1.1746174 ,  0.8013027 ],\n",
       "          [-1.2728153 ,  0.9247686 ],\n",
       "          [-0.8233356 ,  1.1909367 ],\n",
       "          [-1.2646066 ,  0.7869075 ],\n",
       "          [-0.8563197 ,  1.2675315 ],\n",
       "          [-1.0943317 ,  0.943517  ],\n",
       "          [-1.1709747 ,  0.92582965],\n",
       "          [-0.5923686 ,  1.4749929 ],\n",
       "          [-1.0550683 ,  1.0177147 ],\n",
       "          [ 0.83419013,  2.8083057 ],\n",
       "          [-0.57394403,  1.4010215 ],\n",
       "          [-0.82255316,  1.1483066 ],\n",
       "          [-0.6440977 ,  1.2350323 ],\n",
       "          [-1.4270161 ,  0.5901952 ],\n",
       "          [-1.2492158 ,  0.94332886],\n",
       "          [-1.1311291 ,  1.0451291 ],\n",
       "          [-0.9771603 ,  1.0143847 ],\n",
       "          [-1.0390913 ,  0.80650127],\n",
       "          [-1.2805481 ,  0.75401807],\n",
       "          [ 3.0505416 , -1.2701943 ],\n",
       "          [-1.2223314 ,  0.76321304],\n",
       "          [-1.1939738 ,  1.0721714 ],\n",
       "          [-1.0854301 ,  1.059927  ],\n",
       "          [ 3.1398935 , -1.0043412 ],\n",
       "          [-1.3230442 ,  0.68038976],\n",
       "          [-1.0583124 ,  1.0507492 ],\n",
       "          [-1.0200174 ,  0.9598111 ],\n",
       "          [-1.1372746 ,  0.8980987 ],\n",
       "          [ 0.73790526,  2.6855693 ],\n",
       "          [-0.68009394,  1.43573   ],\n",
       "          [-0.9995231 ,  1.0165718 ],\n",
       "          [-0.74759907,  1.1983414 ],\n",
       "          [-0.8246262 ,  1.1685109 ],\n",
       "          [-0.6223097 ,  1.3390069 ],\n",
       "          [-1.0544198 ,  1.1778129 ],\n",
       "          [-1.0836625 ,  0.99785566],\n",
       "          [-0.96919763,  1.0803093 ],\n",
       "          [-0.40107703,  1.5226172 ],\n",
       "          [-1.1512125 ,  0.97631735],\n",
       "          [-0.9963337 ,  0.9968274 ],\n",
       "          [-0.9433246 ,  1.0421085 ],\n",
       "          [-1.0439006 ,  1.0766982 ],\n",
       "          [ 0.91912174,  2.9859164 ],\n",
       "          [-1.2257288 ,  1.0532297 ],\n",
       "          [-1.0327815 ,  0.9621887 ],\n",
       "          [-1.1290208 ,  1.0388287 ],\n",
       "          [-0.86974335,  1.0954936 ],\n",
       "          [-0.8865378 ,  1.0355427 ],\n",
       "          [-0.69763273,  1.3669304 ],\n",
       "          [-1.0536122 ,  0.9740794 ],\n",
       "          [-1.2316723 ,  0.8657255 ],\n",
       "          [-0.77848184,  1.0549134 ],\n",
       "          [ 0.997877  ,  2.9506776 ],\n",
       "          [-0.85113   ,  1.2152176 ],\n",
       "          [-1.0430913 ,  1.0350846 ],\n",
       "          [-1.2082092 ,  0.9571431 ],\n",
       "          [-0.9408296 ,  1.1889668 ],\n",
       "          [-0.989403  ,  1.0111852 ],\n",
       "          [-1.2487935 ,  0.71914595],\n",
       "          [-1.0720112 ,  0.9105272 ],\n",
       "          [-1.0085862 ,  0.9829887 ],\n",
       "          [-0.6975815 ,  1.2540785 ],\n",
       "          [ 1.3401048 , -2.8971639 ],\n",
       "          [-1.3732547 ,  0.6832528 ],\n",
       "          [-1.0567825 ,  0.9859342 ],\n",
       "          [-0.90844923,  1.1784923 ],\n",
       "          [-1.1236393 ,  1.000978  ],\n",
       "          [-1.1098804 ,  0.84633553],\n",
       "          [-1.0030147 ,  0.9344196 ],\n",
       "          [-1.0593263 ,  0.9859684 ],\n",
       "          [-1.2568634 ,  0.98815835],\n",
       "          [-0.9805624 ,  1.1111054 ],\n",
       "          [ 1.1978226 ,  3.085547  ],\n",
       "          [-1.0545307 ,  0.9968557 ],\n",
       "          [-3.1415923 , -1.1788678 ],\n",
       "          [-1.3582349 ,  0.686734  ],\n",
       "          [-1.0765296 ,  1.07115   ],\n",
       "          [-0.9651302 ,  0.99832374],\n",
       "          [-1.0292616 ,  1.1487788 ],\n",
       "          [-0.8013865 ,  1.2350446 ],\n",
       "          [-1.1114846 ,  0.9614554 ],\n",
       "          [-1.0635389 ,  0.95231473],\n",
       "          [-1.039004  ,  1.007526  ],\n",
       "          [-0.2497401 ,  1.7388903 ],\n",
       "          [-0.91802824,  1.2094406 ]], dtype=float32),\n",
       "  'backbone2_beta_epsilon': memmap([[-0.06169458,  1.3369548 ],\n",
       "          [-0.06902088,  1.0098205 ],\n",
       "          [-0.7048621 ,  1.2644527 ],\n",
       "          [-0.28466865,  0.86543584],\n",
       "          [-1.3179324 ,  0.8913842 ],\n",
       "          [ 0.571705  ,  1.1225041 ],\n",
       "          [-0.56796974,  0.7339624 ],\n",
       "          [-0.5544804 ,  0.7216752 ],\n",
       "          [ 0.81349945,  1.1016332 ],\n",
       "          [ 0.98954797,  0.40010774],\n",
       "          [ 0.7348453 ,  1.1033034 ],\n",
       "          [-0.8615253 ,  1.053899  ],\n",
       "          [-0.40775   ,  1.3382175 ],\n",
       "          [ 0.07817287,  1.4791766 ],\n",
       "          [ 0.89555365,  1.0518931 ],\n",
       "          [ 0.3142875 ,  0.8178993 ],\n",
       "          [-0.834756  ,  1.1572024 ],\n",
       "          [-0.6333528 ,  0.399588  ],\n",
       "          [-0.7120353 ,  1.1726497 ],\n",
       "          [ 0.3252938 ,  0.35100254],\n",
       "          [ 0.8872475 ,  0.74082035],\n",
       "          [-0.18731987,  0.9557506 ],\n",
       "          [ 0.07823075,  0.6754284 ],\n",
       "          [-0.75063354,  0.55613536],\n",
       "          [ 0.29663616,  1.2968903 ],\n",
       "          [-0.38566816,  0.66019666],\n",
       "          [-0.0492032 ,  1.078883  ],\n",
       "          [-0.9277965 ,  0.88751566],\n",
       "          [-0.01880917,  0.8440669 ],\n",
       "          [ 0.26417682,  1.1518053 ],\n",
       "          [-0.6639476 ,  0.9135053 ],\n",
       "          [-0.05503004,  0.44965428],\n",
       "          [ 0.56353617,  1.0528231 ],\n",
       "          [-1.169001  ,  1.0324353 ],\n",
       "          [ 1.0021923 ,  0.73537993],\n",
       "          [ 0.62390286,  0.16198373],\n",
       "          [-0.8156064 ,  0.9311546 ],\n",
       "          [-0.7991232 ,  1.1558557 ],\n",
       "          [-0.5537659 ,  0.6805329 ],\n",
       "          [-0.61386806,  1.0325903 ],\n",
       "          [-1.3120861 ,  0.93950003],\n",
       "          [-0.9901307 ,  0.83742285],\n",
       "          [ 0.02635766,  0.72935605],\n",
       "          [-0.16297948,  1.0254598 ],\n",
       "          [-0.9790241 ,  1.0124451 ],\n",
       "          [-1.1775789 ,  1.0233673 ],\n",
       "          [-0.2987153 ,  1.1332314 ],\n",
       "          [-0.07297891,  0.7972342 ],\n",
       "          [-0.91851777,  1.1509411 ],\n",
       "          [-0.46595007,  0.86171585],\n",
       "          [-0.93041575,  1.0654068 ],\n",
       "          [-0.24808034,  0.8011496 ],\n",
       "          [-0.4342323 ,  0.8440274 ],\n",
       "          [-1.0032876 ,  0.55226606],\n",
       "          [-0.29696837,  0.9829158 ],\n",
       "          [ 0.84957695,  1.5023826 ],\n",
       "          [-0.9930026 ,  1.0266613 ],\n",
       "          [-0.96931654,  1.0427196 ],\n",
       "          [-0.5968368 ,  0.61966   ],\n",
       "          [-1.0700783 ,  1.2301923 ],\n",
       "          [-0.7954037 ,  0.5405183 ],\n",
       "          [-1.0344353 ,  0.9164089 ],\n",
       "          [-0.88874406,  0.8293075 ],\n",
       "          [-0.20546104,  1.1003797 ],\n",
       "          [-0.99648035,  0.9315544 ],\n",
       "          [ 0.14325832,  0.36529523],\n",
       "          [ 0.63741267,  0.55466974],\n",
       "          [-1.0686173 ,  0.81244296],\n",
       "          [-0.5228524 ,  0.79154104],\n",
       "          [-1.209829  ,  1.2494733 ],\n",
       "          [-0.3797775 ,  0.7344724 ],\n",
       "          [-0.59929216,  1.2519039 ],\n",
       "          [-0.66835785,  1.0899701 ],\n",
       "          [-0.24978364,  0.84652567],\n",
       "          [-1.2461276 ,  0.9487783 ],\n",
       "          [ 0.19696133,  1.173158  ],\n",
       "          [ 0.4884146 ,  0.30531704],\n",
       "          [-0.12381654,  1.2346416 ],\n",
       "          [-0.16575132,  0.9441196 ],\n",
       "          [-1.1894326 ,  0.9366835 ],\n",
       "          [-0.8977665 ,  1.075755  ],\n",
       "          [-1.3025024 ,  1.1173384 ],\n",
       "          [ 0.22751126,  1.7654072 ],\n",
       "          [-0.88977104,  0.7385179 ],\n",
       "          [ 1.0104963 ,  1.0090702 ],\n",
       "          [-0.9304579 ,  0.8774539 ],\n",
       "          [ 1.0874608 ,  1.2598786 ],\n",
       "          [ 0.5516818 ,  0.6350609 ],\n",
       "          [-0.8174079 ,  1.2792761 ],\n",
       "          [-0.3078063 ,  1.0465347 ],\n",
       "          [-0.7741744 ,  1.0743425 ],\n",
       "          [ 0.09586724,  1.1462969 ],\n",
       "          [-0.4999796 ,  0.6395829 ],\n",
       "          [-0.89709127,  0.92198586],\n",
       "          [ 0.47824845,  0.14932282],\n",
       "          [ 0.08406948,  0.7089606 ],\n",
       "          [ 0.4927216 ,  0.93447495],\n",
       "          [-1.1147006 ,  0.80318946],\n",
       "          [ 1.1232216 ,  0.8951413 ],\n",
       "          [-0.2448196 ,  0.83064914],\n",
       "          [-0.36199212,  0.9998263 ],\n",
       "          [ 1.0576421 ,  1.3164295 ]], dtype=float32),\n",
       "  'sugar': memmap([[ 1.4960246 ,  0.7727965 ],\n",
       "          [ 1.939706  ,  0.64585567],\n",
       "          [ 2.0076046 ,  0.56926817],\n",
       "          [ 1.9027781 ,  0.5337288 ],\n",
       "          [ 1.6284933 ,  0.5452902 ],\n",
       "          [ 2.9795473 , -0.72860575],\n",
       "          [ 1.830385  ,  0.7275532 ],\n",
       "          [ 2.1092353 ,  0.44434917],\n",
       "          [ 3.0743399 , -0.57226884],\n",
       "          [ 2.0019574 ,  0.5314923 ],\n",
       "          [ 2.9374895 , -0.6169882 ],\n",
       "          [ 1.4438794 ,  0.5917524 ],\n",
       "          [ 1.9226023 ,  0.48825195],\n",
       "          [ 3.0842795 , -0.51949054],\n",
       "          [ 2.7702956 , -0.57495874],\n",
       "          [ 2.780805  , -0.4411046 ],\n",
       "          [ 1.8716317 ,  0.4272936 ],\n",
       "          [ 1.7399814 ,  0.77620196],\n",
       "          [ 1.4446954 ,  0.7146747 ],\n",
       "          [ 2.659856  , -0.21724151],\n",
       "          [ 2.9009333 , -0.37294933],\n",
       "          [ 1.8691821 ,  0.50690883],\n",
       "          [ 2.7985132 , -0.69041383],\n",
       "          [ 1.9844807 ,  0.6020859 ],\n",
       "          [ 2.02204   ,  0.52286243],\n",
       "          [ 1.4759558 ,  0.72667277],\n",
       "          [ 1.4930912 ,  0.86409694],\n",
       "          [ 1.9760858 ,  0.37731975],\n",
       "          [ 1.8781172 ,  0.62663126],\n",
       "          [ 1.5987332 ,  0.6015532 ],\n",
       "          [ 1.7142282 ,  0.66127026],\n",
       "          [ 1.496836  ,  0.64660263],\n",
       "          [ 3.0113528 , -0.6241744 ],\n",
       "          [ 2.0407841 ,  0.562589  ],\n",
       "          [-3.0787919 , -0.5888765 ],\n",
       "          [ 2.694439  , -0.4700538 ],\n",
       "          [ 1.8968459 ,  0.50476635],\n",
       "          [ 2.145876  ,  0.34169132],\n",
       "          [ 1.9290216 ,  0.54183155],\n",
       "          [ 1.5724094 ,  0.83434063],\n",
       "          [ 1.6577921 ,  0.6829437 ],\n",
       "          [ 1.8847901 ,  0.7227865 ],\n",
       "          [ 1.6745707 ,  0.7984309 ],\n",
       "          [ 1.746977  ,  0.5961484 ],\n",
       "          [ 1.4720845 ,  0.72195405],\n",
       "          [ 1.7832175 ,  0.49445698],\n",
       "          [ 1.5391134 ,  0.85673213],\n",
       "          [ 1.5198781 ,  0.6302953 ],\n",
       "          [ 2.1365108 ,  0.38308927],\n",
       "          [ 1.7517897 ,  0.74580616],\n",
       "          [ 2.260527  ,  0.48600462],\n",
       "          [ 1.8114105 ,  0.9016445 ],\n",
       "          [ 1.4310589 ,  0.79048777],\n",
       "          [ 1.5917505 ,  0.81776154],\n",
       "          [ 1.6065246 ,  0.7957415 ],\n",
       "          [-3.0734131 , -0.86993676],\n",
       "          [ 2.033125  ,  0.2764689 ],\n",
       "          [ 1.6834097 ,  0.6147905 ],\n",
       "          [ 2.1785123 ,  0.5700999 ],\n",
       "          [ 1.3927017 ,  0.8658514 ],\n",
       "          [ 1.9877529 ,  0.76038605],\n",
       "          [ 1.7984359 ,  0.6866874 ],\n",
       "          [ 1.8716642 ,  0.89955056],\n",
       "          [ 1.6911002 ,  0.76629436],\n",
       "          [ 1.6178572 ,  0.6820742 ],\n",
       "          [ 1.6742339 ,  0.85209477],\n",
       "          [ 2.7961297 , -0.614576  ],\n",
       "          [ 1.8668447 ,  0.8897204 ],\n",
       "          [ 1.8660357 ,  0.35079938],\n",
       "          [ 1.661411  ,  0.58687   ],\n",
       "          [ 1.7127255 ,  0.5936488 ],\n",
       "          [ 1.977805  ,  0.77802503],\n",
       "          [ 2.286141  ,  0.1386293 ],\n",
       "          [ 1.9735674 ,  0.721382  ],\n",
       "          [ 2.2366283 ,  0.5491617 ],\n",
       "          [ 2.0011163 ,  0.682835  ],\n",
       "          [ 2.739253  , -0.85839754],\n",
       "          [ 1.7928253 ,  0.62373894],\n",
       "          [ 1.3638797 ,  0.83243257],\n",
       "          [ 1.9155825 ,  0.5106126 ],\n",
       "          [ 2.19005   ,  0.5077183 ],\n",
       "          [ 1.9676892 ,  0.5225667 ],\n",
       "          [ 1.8232765 ,  0.49302202],\n",
       "          [ 2.3653886 ,  0.34137857],\n",
       "          [ 3.1208813 , -0.45203865],\n",
       "          [ 2.0108547 ,  0.53661835],\n",
       "          [ 2.894323  , -0.2548065 ],\n",
       "          [ 2.831476  , -0.576007  ],\n",
       "          [ 2.1708233 ,  0.33232367],\n",
       "          [ 2.1329494 ,  0.38793463],\n",
       "          [ 1.706363  ,  0.66386974],\n",
       "          [ 1.9457113 ,  0.45881352],\n",
       "          [ 1.6652459 ,  0.57768923],\n",
       "          [ 1.7307783 ,  0.7432923 ],\n",
       "          [ 2.694613  , -0.60644007],\n",
       "          [ 2.844391  , -0.5349072 ],\n",
       "          [ 2.8587615 , -0.75722635],\n",
       "          [ 1.8216176 ,  0.6718058 ],\n",
       "          [ 2.8761702 , -0.6554594 ],\n",
       "          [ 2.7526963 , -0.4744842 ],\n",
       "          [ 1.8028008 ,  0.5768428 ],\n",
       "          [ 2.7681093 , -0.8092204 ]], dtype=float32)},\n",
       " 'weights': DeviceArray([0.00980392, 0.00980392, 0.00980392, 0.00980392, 0.00980392,\n",
       "              0.00980392, 0.00980392, 0.00980392, 0.00980392, 0.00980392,\n",
       "              0.00980392, 0.00980392, 0.00980392, 0.00980392, 0.00980392,\n",
       "              0.00980392, 0.00980392, 0.00980392, 0.00980392, 0.00980392,\n",
       "              0.00980392, 0.00980392, 0.00980392, 0.00980392, 0.00980392,\n",
       "              0.00980392, 0.00980392, 0.00980392, 0.00980392, 0.00980392,\n",
       "              0.00980392, 0.00980392, 0.00980392, 0.00980392, 0.00980392,\n",
       "              0.00980392, 0.00980392, 0.00980392, 0.00980392, 0.00980392,\n",
       "              0.00980392, 0.00980392, 0.00980392, 0.00980392, 0.00980392,\n",
       "              0.00980392, 0.00980392, 0.00980392, 0.00980392, 0.00980392,\n",
       "              0.00980392, 0.00980392, 0.00980392, 0.00980392, 0.00980392,\n",
       "              0.00980392, 0.00980392, 0.00980392, 0.00980392, 0.00980392,\n",
       "              0.00980392, 0.00980392, 0.00980392, 0.00980392, 0.00980392,\n",
       "              0.00980392, 0.00980392, 0.00980392, 0.00980392, 0.00980392,\n",
       "              0.00980392, 0.00980392, 0.00980392, 0.00980392, 0.00980392,\n",
       "              0.00980392, 0.00980392, 0.00980392, 0.00980392, 0.00980392,\n",
       "              0.00980392, 0.00980392, 0.00980392, 0.00980392, 0.00980392,\n",
       "              0.00980392, 0.00980392, 0.00980392, 0.00980392, 0.00980392,\n",
       "              0.00980392, 0.00980392, 0.00980392, 0.00980392, 0.00980392,\n",
       "              0.00980392, 0.00980392, 0.00980392, 0.00980392, 0.00980392,\n",
       "              0.00980392, 0.00980392], dtype=float64),\n",
       " 'ff_correction': <function __main__.ff_correction(pars, f)>,\n",
       " 'f': array([[-0.96035993, -0.9836215 , -0.99017885, ...,  0.42488771,\n",
       "          0.57498042,  0.4577844 ],\n",
       "        [-0.98591469, -0.95206382, -0.97205442, ...,  0.6390474 ,\n",
       "          0.33923561,  0.14441033],\n",
       "        [-0.97354612, -0.98962514,  0.98079069, ...,  0.47259324,\n",
       "          0.42965907,  0.70355408],\n",
       "        ...,\n",
       "        [-0.96256038, -0.99529229,  0.09177306, ...,  0.44080692,\n",
       "         -0.04932722,  0.49135891],\n",
       "        [-0.94253742, -0.89391799, -0.99959662, ...,  0.48754216,\n",
       "          0.46836192,  0.11186986],\n",
       "        [ 0.90263559, -0.9400195 ,  0.86167659, ..., -0.1261485 ,\n",
       "          0.51019545,  0.05991395]]),\n",
       " 'n_experiments': {'backbone1_gamma_3J': 2,\n",
       "  'backbone2_beta_epsilon_3J': 2,\n",
       "  'sugar_3J': 2,\n",
       "  'NOEs': 2},\n",
       " 'n_frames': 102}"
      ]
     },
     "execution_count": 17,
     "metadata": {},
     "output_type": "execute_result"
    }
   ],
   "source": [
    "vars(data.mol['AAAA'])"
   ]
  },
  {
   "cell_type": "code",
   "execution_count": 22,
   "metadata": {},
   "outputs": [
    {
     "name": "stdout",
     "output_type": "stream",
     "text": [
      "1.2945948672167045 1.294595583940625\n"
     ]
    }
   ],
   "source": [
    "print(out.loss, out.loss_explicit)"
   ]
  },
  {
   "cell_type": "code",
   "execution_count": 17,
   "metadata": {},
   "outputs": [
    {
     "ename": "NameError",
     "evalue": "name 'lambdas' is not defined",
     "output_type": "error",
     "traceback": [
      "\u001b[0;31m---------------------------------------------------------------------------\u001b[0m",
      "\u001b[0;31mNameError\u001b[0m                                 Traceback (most recent call last)",
      "\u001b[0;32m<ipython-input-17-2dddf4ce0e22>\u001b[0m in \u001b[0;36m<module>\u001b[0;34m\u001b[0m\n\u001b[0;32m----> 1\u001b[0;31m \u001b[0mlambdas\u001b[0m\u001b[0;34m\u001b[0m\u001b[0;34m\u001b[0m\u001b[0m\n\u001b[0m",
      "\u001b[0;31mNameError\u001b[0m: name 'lambdas' is not defined"
     ]
    }
   ],
   "source": [
    "lambdas"
   ]
  },
  {
   "cell_type": "code",
   "execution_count": 26,
   "metadata": {},
   "outputs": [],
   "source": [
    "out = minimizer(data, alpha=1.5)"
   ]
  },
  {
   "cell_type": "code",
   "execution_count": 19,
   "metadata": {},
   "outputs": [
    {
     "data": {
      "text/plain": [
       "dict_keys(['loss', 'min_lambdas', 'minis', 'time', 'D_KL_alpha', 'abs_difference', 'av_g', 'chi2', 'logZ_new', 'weights_new'])"
      ]
     },
     "execution_count": 19,
     "metadata": {},
     "output_type": "execute_result"
    }
   ],
   "source": [
    "vars(out).keys()"
   ]
  },
  {
   "cell_type": "code",
   "execution_count": 20,
   "metadata": {},
   "outputs": [
    {
     "data": {
      "text/plain": [
       "{'AAAA': {'backbone1_gamma_3J': DeviceArray([-0.14383808, -0.00373141], dtype=float64),\n",
       "  'backbone2_beta_epsilon_3J': DeviceArray([-0.14171542, -0.03066674], dtype=float64),\n",
       "  'sugar_3J': DeviceArray([-0.0162459 ,  0.24643319], dtype=float64),\n",
       "  'NOEs': DeviceArray([  389.57840425, -3176.60020902], dtype=float64)},\n",
       " 'CAAU': {'backbone1_gamma_3J': DeviceArray([0.11518549, 0.00292463], dtype=float64),\n",
       "  'backbone2_beta_epsilon_3J': DeviceArray([-0.02531414, -0.03830517], dtype=float64),\n",
       "  'sugar_3J': DeviceArray([0.18129277, 0.01856438], dtype=float64),\n",
       "  'NOEs': DeviceArray([  178.06783987, -1665.02939879], dtype=float64)}}"
      ]
     },
     "execution_count": 20,
     "metadata": {},
     "output_type": "execute_result"
    }
   ],
   "source": [
    "out.min_lambdas"
   ]
  },
  {
   "cell_type": "code",
   "execution_count": 20,
   "metadata": {},
   "outputs": [
    {
     "data": {
      "text/plain": [
       "{'AAAA': DeviceArray(4.63608732e-07, dtype=float64),\n",
       " 'CAAU': DeviceArray(4.80920487e-06, dtype=float64)}"
      ]
     },
     "execution_count": 20,
     "metadata": {},
     "output_type": "execute_result"
    }
   ],
   "source": [
    "out.abs_difference"
   ]
  },
  {
   "cell_type": "code",
   "execution_count": 24,
   "metadata": {},
   "outputs": [
    {
     "name": "stdout",
     "output_type": "stream",
     "text": [
      "{'AAAA': DeviceArray(1.66750715, dtype=float64), 'CAAU': DeviceArray(0.42253844, dtype=float64)}\n"
     ]
    }
   ],
   "source": [
    "print(out.abs_difference)"
   ]
  },
  {
   "cell_type": "code",
   "execution_count": 13,
   "metadata": {},
   "outputs": [
    {
     "data": {
      "text/plain": [
       "dict_keys(['loss', 'minis', 'loss_explicit', 'D_KL_alpha', 'abs_difference', 'av_g', 'chi2', 'logZ_new', 'weights_new'])"
      ]
     },
     "execution_count": 13,
     "metadata": {},
     "output_type": "execute_result"
    }
   ],
   "source": [
    "vars(out).keys()"
   ]
  },
  {
   "cell_type": "code",
   "execution_count": 15,
   "metadata": {},
   "outputs": [
    {
     "data": {
      "text/plain": [
       "0.9795744972945789"
      ]
     },
     "execution_count": 15,
     "metadata": {},
     "output_type": "execute_result"
    }
   ],
   "source": [
    "out.loss\n",
    "\n",
    "for k in out.minis.keys():\n",
    "    out.minis[k].fun\n",
    "    out.minis[k].jac # array\n",
    "    out.minis[k].hess_inv # array\n",
    "    out.minis[k].nfev\n",
    "    out.minis[k].status\n",
    "    out.minis[k].status # boolean\n",
    "    out.minis[k].x # array\n",
    "\n",
    "out.loss_explicit\n",
    "out.D_KL_alpha # dict\n",
    "out.abs_difference # dict\n",
    "\n",
    "\n"
   ]
  },
  {
   "cell_type": "code",
   "execution_count": 38,
   "metadata": {},
   "outputs": [
    {
     "data": {
      "text/plain": [
       "{'AAAA': DeviceArray(1.66750701, dtype=float64),\n",
       " 'CAAU': DeviceArray(0.42432127, dtype=float64)}"
      ]
     },
     "execution_count": 38,
     "metadata": {},
     "output_type": "execute_result"
    }
   ],
   "source": [
    "out.abs_difference"
   ]
  },
  {
   "cell_type": "code",
   "execution_count": 39,
   "metadata": {},
   "outputs": [
    {
     "data": {
      "text/plain": [
       "{'AAAA': {'backbone1_gamma_3J': DeviceArray([3.30983059, 1.93880851], dtype=float64),\n",
       "  'backbone2_beta_epsilon_3J': DeviceArray([8.01428114, 3.78043748], dtype=float64),\n",
       "  'sugar_3J': DeviceArray([2.1655801 , 4.30178665], dtype=float64),\n",
       "  'NOEs': DeviceArray([1.57755869e-03, 4.74169667e-05], dtype=float64),\n",
       "  'uNOEs': DeviceArray([1.27004099e-05, 2.81632871e-06], dtype=float64)},\n",
       " 'CAAU': {'backbone1_gamma_3J': DeviceArray([1.99908652, 3.76260489], dtype=float64),\n",
       "  'backbone2_beta_epsilon_3J': DeviceArray([3.60637195, 2.07788195], dtype=float64),\n",
       "  'sugar_3J': DeviceArray([1.60420163, 4.59034891], dtype=float64),\n",
       "  'NOEs': DeviceArray([6.81823468e-04, 2.89600933e-05], dtype=float64),\n",
       "  'uNOEs': DeviceArray([4.43725944e-06, 1.22278801e-05], dtype=float64)}}"
      ]
     },
     "execution_count": 39,
     "metadata": {},
     "output_type": "execute_result"
    }
   ],
   "source": [
    "out.av_g"
   ]
  },
  {
   "cell_type": "code",
   "execution_count": 24,
   "metadata": {},
   "outputs": [
    {
     "data": {
      "text/plain": [
       "dict_keys(['fun', 'jac', 'hess_inv', 'nfev', 'njev', 'status', 'success', 'message', 'x', 'nit'])"
      ]
     },
     "execution_count": 24,
     "metadata": {},
     "output_type": "execute_result"
    }
   ],
   "source": [
    "out.minis['AAAA'].keys()"
   ]
  },
  {
   "cell_type": "code",
   "execution_count": 32,
   "metadata": {},
   "outputs": [
    {
     "data": {
      "text/plain": [
       "array([-1.45172739e-01, -1.80982654e-02, -1.29232939e-01, -5.88983853e-03,\n",
       "        4.91465321e-02,  2.67252139e-01,  3.04496095e-03, -1.29472416e-04,\n",
       "       -5.47116642e-04, -2.60681573e-04])"
      ]
     },
     "execution_count": 32,
     "metadata": {},
     "output_type": "execute_result"
    }
   ],
   "source": [
    "out.minis['AAAA'].x"
   ]
  },
  {
   "cell_type": "markdown",
   "metadata": {},
   "source": [
    "### test for minimizer"
   ]
  },
  {
   "cell_type": "code",
   "execution_count": 11,
   "metadata": {},
   "outputs": [],
   "source": [
    "from MDRefine import minimizer"
   ]
  },
  {
   "cell_type": "code",
   "execution_count": 12,
   "metadata": {},
   "outputs": [],
   "source": [
    "result = minimizer(data, alpha=1.5)"
   ]
  },
  {
   "cell_type": "code",
   "execution_count": 9,
   "metadata": {},
   "outputs": [
    {
     "data": {
      "text/plain": [
       "dict_keys(['loss', 'min_lambdas', 'minis', 'time', 'D_KL_alpha', 'abs_difference', 'av_g', 'chi2', 'logZ_new', 'weights_new'])"
      ]
     },
     "execution_count": 9,
     "metadata": {},
     "output_type": "execute_result"
    }
   ],
   "source": [
    "vars(result).keys()"
   ]
  },
  {
   "cell_type": "raw",
   "metadata": {},
   "source": [
    "with open('DATA_test/result1.pkl', 'wb') as f:\n",
    "    pickle.dump(vars(result), f)"
   ]
  },
  {
   "cell_type": "markdown",
   "metadata": {},
   "source": [
    "save also output of scipy.optimize.minimize as dict in order to avoid warnings"
   ]
  },
  {
   "cell_type": "code",
   "execution_count": 4,
   "metadata": {},
   "outputs": [],
   "source": [
    "test_result = pickle.load(open('DATA_test/result1.pkl', 'rb'))"
   ]
  },
  {
   "cell_type": "code",
   "execution_count": 5,
   "metadata": {},
   "outputs": [],
   "source": [
    "test_result['minis']['AAAA'] = dict(test_result['minis']['AAAA'])\n",
    "test_result['minis']['CAAU'] = dict(test_result['minis']['CAAU'])"
   ]
  },
  {
   "cell_type": "raw",
   "metadata": {},
   "source": [
    "with open('DATA_test/result1.pkl', 'wb') as f:\n",
    "    pickle.dump(test_result, f)"
   ]
  },
  {
   "cell_type": "raw",
   "metadata": {},
   "source": []
  },
  {
   "cell_type": "code",
   "execution_count": 11,
   "metadata": {},
   "outputs": [],
   "source": [
    "loaded_result = pickle.load(open('DATA_test/result1.pkl', 'rb'))"
   ]
  },
  {
   "cell_type": "markdown",
   "metadata": {},
   "source": [
    "### test for select_traintest"
   ]
  },
  {
   "cell_type": "code",
   "execution_count": 5,
   "metadata": {},
   "outputs": [],
   "source": [
    "from MDRefine import minimizer, select_traintest"
   ]
  },
  {
   "cell_type": "code",
   "execution_count": 6,
   "metadata": {},
   "outputs": [],
   "source": [
    "def forward_model_regularization(coeffs, coeffs_0):\n",
    "    regularization = (\n",
    "    3/8*(coeffs[0]-coeffs_0['A_gamma'])**2+1/2*(coeffs[1]-coeffs_0['B_gamma'])**2+(coeffs[2]-coeffs_0['C_gamma'])**2+(coeffs[0]-coeffs_0['A_gamma'])*(coeffs[2]-coeffs_0['C_gamma'])+\n",
    "    3/8*(coeffs[3]-coeffs_0['A_beta'])**2+1/2*(coeffs[4]-coeffs_0['B_beta'])**2+(coeffs[5]-coeffs_0['C_beta'])**2+(coeffs[3]-coeffs_0['A_beta'])*(coeffs[5]-coeffs_0['C_beta'])+\n",
    "    3/8*(coeffs[6]-coeffs_0['A_sugar'])**2+1/2*(coeffs[7]-coeffs_0['B_sugar'])**2+(coeffs[8]-coeffs_0['C_sugar'])**2+(coeffs[6]-coeffs_0['A_sugar'])*(coeffs[8]-coeffs_0['C_sugar']))\n",
    "\n",
    "    return regularization\n",
    "\n",
    "regularization = {'force_field_reg': 'KL divergence', 'forward_model_reg': forward_model_regularization}"
   ]
  },
  {
   "cell_type": "code",
   "execution_count": 9,
   "metadata": {},
   "outputs": [
    {
     "name": "stdout",
     "output_type": "stream",
     "text": [
      "Input random_state employed both for test_obs and test_frames\n"
     ]
    },
    {
     "name": "stderr",
     "output_type": "stream",
     "text": [
      "../MDRefine/loss_and_minimizer.py:1141: FutureWarning: Using a non-tuple sequence for multidimensional indexing is deprecated; use `arr[tuple(seq)]` instead of `arr[seq]`. In the future this will be interpreted as an array index, `arr[np.array(seq)]`, which will result either in an error or a different result.\n",
      "  w = data_mol.weights[test_frames_mol]\n"
     ]
    },
    {
     "name": "stdout",
     "output_type": "stream",
     "text": [
      "(<MDRefine.loss_and_minimizer.select_traintest.<locals>.my_data_traintest object at 0x7f73efaaeef0>, <MDRefine.loss_and_minimizer.select_traintest.<locals>.my_data_traintest object at 0x7f73efaaef28>, {'AAAA': {'backbone2_beta_epsilon_3J': DeviceArray([0, 1], dtype=int64), 'backbone1_gamma_3J': DeviceArray([], dtype=int64), 'sugar_3J': DeviceArray([], dtype=int64), 'NOEs': DeviceArray([], dtype=int64)}, 'CAAU': {'backbone2_beta_epsilon_3J': DeviceArray([0], dtype=int64), 'sugar_3J': DeviceArray([0], dtype=int64), 'backbone1_gamma_3J': DeviceArray([], dtype=int64), 'NOEs': DeviceArray([], dtype=int64)}}, {'AAAA': DeviceArray([ 1,  3,  6, 15, 23, 26, 43, 47, 53, 54, 56, 58, 60, 62, 70,\n",
      "             71, 74, 85, 94, 95], dtype=int64), 'CAAU': DeviceArray([  0,   2,  10,  23,  33,  34,  36,  37,  43,  46,  56,  58,\n",
      "              59,  68,  71,  78,  86,  95,  96, 100], dtype=int64)})\n"
     ]
    }
   ],
   "source": [
    "out = select_traintest(data, random_state=0)\n",
    "print(out)\n",
    "\n",
    "data_train = out[0]\n",
    "data_test = out[1]"
   ]
  },
  {
   "cell_type": "code",
   "execution_count": 28,
   "metadata": {},
   "outputs": [],
   "source": [
    "from MDRefine import compute_chi2"
   ]
  },
  {
   "cell_type": "code",
   "execution_count": 29,
   "metadata": {},
   "outputs": [
    {
     "data": {
      "text/plain": [
       "({'backbone1_gamma_3J': DeviceArray([2.30906413, 2.47600636], dtype=float64),\n",
       "  'sugar_3J': DeviceArray([3.88398218, 4.82629187], dtype=float64),\n",
       "  'NOEs': DeviceArray([1.88726155e-03, 4.26039734e-05], dtype=float64)},\n",
       " {'backbone1_gamma_3J': DeviceArray(1.08865414, dtype=float64),\n",
       "  'sugar_3J': DeviceArray(2.48164327, dtype=float64),\n",
       "  'NOEs': DeviceArray(6.25717668, dtype=float64)},\n",
       " {'backbone1_gamma_3J': DeviceArray([-0.99395724,  0.31733758], dtype=float64),\n",
       "  'sugar_3J': DeviceArray([1.25598812, 0.95086125], dtype=float64),\n",
       "  'NOEs': DeviceArray([ 2.43974521, -0.55210507], dtype=float64)},\n",
       " DeviceArray(9.82747409, dtype=float64))"
      ]
     },
     "execution_count": 29,
     "metadata": {},
     "output_type": "execute_result"
    }
   ],
   "source": [
    "compute_chi2(data_train.mol['AAAA'].ref, data_train.mol['AAAA'].weights, data_train.mol['AAAA'].g, data_train.mol['AAAA'].gexp)"
   ]
  },
  {
   "cell_type": "code",
   "execution_count": 12,
   "metadata": {},
   "outputs": [
    {
     "data": {
      "text/plain": [
       "{'backbone2_beta_epsilon_3J': array([[3.7, 1.5]]),\n",
       " 'sugar_3J': array([[1. , 1.5]])}"
      ]
     },
     "execution_count": 12,
     "metadata": {},
     "output_type": "execute_result"
    }
   ],
   "source": [
    "data_test.mol['CAAU'].gexp_new"
   ]
  },
  {
   "cell_type": "code",
   "execution_count": 11,
   "metadata": {},
   "outputs": [
    {
     "name": "stdout",
     "output_type": "stream",
     "text": [
      "New evaluation:\n",
      "loss:  0.7612440289861\n",
      "gradient:  [-0.54068472  0.11795326 -0.0109484   0.02555865  0.03171804 -0.002445\n",
      " -0.0050247  -0.01178146  0.2707445   0.33788134  0.45826581] \n",
      "\n",
      "New evaluation:\n",
      "loss:  1.6187981299096614\n",
      "gradient:  [ 2.10244658 -0.15234032 -0.11672741 -0.08500067 -0.24836887  0.00528501\n",
      " -0.01244037 -0.0167208  -0.78274413 -0.45834792 -1.39662136] \n",
      "\n",
      "New evaluation:\n",
      "loss:  0.6868960863143665\n",
      "gradient:  [ 0.17109476  0.07232597 -0.03295275  0.00326952 -0.02556601 -0.00020869\n",
      " -0.00510116 -0.00916136  0.05826983  0.17863232  0.07502135] \n",
      "\n",
      "New evaluation:\n",
      "loss:  0.7391789973139598\n",
      "gradient:  [-0.5559358  -0.02594162  0.04794161  0.03102466  0.1432578   0.0127858\n",
      "  0.00505491  0.0227649  -0.23087195 -0.18205785 -0.40692797] \n",
      "\n",
      "New evaluation:\n",
      "loss:  0.674267797388161\n",
      "gradient:  [-0.05390883  0.0412979  -0.00810748  0.01194915  0.02635007  0.00376384\n",
      " -0.00198807  0.00061825 -0.02889941  0.06952625 -0.07126729] \n",
      "\n",
      "New evaluation:\n",
      "loss:  0.6711860848306833\n",
      "gradient:  [ 0.02978914 -0.00528905 -0.02298522 -0.00758305 -0.01678193  0.00198588\n",
      "  0.00039024 -0.00213563  0.02814584 -0.05636133  0.04306488] \n",
      "\n",
      "New evaluation:\n",
      "loss:  0.6689288415263833\n",
      "gradient:  [ 6.55276642e-03 -2.81947573e-04 -3.38111591e-03  1.59092697e-04\n",
      "  1.91898893e-02  1.67748794e-03  8.95146613e-05 -1.69914007e-03\n",
      "  1.00619301e-03 -9.03865286e-03 -7.30328837e-03] \n",
      "\n",
      "New evaluation:\n",
      "loss:  0.6689406030790993\n",
      "gradient:  [-9.09977433e-03  3.75870362e-04 -2.18344198e-02 -2.85595591e-03\n",
      " -2.35071518e-02  2.42577901e-03  1.48129447e-04  9.49801858e-04\n",
      "  6.26775393e-05  7.41245688e-03 -7.68149204e-03] \n",
      "\n",
      "New evaluation:\n",
      "loss:  0.6688311798062456\n",
      "gradient:  [-2.16713604e-03  7.08202087e-04 -1.22673180e-02 -1.45596481e-03\n",
      " -1.35976189e-03  1.99689956e-03  5.49482107e-05 -6.07325955e-04\n",
      "  2.65553336e-03  1.40074709e-03 -3.92166453e-03] \n",
      "\n",
      "New evaluation:\n",
      "loss:  0.6686689578036819\n",
      "gradient:  [-2.44898247e-03 -3.99541241e-04 -7.32192541e-03 -6.65647241e-05\n",
      "  1.56768109e-03  1.40998548e-03  1.73584652e-05 -4.71586870e-04\n",
      "  2.46273215e-03  3.28179298e-03 -1.82273559e-03] \n",
      "\n",
      "New evaluation:\n",
      "loss:  0.6685262026107265\n",
      "gradient:  [-1.64568566e-03 -1.06971183e-03 -9.75457526e-04 -2.03663670e-04\n",
      " -2.43717690e-03  1.84074428e-05  3.43835406e-04  3.47209273e-04\n",
      "  1.02034383e-03  2.34804913e-03  1.32741343e-03] \n",
      "\n",
      "New evaluation:\n",
      "loss:  0.6685213957765208\n",
      "gradient:  [-3.76424257e-04 -1.40285767e-04 -2.85650639e-04 -1.70540167e-04\n",
      " -9.01491126e-04 -2.40562172e-04  2.19090536e-06 -2.19593736e-04\n",
      "  8.75057143e-04  1.08743906e-03  1.06507810e-03] \n",
      "\n",
      "New evaluation:\n",
      "loss:  0.6685202634746263\n",
      "gradient:  [ 1.40319638e-04  2.53168940e-04  3.79324817e-05 -2.24796609e-05\n",
      " -4.66210973e-05  3.54985621e-04 -5.70338694e-05  7.47096512e-04\n",
      "  3.44724169e-04  4.43140595e-05  1.95512209e-04] \n",
      "\n"
     ]
    },
    {
     "data": {
      "text/plain": [
       "<MDRefine.loss_and_minimizer.minimizer.<locals>.Result_class at 0x7f73ec040ef0>"
      ]
     },
     "execution_count": 11,
     "metadata": {},
     "output_type": "execute_result"
    }
   ],
   "source": [
    "minimizer(data_train, regularization=regularization, alpha=1, beta=1, gamma=1, data_test=data_test)\n",
    "\n",
    "    #    original_data, *, regularization: dict = None, alpha: float = +numpy.inf, beta: float = +numpy.inf, gamma: float = +numpy.inf,\n",
    "    #     gtol: float = 1e-3, gtol_inn: float = 1e-3, data_test: dict = None, starting_pars: numpy.ndarray = None):\n"
   ]
  },
  {
   "cell_type": "markdown",
   "metadata": {},
   "source": [
    "### test for MDRefinement"
   ]
  },
  {
   "cell_type": "code",
   "execution_count": 14,
   "metadata": {},
   "outputs": [],
   "source": [
    "from MDRefine import MDRefinement"
   ]
  },
  {
   "cell_type": "code",
   "execution_count": 15,
   "metadata": {},
   "outputs": [],
   "source": [
    "def forward_model_regularization(coeffs, coeffs_0):\n",
    "    regularization = (\n",
    "    3/8*(coeffs[0]-coeffs_0['A_gamma'])**2+1/2*(coeffs[1]-coeffs_0['B_gamma'])**2+(coeffs[2]-coeffs_0['C_gamma'])**2+(coeffs[0]-coeffs_0['A_gamma'])*(coeffs[2]-coeffs_0['C_gamma'])+\n",
    "    3/8*(coeffs[3]-coeffs_0['A_beta'])**2+1/2*(coeffs[4]-coeffs_0['B_beta'])**2+(coeffs[5]-coeffs_0['C_beta'])**2+(coeffs[3]-coeffs_0['A_beta'])*(coeffs[5]-coeffs_0['C_beta'])+\n",
    "    3/8*(coeffs[6]-coeffs_0['A_sugar'])**2+1/2*(coeffs[7]-coeffs_0['B_sugar'])**2+(coeffs[8]-coeffs_0['C_sugar'])**2+(coeffs[6]-coeffs_0['A_sugar'])*(coeffs[8]-coeffs_0['C_sugar']))\n",
    "\n",
    "    return regularization\n",
    "\n",
    "regularization = {'force_field_reg': 'KL divergence', 'forward_model_reg': forward_model_regularization}"
   ]
  },
  {
   "cell_type": "code",
   "execution_count": 21,
   "metadata": {},
   "outputs": [
    {
     "name": "stdout",
     "output_type": "stream",
     "text": [
      "loading data from directory...\n",
      "loading  AAAA\n",
      "loading  CAAU\n",
      "done\n",
      "\n",
      "search for optimal hyperparameters ...\n",
      "Input random_state employed both for test_obs and test_frames\n"
     ]
    },
    {
     "name": "stderr",
     "output_type": "stream",
     "text": [
      "../MDRefine/loss_and_minimizer.py:1144: FutureWarning: Using a non-tuple sequence for multidimensional indexing is deprecated; use `arr[tuple(seq)]` instead of `arr[seq]`. In the future this will be interpreted as an array index, `arr[np.array(seq)]`, which will result either in an error or a different result.\n",
      "  w = data_mol.weights[test_frames_mol]\n"
     ]
    },
    {
     "name": "stdout",
     "output_type": "stream",
     "text": [
      "Input random_state employed both for test_obs and test_frames\n",
      "Input random_state employed both for test_obs and test_frames\n",
      "Input random_state employed both for test_obs and test_frames\n",
      "Input random_state employed both for test_obs and test_frames\n",
      "\n",
      "log10 hyperpars:  [('alpha', 0.0), ('beta', 0.0), ('gamma', 0.0)]\n",
      "av. chi2:  4.697786266513191\n",
      "av. gradient:  [-3.05034953 -0.42527657  0.68407875]\n",
      "\n",
      "log10 hyperpars:  [('alpha', 0.9668579060932906), ('beta', 0.13479832635946298), ('gamma', -0.2168298887044528)]\n",
      "av. chi2:  5.316094771690143\n",
      "av. gradient:  [ 3.77295022 -0.4521357   0.14764627]\n",
      "\n",
      "log10 hyperpars:  [('alpha', 0.36924104848643996), ('beta', 0.05147920397144987), ('gamma', -0.08280688914458248)]\n",
      "av. chi2:  4.18724522883611\n",
      "av. gradient:  [ 0.14268008 -0.07403945  0.20080806]\n",
      "\n",
      "optimal hyperparameters: alpha: 2.340135734692994 beta: 1.1258465568636136 gamma: 0.8264053324749188\n",
      "\n",
      "refinement with optimal hyperparameters...\n",
      "New evaluation:\n",
      "loss:  1.693658375638443\n",
      "gradient:  [-1.40800486  0.34058859 -0.04376839 -0.01756215 -0.04567493 -0.25806046\n",
      " -0.31820921 -0.43751607  0.32037587  0.26138646  0.79104463] \n",
      "\n",
      "New evaluation:\n",
      "loss:  2.7726745612322454\n",
      "gradient:  [ 2.30743569 -0.21837128 -0.17142892 -0.2037734  -0.43292076  0.3147151\n",
      "  0.22519342  0.71787315 -0.60956847 -0.25579436 -1.1173253 ] \n",
      "\n",
      "New evaluation:\n",
      "loss:  1.464256254375667\n",
      "gradient:  [ 0.29278231  0.20293847 -0.08084842 -0.06385642 -0.15100486 -0.10374941\n",
      " -0.16809438 -0.12757368  0.07732108  0.12330093  0.29232685] \n",
      "\n",
      "New evaluation:\n",
      "loss:  1.7269560625324007\n",
      "gradient:  [-0.91077472 -0.09136958  0.22410623  0.1271151   0.5273443   0.22857949\n",
      "  0.18003798  0.58772683 -0.51782008 -0.2726917  -0.80770031] \n",
      "\n",
      "New evaluation:\n",
      "loss:  1.416913825076244\n",
      "gradient:  [-0.03568645  0.10767688  0.00548712 -0.01001493  0.04067479 -0.00758662\n",
      " -0.06689753  0.07743874 -0.08815667  0.01319407 -0.01715454] \n",
      "\n",
      "New evaluation:\n",
      "loss:  1.3995251521164978\n",
      "gradient:  [ 0.01294082 -0.01015288 -0.02065506 -0.00664148 -0.01848825 -0.04389245\n",
      "  0.00712321 -0.01517067 -0.05767225 -0.01124581  0.00423597] \n",
      "\n",
      "New evaluation:\n",
      "loss:  1.3966460157618596\n",
      "gradient:  [ 0.01827543 -0.02227068  0.0099687   0.00934317  0.0407727   0.00657008\n",
      "  0.04067246  0.06813832  0.00050203  0.01704559  0.07792231] \n",
      "\n",
      "New evaluation:\n",
      "loss:  1.3922569748927127\n",
      "gradient:  [ 0.00177528 -0.02586666  0.0083219   0.0105839   0.03113131 -0.00391146\n",
      "  0.01602665  0.02356778 -0.00352906  0.01475134  0.03628143] \n",
      "\n",
      "New evaluation:\n",
      "loss:  1.3903581132571674\n",
      "gradient:  [-0.02056895 -0.0088256  -0.02341597 -0.00460802 -0.04528112  0.01179428\n",
      "  0.00240505  0.02473248 -0.00111298 -0.00078665 -0.00270797] \n",
      "\n",
      "New evaluation:\n",
      "loss:  1.3902907746904083\n",
      "gradient:  [ 0.00695683  0.00569     0.01556948  0.00417373  0.03197826 -0.01335549\n",
      " -0.01402133 -0.03589449 -0.00124061 -0.00753432 -0.01328089] \n",
      "\n",
      "New evaluation:\n",
      "loss:  1.3897530832996812\n",
      "gradient:  [-6.69845691e-03 -1.42443577e-03 -3.29407716e-03  5.82900747e-05\n",
      " -5.30970059e-03 -9.39523452e-04 -5.76449115e-03 -5.90234854e-03\n",
      " -1.19609921e-03 -4.06386343e-03 -8.44572306e-03] \n",
      "\n",
      "New evaluation:\n",
      "loss:  1.3896851203107217\n",
      "gradient:  [ 3.51852634e-04 -5.88884208e-04 -9.76466479e-04 -1.61403402e-04\n",
      " -7.15656703e-05 -8.91772023e-04 -7.52480324e-04 -1.08526436e-03\n",
      "  2.24023586e-04  1.20398815e-03 -3.25709479e-04] \n",
      "\n",
      "New evaluation:\n",
      "loss:  1.3896825445213095\n",
      "gradient:  [ 1.93364989e-04 -7.95314537e-05 -6.24112846e-04 -7.95351122e-05\n",
      "  2.59895119e-04 -4.81833108e-04 -3.53413966e-04 -5.02371814e-04\n",
      "  4.18924965e-04  2.99108524e-04  6.02669527e-05] \n",
      "\n",
      "\n",
      "done\n"
     ]
    }
   ],
   "source": [
    "out = MDRefinement(infos, regularization=regularization, starting_alpha=1, starting_beta=1, starting_gamma=1, which_set='validation', results_folder_name='DATA_test/results')"
   ]
  },
  {
   "cell_type": "code",
   "execution_count": 28,
   "metadata": {},
   "outputs": [
    {
     "name": "stdout",
     "output_type": "stream",
     "text": [
      "<class 'bytes'>\n",
      "CONVERGENCE: NORM_OF_PROJECTED_GRADIENT_<=_PGTOL\n"
     ]
    }
   ],
   "source": [
    "v = b'CONVERGENCE: NORM_OF_PROJECTED_GRADIENT_<=_PGTOL'\n",
    "\n",
    "print(type(v))\n",
    "\n",
    "if isinstance(v, bytes):\n",
    "    print(str(v, 'utf-8'))"
   ]
  },
  {
   "cell_type": "code",
   "execution_count": 27,
   "metadata": {},
   "outputs": [],
   "source": [
    "path_list = ['DATA_test/' + s + '/' for s in os.listdir('DATA_test/') if s[:7] == 'results']\n"
   ]
  },
  {
   "cell_type": "code",
   "execution_count": 28,
   "metadata": {},
   "outputs": [],
   "source": [
    "for s in ['ff_AAAA', 'ff_CAAU', 'new_AAAA', 'new_CAAU']:\n",
    "\n",
    "    my_vec0 = np.load(path_list[0] + 'weights_%s.npy' % s)\n",
    "    my_vec1 = np.load(path_list[1] + 'weights_%s.npy' % s)\n",
    "\n",
    "    assert np.sum(my_vec0 - my_vec1)**2 < 1e-5\n"
   ]
  },
  {
   "cell_type": "code",
   "execution_count": 25,
   "metadata": {},
   "outputs": [],
   "source": [
    "import pandas"
   ]
  },
  {
   "cell_type": "code",
   "execution_count": 56,
   "metadata": {},
   "outputs": [],
   "source": [
    "for s in ['hyper_search', 'min_lambdas', 'result']:\n",
    "\n",
    "    if s == 'result': usecols = lambda x: x != 'time'\n",
    "    else: usecols = None\n",
    "\n",
    "    my_vec0 = np.array(pandas.read_csv(path_list[0] + s, index_col=0, usecols=usecols))\n",
    "    my_vec1 = np.array(pandas.read_csv(path_list[1] + s, index_col=0, usecols=usecols))\n",
    "\n",
    "    assert np.sum(my_vec0 - my_vec1)**2 < 1e-5"
   ]
  },
  {
   "cell_type": "code",
   "execution_count": 69,
   "metadata": {},
   "outputs": [
    {
     "name": "stdout",
     "output_type": "stream",
     "text": [
      "stride\n",
      "starting_alpha\n",
      "starting_beta\n",
      "starting_gamma\n",
      "random_states\n",
      "which_set\n",
      "gtol\n",
      "ftol\n"
     ]
    }
   ],
   "source": [
    "my_df0 = pandas.read_csv(path_list[0] + 'input', index_col=0, usecols=usecols)\n",
    "my_df1 = pandas.read_csv(path_list[1] + 'input', index_col=0, usecols=usecols)\n",
    "\n",
    "assert list(my_df0.columns) == list(my_df1.columns)\n",
    "\n",
    "for s in list(my_df0.columns):\n",
    "    assert my_df0[s][0] == my_df1[s][0]"
   ]
  },
  {
   "cell_type": "code",
   "execution_count": 31,
   "metadata": {},
   "outputs": [
    {
     "name": "stdout",
     "output_type": "stream",
     "text": [
      "[[0 0]\n",
      " [0 1]\n",
      " [0 2]\n",
      " [0 3]\n",
      " [1 0]\n",
      " [1 1]\n",
      " [1 2]\n",
      " [1 3]\n",
      " [2 0]\n",
      " [2 1]\n",
      " [2 2]\n",
      " [2 3]]\n",
      "[[0.52922059 0.25758993 0.20693372 0.83827828]\n",
      " [0.5290291  0.898943   0.82404715 0.27793765]\n",
      " [0.35514264 0.15783067 0.32902135 0.49281009]]\n",
      "[0.52922059 0.25758993 0.20693372 0.83827828 0.5290291  0.898943\n",
      " 0.82404715 0.27793765 0.35514264 0.15783067 0.32902135 0.49281009]\n",
      "5.100697732913282\n"
     ]
    }
   ],
   "source": [
    "v1 = np.random.random((3,4))\n",
    "v2 = np.random.random((3,4))\n",
    "\n",
    "wh = np.argwhere(v1 == 0)\n",
    "\n",
    "if wh.shape[0] != 0:\n",
    "    assert v1[v1 == 0] == v2[v1 == 0]\n",
    "\n",
    "wh = np.argwhere(v1 != 0)\n",
    "\n",
    "if wh.shape[0] != 0:\n",
    "    print(np.sum((v2[v1 != 0] - v1[v1 != 0])**2/v1[v1 != 0]))"
   ]
  }
 ],
 "metadata": {
  "kernelspec": {
   "display_name": "Python 3.6.8 64-bit",
   "language": "python",
   "name": "python3"
  },
  "language_info": {
   "codemirror_mode": {
    "name": "ipython",
    "version": 3
   },
   "file_extension": ".py",
   "mimetype": "text/x-python",
   "name": "python",
   "nbconvert_exporter": "python",
   "pygments_lexer": "ipython3",
   "version": "3.6.8"
  },
  "orig_nbformat": 4,
  "vscode": {
   "interpreter": {
    "hash": "916dbcbb3f70747c44a77c7bcd40155683ae19c65e1c03b4aa3499c5328201f1"
   }
  }
 },
 "nbformat": 4,
 "nbformat_minor": 2
}
